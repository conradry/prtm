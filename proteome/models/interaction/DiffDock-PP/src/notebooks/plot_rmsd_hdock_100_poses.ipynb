{
 "cells": [
  {
   "cell_type": "code",
   "execution_count": 71,
   "id": "669a6a60-69d0-4fa4-ae5d-94a49a7eb6d6",
   "metadata": {},
   "outputs": [],
   "source": [
    "import math\n",
    "import pandas as pd\n",
    "import os\n",
    "\n",
    "from biopandas.pdb import PandasPdb\n",
    "import numpy as np\n",
    "\n",
    "import torch\n",
    "\n",
    "import scipy.spatial as spa\n",
    "from tqdm import tqdm"
   ]
  },
  {
   "cell_type": "code",
   "execution_count": 72,
   "id": "acab54c4-2a05-4d8f-b307-261a4fc73c8d",
   "metadata": {},
   "outputs": [],
   "source": [
    "# Input: expects 3xN matrix of points\n",
    "# Returns such R, t so that rmsd(R @ A + t, B) is min\n",
    "# Uses Kabsch algorithm (https://en.wikipedia.org/wiki/Kabsch_algorithm)\n",
    "# R = 3x3 rotation matrix\n",
    "# t = 3x1 column vector\n",
    "# This already takes residue identity into account.\n",
    "def rigid_transform_Kabsch_3D(A, B):\n",
    "    assert A.shape[1] == B.shape[1]\n",
    "    num_rows, num_cols = A.shape\n",
    "    if num_rows != 3:\n",
    "        raise Exception(f\"matrix A is not 3xN, it is {num_rows}x{num_cols}\")\n",
    "    num_rows, num_cols = B.shape\n",
    "    if num_rows != 3:\n",
    "        raise Exception(f\"matrix B is not 3xN, it is {num_rows}x{num_cols}\")\n",
    "\n",
    "\n",
    "    # find mean column wise: 3 x 1\n",
    "    centroid_A = np.mean(A, axis=1, keepdims=True)\n",
    "    centroid_B = np.mean(B, axis=1, keepdims=True)\n",
    "\n",
    "    # subtract mean\n",
    "    Am = A - centroid_A\n",
    "    Bm = B - centroid_B\n",
    "\n",
    "    H = Am @ Bm.T\n",
    "\n",
    "    # find rotation\n",
    "    U, S, Vt = np.linalg.svd(H)\n",
    "\n",
    "    R = Vt.T @ U.T\n",
    "\n",
    "    # special reflection case\n",
    "    if np.linalg.det(R) < 0:\n",
    "        # print(\"det(R) < R, reflection detected!, correcting for it ...\")\n",
    "        SS = np.diag([1.,1.,-1.])\n",
    "        R = (Vt.T @ SS) @ U.T\n",
    "    assert math.fabs(np.linalg.det(R) - 1) < 1e-5\n",
    "\n",
    "    t = -R @ centroid_A + centroid_B\n",
    "    return R, t"
   ]
  },
  {
   "cell_type": "code",
   "execution_count": 73,
   "id": "e9c1340e-af94-4246-aa88-d15cb65bc4d5",
   "metadata": {},
   "outputs": [],
   "source": [
    "def compute_rmsd(pred, true):\n",
    "    return np.sqrt(np.mean(np.sum((pred - true) ** 2, axis=1)))"
   ]
  },
  {
   "cell_type": "code",
   "execution_count": 74,
   "id": "c60eb4c0-05f3-4e4b-ba47-6b644a598d51",
   "metadata": {},
   "outputs": [],
   "source": [
    "def get_rmsd_summary(rmsds):\n",
    "    rmsds_np = np.array(rmsds)\n",
    "    return {\n",
    "        'mean': np.mean(rmsds_np),\n",
    "        'median': np.median(rmsds_np),\n",
    "        'std': np.std(rmsds_np),\n",
    "        'lt1': 100 * (rmsds_np < 1.0).sum() / len(rmsds_np),\n",
    "        'lt2': 100 * (rmsds_np < 2.0).sum() / len(rmsds_np),\n",
    "        'lt5': 100 * (rmsds_np < 5.0).sum() / len(rmsds_np),\n",
    "        'lt10': 100 * (rmsds_np < 10.0).sum() / len(rmsds_np)\n",
    "    }"
   ]
  },
  {
   "cell_type": "code",
   "execution_count": 75,
   "id": "7fed329c-0cd2-4adc-8c76-3c537e542ad8",
   "metadata": {},
   "outputs": [],
   "source": [
    "class RMSDComputer():\n",
    "    def __init__(self):\n",
    "        self.complex_rmsd_list = []\n",
    "        self.ligand_rmsd_list = []\n",
    "    \n",
    "    def update_all_rmsd(self, ligand_coors_pred, ligand_coors_true, receptor_coors):\n",
    "        complex_rmsd = self.update_complex_rmsd(ligand_coors_pred, ligand_coors_true, receptor_coors)\n",
    "        ligand_rmsd = self.update_ligand_rmsd(ligand_coors_pred, ligand_coors_true)\n",
    "        return complex_rmsd, ligand_rmsd\n",
    "\n",
    "    def update_complex_rmsd(self, ligand_coors_pred, ligand_coors_true, receptor_coors):\n",
    "        complex_coors_pred = np.concatenate((ligand_coors_pred, receptor_coors), axis=0)\n",
    "        complex_coors_true = np.concatenate((ligand_coors_true, receptor_coors), axis=0)\n",
    "\n",
    "        R,t = rigid_transform_Kabsch_3D(complex_coors_pred.T, complex_coors_true.T)\n",
    "        complex_coors_pred_aligned = (R @ complex_coors_pred.T + t).T\n",
    "\n",
    "        complex_rmsd = compute_rmsd(complex_coors_pred_aligned, complex_coors_true)\n",
    "        self.complex_rmsd_list.append(complex_rmsd)\n",
    "\n",
    "        return complex_rmsd\n",
    "\n",
    "    def update_ligand_rmsd(self, ligand_coors_pred, ligand_coors_true):\n",
    "        ligand_rmsd = compute_rmsd(ligand_coors_pred, ligand_coors_true)\n",
    "        self.ligand_rmsd_list.append(ligand_rmsd)\n",
    "        \n",
    "        return ligand_rmsd\n",
    "    \n",
    "    def summarize(self):\n",
    "        ligand_rmsd_summarized = get_rmsd_summary(self.ligand_rmsd_list) if self.ligand_rmsd_list else None\n",
    "        complex_rmsd_summarized = get_rmsd_summary(self.complex_rmsd_list)\n",
    "        return ligand_rmsd_summarized, complex_rmsd_summarized"
   ]
  },
  {
   "cell_type": "code",
   "execution_count": 77,
   "id": "787a2a70-94f7-4875-9168-c34c6f8c8281",
   "metadata": {},
   "outputs": [],
   "source": [
    "input_dir = 'hdock/hdock' "
   ]
  },
  {
   "cell_type": "code",
   "execution_count": 117,
   "id": "adaa0ce2-b22c-4663-b4cd-c2b479ebb660",
   "metadata": {},
   "outputs": [],
   "source": [
    "directories_df = pd.read_csv(\"hdock/data_file.csv\")\n",
    "directories_df = directories_df[directories_df.split == \"test\"]\n",
    "directories = [f\"{input_dir}/{path}\".replace('.dill', '') for path in directories_df.path.values]\n",
    "directories = [directory for directory in directories if os.path.exists(f\"{directory}/output.pdb\")]"
   ]
  },
  {
   "cell_type": "code",
   "execution_count": 118,
   "id": "b388da1f-f417-4c05-82c2-8e5997fa7762",
   "metadata": {},
   "outputs": [],
   "source": [
    "def get_coords(pdb_file, atoms_to_keep, model_number=1):\n",
    "    ppdb = PandasPdb().read_pdb(pdb_file)\n",
    "    model = ppdb.get_model(model_number)\n",
    "    df = model.df['ATOM']\n",
    "    if len(atoms_to_keep) > 1:\n",
    "        df = df[df.atom_name.apply(lambda atom_name: atom_name in atoms_to_keep)]\n",
    "    else:\n",
    "        df = df[df.atom_name == atoms_to_keep[0]]\n",
    "    return df[['x_coord', 'y_coord', 'z_coord']].to_numpy().squeeze().astype(np.float32)"
   ]
  },
  {
   "cell_type": "code",
   "execution_count": 119,
   "id": "57bc2898-6538-497a-b92d-e446ab22eadf",
   "metadata": {},
   "outputs": [],
   "source": [
    "atoms_to_keep = (\"CA\", )"
   ]
  },
  {
   "cell_type": "code",
   "execution_count": 120,
   "id": "33e31f4a-6569-417b-8690-8951d4cc1815",
   "metadata": {},
   "outputs": [
    {
     "name": "stderr",
     "output_type": "stream",
     "text": [
      "100%|█████████████████████████████████████████| 418/418 [24:30<00:00,  3.52s/it]\n"
     ]
    }
   ],
   "source": [
    "pd.set_option('mode.chained_assignment', None) # Remove annoying warnings\n",
    "\n",
    "meter = RMSDComputer()\n",
    "\n",
    "Irmsd_meter = RMSDComputer()\n",
    "\n",
    "all_crmsd = []\n",
    "all_irmsd = []\n",
    "all_lrmsd = []\n",
    "\n",
    "num_test_files = 0\n",
    "\n",
    "for directory in tqdm(directories):\n",
    "    ligand_model_file = f\"{directory}/output.pdb\"\n",
    "    ligand_gt_file = f\"{directory}/ligand_gt.pdb\"\n",
    "    receptor = f\"{directory}/receptor.pdb\"\n",
    "    \n",
    "    if not os.path.exists(ligand_model_file):\n",
    "        continue\n",
    "\n",
    "    num_test_files += 1\n",
    "\n",
    "    ligand_model_coords = get_coords(ligand_model_file, atoms_to_keep)\n",
    "    ligand_gt_coords = get_coords(ligand_gt_file, atoms_to_keep)\n",
    "    receptor_coords = get_coords(receptor, atoms_to_keep)\n",
    "\n",
    "    assert ligand_model_coords.shape[0] == ligand_gt_coords.shape[0]\n",
    "\n",
    "    ligand_receptor_distance = spa.distance.cdist(ligand_gt_coords, receptor_coords)\n",
    "    positive_tuple = np.where(ligand_receptor_distance < 8.)\n",
    "    \n",
    "    active_ligand = positive_tuple[0]\n",
    "    active_receptor = positive_tuple[1]\n",
    "    \n",
    "    ligand_model_pocket_coors = ligand_model_coords[active_ligand, :]\n",
    "    ligand_gt_pocket_coors = ligand_gt_coords[active_ligand, :]\n",
    "    receptor_pocket_coors = receptor_coords[active_receptor, :]\n",
    "\n",
    "    crmsd, lrmsd = meter.update_all_rmsd(np.array(ligand_model_coords), np.array(ligand_gt_coords), np.array(receptor_coords))\n",
    "\n",
    "    irmsd = Irmsd_meter.update_complex_rmsd(np.array(ligand_model_pocket_coors), np.array(ligand_gt_pocket_coors), np.array(receptor_pocket_coors))\n",
    "\n",
    "    all_crmsd.append(crmsd)\n",
    "    all_lrmsd.append(lrmsd)\n",
    "    all_irmsd.append(irmsd)"
   ]
  },
  {
   "cell_type": "code",
   "execution_count": 121,
   "id": "bb04cd52-00e9-47e7-b3f0-55ab5b249545",
   "metadata": {},
   "outputs": [],
   "source": [
    "meter.__class__ = RMSDComputer\n",
    "Irmsd_meter.__class__ = RMSDComputer"
   ]
  },
  {
   "cell_type": "code",
   "execution_count": 122,
   "id": "9b1d2a78-c876-498b-bf39-4733bfdabc0f",
   "metadata": {},
   "outputs": [],
   "source": [
    "lrmsd, crmsd = meter.summarize()\n",
    "_, irmsd = Irmsd_meter.summarize()"
   ]
  },
  {
   "cell_type": "code",
   "execution_count": 123,
   "id": "73d4730c-3f05-4d0b-bba2-ea32f5a74b94",
   "metadata": {},
   "outputs": [
    {
     "data": {
      "text/plain": [
       "{'mean': 9.227522261142438,\n",
       " 'median': 0.5233149826526642,\n",
       " 'std': 10.735226373266453,\n",
       " 'lt1': 54.30622009569378,\n",
       " 'lt2': 55.26315789473684,\n",
       " 'lt5': 55.50239234449761,\n",
       " 'lt10': 57.655502392344495}"
      ]
     },
     "execution_count": 123,
     "metadata": {},
     "output_type": "execute_result"
    }
   ],
   "source": [
    "crmsd"
   ]
  },
  {
   "cell_type": "code",
   "execution_count": 124,
   "id": "51d6c6f6-178c-4edd-9fa7-57248b99b59e",
   "metadata": {},
   "outputs": [
    {
     "data": {
      "text/plain": [
       "{'mean': 7.751495912712473,\n",
       " 'median': 0.44862960278987885,\n",
       " 'std': 9.846088510342211,\n",
       " 'lt1': 55.26315789473684,\n",
       " 'lt2': 55.26315789473684,\n",
       " 'lt5': 56.698564593301434,\n",
       " 'lt10': 61.004784688995215}"
      ]
     },
     "execution_count": 124,
     "metadata": {},
     "output_type": "execute_result"
    }
   ],
   "source": [
    "irmsd"
   ]
  },
  {
   "cell_type": "markdown",
   "id": "5f10bbf8-f2a2-448f-b7f2-d7041c4d1348",
   "metadata": {},
   "source": [
    "For only CA atoms:\n",
    "* Ligand rmsd CA median/mean/std: 16.6/28.4 +- 30.3\n",
    "* Complex rmsd CA median/mean/std: 6.23/10.8 +- 11.4\n",
    "* Interface complex rmsd CA median/mean/std: 3.9/8.88 +- 11.0"
   ]
  },
  {
   "cell_type": "code",
   "execution_count": 125,
   "id": "324805e7-6982-4192-8a66-7afa50c8cb81",
   "metadata": {},
   "outputs": [
    {
     "name": "stdout",
     "output_type": "stream",
     "text": [
      "Number of samples:\t\t418\n",
      "\n",
      "Ligand RMSD median/mean:\t1.41/23.1 ± 26.8\n",
      "Complex RMSD median/mean:\t0.523/9.23 ± 10.7\n",
      "Interface RMSD median/mean:\t0.449/7.75 ± 9.85\n",
      "\n",
      "Ligand lt1/lt2/lt5/lt10,:\t44.0%/53.8%/55.3%/55.5%\n",
      "Complex lt1/lt2/lt5/lt10,:\t54.3%/55.3%/55.5%/57.7%\n",
      "Interface lt1/lt2/lt5/lt10,:\t55.3%/55.3%/56.7%/61.0%\n"
     ]
    }
   ],
   "source": [
    "print(f'Number of samples:\\t\\t{num_test_files}')\n",
    "print()\n",
    "print(f\"Ligand RMSD median/mean:\\t{lrmsd['median']:.3}/{lrmsd['mean']:.3} ± {lrmsd['std']:.3}\")\n",
    "print(f\"Complex RMSD median/mean:\\t{crmsd['median']:.3}/{crmsd['mean']:.3} ± {crmsd['std']:.3}\")\n",
    "print(f\"Interface RMSD median/mean:\\t{irmsd['median']:.3}/{irmsd['mean']:.3} ± {irmsd['std']:.3}\")\n",
    "print()\n",
    "print(f\"Ligand lt1/lt2/lt5/lt10,:\\t{lrmsd['lt1']:.3}%/{lrmsd['lt2']:.3}%/{lrmsd['lt5']:.3}%/{lrmsd['lt10']:.3}%\")\n",
    "print(f\"Complex lt1/lt2/lt5/lt10,:\\t{crmsd['lt1']:.3}%/{crmsd['lt2']:.3}%/{crmsd['lt5']:.3}%/{crmsd['lt10']:.3}%\")\n",
    "print(f\"Interface lt1/lt2/lt5/lt10,:\\t{irmsd['lt1']:.3}%/{irmsd['lt2']:.3}%/{irmsd['lt5']:.3}%/{irmsd['lt10']:.3}%\")"
   ]
  },
  {
   "cell_type": "code",
   "execution_count": 120,
   "id": "fd4b0469-495a-4e9c-9650-071a84ef638d",
   "metadata": {},
   "outputs": [],
   "source": [
    "from matplotlib import pyplot as plt"
   ]
  },
  {
   "cell_type": "code",
   "execution_count": 125,
   "id": "d7e2b363-b6f1-40eb-936b-4d6f4b9a8621",
   "metadata": {},
   "outputs": [
    {
     "data": {
      "image/png": "[encoded data removed]",
      "text/plain": [
       "<Figure size 640x480 with 1 Axes>"
      ]
     },
     "metadata": {},
     "output_type": "display_data"
    }
   ],
   "source": [
    "_ = plt.hist(all_crmsd, bins=100)\n",
    "_ = plt.xlabel(\"Complex RMSD\")"
   ]
  },
  {
   "cell_type": "code",
   "execution_count": 126,
   "id": "89c5f277-146f-4837-bc54-5dddc8f611d7",
   "metadata": {},
   "outputs": [
    {
     "data": {
      "image/png": "[encoded data removed]",
      "text/plain": [
       "<Figure size 640x480 with 1 Axes>"
      ]
     },
     "metadata": {},
     "output_type": "display_data"
    }
   ],
   "source": [
    "_ = plt.hist(all_irmsd, bins=100)\n",
    "_ = plt.xlabel(\"Interface RMSD\")"
   ]
  },
  {
   "cell_type": "code",
   "execution_count": 128,
   "id": "da79fd32-c04b-47cd-a023-bc8c15f0c5ba",
   "metadata": {},
   "outputs": [
    {
     "data": {
      "image/png": "[encoded data removed]",
      "text/plain": [
       "<Figure size 640x480 with 1 Axes>"
      ]
     },
     "metadata": {},
     "output_type": "display_data"
    }
   ],
   "source": [
    "_ = plt.hist(all_lrmsd, bins=100)\n",
    "_ = plt.xlabel(\"Ligand RMSD\")"
   ]
  },
  {
   "cell_type": "code",
   "execution_count": 198,
   "id": "b75c74cc-3a5e-47a1-9f48-8801a176e4ad",
   "metadata": {},
   "outputs": [
    {
     "data": {
      "image/png": "[encoded data removed]",
      "text/plain": [
       "<Figure size 640x480 with 1 Axes>"
      ]
     },
     "metadata": {},
     "output_type": "display_data"
    }
   ],
   "source": [
    "_ = plt.hist(all_crmsd, bins=1000)\n",
    "_ = plt.xlabel(\"Complex RMSD\")\n",
    "_ = plt.xlim([0, 2])\n",
    "_ = plt.xticks(np.linspace(0, 2, 11))"
   ]
  },
  {
   "cell_type": "code",
   "execution_count": 195,
   "id": "2404708d-b8e2-488c-899a-ae8cf6972880",
   "metadata": {},
   "outputs": [
    {
     "data": {
      "image/png": "[encoded data removed]",
      "text/plain": [
       "<Figure size 640x480 with 1 Axes>"
      ]
     },
     "metadata": {},
     "output_type": "display_data"
    }
   ],
   "source": [
    "_ = plt.hist(all_irmsd, bins=1000)\n",
    "_ = plt.xlabel(\"Interface RMSD\")\n",
    "_ = plt.xlim([0, 2])\n",
    "_ = plt.xticks(np.linspace(0, 2, 11))"
   ]
  },
  {
   "cell_type": "code",
   "execution_count": 194,
   "id": "30615987-2e00-4582-b44f-e6a4dadb4444",
   "metadata": {},
   "outputs": [
    {
     "data": {
      "image/png": "[encoded data removed]",
      "text/plain": [
       "<Figure size 640x480 with 1 Axes>"
      ]
     },
     "metadata": {},
     "output_type": "display_data"
    }
   ],
   "source": [
    "_ = plt.hist(all_lrmsd, bins=1000)\n",
    "_ = plt.xlabel(\"Ligand RMSD\")\n",
    "_ = plt.xlim([0, 5])\n",
    "_ = plt.xticks(np.linspace(0, 5, 11))"
   ]
  },
  {
   "cell_type": "code",
   "execution_count": 190,
   "id": "01c9c0af-e5e2-4995-ad75-d3fc72ad153c",
   "metadata": {},
   "outputs": [
    {
     "data": {
      "text/plain": [
       "array([0. , 0.5, 1. , 1.5, 2. , 2.5, 3. , 3.5, 4. , 4.5, 5. ])"
      ]
     },
     "execution_count": 190,
     "metadata": {},
     "output_type": "execute_result"
    }
   ],
   "source": []
  },
  {
   "cell_type": "code",
   "execution_count": null,
   "id": "a7821fbd-cfb4-40a7-84d3-3024ce39b9a0",
   "metadata": {},
   "outputs": [],
   "source": []
  }
 ],
 "metadata": {
  "kernelspec": {
   "display_name": "Python 3 (ipykernel)",
   "language": "python",
   "name": "python3"
  },
  "language_info": {
   "codemirror_mode": {
    "name": "ipython",
    "version": 3
   },
   "file_extension": ".py",
   "mimetype": "text/x-python",
   "name": "python",
   "nbconvert_exporter": "python",
   "pygments_lexer": "ipython3",
   "version": "3.10.8"
  }
 },
 "nbformat": 4,
 "nbformat_minor": 5
}
