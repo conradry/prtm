{
 "cells": [
  {
   "cell_type": "code",
   "execution_count": 1,
   "id": "d9ab2e73-6660-4de3-a33f-3b9405a53f7a",
   "metadata": {},
   "outputs": [],
   "source": [
    "import os, sys\n",
    "import pickle\n",
    "import numpy as np"
   ]
  },
  {
   "cell_type": "code",
   "execution_count": 2,
   "id": "15a39c36-f026-4191-a1b2-ac0ab88054f6",
   "metadata": {},
   "outputs": [],
   "source": [
    "sys.path.append(\"../\")"
   ]
  },
  {
   "cell_type": "code",
   "execution_count": 3,
   "id": "9110421a-ea51-461b-82ab-3236ba738684",
   "metadata": {},
   "outputs": [],
   "source": [
    "from evaluation.compute_rmsd import evaluate_all_rmsds"
   ]
  },
  {
   "cell_type": "code",
   "execution_count": 4,
   "id": "b3bbdf7f-3633-44c0-86a4-16d469de925a",
   "metadata": {},
   "outputs": [],
   "source": [
    "PATH_dips_40s_large = '/data/rsg/nlp/sdobers/cedrik/diffdock-protein/storage/dips_esm_inference_40samples_large.pkl'\n",
    "with open(PATH_dips_40s_large, \"rb\") as f:\n",
    "    results = pickle.load(f)"
   ]
  },
  {
   "cell_type": "code",
   "execution_count": 5,
   "id": "eb7319e4-22c7-432f-8b23-9756d648fe9a",
   "metadata": {},
   "outputs": [],
   "source": [
    "gt = [res[0][0] for res in results]\n",
    "\n",
    "best_pred = [res[1][0] for res in results]\n",
    "best_pred_conf = np.array([res[1][1] for res in results])\n",
    "\n",
    "all_pred = [[graph_confidence[0] for graph_confidence in res[1:41]] for res in results]\n",
    "all_pred_conf = np.array([[graph_confidence[1] for graph_confidence in res[1:41]] for res in results])"
   ]
  },
  {
   "cell_type": "code",
   "execution_count": 6,
   "id": "f536b55c-7ab9-4d2f-b1f5-131a553c474b",
   "metadata": {},
   "outputs": [],
   "source": [
    "best_pred_crmsd = np.array(evaluate_all_rmsds(gt, best_pred).complex_rmsd_list)\n",
    "best_pred_lrmsd = np.array(evaluate_all_rmsds(gt, best_pred).ligand_rmsd_list)"
   ]
  },
  {
   "cell_type": "code",
   "execution_count": 7,
   "id": "176dcb9f-ca7e-4f65-a736-45a2b5a04cac",
   "metadata": {},
   "outputs": [],
   "source": [
    "all_pred_crmsd = []\n",
    "all_pred_lrmsd = []\n",
    "\n",
    "for i in range(len(all_pred[0])):\n",
    "    preds = [res[i] for res in all_pred]\n",
    "    meter = evaluate_all_rmsds(gt, preds)\n",
    "    \n",
    "    all_pred_crmsd.append(meter.complex_rmsd_list)\n",
    "    all_pred_lrmsd.append(meter.ligand_rmsd_list)\n",
    "    \n",
    "all_pred_crmsd = np.array(all_pred_crmsd).T\n",
    "all_pred_lrmsd = np.array(all_pred_lrmsd).T"
   ]
  },
  {
   "cell_type": "code",
   "execution_count": 8,
   "id": "1f092fc0-2885-4638-ac24-07f9e43235e3",
   "metadata": {},
   "outputs": [],
   "source": [
    "rmsds = all_pred_crmsd\n",
    "confidences = all_pred_conf\n",
    "filtered_rmsds = best_pred_crmsd\n",
    "filtered_confidences = best_pred_conf"
   ]
  },
  {
   "cell_type": "code",
   "execution_count": 9,
   "id": "2eb40151-3d80-46ee-bc4d-19d5183a8237",
   "metadata": {},
   "outputs": [],
   "source": [
    "fraction_dataset_rmsds_below_2 = []\n",
    "perfect_calibration = []\n",
    "no_calibration = []\n",
    "for dataset_percentage in range(100):\n",
    "    dataset_percentage += 1\n",
    "    dataset_fraction = (dataset_percentage)/100\n",
    "    num_samples = round(len(rmsds)*dataset_fraction)\n",
    "    per_complex_confidence_ordering = np.argsort(filtered_confidences)[::-1]\n",
    "    confident_complexes_rmsds = filtered_rmsds[per_complex_confidence_ordering][:num_samples]\n",
    "    confident_complexes_metrics = {\n",
    "        'fraction_confident_complexes_predictions': (100 * len(confident_complexes_rmsds) / len(rmsds)).__round__(2),\n",
    "        'confident_complexes_rmsds_below_2': (100 * (confident_complexes_rmsds < 2).sum() / len(confident_complexes_rmsds)).__round__(2),\n",
    "        'confident_complexes_rmsds_below_5': (100 * (confident_complexes_rmsds < 5).sum() / len(confident_complexes_rmsds)).__round__(2),\n",
    "        'confident_complexes_rmsds_percentile_25': np.percentile(confident_complexes_rmsds, 25).round(2),\n",
    "        'confident_complexes_rmsds_percentile_50': np.percentile(confident_complexes_rmsds, 50).round(2),\n",
    "        'confident_complexes_rmsds_percentile_75': np.percentile(confident_complexes_rmsds, 75).round(2),\n",
    "    }\n",
    "\n",
    "    fraction_dataset_rmsds_below_2.append(confident_complexes_metrics['confident_complexes_rmsds_below_2'])\n",
    "    perfect_calibration.append((100 * (np.sort(filtered_rmsds)[:num_samples] < 2).sum() / len(confident_complexes_rmsds)).__round__(2))\n",
    "    no_calibration.append((100 * (filtered_rmsds < 2).sum() / len(filtered_rmsds)).__round__(2))"
   ]
  },
  {
   "cell_type": "code",
   "execution_count": 10,
   "id": "fbff1ddc-b3fd-4abe-8021-2fbb2d6b055e",
   "metadata": {},
   "outputs": [],
   "source": [
    "import json\n",
    "with open(\"baselines.json\", \"r\") as file:\n",
    "    other_rmsds = json.load(file)"
   ]
  },
  {
   "cell_type": "code",
   "execution_count": 11,
   "id": "c22880be-0227-4750-b70c-479376c8085e",
   "metadata": {},
   "outputs": [],
   "source": [
    "attract = other_rmsds[\"attract\"][\"dips\"][\"all\"][\"crmsd\"]\n",
    "cluspro = other_rmsds[\"cluspro\"][\"dips\"][\"all\"][\"crmsd\"]\n",
    "equidock = other_rmsds[\"equidock\"][\"dips\"][\"all\"][\"crmsd\"]\n",
    "equidock_no_clashes = other_rmsds[\"equidock_no_clashes\"][\"dips\"][\"all\"][\"crmsd\"]\n",
    "hdock = other_rmsds[\"hdock\"][\"dips\"][\"all\"][\"crmsd\"]\n",
    "patchdock = other_rmsds[\"patchdock\"][\"dips\"][\"all\"][\"crmsd\"]"
   ]
  },
  {
   "cell_type": "code",
   "execution_count": 51,
   "id": "4d3b0ec3-c382-430c-a12c-a8dea44e67a2",
   "metadata": {},
   "outputs": [],
   "source": [
    "# from matplotlib import font_manager\n",
    "# paths = font_manager.get_font_names()\n",
    "# paths"
   ]
  },
  {
   "cell_type": "code",
   "execution_count": 117,
   "id": "5b9adfe4-b457-46ed-9bba-5a88eefe6db0",
   "metadata": {},
   "outputs": [
    {
     "name": "stderr",
     "output_type": "stream",
     "text": [
      "/tmp/ipykernel_23178/3296586153.py:67: MatplotlibDeprecationWarning:\n",
      "\n",
      "Support for setting an rcParam that expects a str value to a non-str value is deprecated since 3.5 and support will be removed two minor releases later.\n",
      "\n"
     ]
    }
   ],
   "source": [
    "import matplotlib.pyplot as plt\n",
    "\n",
    "def set_size(width, fraction=1, subplots=(1, 1)):\n",
    "    \"\"\"Set figure dimensions to avoid scaling in LaTeX.\n",
    "​\n",
    "    Parameters\n",
    "    ----------\n",
    "    width: float or string\n",
    "            Document width in points, or string of predined document type\n",
    "    fraction: float, optional\n",
    "            Fraction of the width which you wish the figure to occupy\n",
    "    subplots: array-like, optional\n",
    "            The number of rows and columns of subplots.\n",
    "    Returns\n",
    "    -------\n",
    "    fig_dim: tuple\n",
    "            Dimensions of figure in inches\n",
    "    \"\"\"\n",
    "    if width == 'thesis':\n",
    "        width_pt = 426.79135\n",
    "    elif width == 'beamer':\n",
    "        width_pt = 307.28987\n",
    "    else:\n",
    "        width_pt = width\n",
    "\n",
    "    # Width of figure (in pts)\n",
    "    fig_width_pt = width_pt * fraction\n",
    "    # Convert from pt to inches\n",
    "    inches_per_pt = 1 / 72.27\n",
    "\n",
    "    # Golden ratio to set aesthetic figure height\n",
    "    # https://disq.us/p/2940ij3\n",
    "    golden_ratio = (5**.5 - 1) / 2\n",
    "\n",
    "    # Figure width in inches\n",
    "    fig_width_in = fig_width_pt * inches_per_pt\n",
    "    # Figure height in inches\n",
    "    fig_height_in = fig_width_in * golden_ratio * (subplots[0] / subplots[1])\n",
    "\n",
    "    return (fig_width_in, fig_height_in)\n",
    "\n",
    "width = 397.48499 # TODO: check paper width and then set\n",
    "# plt.style.use('seaborn')\n",
    "\n",
    "\n",
    "large = 13\n",
    "normal = 8\n",
    "tex_fonts = {\n",
    "    # Use LaTeX to write all text\n",
    "    \"text.usetex\": True,\n",
    "    \"font.family\": \"sans-serif\",\n",
    "    # \"font.name\": \"Helvetica\",\n",
    "    'font.sans-serif':'Helvetica',\n",
    "    # Use 10pt font in plots, to match 10pt font in document\n",
    "    \"font.weight\": \"bold\",\n",
    "    \"axes.labelweight\": \"bold\",\n",
    "    \"axes.labelsize\": large,\n",
    "    \"font.size\": large,\n",
    "    # Make the legend/label fonts a little smaller\n",
    "    \"legend.fontsize\": normal,\n",
    "    \"axes.titlesize\" :normal,\n",
    "    \"xtick.labelsize\": normal,\n",
    "    \"ytick.labelsize\": normal\n",
    "}\n",
    "\n",
    "plt.rcParams.update(tex_fonts)\n",
    "plt.rcParams['text.latex.preamble'] = [r'\\usepackage{amsmath}']"
   ]
  },
  {
   "cell_type": "markdown",
   "id": "078d336f-82ab-4cb0-9058-14d6dcf82021",
   "metadata": {
    "tags": []
   },
   "source": [
    "### Old calibration plot"
   ]
  },
  {
   "cell_type": "code",
   "execution_count": 118,
   "id": "91b7f26e-366d-47e1-a61f-67c4fd3e5897",
   "metadata": {},
   "outputs": [
    {
     "data": {
      "application/vnd.plotly.v1+json": {
       "config": {
        "plotlyServerURL": "https://plot.ly"
       },
       "data": [
        {
         "line": {
          "color": "red",
          "dash": "dash",
          "width": 3
         },
         "name": "Baseline performance",
         "type": "scatter",
         "x": [
          0,
          1,
          2,
          3,
          4,
          5,
          6,
          7,
          8,
          9,
          10,
          11,
          12,
          13,
          14,
          15,
          16,
          17,
          18,
          19,
          20,
          21,
          22,
          23,
          24,
          25,
          26,
          27,
          28,
          29,
          30,
          31,
          32,
          33,
          34,
          35,
          36,
          37,
          38,
          39,
          40,
          41,
          42,
          43,
          44,
          45,
          46,
          47,
          48,
          49,
          50,
          51,
          52,
          53,
          54,
          55,
          56,
          57,
          58,
          59,
          60,
          61,
          62,
          63,
          64,
          65,
          66,
          67,
          68,
          69,
          70,
          71,
          72,
          73,
          74,
          75,
          76,
          77,
          78,
          79,
          80,
          81,
          82,
          83,
          84,
          85,
          86,
          87,
          88,
          89,
          90,
          91,
          92,
          93,
          94,
          95,
          96,
          97,
          98,
          99
         ],
         "y": [
          0.33,
          0.33,
          0.33,
          0.33,
          0.33,
          0.33,
          0.33,
          0.33,
          0.33,
          0.33,
          0.33,
          0.33,
          0.33,
          0.33,
          0.33,
          0.33,
          0.33,
          0.33,
          0.33,
          0.33,
          0.33,
          0.33,
          0.33,
          0.33,
          0.33,
          0.33,
          0.33,
          0.33,
          0.33,
          0.33,
          0.33,
          0.33,
          0.33,
          0.33,
          0.33,
          0.33,
          0.33,
          0.33,
          0.33,
          0.33,
          0.33,
          0.33,
          0.33,
          0.33,
          0.33,
          0.33,
          0.33,
          0.33,
          0.33,
          0.33,
          0.33,
          0.33,
          0.33,
          0.33,
          0.33,
          0.33,
          0.33,
          0.33,
          0.33,
          0.33,
          0.33,
          0.33,
          0.33,
          0.33,
          0.33,
          0.33,
          0.33,
          0.33,
          0.33,
          0.33,
          0.33,
          0.33,
          0.33,
          0.33,
          0.33,
          0.33,
          0.33,
          0.33,
          0.33,
          0.33,
          0.33,
          0.33,
          0.33,
          0.33,
          0.33,
          0.33,
          0.33,
          0.33,
          0.33,
          0.33,
          0.33,
          0.33,
          0.33,
          0.33,
          0.33,
          0.33,
          0.33,
          0.33,
          0.33,
          0.33
         ]
        },
        {
         "line": {
          "color": "green",
          "dash": "dash",
          "width": 3
         },
         "name": "Perfect selection",
         "type": "scatter",
         "x": [
          0,
          1,
          2,
          3,
          4,
          5,
          6,
          7,
          8,
          9,
          10,
          11,
          12,
          13,
          14,
          15,
          16,
          17,
          18,
          19,
          20,
          21,
          22,
          23,
          24,
          25,
          26,
          27,
          28,
          29,
          30,
          31,
          32,
          33,
          34,
          35,
          36,
          37,
          38,
          39,
          40,
          41,
          42,
          43,
          44,
          45,
          46,
          47,
          48,
          49,
          50,
          51,
          52,
          53,
          54,
          55,
          56,
          57,
          58,
          59,
          60,
          61,
          62,
          63,
          64,
          65,
          66,
          67,
          68,
          69,
          70,
          71,
          72,
          73,
          74,
          75,
          76,
          77,
          78,
          79,
          80,
          81,
          82,
          83,
          84,
          85,
          86,
          87,
          88,
          89,
          90,
          91,
          92,
          93,
          94,
          95,
          96,
          97,
          98,
          99
         ],
         "y": [
          0.33,
          0.3333,
          0.3367,
          0.34020000000000006,
          0.34380000000000005,
          0.34740000000000004,
          0.35109999999999997,
          0.35479999999999995,
          0.35869999999999996,
          0.3626,
          0.3667,
          0.37079999999999996,
          0.375,
          0.37929999999999997,
          0.3837,
          0.3882,
          0.39289999999999997,
          0.39759999999999995,
          0.40240000000000004,
          0.40740000000000004,
          0.4125,
          0.4177,
          0.42310000000000003,
          0.4286,
          0.43420000000000003,
          0.44,
          0.4459,
          0.4521,
          0.4583,
          0.4648,
          0.4714,
          0.4783,
          0.4853,
          0.4925,
          0.5,
          0.5077,
          0.5156000000000001,
          0.5238,
          0.5323,
          0.541,
          0.55,
          0.5593,
          0.569,
          0.5789,
          0.5893,
          0.6,
          0.6111,
          0.6225999999999999,
          0.6346,
          0.6470999999999999,
          0.66,
          0.6735,
          0.6875,
          0.7021,
          0.7173999999999999,
          0.7333,
          0.75,
          0.7674,
          0.7857,
          0.8049,
          0.825,
          0.8462000000000001,
          0.8684000000000001,
          0.8919,
          0.9167000000000001,
          0.9429000000000001,
          0.9706,
          1,
          1,
          1,
          1,
          1,
          1,
          1,
          1,
          1,
          1,
          1,
          1,
          1,
          1,
          1,
          1,
          1,
          1,
          1,
          1,
          1,
          1,
          1,
          1,
          1,
          1,
          1,
          1,
          1,
          1,
          1,
          1,
          1
         ]
        },
        {
         "line": {
          "color": "blue",
          "width": 3
         },
         "name": "Confidence model",
         "type": "scatter",
         "x": [
          0,
          1,
          2,
          3,
          4,
          5,
          6,
          7,
          8,
          9,
          10,
          11,
          12,
          13,
          14,
          15,
          16,
          17,
          18,
          19,
          20,
          21,
          22,
          23,
          24,
          25,
          26,
          27,
          28,
          29,
          30,
          31,
          32,
          33,
          34,
          35,
          36,
          37,
          38,
          39,
          40,
          41,
          42,
          43,
          44,
          45,
          46,
          47,
          48,
          49,
          50,
          51,
          52,
          53,
          54,
          55,
          56,
          57,
          58,
          59,
          60,
          61,
          62,
          63,
          64,
          65,
          66,
          67,
          68,
          69,
          70,
          71,
          72,
          73,
          74,
          75,
          76,
          77,
          78,
          79,
          80,
          81,
          82,
          83,
          84,
          85,
          86,
          87,
          88,
          89,
          90,
          91,
          92,
          93,
          94,
          95,
          96,
          97,
          98,
          99
         ],
         "y": [
          0.33,
          0.3333,
          0.3367,
          0.34020000000000006,
          0.34380000000000005,
          0.34740000000000004,
          0.35109999999999997,
          0.35479999999999995,
          0.35869999999999996,
          0.3626,
          0.3667,
          0.37079999999999996,
          0.3636,
          0.3678,
          0.3721,
          0.3765,
          0.381,
          0.38549999999999995,
          0.39020000000000005,
          0.3951,
          0.4,
          0.40509999999999996,
          0.4103,
          0.40259999999999996,
          0.4079,
          0.4133,
          0.4054,
          0.41100000000000003,
          0.4167,
          0.4225,
          0.4286,
          0.43479999999999996,
          0.4412,
          0.44780000000000003,
          0.4545,
          0.46149999999999997,
          0.46880000000000005,
          0.47619999999999996,
          0.4839,
          0.4918,
          0.4833,
          0.4915,
          0.5,
          0.5088,
          0.5179,
          0.5273,
          0.537,
          0.5283,
          0.5192,
          0.5097999999999999,
          0.52,
          0.5306000000000001,
          0.5417000000000001,
          0.5532,
          0.5652,
          0.5556,
          0.5682,
          0.5581,
          0.5476,
          0.561,
          0.575,
          0.5897,
          0.6053000000000001,
          0.6215999999999999,
          0.6389,
          0.6570999999999999,
          0.6470999999999999,
          0.6364,
          0.6562,
          0.6774,
          0.7,
          0.7241,
          0.7143,
          0.7406999999999999,
          0.7308,
          0.76,
          0.7917000000000001,
          0.7826000000000001,
          0.7726999999999999,
          0.7619,
          0.75,
          0.7895,
          0.8332999999999999,
          0.8824,
          0.875,
          0.9333,
          0.9286,
          0.9231,
          0.9167000000000001,
          1,
          1,
          1,
          1,
          1,
          1,
          1,
          1,
          1,
          1,
          1
         ]
        }
       ],
       "layout": {
        "height": 400,
        "legend": {
         "font": {
          "color": "black",
          "size": 20
         },
         "title": {
          "font": {
           "size": 1
          },
          "text": ""
         },
         "x": 0.99,
         "xanchor": "right",
         "y": 0.01,
         "yanchor": "bottom"
        },
        "margin": {
         "b": 60,
         "l": 60,
         "r": 5,
         "t": 5
        },
        "paper_bgcolor": "white",
        "plot_bgcolor": "white",
        "template": {
         "data": {
          "bar": [
           {
            "error_x": {
             "color": "#2a3f5f"
            },
            "error_y": {
             "color": "#2a3f5f"
            },
            "marker": {
             "line": {
              "color": "#E5ECF6",
              "width": 0.5
             },
             "pattern": {
              "fillmode": "overlay",
              "size": 10,
              "solidity": 0.2
             }
            },
            "type": "bar"
           }
          ],
          "barpolar": [
           {
            "marker": {
             "line": {
              "color": "#E5ECF6",
              "width": 0.5
             },
             "pattern": {
              "fillmode": "overlay",
              "size": 10,
              "solidity": 0.2
             }
            },
            "type": "barpolar"
           }
          ],
          "carpet": [
           {
            "aaxis": {
             "endlinecolor": "#2a3f5f",
             "gridcolor": "white",
             "linecolor": "white",
             "minorgridcolor": "white",
             "startlinecolor": "#2a3f5f"
            },
            "baxis": {
             "endlinecolor": "#2a3f5f",
             "gridcolor": "white",
             "linecolor": "white",
             "minorgridcolor": "white",
             "startlinecolor": "#2a3f5f"
            },
            "type": "carpet"
           }
          ],
          "choropleth": [
           {
            "colorbar": {
             "outlinewidth": 0,
             "ticks": ""
            },
            "type": "choropleth"
           }
          ],
          "contour": [
           {
            "colorbar": {
             "outlinewidth": 0,
             "ticks": ""
            },
            "colorscale": [
             [
              0,
              "#0d0887"
             ],
             [
              0.1111111111111111,
              "#46039f"
             ],
             [
              0.2222222222222222,
              "#7201a8"
             ],
             [
              0.3333333333333333,
              "#9c179e"
             ],
             [
              0.4444444444444444,
              "#bd3786"
             ],
             [
              0.5555555555555556,
              "#d8576b"
             ],
             [
              0.6666666666666666,
              "#ed7953"
             ],
             [
              0.7777777777777778,
              "#fb9f3a"
             ],
             [
              0.8888888888888888,
              "#fdca26"
             ],
             [
              1,
              "#f0f921"
             ]
            ],
            "type": "contour"
           }
          ],
          "contourcarpet": [
           {
            "colorbar": {
             "outlinewidth": 0,
             "ticks": ""
            },
            "type": "contourcarpet"
           }
          ],
          "heatmap": [
           {
            "colorbar": {
             "outlinewidth": 0,
             "ticks": ""
            },
            "colorscale": [
             [
              0,
              "#0d0887"
             ],
             [
              0.1111111111111111,
              "#46039f"
             ],
             [
              0.2222222222222222,
              "#7201a8"
             ],
             [
              0.3333333333333333,
              "#9c179e"
             ],
             [
              0.4444444444444444,
              "#bd3786"
             ],
             [
              0.5555555555555556,
              "#d8576b"
             ],
             [
              0.6666666666666666,
              "#ed7953"
             ],
             [
              0.7777777777777778,
              "#fb9f3a"
             ],
             [
              0.8888888888888888,
              "#fdca26"
             ],
             [
              1,
              "#f0f921"
             ]
            ],
            "type": "heatmap"
           }
          ],
          "heatmapgl": [
           {
            "colorbar": {
             "outlinewidth": 0,
             "ticks": ""
            },
            "colorscale": [
             [
              0,
              "#0d0887"
             ],
             [
              0.1111111111111111,
              "#46039f"
             ],
             [
              0.2222222222222222,
              "#7201a8"
             ],
             [
              0.3333333333333333,
              "#9c179e"
             ],
             [
              0.4444444444444444,
              "#bd3786"
             ],
             [
              0.5555555555555556,
              "#d8576b"
             ],
             [
              0.6666666666666666,
              "#ed7953"
             ],
             [
              0.7777777777777778,
              "#fb9f3a"
             ],
             [
              0.8888888888888888,
              "#fdca26"
             ],
             [
              1,
              "#f0f921"
             ]
            ],
            "type": "heatmapgl"
           }
          ],
          "histogram": [
           {
            "marker": {
             "pattern": {
              "fillmode": "overlay",
              "size": 10,
              "solidity": 0.2
             }
            },
            "type": "histogram"
           }
          ],
          "histogram2d": [
           {
            "colorbar": {
             "outlinewidth": 0,
             "ticks": ""
            },
            "colorscale": [
             [
              0,
              "#0d0887"
             ],
             [
              0.1111111111111111,
              "#46039f"
             ],
             [
              0.2222222222222222,
              "#7201a8"
             ],
             [
              0.3333333333333333,
              "#9c179e"
             ],
             [
              0.4444444444444444,
              "#bd3786"
             ],
             [
              0.5555555555555556,
              "#d8576b"
             ],
             [
              0.6666666666666666,
              "#ed7953"
             ],
             [
              0.7777777777777778,
              "#fb9f3a"
             ],
             [
              0.8888888888888888,
              "#fdca26"
             ],
             [
              1,
              "#f0f921"
             ]
            ],
            "type": "histogram2d"
           }
          ],
          "histogram2dcontour": [
           {
            "colorbar": {
             "outlinewidth": 0,
             "ticks": ""
            },
            "colorscale": [
             [
              0,
              "#0d0887"
             ],
             [
              0.1111111111111111,
              "#46039f"
             ],
             [
              0.2222222222222222,
              "#7201a8"
             ],
             [
              0.3333333333333333,
              "#9c179e"
             ],
             [
              0.4444444444444444,
              "#bd3786"
             ],
             [
              0.5555555555555556,
              "#d8576b"
             ],
             [
              0.6666666666666666,
              "#ed7953"
             ],
             [
              0.7777777777777778,
              "#fb9f3a"
             ],
             [
              0.8888888888888888,
              "#fdca26"
             ],
             [
              1,
              "#f0f921"
             ]
            ],
            "type": "histogram2dcontour"
           }
          ],
          "mesh3d": [
           {
            "colorbar": {
             "outlinewidth": 0,
             "ticks": ""
            },
            "type": "mesh3d"
           }
          ],
          "parcoords": [
           {
            "line": {
             "colorbar": {
              "outlinewidth": 0,
              "ticks": ""
             }
            },
            "type": "parcoords"
           }
          ],
          "pie": [
           {
            "automargin": true,
            "type": "pie"
           }
          ],
          "scatter": [
           {
            "fillpattern": {
             "fillmode": "overlay",
             "size": 10,
             "solidity": 0.2
            },
            "type": "scatter"
           }
          ],
          "scatter3d": [
           {
            "line": {
             "colorbar": {
              "outlinewidth": 0,
              "ticks": ""
             }
            },
            "marker": {
             "colorbar": {
              "outlinewidth": 0,
              "ticks": ""
             }
            },
            "type": "scatter3d"
           }
          ],
          "scattercarpet": [
           {
            "marker": {
             "colorbar": {
              "outlinewidth": 0,
              "ticks": ""
             }
            },
            "type": "scattercarpet"
           }
          ],
          "scattergeo": [
           {
            "marker": {
             "colorbar": {
              "outlinewidth": 0,
              "ticks": ""
             }
            },
            "type": "scattergeo"
           }
          ],
          "scattergl": [
           {
            "marker": {
             "colorbar": {
              "outlinewidth": 0,
              "ticks": ""
             }
            },
            "type": "scattergl"
           }
          ],
          "scattermapbox": [
           {
            "marker": {
             "colorbar": {
              "outlinewidth": 0,
              "ticks": ""
             }
            },
            "type": "scattermapbox"
           }
          ],
          "scatterpolar": [
           {
            "marker": {
             "colorbar": {
              "outlinewidth": 0,
              "ticks": ""
             }
            },
            "type": "scatterpolar"
           }
          ],
          "scatterpolargl": [
           {
            "marker": {
             "colorbar": {
              "outlinewidth": 0,
              "ticks": ""
             }
            },
            "type": "scatterpolargl"
           }
          ],
          "scatterternary": [
           {
            "marker": {
             "colorbar": {
              "outlinewidth": 0,
              "ticks": ""
             }
            },
            "type": "scatterternary"
           }
          ],
          "surface": [
           {
            "colorbar": {
             "outlinewidth": 0,
             "ticks": ""
            },
            "colorscale": [
             [
              0,
              "#0d0887"
             ],
             [
              0.1111111111111111,
              "#46039f"
             ],
             [
              0.2222222222222222,
              "#7201a8"
             ],
             [
              0.3333333333333333,
              "#9c179e"
             ],
             [
              0.4444444444444444,
              "#bd3786"
             ],
             [
              0.5555555555555556,
              "#d8576b"
             ],
             [
              0.6666666666666666,
              "#ed7953"
             ],
             [
              0.7777777777777778,
              "#fb9f3a"
             ],
             [
              0.8888888888888888,
              "#fdca26"
             ],
             [
              1,
              "#f0f921"
             ]
            ],
            "type": "surface"
           }
          ],
          "table": [
           {
            "cells": {
             "fill": {
              "color": "#EBF0F8"
             },
             "line": {
              "color": "white"
             }
            },
            "header": {
             "fill": {
              "color": "#C8D4E3"
             },
             "line": {
              "color": "white"
             }
            },
            "type": "table"
           }
          ]
         },
         "layout": {
          "annotationdefaults": {
           "arrowcolor": "#2a3f5f",
           "arrowhead": 0,
           "arrowwidth": 1
          },
          "autotypenumbers": "strict",
          "coloraxis": {
           "colorbar": {
            "outlinewidth": 0,
            "ticks": ""
           }
          },
          "colorscale": {
           "diverging": [
            [
             0,
             "#8e0152"
            ],
            [
             0.1,
             "#c51b7d"
            ],
            [
             0.2,
             "#de77ae"
            ],
            [
             0.3,
             "#f1b6da"
            ],
            [
             0.4,
             "#fde0ef"
            ],
            [
             0.5,
             "#f7f7f7"
            ],
            [
             0.6,
             "#e6f5d0"
            ],
            [
             0.7,
             "#b8e186"
            ],
            [
             0.8,
             "#7fbc41"
            ],
            [
             0.9,
             "#4d9221"
            ],
            [
             1,
             "#276419"
            ]
           ],
           "sequential": [
            [
             0,
             "#0d0887"
            ],
            [
             0.1111111111111111,
             "#46039f"
            ],
            [
             0.2222222222222222,
             "#7201a8"
            ],
            [
             0.3333333333333333,
             "#9c179e"
            ],
            [
             0.4444444444444444,
             "#bd3786"
            ],
            [
             0.5555555555555556,
             "#d8576b"
            ],
            [
             0.6666666666666666,
             "#ed7953"
            ],
            [
             0.7777777777777778,
             "#fb9f3a"
            ],
            [
             0.8888888888888888,
             "#fdca26"
            ],
            [
             1,
             "#f0f921"
            ]
           ],
           "sequentialminus": [
            [
             0,
             "#0d0887"
            ],
            [
             0.1111111111111111,
             "#46039f"
            ],
            [
             0.2222222222222222,
             "#7201a8"
            ],
            [
             0.3333333333333333,
             "#9c179e"
            ],
            [
             0.4444444444444444,
             "#bd3786"
            ],
            [
             0.5555555555555556,
             "#d8576b"
            ],
            [
             0.6666666666666666,
             "#ed7953"
            ],
            [
             0.7777777777777778,
             "#fb9f3a"
            ],
            [
             0.8888888888888888,
             "#fdca26"
            ],
            [
             1,
             "#f0f921"
            ]
           ]
          },
          "colorway": [
           "#636efa",
           "#EF553B",
           "#00cc96",
           "#ab63fa",
           "#FFA15A",
           "#19d3f3",
           "#FF6692",
           "#B6E880",
           "#FF97FF",
           "#FECB52"
          ],
          "font": {
           "color": "#2a3f5f"
          },
          "geo": {
           "bgcolor": "white",
           "lakecolor": "white",
           "landcolor": "#E5ECF6",
           "showlakes": true,
           "showland": true,
           "subunitcolor": "white"
          },
          "hoverlabel": {
           "align": "left"
          },
          "hovermode": "closest",
          "mapbox": {
           "style": "light"
          },
          "paper_bgcolor": "white",
          "plot_bgcolor": "#E5ECF6",
          "polar": {
           "angularaxis": {
            "gridcolor": "white",
            "linecolor": "white",
            "ticks": ""
           },
           "bgcolor": "#E5ECF6",
           "radialaxis": {
            "gridcolor": "white",
            "linecolor": "white",
            "ticks": ""
           }
          },
          "scene": {
           "xaxis": {
            "backgroundcolor": "#E5ECF6",
            "gridcolor": "white",
            "gridwidth": 2,
            "linecolor": "white",
            "showbackground": true,
            "ticks": "",
            "zerolinecolor": "white"
           },
           "yaxis": {
            "backgroundcolor": "#E5ECF6",
            "gridcolor": "white",
            "gridwidth": 2,
            "linecolor": "white",
            "showbackground": true,
            "ticks": "",
            "zerolinecolor": "white"
           },
           "zaxis": {
            "backgroundcolor": "#E5ECF6",
            "gridcolor": "white",
            "gridwidth": 2,
            "linecolor": "white",
            "showbackground": true,
            "ticks": "",
            "zerolinecolor": "white"
           }
          },
          "shapedefaults": {
           "line": {
            "color": "#2a3f5f"
           }
          },
          "ternary": {
           "aaxis": {
            "gridcolor": "white",
            "linecolor": "white",
            "ticks": ""
           },
           "baxis": {
            "gridcolor": "white",
            "linecolor": "white",
            "ticks": ""
           },
           "bgcolor": "#E5ECF6",
           "caxis": {
            "gridcolor": "white",
            "linecolor": "white",
            "ticks": ""
           }
          },
          "title": {
           "x": 0.05
          },
          "xaxis": {
           "automargin": true,
           "gridcolor": "white",
           "linecolor": "white",
           "ticks": "",
           "title": {
            "standoff": 15
           },
           "zerolinecolor": "white",
           "zerolinewidth": 2
          },
          "yaxis": {
           "automargin": true,
           "gridcolor": "white",
           "linecolor": "white",
           "ticks": "",
           "title": {
            "standoff": 15
           },
           "zerolinecolor": "white",
           "zerolinewidth": 2
          }
         }
        },
        "width": 600,
        "xaxis": {
         "autorange": true,
         "gridcolor": "lightgrey",
         "linecolor": "black",
         "linewidth": 1,
         "mirror": true,
         "range": [
          0,
          99
         ],
         "showgrid": true,
         "showline": true,
         "tickfont": {
          "color": "black",
          "size": 18
         },
         "ticks": "outside",
         "title": {
          "font": {
           "color": "black",
           "size": 23
          },
          "text": "Percentage of rejected complexes"
         },
         "type": "linear"
        },
        "yaxis": {
         "gridcolor": "lightgrey",
         "linecolor": "black",
         "linewidth": 1,
         "mirror": true,
         "range": [
          0.01,
          1.03
         ],
         "showgrid": true,
         "showline": true,
         "tickfont": {
          "color": "black",
          "size": 18
         },
         "ticks": "outside",
         "title": {
          "font": {
           "color": "black",
           "size": 23
          },
          "text": "Fraction with RMSD < 2Å"
         },
         "type": "linear"
        }
       }
      },
      "image/png": "[encoded data removed]",
      "text/html": [
       "<div>                            <div id=\"c469fda8-e159-4f81-9c76-3571807983bb\" class=\"plotly-graph-div\" style=\"height:400px; width:600px;\"></div>            <script type=\"text/javascript\">                require([\"plotly\"], function(Plotly) {                    window.PLOTLYENV=window.PLOTLYENV || {};                                    if (document.getElementById(\"c469fda8-e159-4f81-9c76-3571807983bb\")) {                    Plotly.newPlot(                        \"c469fda8-e159-4f81-9c76-3571807983bb\",                        [{\"line\":{\"color\":\"red\",\"dash\":\"dash\",\"width\":3},\"name\":\"Baseline performance\",\"x\":[0,1,2,3,4,5,6,7,8,9,10,11,12,13,14,15,16,17,18,19,20,21,22,23,24,25,26,27,28,29,30,31,32,33,34,35,36,37,38,39,40,41,42,43,44,45,46,47,48,49,50,51,52,53,54,55,56,57,58,59,60,61,62,63,64,65,66,67,68,69,70,71,72,73,74,75,76,77,78,79,80,81,82,83,84,85,86,87,88,89,90,91,92,93,94,95,96,97,98,99],\"y\":[0.33,0.33,0.33,0.33,0.33,0.33,0.33,0.33,0.33,0.33,0.33,0.33,0.33,0.33,0.33,0.33,0.33,0.33,0.33,0.33,0.33,0.33,0.33,0.33,0.33,0.33,0.33,0.33,0.33,0.33,0.33,0.33,0.33,0.33,0.33,0.33,0.33,0.33,0.33,0.33,0.33,0.33,0.33,0.33,0.33,0.33,0.33,0.33,0.33,0.33,0.33,0.33,0.33,0.33,0.33,0.33,0.33,0.33,0.33,0.33,0.33,0.33,0.33,0.33,0.33,0.33,0.33,0.33,0.33,0.33,0.33,0.33,0.33,0.33,0.33,0.33,0.33,0.33,0.33,0.33,0.33,0.33,0.33,0.33,0.33,0.33,0.33,0.33,0.33,0.33,0.33,0.33,0.33,0.33,0.33,0.33,0.33,0.33,0.33,0.33],\"type\":\"scatter\"},{\"line\":{\"color\":\"green\",\"dash\":\"dash\",\"width\":3},\"name\":\"Perfect selection\",\"x\":[0,1,2,3,4,5,6,7,8,9,10,11,12,13,14,15,16,17,18,19,20,21,22,23,24,25,26,27,28,29,30,31,32,33,34,35,36,37,38,39,40,41,42,43,44,45,46,47,48,49,50,51,52,53,54,55,56,57,58,59,60,61,62,63,64,65,66,67,68,69,70,71,72,73,74,75,76,77,78,79,80,81,82,83,84,85,86,87,88,89,90,91,92,93,94,95,96,97,98,99],\"y\":[0.33,0.3333,0.3367,0.34020000000000006,0.34380000000000005,0.34740000000000004,0.35109999999999997,0.35479999999999995,0.35869999999999996,0.3626,0.3667,0.37079999999999996,0.375,0.37929999999999997,0.3837,0.3882,0.39289999999999997,0.39759999999999995,0.40240000000000004,0.40740000000000004,0.4125,0.4177,0.42310000000000003,0.4286,0.43420000000000003,0.44,0.4459,0.4521,0.4583,0.4648,0.4714,0.4783,0.4853,0.4925,0.5,0.5077,0.5156000000000001,0.5238,0.5323,0.541,0.55,0.5593,0.569,0.5789,0.5893,0.6,0.6111,0.6225999999999999,0.6346,0.6470999999999999,0.66,0.6735,0.6875,0.7021,0.7173999999999999,0.7333,0.75,0.7674,0.7857,0.8049,0.825,0.8462000000000001,0.8684000000000001,0.8919,0.9167000000000001,0.9429000000000001,0.9706,1.0,1.0,1.0,1.0,1.0,1.0,1.0,1.0,1.0,1.0,1.0,1.0,1.0,1.0,1.0,1.0,1.0,1.0,1.0,1.0,1.0,1.0,1.0,1.0,1.0,1.0,1.0,1.0,1.0,1.0,1.0,1.0,1.0],\"type\":\"scatter\"},{\"line\":{\"color\":\"blue\",\"width\":3},\"name\":\"Confidence model\",\"x\":[0,1,2,3,4,5,6,7,8,9,10,11,12,13,14,15,16,17,18,19,20,21,22,23,24,25,26,27,28,29,30,31,32,33,34,35,36,37,38,39,40,41,42,43,44,45,46,47,48,49,50,51,52,53,54,55,56,57,58,59,60,61,62,63,64,65,66,67,68,69,70,71,72,73,74,75,76,77,78,79,80,81,82,83,84,85,86,87,88,89,90,91,92,93,94,95,96,97,98,99],\"y\":[0.33,0.3333,0.3367,0.34020000000000006,0.34380000000000005,0.34740000000000004,0.35109999999999997,0.35479999999999995,0.35869999999999996,0.3626,0.3667,0.37079999999999996,0.3636,0.3678,0.3721,0.3765,0.381,0.38549999999999995,0.39020000000000005,0.3951,0.4,0.40509999999999996,0.4103,0.40259999999999996,0.4079,0.4133,0.4054,0.41100000000000003,0.4167,0.4225,0.4286,0.43479999999999996,0.4412,0.44780000000000003,0.4545,0.46149999999999997,0.46880000000000005,0.47619999999999996,0.4839,0.4918,0.4833,0.4915,0.5,0.5088,0.5179,0.5273,0.537,0.5283,0.5192,0.5097999999999999,0.52,0.5306000000000001,0.5417000000000001,0.5532,0.5652,0.5556,0.5682,0.5581,0.5476,0.561,0.575,0.5897,0.6053000000000001,0.6215999999999999,0.6389,0.6570999999999999,0.6470999999999999,0.6364,0.6562,0.6774,0.7,0.7241,0.7143,0.7406999999999999,0.7308,0.76,0.7917000000000001,0.7826000000000001,0.7726999999999999,0.7619,0.75,0.7895,0.8332999999999999,0.8824,0.875,0.9333,0.9286,0.9231,0.9167000000000001,1.0,1.0,1.0,1.0,1.0,1.0,1.0,1.0,1.0,1.0,1.0],\"type\":\"scatter\"}],                        {\"template\":{\"data\":{\"histogram2dcontour\":[{\"type\":\"histogram2dcontour\",\"colorbar\":{\"outlinewidth\":0,\"ticks\":\"\"},\"colorscale\":[[0.0,\"#0d0887\"],[0.1111111111111111,\"#46039f\"],[0.2222222222222222,\"#7201a8\"],[0.3333333333333333,\"#9c179e\"],[0.4444444444444444,\"#bd3786\"],[0.5555555555555556,\"#d8576b\"],[0.6666666666666666,\"#ed7953\"],[0.7777777777777778,\"#fb9f3a\"],[0.8888888888888888,\"#fdca26\"],[1.0,\"#f0f921\"]]}],\"choropleth\":[{\"type\":\"choropleth\",\"colorbar\":{\"outlinewidth\":0,\"ticks\":\"\"}}],\"histogram2d\":[{\"type\":\"histogram2d\",\"colorbar\":{\"outlinewidth\":0,\"ticks\":\"\"},\"colorscale\":[[0.0,\"#0d0887\"],[0.1111111111111111,\"#46039f\"],[0.2222222222222222,\"#7201a8\"],[0.3333333333333333,\"#9c179e\"],[0.4444444444444444,\"#bd3786\"],[0.5555555555555556,\"#d8576b\"],[0.6666666666666666,\"#ed7953\"],[0.7777777777777778,\"#fb9f3a\"],[0.8888888888888888,\"#fdca26\"],[1.0,\"#f0f921\"]]}],\"heatmap\":[{\"type\":\"heatmap\",\"colorbar\":{\"outlinewidth\":0,\"ticks\":\"\"},\"colorscale\":[[0.0,\"#0d0887\"],[0.1111111111111111,\"#46039f\"],[0.2222222222222222,\"#7201a8\"],[0.3333333333333333,\"#9c179e\"],[0.4444444444444444,\"#bd3786\"],[0.5555555555555556,\"#d8576b\"],[0.6666666666666666,\"#ed7953\"],[0.7777777777777778,\"#fb9f3a\"],[0.8888888888888888,\"#fdca26\"],[1.0,\"#f0f921\"]]}],\"heatmapgl\":[{\"type\":\"heatmapgl\",\"colorbar\":{\"outlinewidth\":0,\"ticks\":\"\"},\"colorscale\":[[0.0,\"#0d0887\"],[0.1111111111111111,\"#46039f\"],[0.2222222222222222,\"#7201a8\"],[0.3333333333333333,\"#9c179e\"],[0.4444444444444444,\"#bd3786\"],[0.5555555555555556,\"#d8576b\"],[0.6666666666666666,\"#ed7953\"],[0.7777777777777778,\"#fb9f3a\"],[0.8888888888888888,\"#fdca26\"],[1.0,\"#f0f921\"]]}],\"contourcarpet\":[{\"type\":\"contourcarpet\",\"colorbar\":{\"outlinewidth\":0,\"ticks\":\"\"}}],\"contour\":[{\"type\":\"contour\",\"colorbar\":{\"outlinewidth\":0,\"ticks\":\"\"},\"colorscale\":[[0.0,\"#0d0887\"],[0.1111111111111111,\"#46039f\"],[0.2222222222222222,\"#7201a8\"],[0.3333333333333333,\"#9c179e\"],[0.4444444444444444,\"#bd3786\"],[0.5555555555555556,\"#d8576b\"],[0.6666666666666666,\"#ed7953\"],[0.7777777777777778,\"#fb9f3a\"],[0.8888888888888888,\"#fdca26\"],[1.0,\"#f0f921\"]]}],\"surface\":[{\"type\":\"surface\",\"colorbar\":{\"outlinewidth\":0,\"ticks\":\"\"},\"colorscale\":[[0.0,\"#0d0887\"],[0.1111111111111111,\"#46039f\"],[0.2222222222222222,\"#7201a8\"],[0.3333333333333333,\"#9c179e\"],[0.4444444444444444,\"#bd3786\"],[0.5555555555555556,\"#d8576b\"],[0.6666666666666666,\"#ed7953\"],[0.7777777777777778,\"#fb9f3a\"],[0.8888888888888888,\"#fdca26\"],[1.0,\"#f0f921\"]]}],\"mesh3d\":[{\"type\":\"mesh3d\",\"colorbar\":{\"outlinewidth\":0,\"ticks\":\"\"}}],\"scatter\":[{\"fillpattern\":{\"fillmode\":\"overlay\",\"size\":10,\"solidity\":0.2},\"type\":\"scatter\"}],\"parcoords\":[{\"type\":\"parcoords\",\"line\":{\"colorbar\":{\"outlinewidth\":0,\"ticks\":\"\"}}}],\"scatterpolargl\":[{\"type\":\"scatterpolargl\",\"marker\":{\"colorbar\":{\"outlinewidth\":0,\"ticks\":\"\"}}}],\"bar\":[{\"error_x\":{\"color\":\"#2a3f5f\"},\"error_y\":{\"color\":\"#2a3f5f\"},\"marker\":{\"line\":{\"color\":\"#E5ECF6\",\"width\":0.5},\"pattern\":{\"fillmode\":\"overlay\",\"size\":10,\"solidity\":0.2}},\"type\":\"bar\"}],\"scattergeo\":[{\"type\":\"scattergeo\",\"marker\":{\"colorbar\":{\"outlinewidth\":0,\"ticks\":\"\"}}}],\"scatterpolar\":[{\"type\":\"scatterpolar\",\"marker\":{\"colorbar\":{\"outlinewidth\":0,\"ticks\":\"\"}}}],\"histogram\":[{\"marker\":{\"pattern\":{\"fillmode\":\"overlay\",\"size\":10,\"solidity\":0.2}},\"type\":\"histogram\"}],\"scattergl\":[{\"type\":\"scattergl\",\"marker\":{\"colorbar\":{\"outlinewidth\":0,\"ticks\":\"\"}}}],\"scatter3d\":[{\"type\":\"scatter3d\",\"line\":{\"colorbar\":{\"outlinewidth\":0,\"ticks\":\"\"}},\"marker\":{\"colorbar\":{\"outlinewidth\":0,\"ticks\":\"\"}}}],\"scattermapbox\":[{\"type\":\"scattermapbox\",\"marker\":{\"colorbar\":{\"outlinewidth\":0,\"ticks\":\"\"}}}],\"scatterternary\":[{\"type\":\"scatterternary\",\"marker\":{\"colorbar\":{\"outlinewidth\":0,\"ticks\":\"\"}}}],\"scattercarpet\":[{\"type\":\"scattercarpet\",\"marker\":{\"colorbar\":{\"outlinewidth\":0,\"ticks\":\"\"}}}],\"carpet\":[{\"aaxis\":{\"endlinecolor\":\"#2a3f5f\",\"gridcolor\":\"white\",\"linecolor\":\"white\",\"minorgridcolor\":\"white\",\"startlinecolor\":\"#2a3f5f\"},\"baxis\":{\"endlinecolor\":\"#2a3f5f\",\"gridcolor\":\"white\",\"linecolor\":\"white\",\"minorgridcolor\":\"white\",\"startlinecolor\":\"#2a3f5f\"},\"type\":\"carpet\"}],\"table\":[{\"cells\":{\"fill\":{\"color\":\"#EBF0F8\"},\"line\":{\"color\":\"white\"}},\"header\":{\"fill\":{\"color\":\"#C8D4E3\"},\"line\":{\"color\":\"white\"}},\"type\":\"table\"}],\"barpolar\":[{\"marker\":{\"line\":{\"color\":\"#E5ECF6\",\"width\":0.5},\"pattern\":{\"fillmode\":\"overlay\",\"size\":10,\"solidity\":0.2}},\"type\":\"barpolar\"}],\"pie\":[{\"automargin\":true,\"type\":\"pie\"}]},\"layout\":{\"autotypenumbers\":\"strict\",\"colorway\":[\"#636efa\",\"#EF553B\",\"#00cc96\",\"#ab63fa\",\"#FFA15A\",\"#19d3f3\",\"#FF6692\",\"#B6E880\",\"#FF97FF\",\"#FECB52\"],\"font\":{\"color\":\"#2a3f5f\"},\"hovermode\":\"closest\",\"hoverlabel\":{\"align\":\"left\"},\"paper_bgcolor\":\"white\",\"plot_bgcolor\":\"#E5ECF6\",\"polar\":{\"bgcolor\":\"#E5ECF6\",\"angularaxis\":{\"gridcolor\":\"white\",\"linecolor\":\"white\",\"ticks\":\"\"},\"radialaxis\":{\"gridcolor\":\"white\",\"linecolor\":\"white\",\"ticks\":\"\"}},\"ternary\":{\"bgcolor\":\"#E5ECF6\",\"aaxis\":{\"gridcolor\":\"white\",\"linecolor\":\"white\",\"ticks\":\"\"},\"baxis\":{\"gridcolor\":\"white\",\"linecolor\":\"white\",\"ticks\":\"\"},\"caxis\":{\"gridcolor\":\"white\",\"linecolor\":\"white\",\"ticks\":\"\"}},\"coloraxis\":{\"colorbar\":{\"outlinewidth\":0,\"ticks\":\"\"}},\"colorscale\":{\"sequential\":[[0.0,\"#0d0887\"],[0.1111111111111111,\"#46039f\"],[0.2222222222222222,\"#7201a8\"],[0.3333333333333333,\"#9c179e\"],[0.4444444444444444,\"#bd3786\"],[0.5555555555555556,\"#d8576b\"],[0.6666666666666666,\"#ed7953\"],[0.7777777777777778,\"#fb9f3a\"],[0.8888888888888888,\"#fdca26\"],[1.0,\"#f0f921\"]],\"sequentialminus\":[[0.0,\"#0d0887\"],[0.1111111111111111,\"#46039f\"],[0.2222222222222222,\"#7201a8\"],[0.3333333333333333,\"#9c179e\"],[0.4444444444444444,\"#bd3786\"],[0.5555555555555556,\"#d8576b\"],[0.6666666666666666,\"#ed7953\"],[0.7777777777777778,\"#fb9f3a\"],[0.8888888888888888,\"#fdca26\"],[1.0,\"#f0f921\"]],\"diverging\":[[0,\"#8e0152\"],[0.1,\"#c51b7d\"],[0.2,\"#de77ae\"],[0.3,\"#f1b6da\"],[0.4,\"#fde0ef\"],[0.5,\"#f7f7f7\"],[0.6,\"#e6f5d0\"],[0.7,\"#b8e186\"],[0.8,\"#7fbc41\"],[0.9,\"#4d9221\"],[1,\"#276419\"]]},\"xaxis\":{\"gridcolor\":\"white\",\"linecolor\":\"white\",\"ticks\":\"\",\"title\":{\"standoff\":15},\"zerolinecolor\":\"white\",\"automargin\":true,\"zerolinewidth\":2},\"yaxis\":{\"gridcolor\":\"white\",\"linecolor\":\"white\",\"ticks\":\"\",\"title\":{\"standoff\":15},\"zerolinecolor\":\"white\",\"automargin\":true,\"zerolinewidth\":2},\"scene\":{\"xaxis\":{\"backgroundcolor\":\"#E5ECF6\",\"gridcolor\":\"white\",\"linecolor\":\"white\",\"showbackground\":true,\"ticks\":\"\",\"zerolinecolor\":\"white\",\"gridwidth\":2},\"yaxis\":{\"backgroundcolor\":\"#E5ECF6\",\"gridcolor\":\"white\",\"linecolor\":\"white\",\"showbackground\":true,\"ticks\":\"\",\"zerolinecolor\":\"white\",\"gridwidth\":2},\"zaxis\":{\"backgroundcolor\":\"#E5ECF6\",\"gridcolor\":\"white\",\"linecolor\":\"white\",\"showbackground\":true,\"ticks\":\"\",\"zerolinecolor\":\"white\",\"gridwidth\":2}},\"shapedefaults\":{\"line\":{\"color\":\"#2a3f5f\"}},\"annotationdefaults\":{\"arrowcolor\":\"#2a3f5f\",\"arrowhead\":0,\"arrowwidth\":1},\"geo\":{\"bgcolor\":\"white\",\"landcolor\":\"#E5ECF6\",\"subunitcolor\":\"white\",\"showland\":true,\"showlakes\":true,\"lakecolor\":\"white\"},\"title\":{\"x\":0.05},\"mapbox\":{\"style\":\"light\"}}},\"margin\":{\"l\":60,\"r\":5,\"t\":5,\"b\":60},\"legend\":{\"title\":{\"font\":{\"size\":1},\"text\":\"\"},\"font\":{\"size\":20,\"color\":\"black\"},\"yanchor\":\"bottom\",\"y\":0.01,\"xanchor\":\"right\",\"x\":0.99},\"xaxis\":{\"title\":{\"text\":\"Percentage of rejected complexes\",\"font\":{\"size\":23,\"color\":\"black\"}},\"tickfont\":{\"size\":18,\"color\":\"black\"},\"showgrid\":true,\"gridcolor\":\"lightgrey\",\"mirror\":true,\"ticks\":\"outside\",\"showline\":true,\"linewidth\":1,\"linecolor\":\"black\"},\"yaxis\":{\"title\":{\"text\":\"Fraction with RMSD < 2\\u00c5\",\"font\":{\"size\":23,\"color\":\"black\"}},\"range\":[0.01,1.03],\"tickfont\":{\"size\":18,\"color\":\"black\"},\"showgrid\":true,\"gridcolor\":\"lightgrey\",\"mirror\":true,\"ticks\":\"outside\",\"showline\":true,\"linewidth\":1,\"linecolor\":\"black\"},\"width\":600,\"height\":400,\"plot_bgcolor\":\"white\",\"paper_bgcolor\":\"white\"},                        {\"responsive\": true}                    ).then(function(){\n",
       "                            \n",
       "var gd = document.getElementById('c469fda8-e159-4f81-9c76-3571807983bb');\n",
       "var x = new MutationObserver(function (mutations, observer) {{\n",
       "        var display = window.getComputedStyle(gd).display;\n",
       "        if (!display || display === 'none') {{\n",
       "            console.log([gd, 'removed!']);\n",
       "            Plotly.purge(gd);\n",
       "            observer.disconnect();\n",
       "        }}\n",
       "}});\n",
       "\n",
       "// Listen for the removal of the full notebook cells\n",
       "var notebookContainer = gd.closest('#notebook-container');\n",
       "if (notebookContainer) {{\n",
       "    x.observe(notebookContainer, {childList: true});\n",
       "}}\n",
       "\n",
       "// Listen for the clearing of the current output cell\n",
       "var outputEl = gd.closest('.output');\n",
       "if (outputEl) {{\n",
       "    x.observe(outputEl, {childList: true});\n",
       "}}\n",
       "\n",
       "                        })                };                });            </script>        </div>"
      ]
     },
     "metadata": {},
     "output_type": "display_data"
    }
   ],
   "source": [
    "import plotly.graph_objects as go\n",
    "from plotly.offline import init_notebook_mode, iplot\n",
    "\n",
    "traces={}\n",
    "traces['Baseline performance']=go.Scatter(x=list(range(100)), y=list(reversed([c/100 for c in no_calibration])), name='Baseline performance', line=dict(color='red',width=3, dash = 'dash'))\n",
    "traces['Perfect selection']=go.Scatter(x=list(range(100)), y=list(reversed([c/100 for c in perfect_calibration])), name='Perfect selection', line=dict(color='green',width=3, dash = 'dash'))\n",
    "traces['Confidence model']=go.Scatter(x=list(range(100)), y=list(reversed([c/100 for c in fraction_dataset_rmsds_below_2])), name='Confidence model', line=dict(color='blue',width=3))\n",
    "data=list(traces.values())\n",
    "\n",
    "# build and plot figure\n",
    "fig=go.Figure(data).update_layout(xaxis_title=\"Percentage of rejected complexes\", yaxis_title=\"Fraction with RMSD < 2Å\", width=600, height=400,\n",
    "                                 margin={'l': 60, 'r': 5, 't': 5, 'b': 60}, plot_bgcolor='white',\n",
    "                paper_bgcolor='white', legend_title_text='', legend_title_font_size=1,\n",
    "                legend=dict(yanchor=\"bottom\", y=0.01, xanchor=\"right\", x=0.99, font=dict(size=20, color='black'), ),\n",
    "                )\n",
    "fig.update_yaxes(range = [0.01,1.03])\n",
    "fig.update_layout(margin={'l': 60, 'r': 5, 't': 5, 'b': 60}, plot_bgcolor='white',\n",
    "                paper_bgcolor='white', legend_title_text='', legend_title_font_size=1,\n",
    "                legend=dict(yanchor=\"bottom\", y=0.01, xanchor=\"right\", x=0.99, font=dict(size=20, color='black'), ),\n",
    "                )\n",
    "fig.update_xaxes(showgrid=True, gridcolor='lightgrey',title_font=dict(size=23, color='black'),mirror=True,ticks='outside',showline=True, linewidth=1, linecolor='black', tickfont = dict(size = 18, color='black'))\n",
    "fig.update_yaxes(showgrid=True, gridcolor='lightgrey',title_font=dict(size=23, color='black'),mirror=True,ticks='outside',showline=True, linewidth=1, linecolor='black', tickfont = dict(size = 18, color='black'))\n",
    "fig.write_image('../../plots/confidence_calibration.pdf')\n",
    "\n",
    "fig.show()"
   ]
  },
  {
   "cell_type": "markdown",
   "id": "f095182c-5c37-4e54-8bb6-2ac2a435ba6f",
   "metadata": {
    "tags": []
   },
   "source": [
    "### New calibration plot"
   ]
  },
  {
   "cell_type": "code",
   "execution_count": 119,
   "id": "3a2a18ca-e617-4e51-9aec-d4ebd235e06b",
   "metadata": {},
   "outputs": [
    {
     "data": {
      "image/png": "[encoded data removed]",
      "text/plain": [
       "<Figure size 550x339.919 with 1 Axes>"
      ]
     },
     "metadata": {},
     "output_type": "display_data"
    }
   ],
   "source": [
    "from matplotlib import rc\n",
    "rc(\"text\", usetex=False)\n",
    "# rc(\"font\",)\n",
    "\n",
    "fraction = 1\n",
    "xs = list(range(100))\n",
    "\n",
    "fig,axs = plt.subplots(1, 1,figsize=set_size(width=width,fraction=fraction))  # fraction image should cover\n",
    "\n",
    "ys = list(reversed([c/100 for c in no_calibration]))\n",
    "axs.plot(xs, ys, \"-.\", linewidth=0.7, label='Baseline performance')\n",
    "\n",
    "ys = list(reversed([c/100 for c in perfect_calibration]))\n",
    "axs.plot(xs, ys, \"--\", linewidth=0.7, label = 'Perfect selection')\n",
    "\n",
    "ys = list(reversed([c/100 for c in fraction_dataset_rmsds_below_2]))\n",
    "axs.plot(xs, ys, \"-\", linewidth=0.7, label = 'Confidence model')\n",
    "\n",
    "# axs.axhline(y = 1, color = 'r', linestyle = '--',linewidth=0.3)\n",
    "axs.set_xlabel(\"Percentage of rejected complexes\")\n",
    "axs.set_ylabel(\"Fraction with RMSD < 2Å\")\n",
    "axs.grid(which=\"both\",linestyle=\":\",linewidth=0.4)\n",
    "axs.tick_params(axis='both', which='major')\n",
    "# axs.spines['top'].set_visible(False)\n",
    "# axs.spines['right'].set_visible(False)\n",
    "axs.legend(frameon=False)\n",
    "fig.savefig('../../plots/confidence_calibration_new.pdf', format='pdf', bbox_inches='tight')"
   ]
  },
  {
   "cell_type": "markdown",
   "id": "b8e64d92-32f9-4008-a9f0-53e285f36ccf",
   "metadata": {
    "tags": []
   },
   "source": [
    "### Old fraction plot"
   ]
  },
  {
   "cell_type": "code",
   "execution_count": 120,
   "id": "b502999d-7374-4ba0-af33-9a3fb82bfde6",
   "metadata": {},
   "outputs": [
    {
     "data": {
      "application/vnd.plotly.v1+json": {
       "config": {
        "plotlyServerURL": "https://plot.ly"
       },
       "data": [
        {
         "hovertemplate": "variable=diffdock-protein<br>value=%{x}<br>probability=%{y}<extra></extra>",
         "legendgroup": "diffdock-protein",
         "line": {
          "dash": "solid",
          "shape": "hv",
          "width": 3
         },
         "marker": {
          "color": "#636efa",
          "symbol": "circle"
         },
         "mode": "lines",
         "name": "diffdock-protein",
         "orientation": "v",
         "showlegend": true,
         "type": "scatter",
         "x": [
          0.29337215423583984,
          0.29837268590927124,
          0.3149850368499756,
          0.3338100016117096,
          0.3536398112773895,
          0.35455062985420227,
          0.3792314827442169,
          0.39423638582229614,
          0.409523606300354,
          0.41076183319091797,
          0.4751858115196228,
          0.48367053270339966,
          0.5056793689727783,
          0.5075879693031311,
          0.5659351944923401,
          0.5866617560386658,
          0.5997687578201294,
          0.6091830134391785,
          0.6471918225288391,
          0.6482177376747131,
          0.6484763622283936,
          0.8134889006614685,
          0.9133404493331909,
          0.9508169889450073,
          0.9637764692306519,
          0.9808865785598755,
          1.0353672504425049,
          1.091842770576477,
          1.2470219135284424,
          1.4148938655853271,
          1.618407130241394,
          1.8526235818862915,
          1.9212756156921387,
          2.0526297092437744,
          2.067256212234497,
          2.4365286827087402,
          2.774144411087036,
          3.2892403602600098,
          3.610875368118286,
          3.624391794204712,
          3.902925968170166,
          4.3572845458984375,
          5.023752212524414,
          5.364858627319336,
          5.3707966804504395,
          6.900275230407715,
          7.787625312805176,
          8.639803886413574,
          9.042729377746582,
          10.076899528503418,
          10.357925415039062,
          10.998116493225098,
          12.507197380065918,
          13.923672676086426,
          14.688847541809082,
          15.342730522155762,
          15.571052551269531,
          15.613341331481934,
          16.04206085205078,
          16.08026123046875,
          16.44010111118529,
          16.790884017944336,
          17.06818962097168,
          17.473552703857422,
          17.68511712279496,
          17.81639289855957,
          17.85447065166751,
          18.002490997314453,
          18.552983260066274,
          18.65197260438355,
          18.856565706829056,
          19.052913170101508,
          19.73029688246926,
          20.144323348999023,
          20.42483757070842,
          20.75109100341797,
          20.756996154785156,
          21.99633432046963,
          22.474027102662507,
          22.539018630981445,
          22.97905548819264,
          23.383129119873047,
          24.276117754194217,
          24.53851318359375,
          24.67802619934082,
          25.265729904174805,
          25.40180015563965,
          25.890003641128217,
          26.068697004915393,
          26.726399183944913,
          27.188622339276282,
          28.36931610107422,
          28.414894104003906,
          28.95823422155466,
          29.197484034624207,
          30.382382440425992,
          34.73707962036133,
          37.52456255439462,
          44.54241943359375,
          48.170982360839844
         ],
         "xaxis": "x",
         "y": [
          0.01,
          0.02,
          0.03,
          0.04,
          0.05,
          0.06,
          0.07,
          0.08,
          0.09,
          0.1,
          0.11,
          0.12,
          0.13,
          0.14,
          0.15,
          0.16,
          0.17,
          0.18,
          0.19,
          0.2,
          0.21,
          0.22,
          0.23,
          0.24,
          0.25,
          0.26,
          0.27,
          0.28,
          0.29,
          0.3,
          0.31,
          0.32,
          0.33,
          0.34,
          0.35,
          0.36,
          0.37,
          0.38,
          0.39,
          0.4,
          0.41,
          0.42,
          0.43,
          0.44,
          0.45,
          0.46,
          0.47,
          0.48,
          0.49,
          0.5,
          0.51,
          0.52,
          0.53,
          0.54,
          0.55,
          0.56,
          0.57,
          0.58,
          0.59,
          0.6,
          0.61,
          0.62,
          0.63,
          0.64,
          0.65,
          0.66,
          0.67,
          0.68,
          0.69,
          0.7,
          0.71,
          0.72,
          0.73,
          0.74,
          0.75,
          0.76,
          0.77,
          0.78,
          0.79,
          0.8,
          0.81,
          0.82,
          0.83,
          0.84,
          0.85,
          0.86,
          0.87,
          0.88,
          0.89,
          0.9,
          0.91,
          0.92,
          0.93,
          0.94,
          0.95,
          0.96,
          0.97,
          0.98,
          0.99,
          1
         ],
         "yaxis": "y"
        },
        {
         "hovertemplate": "variable=attract<br>value=%{x}<br>probability=%{y}<extra></extra>",
         "legendgroup": "attract",
         "line": {
          "dash": "solid",
          "shape": "hv",
          "width": 3
         },
         "marker": {
          "color": "#EF553B",
          "symbol": "circle"
         },
         "mode": "lines",
         "name": "attract",
         "orientation": "v",
         "showlegend": true,
         "type": "scatter",
         "x": [
          0.13926233,
          0.28044233,
          0.29276285,
          0.3360423,
          0.3396759,
          0.3518394,
          0.3563808,
          0.36998016,
          0.3826338,
          0.45265192,
          0.51638377,
          0.54319364,
          0.56779015,
          0.56811786,
          0.57774603,
          0.5941723,
          0.645793,
          0.8302002,
          0.86829495,
          0.9613879,
          2.5413656,
          3.3541293,
          4.19255,
          5.2775273,
          5.93925,
          7.109903,
          7.1512103,
          7.862554,
          8.204019,
          8.681912,
          8.948145,
          9.307716,
          9.625087,
          10.277538,
          10.41621,
          10.958036,
          11.512081,
          11.558826,
          11.8054085,
          11.91232,
          12.724872,
          12.728029,
          13.053833,
          16.13535849745032,
          16.489124,
          16.654251,
          16.881622201200468,
          16.936733,
          16.985798,
          17.101927,
          17.242737,
          17.24560027193968,
          17.26072914255932,
          17.261285584384705,
          17.403548109514354,
          17.438412,
          17.466822,
          17.651161,
          17.672428,
          17.71775023456783,
          17.755268,
          17.90271099637255,
          18.432749840455607,
          18.703472,
          19.125182824562657,
          19.38609,
          19.732384,
          20.018314003393044,
          20.031883,
          20.108066024939134,
          20.302092,
          20.436136,
          20.469116759412493,
          20.57085068365913,
          20.577295,
          20.647863,
          20.882835,
          20.98024,
          21.054924513135983,
          22.604015783137648,
          22.930610867067113,
          23.259281273065955,
          23.54531859780378,
          23.951239,
          23.984114,
          24.080978,
          24.862658,
          25.43430424019306,
          25.649985210593556,
          25.800375,
          27.58495509032034,
          29.1075086288899,
          29.78379450084901,
          30.516750524119377,
          32.98263136992018,
          33.15508,
          34.476753,
          37.165367,
          43.63907158365498,
          44.615074
         ],
         "xaxis": "x",
         "y": [
          0.01,
          0.02,
          0.03,
          0.04,
          0.05,
          0.06,
          0.07,
          0.08,
          0.09,
          0.1,
          0.11,
          0.12,
          0.13,
          0.14,
          0.15,
          0.16,
          0.17,
          0.18,
          0.19,
          0.2,
          0.21,
          0.22,
          0.23,
          0.24,
          0.25,
          0.26,
          0.27,
          0.28,
          0.29,
          0.3,
          0.31,
          0.32,
          0.33,
          0.34,
          0.35,
          0.36,
          0.37,
          0.38,
          0.39,
          0.4,
          0.41,
          0.42,
          0.43,
          0.44,
          0.45,
          0.46,
          0.47,
          0.48,
          0.49,
          0.5,
          0.51,
          0.52,
          0.53,
          0.54,
          0.55,
          0.56,
          0.57,
          0.58,
          0.59,
          0.6,
          0.61,
          0.62,
          0.63,
          0.64,
          0.65,
          0.66,
          0.67,
          0.68,
          0.69,
          0.7,
          0.71,
          0.72,
          0.73,
          0.74,
          0.75,
          0.76,
          0.77,
          0.78,
          0.79,
          0.8,
          0.81,
          0.82,
          0.83,
          0.84,
          0.85,
          0.86,
          0.87,
          0.88,
          0.89,
          0.9,
          0.91,
          0.92,
          0.93,
          0.94,
          0.95,
          0.96,
          0.97,
          0.98,
          0.99,
          1
         ],
         "yaxis": "y"
        },
        {
         "hovertemplate": "variable=cluspro<br>value=%{x}<br>probability=%{y}<extra></extra>",
         "legendgroup": "cluspro",
         "line": {
          "dash": "solid",
          "shape": "hv",
          "width": 3
         },
         "marker": {
          "color": "#00cc96",
          "symbol": "circle"
         },
         "mode": "lines",
         "name": "cluspro",
         "orientation": "v",
         "showlegend": true,
         "type": "scatter",
         "x": [
          1.0791215,
          1.1289107,
          1.2288606,
          1.3202577,
          1.3812093,
          1.3842183,
          1.428762,
          1.6190084,
          1.6205424,
          1.6487021,
          1.8683163,
          1.8860611,
          2.0267456,
          2.06938,
          2.1438835,
          2.2734315,
          2.2999032,
          2.321918,
          2.3614857,
          2.408143,
          2.422817,
          2.441057,
          2.7920067,
          2.826617,
          2.892418,
          3.1511297,
          3.2065465,
          5.26716,
          5.618074,
          6.200603,
          7.420137,
          8.248759,
          8.875254,
          9.0091915,
          9.282827,
          10.131629,
          10.931585,
          10.932718,
          11.19488,
          11.640525,
          12.230226,
          12.239919,
          12.298831,
          12.356631,
          13.184248,
          13.272171,
          13.529312,
          13.809646174867325,
          14.746573,
          15.552038,
          15.984027,
          16.05196,
          16.138645,
          16.17225643001393,
          16.47234240297411,
          16.537382,
          16.624645,
          16.7899,
          17.208694,
          17.85073554909017,
          18.120731,
          18.16145,
          18.346165,
          18.36683529268962,
          18.563839431749187,
          18.80432337343014,
          19.188148,
          19.613487,
          19.705551,
          19.958738,
          20.55537455110217,
          20.835938,
          20.862631370602156,
          21.053911,
          21.19899,
          21.272709,
          21.34213,
          21.75875867557272,
          22.319508,
          22.386786,
          22.598421496512625,
          22.799160617900977,
          22.852054741053713,
          22.968386,
          23.53331828893549,
          23.697243,
          23.841232,
          24.01753,
          24.785536,
          25.37090713424328,
          27.515972,
          28.140274,
          28.163734,
          28.984793722213507,
          31.271896806453448,
          32.6886,
          33.730808755460686,
          36.37994966544499,
          41.9670228957909,
          50.271122
         ],
         "xaxis": "x",
         "y": [
          0.01,
          0.02,
          0.03,
          0.04,
          0.05,
          0.06,
          0.07,
          0.08,
          0.09,
          0.1,
          0.11,
          0.12,
          0.13,
          0.14,
          0.15,
          0.16,
          0.17,
          0.18,
          0.19,
          0.2,
          0.21,
          0.22,
          0.23,
          0.24,
          0.25,
          0.26,
          0.27,
          0.28,
          0.29,
          0.3,
          0.31,
          0.32,
          0.33,
          0.34,
          0.35,
          0.36,
          0.37,
          0.38,
          0.39,
          0.4,
          0.41,
          0.42,
          0.43,
          0.44,
          0.45,
          0.46,
          0.47,
          0.48,
          0.49,
          0.5,
          0.51,
          0.52,
          0.53,
          0.54,
          0.55,
          0.56,
          0.57,
          0.58,
          0.59,
          0.6,
          0.61,
          0.62,
          0.63,
          0.64,
          0.65,
          0.66,
          0.67,
          0.68,
          0.69,
          0.7,
          0.71,
          0.72,
          0.73,
          0.74,
          0.75,
          0.76,
          0.77,
          0.78,
          0.79,
          0.8,
          0.81,
          0.82,
          0.83,
          0.84,
          0.85,
          0.86,
          0.87,
          0.88,
          0.89,
          0.9,
          0.91,
          0.92,
          0.93,
          0.94,
          0.95,
          0.96,
          0.97,
          0.98,
          0.99,
          1
         ],
         "yaxis": "y"
        },
        {
         "hovertemplate": "variable=equidock<br>value=%{x}<br>probability=%{y}<extra></extra>",
         "legendgroup": "equidock",
         "line": {
          "dash": "solid",
          "shape": "hv",
          "width": 3
         },
         "marker": {
          "color": "#ab63fa",
          "symbol": "circle"
         },
         "mode": "lines",
         "name": "equidock",
         "orientation": "v",
         "showlegend": true,
         "type": "scatter",
         "x": [
          3.086964,
          3.496285,
          3.9157052,
          4.118489,
          4.535472,
          4.5486646,
          4.6701894,
          4.6819143,
          5.0037794,
          5.3198256,
          5.6943393,
          6.015103,
          6.1657743,
          6.692734,
          7.079491,
          7.136693,
          7.293921,
          7.326297,
          7.7577877,
          7.9488115,
          8.180616,
          8.898297,
          8.9339285,
          9.004719,
          9.0090475,
          9.215119,
          9.332714,
          9.974966,
          9.981788,
          10.344348,
          10.484818,
          10.708545,
          10.773391,
          10.814375,
          10.943029,
          11.125654,
          11.251227,
          11.358077,
          11.437514,
          11.790681,
          11.829566,
          12.162584,
          12.245829,
          12.304459,
          12.637305,
          12.6414,
          12.683036,
          12.867304,
          13.051564,
          13.266085,
          13.324085,
          13.452335,
          13.603851,
          13.623114,
          13.728079,
          13.826901,
          13.869269,
          13.888817,
          14.743053,
          14.97206754302488,
          15.59642,
          15.667229,
          16.477139,
          16.647066,
          16.656525,
          17.156012,
          17.5495,
          17.711891,
          17.738956,
          17.81966,
          18.076198603253562,
          18.09079,
          18.34845,
          18.860292,
          19.32488,
          19.326602836217806,
          19.497345,
          19.716192,
          20.886862,
          21.107668,
          21.121943,
          21.485173946364505,
          21.677664,
          21.923346,
          22.11786,
          22.219748,
          22.91793099147611,
          22.995651,
          23.088722376365606,
          24.26090554954478,
          24.34559732564751,
          25.213192,
          25.77304,
          26.676037,
          27.532476,
          29.15299795610851,
          29.35213493566967,
          30.314968,
          30.367096,
          36.93968469289514
         ],
         "xaxis": "x",
         "y": [
          0.01,
          0.02,
          0.03,
          0.04,
          0.05,
          0.06,
          0.07,
          0.08,
          0.09,
          0.1,
          0.11,
          0.12,
          0.13,
          0.14,
          0.15,
          0.16,
          0.17,
          0.18,
          0.19,
          0.2,
          0.21,
          0.22,
          0.23,
          0.24,
          0.25,
          0.26,
          0.27,
          0.28,
          0.29,
          0.3,
          0.31,
          0.32,
          0.33,
          0.34,
          0.35,
          0.36,
          0.37,
          0.38,
          0.39,
          0.4,
          0.41,
          0.42,
          0.43,
          0.44,
          0.45,
          0.46,
          0.47,
          0.48,
          0.49,
          0.5,
          0.51,
          0.52,
          0.53,
          0.54,
          0.55,
          0.56,
          0.57,
          0.58,
          0.59,
          0.6,
          0.61,
          0.62,
          0.63,
          0.64,
          0.65,
          0.66,
          0.67,
          0.68,
          0.69,
          0.7,
          0.71,
          0.72,
          0.73,
          0.74,
          0.75,
          0.76,
          0.77,
          0.78,
          0.79,
          0.8,
          0.81,
          0.82,
          0.83,
          0.84,
          0.85,
          0.86,
          0.87,
          0.88,
          0.89,
          0.9,
          0.91,
          0.92,
          0.93,
          0.94,
          0.95,
          0.96,
          0.97,
          0.98,
          0.99,
          1
         ],
         "yaxis": "y"
        },
        {
         "hovertemplate": "variable=equidock_no_clashes<br>value=%{x}<br>probability=%{y}<extra></extra>",
         "legendgroup": "equidock_no_clashes",
         "line": {
          "dash": "solid",
          "shape": "hv",
          "width": 3
         },
         "marker": {
          "color": "#FFA15A",
          "symbol": "circle"
         },
         "mode": "lines",
         "name": "equidock_no_clashes",
         "orientation": "v",
         "showlegend": true,
         "type": "scatter",
         "x": [
          3.2063944,
          3.9626238,
          4.6890736,
          4.854488,
          5.003777,
          5.0812325,
          5.6074305,
          5.830637,
          5.914674,
          6.772568,
          7.1493278,
          7.157131,
          7.412937,
          7.69613,
          7.8540225,
          8.3726635,
          8.922577,
          8.938602,
          9.064198,
          9.09119,
          9.215251,
          9.332712,
          9.684286,
          9.973169,
          10.144986,
          10.245159,
          10.277318,
          10.5436,
          10.708544,
          10.773505,
          10.812619,
          10.814094,
          11.125654,
          11.345355,
          11.488661,
          11.868132,
          11.925775,
          11.954982,
          12.050929,
          12.972145,
          13.06961,
          13.193971,
          13.649994,
          13.817116,
          13.959682,
          14.188639,
          14.362415,
          14.60547,
          14.972347077245434,
          15.08274,
          15.138084,
          15.632737,
          15.891233,
          16.072107,
          16.191797,
          16.254112,
          16.445993,
          16.483837,
          16.980988,
          17.127409,
          17.148636,
          17.188667,
          17.751663,
          18.001738846398982,
          18.290964,
          18.480593,
          18.594466807358778,
          18.837109,
          18.86084,
          18.957085,
          19.157454,
          19.173063,
          19.385542,
          19.492205,
          19.617002,
          19.986491960118236,
          20.757582,
          20.98873,
          21.264912,
          22.058651,
          22.095778,
          22.521105,
          22.55157669292433,
          22.814663,
          22.89118,
          22.972021,
          22.988674,
          23.164408,
          23.45749,
          24.638441,
          26.693936095867567,
          26.884487,
          27.02992,
          27.239542,
          27.26575,
          27.9102440244982,
          27.932526532240257,
          29.372736,
          31.385233390942265,
          55.725544
         ],
         "xaxis": "x",
         "y": [
          0.01,
          0.02,
          0.03,
          0.04,
          0.05,
          0.06,
          0.07,
          0.08,
          0.09,
          0.1,
          0.11,
          0.12,
          0.13,
          0.14,
          0.15,
          0.16,
          0.17,
          0.18,
          0.19,
          0.2,
          0.21,
          0.22,
          0.23,
          0.24,
          0.25,
          0.26,
          0.27,
          0.28,
          0.29,
          0.3,
          0.31,
          0.32,
          0.33,
          0.34,
          0.35,
          0.36,
          0.37,
          0.38,
          0.39,
          0.4,
          0.41,
          0.42,
          0.43,
          0.44,
          0.45,
          0.46,
          0.47,
          0.48,
          0.49,
          0.5,
          0.51,
          0.52,
          0.53,
          0.54,
          0.55,
          0.56,
          0.57,
          0.58,
          0.59,
          0.6,
          0.61,
          0.62,
          0.63,
          0.64,
          0.65,
          0.66,
          0.67,
          0.68,
          0.69,
          0.7,
          0.71,
          0.72,
          0.73,
          0.74,
          0.75,
          0.76,
          0.77,
          0.78,
          0.79,
          0.8,
          0.81,
          0.82,
          0.83,
          0.84,
          0.85,
          0.86,
          0.87,
          0.88,
          0.89,
          0.9,
          0.91,
          0.92,
          0.93,
          0.94,
          0.95,
          0.96,
          0.97,
          0.98,
          0.99,
          1
         ],
         "yaxis": "y"
        },
        {
         "hovertemplate": "variable=hdock<br>value=%{x}<br>probability=%{y}<extra></extra>",
         "legendgroup": "hdock",
         "line": {
          "dash": "solid",
          "shape": "hv",
          "width": 3
         },
         "marker": {
          "color": "#19d3f3",
          "symbol": "circle"
         },
         "mode": "lines",
         "name": "hdock",
         "orientation": "v",
         "showlegend": true,
         "type": "scatter",
         "x": [
          0.09739228,
          0.13396408,
          0.13723506,
          0.14219868,
          0.14631397,
          0.14711598,
          0.14997447,
          0.159777,
          0.16753589,
          0.16756319,
          0.18528672,
          0.18694603,
          0.18986985,
          0.1973532,
          0.20094694,
          0.20411785,
          0.20757328,
          0.21667063,
          0.21944077,
          0.22881126,
          0.23766896,
          0.23901394,
          0.25237945,
          0.25354743,
          0.25918084,
          0.26058832,
          0.26318946,
          0.2719173,
          0.27194557,
          0.27302614,
          0.2840395,
          0.29035673,
          0.29785106,
          0.30665216,
          0.30867314,
          0.31058094,
          0.32131216,
          0.3215714,
          0.3230386,
          0.32382804,
          0.386609,
          0.3873223,
          0.3947676,
          0.43581036,
          0.4476274,
          0.49874446,
          0.54023284,
          0.6364416,
          0.6388339,
          1.7708408,
          10.689176,
          12.767734,
          12.816834,
          13.516509,
          14.272941542738748,
          14.471848973090104,
          14.960728,
          16.210618352436228,
          16.21778,
          16.241758298080846,
          16.310375,
          16.52716483482519,
          16.528744,
          16.9461,
          16.977684,
          17.05035,
          17.411144,
          17.47952055176379,
          17.763971,
          17.857166,
          17.99379706916138,
          18.004137065633955,
          18.012806,
          19.274235940365667,
          19.890814,
          19.942215,
          19.946225634390586,
          20.30086958041589,
          20.504124,
          20.968086,
          22.768541,
          23.267322695994732,
          23.381801244565523,
          23.540895,
          23.939636,
          25.063835,
          25.4570416954303,
          25.472166,
          25.596235,
          25.67665,
          25.70162253257512,
          27.422504,
          27.771163361097994,
          28.523398336483446,
          29.255247065054707,
          29.796461299716775,
          30.55899065195135,
          34.384357,
          34.702515,
          41.93807301766305
         ],
         "xaxis": "x",
         "y": [
          0.01,
          0.02,
          0.03,
          0.04,
          0.05,
          0.06,
          0.07,
          0.08,
          0.09,
          0.1,
          0.11,
          0.12,
          0.13,
          0.14,
          0.15,
          0.16,
          0.17,
          0.18,
          0.19,
          0.2,
          0.21,
          0.22,
          0.23,
          0.24,
          0.25,
          0.26,
          0.27,
          0.28,
          0.29,
          0.3,
          0.31,
          0.32,
          0.33,
          0.34,
          0.35,
          0.36,
          0.37,
          0.38,
          0.39,
          0.4,
          0.41,
          0.42,
          0.43,
          0.44,
          0.45,
          0.46,
          0.47,
          0.48,
          0.49,
          0.5,
          0.51,
          0.52,
          0.53,
          0.54,
          0.55,
          0.56,
          0.57,
          0.58,
          0.59,
          0.6,
          0.61,
          0.62,
          0.63,
          0.64,
          0.65,
          0.66,
          0.67,
          0.68,
          0.69,
          0.7,
          0.71,
          0.72,
          0.73,
          0.74,
          0.75,
          0.76,
          0.77,
          0.78,
          0.79,
          0.8,
          0.81,
          0.82,
          0.83,
          0.84,
          0.85,
          0.86,
          0.87,
          0.88,
          0.89,
          0.9,
          0.91,
          0.92,
          0.93,
          0.94,
          0.95,
          0.96,
          0.97,
          0.98,
          0.99,
          1
         ],
         "yaxis": "y"
        },
        {
         "hovertemplate": "variable=patchdock<br>value=%{x}<br>probability=%{y}<extra></extra>",
         "legendgroup": "patchdock",
         "line": {
          "dash": "solid",
          "shape": "hv",
          "width": 3
         },
         "marker": {
          "color": "#FF6692",
          "symbol": "circle"
         },
         "mode": "lines",
         "name": "patchdock",
         "orientation": "v",
         "showlegend": true,
         "type": "scatter",
         "x": [
          0.30190653,
          0.33315933,
          0.37918857,
          0.38258007,
          0.39592913,
          0.5018107,
          0.502696,
          0.507428,
          0.52459943,
          0.5314335,
          0.5427138,
          0.5578077,
          0.55947393,
          0.5595326,
          0.5651308,
          0.66491234,
          0.6754066,
          0.69039917,
          0.6975938,
          0.70164,
          0.74455583,
          0.78634816,
          0.7949484,
          0.80097586,
          0.8444258,
          0.85612607,
          0.8851576,
          1.0473987,
          1.0548706,
          1.0890036,
          1.7487557,
          2.2087085,
          5.517232,
          7.8657722,
          8.908779,
          9.911485,
          10.972302,
          11.15052,
          11.898823760635755,
          11.971752,
          12.1974945,
          12.203954,
          12.66537,
          12.748268,
          12.795078,
          14.729518,
          14.82922013000073,
          14.956656,
          15.119362,
          15.173714,
          15.3180275,
          15.67386,
          16.133516,
          16.477316,
          16.780622,
          16.782587,
          16.9287,
          17.130844,
          17.379698,
          17.677065,
          17.728373,
          17.776281,
          17.778412,
          17.900162,
          17.932714,
          18.272633,
          19.114712,
          19.406618204063747,
          19.466602,
          19.63469,
          20.361296,
          20.535513,
          20.920116,
          21.01422950287091,
          21.224487539231717,
          21.349994259769787,
          21.717846733260696,
          23.162554794080073,
          23.228880986795332,
          23.302229,
          23.422509090825976,
          23.454101900462224,
          24.264685,
          24.31659450436214,
          24.437805,
          25.15639,
          25.246287978480034,
          25.429312,
          25.572432,
          25.78514,
          27.243015,
          27.243778,
          28.353167,
          28.49611677713717,
          28.606596663310395,
          29.17009920366963,
          31.599085,
          32.2106590721513,
          34.88704,
          36.061445215932785
         ],
         "xaxis": "x",
         "y": [
          0.01,
          0.02,
          0.03,
          0.04,
          0.05,
          0.06,
          0.07,
          0.08,
          0.09,
          0.1,
          0.11,
          0.12,
          0.13,
          0.14,
          0.15,
          0.16,
          0.17,
          0.18,
          0.19,
          0.2,
          0.21,
          0.22,
          0.23,
          0.24,
          0.25,
          0.26,
          0.27,
          0.28,
          0.29,
          0.3,
          0.31,
          0.32,
          0.33,
          0.34,
          0.35,
          0.36,
          0.37,
          0.38,
          0.39,
          0.4,
          0.41,
          0.42,
          0.43,
          0.44,
          0.45,
          0.46,
          0.47,
          0.48,
          0.49,
          0.5,
          0.51,
          0.52,
          0.53,
          0.54,
          0.55,
          0.56,
          0.57,
          0.58,
          0.59,
          0.6,
          0.61,
          0.62,
          0.63,
          0.64,
          0.65,
          0.66,
          0.67,
          0.68,
          0.69,
          0.7,
          0.71,
          0.72,
          0.73,
          0.74,
          0.75,
          0.76,
          0.77,
          0.78,
          0.79,
          0.8,
          0.81,
          0.82,
          0.83,
          0.84,
          0.85,
          0.86,
          0.87,
          0.88,
          0.89,
          0.9,
          0.91,
          0.92,
          0.93,
          0.94,
          0.95,
          0.96,
          0.97,
          0.98,
          0.99,
          1
         ],
         "yaxis": "y"
        }
       ],
       "layout": {
        "annotations": [
         {
          "font": {
           "color": "firebrick",
           "size": 20
          },
          "showarrow": false,
          "text": "",
          "x": 2,
          "xanchor": "left",
          "xref": "x",
          "y": 1,
          "yanchor": "top",
          "yref": "y domain"
         }
        ],
        "autosize": false,
        "height": 700,
        "legend": {
         "font": {
          "color": "black",
          "size": 12
         },
         "title": {
          "font": {
           "size": 12
          },
          "text": "Method"
         },
         "tracegroupgap": 0,
         "x": 0.7,
         "xanchor": "left",
         "y": 0.99,
         "yanchor": "top"
        },
        "margin": {
         "b": 0,
         "l": 0,
         "r": 0,
         "t": 0
        },
        "paper_bgcolor": "white",
        "plot_bgcolor": "white",
        "shapes": [
         {
          "line": {
           "color": "firebrick",
           "dash": "dash"
          },
          "type": "line",
          "x0": 2,
          "x1": 2,
          "xref": "x",
          "y0": 0,
          "y1": 1,
          "yref": "y domain"
         }
        ],
        "template": {
         "data": {
          "bar": [
           {
            "error_x": {
             "color": "#2a3f5f"
            },
            "error_y": {
             "color": "#2a3f5f"
            },
            "marker": {
             "line": {
              "color": "#E5ECF6",
              "width": 0.5
             },
             "pattern": {
              "fillmode": "overlay",
              "size": 10,
              "solidity": 0.2
             }
            },
            "type": "bar"
           }
          ],
          "barpolar": [
           {
            "marker": {
             "line": {
              "color": "#E5ECF6",
              "width": 0.5
             },
             "pattern": {
              "fillmode": "overlay",
              "size": 10,
              "solidity": 0.2
             }
            },
            "type": "barpolar"
           }
          ],
          "carpet": [
           {
            "aaxis": {
             "endlinecolor": "#2a3f5f",
             "gridcolor": "white",
             "linecolor": "white",
             "minorgridcolor": "white",
             "startlinecolor": "#2a3f5f"
            },
            "baxis": {
             "endlinecolor": "#2a3f5f",
             "gridcolor": "white",
             "linecolor": "white",
             "minorgridcolor": "white",
             "startlinecolor": "#2a3f5f"
            },
            "type": "carpet"
           }
          ],
          "choropleth": [
           {
            "colorbar": {
             "outlinewidth": 0,
             "ticks": ""
            },
            "type": "choropleth"
           }
          ],
          "contour": [
           {
            "colorbar": {
             "outlinewidth": 0,
             "ticks": ""
            },
            "colorscale": [
             [
              0,
              "#0d0887"
             ],
             [
              0.1111111111111111,
              "#46039f"
             ],
             [
              0.2222222222222222,
              "#7201a8"
             ],
             [
              0.3333333333333333,
              "#9c179e"
             ],
             [
              0.4444444444444444,
              "#bd3786"
             ],
             [
              0.5555555555555556,
              "#d8576b"
             ],
             [
              0.6666666666666666,
              "#ed7953"
             ],
             [
              0.7777777777777778,
              "#fb9f3a"
             ],
             [
              0.8888888888888888,
              "#fdca26"
             ],
             [
              1,
              "#f0f921"
             ]
            ],
            "type": "contour"
           }
          ],
          "contourcarpet": [
           {
            "colorbar": {
             "outlinewidth": 0,
             "ticks": ""
            },
            "type": "contourcarpet"
           }
          ],
          "heatmap": [
           {
            "colorbar": {
             "outlinewidth": 0,
             "ticks": ""
            },
            "colorscale": [
             [
              0,
              "#0d0887"
             ],
             [
              0.1111111111111111,
              "#46039f"
             ],
             [
              0.2222222222222222,
              "#7201a8"
             ],
             [
              0.3333333333333333,
              "#9c179e"
             ],
             [
              0.4444444444444444,
              "#bd3786"
             ],
             [
              0.5555555555555556,
              "#d8576b"
             ],
             [
              0.6666666666666666,
              "#ed7953"
             ],
             [
              0.7777777777777778,
              "#fb9f3a"
             ],
             [
              0.8888888888888888,
              "#fdca26"
             ],
             [
              1,
              "#f0f921"
             ]
            ],
            "type": "heatmap"
           }
          ],
          "heatmapgl": [
           {
            "colorbar": {
             "outlinewidth": 0,
             "ticks": ""
            },
            "colorscale": [
             [
              0,
              "#0d0887"
             ],
             [
              0.1111111111111111,
              "#46039f"
             ],
             [
              0.2222222222222222,
              "#7201a8"
             ],
             [
              0.3333333333333333,
              "#9c179e"
             ],
             [
              0.4444444444444444,
              "#bd3786"
             ],
             [
              0.5555555555555556,
              "#d8576b"
             ],
             [
              0.6666666666666666,
              "#ed7953"
             ],
             [
              0.7777777777777778,
              "#fb9f3a"
             ],
             [
              0.8888888888888888,
              "#fdca26"
             ],
             [
              1,
              "#f0f921"
             ]
            ],
            "type": "heatmapgl"
           }
          ],
          "histogram": [
           {
            "marker": {
             "pattern": {
              "fillmode": "overlay",
              "size": 10,
              "solidity": 0.2
             }
            },
            "type": "histogram"
           }
          ],
          "histogram2d": [
           {
            "colorbar": {
             "outlinewidth": 0,
             "ticks": ""
            },
            "colorscale": [
             [
              0,
              "#0d0887"
             ],
             [
              0.1111111111111111,
              "#46039f"
             ],
             [
              0.2222222222222222,
              "#7201a8"
             ],
             [
              0.3333333333333333,
              "#9c179e"
             ],
             [
              0.4444444444444444,
              "#bd3786"
             ],
             [
              0.5555555555555556,
              "#d8576b"
             ],
             [
              0.6666666666666666,
              "#ed7953"
             ],
             [
              0.7777777777777778,
              "#fb9f3a"
             ],
             [
              0.8888888888888888,
              "#fdca26"
             ],
             [
              1,
              "#f0f921"
             ]
            ],
            "type": "histogram2d"
           }
          ],
          "histogram2dcontour": [
           {
            "colorbar": {
             "outlinewidth": 0,
             "ticks": ""
            },
            "colorscale": [
             [
              0,
              "#0d0887"
             ],
             [
              0.1111111111111111,
              "#46039f"
             ],
             [
              0.2222222222222222,
              "#7201a8"
             ],
             [
              0.3333333333333333,
              "#9c179e"
             ],
             [
              0.4444444444444444,
              "#bd3786"
             ],
             [
              0.5555555555555556,
              "#d8576b"
             ],
             [
              0.6666666666666666,
              "#ed7953"
             ],
             [
              0.7777777777777778,
              "#fb9f3a"
             ],
             [
              0.8888888888888888,
              "#fdca26"
             ],
             [
              1,
              "#f0f921"
             ]
            ],
            "type": "histogram2dcontour"
           }
          ],
          "mesh3d": [
           {
            "colorbar": {
             "outlinewidth": 0,
             "ticks": ""
            },
            "type": "mesh3d"
           }
          ],
          "parcoords": [
           {
            "line": {
             "colorbar": {
              "outlinewidth": 0,
              "ticks": ""
             }
            },
            "type": "parcoords"
           }
          ],
          "pie": [
           {
            "automargin": true,
            "type": "pie"
           }
          ],
          "scatter": [
           {
            "fillpattern": {
             "fillmode": "overlay",
             "size": 10,
             "solidity": 0.2
            },
            "type": "scatter"
           }
          ],
          "scatter3d": [
           {
            "line": {
             "colorbar": {
              "outlinewidth": 0,
              "ticks": ""
             }
            },
            "marker": {
             "colorbar": {
              "outlinewidth": 0,
              "ticks": ""
             }
            },
            "type": "scatter3d"
           }
          ],
          "scattercarpet": [
           {
            "marker": {
             "colorbar": {
              "outlinewidth": 0,
              "ticks": ""
             }
            },
            "type": "scattercarpet"
           }
          ],
          "scattergeo": [
           {
            "marker": {
             "colorbar": {
              "outlinewidth": 0,
              "ticks": ""
             }
            },
            "type": "scattergeo"
           }
          ],
          "scattergl": [
           {
            "marker": {
             "colorbar": {
              "outlinewidth": 0,
              "ticks": ""
             }
            },
            "type": "scattergl"
           }
          ],
          "scattermapbox": [
           {
            "marker": {
             "colorbar": {
              "outlinewidth": 0,
              "ticks": ""
             }
            },
            "type": "scattermapbox"
           }
          ],
          "scatterpolar": [
           {
            "marker": {
             "colorbar": {
              "outlinewidth": 0,
              "ticks": ""
             }
            },
            "type": "scatterpolar"
           }
          ],
          "scatterpolargl": [
           {
            "marker": {
             "colorbar": {
              "outlinewidth": 0,
              "ticks": ""
             }
            },
            "type": "scatterpolargl"
           }
          ],
          "scatterternary": [
           {
            "marker": {
             "colorbar": {
              "outlinewidth": 0,
              "ticks": ""
             }
            },
            "type": "scatterternary"
           }
          ],
          "surface": [
           {
            "colorbar": {
             "outlinewidth": 0,
             "ticks": ""
            },
            "colorscale": [
             [
              0,
              "#0d0887"
             ],
             [
              0.1111111111111111,
              "#46039f"
             ],
             [
              0.2222222222222222,
              "#7201a8"
             ],
             [
              0.3333333333333333,
              "#9c179e"
             ],
             [
              0.4444444444444444,
              "#bd3786"
             ],
             [
              0.5555555555555556,
              "#d8576b"
             ],
             [
              0.6666666666666666,
              "#ed7953"
             ],
             [
              0.7777777777777778,
              "#fb9f3a"
             ],
             [
              0.8888888888888888,
              "#fdca26"
             ],
             [
              1,
              "#f0f921"
             ]
            ],
            "type": "surface"
           }
          ],
          "table": [
           {
            "cells": {
             "fill": {
              "color": "#EBF0F8"
             },
             "line": {
              "color": "white"
             }
            },
            "header": {
             "fill": {
              "color": "#C8D4E3"
             },
             "line": {
              "color": "white"
             }
            },
            "type": "table"
           }
          ]
         },
         "layout": {
          "annotationdefaults": {
           "arrowcolor": "#2a3f5f",
           "arrowhead": 0,
           "arrowwidth": 1
          },
          "autotypenumbers": "strict",
          "coloraxis": {
           "colorbar": {
            "outlinewidth": 0,
            "ticks": ""
           }
          },
          "colorscale": {
           "diverging": [
            [
             0,
             "#8e0152"
            ],
            [
             0.1,
             "#c51b7d"
            ],
            [
             0.2,
             "#de77ae"
            ],
            [
             0.3,
             "#f1b6da"
            ],
            [
             0.4,
             "#fde0ef"
            ],
            [
             0.5,
             "#f7f7f7"
            ],
            [
             0.6,
             "#e6f5d0"
            ],
            [
             0.7,
             "#b8e186"
            ],
            [
             0.8,
             "#7fbc41"
            ],
            [
             0.9,
             "#4d9221"
            ],
            [
             1,
             "#276419"
            ]
           ],
           "sequential": [
            [
             0,
             "#0d0887"
            ],
            [
             0.1111111111111111,
             "#46039f"
            ],
            [
             0.2222222222222222,
             "#7201a8"
            ],
            [
             0.3333333333333333,
             "#9c179e"
            ],
            [
             0.4444444444444444,
             "#bd3786"
            ],
            [
             0.5555555555555556,
             "#d8576b"
            ],
            [
             0.6666666666666666,
             "#ed7953"
            ],
            [
             0.7777777777777778,
             "#fb9f3a"
            ],
            [
             0.8888888888888888,
             "#fdca26"
            ],
            [
             1,
             "#f0f921"
            ]
           ],
           "sequentialminus": [
            [
             0,
             "#0d0887"
            ],
            [
             0.1111111111111111,
             "#46039f"
            ],
            [
             0.2222222222222222,
             "#7201a8"
            ],
            [
             0.3333333333333333,
             "#9c179e"
            ],
            [
             0.4444444444444444,
             "#bd3786"
            ],
            [
             0.5555555555555556,
             "#d8576b"
            ],
            [
             0.6666666666666666,
             "#ed7953"
            ],
            [
             0.7777777777777778,
             "#fb9f3a"
            ],
            [
             0.8888888888888888,
             "#fdca26"
            ],
            [
             1,
             "#f0f921"
            ]
           ]
          },
          "colorway": [
           "#636efa",
           "#EF553B",
           "#00cc96",
           "#ab63fa",
           "#FFA15A",
           "#19d3f3",
           "#FF6692",
           "#B6E880",
           "#FF97FF",
           "#FECB52"
          ],
          "font": {
           "color": "#2a3f5f"
          },
          "geo": {
           "bgcolor": "white",
           "lakecolor": "white",
           "landcolor": "#E5ECF6",
           "showlakes": true,
           "showland": true,
           "subunitcolor": "white"
          },
          "hoverlabel": {
           "align": "left"
          },
          "hovermode": "closest",
          "mapbox": {
           "style": "light"
          },
          "paper_bgcolor": "white",
          "plot_bgcolor": "#E5ECF6",
          "polar": {
           "angularaxis": {
            "gridcolor": "white",
            "linecolor": "white",
            "ticks": ""
           },
           "bgcolor": "#E5ECF6",
           "radialaxis": {
            "gridcolor": "white",
            "linecolor": "white",
            "ticks": ""
           }
          },
          "scene": {
           "xaxis": {
            "backgroundcolor": "#E5ECF6",
            "gridcolor": "white",
            "gridwidth": 2,
            "linecolor": "white",
            "showbackground": true,
            "ticks": "",
            "zerolinecolor": "white"
           },
           "yaxis": {
            "backgroundcolor": "#E5ECF6",
            "gridcolor": "white",
            "gridwidth": 2,
            "linecolor": "white",
            "showbackground": true,
            "ticks": "",
            "zerolinecolor": "white"
           },
           "zaxis": {
            "backgroundcolor": "#E5ECF6",
            "gridcolor": "white",
            "gridwidth": 2,
            "linecolor": "white",
            "showbackground": true,
            "ticks": "",
            "zerolinecolor": "white"
           }
          },
          "shapedefaults": {
           "line": {
            "color": "#2a3f5f"
           }
          },
          "ternary": {
           "aaxis": {
            "gridcolor": "white",
            "linecolor": "white",
            "ticks": ""
           },
           "baxis": {
            "gridcolor": "white",
            "linecolor": "white",
            "ticks": ""
           },
           "bgcolor": "#E5ECF6",
           "caxis": {
            "gridcolor": "white",
            "linecolor": "white",
            "ticks": ""
           }
          },
          "title": {
           "x": 0.05
          },
          "xaxis": {
           "automargin": true,
           "gridcolor": "white",
           "linecolor": "white",
           "ticks": "",
           "title": {
            "standoff": 15
           },
           "zerolinecolor": "white",
           "zerolinewidth": 2
          },
          "yaxis": {
           "automargin": true,
           "gridcolor": "white",
           "linecolor": "white",
           "ticks": "",
           "title": {
            "standoff": 15
           },
           "zerolinecolor": "white",
           "zerolinewidth": 2
          }
         }
        },
        "width": 1000,
        "xaxis": {
         "anchor": "y",
         "domain": [
          0,
          1
         ],
         "gridcolor": "lightgrey",
         "linecolor": "black",
         "linewidth": 1,
         "mirror": true,
         "range": [
          0,
          5
         ],
         "showgrid": true,
         "showline": true,
         "tickfont": {
          "color": "black",
          "size": 18
         },
         "ticks": "outside",
         "title": {
          "font": {
           "color": "black",
           "size": 23
          },
          "text": "RMSD (Å)"
         },
         "type": "linear"
        },
        "yaxis": {
         "anchor": "x",
         "domain": [
          0,
          1
         ],
         "gridcolor": "lightgrey",
         "linecolor": "black",
         "linewidth": 1,
         "mirror": true,
         "range": [
          0.001,
          0.7
         ],
         "rangemode": "tozero",
         "showgrid": true,
         "showline": true,
         "tickfont": {
          "color": "black",
          "size": 18
         },
         "ticks": "outside",
         "title": {
          "font": {
           "color": "black",
           "size": 23
          },
          "text": "Fraction with lower RMSD"
         },
         "type": "linear"
        }
       }
      },
      "image/png": "[encoded data removed]",
      "text/html": [
       "<div>                            <div id=\"4e5a2d9a-e227-4bd0-8b71-f5748f40406a\" class=\"plotly-graph-div\" style=\"height:700px; width:1000px;\"></div>            <script type=\"text/javascript\">                require([\"plotly\"], function(Plotly) {                    window.PLOTLYENV=window.PLOTLYENV || {};                                    if (document.getElementById(\"4e5a2d9a-e227-4bd0-8b71-f5748f40406a\")) {                    Plotly.newPlot(                        \"4e5a2d9a-e227-4bd0-8b71-f5748f40406a\",                        [{\"hovertemplate\":\"variable=diffdock-protein<br>value=%{x}<br>probability=%{y}<extra></extra>\",\"legendgroup\":\"diffdock-protein\",\"line\":{\"dash\":\"solid\",\"shape\":\"hv\",\"width\":3},\"marker\":{\"color\":\"#636efa\",\"symbol\":\"circle\"},\"mode\":\"lines\",\"name\":\"diffdock-protein\",\"orientation\":\"v\",\"showlegend\":true,\"x\":[0.29337215423583984,0.29837268590927124,0.3149850368499756,0.3338100016117096,0.3536398112773895,0.35455062985420227,0.3792314827442169,0.39423638582229614,0.409523606300354,0.41076183319091797,0.4751858115196228,0.48367053270339966,0.5056793689727783,0.5075879693031311,0.5659351944923401,0.5866617560386658,0.5997687578201294,0.6091830134391785,0.6471918225288391,0.6482177376747131,0.6484763622283936,0.8134889006614685,0.9133404493331909,0.9508169889450073,0.9637764692306519,0.9808865785598755,1.0353672504425049,1.091842770576477,1.2470219135284424,1.4148938655853271,1.618407130241394,1.8526235818862915,1.9212756156921387,2.0526297092437744,2.067256212234497,2.4365286827087402,2.774144411087036,3.2892403602600098,3.610875368118286,3.624391794204712,3.902925968170166,4.3572845458984375,5.023752212524414,5.364858627319336,5.3707966804504395,6.900275230407715,7.787625312805176,8.639803886413574,9.042729377746582,10.076899528503418,10.357925415039062,10.998116493225098,12.507197380065918,13.923672676086426,14.688847541809082,15.342730522155762,15.571052551269531,15.613341331481934,16.04206085205078,16.08026123046875,16.44010111118529,16.790884017944336,17.06818962097168,17.473552703857422,17.68511712279496,17.81639289855957,17.85447065166751,18.002490997314453,18.552983260066274,18.65197260438355,18.856565706829056,19.052913170101508,19.73029688246926,20.144323348999023,20.42483757070842,20.75109100341797,20.756996154785156,21.99633432046963,22.474027102662507,22.539018630981445,22.97905548819264,23.383129119873047,24.276117754194217,24.53851318359375,24.67802619934082,25.265729904174805,25.40180015563965,25.890003641128217,26.068697004915393,26.726399183944913,27.188622339276282,28.36931610107422,28.414894104003906,28.95823422155466,29.197484034624207,30.382382440425992,34.73707962036133,37.52456255439462,44.54241943359375,48.170982360839844],\"xaxis\":\"x\",\"y\":[0.01,0.02,0.03,0.04,0.05,0.06,0.07,0.08,0.09,0.1,0.11,0.12,0.13,0.14,0.15,0.16,0.17,0.18,0.19,0.2,0.21,0.22,0.23,0.24,0.25,0.26,0.27,0.28,0.29,0.3,0.31,0.32,0.33,0.34,0.35,0.36,0.37,0.38,0.39,0.4,0.41,0.42,0.43,0.44,0.45,0.46,0.47,0.48,0.49,0.5,0.51,0.52,0.53,0.54,0.55,0.56,0.57,0.58,0.59,0.6,0.61,0.62,0.63,0.64,0.65,0.66,0.67,0.68,0.69,0.7,0.71,0.72,0.73,0.74,0.75,0.76,0.77,0.78,0.79,0.8,0.81,0.82,0.83,0.84,0.85,0.86,0.87,0.88,0.89,0.9,0.91,0.92,0.93,0.94,0.95,0.96,0.97,0.98,0.99,1.0],\"yaxis\":\"y\",\"type\":\"scatter\"},{\"hovertemplate\":\"variable=attract<br>value=%{x}<br>probability=%{y}<extra></extra>\",\"legendgroup\":\"attract\",\"line\":{\"dash\":\"solid\",\"shape\":\"hv\",\"width\":3},\"marker\":{\"color\":\"#EF553B\",\"symbol\":\"circle\"},\"mode\":\"lines\",\"name\":\"attract\",\"orientation\":\"v\",\"showlegend\":true,\"x\":[0.13926233,0.28044233,0.29276285,0.3360423,0.3396759,0.3518394,0.3563808,0.36998016,0.3826338,0.45265192,0.51638377,0.54319364,0.56779015,0.56811786,0.57774603,0.5941723,0.645793,0.8302002,0.86829495,0.9613879,2.5413656,3.3541293,4.19255,5.2775273,5.93925,7.109903,7.1512103,7.862554,8.204019,8.681912,8.948145,9.307716,9.625087,10.277538,10.41621,10.958036,11.512081,11.558826,11.8054085,11.91232,12.724872,12.728029,13.053833,16.13535849745032,16.489124,16.654251,16.881622201200468,16.936733,16.985798,17.101927,17.242737,17.24560027193968,17.26072914255932,17.261285584384705,17.403548109514354,17.438412,17.466822,17.651161,17.672428,17.71775023456783,17.755268,17.90271099637255,18.432749840455607,18.703472,19.125182824562657,19.38609,19.732384,20.018314003393044,20.031883,20.108066024939134,20.302092,20.436136,20.469116759412493,20.57085068365913,20.577295,20.647863,20.882835,20.98024,21.054924513135983,22.604015783137648,22.930610867067113,23.259281273065955,23.54531859780378,23.951239,23.984114,24.080978,24.862658,25.43430424019306,25.649985210593556,25.800375,27.58495509032034,29.1075086288899,29.78379450084901,30.516750524119377,32.98263136992018,33.15508,34.476753,37.165367,43.63907158365498,44.615074],\"xaxis\":\"x\",\"y\":[0.01,0.02,0.03,0.04,0.05,0.06,0.07,0.08,0.09,0.1,0.11,0.12,0.13,0.14,0.15,0.16,0.17,0.18,0.19,0.2,0.21,0.22,0.23,0.24,0.25,0.26,0.27,0.28,0.29,0.3,0.31,0.32,0.33,0.34,0.35,0.36,0.37,0.38,0.39,0.4,0.41,0.42,0.43,0.44,0.45,0.46,0.47,0.48,0.49,0.5,0.51,0.52,0.53,0.54,0.55,0.56,0.57,0.58,0.59,0.6,0.61,0.62,0.63,0.64,0.65,0.66,0.67,0.68,0.69,0.7,0.71,0.72,0.73,0.74,0.75,0.76,0.77,0.78,0.79,0.8,0.81,0.82,0.83,0.84,0.85,0.86,0.87,0.88,0.89,0.9,0.91,0.92,0.93,0.94,0.95,0.96,0.97,0.98,0.99,1.0],\"yaxis\":\"y\",\"type\":\"scatter\"},{\"hovertemplate\":\"variable=cluspro<br>value=%{x}<br>probability=%{y}<extra></extra>\",\"legendgroup\":\"cluspro\",\"line\":{\"dash\":\"solid\",\"shape\":\"hv\",\"width\":3},\"marker\":{\"color\":\"#00cc96\",\"symbol\":\"circle\"},\"mode\":\"lines\",\"name\":\"cluspro\",\"orientation\":\"v\",\"showlegend\":true,\"x\":[1.0791215,1.1289107,1.2288606,1.3202577,1.3812093,1.3842183,1.428762,1.6190084,1.6205424,1.6487021,1.8683163,1.8860611,2.0267456,2.06938,2.1438835,2.2734315,2.2999032,2.321918,2.3614857,2.408143,2.422817,2.441057,2.7920067,2.826617,2.892418,3.1511297,3.2065465,5.26716,5.618074,6.200603,7.420137,8.248759,8.875254,9.0091915,9.282827,10.131629,10.931585,10.932718,11.19488,11.640525,12.230226,12.239919,12.298831,12.356631,13.184248,13.272171,13.529312,13.809646174867325,14.746573,15.552038,15.984027,16.05196,16.138645,16.17225643001393,16.47234240297411,16.537382,16.624645,16.7899,17.208694,17.85073554909017,18.120731,18.16145,18.346165,18.36683529268962,18.563839431749187,18.80432337343014,19.188148,19.613487,19.705551,19.958738,20.55537455110217,20.835938,20.862631370602156,21.053911,21.19899,21.272709,21.34213,21.75875867557272,22.319508,22.386786,22.598421496512625,22.799160617900977,22.852054741053713,22.968386,23.53331828893549,23.697243,23.841232,24.01753,24.785536,25.37090713424328,27.515972,28.140274,28.163734,28.984793722213507,31.271896806453448,32.6886,33.730808755460686,36.37994966544499,41.9670228957909,50.271122],\"xaxis\":\"x\",\"y\":[0.01,0.02,0.03,0.04,0.05,0.06,0.07,0.08,0.09,0.1,0.11,0.12,0.13,0.14,0.15,0.16,0.17,0.18,0.19,0.2,0.21,0.22,0.23,0.24,0.25,0.26,0.27,0.28,0.29,0.3,0.31,0.32,0.33,0.34,0.35,0.36,0.37,0.38,0.39,0.4,0.41,0.42,0.43,0.44,0.45,0.46,0.47,0.48,0.49,0.5,0.51,0.52,0.53,0.54,0.55,0.56,0.57,0.58,0.59,0.6,0.61,0.62,0.63,0.64,0.65,0.66,0.67,0.68,0.69,0.7,0.71,0.72,0.73,0.74,0.75,0.76,0.77,0.78,0.79,0.8,0.81,0.82,0.83,0.84,0.85,0.86,0.87,0.88,0.89,0.9,0.91,0.92,0.93,0.94,0.95,0.96,0.97,0.98,0.99,1.0],\"yaxis\":\"y\",\"type\":\"scatter\"},{\"hovertemplate\":\"variable=equidock<br>value=%{x}<br>probability=%{y}<extra></extra>\",\"legendgroup\":\"equidock\",\"line\":{\"dash\":\"solid\",\"shape\":\"hv\",\"width\":3},\"marker\":{\"color\":\"#ab63fa\",\"symbol\":\"circle\"},\"mode\":\"lines\",\"name\":\"equidock\",\"orientation\":\"v\",\"showlegend\":true,\"x\":[3.086964,3.496285,3.9157052,4.118489,4.535472,4.5486646,4.6701894,4.6819143,5.0037794,5.3198256,5.6943393,6.015103,6.1657743,6.692734,7.079491,7.136693,7.293921,7.326297,7.7577877,7.9488115,8.180616,8.898297,8.9339285,9.004719,9.0090475,9.215119,9.332714,9.974966,9.981788,10.344348,10.484818,10.708545,10.773391,10.814375,10.943029,11.125654,11.251227,11.358077,11.437514,11.790681,11.829566,12.162584,12.245829,12.304459,12.637305,12.6414,12.683036,12.867304,13.051564,13.266085,13.324085,13.452335,13.603851,13.623114,13.728079,13.826901,13.869269,13.888817,14.743053,14.97206754302488,15.59642,15.667229,16.477139,16.647066,16.656525,17.156012,17.5495,17.711891,17.738956,17.81966,18.076198603253562,18.09079,18.34845,18.860292,19.32488,19.326602836217806,19.497345,19.716192,20.886862,21.107668,21.121943,21.485173946364505,21.677664,21.923346,22.11786,22.219748,22.91793099147611,22.995651,23.088722376365606,24.26090554954478,24.34559732564751,25.213192,25.77304,26.676037,27.532476,29.15299795610851,29.35213493566967,30.314968,30.367096,36.93968469289514],\"xaxis\":\"x\",\"y\":[0.01,0.02,0.03,0.04,0.05,0.06,0.07,0.08,0.09,0.1,0.11,0.12,0.13,0.14,0.15,0.16,0.17,0.18,0.19,0.2,0.21,0.22,0.23,0.24,0.25,0.26,0.27,0.28,0.29,0.3,0.31,0.32,0.33,0.34,0.35,0.36,0.37,0.38,0.39,0.4,0.41,0.42,0.43,0.44,0.45,0.46,0.47,0.48,0.49,0.5,0.51,0.52,0.53,0.54,0.55,0.56,0.57,0.58,0.59,0.6,0.61,0.62,0.63,0.64,0.65,0.66,0.67,0.68,0.69,0.7,0.71,0.72,0.73,0.74,0.75,0.76,0.77,0.78,0.79,0.8,0.81,0.82,0.83,0.84,0.85,0.86,0.87,0.88,0.89,0.9,0.91,0.92,0.93,0.94,0.95,0.96,0.97,0.98,0.99,1.0],\"yaxis\":\"y\",\"type\":\"scatter\"},{\"hovertemplate\":\"variable=equidock_no_clashes<br>value=%{x}<br>probability=%{y}<extra></extra>\",\"legendgroup\":\"equidock_no_clashes\",\"line\":{\"dash\":\"solid\",\"shape\":\"hv\",\"width\":3},\"marker\":{\"color\":\"#FFA15A\",\"symbol\":\"circle\"},\"mode\":\"lines\",\"name\":\"equidock_no_clashes\",\"orientation\":\"v\",\"showlegend\":true,\"x\":[3.2063944,3.9626238,4.6890736,4.854488,5.003777,5.0812325,5.6074305,5.830637,5.914674,6.772568,7.1493278,7.157131,7.412937,7.69613,7.8540225,8.3726635,8.922577,8.938602,9.064198,9.09119,9.215251,9.332712,9.684286,9.973169,10.144986,10.245159,10.277318,10.5436,10.708544,10.773505,10.812619,10.814094,11.125654,11.345355,11.488661,11.868132,11.925775,11.954982,12.050929,12.972145,13.06961,13.193971,13.649994,13.817116,13.959682,14.188639,14.362415,14.60547,14.972347077245434,15.08274,15.138084,15.632737,15.891233,16.072107,16.191797,16.254112,16.445993,16.483837,16.980988,17.127409,17.148636,17.188667,17.751663,18.001738846398982,18.290964,18.480593,18.594466807358778,18.837109,18.86084,18.957085,19.157454,19.173063,19.385542,19.492205,19.617002,19.986491960118236,20.757582,20.98873,21.264912,22.058651,22.095778,22.521105,22.55157669292433,22.814663,22.89118,22.972021,22.988674,23.164408,23.45749,24.638441,26.693936095867567,26.884487,27.02992,27.239542,27.26575,27.9102440244982,27.932526532240257,29.372736,31.385233390942265,55.725544],\"xaxis\":\"x\",\"y\":[0.01,0.02,0.03,0.04,0.05,0.06,0.07,0.08,0.09,0.1,0.11,0.12,0.13,0.14,0.15,0.16,0.17,0.18,0.19,0.2,0.21,0.22,0.23,0.24,0.25,0.26,0.27,0.28,0.29,0.3,0.31,0.32,0.33,0.34,0.35,0.36,0.37,0.38,0.39,0.4,0.41,0.42,0.43,0.44,0.45,0.46,0.47,0.48,0.49,0.5,0.51,0.52,0.53,0.54,0.55,0.56,0.57,0.58,0.59,0.6,0.61,0.62,0.63,0.64,0.65,0.66,0.67,0.68,0.69,0.7,0.71,0.72,0.73,0.74,0.75,0.76,0.77,0.78,0.79,0.8,0.81,0.82,0.83,0.84,0.85,0.86,0.87,0.88,0.89,0.9,0.91,0.92,0.93,0.94,0.95,0.96,0.97,0.98,0.99,1.0],\"yaxis\":\"y\",\"type\":\"scatter\"},{\"hovertemplate\":\"variable=hdock<br>value=%{x}<br>probability=%{y}<extra></extra>\",\"legendgroup\":\"hdock\",\"line\":{\"dash\":\"solid\",\"shape\":\"hv\",\"width\":3},\"marker\":{\"color\":\"#19d3f3\",\"symbol\":\"circle\"},\"mode\":\"lines\",\"name\":\"hdock\",\"orientation\":\"v\",\"showlegend\":true,\"x\":[0.09739228,0.13396408,0.13723506,0.14219868,0.14631397,0.14711598,0.14997447,0.159777,0.16753589,0.16756319,0.18528672,0.18694603,0.18986985,0.1973532,0.20094694,0.20411785,0.20757328,0.21667063,0.21944077,0.22881126,0.23766896,0.23901394,0.25237945,0.25354743,0.25918084,0.26058832,0.26318946,0.2719173,0.27194557,0.27302614,0.2840395,0.29035673,0.29785106,0.30665216,0.30867314,0.31058094,0.32131216,0.3215714,0.3230386,0.32382804,0.386609,0.3873223,0.3947676,0.43581036,0.4476274,0.49874446,0.54023284,0.6364416,0.6388339,1.7708408,10.689176,12.767734,12.816834,13.516509,14.272941542738748,14.471848973090104,14.960728,16.210618352436228,16.21778,16.241758298080846,16.310375,16.52716483482519,16.528744,16.9461,16.977684,17.05035,17.411144,17.47952055176379,17.763971,17.857166,17.99379706916138,18.004137065633955,18.012806,19.274235940365667,19.890814,19.942215,19.946225634390586,20.30086958041589,20.504124,20.968086,22.768541,23.267322695994732,23.381801244565523,23.540895,23.939636,25.063835,25.4570416954303,25.472166,25.596235,25.67665,25.70162253257512,27.422504,27.771163361097994,28.523398336483446,29.255247065054707,29.796461299716775,30.55899065195135,34.384357,34.702515,41.93807301766305],\"xaxis\":\"x\",\"y\":[0.01,0.02,0.03,0.04,0.05,0.06,0.07,0.08,0.09,0.1,0.11,0.12,0.13,0.14,0.15,0.16,0.17,0.18,0.19,0.2,0.21,0.22,0.23,0.24,0.25,0.26,0.27,0.28,0.29,0.3,0.31,0.32,0.33,0.34,0.35,0.36,0.37,0.38,0.39,0.4,0.41,0.42,0.43,0.44,0.45,0.46,0.47,0.48,0.49,0.5,0.51,0.52,0.53,0.54,0.55,0.56,0.57,0.58,0.59,0.6,0.61,0.62,0.63,0.64,0.65,0.66,0.67,0.68,0.69,0.7,0.71,0.72,0.73,0.74,0.75,0.76,0.77,0.78,0.79,0.8,0.81,0.82,0.83,0.84,0.85,0.86,0.87,0.88,0.89,0.9,0.91,0.92,0.93,0.94,0.95,0.96,0.97,0.98,0.99,1.0],\"yaxis\":\"y\",\"type\":\"scatter\"},{\"hovertemplate\":\"variable=patchdock<br>value=%{x}<br>probability=%{y}<extra></extra>\",\"legendgroup\":\"patchdock\",\"line\":{\"dash\":\"solid\",\"shape\":\"hv\",\"width\":3},\"marker\":{\"color\":\"#FF6692\",\"symbol\":\"circle\"},\"mode\":\"lines\",\"name\":\"patchdock\",\"orientation\":\"v\",\"showlegend\":true,\"x\":[0.30190653,0.33315933,0.37918857,0.38258007,0.39592913,0.5018107,0.502696,0.507428,0.52459943,0.5314335,0.5427138,0.5578077,0.55947393,0.5595326,0.5651308,0.66491234,0.6754066,0.69039917,0.6975938,0.70164,0.74455583,0.78634816,0.7949484,0.80097586,0.8444258,0.85612607,0.8851576,1.0473987,1.0548706,1.0890036,1.7487557,2.2087085,5.517232,7.8657722,8.908779,9.911485,10.972302,11.15052,11.898823760635755,11.971752,12.1974945,12.203954,12.66537,12.748268,12.795078,14.729518,14.82922013000073,14.956656,15.119362,15.173714,15.3180275,15.67386,16.133516,16.477316,16.780622,16.782587,16.9287,17.130844,17.379698,17.677065,17.728373,17.776281,17.778412,17.900162,17.932714,18.272633,19.114712,19.406618204063747,19.466602,19.63469,20.361296,20.535513,20.920116,21.01422950287091,21.224487539231717,21.349994259769787,21.717846733260696,23.162554794080073,23.228880986795332,23.302229,23.422509090825976,23.454101900462224,24.264685,24.31659450436214,24.437805,25.15639,25.246287978480034,25.429312,25.572432,25.78514,27.243015,27.243778,28.353167,28.49611677713717,28.606596663310395,29.17009920366963,31.599085,32.2106590721513,34.88704,36.061445215932785],\"xaxis\":\"x\",\"y\":[0.01,0.02,0.03,0.04,0.05,0.06,0.07,0.08,0.09,0.1,0.11,0.12,0.13,0.14,0.15,0.16,0.17,0.18,0.19,0.2,0.21,0.22,0.23,0.24,0.25,0.26,0.27,0.28,0.29,0.3,0.31,0.32,0.33,0.34,0.35,0.36,0.37,0.38,0.39,0.4,0.41,0.42,0.43,0.44,0.45,0.46,0.47,0.48,0.49,0.5,0.51,0.52,0.53,0.54,0.55,0.56,0.57,0.58,0.59,0.6,0.61,0.62,0.63,0.64,0.65,0.66,0.67,0.68,0.69,0.7,0.71,0.72,0.73,0.74,0.75,0.76,0.77,0.78,0.79,0.8,0.81,0.82,0.83,0.84,0.85,0.86,0.87,0.88,0.89,0.9,0.91,0.92,0.93,0.94,0.95,0.96,0.97,0.98,0.99,1.0],\"yaxis\":\"y\",\"type\":\"scatter\"}],                        {\"template\":{\"data\":{\"histogram2dcontour\":[{\"type\":\"histogram2dcontour\",\"colorbar\":{\"outlinewidth\":0,\"ticks\":\"\"},\"colorscale\":[[0.0,\"#0d0887\"],[0.1111111111111111,\"#46039f\"],[0.2222222222222222,\"#7201a8\"],[0.3333333333333333,\"#9c179e\"],[0.4444444444444444,\"#bd3786\"],[0.5555555555555556,\"#d8576b\"],[0.6666666666666666,\"#ed7953\"],[0.7777777777777778,\"#fb9f3a\"],[0.8888888888888888,\"#fdca26\"],[1.0,\"#f0f921\"]]}],\"choropleth\":[{\"type\":\"choropleth\",\"colorbar\":{\"outlinewidth\":0,\"ticks\":\"\"}}],\"histogram2d\":[{\"type\":\"histogram2d\",\"colorbar\":{\"outlinewidth\":0,\"ticks\":\"\"},\"colorscale\":[[0.0,\"#0d0887\"],[0.1111111111111111,\"#46039f\"],[0.2222222222222222,\"#7201a8\"],[0.3333333333333333,\"#9c179e\"],[0.4444444444444444,\"#bd3786\"],[0.5555555555555556,\"#d8576b\"],[0.6666666666666666,\"#ed7953\"],[0.7777777777777778,\"#fb9f3a\"],[0.8888888888888888,\"#fdca26\"],[1.0,\"#f0f921\"]]}],\"heatmap\":[{\"type\":\"heatmap\",\"colorbar\":{\"outlinewidth\":0,\"ticks\":\"\"},\"colorscale\":[[0.0,\"#0d0887\"],[0.1111111111111111,\"#46039f\"],[0.2222222222222222,\"#7201a8\"],[0.3333333333333333,\"#9c179e\"],[0.4444444444444444,\"#bd3786\"],[0.5555555555555556,\"#d8576b\"],[0.6666666666666666,\"#ed7953\"],[0.7777777777777778,\"#fb9f3a\"],[0.8888888888888888,\"#fdca26\"],[1.0,\"#f0f921\"]]}],\"heatmapgl\":[{\"type\":\"heatmapgl\",\"colorbar\":{\"outlinewidth\":0,\"ticks\":\"\"},\"colorscale\":[[0.0,\"#0d0887\"],[0.1111111111111111,\"#46039f\"],[0.2222222222222222,\"#7201a8\"],[0.3333333333333333,\"#9c179e\"],[0.4444444444444444,\"#bd3786\"],[0.5555555555555556,\"#d8576b\"],[0.6666666666666666,\"#ed7953\"],[0.7777777777777778,\"#fb9f3a\"],[0.8888888888888888,\"#fdca26\"],[1.0,\"#f0f921\"]]}],\"contourcarpet\":[{\"type\":\"contourcarpet\",\"colorbar\":{\"outlinewidth\":0,\"ticks\":\"\"}}],\"contour\":[{\"type\":\"contour\",\"colorbar\":{\"outlinewidth\":0,\"ticks\":\"\"},\"colorscale\":[[0.0,\"#0d0887\"],[0.1111111111111111,\"#46039f\"],[0.2222222222222222,\"#7201a8\"],[0.3333333333333333,\"#9c179e\"],[0.4444444444444444,\"#bd3786\"],[0.5555555555555556,\"#d8576b\"],[0.6666666666666666,\"#ed7953\"],[0.7777777777777778,\"#fb9f3a\"],[0.8888888888888888,\"#fdca26\"],[1.0,\"#f0f921\"]]}],\"surface\":[{\"type\":\"surface\",\"colorbar\":{\"outlinewidth\":0,\"ticks\":\"\"},\"colorscale\":[[0.0,\"#0d0887\"],[0.1111111111111111,\"#46039f\"],[0.2222222222222222,\"#7201a8\"],[0.3333333333333333,\"#9c179e\"],[0.4444444444444444,\"#bd3786\"],[0.5555555555555556,\"#d8576b\"],[0.6666666666666666,\"#ed7953\"],[0.7777777777777778,\"#fb9f3a\"],[0.8888888888888888,\"#fdca26\"],[1.0,\"#f0f921\"]]}],\"mesh3d\":[{\"type\":\"mesh3d\",\"colorbar\":{\"outlinewidth\":0,\"ticks\":\"\"}}],\"scatter\":[{\"fillpattern\":{\"fillmode\":\"overlay\",\"size\":10,\"solidity\":0.2},\"type\":\"scatter\"}],\"parcoords\":[{\"type\":\"parcoords\",\"line\":{\"colorbar\":{\"outlinewidth\":0,\"ticks\":\"\"}}}],\"scatterpolargl\":[{\"type\":\"scatterpolargl\",\"marker\":{\"colorbar\":{\"outlinewidth\":0,\"ticks\":\"\"}}}],\"bar\":[{\"error_x\":{\"color\":\"#2a3f5f\"},\"error_y\":{\"color\":\"#2a3f5f\"},\"marker\":{\"line\":{\"color\":\"#E5ECF6\",\"width\":0.5},\"pattern\":{\"fillmode\":\"overlay\",\"size\":10,\"solidity\":0.2}},\"type\":\"bar\"}],\"scattergeo\":[{\"type\":\"scattergeo\",\"marker\":{\"colorbar\":{\"outlinewidth\":0,\"ticks\":\"\"}}}],\"scatterpolar\":[{\"type\":\"scatterpolar\",\"marker\":{\"colorbar\":{\"outlinewidth\":0,\"ticks\":\"\"}}}],\"histogram\":[{\"marker\":{\"pattern\":{\"fillmode\":\"overlay\",\"size\":10,\"solidity\":0.2}},\"type\":\"histogram\"}],\"scattergl\":[{\"type\":\"scattergl\",\"marker\":{\"colorbar\":{\"outlinewidth\":0,\"ticks\":\"\"}}}],\"scatter3d\":[{\"type\":\"scatter3d\",\"line\":{\"colorbar\":{\"outlinewidth\":0,\"ticks\":\"\"}},\"marker\":{\"colorbar\":{\"outlinewidth\":0,\"ticks\":\"\"}}}],\"scattermapbox\":[{\"type\":\"scattermapbox\",\"marker\":{\"colorbar\":{\"outlinewidth\":0,\"ticks\":\"\"}}}],\"scatterternary\":[{\"type\":\"scatterternary\",\"marker\":{\"colorbar\":{\"outlinewidth\":0,\"ticks\":\"\"}}}],\"scattercarpet\":[{\"type\":\"scattercarpet\",\"marker\":{\"colorbar\":{\"outlinewidth\":0,\"ticks\":\"\"}}}],\"carpet\":[{\"aaxis\":{\"endlinecolor\":\"#2a3f5f\",\"gridcolor\":\"white\",\"linecolor\":\"white\",\"minorgridcolor\":\"white\",\"startlinecolor\":\"#2a3f5f\"},\"baxis\":{\"endlinecolor\":\"#2a3f5f\",\"gridcolor\":\"white\",\"linecolor\":\"white\",\"minorgridcolor\":\"white\",\"startlinecolor\":\"#2a3f5f\"},\"type\":\"carpet\"}],\"table\":[{\"cells\":{\"fill\":{\"color\":\"#EBF0F8\"},\"line\":{\"color\":\"white\"}},\"header\":{\"fill\":{\"color\":\"#C8D4E3\"},\"line\":{\"color\":\"white\"}},\"type\":\"table\"}],\"barpolar\":[{\"marker\":{\"line\":{\"color\":\"#E5ECF6\",\"width\":0.5},\"pattern\":{\"fillmode\":\"overlay\",\"size\":10,\"solidity\":0.2}},\"type\":\"barpolar\"}],\"pie\":[{\"automargin\":true,\"type\":\"pie\"}]},\"layout\":{\"autotypenumbers\":\"strict\",\"colorway\":[\"#636efa\",\"#EF553B\",\"#00cc96\",\"#ab63fa\",\"#FFA15A\",\"#19d3f3\",\"#FF6692\",\"#B6E880\",\"#FF97FF\",\"#FECB52\"],\"font\":{\"color\":\"#2a3f5f\"},\"hovermode\":\"closest\",\"hoverlabel\":{\"align\":\"left\"},\"paper_bgcolor\":\"white\",\"plot_bgcolor\":\"#E5ECF6\",\"polar\":{\"bgcolor\":\"#E5ECF6\",\"angularaxis\":{\"gridcolor\":\"white\",\"linecolor\":\"white\",\"ticks\":\"\"},\"radialaxis\":{\"gridcolor\":\"white\",\"linecolor\":\"white\",\"ticks\":\"\"}},\"ternary\":{\"bgcolor\":\"#E5ECF6\",\"aaxis\":{\"gridcolor\":\"white\",\"linecolor\":\"white\",\"ticks\":\"\"},\"baxis\":{\"gridcolor\":\"white\",\"linecolor\":\"white\",\"ticks\":\"\"},\"caxis\":{\"gridcolor\":\"white\",\"linecolor\":\"white\",\"ticks\":\"\"}},\"coloraxis\":{\"colorbar\":{\"outlinewidth\":0,\"ticks\":\"\"}},\"colorscale\":{\"sequential\":[[0.0,\"#0d0887\"],[0.1111111111111111,\"#46039f\"],[0.2222222222222222,\"#7201a8\"],[0.3333333333333333,\"#9c179e\"],[0.4444444444444444,\"#bd3786\"],[0.5555555555555556,\"#d8576b\"],[0.6666666666666666,\"#ed7953\"],[0.7777777777777778,\"#fb9f3a\"],[0.8888888888888888,\"#fdca26\"],[1.0,\"#f0f921\"]],\"sequentialminus\":[[0.0,\"#0d0887\"],[0.1111111111111111,\"#46039f\"],[0.2222222222222222,\"#7201a8\"],[0.3333333333333333,\"#9c179e\"],[0.4444444444444444,\"#bd3786\"],[0.5555555555555556,\"#d8576b\"],[0.6666666666666666,\"#ed7953\"],[0.7777777777777778,\"#fb9f3a\"],[0.8888888888888888,\"#fdca26\"],[1.0,\"#f0f921\"]],\"diverging\":[[0,\"#8e0152\"],[0.1,\"#c51b7d\"],[0.2,\"#de77ae\"],[0.3,\"#f1b6da\"],[0.4,\"#fde0ef\"],[0.5,\"#f7f7f7\"],[0.6,\"#e6f5d0\"],[0.7,\"#b8e186\"],[0.8,\"#7fbc41\"],[0.9,\"#4d9221\"],[1,\"#276419\"]]},\"xaxis\":{\"gridcolor\":\"white\",\"linecolor\":\"white\",\"ticks\":\"\",\"title\":{\"standoff\":15},\"zerolinecolor\":\"white\",\"automargin\":true,\"zerolinewidth\":2},\"yaxis\":{\"gridcolor\":\"white\",\"linecolor\":\"white\",\"ticks\":\"\",\"title\":{\"standoff\":15},\"zerolinecolor\":\"white\",\"automargin\":true,\"zerolinewidth\":2},\"scene\":{\"xaxis\":{\"backgroundcolor\":\"#E5ECF6\",\"gridcolor\":\"white\",\"linecolor\":\"white\",\"showbackground\":true,\"ticks\":\"\",\"zerolinecolor\":\"white\",\"gridwidth\":2},\"yaxis\":{\"backgroundcolor\":\"#E5ECF6\",\"gridcolor\":\"white\",\"linecolor\":\"white\",\"showbackground\":true,\"ticks\":\"\",\"zerolinecolor\":\"white\",\"gridwidth\":2},\"zaxis\":{\"backgroundcolor\":\"#E5ECF6\",\"gridcolor\":\"white\",\"linecolor\":\"white\",\"showbackground\":true,\"ticks\":\"\",\"zerolinecolor\":\"white\",\"gridwidth\":2}},\"shapedefaults\":{\"line\":{\"color\":\"#2a3f5f\"}},\"annotationdefaults\":{\"arrowcolor\":\"#2a3f5f\",\"arrowhead\":0,\"arrowwidth\":1},\"geo\":{\"bgcolor\":\"white\",\"landcolor\":\"#E5ECF6\",\"subunitcolor\":\"white\",\"showland\":true,\"showlakes\":true,\"lakecolor\":\"white\"},\"title\":{\"x\":0.05},\"mapbox\":{\"style\":\"light\"}}},\"xaxis\":{\"anchor\":\"y\",\"domain\":[0.0,1.0],\"title\":{\"text\":\"RMSD (\\u00c5)\",\"font\":{\"size\":23,\"color\":\"black\"}},\"range\":[0,5],\"tickfont\":{\"size\":18,\"color\":\"black\"},\"showgrid\":true,\"gridcolor\":\"lightgrey\",\"mirror\":true,\"ticks\":\"outside\",\"showline\":true,\"linewidth\":1,\"linecolor\":\"black\"},\"yaxis\":{\"anchor\":\"x\",\"domain\":[0.0,1.0],\"title\":{\"text\":\"Fraction with lower RMSD\",\"font\":{\"size\":23,\"color\":\"black\"}},\"range\":[0.001,0.7],\"rangemode\":\"tozero\",\"tickfont\":{\"size\":18,\"color\":\"black\"},\"showgrid\":true,\"gridcolor\":\"lightgrey\",\"mirror\":true,\"ticks\":\"outside\",\"showline\":true,\"linewidth\":1,\"linecolor\":\"black\"},\"legend\":{\"title\":{\"text\":\"Method\",\"font\":{\"size\":12}},\"tracegroupgap\":0,\"font\":{\"size\":12,\"color\":\"black\"},\"yanchor\":\"top\",\"y\":0.99,\"xanchor\":\"left\",\"x\":0.7},\"margin\":{\"t\":0,\"l\":0,\"r\":0,\"b\":0},\"height\":700,\"width\":1000,\"shapes\":[{\"line\":{\"color\":\"firebrick\",\"dash\":\"dash\"},\"type\":\"line\",\"x0\":2,\"x1\":2,\"xref\":\"x\",\"y0\":0,\"y1\":1,\"yref\":\"y domain\"}],\"annotations\":[{\"font\":{\"color\":\"firebrick\",\"size\":20},\"showarrow\":false,\"text\":\"\",\"x\":2,\"xanchor\":\"left\",\"xref\":\"x\",\"y\":1,\"yanchor\":\"top\",\"yref\":\"y domain\"}],\"autosize\":false,\"plot_bgcolor\":\"white\",\"paper_bgcolor\":\"white\"},                        {\"responsive\": true}                    ).then(function(){\n",
       "                            \n",
       "var gd = document.getElementById('4e5a2d9a-e227-4bd0-8b71-f5748f40406a');\n",
       "var x = new MutationObserver(function (mutations, observer) {{\n",
       "        var display = window.getComputedStyle(gd).display;\n",
       "        if (!display || display === 'none') {{\n",
       "            console.log([gd, 'removed!']);\n",
       "            Plotly.purge(gd);\n",
       "            observer.disconnect();\n",
       "        }}\n",
       "}});\n",
       "\n",
       "// Listen for the removal of the full notebook cells\n",
       "var notebookContainer = gd.closest('#notebook-container');\n",
       "if (notebookContainer) {{\n",
       "    x.observe(notebookContainer, {childList: true});\n",
       "}}\n",
       "\n",
       "// Listen for the clearing of the current output cell\n",
       "var outputEl = gd.closest('.output');\n",
       "if (outputEl) {{\n",
       "    x.observe(outputEl, {childList: true});\n",
       "}}\n",
       "\n",
       "                        })                };                });            </script>        </div>"
      ]
     },
     "metadata": {},
     "output_type": "display_data"
    }
   ],
   "source": [
    "import plotly.express as px\n",
    "\n",
    "\n",
    "fig = px.ecdf(df, range_x=[0, 5])\n",
    "fig.add_vline(x=2, annotation_text='2 A', annotation_font_size=16, annotation_position=\"top right\",\n",
    "              line_dash='dash', line_color='firebrick', annotation_font_color='firebrick')\n",
    "fig.update_xaxes(title=f'RMSD in Angstrom', title_font={\"size\": 16}, tickfont={\"size\": 16})\n",
    "fig.update_yaxes(title=f'Fraction of predictions with lower RMSD', title_font={\"size\": 16},\n",
    "                 tickfont={\"size\": 16})\n",
    "fig.update_layout(autosize=False, margin={'l': 0, 'r': 0, 't': 0, 'b': 0}, plot_bgcolor='white',\n",
    "                  paper_bgcolor='white', legend_title_text='Method', legend_title_font_size=12,\n",
    "                  legend=dict(yanchor=\"top\", y=0.99, xanchor=\"left\", x=0.7, font=dict(size=12), ), )\n",
    "fig.update_xaxes(showgrid=True, gridcolor='lightgrey',title_font=dict(size=19),mirror=True,ticks='outside',showline=True,)\n",
    "fig.update_yaxes(showgrid=True, gridcolor='lightgrey',title_font=dict(size=19),mirror=True,ticks='outside',showline=True,)\n",
    "fig.write_image('../../plots/fraction_rmsd_old.pdf')\n",
    "\n",
    "\n",
    "df = {'diffdock-protein': filtered_rmsds, \"attract\": attract, \"cluspro\": cluspro, \"equidock\": equidock, \n",
    "     \"equidock_no_clashes\": equidock_no_clashes, \"hdock\": hdock, \"patchdock\": patchdock}\n",
    "fig = px.ecdf(df, range_x=[0, 5], range_y=[0.001, 0.7],  width=1000, height=700)\n",
    "fig.add_vline(x=2, annotation_text='', annotation_font_size=20, annotation_position=\"top right\",\n",
    "              line_dash='dash', line_color='firebrick', annotation_font_color='firebrick')\n",
    "fig.update_xaxes(title=f'RMSD (Å)')\n",
    "fig.update_yaxes(title=f'Fraction with lower RMSD')\n",
    "fig.update_layout(autosize=False, margin={'l': 0, 'r': 0, 't': 0, 'b': 0}, plot_bgcolor='white',\n",
    "                  paper_bgcolor='white', legend_title_text='Method', legend_title_font_size=12,\n",
    "                  legend=dict(yanchor=\"top\", y=0.99, xanchor=\"left\", x=0.7, font=dict(size=12, color='black'), ), )\n",
    "fig.update_xaxes(showgrid=True, gridcolor='lightgrey',title_font=dict(size=23, color='black'),mirror=True,ticks='outside',showline=True, linewidth=1, linecolor='black', tickfont = dict(size = 18, color='black'))\n",
    "fig.update_yaxes(showgrid=True, gridcolor='lightgrey',title_font=dict(size=23, color='black'),mirror=True,ticks='outside',showline=True, linewidth=1, linecolor='black', tickfont = dict(size = 18, color='black'))\n",
    "fig.update_traces(line=dict(width=3))\n",
    "fig.write_image('../../plots/fraction_rmsd.pdf')\n",
    "fig.show()\n"
   ]
  },
  {
   "cell_type": "markdown",
   "id": "ecf5d87f-82c8-43d6-b60b-e8913daaa163",
   "metadata": {
    "tags": []
   },
   "source": [
    "### New fraction plot"
   ]
  },
  {
   "cell_type": "code",
   "execution_count": 121,
   "id": "581a02e2-5bb3-4525-aa43-404643b209ca",
   "metadata": {},
   "outputs": [
    {
     "data": {
      "image/png": "[encoded data removed]",
      "text/plain": [
       "<Figure size 550x339.919 with 1 Axes>"
      ]
     },
     "metadata": {},
     "output_type": "display_data"
    }
   ],
   "source": [
    "# from matplotlib import rc\n",
    "# rc(\"text\", usetex=False)\n",
    "\n",
    "fraction = 1\n",
    "rc(\"text\", usetex=False)\n",
    "thresholds = np.linspace(0, 5, 10000)\n",
    "\n",
    "df = {'diffdock-protein': filtered_rmsds, \"attract\": attract, \"cluspro\": cluspro, \"equidock\": equidock, \n",
    "     \"equidock_no_clashes\": equidock_no_clashes, \"hdock\": hdock, \"patchdock\": patchdock}\n",
    "\n",
    "fig,axs = plt.subplots(1, 1,figsize=set_size(width=width,fraction=fraction))  # fraction image should cover\n",
    "\n",
    "for label, rmsds in df.items():\n",
    "    rmsds = np.array(rmsds)\n",
    "    fractions = [(rmsds < limit).mean() for limit in thresholds]\n",
    "    axs.plot(thresholds, fractions, \"-\", linewidth=0.7, label = label)\n",
    "\n",
    "# axs.axhline(y = 1, color = 'r', linestyle = '--',linewidth=0.3)\n",
    "axs.set_xlabel('RMSD (Å)')\n",
    "axs.set_ylabel('Fraction with lower RMSD')\n",
    "axs.set_ylim([0.0, 1.0])\n",
    "axs.grid(which=\"both\",linestyle=\":\",linewidth=0.4)\n",
    "axs.tick_params(axis='both', which='major')\n",
    "# axs.spines['top'].set_visible(False)\n",
    "# axs.spines['right'].set_visible(False)\n",
    "axs.legend(frameon=False)\n",
    "fig.savefig('../../plots/fraction_rmsd_new.pdf', format='pdf', bbox_inches='tight')"
   ]
  },
  {
   "cell_type": "markdown",
   "id": "3fd12025-dac7-4a71-8e29-d304d1a8c8b4",
   "metadata": {
    "tags": []
   },
   "source": [
    "### Less2 Abstained Datapoints"
   ]
  },
  {
   "cell_type": "code",
   "execution_count": 122,
   "id": "c08105ee-22f8-4fe5-bec2-8e7ce2ef7554",
   "metadata": {},
   "outputs": [
    {
     "data": {
      "application/vnd.plotly.v1+json": {
       "config": {
        "plotlyServerURL": "https://plot.ly"
       },
       "data": [
        {
         "hovertemplate": "rmsd=%{x}<br>conf=%{y}<extra></extra>",
         "legendgroup": "",
         "marker": {
          "color": "#636efa",
          "symbol": "circle"
         },
         "mode": "markers",
         "name": "",
         "orientation": "v",
         "showlegend": false,
         "type": "scatter",
         "x": [
          9.042729377746582,
          29.197484034624207,
          0.5997687578201294,
          20.756996154785156,
          2.067256212234497,
          0.9637764692306519,
          0.3149850368499756,
          2.4365286827087402,
          25.890003641128217,
          0.35455062985420227,
          1.4148938655853271,
          1.0353672504425049,
          0.9508169889450073,
          23.383129119873047,
          0.9808865785598755,
          0.5075879693031311,
          1.618407130241394,
          5.364858627319336,
          17.06818962097168,
          1.2470219135284424,
          17.85447065166751,
          22.474027102662507,
          19.052913170101508,
          19.73029688246926,
          28.36931610107422,
          1.091842770576477,
          25.265729904174805,
          3.902925968170166,
          28.414894104003906,
          24.53851318359375,
          0.6484763622283936,
          20.75109100341797,
          0.9133404493331909,
          17.473552703857422,
          15.571052551269531,
          25.40180015563965,
          26.726399183944913,
          0.29837268590927124,
          1.9212756156921387,
          28.95823422155466,
          12.507197380065918,
          15.342730522155762,
          20.42483757070842,
          3.624391794204712,
          5.3707966804504395,
          10.998116493225098,
          0.409523606300354,
          0.6471918225288391,
          13.923672676086426,
          0.4751858115196228,
          2.774144411087036,
          0.3536398112773895,
          27.188622339276282,
          0.29337215423583984,
          1.8526235818862915,
          16.44010111118529,
          16.08026123046875,
          22.539018630981445,
          5.023752212524414,
          14.688847541809082,
          3.2892403602600098,
          2.0526297092437744,
          0.3792314827442169,
          10.357925415039062,
          18.65197260438355,
          26.068697004915393,
          16.04206085205078,
          17.68511712279496,
          16.790884017944336,
          22.97905548819264,
          0.6091830134391785,
          24.67802619934082,
          48.170982360839844,
          0.5866617560386658,
          0.6482177376747131,
          15.613341331481934,
          0.41076183319091797,
          21.99633432046963,
          0.39423638582229614,
          44.54241943359375,
          17.81639289855957,
          8.639803886413574,
          10.076899528503418,
          24.276117754194217,
          6.900275230407715,
          0.48367053270339966,
          18.552983260066274,
          0.3338100016117096,
          0.8134889006614685,
          30.382382440425992,
          20.144323348999023,
          7.787625312805176,
          0.5659351944923401,
          4.3572845458984375,
          37.52456255439462,
          34.73707962036133,
          0.5056793689727783,
          18.002490997314453,
          3.610875368118286,
          18.856565706829056
         ],
         "xaxis": "x",
         "y": [
          -0.5432745218276978,
          0.1891147494316101,
          0.8280020356178284,
          -0.19139093160629272,
          -1.2129466533660889,
          -2.689009666442871,
          5.132793426513672,
          -0.6300795674324036,
          -0.6543065905570984,
          3.515197277069092,
          -0.7111606001853943,
          3.121138572692871,
          0.08485616743564606,
          -2.207054376602173,
          -0.41831526160240173,
          4.080068111419678,
          1.550591230392456,
          -0.24021998047828674,
          -0.16218897700309753,
          -4.235352993011475,
          0.13356061279773712,
          -3.7251110076904297,
          -1.400660514831543,
          -0.11522802710533142,
          -0.8561565279960632,
          -1.110667109489441,
          -0.3275649845600128,
          -1.199512004852295,
          -7.993124485015869,
          -1.3424773216247559,
          2.4329402446746826,
          -0.9980261325836182,
          1.35793137550354,
          0.6924839615821838,
          -2.8573293685913086,
          -2.0930802822113037,
          -2.9593396186828613,
          -0.4020228385925293,
          -0.4847759008407593,
          -4.124007701873779,
          -0.9773544669151306,
          -0.4004601538181305,
          -2.9395275115966797,
          -3.745894432067871,
          -2.0711278915405273,
          -1.2070268392562866,
          -0.20431195199489594,
          -0.7477759718894958,
          -0.2954481244087219,
          5.073536396026611,
          -1.3145695924758911,
          4.700232982635498,
          -0.19420577585697174,
          0.16042017936706543,
          0.5148264169692993,
          -5.350400447845459,
          -0.5377822518348694,
          -1.961350917816162,
          -0.875579297542572,
          -4.428356170654297,
          -3.8733744621276855,
          -1.6631121635437012,
          7.456455707550049,
          0.6389878988265991,
          -2.755159378051758,
          -0.44095441699028015,
          -0.8660332560539246,
          0.16288603842258453,
          -0.40136367082595825,
          -0.6581388711929321,
          1.1418585777282715,
          -7.207714557647705,
          -5.755001544952393,
          -2.1375033855438232,
          -0.7084836363792419,
          -5.640379428863525,
          0.2670658528804779,
          -3.3066256046295166,
          0.5359474420547485,
          -7.336045265197754,
          0.8893535137176514,
          -3.005662202835083,
          -2.5865097045898438,
          -1.0262830257415771,
          -4.72020959854126,
          -0.2104012668132782,
          -6.480465412139893,
          3.4980359077453613,
          0.5679619908332825,
          -1.2250322103500366,
          -1.593214988708496,
          -1.521659255027771,
          5.294192790985107,
          -0.2685725688934326,
          -5.252943515777588,
          -0.3590921461582184,
          3.104377269744873,
          0.6692636013031006,
          1.8718093633651733,
          -5.470909595489502
         ],
         "yaxis": "y"
        }
       ],
       "layout": {
        "autosize": true,
        "legend": {
         "font": {
          "size": 17
         },
         "title": {
          "font": {
           "size": 1
          },
          "text": ""
         },
         "tracegroupgap": 0,
         "x": 0.99,
         "xanchor": "right",
         "y": 0.1,
         "yanchor": "bottom"
        },
        "margin": {
         "b": 100,
         "l": 0,
         "r": 0,
         "t": 20
        },
        "paper_bgcolor": "white",
        "plot_bgcolor": "white",
        "template": {
         "data": {
          "bar": [
           {
            "error_x": {
             "color": "#2a3f5f"
            },
            "error_y": {
             "color": "#2a3f5f"
            },
            "marker": {
             "line": {
              "color": "#E5ECF6",
              "width": 0.5
             },
             "pattern": {
              "fillmode": "overlay",
              "size": 10,
              "solidity": 0.2
             }
            },
            "type": "bar"
           }
          ],
          "barpolar": [
           {
            "marker": {
             "line": {
              "color": "#E5ECF6",
              "width": 0.5
             },
             "pattern": {
              "fillmode": "overlay",
              "size": 10,
              "solidity": 0.2
             }
            },
            "type": "barpolar"
           }
          ],
          "carpet": [
           {
            "aaxis": {
             "endlinecolor": "#2a3f5f",
             "gridcolor": "white",
             "linecolor": "white",
             "minorgridcolor": "white",
             "startlinecolor": "#2a3f5f"
            },
            "baxis": {
             "endlinecolor": "#2a3f5f",
             "gridcolor": "white",
             "linecolor": "white",
             "minorgridcolor": "white",
             "startlinecolor": "#2a3f5f"
            },
            "type": "carpet"
           }
          ],
          "choropleth": [
           {
            "colorbar": {
             "outlinewidth": 0,
             "ticks": ""
            },
            "type": "choropleth"
           }
          ],
          "contour": [
           {
            "colorbar": {
             "outlinewidth": 0,
             "ticks": ""
            },
            "colorscale": [
             [
              0,
              "#0d0887"
             ],
             [
              0.1111111111111111,
              "#46039f"
             ],
             [
              0.2222222222222222,
              "#7201a8"
             ],
             [
              0.3333333333333333,
              "#9c179e"
             ],
             [
              0.4444444444444444,
              "#bd3786"
             ],
             [
              0.5555555555555556,
              "#d8576b"
             ],
             [
              0.6666666666666666,
              "#ed7953"
             ],
             [
              0.7777777777777778,
              "#fb9f3a"
             ],
             [
              0.8888888888888888,
              "#fdca26"
             ],
             [
              1,
              "#f0f921"
             ]
            ],
            "type": "contour"
           }
          ],
          "contourcarpet": [
           {
            "colorbar": {
             "outlinewidth": 0,
             "ticks": ""
            },
            "type": "contourcarpet"
           }
          ],
          "heatmap": [
           {
            "colorbar": {
             "outlinewidth": 0,
             "ticks": ""
            },
            "colorscale": [
             [
              0,
              "#0d0887"
             ],
             [
              0.1111111111111111,
              "#46039f"
             ],
             [
              0.2222222222222222,
              "#7201a8"
             ],
             [
              0.3333333333333333,
              "#9c179e"
             ],
             [
              0.4444444444444444,
              "#bd3786"
             ],
             [
              0.5555555555555556,
              "#d8576b"
             ],
             [
              0.6666666666666666,
              "#ed7953"
             ],
             [
              0.7777777777777778,
              "#fb9f3a"
             ],
             [
              0.8888888888888888,
              "#fdca26"
             ],
             [
              1,
              "#f0f921"
             ]
            ],
            "type": "heatmap"
           }
          ],
          "heatmapgl": [
           {
            "colorbar": {
             "outlinewidth": 0,
             "ticks": ""
            },
            "colorscale": [
             [
              0,
              "#0d0887"
             ],
             [
              0.1111111111111111,
              "#46039f"
             ],
             [
              0.2222222222222222,
              "#7201a8"
             ],
             [
              0.3333333333333333,
              "#9c179e"
             ],
             [
              0.4444444444444444,
              "#bd3786"
             ],
             [
              0.5555555555555556,
              "#d8576b"
             ],
             [
              0.6666666666666666,
              "#ed7953"
             ],
             [
              0.7777777777777778,
              "#fb9f3a"
             ],
             [
              0.8888888888888888,
              "#fdca26"
             ],
             [
              1,
              "#f0f921"
             ]
            ],
            "type": "heatmapgl"
           }
          ],
          "histogram": [
           {
            "marker": {
             "pattern": {
              "fillmode": "overlay",
              "size": 10,
              "solidity": 0.2
             }
            },
            "type": "histogram"
           }
          ],
          "histogram2d": [
           {
            "colorbar": {
             "outlinewidth": 0,
             "ticks": ""
            },
            "colorscale": [
             [
              0,
              "#0d0887"
             ],
             [
              0.1111111111111111,
              "#46039f"
             ],
             [
              0.2222222222222222,
              "#7201a8"
             ],
             [
              0.3333333333333333,
              "#9c179e"
             ],
             [
              0.4444444444444444,
              "#bd3786"
             ],
             [
              0.5555555555555556,
              "#d8576b"
             ],
             [
              0.6666666666666666,
              "#ed7953"
             ],
             [
              0.7777777777777778,
              "#fb9f3a"
             ],
             [
              0.8888888888888888,
              "#fdca26"
             ],
             [
              1,
              "#f0f921"
             ]
            ],
            "type": "histogram2d"
           }
          ],
          "histogram2dcontour": [
           {
            "colorbar": {
             "outlinewidth": 0,
             "ticks": ""
            },
            "colorscale": [
             [
              0,
              "#0d0887"
             ],
             [
              0.1111111111111111,
              "#46039f"
             ],
             [
              0.2222222222222222,
              "#7201a8"
             ],
             [
              0.3333333333333333,
              "#9c179e"
             ],
             [
              0.4444444444444444,
              "#bd3786"
             ],
             [
              0.5555555555555556,
              "#d8576b"
             ],
             [
              0.6666666666666666,
              "#ed7953"
             ],
             [
              0.7777777777777778,
              "#fb9f3a"
             ],
             [
              0.8888888888888888,
              "#fdca26"
             ],
             [
              1,
              "#f0f921"
             ]
            ],
            "type": "histogram2dcontour"
           }
          ],
          "mesh3d": [
           {
            "colorbar": {
             "outlinewidth": 0,
             "ticks": ""
            },
            "type": "mesh3d"
           }
          ],
          "parcoords": [
           {
            "line": {
             "colorbar": {
              "outlinewidth": 0,
              "ticks": ""
             }
            },
            "type": "parcoords"
           }
          ],
          "pie": [
           {
            "automargin": true,
            "type": "pie"
           }
          ],
          "scatter": [
           {
            "fillpattern": {
             "fillmode": "overlay",
             "size": 10,
             "solidity": 0.2
            },
            "type": "scatter"
           }
          ],
          "scatter3d": [
           {
            "line": {
             "colorbar": {
              "outlinewidth": 0,
              "ticks": ""
             }
            },
            "marker": {
             "colorbar": {
              "outlinewidth": 0,
              "ticks": ""
             }
            },
            "type": "scatter3d"
           }
          ],
          "scattercarpet": [
           {
            "marker": {
             "colorbar": {
              "outlinewidth": 0,
              "ticks": ""
             }
            },
            "type": "scattercarpet"
           }
          ],
          "scattergeo": [
           {
            "marker": {
             "colorbar": {
              "outlinewidth": 0,
              "ticks": ""
             }
            },
            "type": "scattergeo"
           }
          ],
          "scattergl": [
           {
            "marker": {
             "colorbar": {
              "outlinewidth": 0,
              "ticks": ""
             }
            },
            "type": "scattergl"
           }
          ],
          "scattermapbox": [
           {
            "marker": {
             "colorbar": {
              "outlinewidth": 0,
              "ticks": ""
             }
            },
            "type": "scattermapbox"
           }
          ],
          "scatterpolar": [
           {
            "marker": {
             "colorbar": {
              "outlinewidth": 0,
              "ticks": ""
             }
            },
            "type": "scatterpolar"
           }
          ],
          "scatterpolargl": [
           {
            "marker": {
             "colorbar": {
              "outlinewidth": 0,
              "ticks": ""
             }
            },
            "type": "scatterpolargl"
           }
          ],
          "scatterternary": [
           {
            "marker": {
             "colorbar": {
              "outlinewidth": 0,
              "ticks": ""
             }
            },
            "type": "scatterternary"
           }
          ],
          "surface": [
           {
            "colorbar": {
             "outlinewidth": 0,
             "ticks": ""
            },
            "colorscale": [
             [
              0,
              "#0d0887"
             ],
             [
              0.1111111111111111,
              "#46039f"
             ],
             [
              0.2222222222222222,
              "#7201a8"
             ],
             [
              0.3333333333333333,
              "#9c179e"
             ],
             [
              0.4444444444444444,
              "#bd3786"
             ],
             [
              0.5555555555555556,
              "#d8576b"
             ],
             [
              0.6666666666666666,
              "#ed7953"
             ],
             [
              0.7777777777777778,
              "#fb9f3a"
             ],
             [
              0.8888888888888888,
              "#fdca26"
             ],
             [
              1,
              "#f0f921"
             ]
            ],
            "type": "surface"
           }
          ],
          "table": [
           {
            "cells": {
             "fill": {
              "color": "#EBF0F8"
             },
             "line": {
              "color": "white"
             }
            },
            "header": {
             "fill": {
              "color": "#C8D4E3"
             },
             "line": {
              "color": "white"
             }
            },
            "type": "table"
           }
          ]
         },
         "layout": {
          "annotationdefaults": {
           "arrowcolor": "#2a3f5f",
           "arrowhead": 0,
           "arrowwidth": 1
          },
          "autotypenumbers": "strict",
          "coloraxis": {
           "colorbar": {
            "outlinewidth": 0,
            "ticks": ""
           }
          },
          "colorscale": {
           "diverging": [
            [
             0,
             "#8e0152"
            ],
            [
             0.1,
             "#c51b7d"
            ],
            [
             0.2,
             "#de77ae"
            ],
            [
             0.3,
             "#f1b6da"
            ],
            [
             0.4,
             "#fde0ef"
            ],
            [
             0.5,
             "#f7f7f7"
            ],
            [
             0.6,
             "#e6f5d0"
            ],
            [
             0.7,
             "#b8e186"
            ],
            [
             0.8,
             "#7fbc41"
            ],
            [
             0.9,
             "#4d9221"
            ],
            [
             1,
             "#276419"
            ]
           ],
           "sequential": [
            [
             0,
             "#0d0887"
            ],
            [
             0.1111111111111111,
             "#46039f"
            ],
            [
             0.2222222222222222,
             "#7201a8"
            ],
            [
             0.3333333333333333,
             "#9c179e"
            ],
            [
             0.4444444444444444,
             "#bd3786"
            ],
            [
             0.5555555555555556,
             "#d8576b"
            ],
            [
             0.6666666666666666,
             "#ed7953"
            ],
            [
             0.7777777777777778,
             "#fb9f3a"
            ],
            [
             0.8888888888888888,
             "#fdca26"
            ],
            [
             1,
             "#f0f921"
            ]
           ],
           "sequentialminus": [
            [
             0,
             "#0d0887"
            ],
            [
             0.1111111111111111,
             "#46039f"
            ],
            [
             0.2222222222222222,
             "#7201a8"
            ],
            [
             0.3333333333333333,
             "#9c179e"
            ],
            [
             0.4444444444444444,
             "#bd3786"
            ],
            [
             0.5555555555555556,
             "#d8576b"
            ],
            [
             0.6666666666666666,
             "#ed7953"
            ],
            [
             0.7777777777777778,
             "#fb9f3a"
            ],
            [
             0.8888888888888888,
             "#fdca26"
            ],
            [
             1,
             "#f0f921"
            ]
           ]
          },
          "colorway": [
           "#636efa",
           "#EF553B",
           "#00cc96",
           "#ab63fa",
           "#FFA15A",
           "#19d3f3",
           "#FF6692",
           "#B6E880",
           "#FF97FF",
           "#FECB52"
          ],
          "font": {
           "color": "#2a3f5f"
          },
          "geo": {
           "bgcolor": "white",
           "lakecolor": "white",
           "landcolor": "#E5ECF6",
           "showlakes": true,
           "showland": true,
           "subunitcolor": "white"
          },
          "hoverlabel": {
           "align": "left"
          },
          "hovermode": "closest",
          "mapbox": {
           "style": "light"
          },
          "paper_bgcolor": "white",
          "plot_bgcolor": "#E5ECF6",
          "polar": {
           "angularaxis": {
            "gridcolor": "white",
            "linecolor": "white",
            "ticks": ""
           },
           "bgcolor": "#E5ECF6",
           "radialaxis": {
            "gridcolor": "white",
            "linecolor": "white",
            "ticks": ""
           }
          },
          "scene": {
           "xaxis": {
            "backgroundcolor": "#E5ECF6",
            "gridcolor": "white",
            "gridwidth": 2,
            "linecolor": "white",
            "showbackground": true,
            "ticks": "",
            "zerolinecolor": "white"
           },
           "yaxis": {
            "backgroundcolor": "#E5ECF6",
            "gridcolor": "white",
            "gridwidth": 2,
            "linecolor": "white",
            "showbackground": true,
            "ticks": "",
            "zerolinecolor": "white"
           },
           "zaxis": {
            "backgroundcolor": "#E5ECF6",
            "gridcolor": "white",
            "gridwidth": 2,
            "linecolor": "white",
            "showbackground": true,
            "ticks": "",
            "zerolinecolor": "white"
           }
          },
          "shapedefaults": {
           "line": {
            "color": "#2a3f5f"
           }
          },
          "ternary": {
           "aaxis": {
            "gridcolor": "white",
            "linecolor": "white",
            "ticks": ""
           },
           "baxis": {
            "gridcolor": "white",
            "linecolor": "white",
            "ticks": ""
           },
           "bgcolor": "#E5ECF6",
           "caxis": {
            "gridcolor": "white",
            "linecolor": "white",
            "ticks": ""
           }
          },
          "title": {
           "x": 0.05
          },
          "xaxis": {
           "automargin": true,
           "gridcolor": "white",
           "linecolor": "white",
           "ticks": "",
           "title": {
            "standoff": 15
           },
           "zerolinecolor": "white",
           "zerolinewidth": 2
          },
          "yaxis": {
           "automargin": true,
           "gridcolor": "white",
           "linecolor": "white",
           "ticks": "",
           "title": {
            "standoff": 15
           },
           "zerolinecolor": "white",
           "zerolinewidth": 2
          }
         }
        },
        "xaxis": {
         "anchor": "y",
         "autorange": true,
         "domain": [
          0,
          1
         ],
         "gridcolor": "lightgrey",
         "mirror": true,
         "range": [
          -2.6389108141735416,
          51.103265329249226
         ],
         "showgrid": true,
         "showline": true,
         "ticks": "outside",
         "title": {
          "font": {
           "size": 16
          },
          "text": "Percentage of datapoints that may be abstained"
         },
         "type": "linear"
        },
        "yaxis": {
         "anchor": "x",
         "autorange": true,
         "domain": [
          0,
          1
         ],
         "gridcolor": "lightgrey",
         "mirror": true,
         "range": [
          -9.160179103878763,
          8.623510326412942
         ],
         "showgrid": true,
         "showline": true,
         "ticks": "outside",
         "title": {
          "font": {
           "size": 16
          },
          "text": "Percentage of predictions with RMSD < 2A"
         },
         "type": "linear"
        }
       }
      },
      "image/png": "[encoded data removed]",
      "text/html": [
       "<div>                            <div id=\"adfa3bc2-7dc4-4b4f-9c3a-40d0c0263038\" class=\"plotly-graph-div\" style=\"height:525px; width:100%;\"></div>            <script type=\"text/javascript\">                require([\"plotly\"], function(Plotly) {                    window.PLOTLYENV=window.PLOTLYENV || {};                                    if (document.getElementById(\"adfa3bc2-7dc4-4b4f-9c3a-40d0c0263038\")) {                    Plotly.newPlot(                        \"adfa3bc2-7dc4-4b4f-9c3a-40d0c0263038\",                        [{\"hovertemplate\":\"rmsd=%{x}<br>conf=%{y}<extra></extra>\",\"legendgroup\":\"\",\"marker\":{\"color\":\"#636efa\",\"symbol\":\"circle\"},\"mode\":\"markers\",\"name\":\"\",\"orientation\":\"v\",\"showlegend\":false,\"x\":[9.042729377746582,29.197484034624207,0.5997687578201294,20.756996154785156,2.067256212234497,0.9637764692306519,0.3149850368499756,2.4365286827087402,25.890003641128217,0.35455062985420227,1.4148938655853271,1.0353672504425049,0.9508169889450073,23.383129119873047,0.9808865785598755,0.5075879693031311,1.618407130241394,5.364858627319336,17.06818962097168,1.2470219135284424,17.85447065166751,22.474027102662507,19.052913170101508,19.73029688246926,28.36931610107422,1.091842770576477,25.265729904174805,3.902925968170166,28.414894104003906,24.53851318359375,0.6484763622283936,20.75109100341797,0.9133404493331909,17.473552703857422,15.571052551269531,25.40180015563965,26.726399183944913,0.29837268590927124,1.9212756156921387,28.95823422155466,12.507197380065918,15.342730522155762,20.42483757070842,3.624391794204712,5.3707966804504395,10.998116493225098,0.409523606300354,0.6471918225288391,13.923672676086426,0.4751858115196228,2.774144411087036,0.3536398112773895,27.188622339276282,0.29337215423583984,1.8526235818862915,16.44010111118529,16.08026123046875,22.539018630981445,5.023752212524414,14.688847541809082,3.2892403602600098,2.0526297092437744,0.3792314827442169,10.357925415039062,18.65197260438355,26.068697004915393,16.04206085205078,17.68511712279496,16.790884017944336,22.97905548819264,0.6091830134391785,24.67802619934082,48.170982360839844,0.5866617560386658,0.6482177376747131,15.613341331481934,0.41076183319091797,21.99633432046963,0.39423638582229614,44.54241943359375,17.81639289855957,8.639803886413574,10.076899528503418,24.276117754194217,6.900275230407715,0.48367053270339966,18.552983260066274,0.3338100016117096,0.8134889006614685,30.382382440425992,20.144323348999023,7.787625312805176,0.5659351944923401,4.3572845458984375,37.52456255439462,34.73707962036133,0.5056793689727783,18.002490997314453,3.610875368118286,18.856565706829056],\"xaxis\":\"x\",\"y\":[-0.5432745218276978,0.1891147494316101,0.8280020356178284,-0.19139093160629272,-1.2129466533660889,-2.689009666442871,5.132793426513672,-0.6300795674324036,-0.6543065905570984,3.515197277069092,-0.7111606001853943,3.121138572692871,0.08485616743564606,-2.207054376602173,-0.41831526160240173,4.080068111419678,1.550591230392456,-0.24021998047828674,-0.16218897700309753,-4.235352993011475,0.13356061279773712,-3.7251110076904297,-1.400660514831543,-0.11522802710533142,-0.8561565279960632,-1.110667109489441,-0.3275649845600128,-1.199512004852295,-7.993124485015869,-1.3424773216247559,2.4329402446746826,-0.9980261325836182,1.35793137550354,0.6924839615821838,-2.8573293685913086,-2.0930802822113037,-2.9593396186828613,-0.4020228385925293,-0.4847759008407593,-4.124007701873779,-0.9773544669151306,-0.4004601538181305,-2.9395275115966797,-3.745894432067871,-2.0711278915405273,-1.2070268392562866,-0.20431195199489594,-0.7477759718894958,-0.2954481244087219,5.073536396026611,-1.3145695924758911,4.700232982635498,-0.19420577585697174,0.16042017936706543,0.5148264169692993,-5.350400447845459,-0.5377822518348694,-1.961350917816162,-0.875579297542572,-4.428356170654297,-3.8733744621276855,-1.6631121635437012,7.456455707550049,0.6389878988265991,-2.755159378051758,-0.44095441699028015,-0.8660332560539246,0.16288603842258453,-0.40136367082595825,-0.6581388711929321,1.1418585777282715,-7.207714557647705,-5.755001544952393,-2.1375033855438232,-0.7084836363792419,-5.640379428863525,0.2670658528804779,-3.3066256046295166,0.5359474420547485,-7.336045265197754,0.8893535137176514,-3.005662202835083,-2.5865097045898438,-1.0262830257415771,-4.72020959854126,-0.2104012668132782,-6.480465412139893,3.4980359077453613,0.5679619908332825,-1.2250322103500366,-1.593214988708496,-1.521659255027771,5.294192790985107,-0.2685725688934326,-5.252943515777588,-0.3590921461582184,3.104377269744873,0.6692636013031006,1.8718093633651733,-5.470909595489502],\"yaxis\":\"y\",\"type\":\"scatter\"}],                        {\"template\":{\"data\":{\"histogram2dcontour\":[{\"type\":\"histogram2dcontour\",\"colorbar\":{\"outlinewidth\":0,\"ticks\":\"\"},\"colorscale\":[[0.0,\"#0d0887\"],[0.1111111111111111,\"#46039f\"],[0.2222222222222222,\"#7201a8\"],[0.3333333333333333,\"#9c179e\"],[0.4444444444444444,\"#bd3786\"],[0.5555555555555556,\"#d8576b\"],[0.6666666666666666,\"#ed7953\"],[0.7777777777777778,\"#fb9f3a\"],[0.8888888888888888,\"#fdca26\"],[1.0,\"#f0f921\"]]}],\"choropleth\":[{\"type\":\"choropleth\",\"colorbar\":{\"outlinewidth\":0,\"ticks\":\"\"}}],\"histogram2d\":[{\"type\":\"histogram2d\",\"colorbar\":{\"outlinewidth\":0,\"ticks\":\"\"},\"colorscale\":[[0.0,\"#0d0887\"],[0.1111111111111111,\"#46039f\"],[0.2222222222222222,\"#7201a8\"],[0.3333333333333333,\"#9c179e\"],[0.4444444444444444,\"#bd3786\"],[0.5555555555555556,\"#d8576b\"],[0.6666666666666666,\"#ed7953\"],[0.7777777777777778,\"#fb9f3a\"],[0.8888888888888888,\"#fdca26\"],[1.0,\"#f0f921\"]]}],\"heatmap\":[{\"type\":\"heatmap\",\"colorbar\":{\"outlinewidth\":0,\"ticks\":\"\"},\"colorscale\":[[0.0,\"#0d0887\"],[0.1111111111111111,\"#46039f\"],[0.2222222222222222,\"#7201a8\"],[0.3333333333333333,\"#9c179e\"],[0.4444444444444444,\"#bd3786\"],[0.5555555555555556,\"#d8576b\"],[0.6666666666666666,\"#ed7953\"],[0.7777777777777778,\"#fb9f3a\"],[0.8888888888888888,\"#fdca26\"],[1.0,\"#f0f921\"]]}],\"heatmapgl\":[{\"type\":\"heatmapgl\",\"colorbar\":{\"outlinewidth\":0,\"ticks\":\"\"},\"colorscale\":[[0.0,\"#0d0887\"],[0.1111111111111111,\"#46039f\"],[0.2222222222222222,\"#7201a8\"],[0.3333333333333333,\"#9c179e\"],[0.4444444444444444,\"#bd3786\"],[0.5555555555555556,\"#d8576b\"],[0.6666666666666666,\"#ed7953\"],[0.7777777777777778,\"#fb9f3a\"],[0.8888888888888888,\"#fdca26\"],[1.0,\"#f0f921\"]]}],\"contourcarpet\":[{\"type\":\"contourcarpet\",\"colorbar\":{\"outlinewidth\":0,\"ticks\":\"\"}}],\"contour\":[{\"type\":\"contour\",\"colorbar\":{\"outlinewidth\":0,\"ticks\":\"\"},\"colorscale\":[[0.0,\"#0d0887\"],[0.1111111111111111,\"#46039f\"],[0.2222222222222222,\"#7201a8\"],[0.3333333333333333,\"#9c179e\"],[0.4444444444444444,\"#bd3786\"],[0.5555555555555556,\"#d8576b\"],[0.6666666666666666,\"#ed7953\"],[0.7777777777777778,\"#fb9f3a\"],[0.8888888888888888,\"#fdca26\"],[1.0,\"#f0f921\"]]}],\"surface\":[{\"type\":\"surface\",\"colorbar\":{\"outlinewidth\":0,\"ticks\":\"\"},\"colorscale\":[[0.0,\"#0d0887\"],[0.1111111111111111,\"#46039f\"],[0.2222222222222222,\"#7201a8\"],[0.3333333333333333,\"#9c179e\"],[0.4444444444444444,\"#bd3786\"],[0.5555555555555556,\"#d8576b\"],[0.6666666666666666,\"#ed7953\"],[0.7777777777777778,\"#fb9f3a\"],[0.8888888888888888,\"#fdca26\"],[1.0,\"#f0f921\"]]}],\"mesh3d\":[{\"type\":\"mesh3d\",\"colorbar\":{\"outlinewidth\":0,\"ticks\":\"\"}}],\"scatter\":[{\"fillpattern\":{\"fillmode\":\"overlay\",\"size\":10,\"solidity\":0.2},\"type\":\"scatter\"}],\"parcoords\":[{\"type\":\"parcoords\",\"line\":{\"colorbar\":{\"outlinewidth\":0,\"ticks\":\"\"}}}],\"scatterpolargl\":[{\"type\":\"scatterpolargl\",\"marker\":{\"colorbar\":{\"outlinewidth\":0,\"ticks\":\"\"}}}],\"bar\":[{\"error_x\":{\"color\":\"#2a3f5f\"},\"error_y\":{\"color\":\"#2a3f5f\"},\"marker\":{\"line\":{\"color\":\"#E5ECF6\",\"width\":0.5},\"pattern\":{\"fillmode\":\"overlay\",\"size\":10,\"solidity\":0.2}},\"type\":\"bar\"}],\"scattergeo\":[{\"type\":\"scattergeo\",\"marker\":{\"colorbar\":{\"outlinewidth\":0,\"ticks\":\"\"}}}],\"scatterpolar\":[{\"type\":\"scatterpolar\",\"marker\":{\"colorbar\":{\"outlinewidth\":0,\"ticks\":\"\"}}}],\"histogram\":[{\"marker\":{\"pattern\":{\"fillmode\":\"overlay\",\"size\":10,\"solidity\":0.2}},\"type\":\"histogram\"}],\"scattergl\":[{\"type\":\"scattergl\",\"marker\":{\"colorbar\":{\"outlinewidth\":0,\"ticks\":\"\"}}}],\"scatter3d\":[{\"type\":\"scatter3d\",\"line\":{\"colorbar\":{\"outlinewidth\":0,\"ticks\":\"\"}},\"marker\":{\"colorbar\":{\"outlinewidth\":0,\"ticks\":\"\"}}}],\"scattermapbox\":[{\"type\":\"scattermapbox\",\"marker\":{\"colorbar\":{\"outlinewidth\":0,\"ticks\":\"\"}}}],\"scatterternary\":[{\"type\":\"scatterternary\",\"marker\":{\"colorbar\":{\"outlinewidth\":0,\"ticks\":\"\"}}}],\"scattercarpet\":[{\"type\":\"scattercarpet\",\"marker\":{\"colorbar\":{\"outlinewidth\":0,\"ticks\":\"\"}}}],\"carpet\":[{\"aaxis\":{\"endlinecolor\":\"#2a3f5f\",\"gridcolor\":\"white\",\"linecolor\":\"white\",\"minorgridcolor\":\"white\",\"startlinecolor\":\"#2a3f5f\"},\"baxis\":{\"endlinecolor\":\"#2a3f5f\",\"gridcolor\":\"white\",\"linecolor\":\"white\",\"minorgridcolor\":\"white\",\"startlinecolor\":\"#2a3f5f\"},\"type\":\"carpet\"}],\"table\":[{\"cells\":{\"fill\":{\"color\":\"#EBF0F8\"},\"line\":{\"color\":\"white\"}},\"header\":{\"fill\":{\"color\":\"#C8D4E3\"},\"line\":{\"color\":\"white\"}},\"type\":\"table\"}],\"barpolar\":[{\"marker\":{\"line\":{\"color\":\"#E5ECF6\",\"width\":0.5},\"pattern\":{\"fillmode\":\"overlay\",\"size\":10,\"solidity\":0.2}},\"type\":\"barpolar\"}],\"pie\":[{\"automargin\":true,\"type\":\"pie\"}]},\"layout\":{\"autotypenumbers\":\"strict\",\"colorway\":[\"#636efa\",\"#EF553B\",\"#00cc96\",\"#ab63fa\",\"#FFA15A\",\"#19d3f3\",\"#FF6692\",\"#B6E880\",\"#FF97FF\",\"#FECB52\"],\"font\":{\"color\":\"#2a3f5f\"},\"hovermode\":\"closest\",\"hoverlabel\":{\"align\":\"left\"},\"paper_bgcolor\":\"white\",\"plot_bgcolor\":\"#E5ECF6\",\"polar\":{\"bgcolor\":\"#E5ECF6\",\"angularaxis\":{\"gridcolor\":\"white\",\"linecolor\":\"white\",\"ticks\":\"\"},\"radialaxis\":{\"gridcolor\":\"white\",\"linecolor\":\"white\",\"ticks\":\"\"}},\"ternary\":{\"bgcolor\":\"#E5ECF6\",\"aaxis\":{\"gridcolor\":\"white\",\"linecolor\":\"white\",\"ticks\":\"\"},\"baxis\":{\"gridcolor\":\"white\",\"linecolor\":\"white\",\"ticks\":\"\"},\"caxis\":{\"gridcolor\":\"white\",\"linecolor\":\"white\",\"ticks\":\"\"}},\"coloraxis\":{\"colorbar\":{\"outlinewidth\":0,\"ticks\":\"\"}},\"colorscale\":{\"sequential\":[[0.0,\"#0d0887\"],[0.1111111111111111,\"#46039f\"],[0.2222222222222222,\"#7201a8\"],[0.3333333333333333,\"#9c179e\"],[0.4444444444444444,\"#bd3786\"],[0.5555555555555556,\"#d8576b\"],[0.6666666666666666,\"#ed7953\"],[0.7777777777777778,\"#fb9f3a\"],[0.8888888888888888,\"#fdca26\"],[1.0,\"#f0f921\"]],\"sequentialminus\":[[0.0,\"#0d0887\"],[0.1111111111111111,\"#46039f\"],[0.2222222222222222,\"#7201a8\"],[0.3333333333333333,\"#9c179e\"],[0.4444444444444444,\"#bd3786\"],[0.5555555555555556,\"#d8576b\"],[0.6666666666666666,\"#ed7953\"],[0.7777777777777778,\"#fb9f3a\"],[0.8888888888888888,\"#fdca26\"],[1.0,\"#f0f921\"]],\"diverging\":[[0,\"#8e0152\"],[0.1,\"#c51b7d\"],[0.2,\"#de77ae\"],[0.3,\"#f1b6da\"],[0.4,\"#fde0ef\"],[0.5,\"#f7f7f7\"],[0.6,\"#e6f5d0\"],[0.7,\"#b8e186\"],[0.8,\"#7fbc41\"],[0.9,\"#4d9221\"],[1,\"#276419\"]]},\"xaxis\":{\"gridcolor\":\"white\",\"linecolor\":\"white\",\"ticks\":\"\",\"title\":{\"standoff\":15},\"zerolinecolor\":\"white\",\"automargin\":true,\"zerolinewidth\":2},\"yaxis\":{\"gridcolor\":\"white\",\"linecolor\":\"white\",\"ticks\":\"\",\"title\":{\"standoff\":15},\"zerolinecolor\":\"white\",\"automargin\":true,\"zerolinewidth\":2},\"scene\":{\"xaxis\":{\"backgroundcolor\":\"#E5ECF6\",\"gridcolor\":\"white\",\"linecolor\":\"white\",\"showbackground\":true,\"ticks\":\"\",\"zerolinecolor\":\"white\",\"gridwidth\":2},\"yaxis\":{\"backgroundcolor\":\"#E5ECF6\",\"gridcolor\":\"white\",\"linecolor\":\"white\",\"showbackground\":true,\"ticks\":\"\",\"zerolinecolor\":\"white\",\"gridwidth\":2},\"zaxis\":{\"backgroundcolor\":\"#E5ECF6\",\"gridcolor\":\"white\",\"linecolor\":\"white\",\"showbackground\":true,\"ticks\":\"\",\"zerolinecolor\":\"white\",\"gridwidth\":2}},\"shapedefaults\":{\"line\":{\"color\":\"#2a3f5f\"}},\"annotationdefaults\":{\"arrowcolor\":\"#2a3f5f\",\"arrowhead\":0,\"arrowwidth\":1},\"geo\":{\"bgcolor\":\"white\",\"landcolor\":\"#E5ECF6\",\"subunitcolor\":\"white\",\"showland\":true,\"showlakes\":true,\"lakecolor\":\"white\"},\"title\":{\"x\":0.05},\"mapbox\":{\"style\":\"light\"}}},\"xaxis\":{\"anchor\":\"y\",\"domain\":[0.0,1.0],\"title\":{\"text\":\"Percentage of datapoints that may be abstained\",\"font\":{\"size\":16}},\"showgrid\":true,\"gridcolor\":\"lightgrey\",\"mirror\":true,\"ticks\":\"outside\",\"showline\":true},\"yaxis\":{\"anchor\":\"x\",\"domain\":[0.0,1.0],\"title\":{\"text\":\"Percentage of predictions with RMSD < 2A\",\"font\":{\"size\":16}},\"showgrid\":true,\"gridcolor\":\"lightgrey\",\"mirror\":true,\"ticks\":\"outside\",\"showline\":true},\"legend\":{\"tracegroupgap\":0,\"title\":{\"font\":{\"size\":1},\"text\":\"\"},\"font\":{\"size\":17},\"yanchor\":\"bottom\",\"y\":0.1,\"xanchor\":\"right\",\"x\":0.99},\"margin\":{\"t\":20,\"l\":0,\"r\":0,\"b\":100},\"plot_bgcolor\":\"white\",\"paper_bgcolor\":\"white\"},                        {\"responsive\": true}                    ).then(function(){\n",
       "                            \n",
       "var gd = document.getElementById('adfa3bc2-7dc4-4b4f-9c3a-40d0c0263038');\n",
       "var x = new MutationObserver(function (mutations, observer) {{\n",
       "        var display = window.getComputedStyle(gd).display;\n",
       "        if (!display || display === 'none') {{\n",
       "            console.log([gd, 'removed!']);\n",
       "            Plotly.purge(gd);\n",
       "            observer.disconnect();\n",
       "        }}\n",
       "}});\n",
       "\n",
       "// Listen for the removal of the full notebook cells\n",
       "var notebookContainer = gd.closest('#notebook-container');\n",
       "if (notebookContainer) {{\n",
       "    x.observe(notebookContainer, {childList: true});\n",
       "}}\n",
       "\n",
       "// Listen for the clearing of the current output cell\n",
       "var outputEl = gd.closest('.output');\n",
       "if (outputEl) {{\n",
       "    x.observe(outputEl, {childList: true});\n",
       "}}\n",
       "\n",
       "                        })                };                });            </script>        </div>"
      ]
     },
     "metadata": {},
     "output_type": "display_data"
    }
   ],
   "source": [
    "df = {'conf': filtered_confidences, 'rmsd': filtered_rmsds}\n",
    "fig = px.scatter(df, x='rmsd',y='conf').update_layout(\n",
    "    xaxis_title=\"Percentage of datapoints that may be abstained\", yaxis_title=\"Percentage of predictions with RMSD < 2A\"\n",
    ")\n",
    "fig.update_layout(margin={'l': 0, 'r': 0, 't': 20, 'b': 100}, plot_bgcolor='white',\n",
    "                paper_bgcolor='white', legend_title_text='', legend_title_font_size=1,\n",
    "                legend=dict(yanchor=\"bottom\", y=0.1, xanchor=\"right\", x=0.99, font=dict(size=17), ),\n",
    "                )\n",
    "fig.update_xaxes(showgrid=True, gridcolor='lightgrey',title_font=dict(size=16),mirror=True,ticks='outside',showline=True,)\n",
    "fig.update_yaxes(showgrid=True, gridcolor='lightgrey',title_font=dict(size=16),mirror=True,ticks='outside',showline=True,)\n",
    "fig.show()\n",
    "fig.write_image('../../plots/less2_abstained_datapoints.pdf')\n"
   ]
  },
  {
   "cell_type": "markdown",
   "id": "141abfab-a779-4bc5-a8c9-ff55873009d8",
   "metadata": {
    "tags": []
   },
   "source": [
    "### Probability Rmsd"
   ]
  },
  {
   "cell_type": "code",
   "execution_count": 123,
   "id": "565704a0-6b73-42f5-8f0c-ccba3e1ebbad",
   "metadata": {},
   "outputs": [
    {
     "data": {
      "application/vnd.plotly.v1+json": {
       "config": {
        "plotlyServerURL": "https://plot.ly"
       },
       "data": [
        {
         "hovertemplate": "Names=diffdock-protein<br>RMSD=%{x}<br>probability=%{y}<extra></extra>",
         "legendgroup": "diffdock-protein",
         "line": {
          "dash": "solid",
          "shape": "hv"
         },
         "marker": {
          "color": "#636efa",
          "symbol": "circle"
         },
         "mode": "lines",
         "name": "diffdock-protein",
         "orientation": "v",
         "showlegend": true,
         "type": "scatter",
         "x": [
          0.29337215423583984,
          0.29837268590927124,
          0.3149850368499756,
          0.3338100016117096,
          0.3536398112773895,
          0.35455062985420227,
          0.3792314827442169,
          0.39423638582229614,
          0.409523606300354,
          0.41076183319091797,
          0.4751858115196228,
          0.48367053270339966,
          0.5056793689727783,
          0.5075879693031311,
          0.5659351944923401,
          0.5866617560386658,
          0.5997687578201294,
          0.6091830134391785,
          0.6471918225288391,
          0.6482177376747131,
          0.6484763622283936,
          0.8134889006614685,
          0.9133404493331909,
          0.9508169889450073,
          0.9637764692306519,
          0.9808865785598755,
          1.0353672504425049,
          1.091842770576477,
          1.2470219135284424,
          1.4148938655853271,
          1.618407130241394,
          1.8526235818862915,
          1.9212756156921387,
          2.0526297092437744,
          2.067256212234497,
          2.4365286827087402,
          2.774144411087036,
          3.2892403602600098,
          3.610875368118286,
          3.624391794204712,
          3.902925968170166,
          4.3572845458984375,
          5.023752212524414,
          5.364858627319336,
          5.3707966804504395,
          6.900275230407715,
          7.787625312805176,
          8.639803886413574,
          9.042729377746582,
          10.076899528503418,
          10.357925415039062,
          10.998116493225098,
          12.507197380065918,
          13.923672676086426,
          14.688847541809082,
          15.342730522155762,
          15.571052551269531,
          15.613341331481934,
          16.04206085205078,
          16.08026123046875,
          16.44010111118529,
          16.790884017944336,
          17.06818962097168,
          17.473552703857422,
          17.68511712279496,
          17.81639289855957,
          17.85447065166751,
          18.002490997314453,
          18.552983260066274,
          18.65197260438355,
          18.856565706829056,
          19.052913170101508,
          19.73029688246926,
          20.144323348999023,
          20.42483757070842,
          20.75109100341797,
          20.756996154785156,
          21.99633432046963,
          22.474027102662507,
          22.539018630981445,
          22.97905548819264,
          23.383129119873047,
          24.276117754194217,
          24.53851318359375,
          24.67802619934082,
          25.265729904174805,
          25.40180015563965,
          25.890003641128217,
          26.068697004915393,
          26.726399183944913,
          27.188622339276282,
          28.36931610107422,
          28.414894104003906,
          28.95823422155466,
          29.197484034624207,
          30.382382440425992,
          34.73707962036133,
          37.52456255439462,
          44.54241943359375,
          48.170982360839844
         ],
         "xaxis": "x",
         "y": [
          0.01,
          0.02,
          0.03,
          0.04,
          0.05,
          0.06,
          0.07,
          0.08,
          0.09,
          0.1,
          0.11,
          0.12,
          0.13,
          0.14,
          0.15,
          0.16,
          0.17,
          0.18,
          0.19,
          0.2,
          0.21,
          0.22,
          0.23,
          0.24,
          0.25,
          0.26,
          0.27,
          0.28,
          0.29,
          0.3,
          0.31,
          0.32,
          0.33,
          0.34,
          0.35,
          0.36,
          0.37,
          0.38,
          0.39,
          0.4,
          0.41,
          0.42,
          0.43,
          0.44,
          0.45,
          0.46,
          0.47,
          0.48,
          0.49,
          0.5,
          0.51,
          0.52,
          0.53,
          0.54,
          0.55,
          0.56,
          0.57,
          0.58,
          0.59,
          0.6,
          0.61,
          0.62,
          0.63,
          0.64,
          0.65,
          0.66,
          0.67,
          0.68,
          0.69,
          0.7,
          0.71,
          0.72,
          0.73,
          0.74,
          0.75,
          0.76,
          0.77,
          0.78,
          0.79,
          0.8,
          0.81,
          0.82,
          0.83,
          0.84,
          0.85,
          0.86,
          0.87,
          0.88,
          0.89,
          0.9,
          0.91,
          0.92,
          0.93,
          0.94,
          0.95,
          0.96,
          0.97,
          0.98,
          0.99,
          1
         ],
         "yaxis": "y"
        },
        {
         "hovertemplate": "Names=attract<br>RMSD=%{x}<br>probability=%{y}<extra></extra>",
         "legendgroup": "attract",
         "line": {
          "dash": "solid",
          "shape": "hv"
         },
         "marker": {
          "color": "#EF553B",
          "symbol": "circle"
         },
         "mode": "lines",
         "name": "attract",
         "orientation": "v",
         "showlegend": true,
         "type": "scatter",
         "x": [
          0.13926233,
          0.28044233,
          0.29276285,
          0.3360423,
          0.3396759,
          0.3518394,
          0.3563808,
          0.36998016,
          0.3826338,
          0.45265192,
          0.51638377,
          0.54319364,
          0.56779015,
          0.56811786,
          0.57774603,
          0.5941723,
          0.645793,
          0.8302002,
          0.86829495,
          0.9613879,
          2.5413656,
          3.3541293,
          4.19255,
          5.2775273,
          5.93925,
          7.109903,
          7.1512103,
          7.862554,
          8.204019,
          8.681912,
          8.948145,
          9.307716,
          9.625087,
          10.277538,
          10.41621,
          10.958036,
          11.512081,
          11.558826,
          11.8054085,
          11.91232,
          12.724872,
          12.728029,
          13.053833,
          16.13535849745032,
          16.489124,
          16.654251,
          16.881622201200468,
          16.936733,
          16.985798,
          17.101927,
          17.242737,
          17.24560027193968,
          17.26072914255932,
          17.261285584384705,
          17.403548109514354,
          17.438412,
          17.466822,
          17.651161,
          17.672428,
          17.71775023456783,
          17.755268,
          17.90271099637255,
          18.432749840455607,
          18.703472,
          19.125182824562657,
          19.38609,
          19.732384,
          20.018314003393044,
          20.031883,
          20.108066024939134,
          20.302092,
          20.436136,
          20.469116759412493,
          20.57085068365913,
          20.577295,
          20.647863,
          20.882835,
          20.98024,
          21.054924513135983,
          22.604015783137648,
          22.930610867067113,
          23.259281273065955,
          23.54531859780378,
          23.951239,
          23.984114,
          24.080978,
          24.862658,
          25.43430424019306,
          25.649985210593556,
          25.800375,
          27.58495509032034,
          29.1075086288899,
          29.78379450084901,
          30.516750524119377,
          32.98263136992018,
          33.15508,
          34.476753,
          37.165367,
          43.63907158365498,
          44.615074
         ],
         "xaxis": "x",
         "y": [
          0.01,
          0.02,
          0.03,
          0.04,
          0.05,
          0.06,
          0.07,
          0.08,
          0.09,
          0.1,
          0.11,
          0.12,
          0.13,
          0.14,
          0.15,
          0.16,
          0.17,
          0.18,
          0.19,
          0.2,
          0.21,
          0.22,
          0.23,
          0.24,
          0.25,
          0.26,
          0.27,
          0.28,
          0.29,
          0.3,
          0.31,
          0.32,
          0.33,
          0.34,
          0.35,
          0.36,
          0.37,
          0.38,
          0.39,
          0.4,
          0.41,
          0.42,
          0.43,
          0.44,
          0.45,
          0.46,
          0.47,
          0.48,
          0.49,
          0.5,
          0.51,
          0.52,
          0.53,
          0.54,
          0.55,
          0.56,
          0.57,
          0.58,
          0.59,
          0.6,
          0.61,
          0.62,
          0.63,
          0.64,
          0.65,
          0.66,
          0.67,
          0.68,
          0.69,
          0.7,
          0.71,
          0.72,
          0.73,
          0.74,
          0.75,
          0.76,
          0.77,
          0.78,
          0.79,
          0.8,
          0.81,
          0.82,
          0.83,
          0.84,
          0.85,
          0.86,
          0.87,
          0.88,
          0.89,
          0.9,
          0.91,
          0.92,
          0.93,
          0.94,
          0.95,
          0.96,
          0.97,
          0.98,
          0.99,
          1
         ],
         "yaxis": "y"
        },
        {
         "hovertemplate": "Names=cluspro<br>RMSD=%{x}<br>probability=%{y}<extra></extra>",
         "legendgroup": "cluspro",
         "line": {
          "dash": "solid",
          "shape": "hv"
         },
         "marker": {
          "color": "#00cc96",
          "symbol": "circle"
         },
         "mode": "lines",
         "name": "cluspro",
         "orientation": "v",
         "showlegend": true,
         "type": "scatter",
         "x": [
          1.0791215,
          1.1289107,
          1.2288606,
          1.3202577,
          1.3812093,
          1.3842183,
          1.428762,
          1.6190084,
          1.6205424,
          1.6487021,
          1.8683163,
          1.8860611,
          2.0267456,
          2.06938,
          2.1438835,
          2.2734315,
          2.2999032,
          2.321918,
          2.3614857,
          2.408143,
          2.422817,
          2.441057,
          2.7920067,
          2.826617,
          2.892418,
          3.1511297,
          3.2065465,
          5.26716,
          5.618074,
          6.200603,
          7.420137,
          8.248759,
          8.875254,
          9.0091915,
          9.282827,
          10.131629,
          10.931585,
          10.932718,
          11.19488,
          11.640525,
          12.230226,
          12.239919,
          12.298831,
          12.356631,
          13.184248,
          13.272171,
          13.529312,
          13.809646174867325,
          14.746573,
          15.552038,
          15.984027,
          16.05196,
          16.138645,
          16.17225643001393,
          16.47234240297411,
          16.537382,
          16.624645,
          16.7899,
          17.208694,
          17.85073554909017,
          18.120731,
          18.16145,
          18.346165,
          18.36683529268962,
          18.563839431749187,
          18.80432337343014,
          19.188148,
          19.613487,
          19.705551,
          19.958738,
          20.55537455110217,
          20.835938,
          20.862631370602156,
          21.053911,
          21.19899,
          21.272709,
          21.34213,
          21.75875867557272,
          22.319508,
          22.386786,
          22.598421496512625,
          22.799160617900977,
          22.852054741053713,
          22.968386,
          23.53331828893549,
          23.697243,
          23.841232,
          24.01753,
          24.785536,
          25.37090713424328,
          27.515972,
          28.140274,
          28.163734,
          28.984793722213507,
          31.271896806453448,
          32.6886,
          33.730808755460686,
          36.37994966544499,
          41.9670228957909,
          50.271122
         ],
         "xaxis": "x",
         "y": [
          0.01,
          0.02,
          0.03,
          0.04,
          0.05,
          0.06,
          0.07,
          0.08,
          0.09,
          0.1,
          0.11,
          0.12,
          0.13,
          0.14,
          0.15,
          0.16,
          0.17,
          0.18,
          0.19,
          0.2,
          0.21,
          0.22,
          0.23,
          0.24,
          0.25,
          0.26,
          0.27,
          0.28,
          0.29,
          0.3,
          0.31,
          0.32,
          0.33,
          0.34,
          0.35,
          0.36,
          0.37,
          0.38,
          0.39,
          0.4,
          0.41,
          0.42,
          0.43,
          0.44,
          0.45,
          0.46,
          0.47,
          0.48,
          0.49,
          0.5,
          0.51,
          0.52,
          0.53,
          0.54,
          0.55,
          0.56,
          0.57,
          0.58,
          0.59,
          0.6,
          0.61,
          0.62,
          0.63,
          0.64,
          0.65,
          0.66,
          0.67,
          0.68,
          0.69,
          0.7,
          0.71,
          0.72,
          0.73,
          0.74,
          0.75,
          0.76,
          0.77,
          0.78,
          0.79,
          0.8,
          0.81,
          0.82,
          0.83,
          0.84,
          0.85,
          0.86,
          0.87,
          0.88,
          0.89,
          0.9,
          0.91,
          0.92,
          0.93,
          0.94,
          0.95,
          0.96,
          0.97,
          0.98,
          0.99,
          1
         ],
         "yaxis": "y"
        },
        {
         "hovertemplate": "Names=equidock<br>RMSD=%{x}<br>probability=%{y}<extra></extra>",
         "legendgroup": "equidock",
         "line": {
          "dash": "solid",
          "shape": "hv"
         },
         "marker": {
          "color": "#ab63fa",
          "symbol": "circle"
         },
         "mode": "lines",
         "name": "equidock",
         "orientation": "v",
         "showlegend": true,
         "type": "scatter",
         "x": [
          3.086964,
          3.496285,
          3.9157052,
          4.118489,
          4.535472,
          4.5486646,
          4.6701894,
          4.6819143,
          5.0037794,
          5.3198256,
          5.6943393,
          6.015103,
          6.1657743,
          6.692734,
          7.079491,
          7.136693,
          7.293921,
          7.326297,
          7.7577877,
          7.9488115,
          8.180616,
          8.898297,
          8.9339285,
          9.004719,
          9.0090475,
          9.215119,
          9.332714,
          9.974966,
          9.981788,
          10.344348,
          10.484818,
          10.708545,
          10.773391,
          10.814375,
          10.943029,
          11.125654,
          11.251227,
          11.358077,
          11.437514,
          11.790681,
          11.829566,
          12.162584,
          12.245829,
          12.304459,
          12.637305,
          12.6414,
          12.683036,
          12.867304,
          13.051564,
          13.266085,
          13.324085,
          13.452335,
          13.603851,
          13.623114,
          13.728079,
          13.826901,
          13.869269,
          13.888817,
          14.743053,
          14.97206754302488,
          15.59642,
          15.667229,
          16.477139,
          16.647066,
          16.656525,
          17.156012,
          17.5495,
          17.711891,
          17.738956,
          17.81966,
          18.076198603253562,
          18.09079,
          18.34845,
          18.860292,
          19.32488,
          19.326602836217806,
          19.497345,
          19.716192,
          20.886862,
          21.107668,
          21.121943,
          21.485173946364505,
          21.677664,
          21.923346,
          22.11786,
          22.219748,
          22.91793099147611,
          22.995651,
          23.088722376365606,
          24.26090554954478,
          24.34559732564751,
          25.213192,
          25.77304,
          26.676037,
          27.532476,
          29.15299795610851,
          29.35213493566967,
          30.314968,
          30.367096,
          36.93968469289514
         ],
         "xaxis": "x",
         "y": [
          0.01,
          0.02,
          0.03,
          0.04,
          0.05,
          0.06,
          0.07,
          0.08,
          0.09,
          0.1,
          0.11,
          0.12,
          0.13,
          0.14,
          0.15,
          0.16,
          0.17,
          0.18,
          0.19,
          0.2,
          0.21,
          0.22,
          0.23,
          0.24,
          0.25,
          0.26,
          0.27,
          0.28,
          0.29,
          0.3,
          0.31,
          0.32,
          0.33,
          0.34,
          0.35,
          0.36,
          0.37,
          0.38,
          0.39,
          0.4,
          0.41,
          0.42,
          0.43,
          0.44,
          0.45,
          0.46,
          0.47,
          0.48,
          0.49,
          0.5,
          0.51,
          0.52,
          0.53,
          0.54,
          0.55,
          0.56,
          0.57,
          0.58,
          0.59,
          0.6,
          0.61,
          0.62,
          0.63,
          0.64,
          0.65,
          0.66,
          0.67,
          0.68,
          0.69,
          0.7,
          0.71,
          0.72,
          0.73,
          0.74,
          0.75,
          0.76,
          0.77,
          0.78,
          0.79,
          0.8,
          0.81,
          0.82,
          0.83,
          0.84,
          0.85,
          0.86,
          0.87,
          0.88,
          0.89,
          0.9,
          0.91,
          0.92,
          0.93,
          0.94,
          0.95,
          0.96,
          0.97,
          0.98,
          0.99,
          1
         ],
         "yaxis": "y"
        },
        {
         "hovertemplate": "Names=equidock_no_clashes<br>RMSD=%{x}<br>probability=%{y}<extra></extra>",
         "legendgroup": "equidock_no_clashes",
         "line": {
          "dash": "solid",
          "shape": "hv"
         },
         "marker": {
          "color": "#FFA15A",
          "symbol": "circle"
         },
         "mode": "lines",
         "name": "equidock_no_clashes",
         "orientation": "v",
         "showlegend": true,
         "type": "scatter",
         "x": [
          3.2063944,
          3.9626238,
          4.6890736,
          4.854488,
          5.003777,
          5.0812325,
          5.6074305,
          5.830637,
          5.914674,
          6.772568,
          7.1493278,
          7.157131,
          7.412937,
          7.69613,
          7.8540225,
          8.3726635,
          8.922577,
          8.938602,
          9.064198,
          9.09119,
          9.215251,
          9.332712,
          9.684286,
          9.973169,
          10.144986,
          10.245159,
          10.277318,
          10.5436,
          10.708544,
          10.773505,
          10.812619,
          10.814094,
          11.125654,
          11.345355,
          11.488661,
          11.868132,
          11.925775,
          11.954982,
          12.050929,
          12.972145,
          13.06961,
          13.193971,
          13.649994,
          13.817116,
          13.959682,
          14.188639,
          14.362415,
          14.60547,
          14.972347077245434,
          15.08274,
          15.138084,
          15.632737,
          15.891233,
          16.072107,
          16.191797,
          16.254112,
          16.445993,
          16.483837,
          16.980988,
          17.127409,
          17.148636,
          17.188667,
          17.751663,
          18.001738846398982,
          18.290964,
          18.480593,
          18.594466807358778,
          18.837109,
          18.86084,
          18.957085,
          19.157454,
          19.173063,
          19.385542,
          19.492205,
          19.617002,
          19.986491960118236,
          20.757582,
          20.98873,
          21.264912,
          22.058651,
          22.095778,
          22.521105,
          22.55157669292433,
          22.814663,
          22.89118,
          22.972021,
          22.988674,
          23.164408,
          23.45749,
          24.638441,
          26.693936095867567,
          26.884487,
          27.02992,
          27.239542,
          27.26575,
          27.9102440244982,
          27.932526532240257,
          29.372736,
          31.385233390942265,
          55.725544
         ],
         "xaxis": "x",
         "y": [
          0.01,
          0.02,
          0.03,
          0.04,
          0.05,
          0.06,
          0.07,
          0.08,
          0.09,
          0.1,
          0.11,
          0.12,
          0.13,
          0.14,
          0.15,
          0.16,
          0.17,
          0.18,
          0.19,
          0.2,
          0.21,
          0.22,
          0.23,
          0.24,
          0.25,
          0.26,
          0.27,
          0.28,
          0.29,
          0.3,
          0.31,
          0.32,
          0.33,
          0.34,
          0.35,
          0.36,
          0.37,
          0.38,
          0.39,
          0.4,
          0.41,
          0.42,
          0.43,
          0.44,
          0.45,
          0.46,
          0.47,
          0.48,
          0.49,
          0.5,
          0.51,
          0.52,
          0.53,
          0.54,
          0.55,
          0.56,
          0.57,
          0.58,
          0.59,
          0.6,
          0.61,
          0.62,
          0.63,
          0.64,
          0.65,
          0.66,
          0.67,
          0.68,
          0.69,
          0.7,
          0.71,
          0.72,
          0.73,
          0.74,
          0.75,
          0.76,
          0.77,
          0.78,
          0.79,
          0.8,
          0.81,
          0.82,
          0.83,
          0.84,
          0.85,
          0.86,
          0.87,
          0.88,
          0.89,
          0.9,
          0.91,
          0.92,
          0.93,
          0.94,
          0.95,
          0.96,
          0.97,
          0.98,
          0.99,
          1
         ],
         "yaxis": "y"
        },
        {
         "hovertemplate": "Names=hdock<br>RMSD=%{x}<br>probability=%{y}<extra></extra>",
         "legendgroup": "hdock",
         "line": {
          "dash": "solid",
          "shape": "hv"
         },
         "marker": {
          "color": "#19d3f3",
          "symbol": "circle"
         },
         "mode": "lines",
         "name": "hdock",
         "orientation": "v",
         "showlegend": true,
         "type": "scatter",
         "x": [
          0.09739228,
          0.13396408,
          0.13723506,
          0.14219868,
          0.14631397,
          0.14711598,
          0.14997447,
          0.159777,
          0.16753589,
          0.16756319,
          0.18528672,
          0.18694603,
          0.18986985,
          0.1973532,
          0.20094694,
          0.20411785,
          0.20757328,
          0.21667063,
          0.21944077,
          0.22881126,
          0.23766896,
          0.23901394,
          0.25237945,
          0.25354743,
          0.25918084,
          0.26058832,
          0.26318946,
          0.2719173,
          0.27194557,
          0.27302614,
          0.2840395,
          0.29035673,
          0.29785106,
          0.30665216,
          0.30867314,
          0.31058094,
          0.32131216,
          0.3215714,
          0.3230386,
          0.32382804,
          0.386609,
          0.3873223,
          0.3947676,
          0.43581036,
          0.4476274,
          0.49874446,
          0.54023284,
          0.6364416,
          0.6388339,
          1.7708408,
          10.689176,
          12.767734,
          12.816834,
          13.516509,
          14.272941542738748,
          14.471848973090104,
          14.960728,
          16.210618352436228,
          16.21778,
          16.241758298080846,
          16.310375,
          16.52716483482519,
          16.528744,
          16.9461,
          16.977684,
          17.05035,
          17.411144,
          17.47952055176379,
          17.763971,
          17.857166,
          17.99379706916138,
          18.004137065633955,
          18.012806,
          19.274235940365667,
          19.890814,
          19.942215,
          19.946225634390586,
          20.30086958041589,
          20.504124,
          20.968086,
          22.768541,
          23.267322695994732,
          23.381801244565523,
          23.540895,
          23.939636,
          25.063835,
          25.4570416954303,
          25.472166,
          25.596235,
          25.67665,
          25.70162253257512,
          27.422504,
          27.771163361097994,
          28.523398336483446,
          29.255247065054707,
          29.796461299716775,
          30.55899065195135,
          34.384357,
          34.702515,
          41.93807301766305
         ],
         "xaxis": "x",
         "y": [
          0.01,
          0.02,
          0.03,
          0.04,
          0.05,
          0.06,
          0.07,
          0.08,
          0.09,
          0.1,
          0.11,
          0.12,
          0.13,
          0.14,
          0.15,
          0.16,
          0.17,
          0.18,
          0.19,
          0.2,
          0.21,
          0.22,
          0.23,
          0.24,
          0.25,
          0.26,
          0.27,
          0.28,
          0.29,
          0.3,
          0.31,
          0.32,
          0.33,
          0.34,
          0.35,
          0.36,
          0.37,
          0.38,
          0.39,
          0.4,
          0.41,
          0.42,
          0.43,
          0.44,
          0.45,
          0.46,
          0.47,
          0.48,
          0.49,
          0.5,
          0.51,
          0.52,
          0.53,
          0.54,
          0.55,
          0.56,
          0.57,
          0.58,
          0.59,
          0.6,
          0.61,
          0.62,
          0.63,
          0.64,
          0.65,
          0.66,
          0.67,
          0.68,
          0.69,
          0.7,
          0.71,
          0.72,
          0.73,
          0.74,
          0.75,
          0.76,
          0.77,
          0.78,
          0.79,
          0.8,
          0.81,
          0.82,
          0.83,
          0.84,
          0.85,
          0.86,
          0.87,
          0.88,
          0.89,
          0.9,
          0.91,
          0.92,
          0.93,
          0.94,
          0.95,
          0.96,
          0.97,
          0.98,
          0.99,
          1
         ],
         "yaxis": "y"
        },
        {
         "hovertemplate": "Names=patchdock<br>RMSD=%{x}<br>probability=%{y}<extra></extra>",
         "legendgroup": "patchdock",
         "line": {
          "dash": "solid",
          "shape": "hv"
         },
         "marker": {
          "color": "#FF6692",
          "symbol": "circle"
         },
         "mode": "lines",
         "name": "patchdock",
         "orientation": "v",
         "showlegend": true,
         "type": "scatter",
         "x": [
          0.30190653,
          0.33315933,
          0.37918857,
          0.38258007,
          0.39592913,
          0.5018107,
          0.502696,
          0.507428,
          0.52459943,
          0.5314335,
          0.5427138,
          0.5578077,
          0.55947393,
          0.5595326,
          0.5651308,
          0.66491234,
          0.6754066,
          0.69039917,
          0.6975938,
          0.70164,
          0.74455583,
          0.78634816,
          0.7949484,
          0.80097586,
          0.8444258,
          0.85612607,
          0.8851576,
          1.0473987,
          1.0548706,
          1.0890036,
          1.7487557,
          2.2087085,
          5.517232,
          7.8657722,
          8.908779,
          9.911485,
          10.972302,
          11.15052,
          11.898823760635755,
          11.971752,
          12.1974945,
          12.203954,
          12.66537,
          12.748268,
          12.795078,
          14.729518,
          14.82922013000073,
          14.956656,
          15.119362,
          15.173714,
          15.3180275,
          15.67386,
          16.133516,
          16.477316,
          16.780622,
          16.782587,
          16.9287,
          17.130844,
          17.379698,
          17.677065,
          17.728373,
          17.776281,
          17.778412,
          17.900162,
          17.932714,
          18.272633,
          19.114712,
          19.406618204063747,
          19.466602,
          19.63469,
          20.361296,
          20.535513,
          20.920116,
          21.01422950287091,
          21.224487539231717,
          21.349994259769787,
          21.717846733260696,
          23.162554794080073,
          23.228880986795332,
          23.302229,
          23.422509090825976,
          23.454101900462224,
          24.264685,
          24.31659450436214,
          24.437805,
          25.15639,
          25.246287978480034,
          25.429312,
          25.572432,
          25.78514,
          27.243015,
          27.243778,
          28.353167,
          28.49611677713717,
          28.606596663310395,
          29.17009920366963,
          31.599085,
          32.2106590721513,
          34.88704,
          36.061445215932785
         ],
         "xaxis": "x",
         "y": [
          0.01,
          0.02,
          0.03,
          0.04,
          0.05,
          0.06,
          0.07,
          0.08,
          0.09,
          0.1,
          0.11,
          0.12,
          0.13,
          0.14,
          0.15,
          0.16,
          0.17,
          0.18,
          0.19,
          0.2,
          0.21,
          0.22,
          0.23,
          0.24,
          0.25,
          0.26,
          0.27,
          0.28,
          0.29,
          0.3,
          0.31,
          0.32,
          0.33,
          0.34,
          0.35,
          0.36,
          0.37,
          0.38,
          0.39,
          0.4,
          0.41,
          0.42,
          0.43,
          0.44,
          0.45,
          0.46,
          0.47,
          0.48,
          0.49,
          0.5,
          0.51,
          0.52,
          0.53,
          0.54,
          0.55,
          0.56,
          0.57,
          0.58,
          0.59,
          0.6,
          0.61,
          0.62,
          0.63,
          0.64,
          0.65,
          0.66,
          0.67,
          0.68,
          0.69,
          0.7,
          0.71,
          0.72,
          0.73,
          0.74,
          0.75,
          0.76,
          0.77,
          0.78,
          0.79,
          0.8,
          0.81,
          0.82,
          0.83,
          0.84,
          0.85,
          0.86,
          0.87,
          0.88,
          0.89,
          0.9,
          0.91,
          0.92,
          0.93,
          0.94,
          0.95,
          0.96,
          0.97,
          0.98,
          0.99,
          1
         ],
         "yaxis": "y"
        }
       ],
       "layout": {
        "autosize": true,
        "legend": {
         "title": {
          "text": "Names"
         },
         "tracegroupgap": 0
        },
        "margin": {
         "t": 60
        },
        "template": {
         "data": {
          "bar": [
           {
            "error_x": {
             "color": "#2a3f5f"
            },
            "error_y": {
             "color": "#2a3f5f"
            },
            "marker": {
             "line": {
              "color": "#E5ECF6",
              "width": 0.5
             },
             "pattern": {
              "fillmode": "overlay",
              "size": 10,
              "solidity": 0.2
             }
            },
            "type": "bar"
           }
          ],
          "barpolar": [
           {
            "marker": {
             "line": {
              "color": "#E5ECF6",
              "width": 0.5
             },
             "pattern": {
              "fillmode": "overlay",
              "size": 10,
              "solidity": 0.2
             }
            },
            "type": "barpolar"
           }
          ],
          "carpet": [
           {
            "aaxis": {
             "endlinecolor": "#2a3f5f",
             "gridcolor": "white",
             "linecolor": "white",
             "minorgridcolor": "white",
             "startlinecolor": "#2a3f5f"
            },
            "baxis": {
             "endlinecolor": "#2a3f5f",
             "gridcolor": "white",
             "linecolor": "white",
             "minorgridcolor": "white",
             "startlinecolor": "#2a3f5f"
            },
            "type": "carpet"
           }
          ],
          "choropleth": [
           {
            "colorbar": {
             "outlinewidth": 0,
             "ticks": ""
            },
            "type": "choropleth"
           }
          ],
          "contour": [
           {
            "colorbar": {
             "outlinewidth": 0,
             "ticks": ""
            },
            "colorscale": [
             [
              0,
              "#0d0887"
             ],
             [
              0.1111111111111111,
              "#46039f"
             ],
             [
              0.2222222222222222,
              "#7201a8"
             ],
             [
              0.3333333333333333,
              "#9c179e"
             ],
             [
              0.4444444444444444,
              "#bd3786"
             ],
             [
              0.5555555555555556,
              "#d8576b"
             ],
             [
              0.6666666666666666,
              "#ed7953"
             ],
             [
              0.7777777777777778,
              "#fb9f3a"
             ],
             [
              0.8888888888888888,
              "#fdca26"
             ],
             [
              1,
              "#f0f921"
             ]
            ],
            "type": "contour"
           }
          ],
          "contourcarpet": [
           {
            "colorbar": {
             "outlinewidth": 0,
             "ticks": ""
            },
            "type": "contourcarpet"
           }
          ],
          "heatmap": [
           {
            "colorbar": {
             "outlinewidth": 0,
             "ticks": ""
            },
            "colorscale": [
             [
              0,
              "#0d0887"
             ],
             [
              0.1111111111111111,
              "#46039f"
             ],
             [
              0.2222222222222222,
              "#7201a8"
             ],
             [
              0.3333333333333333,
              "#9c179e"
             ],
             [
              0.4444444444444444,
              "#bd3786"
             ],
             [
              0.5555555555555556,
              "#d8576b"
             ],
             [
              0.6666666666666666,
              "#ed7953"
             ],
             [
              0.7777777777777778,
              "#fb9f3a"
             ],
             [
              0.8888888888888888,
              "#fdca26"
             ],
             [
              1,
              "#f0f921"
             ]
            ],
            "type": "heatmap"
           }
          ],
          "heatmapgl": [
           {
            "colorbar": {
             "outlinewidth": 0,
             "ticks": ""
            },
            "colorscale": [
             [
              0,
              "#0d0887"
             ],
             [
              0.1111111111111111,
              "#46039f"
             ],
             [
              0.2222222222222222,
              "#7201a8"
             ],
             [
              0.3333333333333333,
              "#9c179e"
             ],
             [
              0.4444444444444444,
              "#bd3786"
             ],
             [
              0.5555555555555556,
              "#d8576b"
             ],
             [
              0.6666666666666666,
              "#ed7953"
             ],
             [
              0.7777777777777778,
              "#fb9f3a"
             ],
             [
              0.8888888888888888,
              "#fdca26"
             ],
             [
              1,
              "#f0f921"
             ]
            ],
            "type": "heatmapgl"
           }
          ],
          "histogram": [
           {
            "marker": {
             "pattern": {
              "fillmode": "overlay",
              "size": 10,
              "solidity": 0.2
             }
            },
            "type": "histogram"
           }
          ],
          "histogram2d": [
           {
            "colorbar": {
             "outlinewidth": 0,
             "ticks": ""
            },
            "colorscale": [
             [
              0,
              "#0d0887"
             ],
             [
              0.1111111111111111,
              "#46039f"
             ],
             [
              0.2222222222222222,
              "#7201a8"
             ],
             [
              0.3333333333333333,
              "#9c179e"
             ],
             [
              0.4444444444444444,
              "#bd3786"
             ],
             [
              0.5555555555555556,
              "#d8576b"
             ],
             [
              0.6666666666666666,
              "#ed7953"
             ],
             [
              0.7777777777777778,
              "#fb9f3a"
             ],
             [
              0.8888888888888888,
              "#fdca26"
             ],
             [
              1,
              "#f0f921"
             ]
            ],
            "type": "histogram2d"
           }
          ],
          "histogram2dcontour": [
           {
            "colorbar": {
             "outlinewidth": 0,
             "ticks": ""
            },
            "colorscale": [
             [
              0,
              "#0d0887"
             ],
             [
              0.1111111111111111,
              "#46039f"
             ],
             [
              0.2222222222222222,
              "#7201a8"
             ],
             [
              0.3333333333333333,
              "#9c179e"
             ],
             [
              0.4444444444444444,
              "#bd3786"
             ],
             [
              0.5555555555555556,
              "#d8576b"
             ],
             [
              0.6666666666666666,
              "#ed7953"
             ],
             [
              0.7777777777777778,
              "#fb9f3a"
             ],
             [
              0.8888888888888888,
              "#fdca26"
             ],
             [
              1,
              "#f0f921"
             ]
            ],
            "type": "histogram2dcontour"
           }
          ],
          "mesh3d": [
           {
            "colorbar": {
             "outlinewidth": 0,
             "ticks": ""
            },
            "type": "mesh3d"
           }
          ],
          "parcoords": [
           {
            "line": {
             "colorbar": {
              "outlinewidth": 0,
              "ticks": ""
             }
            },
            "type": "parcoords"
           }
          ],
          "pie": [
           {
            "automargin": true,
            "type": "pie"
           }
          ],
          "scatter": [
           {
            "fillpattern": {
             "fillmode": "overlay",
             "size": 10,
             "solidity": 0.2
            },
            "type": "scatter"
           }
          ],
          "scatter3d": [
           {
            "line": {
             "colorbar": {
              "outlinewidth": 0,
              "ticks": ""
             }
            },
            "marker": {
             "colorbar": {
              "outlinewidth": 0,
              "ticks": ""
             }
            },
            "type": "scatter3d"
           }
          ],
          "scattercarpet": [
           {
            "marker": {
             "colorbar": {
              "outlinewidth": 0,
              "ticks": ""
             }
            },
            "type": "scattercarpet"
           }
          ],
          "scattergeo": [
           {
            "marker": {
             "colorbar": {
              "outlinewidth": 0,
              "ticks": ""
             }
            },
            "type": "scattergeo"
           }
          ],
          "scattergl": [
           {
            "marker": {
             "colorbar": {
              "outlinewidth": 0,
              "ticks": ""
             }
            },
            "type": "scattergl"
           }
          ],
          "scattermapbox": [
           {
            "marker": {
             "colorbar": {
              "outlinewidth": 0,
              "ticks": ""
             }
            },
            "type": "scattermapbox"
           }
          ],
          "scatterpolar": [
           {
            "marker": {
             "colorbar": {
              "outlinewidth": 0,
              "ticks": ""
             }
            },
            "type": "scatterpolar"
           }
          ],
          "scatterpolargl": [
           {
            "marker": {
             "colorbar": {
              "outlinewidth": 0,
              "ticks": ""
             }
            },
            "type": "scatterpolargl"
           }
          ],
          "scatterternary": [
           {
            "marker": {
             "colorbar": {
              "outlinewidth": 0,
              "ticks": ""
             }
            },
            "type": "scatterternary"
           }
          ],
          "surface": [
           {
            "colorbar": {
             "outlinewidth": 0,
             "ticks": ""
            },
            "colorscale": [
             [
              0,
              "#0d0887"
             ],
             [
              0.1111111111111111,
              "#46039f"
             ],
             [
              0.2222222222222222,
              "#7201a8"
             ],
             [
              0.3333333333333333,
              "#9c179e"
             ],
             [
              0.4444444444444444,
              "#bd3786"
             ],
             [
              0.5555555555555556,
              "#d8576b"
             ],
             [
              0.6666666666666666,
              "#ed7953"
             ],
             [
              0.7777777777777778,
              "#fb9f3a"
             ],
             [
              0.8888888888888888,
              "#fdca26"
             ],
             [
              1,
              "#f0f921"
             ]
            ],
            "type": "surface"
           }
          ],
          "table": [
           {
            "cells": {
             "fill": {
              "color": "#EBF0F8"
             },
             "line": {
              "color": "white"
             }
            },
            "header": {
             "fill": {
              "color": "#C8D4E3"
             },
             "line": {
              "color": "white"
             }
            },
            "type": "table"
           }
          ]
         },
         "layout": {
          "annotationdefaults": {
           "arrowcolor": "#2a3f5f",
           "arrowhead": 0,
           "arrowwidth": 1
          },
          "autotypenumbers": "strict",
          "coloraxis": {
           "colorbar": {
            "outlinewidth": 0,
            "ticks": ""
           }
          },
          "colorscale": {
           "diverging": [
            [
             0,
             "#8e0152"
            ],
            [
             0.1,
             "#c51b7d"
            ],
            [
             0.2,
             "#de77ae"
            ],
            [
             0.3,
             "#f1b6da"
            ],
            [
             0.4,
             "#fde0ef"
            ],
            [
             0.5,
             "#f7f7f7"
            ],
            [
             0.6,
             "#e6f5d0"
            ],
            [
             0.7,
             "#b8e186"
            ],
            [
             0.8,
             "#7fbc41"
            ],
            [
             0.9,
             "#4d9221"
            ],
            [
             1,
             "#276419"
            ]
           ],
           "sequential": [
            [
             0,
             "#0d0887"
            ],
            [
             0.1111111111111111,
             "#46039f"
            ],
            [
             0.2222222222222222,
             "#7201a8"
            ],
            [
             0.3333333333333333,
             "#9c179e"
            ],
            [
             0.4444444444444444,
             "#bd3786"
            ],
            [
             0.5555555555555556,
             "#d8576b"
            ],
            [
             0.6666666666666666,
             "#ed7953"
            ],
            [
             0.7777777777777778,
             "#fb9f3a"
            ],
            [
             0.8888888888888888,
             "#fdca26"
            ],
            [
             1,
             "#f0f921"
            ]
           ],
           "sequentialminus": [
            [
             0,
             "#0d0887"
            ],
            [
             0.1111111111111111,
             "#46039f"
            ],
            [
             0.2222222222222222,
             "#7201a8"
            ],
            [
             0.3333333333333333,
             "#9c179e"
            ],
            [
             0.4444444444444444,
             "#bd3786"
            ],
            [
             0.5555555555555556,
             "#d8576b"
            ],
            [
             0.6666666666666666,
             "#ed7953"
            ],
            [
             0.7777777777777778,
             "#fb9f3a"
            ],
            [
             0.8888888888888888,
             "#fdca26"
            ],
            [
             1,
             "#f0f921"
            ]
           ]
          },
          "colorway": [
           "#636efa",
           "#EF553B",
           "#00cc96",
           "#ab63fa",
           "#FFA15A",
           "#19d3f3",
           "#FF6692",
           "#B6E880",
           "#FF97FF",
           "#FECB52"
          ],
          "font": {
           "color": "#2a3f5f"
          },
          "geo": {
           "bgcolor": "white",
           "lakecolor": "white",
           "landcolor": "#E5ECF6",
           "showlakes": true,
           "showland": true,
           "subunitcolor": "white"
          },
          "hoverlabel": {
           "align": "left"
          },
          "hovermode": "closest",
          "mapbox": {
           "style": "light"
          },
          "paper_bgcolor": "white",
          "plot_bgcolor": "#E5ECF6",
          "polar": {
           "angularaxis": {
            "gridcolor": "white",
            "linecolor": "white",
            "ticks": ""
           },
           "bgcolor": "#E5ECF6",
           "radialaxis": {
            "gridcolor": "white",
            "linecolor": "white",
            "ticks": ""
           }
          },
          "scene": {
           "xaxis": {
            "backgroundcolor": "#E5ECF6",
            "gridcolor": "white",
            "gridwidth": 2,
            "linecolor": "white",
            "showbackground": true,
            "ticks": "",
            "zerolinecolor": "white"
           },
           "yaxis": {
            "backgroundcolor": "#E5ECF6",
            "gridcolor": "white",
            "gridwidth": 2,
            "linecolor": "white",
            "showbackground": true,
            "ticks": "",
            "zerolinecolor": "white"
           },
           "zaxis": {
            "backgroundcolor": "#E5ECF6",
            "gridcolor": "white",
            "gridwidth": 2,
            "linecolor": "white",
            "showbackground": true,
            "ticks": "",
            "zerolinecolor": "white"
           }
          },
          "shapedefaults": {
           "line": {
            "color": "#2a3f5f"
           }
          },
          "ternary": {
           "aaxis": {
            "gridcolor": "white",
            "linecolor": "white",
            "ticks": ""
           },
           "baxis": {
            "gridcolor": "white",
            "linecolor": "white",
            "ticks": ""
           },
           "bgcolor": "#E5ECF6",
           "caxis": {
            "gridcolor": "white",
            "linecolor": "white",
            "ticks": ""
           }
          },
          "title": {
           "x": 0.05
          },
          "xaxis": {
           "automargin": true,
           "gridcolor": "white",
           "linecolor": "white",
           "ticks": "",
           "title": {
            "standoff": 15
           },
           "zerolinecolor": "white",
           "zerolinewidth": 2
          },
          "yaxis": {
           "automargin": true,
           "gridcolor": "white",
           "linecolor": "white",
           "ticks": "",
           "title": {
            "standoff": 15
           },
           "zerolinecolor": "white",
           "zerolinewidth": 2
          }
         }
        },
        "xaxis": {
         "anchor": "y",
         "autorange": true,
         "domain": [
          0,
          1
         ],
         "range": [
          0.09739228,
          55.725544
         ],
         "title": {
          "text": "RMSD"
         },
         "type": "linear"
        },
        "yaxis": {
         "anchor": "x",
         "autorange": true,
         "domain": [
          0,
          1
         ],
         "range": [
          0,
          1.0526315789473684
         ],
         "rangemode": "tozero",
         "title": {
          "text": "probability"
         },
         "type": "linear"
        }
       }
      },
      "image/png": "[encoded data removed]",
      "text/html": [
       "<div>                            <div id=\"74298789-a4ae-4e1f-90da-da597b39f481\" class=\"plotly-graph-div\" style=\"height:525px; width:100%;\"></div>            <script type=\"text/javascript\">                require([\"plotly\"], function(Plotly) {                    window.PLOTLYENV=window.PLOTLYENV || {};                                    if (document.getElementById(\"74298789-a4ae-4e1f-90da-da597b39f481\")) {                    Plotly.newPlot(                        \"74298789-a4ae-4e1f-90da-da597b39f481\",                        [{\"hovertemplate\":\"Names=diffdock-protein<br>RMSD=%{x}<br>probability=%{y}<extra></extra>\",\"legendgroup\":\"diffdock-protein\",\"line\":{\"dash\":\"solid\",\"shape\":\"hv\"},\"marker\":{\"color\":\"#636efa\",\"symbol\":\"circle\"},\"mode\":\"lines\",\"name\":\"diffdock-protein\",\"orientation\":\"v\",\"showlegend\":true,\"x\":[0.29337215423583984,0.29837268590927124,0.3149850368499756,0.3338100016117096,0.3536398112773895,0.35455062985420227,0.3792314827442169,0.39423638582229614,0.409523606300354,0.41076183319091797,0.4751858115196228,0.48367053270339966,0.5056793689727783,0.5075879693031311,0.5659351944923401,0.5866617560386658,0.5997687578201294,0.6091830134391785,0.6471918225288391,0.6482177376747131,0.6484763622283936,0.8134889006614685,0.9133404493331909,0.9508169889450073,0.9637764692306519,0.9808865785598755,1.0353672504425049,1.091842770576477,1.2470219135284424,1.4148938655853271,1.618407130241394,1.8526235818862915,1.9212756156921387,2.0526297092437744,2.067256212234497,2.4365286827087402,2.774144411087036,3.2892403602600098,3.610875368118286,3.624391794204712,3.902925968170166,4.3572845458984375,5.023752212524414,5.364858627319336,5.3707966804504395,6.900275230407715,7.787625312805176,8.639803886413574,9.042729377746582,10.076899528503418,10.357925415039062,10.998116493225098,12.507197380065918,13.923672676086426,14.688847541809082,15.342730522155762,15.571052551269531,15.613341331481934,16.04206085205078,16.08026123046875,16.44010111118529,16.790884017944336,17.06818962097168,17.473552703857422,17.68511712279496,17.81639289855957,17.85447065166751,18.002490997314453,18.552983260066274,18.65197260438355,18.856565706829056,19.052913170101508,19.73029688246926,20.144323348999023,20.42483757070842,20.75109100341797,20.756996154785156,21.99633432046963,22.474027102662507,22.539018630981445,22.97905548819264,23.383129119873047,24.276117754194217,24.53851318359375,24.67802619934082,25.265729904174805,25.40180015563965,25.890003641128217,26.068697004915393,26.726399183944913,27.188622339276282,28.36931610107422,28.414894104003906,28.95823422155466,29.197484034624207,30.382382440425992,34.73707962036133,37.52456255439462,44.54241943359375,48.170982360839844],\"xaxis\":\"x\",\"y\":[0.01,0.02,0.03,0.04,0.05,0.06,0.07,0.08,0.09,0.1,0.11,0.12,0.13,0.14,0.15,0.16,0.17,0.18,0.19,0.2,0.21,0.22,0.23,0.24,0.25,0.26,0.27,0.28,0.29,0.3,0.31,0.32,0.33,0.34,0.35,0.36,0.37,0.38,0.39,0.4,0.41,0.42,0.43,0.44,0.45,0.46,0.47,0.48,0.49,0.5,0.51,0.52,0.53,0.54,0.55,0.56,0.57,0.58,0.59,0.6,0.61,0.62,0.63,0.64,0.65,0.66,0.67,0.68,0.69,0.7,0.71,0.72,0.73,0.74,0.75,0.76,0.77,0.78,0.79,0.8,0.81,0.82,0.83,0.84,0.85,0.86,0.87,0.88,0.89,0.9,0.91,0.92,0.93,0.94,0.95,0.96,0.97,0.98,0.99,1.0],\"yaxis\":\"y\",\"type\":\"scatter\"},{\"hovertemplate\":\"Names=attract<br>RMSD=%{x}<br>probability=%{y}<extra></extra>\",\"legendgroup\":\"attract\",\"line\":{\"dash\":\"solid\",\"shape\":\"hv\"},\"marker\":{\"color\":\"#EF553B\",\"symbol\":\"circle\"},\"mode\":\"lines\",\"name\":\"attract\",\"orientation\":\"v\",\"showlegend\":true,\"x\":[0.13926233,0.28044233,0.29276285,0.3360423,0.3396759,0.3518394,0.3563808,0.36998016,0.3826338,0.45265192,0.51638377,0.54319364,0.56779015,0.56811786,0.57774603,0.5941723,0.645793,0.8302002,0.86829495,0.9613879,2.5413656,3.3541293,4.19255,5.2775273,5.93925,7.109903,7.1512103,7.862554,8.204019,8.681912,8.948145,9.307716,9.625087,10.277538,10.41621,10.958036,11.512081,11.558826,11.8054085,11.91232,12.724872,12.728029,13.053833,16.13535849745032,16.489124,16.654251,16.881622201200468,16.936733,16.985798,17.101927,17.242737,17.24560027193968,17.26072914255932,17.261285584384705,17.403548109514354,17.438412,17.466822,17.651161,17.672428,17.71775023456783,17.755268,17.90271099637255,18.432749840455607,18.703472,19.125182824562657,19.38609,19.732384,20.018314003393044,20.031883,20.108066024939134,20.302092,20.436136,20.469116759412493,20.57085068365913,20.577295,20.647863,20.882835,20.98024,21.054924513135983,22.604015783137648,22.930610867067113,23.259281273065955,23.54531859780378,23.951239,23.984114,24.080978,24.862658,25.43430424019306,25.649985210593556,25.800375,27.58495509032034,29.1075086288899,29.78379450084901,30.516750524119377,32.98263136992018,33.15508,34.476753,37.165367,43.63907158365498,44.615074],\"xaxis\":\"x\",\"y\":[0.01,0.02,0.03,0.04,0.05,0.06,0.07,0.08,0.09,0.1,0.11,0.12,0.13,0.14,0.15,0.16,0.17,0.18,0.19,0.2,0.21,0.22,0.23,0.24,0.25,0.26,0.27,0.28,0.29,0.3,0.31,0.32,0.33,0.34,0.35,0.36,0.37,0.38,0.39,0.4,0.41,0.42,0.43,0.44,0.45,0.46,0.47,0.48,0.49,0.5,0.51,0.52,0.53,0.54,0.55,0.56,0.57,0.58,0.59,0.6,0.61,0.62,0.63,0.64,0.65,0.66,0.67,0.68,0.69,0.7,0.71,0.72,0.73,0.74,0.75,0.76,0.77,0.78,0.79,0.8,0.81,0.82,0.83,0.84,0.85,0.86,0.87,0.88,0.89,0.9,0.91,0.92,0.93,0.94,0.95,0.96,0.97,0.98,0.99,1.0],\"yaxis\":\"y\",\"type\":\"scatter\"},{\"hovertemplate\":\"Names=cluspro<br>RMSD=%{x}<br>probability=%{y}<extra></extra>\",\"legendgroup\":\"cluspro\",\"line\":{\"dash\":\"solid\",\"shape\":\"hv\"},\"marker\":{\"color\":\"#00cc96\",\"symbol\":\"circle\"},\"mode\":\"lines\",\"name\":\"cluspro\",\"orientation\":\"v\",\"showlegend\":true,\"x\":[1.0791215,1.1289107,1.2288606,1.3202577,1.3812093,1.3842183,1.428762,1.6190084,1.6205424,1.6487021,1.8683163,1.8860611,2.0267456,2.06938,2.1438835,2.2734315,2.2999032,2.321918,2.3614857,2.408143,2.422817,2.441057,2.7920067,2.826617,2.892418,3.1511297,3.2065465,5.26716,5.618074,6.200603,7.420137,8.248759,8.875254,9.0091915,9.282827,10.131629,10.931585,10.932718,11.19488,11.640525,12.230226,12.239919,12.298831,12.356631,13.184248,13.272171,13.529312,13.809646174867325,14.746573,15.552038,15.984027,16.05196,16.138645,16.17225643001393,16.47234240297411,16.537382,16.624645,16.7899,17.208694,17.85073554909017,18.120731,18.16145,18.346165,18.36683529268962,18.563839431749187,18.80432337343014,19.188148,19.613487,19.705551,19.958738,20.55537455110217,20.835938,20.862631370602156,21.053911,21.19899,21.272709,21.34213,21.75875867557272,22.319508,22.386786,22.598421496512625,22.799160617900977,22.852054741053713,22.968386,23.53331828893549,23.697243,23.841232,24.01753,24.785536,25.37090713424328,27.515972,28.140274,28.163734,28.984793722213507,31.271896806453448,32.6886,33.730808755460686,36.37994966544499,41.9670228957909,50.271122],\"xaxis\":\"x\",\"y\":[0.01,0.02,0.03,0.04,0.05,0.06,0.07,0.08,0.09,0.1,0.11,0.12,0.13,0.14,0.15,0.16,0.17,0.18,0.19,0.2,0.21,0.22,0.23,0.24,0.25,0.26,0.27,0.28,0.29,0.3,0.31,0.32,0.33,0.34,0.35,0.36,0.37,0.38,0.39,0.4,0.41,0.42,0.43,0.44,0.45,0.46,0.47,0.48,0.49,0.5,0.51,0.52,0.53,0.54,0.55,0.56,0.57,0.58,0.59,0.6,0.61,0.62,0.63,0.64,0.65,0.66,0.67,0.68,0.69,0.7,0.71,0.72,0.73,0.74,0.75,0.76,0.77,0.78,0.79,0.8,0.81,0.82,0.83,0.84,0.85,0.86,0.87,0.88,0.89,0.9,0.91,0.92,0.93,0.94,0.95,0.96,0.97,0.98,0.99,1.0],\"yaxis\":\"y\",\"type\":\"scatter\"},{\"hovertemplate\":\"Names=equidock<br>RMSD=%{x}<br>probability=%{y}<extra></extra>\",\"legendgroup\":\"equidock\",\"line\":{\"dash\":\"solid\",\"shape\":\"hv\"},\"marker\":{\"color\":\"#ab63fa\",\"symbol\":\"circle\"},\"mode\":\"lines\",\"name\":\"equidock\",\"orientation\":\"v\",\"showlegend\":true,\"x\":[3.086964,3.496285,3.9157052,4.118489,4.535472,4.5486646,4.6701894,4.6819143,5.0037794,5.3198256,5.6943393,6.015103,6.1657743,6.692734,7.079491,7.136693,7.293921,7.326297,7.7577877,7.9488115,8.180616,8.898297,8.9339285,9.004719,9.0090475,9.215119,9.332714,9.974966,9.981788,10.344348,10.484818,10.708545,10.773391,10.814375,10.943029,11.125654,11.251227,11.358077,11.437514,11.790681,11.829566,12.162584,12.245829,12.304459,12.637305,12.6414,12.683036,12.867304,13.051564,13.266085,13.324085,13.452335,13.603851,13.623114,13.728079,13.826901,13.869269,13.888817,14.743053,14.97206754302488,15.59642,15.667229,16.477139,16.647066,16.656525,17.156012,17.5495,17.711891,17.738956,17.81966,18.076198603253562,18.09079,18.34845,18.860292,19.32488,19.326602836217806,19.497345,19.716192,20.886862,21.107668,21.121943,21.485173946364505,21.677664,21.923346,22.11786,22.219748,22.91793099147611,22.995651,23.088722376365606,24.26090554954478,24.34559732564751,25.213192,25.77304,26.676037,27.532476,29.15299795610851,29.35213493566967,30.314968,30.367096,36.93968469289514],\"xaxis\":\"x\",\"y\":[0.01,0.02,0.03,0.04,0.05,0.06,0.07,0.08,0.09,0.1,0.11,0.12,0.13,0.14,0.15,0.16,0.17,0.18,0.19,0.2,0.21,0.22,0.23,0.24,0.25,0.26,0.27,0.28,0.29,0.3,0.31,0.32,0.33,0.34,0.35,0.36,0.37,0.38,0.39,0.4,0.41,0.42,0.43,0.44,0.45,0.46,0.47,0.48,0.49,0.5,0.51,0.52,0.53,0.54,0.55,0.56,0.57,0.58,0.59,0.6,0.61,0.62,0.63,0.64,0.65,0.66,0.67,0.68,0.69,0.7,0.71,0.72,0.73,0.74,0.75,0.76,0.77,0.78,0.79,0.8,0.81,0.82,0.83,0.84,0.85,0.86,0.87,0.88,0.89,0.9,0.91,0.92,0.93,0.94,0.95,0.96,0.97,0.98,0.99,1.0],\"yaxis\":\"y\",\"type\":\"scatter\"},{\"hovertemplate\":\"Names=equidock_no_clashes<br>RMSD=%{x}<br>probability=%{y}<extra></extra>\",\"legendgroup\":\"equidock_no_clashes\",\"line\":{\"dash\":\"solid\",\"shape\":\"hv\"},\"marker\":{\"color\":\"#FFA15A\",\"symbol\":\"circle\"},\"mode\":\"lines\",\"name\":\"equidock_no_clashes\",\"orientation\":\"v\",\"showlegend\":true,\"x\":[3.2063944,3.9626238,4.6890736,4.854488,5.003777,5.0812325,5.6074305,5.830637,5.914674,6.772568,7.1493278,7.157131,7.412937,7.69613,7.8540225,8.3726635,8.922577,8.938602,9.064198,9.09119,9.215251,9.332712,9.684286,9.973169,10.144986,10.245159,10.277318,10.5436,10.708544,10.773505,10.812619,10.814094,11.125654,11.345355,11.488661,11.868132,11.925775,11.954982,12.050929,12.972145,13.06961,13.193971,13.649994,13.817116,13.959682,14.188639,14.362415,14.60547,14.972347077245434,15.08274,15.138084,15.632737,15.891233,16.072107,16.191797,16.254112,16.445993,16.483837,16.980988,17.127409,17.148636,17.188667,17.751663,18.001738846398982,18.290964,18.480593,18.594466807358778,18.837109,18.86084,18.957085,19.157454,19.173063,19.385542,19.492205,19.617002,19.986491960118236,20.757582,20.98873,21.264912,22.058651,22.095778,22.521105,22.55157669292433,22.814663,22.89118,22.972021,22.988674,23.164408,23.45749,24.638441,26.693936095867567,26.884487,27.02992,27.239542,27.26575,27.9102440244982,27.932526532240257,29.372736,31.385233390942265,55.725544],\"xaxis\":\"x\",\"y\":[0.01,0.02,0.03,0.04,0.05,0.06,0.07,0.08,0.09,0.1,0.11,0.12,0.13,0.14,0.15,0.16,0.17,0.18,0.19,0.2,0.21,0.22,0.23,0.24,0.25,0.26,0.27,0.28,0.29,0.3,0.31,0.32,0.33,0.34,0.35,0.36,0.37,0.38,0.39,0.4,0.41,0.42,0.43,0.44,0.45,0.46,0.47,0.48,0.49,0.5,0.51,0.52,0.53,0.54,0.55,0.56,0.57,0.58,0.59,0.6,0.61,0.62,0.63,0.64,0.65,0.66,0.67,0.68,0.69,0.7,0.71,0.72,0.73,0.74,0.75,0.76,0.77,0.78,0.79,0.8,0.81,0.82,0.83,0.84,0.85,0.86,0.87,0.88,0.89,0.9,0.91,0.92,0.93,0.94,0.95,0.96,0.97,0.98,0.99,1.0],\"yaxis\":\"y\",\"type\":\"scatter\"},{\"hovertemplate\":\"Names=hdock<br>RMSD=%{x}<br>probability=%{y}<extra></extra>\",\"legendgroup\":\"hdock\",\"line\":{\"dash\":\"solid\",\"shape\":\"hv\"},\"marker\":{\"color\":\"#19d3f3\",\"symbol\":\"circle\"},\"mode\":\"lines\",\"name\":\"hdock\",\"orientation\":\"v\",\"showlegend\":true,\"x\":[0.09739228,0.13396408,0.13723506,0.14219868,0.14631397,0.14711598,0.14997447,0.159777,0.16753589,0.16756319,0.18528672,0.18694603,0.18986985,0.1973532,0.20094694,0.20411785,0.20757328,0.21667063,0.21944077,0.22881126,0.23766896,0.23901394,0.25237945,0.25354743,0.25918084,0.26058832,0.26318946,0.2719173,0.27194557,0.27302614,0.2840395,0.29035673,0.29785106,0.30665216,0.30867314,0.31058094,0.32131216,0.3215714,0.3230386,0.32382804,0.386609,0.3873223,0.3947676,0.43581036,0.4476274,0.49874446,0.54023284,0.6364416,0.6388339,1.7708408,10.689176,12.767734,12.816834,13.516509,14.272941542738748,14.471848973090104,14.960728,16.210618352436228,16.21778,16.241758298080846,16.310375,16.52716483482519,16.528744,16.9461,16.977684,17.05035,17.411144,17.47952055176379,17.763971,17.857166,17.99379706916138,18.004137065633955,18.012806,19.274235940365667,19.890814,19.942215,19.946225634390586,20.30086958041589,20.504124,20.968086,22.768541,23.267322695994732,23.381801244565523,23.540895,23.939636,25.063835,25.4570416954303,25.472166,25.596235,25.67665,25.70162253257512,27.422504,27.771163361097994,28.523398336483446,29.255247065054707,29.796461299716775,30.55899065195135,34.384357,34.702515,41.93807301766305],\"xaxis\":\"x\",\"y\":[0.01,0.02,0.03,0.04,0.05,0.06,0.07,0.08,0.09,0.1,0.11,0.12,0.13,0.14,0.15,0.16,0.17,0.18,0.19,0.2,0.21,0.22,0.23,0.24,0.25,0.26,0.27,0.28,0.29,0.3,0.31,0.32,0.33,0.34,0.35,0.36,0.37,0.38,0.39,0.4,0.41,0.42,0.43,0.44,0.45,0.46,0.47,0.48,0.49,0.5,0.51,0.52,0.53,0.54,0.55,0.56,0.57,0.58,0.59,0.6,0.61,0.62,0.63,0.64,0.65,0.66,0.67,0.68,0.69,0.7,0.71,0.72,0.73,0.74,0.75,0.76,0.77,0.78,0.79,0.8,0.81,0.82,0.83,0.84,0.85,0.86,0.87,0.88,0.89,0.9,0.91,0.92,0.93,0.94,0.95,0.96,0.97,0.98,0.99,1.0],\"yaxis\":\"y\",\"type\":\"scatter\"},{\"hovertemplate\":\"Names=patchdock<br>RMSD=%{x}<br>probability=%{y}<extra></extra>\",\"legendgroup\":\"patchdock\",\"line\":{\"dash\":\"solid\",\"shape\":\"hv\"},\"marker\":{\"color\":\"#FF6692\",\"symbol\":\"circle\"},\"mode\":\"lines\",\"name\":\"patchdock\",\"orientation\":\"v\",\"showlegend\":true,\"x\":[0.30190653,0.33315933,0.37918857,0.38258007,0.39592913,0.5018107,0.502696,0.507428,0.52459943,0.5314335,0.5427138,0.5578077,0.55947393,0.5595326,0.5651308,0.66491234,0.6754066,0.69039917,0.6975938,0.70164,0.74455583,0.78634816,0.7949484,0.80097586,0.8444258,0.85612607,0.8851576,1.0473987,1.0548706,1.0890036,1.7487557,2.2087085,5.517232,7.8657722,8.908779,9.911485,10.972302,11.15052,11.898823760635755,11.971752,12.1974945,12.203954,12.66537,12.748268,12.795078,14.729518,14.82922013000073,14.956656,15.119362,15.173714,15.3180275,15.67386,16.133516,16.477316,16.780622,16.782587,16.9287,17.130844,17.379698,17.677065,17.728373,17.776281,17.778412,17.900162,17.932714,18.272633,19.114712,19.406618204063747,19.466602,19.63469,20.361296,20.535513,20.920116,21.01422950287091,21.224487539231717,21.349994259769787,21.717846733260696,23.162554794080073,23.228880986795332,23.302229,23.422509090825976,23.454101900462224,24.264685,24.31659450436214,24.437805,25.15639,25.246287978480034,25.429312,25.572432,25.78514,27.243015,27.243778,28.353167,28.49611677713717,28.606596663310395,29.17009920366963,31.599085,32.2106590721513,34.88704,36.061445215932785],\"xaxis\":\"x\",\"y\":[0.01,0.02,0.03,0.04,0.05,0.06,0.07,0.08,0.09,0.1,0.11,0.12,0.13,0.14,0.15,0.16,0.17,0.18,0.19,0.2,0.21,0.22,0.23,0.24,0.25,0.26,0.27,0.28,0.29,0.3,0.31,0.32,0.33,0.34,0.35,0.36,0.37,0.38,0.39,0.4,0.41,0.42,0.43,0.44,0.45,0.46,0.47,0.48,0.49,0.5,0.51,0.52,0.53,0.54,0.55,0.56,0.57,0.58,0.59,0.6,0.61,0.62,0.63,0.64,0.65,0.66,0.67,0.68,0.69,0.7,0.71,0.72,0.73,0.74,0.75,0.76,0.77,0.78,0.79,0.8,0.81,0.82,0.83,0.84,0.85,0.86,0.87,0.88,0.89,0.9,0.91,0.92,0.93,0.94,0.95,0.96,0.97,0.98,0.99,1.0],\"yaxis\":\"y\",\"type\":\"scatter\"}],                        {\"template\":{\"data\":{\"histogram2dcontour\":[{\"type\":\"histogram2dcontour\",\"colorbar\":{\"outlinewidth\":0,\"ticks\":\"\"},\"colorscale\":[[0.0,\"#0d0887\"],[0.1111111111111111,\"#46039f\"],[0.2222222222222222,\"#7201a8\"],[0.3333333333333333,\"#9c179e\"],[0.4444444444444444,\"#bd3786\"],[0.5555555555555556,\"#d8576b\"],[0.6666666666666666,\"#ed7953\"],[0.7777777777777778,\"#fb9f3a\"],[0.8888888888888888,\"#fdca26\"],[1.0,\"#f0f921\"]]}],\"choropleth\":[{\"type\":\"choropleth\",\"colorbar\":{\"outlinewidth\":0,\"ticks\":\"\"}}],\"histogram2d\":[{\"type\":\"histogram2d\",\"colorbar\":{\"outlinewidth\":0,\"ticks\":\"\"},\"colorscale\":[[0.0,\"#0d0887\"],[0.1111111111111111,\"#46039f\"],[0.2222222222222222,\"#7201a8\"],[0.3333333333333333,\"#9c179e\"],[0.4444444444444444,\"#bd3786\"],[0.5555555555555556,\"#d8576b\"],[0.6666666666666666,\"#ed7953\"],[0.7777777777777778,\"#fb9f3a\"],[0.8888888888888888,\"#fdca26\"],[1.0,\"#f0f921\"]]}],\"heatmap\":[{\"type\":\"heatmap\",\"colorbar\":{\"outlinewidth\":0,\"ticks\":\"\"},\"colorscale\":[[0.0,\"#0d0887\"],[0.1111111111111111,\"#46039f\"],[0.2222222222222222,\"#7201a8\"],[0.3333333333333333,\"#9c179e\"],[0.4444444444444444,\"#bd3786\"],[0.5555555555555556,\"#d8576b\"],[0.6666666666666666,\"#ed7953\"],[0.7777777777777778,\"#fb9f3a\"],[0.8888888888888888,\"#fdca26\"],[1.0,\"#f0f921\"]]}],\"heatmapgl\":[{\"type\":\"heatmapgl\",\"colorbar\":{\"outlinewidth\":0,\"ticks\":\"\"},\"colorscale\":[[0.0,\"#0d0887\"],[0.1111111111111111,\"#46039f\"],[0.2222222222222222,\"#7201a8\"],[0.3333333333333333,\"#9c179e\"],[0.4444444444444444,\"#bd3786\"],[0.5555555555555556,\"#d8576b\"],[0.6666666666666666,\"#ed7953\"],[0.7777777777777778,\"#fb9f3a\"],[0.8888888888888888,\"#fdca26\"],[1.0,\"#f0f921\"]]}],\"contourcarpet\":[{\"type\":\"contourcarpet\",\"colorbar\":{\"outlinewidth\":0,\"ticks\":\"\"}}],\"contour\":[{\"type\":\"contour\",\"colorbar\":{\"outlinewidth\":0,\"ticks\":\"\"},\"colorscale\":[[0.0,\"#0d0887\"],[0.1111111111111111,\"#46039f\"],[0.2222222222222222,\"#7201a8\"],[0.3333333333333333,\"#9c179e\"],[0.4444444444444444,\"#bd3786\"],[0.5555555555555556,\"#d8576b\"],[0.6666666666666666,\"#ed7953\"],[0.7777777777777778,\"#fb9f3a\"],[0.8888888888888888,\"#fdca26\"],[1.0,\"#f0f921\"]]}],\"surface\":[{\"type\":\"surface\",\"colorbar\":{\"outlinewidth\":0,\"ticks\":\"\"},\"colorscale\":[[0.0,\"#0d0887\"],[0.1111111111111111,\"#46039f\"],[0.2222222222222222,\"#7201a8\"],[0.3333333333333333,\"#9c179e\"],[0.4444444444444444,\"#bd3786\"],[0.5555555555555556,\"#d8576b\"],[0.6666666666666666,\"#ed7953\"],[0.7777777777777778,\"#fb9f3a\"],[0.8888888888888888,\"#fdca26\"],[1.0,\"#f0f921\"]]}],\"mesh3d\":[{\"type\":\"mesh3d\",\"colorbar\":{\"outlinewidth\":0,\"ticks\":\"\"}}],\"scatter\":[{\"fillpattern\":{\"fillmode\":\"overlay\",\"size\":10,\"solidity\":0.2},\"type\":\"scatter\"}],\"parcoords\":[{\"type\":\"parcoords\",\"line\":{\"colorbar\":{\"outlinewidth\":0,\"ticks\":\"\"}}}],\"scatterpolargl\":[{\"type\":\"scatterpolargl\",\"marker\":{\"colorbar\":{\"outlinewidth\":0,\"ticks\":\"\"}}}],\"bar\":[{\"error_x\":{\"color\":\"#2a3f5f\"},\"error_y\":{\"color\":\"#2a3f5f\"},\"marker\":{\"line\":{\"color\":\"#E5ECF6\",\"width\":0.5},\"pattern\":{\"fillmode\":\"overlay\",\"size\":10,\"solidity\":0.2}},\"type\":\"bar\"}],\"scattergeo\":[{\"type\":\"scattergeo\",\"marker\":{\"colorbar\":{\"outlinewidth\":0,\"ticks\":\"\"}}}],\"scatterpolar\":[{\"type\":\"scatterpolar\",\"marker\":{\"colorbar\":{\"outlinewidth\":0,\"ticks\":\"\"}}}],\"histogram\":[{\"marker\":{\"pattern\":{\"fillmode\":\"overlay\",\"size\":10,\"solidity\":0.2}},\"type\":\"histogram\"}],\"scattergl\":[{\"type\":\"scattergl\",\"marker\":{\"colorbar\":{\"outlinewidth\":0,\"ticks\":\"\"}}}],\"scatter3d\":[{\"type\":\"scatter3d\",\"line\":{\"colorbar\":{\"outlinewidth\":0,\"ticks\":\"\"}},\"marker\":{\"colorbar\":{\"outlinewidth\":0,\"ticks\":\"\"}}}],\"scattermapbox\":[{\"type\":\"scattermapbox\",\"marker\":{\"colorbar\":{\"outlinewidth\":0,\"ticks\":\"\"}}}],\"scatterternary\":[{\"type\":\"scatterternary\",\"marker\":{\"colorbar\":{\"outlinewidth\":0,\"ticks\":\"\"}}}],\"scattercarpet\":[{\"type\":\"scattercarpet\",\"marker\":{\"colorbar\":{\"outlinewidth\":0,\"ticks\":\"\"}}}],\"carpet\":[{\"aaxis\":{\"endlinecolor\":\"#2a3f5f\",\"gridcolor\":\"white\",\"linecolor\":\"white\",\"minorgridcolor\":\"white\",\"startlinecolor\":\"#2a3f5f\"},\"baxis\":{\"endlinecolor\":\"#2a3f5f\",\"gridcolor\":\"white\",\"linecolor\":\"white\",\"minorgridcolor\":\"white\",\"startlinecolor\":\"#2a3f5f\"},\"type\":\"carpet\"}],\"table\":[{\"cells\":{\"fill\":{\"color\":\"#EBF0F8\"},\"line\":{\"color\":\"white\"}},\"header\":{\"fill\":{\"color\":\"#C8D4E3\"},\"line\":{\"color\":\"white\"}},\"type\":\"table\"}],\"barpolar\":[{\"marker\":{\"line\":{\"color\":\"#E5ECF6\",\"width\":0.5},\"pattern\":{\"fillmode\":\"overlay\",\"size\":10,\"solidity\":0.2}},\"type\":\"barpolar\"}],\"pie\":[{\"automargin\":true,\"type\":\"pie\"}]},\"layout\":{\"autotypenumbers\":\"strict\",\"colorway\":[\"#636efa\",\"#EF553B\",\"#00cc96\",\"#ab63fa\",\"#FFA15A\",\"#19d3f3\",\"#FF6692\",\"#B6E880\",\"#FF97FF\",\"#FECB52\"],\"font\":{\"color\":\"#2a3f5f\"},\"hovermode\":\"closest\",\"hoverlabel\":{\"align\":\"left\"},\"paper_bgcolor\":\"white\",\"plot_bgcolor\":\"#E5ECF6\",\"polar\":{\"bgcolor\":\"#E5ECF6\",\"angularaxis\":{\"gridcolor\":\"white\",\"linecolor\":\"white\",\"ticks\":\"\"},\"radialaxis\":{\"gridcolor\":\"white\",\"linecolor\":\"white\",\"ticks\":\"\"}},\"ternary\":{\"bgcolor\":\"#E5ECF6\",\"aaxis\":{\"gridcolor\":\"white\",\"linecolor\":\"white\",\"ticks\":\"\"},\"baxis\":{\"gridcolor\":\"white\",\"linecolor\":\"white\",\"ticks\":\"\"},\"caxis\":{\"gridcolor\":\"white\",\"linecolor\":\"white\",\"ticks\":\"\"}},\"coloraxis\":{\"colorbar\":{\"outlinewidth\":0,\"ticks\":\"\"}},\"colorscale\":{\"sequential\":[[0.0,\"#0d0887\"],[0.1111111111111111,\"#46039f\"],[0.2222222222222222,\"#7201a8\"],[0.3333333333333333,\"#9c179e\"],[0.4444444444444444,\"#bd3786\"],[0.5555555555555556,\"#d8576b\"],[0.6666666666666666,\"#ed7953\"],[0.7777777777777778,\"#fb9f3a\"],[0.8888888888888888,\"#fdca26\"],[1.0,\"#f0f921\"]],\"sequentialminus\":[[0.0,\"#0d0887\"],[0.1111111111111111,\"#46039f\"],[0.2222222222222222,\"#7201a8\"],[0.3333333333333333,\"#9c179e\"],[0.4444444444444444,\"#bd3786\"],[0.5555555555555556,\"#d8576b\"],[0.6666666666666666,\"#ed7953\"],[0.7777777777777778,\"#fb9f3a\"],[0.8888888888888888,\"#fdca26\"],[1.0,\"#f0f921\"]],\"diverging\":[[0,\"#8e0152\"],[0.1,\"#c51b7d\"],[0.2,\"#de77ae\"],[0.3,\"#f1b6da\"],[0.4,\"#fde0ef\"],[0.5,\"#f7f7f7\"],[0.6,\"#e6f5d0\"],[0.7,\"#b8e186\"],[0.8,\"#7fbc41\"],[0.9,\"#4d9221\"],[1,\"#276419\"]]},\"xaxis\":{\"gridcolor\":\"white\",\"linecolor\":\"white\",\"ticks\":\"\",\"title\":{\"standoff\":15},\"zerolinecolor\":\"white\",\"automargin\":true,\"zerolinewidth\":2},\"yaxis\":{\"gridcolor\":\"white\",\"linecolor\":\"white\",\"ticks\":\"\",\"title\":{\"standoff\":15},\"zerolinecolor\":\"white\",\"automargin\":true,\"zerolinewidth\":2},\"scene\":{\"xaxis\":{\"backgroundcolor\":\"#E5ECF6\",\"gridcolor\":\"white\",\"linecolor\":\"white\",\"showbackground\":true,\"ticks\":\"\",\"zerolinecolor\":\"white\",\"gridwidth\":2},\"yaxis\":{\"backgroundcolor\":\"#E5ECF6\",\"gridcolor\":\"white\",\"linecolor\":\"white\",\"showbackground\":true,\"ticks\":\"\",\"zerolinecolor\":\"white\",\"gridwidth\":2},\"zaxis\":{\"backgroundcolor\":\"#E5ECF6\",\"gridcolor\":\"white\",\"linecolor\":\"white\",\"showbackground\":true,\"ticks\":\"\",\"zerolinecolor\":\"white\",\"gridwidth\":2}},\"shapedefaults\":{\"line\":{\"color\":\"#2a3f5f\"}},\"annotationdefaults\":{\"arrowcolor\":\"#2a3f5f\",\"arrowhead\":0,\"arrowwidth\":1},\"geo\":{\"bgcolor\":\"white\",\"landcolor\":\"#E5ECF6\",\"subunitcolor\":\"white\",\"showland\":true,\"showlakes\":true,\"lakecolor\":\"white\"},\"title\":{\"x\":0.05},\"mapbox\":{\"style\":\"light\"}}},\"xaxis\":{\"anchor\":\"y\",\"domain\":[0.0,1.0],\"title\":{\"text\":\"RMSD\"}},\"yaxis\":{\"anchor\":\"x\",\"domain\":[0.0,1.0],\"title\":{\"text\":\"probability\"},\"rangemode\":\"tozero\"},\"legend\":{\"title\":{\"text\":\"Names\"},\"tracegroupgap\":0},\"margin\":{\"t\":60}},                        {\"responsive\": true}                    ).then(function(){\n",
       "                            \n",
       "var gd = document.getElementById('74298789-a4ae-4e1f-90da-da597b39f481');\n",
       "var x = new MutationObserver(function (mutations, observer) {{\n",
       "        var display = window.getComputedStyle(gd).display;\n",
       "        if (!display || display === 'none') {{\n",
       "            console.log([gd, 'removed!']);\n",
       "            Plotly.purge(gd);\n",
       "            observer.disconnect();\n",
       "        }}\n",
       "}});\n",
       "\n",
       "// Listen for the removal of the full notebook cells\n",
       "var notebookContainer = gd.closest('#notebook-container');\n",
       "if (notebookContainer) {{\n",
       "    x.observe(notebookContainer, {childList: true});\n",
       "}}\n",
       "\n",
       "// Listen for the clearing of the current output cell\n",
       "var outputEl = gd.closest('.output');\n",
       "if (outputEl) {{\n",
       "    x.observe(outputEl, {childList: true});\n",
       "}}\n",
       "\n",
       "                        })                };                });            </script>        </div>"
      ]
     },
     "metadata": {},
     "output_type": "display_data"
    }
   ],
   "source": [
    "import pandas as pd\n",
    "names = ['diffdock-protein'] * len(filtered_rmsds) + [\"attract\"] * len(attract) + [\"cluspro\"] * len(cluspro) + [\"equidock\"] * len(equidock) + [\"equidock_no_clashes\"] * len(equidock_no_clashes) + [\"hdock\"] * len(hdock) + [\"patchdock\"] * len(patchdock)\n",
    "RMSD = list(filtered_rmsds) + list(attract) + list(cluspro) + list(equidock) + list(equidock_no_clashes) + list(hdock) + list(patchdock)\n",
    "\n",
    "dfp = pd.DataFrame({'Names':names,'RMSD':RMSD})\n",
    "fig = px.ecdf(dfp, x=\"RMSD\", color=\"Names\")\n",
    "fig.write_image('../../plots/probability_rmsd.pdf')\n",
    "fig.show()"
   ]
  },
  {
   "cell_type": "markdown",
   "id": "96bf5ef8-f713-46c8-b05c-ab5019d7d29d",
   "metadata": {},
   "source": [
    "### Top-n"
   ]
  },
  {
   "cell_type": "code",
   "execution_count": 124,
   "id": "9088200e-de58-429d-80e9-ba5241876ab3",
   "metadata": {},
   "outputs": [],
   "source": [
    "def get_fraction_lower(rmsds, threshold):\n",
    "    return (100 * (rmsds < threshold).sum() / len(rmsds)).__round__(2)\n",
    "\n",
    "def shuffle_samples(rmsds, confidences, seed):\n",
    "    num_graphs, max_samples = rmsds.shape\n",
    "    \n",
    "    np.random.seed(seed)\n",
    "    \n",
    "    suffled_indexes = [np.random.permutation(np.arange(max_samples)) for i in range(num_graphs)]\n",
    "    shuffled_rmsds = np.take_along_axis(rmsds, np.array(suffled_indexes), axis=-1)\n",
    "    shuffled_confidences = np.take_along_axis(confidences, np.array(suffled_indexes), axis=-1)\n",
    "    return shuffled_rmsds, shuffled_confidences"
   ]
  },
  {
   "cell_type": "code",
   "execution_count": 125,
   "id": "5366efd4-14eb-4f33-bcca-fc5deb6d8d60",
   "metadata": {},
   "outputs": [],
   "source": [
    "threshold = 2\n",
    "ideal_confidences = (rmsds < threshold) + np.random.rand(*rmsds.shape) * 10"
   ]
  },
  {
   "cell_type": "code",
   "execution_count": 126,
   "id": "0f08c1f5-5403-4eda-bd98-3357336022ba",
   "metadata": {},
   "outputs": [],
   "source": [
    "# this_plot_rmsds, this_plot_confidences = all_pred_crmsd, confidences\n",
    "\n",
    "# _, max_samples = this_plot_rmsds.shape\n",
    "\n",
    "# np.random.seed(42)\n",
    "\n",
    "# top_1 = []\n",
    "# top_5 = []\n",
    "# top_10 = []\n",
    "# perfect = []\n",
    "\n",
    "# threshold = 2\n",
    "# n_repetitions = 1000\n",
    "\n",
    "# rmsds_repeated = np.repeat(this_plot_rmsds, n_repetitions, axis=0)\n",
    "# confidences_repeated = np.repeat(this_plot_confidences, n_repetitions, axis=0)\n",
    "\n",
    "# print(rmsds_repeated.shape, confidences_repeated.shape)\n",
    "\n",
    "# n_of_generated_samples = list(range(1, max_samples+1))\n",
    "# for n_samples in n_of_generated_samples:\n",
    "#     shuffled_rmsds, shuffled_confidences = shuffle_samples(rmsds_repeated, confidences_repeated, seed=n_samples)\n",
    "    \n",
    "#     rmsds_current = shuffled_rmsds[:, :n_samples]\n",
    "#     confidences_current = shuffled_confidences[:, :n_samples]\n",
    "    \n",
    "#     sorted_indexes_ascending = np.argsort(confidences_current, axis=-1)\n",
    "#     sorted_indexes = np.flip(sorted_indexes_ascending, axis=-1)\n",
    "    \n",
    "    \n",
    "#     rmsds_sorted_by_confidences = np.take_along_axis(rmsds_current, sorted_indexes, axis=-1)    \n",
    "    \n",
    "#     top_1.append(get_fraction_lower(rmsds_sorted_by_confidences[:, :1].min(axis=-1), threshold))\n",
    "#     top_5.append(get_fraction_lower(rmsds_sorted_by_confidences[:, :5].min(axis=-1), threshold))\n",
    "#     top_10.append(get_fraction_lower(rmsds_sorted_by_confidences[:, :10].min(axis=-1), threshold))\n",
    "#     perfect.append(get_fraction_lower(rmsds_sorted_by_confidences.min(axis=-1), threshold))"
   ]
  },
  {
   "cell_type": "code",
   "execution_count": 127,
   "id": "cd00792e-652b-4df9-afc9-a64d7b368edd",
   "metadata": {},
   "outputs": [
    {
     "data": {
      "text/plain": [
       "397.48499"
      ]
     },
     "execution_count": 127,
     "metadata": {},
     "output_type": "execute_result"
    }
   ],
   "source": [
    "width"
   ]
  },
  {
   "cell_type": "code",
   "execution_count": 128,
   "id": "a32dc735-1122-490c-9ae3-bfdc7f4f84a8",
   "metadata": {},
   "outputs": [
    {
     "data": {
      "image/png": "[encoded data removed]",
      "text/plain": [
       "<Figure size 550x339.919 with 1 Axes>"
      ]
     },
     "metadata": {},
     "output_type": "display_data"
    }
   ],
   "source": [
    "fig,axs = plt.subplots(1, 1,figsize=set_size(width=width,fraction=fraction))  # fraction image should cover\n",
    "\n",
    "# axs.axhline(y = 1, color = 'r', linestyle = '--',linewidth=0.3)\n",
    "\n",
    "axs.plot(n_of_generated_samples, top_1, \"-\", linewidth=0.7, label=\"Top-1 performance\")\n",
    "axs.plot(n_of_generated_samples, top_5, \"-\", linewidth=0.7, label=\"Top-5 performance\")\n",
    "axs.plot(n_of_generated_samples, top_10, \"-\", linewidth=0.7, label=\"Top-10 performance\")\n",
    "axs.plot(n_of_generated_samples, perfect, \"-\", linewidth=0.7, label=\"Perfect selection\")\n",
    "\n",
    "axs.set_xlabel(\"Number of generative samples\")\n",
    "axs.set_ylabel(f\"Fraction with RMSD < {threshold}Å\")\n",
    "axs.grid(which=\"both\",linestyle=\":\",linewidth=0.4)\n",
    "axs.tick_params(axis='both', which='major')\n",
    "# axs.spines['top'].set_visible(False)\n",
    "# axs.spines['right'].set_visible(False)\n",
    "axs.legend(frameon=False)\n",
    "\n",
    "fig.savefig(f\"../../plots/top-n-samples-rmsd-{threshold}_new.pdf\", format='pdf', bbox_inches='tight')"
   ]
  },
  {
   "cell_type": "code",
   "execution_count": null,
   "id": "e9948b74-235f-4d4b-8dc6-7b56d18c48bc",
   "metadata": {},
   "outputs": [],
   "source": []
  },
  {
   "cell_type": "code",
   "execution_count": null,
   "id": "f94bd426-0cba-431f-8faa-197f70a4f736",
   "metadata": {},
   "outputs": [],
   "source": []
  },
  {
   "cell_type": "code",
   "execution_count": null,
   "id": "db55ffe1-796f-4c82-9987-5545cdedd865",
   "metadata": {},
   "outputs": [],
   "source": []
  },
  {
   "cell_type": "code",
   "execution_count": null,
   "id": "483041e6-65e8-44d2-bf6b-2bb2798c38ba",
   "metadata": {},
   "outputs": [],
   "source": []
  }
 ],
 "metadata": {
  "kernelspec": {
   "display_name": "Python 3 (ipykernel)",
   "language": "python",
   "name": "python3"
  },
  "language_info": {
   "codemirror_mode": {
    "name": "ipython",
    "version": 3
   },
   "file_extension": ".py",
   "mimetype": "text/x-python",
   "name": "python",
   "nbconvert_exporter": "python",
   "pygments_lexer": "ipython3",
   "version": "3.10.8"
  }
 },
 "nbformat": 4,
 "nbformat_minor": 5
}
