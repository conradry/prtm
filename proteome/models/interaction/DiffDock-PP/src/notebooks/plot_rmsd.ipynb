{
 "cells": [
  {
   "cell_type": "code",
   "execution_count": 1,
   "metadata": {},
   "outputs": [],
   "source": [
    "%load_ext autoreload\n",
    "%autoreload 2"
   ]
  },
  {
   "cell_type": "code",
   "execution_count": 47,
   "metadata": {},
   "outputs": [],
   "source": [
    "import yaml\n",
    "import os\n",
    "import torch\n",
    "import numpy as np\n",
    "import matplotlib.pyplot as plt\n",
    "from tqdm import tqdm\n",
    "import copy\n",
    "import pickle\n",
    "from seaborn import histplot"
   ]
  },
  {
   "cell_type": "code",
   "execution_count": 21,
   "metadata": {},
   "outputs": [],
   "source": [
    "os.chdir('/data/rsg/nlp/sdobers/amine/diffdock-protein/src')\n",
    "\n",
    "from args import parse_args\n",
    "from data import load_data, get_data\n",
    "from data.data import BindingDataset\n",
    "from model import load_model, to_cuda\n",
    "from utils import printt, print_res, log, get_unixtime, compute_rmsd\n",
    "from train import train, evaluate, evaluate_pose\n",
    "from helpers import WandbLogger, TensorboardLogger\n",
    "from sample import sample\n",
    "from evaluation.compute_rmsd import evaluate_all_rmsds"
   ]
  },
  {
   "cell_type": "code",
   "execution_count": 4,
   "metadata": {},
   "outputs": [],
   "source": [
    "from notebooks.utils_notebooks import Dict2Class"
   ]
  },
  {
   "cell_type": "code",
   "execution_count": 5,
   "metadata": {},
   "outputs": [
    {
     "name": "stdout",
     "output_type": "stream",
     "text": [
      "True\n"
     ]
    }
   ],
   "source": [
    "CUDA_VISIBLE_DEVICE = 0\n",
    "torch.cuda.set_device(CUDA_VISIBLE_DEVICE)\n",
    "print(torch.cuda.is_available())"
   ]
  },
  {
   "cell_type": "code",
   "execution_count": 6,
   "metadata": {},
   "outputs": [],
   "source": [
    "#PATH = '/data/rsg/nlp/sdobers/amine/diffdock-protein/ckpts/dips_medium_model/'\n",
    "#PATH = '/data/rsg/nlp/sdobers/amine/diffdock-protein/ckpts/dips_large_model/'\n",
    "#PATH = '/data/rsg/nlp/sdobers/amine/diffdock-protein/ckpts/dips_medium_model_whole_data/'\n",
    "#PATH = '/data/rsg/nlp/sdobers/amine/diffdock-protein/ckpts/dips_medium_model_faster' # medium model\n",
    "PATH = '/data/rsg/nlp/sdobers/amine/diffdock-protein/ckpts/dips_largest_model' # largest model"
   ]
  },
  {
   "cell_type": "code",
   "execution_count": 7,
   "metadata": {},
   "outputs": [],
   "source": [
    "# load args\n",
    "with open(os.path.join(PATH, 'args.yaml')) as f:\n",
    "    args = yaml.safe_load(f)\n",
    "args = Dict2Class(args)\n",
    "\n",
    "args.num_gpu = 1\n",
    "args.gpu = CUDA_VISIBLE_DEVICE\n",
    "args.data_file = args.data_file.replace('data_file', 'data_file_100_test')\n",
    "args.checkpoint_path = PATH\n",
    "#args.use_orientation_features = False\n",
    "#args.recache = False\n",
    "args.batch_size = 32\n",
    "if 'large' in PATH:\n",
    "    args.batch_size = 4\n",
    "#args.cross_cutoff_weight = 3\n",
    "#args.cross_cutoff_bias = 40"
   ]
  },
  {
   "cell_type": "code",
   "execution_count": 8,
   "metadata": {},
   "outputs": [
    {
     "name": "stderr",
     "output_type": "stream",
     "text": [
      "data loading: 100%|█| 100/100 [00:00<00:00, 530924\n"
     ]
    },
    {
     "name": "stdout",
     "output_type": "stream",
     "text": [
      "05:53:00 Loaded cached ESM embeddings\n",
      "05:53:00 finished tokenizing residues with ESM\n",
      "05:53:00 finished tokenizing all inputs\n",
      "05:53:00 100 entries loaded\n"
     ]
    }
   ],
   "source": [
    "# load raw data\n",
    "data = load_data(args)\n",
    "data_params = data.data_params"
   ]
  },
  {
   "cell_type": "code",
   "execution_count": 9,
   "metadata": {},
   "outputs": [],
   "source": [
    "# only val data\n",
    "val_dataset = BindingDataset(args, data.data, apply_transform=False)\n",
    "\n",
    "# all data\n",
    "#loaders_for_reverse_diffusion = get_data(data, 0, args, for_reverse_diffusion=True)"
   ]
  },
  {
   "cell_type": "code",
   "execution_count": 10,
   "metadata": {},
   "outputs": [
    {
     "data": {
      "text/plain": [
       "100"
      ]
     },
     "execution_count": 10,
     "metadata": {},
     "output_type": "execute_result"
    }
   ],
   "source": [
    "len(val_dataset)"
   ]
  },
  {
   "cell_type": "code",
   "execution_count": null,
   "metadata": {},
   "outputs": [],
   "source": [
    "for protein_complex in val_dataset:\n",
    "    print(protein_complex.name)"
   ]
  },
  {
   "cell_type": "code",
   "execution_count": null,
   "metadata": {},
   "outputs": [],
   "source": []
  },
  {
   "cell_type": "code",
   "execution_count": 12,
   "metadata": {},
   "outputs": [
    {
     "name": "stderr",
     "output_type": "stream",
     "text": [
      "/data/rsg/nlp/sdobers/miniconda3/envs/diffdock_protein/lib/python3.10/site-packages/torch/jit/_check.py:181: UserWarning: The TorchScript type system doesn't support instance-level annotations on empty non-base types in `__init__`. Instead, either 1) use a type annotation in the class body, or 2) wrap the type in `torch.jit.Attribute`.\n",
      "  warnings.warn(\"The TorchScript type system doesn't support \"\n"
     ]
    },
    {
     "name": "stdout",
     "output_type": "stream",
     "text": [
      "05:54:02 loaded model with kwargs: \n",
      "05:54:02 loaded checkpoint from /data/rsg/nlp/sdobers/amine/diffdock-protein/ckpts/dips_largest_model/fold_0/model_best_265818_110_33.815_33.219.pth\n",
      "05:54:16 Model with 1617666 parameters\n"
     ]
    }
   ],
   "source": [
    "# get model and load checkpoint, if relevant\n",
    "model = load_model(args, data_params, 0, load_best=True)\n",
    "model = to_cuda(model, args)\n",
    "\n",
    "numel = sum([p.numel() for p in model.parameters()])\n",
    "printt('Model with', numel, 'parameters')"
   ]
  },
  {
   "cell_type": "code",
   "execution_count": 68,
   "metadata": {},
   "outputs": [],
   "source": [
    "#random_indices = np.random.choice(len(loaders_for_reverse_diffusion[\"train\"]), size=240, replace=False)\n",
    "#data_list = loaders_for_reverse_diffusion[\"train\"][random_indices]\n",
    "\n",
    "#data_list = BindingDataset(args, {}, apply_transform=False)\n",
    "#data_list.data = [loaders_for_reverse_diffusion[\"train\"].data[i] for i in random_indices]\n",
    "#data_list.length = len(data_list.data)\n"
   ]
  },
  {
   "cell_type": "markdown",
   "metadata": {},
   "source": [
    "## TOP1"
   ]
  },
  {
   "cell_type": "code",
   "execution_count": 16,
   "metadata": {
    "scrolled": true
   },
   "outputs": [
    {
     "name": "stdout",
     "output_type": "stream",
     "text": [
      "06:09:13 Completed 0 out of 40 steps\n",
      "06:09:33 Completed 1 out of 40 steps\n",
      "06:09:52 Completed 2 out of 40 steps\n",
      "06:10:11 Completed 3 out of 40 steps\n",
      "06:10:28 Completed 4 out of 40 steps\n",
      "06:10:45 Completed 5 out of 40 steps\n",
      "06:11:00 Completed 6 out of 40 steps\n",
      "06:11:14 Completed 7 out of 40 steps\n",
      "06:11:27 Completed 8 out of 40 steps\n",
      "06:11:39 Completed 9 out of 40 steps\n",
      "06:11:51 Completed 10 out of 40 steps\n",
      "06:12:01 Completed 11 out of 40 steps\n",
      "06:12:11 Completed 12 out of 40 steps\n",
      "06:12:21 Completed 13 out of 40 steps\n",
      "06:12:30 Completed 14 out of 40 steps\n",
      "06:12:39 Completed 15 out of 40 steps\n",
      "06:12:47 Completed 16 out of 40 steps\n",
      "06:12:55 Completed 17 out of 40 steps\n",
      "06:13:02 Completed 18 out of 40 steps\n",
      "06:13:09 Completed 19 out of 40 steps\n",
      "06:13:17 Completed 20 out of 40 steps\n",
      "06:13:24 Completed 21 out of 40 steps\n",
      "06:13:31 Completed 22 out of 40 steps\n",
      "06:13:39 Completed 23 out of 40 steps\n",
      "06:13:46 Completed 24 out of 40 steps\n",
      "06:13:52 Completed 25 out of 40 steps\n",
      "06:13:59 Completed 26 out of 40 steps\n",
      "06:14:07 Completed 27 out of 40 steps\n",
      "06:14:13 Completed 28 out of 40 steps\n",
      "06:14:21 Completed 29 out of 40 steps\n",
      "06:14:27 Completed 30 out of 40 steps\n",
      "06:14:34 Completed 31 out of 40 steps\n",
      "06:14:41 Completed 32 out of 40 steps\n",
      "06:14:48 Completed 33 out of 40 steps\n",
      "06:14:55 Completed 34 out of 40 steps\n",
      "06:15:02 Completed 35 out of 40 steps\n",
      "06:15:09 Completed 36 out of 40 steps\n",
      "06:15:16 Completed 37 out of 40 steps\n",
      "06:15:22 Completed 38 out of 40 steps\n",
      "06:15:29 Completed 39 out of 40 steps\n"
     ]
    }
   ],
   "source": [
    "# run reverse diffusion process\n",
    "samples_val = sample(val_dataset, model, args)\n",
    "# samples_val now contains all the graphs, with graph[\"ligand\"] contains the positions predicted by the model"
   ]
  },
  {
   "cell_type": "code",
   "execution_count": 17,
   "metadata": {},
   "outputs": [],
   "source": [
    "val_score = evaluate_pose(val_dataset, samples_val)"
   ]
  },
  {
   "cell_type": "code",
   "execution_count": 20,
   "metadata": {},
   "outputs": [
    {
     "name": "stdout",
     "output_type": "stream",
     "text": [
      "{'rmsds_lt2': 12.0, 'rmsds_lt5': 18.0, 'rmsds_lt10': 25.0, 'rmsds_mean': 35.932213, 'rmsds_median': 37.739902}\n"
     ]
    }
   ],
   "source": [
    "rmsds = np.array(val_score[\"rmsd\"])\n",
    "reverse_diffusion_metrics = {'rmsds_lt2': (100 * (rmsds < 2).sum() / len(rmsds)),\n",
    "                             'rmsds_lt5': (100 * (rmsds < 5).sum() / len(rmsds)),\n",
    "                             'rmsds_lt10': (100 * (rmsds < 10).sum() / len(rmsds)),\n",
    "                             'rmsds_mean': rmsds.mean(),\n",
    "                             'rmsds_median': np.median(rmsds)}\n",
    "print(reverse_diffusion_metrics)"
   ]
  },
  {
   "cell_type": "code",
   "execution_count": 25,
   "metadata": {},
   "outputs": [],
   "source": [
    "ligand_rmsd_summarized, complex_rmsd_summarized, interface_rmsd_summarized = evaluate_all_rmsds(val_dataset, samples_val)\n",
    "\n",
    "\n"
   ]
  },
  {
   "cell_type": "code",
   "execution_count": 26,
   "metadata": {},
   "outputs": [
    {
     "data": {
      "text/plain": [
       "{'mean': 35.932213,\n",
       " 'median': 37.739906,\n",
       " 'std': 25.059593,\n",
       " 'lt1': 4.0,\n",
       " 'lt2': 12.0,\n",
       " 'lt5': 18.0,\n",
       " 'lt10': 25.0}"
      ]
     },
     "execution_count": 26,
     "metadata": {},
     "output_type": "execute_result"
    }
   ],
   "source": [
    "ligand_rmsd_summarized"
   ]
  },
  {
   "cell_type": "code",
   "execution_count": 27,
   "metadata": {},
   "outputs": [
    {
     "data": {
      "text/plain": [
       "{'mean': 14.54395289705735,\n",
       " 'median': 16.145159846859734,\n",
       " 'std': 9.759590879415219,\n",
       " 'lt1': 14.0,\n",
       " 'lt2': 19.0,\n",
       " 'lt5': 25.0,\n",
       " 'lt10': 34.0}"
      ]
     },
     "execution_count": 27,
     "metadata": {},
     "output_type": "execute_result"
    }
   ],
   "source": [
    "complex_rmsd_summarized"
   ]
  },
  {
   "cell_type": "code",
   "execution_count": 28,
   "metadata": {},
   "outputs": [
    {
     "data": {
      "text/plain": [
       "{'mean': 13.469448702427941,\n",
       " 'median': 13.020660483970541,\n",
       " 'std': 10.380044156029424,\n",
       " 'lt1': 16.0,\n",
       " 'lt2': 21.0,\n",
       " 'lt5': 28.0,\n",
       " 'lt10': 36.0}"
      ]
     },
     "execution_count": 28,
     "metadata": {},
     "output_type": "execute_result"
    }
   ],
   "source": [
    "interface_rmsd_summarized"
   ]
  },
  {
   "cell_type": "code",
   "execution_count": 31,
   "metadata": {},
   "outputs": [],
   "source": [
    "with open('/data/rsg/nlp/sdobers/cedrik/diffdock-protein/storage/dips_esm_inference_10samples_large.pkl', \"rb\") as f:\n",
    "    results = pickle.load(f)"
   ]
  },
  {
   "cell_type": "code",
   "execution_count": 33,
   "metadata": {},
   "outputs": [
    {
     "data": {
      "text/plain": [
       "100"
      ]
     },
     "execution_count": 33,
     "metadata": {},
     "output_type": "execute_result"
    }
   ],
   "source": [
    "len(results)"
   ]
  },
  {
   "cell_type": "code",
   "execution_count": 34,
   "metadata": {},
   "outputs": [],
   "source": [
    "gt = [res[0][0] for res in results]\n",
    "best_pred = [res[1][0] for res in results]"
   ]
  },
  {
   "cell_type": "code",
   "execution_count": 40,
   "metadata": {},
   "outputs": [],
   "source": [
    "meter, ligand_rmsd_10s, complex_rmsd_10s, interface_rmsd_10s = evaluate_all_rmsds(gt, best_pred)\n"
   ]
  },
  {
   "cell_type": "code",
   "execution_count": 41,
   "metadata": {},
   "outputs": [
    {
     "data": {
      "text/plain": [
       "{'mean': 32.97904,\n",
       " 'median': 33.13714,\n",
       " 'std': 29.957193,\n",
       " 'lt1': 7.0,\n",
       " 'lt2': 17.0,\n",
       " 'lt5': 31.0,\n",
       " 'lt10': 38.0}"
      ]
     },
     "execution_count": 41,
     "metadata": {},
     "output_type": "execute_result"
    }
   ],
   "source": [
    "ligand_rmsd_10s"
   ]
  },
  {
   "cell_type": "code",
   "execution_count": 42,
   "metadata": {},
   "outputs": [
    {
     "data": {
      "text/plain": [
       "{'mean': 12.876473048634935,\n",
       " 'median': 12.593231201171875,\n",
       " 'std': 11.481786117629763,\n",
       " 'lt1': 23.0,\n",
       " 'lt2': 31.0,\n",
       " 'lt5': 40.0,\n",
       " 'lt10': 46.0}"
      ]
     },
     "execution_count": 42,
     "metadata": {},
     "output_type": "execute_result"
    }
   ],
   "source": [
    "complex_rmsd_10s"
   ]
  },
  {
   "cell_type": "code",
   "execution_count": 43,
   "metadata": {},
   "outputs": [
    {
     "data": {
      "text/plain": [
       "{'mean': 11.047447171517533,\n",
       " 'median': 10.044833183288574,\n",
       " 'std': 11.139125768275223,\n",
       " 'lt1': 23.0,\n",
       " 'lt2': 35.0,\n",
       " 'lt5': 42.0,\n",
       " 'lt10': 50.0}"
      ]
     },
     "execution_count": 43,
     "metadata": {},
     "output_type": "execute_result"
    }
   ],
   "source": [
    "interface_rmsd_10s"
   ]
  },
  {
   "cell_type": "code",
   "execution_count": 48,
   "metadata": {},
   "outputs": [
    {
     "data": {
      "text/plain": [
       "[Text(0.5, 1.0, 'TOP 1'), Text(0.5, 0, 'Ligand RMSD')]"
      ]
     },
     "execution_count": 48,
     "metadata": {},
     "output_type": "execute_result"
    },
    {
     "data": {
      "image/png": "[encoded data removed]",
      "text/plain": [
       "<Figure size 640x480 with 1 Axes>"
      ]
     },
     "metadata": {},
     "output_type": "display_data"
    }
   ],
   "source": [
    "histplot(data=meter.complex_rmsd_list, binwidth=1).set(title='TOP 1', xlabel='Ligand RMSD')\n"
   ]
  },
  {
   "cell_type": "code",
   "execution_count": 59,
   "metadata": {},
   "outputs": [],
   "source": [
    "with open('/data/rsg/nlp/sdobers/cedrik/diffdock-protein/storage/db5_bound_esm_inference_10samples_large.pkl', \"rb\") as f:\n",
    "    results_db5 = pickle.load(f)\n",
    "    "
   ]
  },
  {
   "cell_type": "code",
   "execution_count": 60,
   "metadata": {},
   "outputs": [],
   "source": [
    "gt_db5 = [res[0][0] for res in results_db5]\n",
    "best_pred_db5 = [res[1][0] for res in results_db5]"
   ]
  },
  {
   "cell_type": "code",
   "execution_count": 61,
   "metadata": {},
   "outputs": [],
   "source": [
    "meter, ligand_rmsd_10s, complex_rmsd_10s, interface_rmsd_10s = evaluate_all_rmsds(gt_db5, best_pred_dbr)\n"
   ]
  },
  {
   "cell_type": "code",
   "execution_count": 62,
   "metadata": {},
   "outputs": [
    {
     "data": {
      "text/plain": [
       "{'mean': 43.380062,\n",
       " 'median': 40.79326,\n",
       " 'std': 17.794231,\n",
       " 'lt1': 0.0,\n",
       " 'lt2': 0.0,\n",
       " 'lt5': 0.0,\n",
       " 'lt10': 0.0}"
      ]
     },
     "execution_count": 62,
     "metadata": {},
     "output_type": "execute_result"
    }
   ],
   "source": [
    "ligand_rmsd_10s"
   ]
  },
  {
   "cell_type": "code",
   "execution_count": 63,
   "metadata": {},
   "outputs": [
    {
     "data": {
      "text/plain": [
       "{'mean': 15.782947379929078,\n",
       " 'median': 15.296611785888672,\n",
       " 'std': 5.529170687474491,\n",
       " 'lt1': 0.0,\n",
       " 'lt2': 0.0,\n",
       " 'lt5': 0.0,\n",
       " 'lt10': 16.0}"
      ]
     },
     "execution_count": 63,
     "metadata": {},
     "output_type": "execute_result"
    }
   ],
   "source": [
    "complex_rmsd_10s"
   ]
  },
  {
   "cell_type": "code",
   "execution_count": 64,
   "metadata": {},
   "outputs": [
    {
     "data": {
      "text/plain": [
       "[Text(0.5, 1.0, '10 samples + confidence_model'), Text(0.5, 0, 'Complex RMSD')]"
      ]
     },
     "execution_count": 64,
     "metadata": {},
     "output_type": "execute_result"
    },
    {
     "data": {
      "image/png": "[encoded data removed]",
      "text/plain": [
       "<Figure size 640x480 with 1 Axes>"
      ]
     },
     "metadata": {},
     "output_type": "display_data"
    }
   ],
   "source": [
    "histplot(data=meter.complex_rmsd_list, binwidth=1).set(title='10 samples + confidence_model', xlabel='Complex RMSD')\n"
   ]
  },
  {
   "cell_type": "code",
   "execution_count": null,
   "metadata": {},
   "outputs": [],
   "source": []
  },
  {
   "cell_type": "code",
   "execution_count": null,
   "metadata": {},
   "outputs": [],
   "source": []
  },
  {
   "cell_type": "code",
   "execution_count": null,
   "metadata": {},
   "outputs": [],
   "source": []
  },
  {
   "cell_type": "code",
   "execution_count": 36,
   "metadata": {},
   "outputs": [
    {
     "name": "stdout",
     "output_type": "stream",
     "text": [
      "{'rmsds_lt2': 11.0, 'rmsds_lt5': 18.0, 'rmsds_lt10': 21.0, 'rmsds_mean': 38.2204, 'rmsds_median': 39.766003}\n"
     ]
    }
   ],
   "source": [
    "rmsds = np.array(val_score[\"rmsd\"])\n",
    "reverse_diffusion_metrics = {'rmsds_lt2': (100 * (rmsds < 2).sum() / len(rmsds)),\n",
    "                             'rmsds_lt5': (100 * (rmsds < 5).sum() / len(rmsds)),\n",
    "                             'rmsds_lt10': (100 * (rmsds < 10).sum() / len(rmsds)),\n",
    "                             'rmsds_mean': rmsds.mean(),\n",
    "                             'rmsds_median': np.median(rmsds)}\n",
    "print(reverse_diffusion_metrics)"
   ]
  },
  {
   "cell_type": "code",
   "execution_count": 34,
   "metadata": {},
   "outputs": [
    {
     "data": {
      "text/plain": [
       "array([ 63.310364  ,  79.72629   ,  35.34724   ,  52.167233  ,\n",
       "        36.00924   ,  29.859137  ,   0.84258753,  75.09546   ,\n",
       "        72.506165  ,   1.0409733 ,  66.89711   ,   1.8664917 ,\n",
       "         2.7314756 ,  49.308174  ,  11.20348   ,   3.539894  ,\n",
       "        30.613865  ,  42.536293  ,   2.4689188 ,   8.948506  ,\n",
       "         5.3857756 ,  64.42251   ,  63.34643   ,  64.62098   ,\n",
       "        67.06998   ,   5.9819074 ,  28.0428    ,   6.728376  ,\n",
       "        69.97631   ,  64.42916   ,   5.0846624 ,  76.03727   ,\n",
       "        30.298376  ,   5.2708836 ,  33.296852  ,  74.989845  ,\n",
       "        72.33864   ,   1.161579  ,  35.76681   ,  49.870506  ,\n",
       "        49.12135   ,  43.238533  ,  48.398174  ,  54.79541   ,\n",
       "        31.303381  ,  36.042377  ,  47.700184  ,  43.528893  ,\n",
       "        44.6185    ,   0.8267346 ,  56.972694  ,  50.800564  ,\n",
       "        49.456905  ,  46.044483  ,   4.466696  ,  23.387299  ,\n",
       "        43.930008  ,  47.754055  ,   8.26316   ,  37.328392  ,\n",
       "        49.175694  ,  51.337128  ,   1.631422  ,   2.245647  ,\n",
       "        26.486313  ,  28.785692  ,  42.568058  ,  50.324608  ,\n",
       "        49.04825   ,  44.56508   ,   2.282559  ,  62.220837  ,\n",
       "       116.62819   ,  21.454565  ,   2.0167289 ,  55.185654  ,\n",
       "        25.0994    ,  13.0184    ,  35.81332   ,  26.416683  ,\n",
       "        36.926888  ,  45.965023  , 101.99589   ,  78.817665  ,\n",
       "        26.974602  ,  44.972206  ,  44.62829   ,   1.7766712 ,\n",
       "         4.502828  ,  83.259346  ,  66.41232   ,   6.8420367 ,\n",
       "         1.0670394 ,  63.115513  ,  63.12093   ,  72.540985  ,\n",
       "         6.313416  ,   3.2400813 ,  25.892853  ,  41.694996  ],\n",
       "      dtype=float32)"
      ]
     },
     "execution_count": 34,
     "metadata": {},
     "output_type": "execute_result"
    }
   ],
   "source": [
    "rmsds"
   ]
  },
  {
   "cell_type": "code",
   "execution_count": 46,
   "metadata": {},
   "outputs": [],
   "source": [
    "from seaborn import histplot"
   ]
  },
  {
   "cell_type": "code",
   "execution_count": 16,
   "metadata": {},
   "outputs": [],
   "source": [
    "rmsds_copy = copy.deepcopy(rmsds)"
   ]
  },
  {
   "cell_type": "code",
   "execution_count": 25,
   "metadata": {},
   "outputs": [],
   "source": [
    "#rmsds_copy[rmsds_copy==rmsds_copy.max()] = 100"
   ]
  },
  {
   "cell_type": "code",
   "execution_count": 26,
   "metadata": {},
   "outputs": [
    {
     "data": {
      "text/plain": [
       "100.0"
      ]
     },
     "execution_count": 26,
     "metadata": {},
     "output_type": "execute_result"
    }
   ],
   "source": [
    "#rmsds_copy.max()"
   ]
  },
  {
   "cell_type": "code",
   "execution_count": 30,
   "metadata": {},
   "outputs": [
    {
     "data": {
      "text/plain": [
       "[Text(0.5, 1.0, 'TOP 1'), Text(0.5, 0, 'Ligand RMSD')]"
      ]
     },
     "execution_count": 30,
     "metadata": {},
     "output_type": "execute_result"
    },
    {
     "data": {
      "image/png": "[encoded data removed]",
      "text/plain": [
       "<Figure size 640x480 with 1 Axes>"
      ]
     },
     "metadata": {},
     "output_type": "display_data"
    }
   ],
   "source": [
    "histplot(data=rmsds_copy, binwidth=1).set(title='TOP 1', xlabel='Ligand RMSD')"
   ]
  },
  {
   "cell_type": "markdown",
   "metadata": {},
   "source": [
    "## tr_s_max=20"
   ]
  },
  {
   "cell_type": "code",
   "execution_count": 40,
   "metadata": {},
   "outputs": [
    {
     "data": {
      "text/plain": [
       "20.0"
      ]
     },
     "execution_count": 40,
     "metadata": {},
     "output_type": "execute_result"
    }
   ],
   "source": [
    "args.tr_s_max = 20.0\n",
    "args.tr_s_max"
   ]
  },
  {
   "cell_type": "code",
   "execution_count": 41,
   "metadata": {},
   "outputs": [
    {
     "name": "stdout",
     "output_type": "stream",
     "text": [
      "05:13:59 Completed 0 out of 40 steps\n",
      "05:14:17 Completed 1 out of 40 steps\n",
      "05:14:34 Completed 2 out of 40 steps\n",
      "05:14:51 Completed 3 out of 40 steps\n",
      "05:15:07 Completed 4 out of 40 steps\n",
      "05:15:22 Completed 5 out of 40 steps\n",
      "05:15:36 Completed 6 out of 40 steps\n",
      "05:15:49 Completed 7 out of 40 steps\n",
      "05:16:01 Completed 8 out of 40 steps\n",
      "05:16:13 Completed 9 out of 40 steps\n",
      "05:16:24 Completed 10 out of 40 steps\n",
      "05:16:34 Completed 11 out of 40 steps\n",
      "05:16:44 Completed 12 out of 40 steps\n",
      "05:16:53 Completed 13 out of 40 steps\n",
      "05:17:02 Completed 14 out of 40 steps\n",
      "05:17:11 Completed 15 out of 40 steps\n",
      "05:17:19 Completed 16 out of 40 steps\n",
      "05:17:27 Completed 17 out of 40 steps\n",
      "05:17:35 Completed 18 out of 40 steps\n",
      "05:17:43 Completed 19 out of 40 steps\n",
      "05:17:50 Completed 20 out of 40 steps\n",
      "05:17:57 Completed 21 out of 40 steps\n",
      "05:18:04 Completed 22 out of 40 steps\n",
      "05:18:12 Completed 23 out of 40 steps\n",
      "05:18:19 Completed 24 out of 40 steps\n",
      "05:18:26 Completed 25 out of 40 steps\n",
      "05:18:33 Completed 26 out of 40 steps\n",
      "05:18:40 Completed 27 out of 40 steps\n",
      "05:18:47 Completed 28 out of 40 steps\n",
      "05:18:54 Completed 29 out of 40 steps\n",
      "05:19:01 Completed 30 out of 40 steps\n",
      "05:19:08 Completed 31 out of 40 steps\n",
      "05:19:14 Completed 32 out of 40 steps\n",
      "05:19:22 Completed 33 out of 40 steps\n",
      "05:19:28 Completed 34 out of 40 steps\n",
      "05:19:35 Completed 35 out of 40 steps\n",
      "05:19:42 Completed 36 out of 40 steps\n",
      "05:19:49 Completed 37 out of 40 steps\n",
      "05:19:56 Completed 38 out of 40 steps\n",
      "05:20:04 Completed 39 out of 40 steps\n"
     ]
    }
   ],
   "source": [
    "# run reverse diffusion process\n",
    "samples_val = sample(val_dataset, model, args)\n",
    "# samples_val now contains all the graphs, with graph[\"ligand\"] contains the positions predicted by the model"
   ]
  },
  {
   "cell_type": "code",
   "execution_count": 42,
   "metadata": {},
   "outputs": [],
   "source": [
    "val_score = evaluate_pose(val_dataset, samples_val)"
   ]
  },
  {
   "cell_type": "code",
   "execution_count": 43,
   "metadata": {},
   "outputs": [
    {
     "name": "stdout",
     "output_type": "stream",
     "text": [
      "{'rmsds_lt2': 8.0, 'rmsds_lt5': 14.0, 'rmsds_lt10': 18.0, 'rmsds_mean': 39.8523, 'rmsds_median': 41.25315}\n"
     ]
    }
   ],
   "source": [
    "rmsds = np.array(val_score[\"rmsd\"])\n",
    "reverse_diffusion_metrics = {'rmsds_lt2': (100 * (rmsds < 2).sum() / len(rmsds)),\n",
    "                             'rmsds_lt5': (100 * (rmsds < 5).sum() / len(rmsds)),\n",
    "                             'rmsds_lt10': (100 * (rmsds < 10).sum() / len(rmsds)),\n",
    "                             'rmsds_mean': rmsds.mean(),\n",
    "                             'rmsds_median': np.median(rmsds)}\n",
    "print(reverse_diffusion_metrics)"
   ]
  },
  {
   "cell_type": "code",
   "execution_count": null,
   "metadata": {},
   "outputs": [],
   "source": []
  },
  {
   "cell_type": "code",
   "execution_count": null,
   "metadata": {},
   "outputs": [],
   "source": []
  },
  {
   "cell_type": "code",
   "execution_count": null,
   "metadata": {},
   "outputs": [],
   "source": []
  },
  {
   "cell_type": "code",
   "execution_count": null,
   "metadata": {},
   "outputs": [],
   "source": []
  },
  {
   "cell_type": "markdown",
   "metadata": {},
   "source": [
    "## TOP5"
   ]
  },
  {
   "cell_type": "code",
   "execution_count": 19,
   "metadata": {},
   "outputs": [
    {
     "name": "stderr",
     "output_type": "stream",
     "text": [
      "\r",
      "  0%|          | 0/5 [00:00<?, ?it/s]"
     ]
    },
    {
     "name": "stdout",
     "output_type": "stream",
     "text": [
      "----------------- in iteration 0 -----------------\n",
      "04:14:37 Completed 0 out of 40 steps\n",
      "04:14:53 Completed 1 out of 40 steps\n",
      "04:15:09 Completed 2 out of 40 steps\n",
      "04:15:25 Completed 3 out of 40 steps\n",
      "04:15:40 Completed 4 out of 40 steps\n",
      "04:15:54 Completed 5 out of 40 steps\n",
      "04:16:08 Completed 6 out of 40 steps\n",
      "04:16:20 Completed 7 out of 40 steps\n",
      "04:16:32 Completed 8 out of 40 steps\n",
      "04:16:43 Completed 9 out of 40 steps\n",
      "04:16:52 Completed 10 out of 40 steps\n",
      "04:17:02 Completed 11 out of 40 steps\n",
      "04:17:10 Completed 12 out of 40 steps\n",
      "04:17:19 Completed 13 out of 40 steps\n",
      "04:17:27 Completed 14 out of 40 steps\n",
      "04:17:35 Completed 15 out of 40 steps\n",
      "04:17:42 Completed 16 out of 40 steps\n",
      "04:17:49 Completed 17 out of 40 steps\n",
      "04:17:56 Completed 18 out of 40 steps\n",
      "04:18:03 Completed 19 out of 40 steps\n",
      "04:18:10 Completed 20 out of 40 steps\n",
      "04:18:17 Completed 21 out of 40 steps\n",
      "04:18:23 Completed 22 out of 40 steps\n",
      "04:18:30 Completed 23 out of 40 steps\n",
      "04:18:36 Completed 24 out of 40 steps\n",
      "04:18:42 Completed 25 out of 40 steps\n",
      "04:18:49 Completed 26 out of 40 steps\n",
      "04:18:55 Completed 27 out of 40 steps\n",
      "04:19:01 Completed 28 out of 40 steps\n",
      "04:19:08 Completed 29 out of 40 steps\n",
      "04:19:14 Completed 30 out of 40 steps\n",
      "04:19:20 Completed 31 out of 40 steps\n",
      "04:19:26 Completed 32 out of 40 steps\n",
      "04:19:32 Completed 33 out of 40 steps\n",
      "04:19:38 Completed 34 out of 40 steps\n",
      "04:19:44 Completed 35 out of 40 steps\n",
      "04:19:50 Completed 36 out of 40 steps\n",
      "04:19:56 Completed 37 out of 40 steps\n",
      "04:20:03 Completed 38 out of 40 steps\n"
     ]
    },
    {
     "name": "stderr",
     "output_type": "stream",
     "text": [
      "\r",
      " 20%|██        | 1/5 [05:50<23:20, 350.10s/it]"
     ]
    },
    {
     "name": "stdout",
     "output_type": "stream",
     "text": [
      "04:20:09 Completed 39 out of 40 steps\n",
      "in iteration 0: mean is 37.2067756652832\n",
      "in iteration 0: mean with confidence model is 37.20677823066711\n",
      "----------------- in iteration 1 -----------------\n",
      "04:20:27 Completed 0 out of 40 steps\n",
      "04:20:44 Completed 1 out of 40 steps\n",
      "04:21:01 Completed 2 out of 40 steps\n",
      "04:21:17 Completed 3 out of 40 steps\n",
      "04:21:32 Completed 4 out of 40 steps\n",
      "04:21:47 Completed 5 out of 40 steps\n",
      "04:22:01 Completed 6 out of 40 steps\n",
      "04:22:14 Completed 7 out of 40 steps\n",
      "04:22:27 Completed 8 out of 40 steps\n",
      "04:22:38 Completed 9 out of 40 steps\n",
      "04:22:49 Completed 10 out of 40 steps\n",
      "04:22:59 Completed 11 out of 40 steps\n",
      "04:23:09 Completed 12 out of 40 steps\n",
      "04:23:18 Completed 13 out of 40 steps\n",
      "04:23:26 Completed 14 out of 40 steps\n",
      "04:23:34 Completed 15 out of 40 steps\n",
      "04:23:42 Completed 16 out of 40 steps\n",
      "04:23:49 Completed 17 out of 40 steps\n",
      "04:23:57 Completed 18 out of 40 steps\n",
      "04:24:04 Completed 19 out of 40 steps\n",
      "04:24:11 Completed 20 out of 40 steps\n",
      "04:24:18 Completed 21 out of 40 steps\n",
      "04:24:24 Completed 22 out of 40 steps\n",
      "04:24:31 Completed 23 out of 40 steps\n",
      "04:24:38 Completed 24 out of 40 steps\n",
      "04:24:44 Completed 25 out of 40 steps\n",
      "04:24:51 Completed 26 out of 40 steps\n",
      "04:24:57 Completed 27 out of 40 steps\n",
      "04:25:04 Completed 28 out of 40 steps\n",
      "04:25:10 Completed 29 out of 40 steps\n",
      "04:25:17 Completed 30 out of 40 steps\n",
      "04:25:23 Completed 31 out of 40 steps\n",
      "04:25:30 Completed 32 out of 40 steps\n",
      "04:25:36 Completed 33 out of 40 steps\n",
      "04:25:43 Completed 34 out of 40 steps\n",
      "04:25:49 Completed 35 out of 40 steps\n",
      "04:25:55 Completed 36 out of 40 steps\n",
      "04:26:02 Completed 37 out of 40 steps\n",
      "04:26:08 Completed 38 out of 40 steps\n"
     ]
    },
    {
     "name": "stderr",
     "output_type": "stream",
     "text": [
      "\r",
      " 40%|████      | 2/5 [11:55<17:57, 359.21s/it]"
     ]
    },
    {
     "name": "stdout",
     "output_type": "stream",
     "text": [
      "04:26:14 Completed 39 out of 40 steps\n",
      "in iteration 1: mean is 36.8116569519043\n",
      "in iteration 1: mean with confidence model is 28.087495579123498\n",
      "----------------- in iteration 2 -----------------\n",
      "04:26:33 Completed 0 out of 40 steps\n",
      "04:26:49 Completed 1 out of 40 steps\n",
      "04:27:05 Completed 2 out of 40 steps\n",
      "04:27:21 Completed 3 out of 40 steps\n",
      "04:27:36 Completed 4 out of 40 steps\n",
      "04:27:51 Completed 5 out of 40 steps\n",
      "04:28:04 Completed 6 out of 40 steps\n",
      "04:28:17 Completed 7 out of 40 steps\n",
      "04:28:28 Completed 8 out of 40 steps\n",
      "04:28:39 Completed 9 out of 40 steps\n",
      "04:28:49 Completed 10 out of 40 steps\n",
      "04:28:58 Completed 11 out of 40 steps\n",
      "04:29:07 Completed 12 out of 40 steps\n",
      "04:29:15 Completed 13 out of 40 steps\n",
      "04:29:23 Completed 14 out of 40 steps\n",
      "04:29:31 Completed 15 out of 40 steps\n",
      "04:29:38 Completed 16 out of 40 steps\n",
      "04:29:45 Completed 17 out of 40 steps\n",
      "04:29:52 Completed 18 out of 40 steps\n",
      "04:29:59 Completed 19 out of 40 steps\n",
      "04:30:06 Completed 20 out of 40 steps\n",
      "04:30:13 Completed 21 out of 40 steps\n",
      "04:30:19 Completed 22 out of 40 steps\n",
      "04:30:26 Completed 23 out of 40 steps\n",
      "04:30:32 Completed 24 out of 40 steps\n",
      "04:30:39 Completed 25 out of 40 steps\n",
      "04:30:45 Completed 26 out of 40 steps\n",
      "04:30:51 Completed 27 out of 40 steps\n",
      "04:30:58 Completed 28 out of 40 steps\n",
      "04:31:04 Completed 29 out of 40 steps\n",
      "04:31:11 Completed 30 out of 40 steps\n",
      "04:31:17 Completed 31 out of 40 steps\n",
      "04:31:23 Completed 32 out of 40 steps\n",
      "04:31:30 Completed 33 out of 40 steps\n",
      "04:31:36 Completed 34 out of 40 steps\n",
      "04:31:42 Completed 35 out of 40 steps\n",
      "04:31:48 Completed 36 out of 40 steps\n",
      "04:31:55 Completed 37 out of 40 steps\n",
      "04:32:01 Completed 38 out of 40 steps\n"
     ]
    },
    {
     "name": "stderr",
     "output_type": "stream",
     "text": [
      "\r",
      " 60%|██████    | 3/5 [17:48<11:52, 356.15s/it]"
     ]
    },
    {
     "name": "stdout",
     "output_type": "stream",
     "text": [
      "04:32:07 Completed 39 out of 40 steps\n",
      "in iteration 2: mean is 39.16838073730469\n",
      "in iteration 2: mean with confidence model is 22.48971390247345\n",
      "----------------- in iteration 3 -----------------\n",
      "04:32:26 Completed 0 out of 40 steps\n",
      "04:32:42 Completed 1 out of 40 steps\n",
      "04:32:58 Completed 2 out of 40 steps\n",
      "04:33:14 Completed 3 out of 40 steps\n",
      "04:33:29 Completed 4 out of 40 steps\n",
      "04:33:42 Completed 5 out of 40 steps\n",
      "04:33:55 Completed 6 out of 40 steps\n",
      "04:34:07 Completed 7 out of 40 steps\n",
      "04:34:18 Completed 8 out of 40 steps\n",
      "04:34:29 Completed 9 out of 40 steps\n",
      "04:34:39 Completed 10 out of 40 steps\n",
      "04:34:47 Completed 11 out of 40 steps\n",
      "04:34:56 Completed 12 out of 40 steps\n",
      "04:35:04 Completed 13 out of 40 steps\n",
      "04:35:11 Completed 14 out of 40 steps\n",
      "04:35:18 Completed 15 out of 40 steps\n",
      "04:35:25 Completed 16 out of 40 steps\n",
      "04:35:32 Completed 17 out of 40 steps\n",
      "04:35:38 Completed 18 out of 40 steps\n",
      "04:35:44 Completed 19 out of 40 steps\n",
      "04:35:51 Completed 20 out of 40 steps\n",
      "04:35:57 Completed 21 out of 40 steps\n",
      "04:36:03 Completed 22 out of 40 steps\n",
      "04:36:09 Completed 23 out of 40 steps\n",
      "04:36:15 Completed 24 out of 40 steps\n",
      "04:36:21 Completed 25 out of 40 steps\n",
      "04:36:27 Completed 26 out of 40 steps\n",
      "04:36:33 Completed 27 out of 40 steps\n",
      "04:36:39 Completed 28 out of 40 steps\n",
      "04:36:45 Completed 29 out of 40 steps\n",
      "04:36:50 Completed 30 out of 40 steps\n",
      "04:36:56 Completed 31 out of 40 steps\n",
      "04:37:02 Completed 32 out of 40 steps\n",
      "04:37:08 Completed 33 out of 40 steps\n",
      "04:37:14 Completed 34 out of 40 steps\n",
      "04:37:20 Completed 35 out of 40 steps\n",
      "04:37:26 Completed 36 out of 40 steps\n",
      "04:37:31 Completed 37 out of 40 steps\n",
      "04:37:37 Completed 38 out of 40 steps\n"
     ]
    },
    {
     "name": "stderr",
     "output_type": "stream",
     "text": [
      "\r",
      " 80%|████████  | 4/5 [23:24<05:48, 348.19s/it]"
     ]
    },
    {
     "name": "stdout",
     "output_type": "stream",
     "text": [
      "04:37:43 Completed 39 out of 40 steps\n",
      "in iteration 3: mean is 36.95976257324219\n",
      "in iteration 3: mean with confidence model is 20.181509137153625\n",
      "----------------- in iteration 4 -----------------\n",
      "04:38:01 Completed 0 out of 40 steps\n",
      "04:38:18 Completed 1 out of 40 steps\n",
      "04:38:34 Completed 2 out of 40 steps\n",
      "04:38:50 Completed 3 out of 40 steps\n",
      "04:39:05 Completed 4 out of 40 steps\n",
      "04:39:19 Completed 5 out of 40 steps\n",
      "04:39:32 Completed 6 out of 40 steps\n",
      "04:39:45 Completed 7 out of 40 steps\n",
      "04:39:57 Completed 8 out of 40 steps\n",
      "04:40:08 Completed 9 out of 40 steps\n",
      "04:40:18 Completed 10 out of 40 steps\n",
      "04:40:28 Completed 11 out of 40 steps\n",
      "04:40:38 Completed 12 out of 40 steps\n",
      "04:40:47 Completed 13 out of 40 steps\n",
      "04:40:55 Completed 14 out of 40 steps\n",
      "04:41:03 Completed 15 out of 40 steps\n",
      "04:41:11 Completed 16 out of 40 steps\n",
      "04:41:19 Completed 17 out of 40 steps\n",
      "04:41:26 Completed 18 out of 40 steps\n",
      "04:41:33 Completed 19 out of 40 steps\n",
      "04:41:40 Completed 20 out of 40 steps\n",
      "04:41:48 Completed 21 out of 40 steps\n",
      "04:41:54 Completed 22 out of 40 steps\n",
      "04:42:01 Completed 23 out of 40 steps\n",
      "04:42:08 Completed 24 out of 40 steps\n",
      "04:42:14 Completed 25 out of 40 steps\n",
      "04:42:21 Completed 26 out of 40 steps\n",
      "04:42:27 Completed 27 out of 40 steps\n",
      "04:42:34 Completed 28 out of 40 steps\n",
      "04:42:40 Completed 29 out of 40 steps\n",
      "04:42:47 Completed 30 out of 40 steps\n",
      "04:42:53 Completed 31 out of 40 steps\n",
      "04:43:00 Completed 32 out of 40 steps\n",
      "04:43:06 Completed 33 out of 40 steps\n",
      "04:43:13 Completed 34 out of 40 steps\n",
      "04:43:19 Completed 35 out of 40 steps\n",
      "04:43:26 Completed 36 out of 40 steps\n",
      "04:43:32 Completed 37 out of 40 steps\n",
      "04:43:38 Completed 38 out of 40 steps\n"
     ]
    },
    {
     "name": "stderr",
     "output_type": "stream",
     "text": [
      "100%|██████████| 5/5 [29:25<00:00, 353.18s/it]"
     ]
    },
    {
     "name": "stdout",
     "output_type": "stream",
     "text": [
      "04:43:45 Completed 39 out of 40 steps\n",
      "in iteration 4: mean is 36.70817565917969\n",
      "in iteration 4: mean with confidence model is 18.381002537608147\n",
      "Final result: 18.381002537608147\n"
     ]
    },
    {
     "name": "stderr",
     "output_type": "stream",
     "text": [
      "\n"
     ]
    }
   ],
   "source": [
    "n_runs = 5\n",
    "rmsds_top5 = np.full(len(val_dataset), np.inf)\n",
    "for i in tqdm(range(n_runs)):\n",
    "    print(f'----------------- in iteration {i} -----------------')\n",
    "    # run reverse diffusion process\n",
    "    samples_val = sample(val_dataset, model, args)\n",
    "    # samples_val now contains all the graphs, with graph[\"ligand\"] contains the positions predicted by the model\n",
    "    val_score = evaluate_pose(val_dataset, samples_val)\n",
    "    rmsds_i = np.array(val_score[\"rmsd\"])\n",
    "    print(f'in iteration {i}: mean is {rmsds_i.mean()}')\n",
    "    rmsds_top5 = np.minimum(rmsds_top5, rmsds_i)\n",
    "    print(f'in iteration {i}: mean with confidence model is {rmsds_top5.mean()}')\n",
    "print(f'Final result: {rmsds_top5.mean()}')"
   ]
  },
  {
   "cell_type": "code",
   "execution_count": 35,
   "metadata": {},
   "outputs": [
    {
     "data": {
      "text/plain": [
       "array([53.46282959, 53.19362259,  0.6379019 ,  2.92285776, 21.42480087,\n",
       "       10.45095444,  0.6221807 ,  4.80261898,  4.14194965,  0.98054582,\n",
       "        2.88560534,  2.24601984,  2.1364162 , 43.16273117, 28.72454453,\n",
       "        0.78918064,  3.73767829,  6.21679449, 44.56354141, 13.36374569,\n",
       "        9.75408649, 22.08468628, 24.14403343, 58.44140244, 48.95568466,\n",
       "       25.48816299, 59.46939468,  3.22588587, 35.95549011, 23.48176003,\n",
       "        4.95803261, 20.43234062,  1.60881162,  1.65167415,  6.16278648,\n",
       "       46.36700058, 39.18304443,  0.59602511,  3.00870228, 16.03627586,\n",
       "       30.67551422,  2.38860583, 19.18674278, 14.27074623, 16.58966446,\n",
       "        7.08420849,  1.49936676,  6.4408412 ,  1.4611975 ,  0.90240657,\n",
       "        5.52811766,  1.56534076, 28.91121292,  3.17402792,  3.72631931,\n",
       "       22.47725105,  1.68672764, 51.10634232,  2.8482523 , 10.1975317 ,\n",
       "       22.46019554, 11.90663433,  0.72928089,  1.31657338, 21.9049015 ,\n",
       "       40.58083344, 29.26492882, 46.34368134,  2.63078189, 19.35592461,\n",
       "        0.94745874, 64.4651413 , 79.59577179, 31.51454544,  2.06883359,\n",
       "       36.74121857, 15.40059566, 21.95094681,  0.96588802, 43.61329269,\n",
       "        5.1265583 ,  7.00465631, 42.23907852, 31.92468262, 24.62867546,\n",
       "        6.04077053, 17.23392487,  1.03694189, 16.75294876, 79.95497894,\n",
       "       48.74821854, 12.96110058,  0.75784397,  3.75004077,  9.98739529,\n",
       "        2.88841558,  0.66722649,  4.0778842 , 13.6953516 , 31.67391396])"
      ]
     },
     "execution_count": 35,
     "metadata": {},
     "output_type": "execute_result"
    }
   ],
   "source": [
    "rmsds_top5"
   ]
  },
  {
   "cell_type": "code",
   "execution_count": 21,
   "metadata": {},
   "outputs": [
    {
     "name": "stdout",
     "output_type": "stream",
     "text": [
      "{'rmsds_top5_lt2': 19.0, 'rmsds_top5_lt5': 38.0, 'rmsds_top5_lt10': 48.0, 'rmsds_top5_mean': 18.381002537608147, 'rmsds_top5_median': 11.178794384002686}\n"
     ]
    }
   ],
   "source": [
    "reverse_diffusion_metrics_top5 = {'rmsds_top5_lt2': (100 * (rmsds_top5 < 2).sum() / len(rmsds_top5)),\n",
    "                             'rmsds_top5_lt5': (100 * (rmsds_top5 < 5).sum() / len(rmsds_top5)),\n",
    "                             'rmsds_top5_lt10': (100 * (rmsds_top5 < 10).sum() / len(rmsds_top5)),\n",
    "                             'rmsds_top5_mean': rmsds_top5.mean(),\n",
    "                             'rmsds_top5_median': np.median(rmsds_top5)}\n",
    "print(reverse_diffusion_metrics_top5)"
   ]
  },
  {
   "cell_type": "code",
   "execution_count": 26,
   "metadata": {},
   "outputs": [
    {
     "data": {
      "text/plain": [
       "[Text(0.5, 1.0, 'TOP 5'), Text(0.5, 0, 'Ligand RMSD')]"
      ]
     },
     "execution_count": 26,
     "metadata": {},
     "output_type": "execute_result"
    },
    {
     "data": {
      "image/png": "[encoded data removed]",
      "text/plain": [
       "<Figure size 640x480 with 1 Axes>"
      ]
     },
     "metadata": {},
     "output_type": "display_data"
    }
   ],
   "source": [
    "rmsds_top5_copy = copy.deepcopy(rmsds_top5)\n",
    "histplot(data=rmsds_top5_copy, binwidth=1).set(title='TOP 5', xlabel='Ligand RMSD')"
   ]
  },
  {
   "cell_type": "markdown",
   "metadata": {},
   "source": [
    "## TOP 10"
   ]
  },
  {
   "cell_type": "code",
   "execution_count": 27,
   "metadata": {},
   "outputs": [
    {
     "name": "stderr",
     "output_type": "stream",
     "text": [
      "\r",
      "  0%|          | 0/10 [00:00<?, ?it/s]"
     ]
    },
    {
     "name": "stdout",
     "output_type": "stream",
     "text": [
      "----------------- in iteration 0 -----------------\n",
      "04:58:26 Completed 0 out of 40 steps\n",
      "04:58:42 Completed 1 out of 40 steps\n",
      "04:58:58 Completed 2 out of 40 steps\n",
      "04:59:13 Completed 3 out of 40 steps\n",
      "04:59:28 Completed 4 out of 40 steps\n",
      "04:59:41 Completed 5 out of 40 steps\n",
      "04:59:54 Completed 6 out of 40 steps\n",
      "05:00:06 Completed 7 out of 40 steps\n",
      "05:00:17 Completed 8 out of 40 steps\n",
      "05:00:27 Completed 9 out of 40 steps\n",
      "05:00:37 Completed 10 out of 40 steps\n",
      "05:00:46 Completed 11 out of 40 steps\n",
      "05:00:54 Completed 12 out of 40 steps\n",
      "05:01:02 Completed 13 out of 40 steps\n",
      "05:01:10 Completed 14 out of 40 steps\n",
      "05:01:17 Completed 15 out of 40 steps\n",
      "05:01:24 Completed 16 out of 40 steps\n",
      "05:01:31 Completed 17 out of 40 steps\n",
      "05:01:38 Completed 18 out of 40 steps\n",
      "05:01:44 Completed 19 out of 40 steps\n",
      "05:01:50 Completed 20 out of 40 steps\n",
      "05:01:57 Completed 21 out of 40 steps\n",
      "05:02:03 Completed 22 out of 40 steps\n",
      "05:02:09 Completed 23 out of 40 steps\n",
      "05:02:15 Completed 24 out of 40 steps\n",
      "05:02:21 Completed 25 out of 40 steps\n",
      "05:02:27 Completed 26 out of 40 steps\n",
      "05:02:32 Completed 27 out of 40 steps\n",
      "05:02:38 Completed 28 out of 40 steps\n",
      "05:02:44 Completed 29 out of 40 steps\n",
      "05:02:50 Completed 30 out of 40 steps\n",
      "05:02:56 Completed 31 out of 40 steps\n",
      "05:03:01 Completed 32 out of 40 steps\n",
      "05:03:07 Completed 33 out of 40 steps\n",
      "05:03:13 Completed 34 out of 40 steps\n",
      "05:03:19 Completed 35 out of 40 steps\n",
      "05:03:25 Completed 36 out of 40 steps\n",
      "05:03:30 Completed 37 out of 40 steps\n",
      "05:03:36 Completed 38 out of 40 steps\n",
      "05:03:42 Completed 39 out of 40 steps\n"
     ]
    },
    {
     "name": "stderr",
     "output_type": "stream",
     "text": [
      "\r",
      " 10%|█         | 1/10 [05:34<50:10, 334.53s/it]"
     ]
    },
    {
     "name": "stdout",
     "output_type": "stream",
     "text": [
      "in iteration 0: mean is 38.20854568481445\n",
      "in iteration 0: mean with confidence model is 38.20854960203171\n",
      "----------------- in iteration 1 -----------------\n",
      "05:04:00 Completed 0 out of 40 steps\n",
      "05:04:16 Completed 1 out of 40 steps\n",
      "05:04:33 Completed 2 out of 40 steps\n",
      "05:04:49 Completed 3 out of 40 steps\n",
      "05:05:05 Completed 4 out of 40 steps\n",
      "05:05:19 Completed 5 out of 40 steps\n",
      "05:05:33 Completed 6 out of 40 steps\n",
      "05:05:47 Completed 7 out of 40 steps\n",
      "05:05:59 Completed 8 out of 40 steps\n",
      "05:06:10 Completed 9 out of 40 steps\n",
      "05:06:20 Completed 10 out of 40 steps\n",
      "05:06:30 Completed 11 out of 40 steps\n",
      "05:06:39 Completed 12 out of 40 steps\n",
      "05:06:47 Completed 13 out of 40 steps\n",
      "05:06:55 Completed 14 out of 40 steps\n",
      "05:07:03 Completed 15 out of 40 steps\n",
      "05:07:10 Completed 16 out of 40 steps\n",
      "05:07:17 Completed 17 out of 40 steps\n",
      "05:07:24 Completed 18 out of 40 steps\n",
      "05:07:31 Completed 19 out of 40 steps\n",
      "05:07:38 Completed 20 out of 40 steps\n",
      "05:07:45 Completed 21 out of 40 steps\n",
      "05:07:51 Completed 22 out of 40 steps\n",
      "05:07:58 Completed 23 out of 40 steps\n",
      "05:08:04 Completed 24 out of 40 steps\n",
      "05:08:11 Completed 25 out of 40 steps\n",
      "05:08:17 Completed 26 out of 40 steps\n",
      "05:08:23 Completed 27 out of 40 steps\n",
      "05:08:30 Completed 28 out of 40 steps\n",
      "05:08:36 Completed 29 out of 40 steps\n",
      "05:08:42 Completed 30 out of 40 steps\n",
      "05:08:48 Completed 31 out of 40 steps\n",
      "05:08:55 Completed 32 out of 40 steps\n",
      "05:09:01 Completed 33 out of 40 steps\n",
      "05:09:07 Completed 34 out of 40 steps\n",
      "05:09:14 Completed 35 out of 40 steps\n",
      "05:09:20 Completed 36 out of 40 steps\n",
      "05:09:26 Completed 37 out of 40 steps\n",
      "05:09:32 Completed 38 out of 40 steps\n"
     ]
    },
    {
     "name": "stderr",
     "output_type": "stream",
     "text": [
      "\r",
      " 20%|██        | 2/10 [11:30<46:16, 347.05s/it]"
     ]
    },
    {
     "name": "stdout",
     "output_type": "stream",
     "text": [
      "05:09:38 Completed 39 out of 40 steps\n",
      "in iteration 1: mean is 35.59917068481445\n",
      "in iteration 1: mean with confidence model is 27.56089868605137\n",
      "----------------- in iteration 2 -----------------\n",
      "05:09:57 Completed 0 out of 40 steps\n",
      "05:10:14 Completed 1 out of 40 steps\n",
      "05:10:30 Completed 2 out of 40 steps\n",
      "05:10:46 Completed 3 out of 40 steps\n",
      "05:11:00 Completed 4 out of 40 steps\n",
      "05:11:14 Completed 5 out of 40 steps\n",
      "05:11:28 Completed 6 out of 40 steps\n",
      "05:11:41 Completed 7 out of 40 steps\n",
      "05:11:53 Completed 8 out of 40 steps\n",
      "05:12:04 Completed 9 out of 40 steps\n",
      "05:12:14 Completed 10 out of 40 steps\n",
      "05:12:24 Completed 11 out of 40 steps\n",
      "05:12:33 Completed 12 out of 40 steps\n",
      "05:12:42 Completed 13 out of 40 steps\n",
      "05:12:50 Completed 14 out of 40 steps\n",
      "05:12:58 Completed 15 out of 40 steps\n",
      "05:13:05 Completed 16 out of 40 steps\n",
      "05:13:12 Completed 17 out of 40 steps\n",
      "05:13:19 Completed 18 out of 40 steps\n",
      "05:13:26 Completed 19 out of 40 steps\n",
      "05:13:33 Completed 20 out of 40 steps\n",
      "05:13:40 Completed 21 out of 40 steps\n",
      "05:13:47 Completed 22 out of 40 steps\n",
      "05:13:53 Completed 23 out of 40 steps\n",
      "05:14:00 Completed 24 out of 40 steps\n",
      "05:14:06 Completed 25 out of 40 steps\n",
      "05:14:12 Completed 26 out of 40 steps\n",
      "05:14:19 Completed 27 out of 40 steps\n",
      "05:14:25 Completed 28 out of 40 steps\n",
      "05:14:32 Completed 29 out of 40 steps\n",
      "05:14:38 Completed 30 out of 40 steps\n",
      "05:14:44 Completed 31 out of 40 steps\n",
      "05:14:50 Completed 32 out of 40 steps\n",
      "05:14:57 Completed 33 out of 40 steps\n",
      "05:15:03 Completed 34 out of 40 steps\n",
      "05:15:09 Completed 35 out of 40 steps\n",
      "05:15:15 Completed 36 out of 40 steps\n",
      "05:15:21 Completed 37 out of 40 steps\n",
      "05:15:27 Completed 38 out of 40 steps\n",
      "05:15:34 Completed 39 out of 40 steps\n"
     ]
    },
    {
     "name": "stderr",
     "output_type": "stream",
     "text": [
      "\r",
      " 30%|███       | 3/10 [17:26<40:57, 351.02s/it]"
     ]
    },
    {
     "name": "stdout",
     "output_type": "stream",
     "text": [
      "in iteration 2: mean is 37.40066146850586\n",
      "in iteration 2: mean with confidence model is 23.361004276871682\n",
      "----------------- in iteration 3 -----------------\n",
      "05:15:52 Completed 0 out of 40 steps\n",
      "05:16:09 Completed 1 out of 40 steps\n",
      "05:16:25 Completed 2 out of 40 steps\n",
      "05:16:41 Completed 3 out of 40 steps\n",
      "05:16:56 Completed 4 out of 40 steps\n",
      "05:17:10 Completed 5 out of 40 steps\n",
      "05:17:23 Completed 6 out of 40 steps\n",
      "05:17:36 Completed 7 out of 40 steps\n",
      "05:17:48 Completed 8 out of 40 steps\n",
      "05:17:58 Completed 9 out of 40 steps\n",
      "05:18:08 Completed 10 out of 40 steps\n",
      "05:18:17 Completed 11 out of 40 steps\n",
      "05:18:26 Completed 12 out of 40 steps\n",
      "05:18:34 Completed 13 out of 40 steps\n",
      "05:18:42 Completed 14 out of 40 steps\n",
      "05:18:50 Completed 15 out of 40 steps\n",
      "05:18:57 Completed 16 out of 40 steps\n",
      "05:19:04 Completed 17 out of 40 steps\n",
      "05:19:11 Completed 18 out of 40 steps\n",
      "05:19:18 Completed 19 out of 40 steps\n",
      "05:19:24 Completed 20 out of 40 steps\n",
      "05:19:31 Completed 21 out of 40 steps\n",
      "05:19:37 Completed 22 out of 40 steps\n",
      "05:19:43 Completed 23 out of 40 steps\n",
      "05:19:49 Completed 24 out of 40 steps\n",
      "05:19:56 Completed 25 out of 40 steps\n",
      "05:20:02 Completed 26 out of 40 steps\n",
      "05:20:08 Completed 27 out of 40 steps\n",
      "05:20:14 Completed 28 out of 40 steps\n",
      "05:20:20 Completed 29 out of 40 steps\n",
      "05:20:27 Completed 30 out of 40 steps\n",
      "05:20:33 Completed 31 out of 40 steps\n",
      "05:20:39 Completed 32 out of 40 steps\n",
      "05:20:45 Completed 33 out of 40 steps\n",
      "05:20:51 Completed 34 out of 40 steps\n",
      "05:20:57 Completed 35 out of 40 steps\n",
      "05:21:03 Completed 36 out of 40 steps\n",
      "05:21:09 Completed 37 out of 40 steps\n",
      "05:21:14 Completed 38 out of 40 steps\n"
     ]
    },
    {
     "name": "stderr",
     "output_type": "stream",
     "text": [
      "\r",
      " 40%|████      | 4/10 [23:12<34:55, 349.30s/it]"
     ]
    },
    {
     "name": "stdout",
     "output_type": "stream",
     "text": [
      "05:21:20 Completed 39 out of 40 steps\n",
      "in iteration 3: mean is 38.00582504272461\n",
      "in iteration 3: mean with confidence model is 21.212053907513617\n",
      "----------------- in iteration 4 -----------------\n",
      "05:21:39 Completed 0 out of 40 steps\n",
      "05:21:55 Completed 1 out of 40 steps\n",
      "05:22:12 Completed 2 out of 40 steps\n",
      "05:22:28 Completed 3 out of 40 steps\n",
      "05:22:44 Completed 4 out of 40 steps\n",
      "05:22:59 Completed 5 out of 40 steps\n",
      "05:23:13 Completed 6 out of 40 steps\n",
      "05:23:27 Completed 7 out of 40 steps\n",
      "05:23:39 Completed 8 out of 40 steps\n",
      "05:23:51 Completed 9 out of 40 steps\n",
      "05:24:01 Completed 10 out of 40 steps\n",
      "05:24:11 Completed 11 out of 40 steps\n",
      "05:24:21 Completed 12 out of 40 steps\n",
      "05:24:30 Completed 13 out of 40 steps\n",
      "05:24:38 Completed 14 out of 40 steps\n",
      "05:24:47 Completed 15 out of 40 steps\n",
      "05:24:54 Completed 16 out of 40 steps\n",
      "05:25:02 Completed 17 out of 40 steps\n",
      "05:25:10 Completed 18 out of 40 steps\n",
      "05:25:17 Completed 19 out of 40 steps\n",
      "05:25:24 Completed 20 out of 40 steps\n",
      "05:25:31 Completed 21 out of 40 steps\n",
      "05:25:38 Completed 22 out of 40 steps\n",
      "05:25:45 Completed 23 out of 40 steps\n",
      "05:25:52 Completed 24 out of 40 steps\n",
      "05:25:59 Completed 25 out of 40 steps\n",
      "05:26:06 Completed 26 out of 40 steps\n",
      "05:26:12 Completed 27 out of 40 steps\n",
      "05:26:19 Completed 28 out of 40 steps\n",
      "05:26:25 Completed 29 out of 40 steps\n",
      "05:26:32 Completed 30 out of 40 steps\n",
      "05:26:38 Completed 31 out of 40 steps\n",
      "05:26:45 Completed 32 out of 40 steps\n",
      "05:26:51 Completed 33 out of 40 steps\n",
      "05:26:58 Completed 34 out of 40 steps\n",
      "05:27:05 Completed 35 out of 40 steps\n",
      "05:27:11 Completed 36 out of 40 steps\n",
      "05:27:17 Completed 37 out of 40 steps\n",
      "05:27:24 Completed 38 out of 40 steps\n"
     ]
    },
    {
     "name": "stderr",
     "output_type": "stream",
     "text": [
      "\r",
      " 50%|█████     | 5/10 [29:22<29:43, 356.70s/it]"
     ]
    },
    {
     "name": "stdout",
     "output_type": "stream",
     "text": [
      "05:27:30 Completed 39 out of 40 steps\n",
      "in iteration 4: mean is 35.54689025878906\n",
      "in iteration 4: mean with confidence model is 18.289339078068732\n",
      "----------------- in iteration 5 -----------------\n",
      "05:27:49 Completed 0 out of 40 steps\n",
      "05:28:06 Completed 1 out of 40 steps\n",
      "05:28:22 Completed 2 out of 40 steps\n",
      "05:28:39 Completed 3 out of 40 steps\n",
      "05:28:55 Completed 4 out of 40 steps\n",
      "05:29:10 Completed 5 out of 40 steps\n",
      "05:29:25 Completed 6 out of 40 steps\n",
      "05:29:38 Completed 7 out of 40 steps\n",
      "05:29:50 Completed 8 out of 40 steps\n",
      "05:30:02 Completed 9 out of 40 steps\n",
      "05:30:13 Completed 10 out of 40 steps\n",
      "05:30:23 Completed 11 out of 40 steps\n",
      "05:30:32 Completed 12 out of 40 steps\n",
      "05:30:41 Completed 13 out of 40 steps\n",
      "05:30:50 Completed 14 out of 40 steps\n",
      "05:30:58 Completed 15 out of 40 steps\n",
      "05:31:06 Completed 16 out of 40 steps\n",
      "05:31:13 Completed 17 out of 40 steps\n",
      "05:31:20 Completed 18 out of 40 steps\n",
      "05:31:27 Completed 19 out of 40 steps\n",
      "05:31:34 Completed 20 out of 40 steps\n",
      "05:31:41 Completed 21 out of 40 steps\n",
      "05:31:48 Completed 22 out of 40 steps\n",
      "05:31:54 Completed 23 out of 40 steps\n",
      "05:32:01 Completed 24 out of 40 steps\n",
      "05:32:07 Completed 25 out of 40 steps\n",
      "05:32:14 Completed 26 out of 40 steps\n",
      "05:32:20 Completed 27 out of 40 steps\n",
      "05:32:26 Completed 28 out of 40 steps\n",
      "05:32:33 Completed 29 out of 40 steps\n",
      "05:32:39 Completed 30 out of 40 steps\n",
      "05:32:45 Completed 31 out of 40 steps\n",
      "05:32:51 Completed 32 out of 40 steps\n",
      "05:32:58 Completed 33 out of 40 steps\n",
      "05:33:04 Completed 34 out of 40 steps\n",
      "05:33:10 Completed 35 out of 40 steps\n",
      "05:33:16 Completed 36 out of 40 steps\n",
      "05:33:23 Completed 37 out of 40 steps\n",
      "05:33:29 Completed 38 out of 40 steps\n"
     ]
    },
    {
     "name": "stderr",
     "output_type": "stream",
     "text": [
      "\r",
      " 60%|██████    | 6/10 [35:27<23:57, 359.44s/it]"
     ]
    },
    {
     "name": "stdout",
     "output_type": "stream",
     "text": [
      "05:33:35 Completed 39 out of 40 steps\n",
      "in iteration 5: mean is 37.982421875\n",
      "in iteration 5: mean with confidence model is 17.537189728021623\n",
      "----------------- in iteration 6 -----------------\n",
      "05:33:53 Completed 0 out of 40 steps\n",
      "05:34:10 Completed 1 out of 40 steps\n",
      "05:34:26 Completed 2 out of 40 steps\n",
      "05:34:43 Completed 3 out of 40 steps\n",
      "05:34:58 Completed 4 out of 40 steps\n",
      "05:35:12 Completed 5 out of 40 steps\n",
      "05:35:26 Completed 6 out of 40 steps\n",
      "05:35:38 Completed 7 out of 40 steps\n",
      "05:35:50 Completed 8 out of 40 steps\n",
      "05:36:01 Completed 9 out of 40 steps\n",
      "05:36:10 Completed 10 out of 40 steps\n",
      "05:36:20 Completed 11 out of 40 steps\n",
      "05:36:28 Completed 12 out of 40 steps\n",
      "05:36:37 Completed 13 out of 40 steps\n",
      "05:36:45 Completed 14 out of 40 steps\n",
      "05:36:52 Completed 15 out of 40 steps\n",
      "05:37:00 Completed 16 out of 40 steps\n",
      "05:37:07 Completed 17 out of 40 steps\n",
      "05:37:14 Completed 18 out of 40 steps\n",
      "05:37:21 Completed 19 out of 40 steps\n",
      "05:37:28 Completed 20 out of 40 steps\n",
      "05:37:34 Completed 21 out of 40 steps\n",
      "05:37:41 Completed 22 out of 40 steps\n",
      "05:37:48 Completed 23 out of 40 steps\n",
      "05:37:54 Completed 24 out of 40 steps\n",
      "05:38:00 Completed 25 out of 40 steps\n",
      "05:38:07 Completed 26 out of 40 steps\n",
      "05:38:13 Completed 27 out of 40 steps\n",
      "05:38:19 Completed 28 out of 40 steps\n",
      "05:38:25 Completed 29 out of 40 steps\n",
      "05:38:32 Completed 30 out of 40 steps\n",
      "05:38:38 Completed 31 out of 40 steps\n",
      "05:38:44 Completed 32 out of 40 steps\n",
      "05:38:51 Completed 33 out of 40 steps\n",
      "05:38:57 Completed 34 out of 40 steps\n",
      "05:39:03 Completed 35 out of 40 steps\n",
      "05:39:09 Completed 36 out of 40 steps\n",
      "05:39:15 Completed 37 out of 40 steps\n",
      "05:39:21 Completed 38 out of 40 steps\n"
     ]
    },
    {
     "name": "stderr",
     "output_type": "stream",
     "text": [
      "\r",
      " 70%|███████   | 7/10 [41:19<17:51, 357.16s/it]"
     ]
    },
    {
     "name": "stdout",
     "output_type": "stream",
     "text": [
      "05:39:27 Completed 39 out of 40 steps\n",
      "in iteration 6: mean is 38.457881927490234\n",
      "in iteration 6: mean with confidence model is 16.349540819525718\n",
      "----------------- in iteration 7 -----------------\n",
      "05:39:46 Completed 0 out of 40 steps\n",
      "05:40:03 Completed 1 out of 40 steps\n",
      "05:40:19 Completed 2 out of 40 steps\n",
      "05:40:35 Completed 3 out of 40 steps\n",
      "05:40:50 Completed 4 out of 40 steps\n",
      "05:41:05 Completed 5 out of 40 steps\n",
      "05:41:19 Completed 6 out of 40 steps\n",
      "05:41:32 Completed 7 out of 40 steps\n",
      "05:41:44 Completed 8 out of 40 steps\n",
      "05:41:55 Completed 9 out of 40 steps\n",
      "05:42:06 Completed 10 out of 40 steps\n",
      "05:42:16 Completed 11 out of 40 steps\n",
      "05:42:26 Completed 12 out of 40 steps\n",
      "05:42:35 Completed 13 out of 40 steps\n",
      "05:42:43 Completed 14 out of 40 steps\n",
      "05:42:52 Completed 15 out of 40 steps\n",
      "05:42:59 Completed 16 out of 40 steps\n",
      "05:43:07 Completed 17 out of 40 steps\n",
      "05:43:15 Completed 18 out of 40 steps\n",
      "05:43:22 Completed 19 out of 40 steps\n",
      "05:43:29 Completed 20 out of 40 steps\n",
      "05:43:36 Completed 21 out of 40 steps\n",
      "05:43:43 Completed 22 out of 40 steps\n",
      "05:43:50 Completed 23 out of 40 steps\n",
      "05:43:56 Completed 24 out of 40 steps\n",
      "05:44:03 Completed 25 out of 40 steps\n",
      "05:44:10 Completed 26 out of 40 steps\n",
      "05:44:16 Completed 27 out of 40 steps\n",
      "05:44:23 Completed 28 out of 40 steps\n",
      "05:44:29 Completed 29 out of 40 steps\n",
      "05:44:36 Completed 30 out of 40 steps\n",
      "05:44:42 Completed 31 out of 40 steps\n",
      "05:44:49 Completed 32 out of 40 steps\n",
      "05:44:55 Completed 33 out of 40 steps\n",
      "05:45:02 Completed 34 out of 40 steps\n",
      "05:45:08 Completed 35 out of 40 steps\n",
      "05:45:15 Completed 36 out of 40 steps\n",
      "05:45:21 Completed 37 out of 40 steps\n",
      "05:45:28 Completed 38 out of 40 steps\n"
     ]
    },
    {
     "name": "stderr",
     "output_type": "stream",
     "text": [
      "\r",
      " 80%|████████  | 8/10 [47:26<12:00, 360.23s/it]"
     ]
    },
    {
     "name": "stdout",
     "output_type": "stream",
     "text": [
      "05:45:34 Completed 39 out of 40 steps\n",
      "in iteration 7: mean is 38.48456573486328\n",
      "in iteration 7: mean with confidence model is 15.834504691958427\n",
      "----------------- in iteration 8 -----------------\n",
      "05:45:53 Completed 0 out of 40 steps\n",
      "05:46:10 Completed 1 out of 40 steps\n",
      "05:46:26 Completed 2 out of 40 steps\n",
      "05:46:42 Completed 3 out of 40 steps\n",
      "05:46:57 Completed 4 out of 40 steps\n",
      "05:47:12 Completed 5 out of 40 steps\n",
      "05:47:26 Completed 6 out of 40 steps\n",
      "05:47:39 Completed 7 out of 40 steps\n",
      "05:47:52 Completed 8 out of 40 steps\n",
      "05:48:03 Completed 9 out of 40 steps\n",
      "05:48:14 Completed 10 out of 40 steps\n",
      "05:48:24 Completed 11 out of 40 steps\n",
      "05:48:34 Completed 12 out of 40 steps\n",
      "05:48:43 Completed 13 out of 40 steps\n",
      "05:48:51 Completed 14 out of 40 steps\n",
      "05:48:59 Completed 15 out of 40 steps\n",
      "05:49:07 Completed 16 out of 40 steps\n",
      "05:49:15 Completed 17 out of 40 steps\n",
      "05:49:23 Completed 18 out of 40 steps\n",
      "05:49:30 Completed 19 out of 40 steps\n",
      "05:49:37 Completed 20 out of 40 steps\n",
      "05:49:44 Completed 21 out of 40 steps\n",
      "05:49:51 Completed 22 out of 40 steps\n",
      "05:49:57 Completed 23 out of 40 steps\n",
      "05:50:04 Completed 24 out of 40 steps\n",
      "05:50:11 Completed 25 out of 40 steps\n",
      "05:50:17 Completed 26 out of 40 steps\n",
      "05:50:24 Completed 27 out of 40 steps\n",
      "05:50:30 Completed 28 out of 40 steps\n",
      "05:50:36 Completed 29 out of 40 steps\n",
      "05:50:43 Completed 30 out of 40 steps\n",
      "05:50:49 Completed 31 out of 40 steps\n",
      "05:50:56 Completed 32 out of 40 steps\n",
      "05:51:02 Completed 33 out of 40 steps\n",
      "05:51:08 Completed 34 out of 40 steps\n",
      "05:51:15 Completed 35 out of 40 steps\n",
      "05:51:21 Completed 36 out of 40 steps\n",
      "05:51:27 Completed 37 out of 40 steps\n",
      "05:51:34 Completed 38 out of 40 steps\n"
     ]
    },
    {
     "name": "stderr",
     "output_type": "stream",
     "text": [
      "\r",
      " 90%|█████████ | 9/10 [53:32<06:01, 361.96s/it]"
     ]
    },
    {
     "name": "stdout",
     "output_type": "stream",
     "text": [
      "05:51:40 Completed 39 out of 40 steps\n",
      "in iteration 8: mean is 39.013023376464844\n",
      "in iteration 8: mean with confidence model is 15.1685519272089\n",
      "----------------- in iteration 9 -----------------\n",
      "05:51:59 Completed 0 out of 40 steps\n",
      "05:52:16 Completed 1 out of 40 steps\n",
      "05:52:32 Completed 2 out of 40 steps\n",
      "05:52:49 Completed 3 out of 40 steps\n",
      "05:53:04 Completed 4 out of 40 steps\n",
      "05:53:19 Completed 5 out of 40 steps\n",
      "05:53:33 Completed 6 out of 40 steps\n",
      "05:53:46 Completed 7 out of 40 steps\n",
      "05:53:58 Completed 8 out of 40 steps\n",
      "05:54:09 Completed 9 out of 40 steps\n",
      "05:54:20 Completed 10 out of 40 steps\n",
      "05:54:29 Completed 11 out of 40 steps\n",
      "05:54:38 Completed 12 out of 40 steps\n",
      "05:54:47 Completed 13 out of 40 steps\n",
      "05:54:55 Completed 14 out of 40 steps\n",
      "05:55:03 Completed 15 out of 40 steps\n",
      "05:55:11 Completed 16 out of 40 steps\n",
      "05:55:18 Completed 17 out of 40 steps\n",
      "05:55:25 Completed 18 out of 40 steps\n",
      "05:55:32 Completed 19 out of 40 steps\n",
      "05:55:39 Completed 20 out of 40 steps\n",
      "05:55:46 Completed 21 out of 40 steps\n",
      "05:55:52 Completed 22 out of 40 steps\n",
      "05:55:59 Completed 23 out of 40 steps\n",
      "05:56:05 Completed 24 out of 40 steps\n",
      "05:56:11 Completed 25 out of 40 steps\n",
      "05:56:18 Completed 26 out of 40 steps\n",
      "05:56:24 Completed 27 out of 40 steps\n",
      "05:56:30 Completed 28 out of 40 steps\n",
      "05:56:37 Completed 29 out of 40 steps\n",
      "05:56:43 Completed 30 out of 40 steps\n",
      "05:56:49 Completed 31 out of 40 steps\n",
      "05:56:55 Completed 32 out of 40 steps\n",
      "05:57:02 Completed 33 out of 40 steps\n",
      "05:57:08 Completed 34 out of 40 steps\n",
      "05:57:14 Completed 35 out of 40 steps\n",
      "05:57:20 Completed 36 out of 40 steps\n",
      "05:57:26 Completed 37 out of 40 steps\n",
      "05:57:32 Completed 38 out of 40 steps\n"
     ]
    },
    {
     "name": "stderr",
     "output_type": "stream",
     "text": [
      "100%|██████████| 10/10 [59:30<00:00, 357.06s/it]"
     ]
    },
    {
     "name": "stdout",
     "output_type": "stream",
     "text": [
      "05:57:38 Completed 39 out of 40 steps\n",
      "in iteration 9: mean is 38.868709564208984\n",
      "in iteration 9: mean with confidence model is 14.752783256173133\n",
      "Final result: 14.752783256173133\n"
     ]
    },
    {
     "name": "stderr",
     "output_type": "stream",
     "text": [
      "\n"
     ]
    }
   ],
   "source": [
    "n_runs = 10\n",
    "rmsds_top10 = np.full(len(val_dataset), np.inf)\n",
    "for i in tqdm(range(n_runs)):\n",
    "    print(f'----------------- in iteration {i} -----------------')\n",
    "    # run reverse diffusion process\n",
    "    samples_val = sample(val_dataset, model, args)\n",
    "    # samples_val now contains all the graphs, with graph[\"ligand\"] contains the positions predicted by the model\n",
    "    val_score = evaluate_pose(val_dataset, samples_val)\n",
    "    rmsds_i = np.array(val_score[\"rmsd\"])\n",
    "    print(f'in iteration {i}: mean is {rmsds_i.mean()}')\n",
    "    rmsds_top10 = np.minimum(rmsds_top10, rmsds_i)\n",
    "    print(f'in iteration {i}: mean with confidence model is {rmsds_top10.mean()}')\n",
    "print(f'Final result: {rmsds_top10.mean()}')"
   ]
  },
  {
   "cell_type": "code",
   "execution_count": 36,
   "metadata": {},
   "outputs": [
    {
     "data": {
      "text/plain": [
       "array([18.55453873, 52.48733139,  0.95979214,  5.29088259, 19.08759308,\n",
       "       24.22147179,  0.6637181 ,  3.44789147,  0.99152851,  0.87315911,\n",
       "       13.27579403,  2.43114018,  3.73751402, 14.17319298,  5.36911011,\n",
       "        0.74436826,  4.82810926,  5.32153845,  1.28382909,  6.08122683,\n",
       "        3.77207398, 21.30369568, 25.4969902 , 63.19504547, 45.38077545,\n",
       "        7.71054459, 37.6367836 ,  2.24138761, 51.54737473, 19.49333   ,\n",
       "        1.11175966, 10.67053699, 12.45097733,  0.82715404,  2.21490097,\n",
       "       24.13285446, 40.37942123,  0.47576505,  9.71454334, 51.33063126,\n",
       "       22.13999176,  2.31724572, 24.93940353, 17.03530121, 52.64008331,\n",
       "        7.09895515,  2.03118896,  1.37214077,  1.55087042,  0.53179914,\n",
       "        9.84427357,  1.10775387, 46.2383194 ,  1.29177773,  3.62341595,\n",
       "       31.23996353,  1.40504074, 46.98308563,  9.9671545 , 19.81276894,\n",
       "       23.2368145 ,  5.21680784,  0.56136   ,  1.06705058, 15.67559147,\n",
       "       40.68418884,  9.17874718, 30.65575027,  1.34148216, 13.98250389,\n",
       "        1.35499239, 59.65415573, 42.22156906,  8.85554314,  1.74397933,\n",
       "       34.10089111,  2.00573063,  9.72453785,  0.87984627, 29.78113937,\n",
       "        2.86255312,  6.33035898, 32.24247742, 22.36004639, 11.41702271,\n",
       "        2.98866129, 20.34176826,  0.62147456, 10.13168716, 10.96499729,\n",
       "       44.09468842,  3.87953281,  0.69320494,  1.92998314, 19.41574669,\n",
       "        2.70588326,  1.24329674,  2.20317698,  5.34725952, 23.50101471])"
      ]
     },
     "execution_count": 36,
     "metadata": {},
     "output_type": "execute_result"
    }
   ],
   "source": [
    "rmsds_top10"
   ]
  },
  {
   "cell_type": "code",
   "execution_count": 33,
   "metadata": {},
   "outputs": [
    {
     "name": "stdout",
     "output_type": "stream",
     "text": [
      "{'rmsds_top10_lt1': 12.0, 'rmsds_top10_lt2': 25.0, 'rmsds_top10_lt5': 41.0, 'rmsds_top10_lt10': 56.0, 'rmsds_top10_mean': 14.752783256173133, 'rmsds_top10_median': 8.28304386138916}\n"
     ]
    }
   ],
   "source": [
    "reverse_diffusion_metrics_top10 = {'rmsds_top10_lt1': (100 * (rmsds_top10 < 1).sum() / len(rmsds_top10)),\n",
    "                               'rmsds_top10_lt2': (100 * (rmsds_top10 < 2).sum() / len(rmsds_top10)),\n",
    "                             'rmsds_top10_lt5': (100 * (rmsds_top10 < 5).sum() / len(rmsds_top10)),\n",
    "                             'rmsds_top10_lt10': (100 * (rmsds_top10 < 10).sum() / len(rmsds_top10)),\n",
    "                             'rmsds_top10_mean': rmsds_top10.mean(),\n",
    "                             'rmsds_top10_median': np.median(rmsds_top10)}\n",
    "print(reverse_diffusion_metrics_top10)"
   ]
  },
  {
   "cell_type": "code",
   "execution_count": 29,
   "metadata": {},
   "outputs": [
    {
     "data": {
      "text/plain": [
       "[Text(0.5, 1.0, 'TOP 10'), Text(0.5, 0, 'Ligand RMSD')]"
      ]
     },
     "execution_count": 29,
     "metadata": {},
     "output_type": "execute_result"
    },
    {
     "data": {
      "image/png": "[encoded data removed]",
      "text/plain": [
       "<Figure size 640x480 with 1 Axes>"
      ]
     },
     "metadata": {},
     "output_type": "display_data"
    }
   ],
   "source": [
    "rmsds_top10_copy = copy.deepcopy(rmsds_top10)\n",
    "histplot(data=rmsds_top10_copy, binwidth=1).set(title='TOP 10', xlabel='Ligand RMSD')"
   ]
  },
  {
   "cell_type": "code",
   "execution_count": null,
   "metadata": {},
   "outputs": [],
   "source": []
  },
  {
   "cell_type": "code",
   "execution_count": null,
   "metadata": {},
   "outputs": [],
   "source": []
  },
  {
   "cell_type": "code",
   "execution_count": null,
   "metadata": {},
   "outputs": [],
   "source": []
  },
  {
   "cell_type": "code",
   "execution_count": 37,
   "metadata": {},
   "outputs": [
    {
     "data": {
      "text/plain": [
       "array([0.4533083 , 0.49268275, 0.53249073, 0.5520658 , 0.56543434],\n",
       "      dtype=float32)"
      ]
     },
     "execution_count": 37,
     "metadata": {},
     "output_type": "execute_result"
    }
   ],
   "source": [
    "sort_indices = np.argsort(rmsds)\n",
    "min_indices = sort_indices[:5]\n",
    "max_indices = sort_indices[-5:]\n",
    "rmsds[min_indices]"
   ]
  },
  {
   "cell_type": "code",
   "execution_count": 64,
   "metadata": {},
   "outputs": [
    {
     "data": {
      "text/plain": [
       "array([240, 131, 498, 179, 471])"
      ]
     },
     "execution_count": 64,
     "metadata": {},
     "output_type": "execute_result"
    }
   ],
   "source": [
    "min_indices"
   ]
  },
  {
   "cell_type": "code",
   "execution_count": 75,
   "metadata": {},
   "outputs": [
    {
     "ename": "AttributeError",
     "evalue": "'dict' object has no attribute 'dtype'",
     "output_type": "error",
     "traceback": [
      "\u001b[0;31m---------------------------------------------------------------------------\u001b[0m",
      "\u001b[0;31mAttributeError\u001b[0m                            Traceback (most recent call last)",
      "Input \u001b[0;32mIn [75]\u001b[0m, in \u001b[0;36m<cell line: 1>\u001b[0;34m()\u001b[0m\n\u001b[0;32m----> 1\u001b[0m \u001b[43mdata\u001b[49m\u001b[38;5;241;43m.\u001b[39;49m\u001b[43mdata\u001b[49m\u001b[38;5;241;43m.\u001b[39;49m\u001b[43mdtype\u001b[49m\n",
      "\u001b[0;31mAttributeError\u001b[0m: 'dict' object has no attribute 'dtype'"
     ]
    }
   ],
   "source": []
  },
  {
   "cell_type": "code",
   "execution_count": 81,
   "metadata": {},
   "outputs": [],
   "source": [
    "val_dataset_min = copy.deepcopy(val_dataset)"
   ]
  },
  {
   "cell_type": "code",
   "execution_count": 82,
   "metadata": {},
   "outputs": [],
   "source": [
    "val_dataset_min.data = [val_dataset_min.data[i] for i in min_indices]\n",
    "val_dataset_min.length = len(val_dataset_min.data)"
   ]
  },
  {
   "cell_type": "code",
   "execution_count": 85,
   "metadata": {
    "scrolled": true
   },
   "outputs": [
    {
     "name": "stdout",
     "output_type": "stream",
     "text": [
      "parts: ['receptor']\n",
      "part: receptor. len: torch.Size([282, 3]). this_vis_values[\"resname\"]: 282\n",
      "parts: ['ligand']\n",
      "part: ligand. len: torch.Size([266, 3]). this_vis_values[\"resname\"]: 266\n",
      "parts: ['ligand']\n",
      "part: ligand. len: torch.Size([266, 3]). this_vis_values[\"resname\"]: 266\n",
      "parts: ['receptor']\n",
      "part: receptor. len: torch.Size([99, 3]). this_vis_values[\"resname\"]: 99\n",
      "parts: ['ligand']\n",
      "part: ligand. len: torch.Size([99, 3]). this_vis_values[\"resname\"]: 99\n",
      "parts: ['ligand']\n",
      "part: ligand. len: torch.Size([99, 3]). this_vis_values[\"resname\"]: 99\n",
      "parts: ['receptor']\n",
      "part: receptor. len: torch.Size([234, 3]). this_vis_values[\"resname\"]: 234\n",
      "parts: ['ligand']\n",
      "part: ligand. len: torch.Size([201, 3]). this_vis_values[\"resname\"]: 201\n",
      "parts: ['ligand']\n",
      "part: ligand. len: torch.Size([201, 3]). this_vis_values[\"resname\"]: 201\n",
      "parts: ['receptor']\n",
      "part: receptor. len: torch.Size([99, 3]). this_vis_values[\"resname\"]: 99\n",
      "parts: ['ligand']\n",
      "part: ligand. len: torch.Size([99, 3]). this_vis_values[\"resname\"]: 99\n",
      "parts: ['ligand']\n",
      "part: ligand. len: torch.Size([99, 3]). this_vis_values[\"resname\"]: 99\n",
      "parts: ['receptor']\n",
      "part: receptor. len: torch.Size([204, 3]). this_vis_values[\"resname\"]: 204\n",
      "parts: ['ligand']\n",
      "part: ligand. len: torch.Size([199, 3]). this_vis_values[\"resname\"]: 199\n",
      "parts: ['ligand']\n",
      "part: ligand. len: torch.Size([199, 3]). this_vis_values[\"resname\"]: 199\n",
      "parts: ['ligand']\n",
      "part: ligand. len: torch.Size([266, 3]). this_vis_values[\"resname\"]: 266\n",
      "parts: ['ligand']\n",
      "part: ligand. len: torch.Size([99, 3]). this_vis_values[\"resname\"]: 99\n",
      "parts: ['ligand']\n",
      "part: ligand. len: torch.Size([201, 3]). this_vis_values[\"resname\"]: 201\n",
      "parts: ['ligand']\n",
      "part: ligand. len: torch.Size([99, 3]). this_vis_values[\"resname\"]: 99\n",
      "parts: ['ligand']\n",
      "part: ligand. len: torch.Size([199, 3]). this_vis_values[\"resname\"]: 199\n",
      "08:26:39 Completed 0 out of 40 steps\n",
      "parts: ['ligand']\n",
      "part: ligand. len: torch.Size([266, 3]). this_vis_values[\"resname\"]: 266\n",
      "parts: ['ligand']\n",
      "part: ligand. len: torch.Size([99, 3]). this_vis_values[\"resname\"]: 99\n",
      "parts: ['ligand']\n",
      "part: ligand. len: torch.Size([201, 3]). this_vis_values[\"resname\"]: 201\n",
      "parts: ['ligand']\n",
      "part: ligand. len: torch.Size([99, 3]). this_vis_values[\"resname\"]: 99\n",
      "parts: ['ligand']\n",
      "part: ligand. len: torch.Size([199, 3]). this_vis_values[\"resname\"]: 199\n",
      "08:26:39 Completed 1 out of 40 steps\n",
      "parts: ['ligand']\n",
      "part: ligand. len: torch.Size([266, 3]). this_vis_values[\"resname\"]: 266\n",
      "parts: ['ligand']\n",
      "part: ligand. len: torch.Size([99, 3]). this_vis_values[\"resname\"]: 99\n",
      "parts: ['ligand']\n",
      "part: ligand. len: torch.Size([201, 3]). this_vis_values[\"resname\"]: 201\n",
      "parts: ['ligand']\n",
      "part: ligand. len: torch.Size([99, 3]). this_vis_values[\"resname\"]: 99\n",
      "parts: ['ligand']\n",
      "part: ligand. len: torch.Size([199, 3]). this_vis_values[\"resname\"]: 199\n",
      "08:26:40 Completed 2 out of 40 steps\n",
      "parts: ['ligand']\n",
      "part: ligand. len: torch.Size([266, 3]). this_vis_values[\"resname\"]: 266\n",
      "parts: ['ligand']\n",
      "part: ligand. len: torch.Size([99, 3]). this_vis_values[\"resname\"]: 99\n",
      "parts: ['ligand']\n",
      "part: ligand. len: torch.Size([201, 3]). this_vis_values[\"resname\"]: 201\n",
      "parts: ['ligand']\n",
      "part: ligand. len: torch.Size([99, 3]). this_vis_values[\"resname\"]: 99\n",
      "parts: ['ligand']\n",
      "part: ligand. len: torch.Size([199, 3]). this_vis_values[\"resname\"]: 199\n",
      "08:26:40 Completed 3 out of 40 steps\n",
      "parts: ['ligand']\n",
      "part: ligand. len: torch.Size([266, 3]). this_vis_values[\"resname\"]: 266\n",
      "parts: ['ligand']\n",
      "part: ligand. len: torch.Size([99, 3]). this_vis_values[\"resname\"]: 99\n",
      "parts: ['ligand']\n",
      "part: ligand. len: torch.Size([201, 3]). this_vis_values[\"resname\"]: 201\n",
      "parts: ['ligand']\n",
      "part: ligand. len: torch.Size([99, 3]). this_vis_values[\"resname\"]: 99\n",
      "parts: ['ligand']\n",
      "part: ligand. len: torch.Size([199, 3]). this_vis_values[\"resname\"]: 199\n",
      "08:26:41 Completed 4 out of 40 steps\n",
      "parts: ['ligand']\n",
      "part: ligand. len: torch.Size([266, 3]). this_vis_values[\"resname\"]: 266\n",
      "parts: ['ligand']\n",
      "part: ligand. len: torch.Size([99, 3]). this_vis_values[\"resname\"]: 99\n",
      "parts: ['ligand']\n",
      "part: ligand. len: torch.Size([201, 3]). this_vis_values[\"resname\"]: 201\n",
      "parts: ['ligand']\n",
      "part: ligand. len: torch.Size([99, 3]). this_vis_values[\"resname\"]: 99\n",
      "parts: ['ligand']\n",
      "part: ligand. len: torch.Size([199, 3]). this_vis_values[\"resname\"]: 199\n",
      "08:26:41 Completed 5 out of 40 steps\n",
      "parts: ['ligand']\n",
      "part: ligand. len: torch.Size([266, 3]). this_vis_values[\"resname\"]: 266\n",
      "parts: ['ligand']\n",
      "part: ligand. len: torch.Size([99, 3]). this_vis_values[\"resname\"]: 99\n",
      "parts: ['ligand']\n",
      "part: ligand. len: torch.Size([201, 3]). this_vis_values[\"resname\"]: 201\n",
      "parts: ['ligand']\n",
      "part: ligand. len: torch.Size([99, 3]). this_vis_values[\"resname\"]: 99\n",
      "parts: ['ligand']\n",
      "part: ligand. len: torch.Size([199, 3]). this_vis_values[\"resname\"]: 199\n",
      "08:26:41 Completed 6 out of 40 steps\n",
      "parts: ['ligand']\n",
      "part: ligand. len: torch.Size([266, 3]). this_vis_values[\"resname\"]: 266\n",
      "parts: ['ligand']\n",
      "part: ligand. len: torch.Size([99, 3]). this_vis_values[\"resname\"]: 99\n",
      "parts: ['ligand']\n",
      "part: ligand. len: torch.Size([201, 3]). this_vis_values[\"resname\"]: 201\n",
      "parts: ['ligand']\n",
      "part: ligand. len: torch.Size([99, 3]). this_vis_values[\"resname\"]: 99\n",
      "parts: ['ligand']\n",
      "part: ligand. len: torch.Size([199, 3]). this_vis_values[\"resname\"]: 199\n",
      "08:26:42 Completed 7 out of 40 steps\n",
      "parts: ['ligand']\n",
      "part: ligand. len: torch.Size([266, 3]). this_vis_values[\"resname\"]: 266\n",
      "parts: ['ligand']\n",
      "part: ligand. len: torch.Size([99, 3]). this_vis_values[\"resname\"]: 99\n",
      "parts: ['ligand']\n",
      "part: ligand. len: torch.Size([201, 3]). this_vis_values[\"resname\"]: 201\n",
      "parts: ['ligand']\n",
      "part: ligand. len: torch.Size([99, 3]). this_vis_values[\"resname\"]: 99\n",
      "parts: ['ligand']\n",
      "part: ligand. len: torch.Size([199, 3]). this_vis_values[\"resname\"]: 199\n",
      "08:26:42 Completed 8 out of 40 steps\n",
      "parts: ['ligand']\n",
      "part: ligand. len: torch.Size([266, 3]). this_vis_values[\"resname\"]: 266\n",
      "parts: ['ligand']\n",
      "part: ligand. len: torch.Size([99, 3]). this_vis_values[\"resname\"]: 99\n",
      "parts: ['ligand']\n",
      "part: ligand. len: torch.Size([201, 3]). this_vis_values[\"resname\"]: 201\n",
      "parts: ['ligand']\n",
      "part: ligand. len: torch.Size([99, 3]). this_vis_values[\"resname\"]: 99\n",
      "parts: ['ligand']\n",
      "part: ligand. len: torch.Size([199, 3]). this_vis_values[\"resname\"]: 199\n",
      "08:26:42 Completed 9 out of 40 steps\n",
      "parts: ['ligand']\n",
      "part: ligand. len: torch.Size([266, 3]). this_vis_values[\"resname\"]: 266\n",
      "parts: ['ligand']\n",
      "part: ligand. len: torch.Size([99, 3]). this_vis_values[\"resname\"]: 99\n",
      "parts: ['ligand']\n",
      "part: ligand. len: torch.Size([201, 3]). this_vis_values[\"resname\"]: 201\n",
      "parts: ['ligand']\n",
      "part: ligand. len: torch.Size([99, 3]). this_vis_values[\"resname\"]: 99\n",
      "parts: ['ligand']\n",
      "part: ligand. len: torch.Size([199, 3]). this_vis_values[\"resname\"]: 199\n",
      "08:26:43 Completed 10 out of 40 steps\n",
      "parts: ['ligand']\n",
      "part: ligand. len: torch.Size([266, 3]). this_vis_values[\"resname\"]: 266\n",
      "parts: ['ligand']\n",
      "part: ligand. len: torch.Size([99, 3]). this_vis_values[\"resname\"]: 99\n",
      "parts: ['ligand']\n",
      "part: ligand. len: torch.Size([201, 3]). this_vis_values[\"resname\"]: 201\n",
      "parts: ['ligand']\n",
      "part: ligand. len: torch.Size([99, 3]). this_vis_values[\"resname\"]: 99\n",
      "parts: ['ligand']\n",
      "part: ligand. len: torch.Size([199, 3]). this_vis_values[\"resname\"]: 199\n",
      "08:26:43 Completed 11 out of 40 steps\n",
      "parts: ['ligand']\n",
      "part: ligand. len: torch.Size([266, 3]). this_vis_values[\"resname\"]: 266\n",
      "parts: ['ligand']\n",
      "part: ligand. len: torch.Size([99, 3]). this_vis_values[\"resname\"]: 99\n",
      "parts: ['ligand']\n",
      "part: ligand. len: torch.Size([201, 3]). this_vis_values[\"resname\"]: 201\n",
      "parts: ['ligand']\n",
      "part: ligand. len: torch.Size([99, 3]). this_vis_values[\"resname\"]: 99\n",
      "parts: ['ligand']\n",
      "part: ligand. len: torch.Size([199, 3]). this_vis_values[\"resname\"]: 199\n",
      "08:26:43 Completed 12 out of 40 steps\n",
      "parts: ['ligand']\n",
      "part: ligand. len: torch.Size([266, 3]). this_vis_values[\"resname\"]: 266\n",
      "parts: ['ligand']\n",
      "part: ligand. len: torch.Size([99, 3]). this_vis_values[\"resname\"]: 99\n",
      "parts: ['ligand']\n",
      "part: ligand. len: torch.Size([201, 3]). this_vis_values[\"resname\"]: 201\n",
      "parts: ['ligand']\n",
      "part: ligand. len: torch.Size([99, 3]). this_vis_values[\"resname\"]: 99\n",
      "parts: ['ligand']\n",
      "part: ligand. len: torch.Size([199, 3]). this_vis_values[\"resname\"]: 199\n",
      "08:26:43 Completed 13 out of 40 steps\n"
     ]
    },
    {
     "name": "stdout",
     "output_type": "stream",
     "text": [
      "parts: ['ligand']\n",
      "part: ligand. len: torch.Size([266, 3]). this_vis_values[\"resname\"]: 266\n",
      "parts: ['ligand']\n",
      "part: ligand. len: torch.Size([99, 3]). this_vis_values[\"resname\"]: 99\n",
      "parts: ['ligand']\n",
      "part: ligand. len: torch.Size([201, 3]). this_vis_values[\"resname\"]: 201\n",
      "parts: ['ligand']\n",
      "part: ligand. len: torch.Size([99, 3]). this_vis_values[\"resname\"]: 99\n",
      "parts: ['ligand']\n",
      "part: ligand. len: torch.Size([199, 3]). this_vis_values[\"resname\"]: 199\n",
      "08:26:44 Completed 14 out of 40 steps\n",
      "parts: ['ligand']\n",
      "part: ligand. len: torch.Size([266, 3]). this_vis_values[\"resname\"]: 266\n",
      "parts: ['ligand']\n",
      "part: ligand. len: torch.Size([99, 3]). this_vis_values[\"resname\"]: 99\n",
      "parts: ['ligand']\n",
      "part: ligand. len: torch.Size([201, 3]). this_vis_values[\"resname\"]: 201\n",
      "parts: ['ligand']\n",
      "part: ligand. len: torch.Size([99, 3]). this_vis_values[\"resname\"]: 99\n",
      "parts: ['ligand']\n",
      "part: ligand. len: torch.Size([199, 3]). this_vis_values[\"resname\"]: 199\n",
      "08:26:44 Completed 15 out of 40 steps\n",
      "parts: ['ligand']\n",
      "part: ligand. len: torch.Size([266, 3]). this_vis_values[\"resname\"]: 266\n",
      "parts: ['ligand']\n",
      "part: ligand. len: torch.Size([99, 3]). this_vis_values[\"resname\"]: 99\n",
      "parts: ['ligand']\n",
      "part: ligand. len: torch.Size([201, 3]). this_vis_values[\"resname\"]: 201\n",
      "parts: ['ligand']\n",
      "part: ligand. len: torch.Size([99, 3]). this_vis_values[\"resname\"]: 99\n",
      "parts: ['ligand']\n",
      "part: ligand. len: torch.Size([199, 3]). this_vis_values[\"resname\"]: 199\n",
      "08:26:44 Completed 16 out of 40 steps\n",
      "parts: ['ligand']\n",
      "part: ligand. len: torch.Size([266, 3]). this_vis_values[\"resname\"]: 266\n",
      "parts: ['ligand']\n",
      "part: ligand. len: torch.Size([99, 3]). this_vis_values[\"resname\"]: 99\n",
      "parts: ['ligand']\n",
      "part: ligand. len: torch.Size([201, 3]). this_vis_values[\"resname\"]: 201\n",
      "parts: ['ligand']\n",
      "part: ligand. len: torch.Size([99, 3]). this_vis_values[\"resname\"]: 99\n",
      "parts: ['ligand']\n",
      "part: ligand. len: torch.Size([199, 3]). this_vis_values[\"resname\"]: 199\n",
      "08:26:44 Completed 17 out of 40 steps\n",
      "parts: ['ligand']\n",
      "part: ligand. len: torch.Size([266, 3]). this_vis_values[\"resname\"]: 266\n",
      "parts: ['ligand']\n",
      "part: ligand. len: torch.Size([99, 3]). this_vis_values[\"resname\"]: 99\n",
      "parts: ['ligand']\n",
      "part: ligand. len: torch.Size([201, 3]). this_vis_values[\"resname\"]: 201\n",
      "parts: ['ligand']\n",
      "part: ligand. len: torch.Size([99, 3]). this_vis_values[\"resname\"]: 99\n",
      "parts: ['ligand']\n",
      "part: ligand. len: torch.Size([199, 3]). this_vis_values[\"resname\"]: 199\n",
      "08:26:45 Completed 18 out of 40 steps\n",
      "parts: ['ligand']\n",
      "part: ligand. len: torch.Size([266, 3]). this_vis_values[\"resname\"]: 266\n",
      "parts: ['ligand']\n",
      "part: ligand. len: torch.Size([99, 3]). this_vis_values[\"resname\"]: 99\n",
      "parts: ['ligand']\n",
      "part: ligand. len: torch.Size([201, 3]). this_vis_values[\"resname\"]: 201\n",
      "parts: ['ligand']\n",
      "part: ligand. len: torch.Size([99, 3]). this_vis_values[\"resname\"]: 99\n",
      "parts: ['ligand']\n",
      "part: ligand. len: torch.Size([199, 3]). this_vis_values[\"resname\"]: 199\n",
      "08:26:45 Completed 19 out of 40 steps\n",
      "parts: ['ligand']\n",
      "part: ligand. len: torch.Size([266, 3]). this_vis_values[\"resname\"]: 266\n",
      "parts: ['ligand']\n",
      "part: ligand. len: torch.Size([99, 3]). this_vis_values[\"resname\"]: 99\n",
      "parts: ['ligand']\n",
      "part: ligand. len: torch.Size([201, 3]). this_vis_values[\"resname\"]: 201\n",
      "parts: ['ligand']\n",
      "part: ligand. len: torch.Size([99, 3]). this_vis_values[\"resname\"]: 99\n",
      "parts: ['ligand']\n",
      "part: ligand. len: torch.Size([199, 3]). this_vis_values[\"resname\"]: 199\n",
      "08:26:45 Completed 20 out of 40 steps\n",
      "parts: ['ligand']\n",
      "part: ligand. len: torch.Size([266, 3]). this_vis_values[\"resname\"]: 266\n",
      "parts: ['ligand']\n",
      "part: ligand. len: torch.Size([99, 3]). this_vis_values[\"resname\"]: 99\n",
      "parts: ['ligand']\n",
      "part: ligand. len: torch.Size([201, 3]). this_vis_values[\"resname\"]: 201\n",
      "parts: ['ligand']\n",
      "part: ligand. len: torch.Size([99, 3]). this_vis_values[\"resname\"]: 99\n",
      "parts: ['ligand']\n",
      "part: ligand. len: torch.Size([199, 3]). this_vis_values[\"resname\"]: 199\n",
      "08:26:45 Completed 21 out of 40 steps\n",
      "parts: ['ligand']\n",
      "part: ligand. len: torch.Size([266, 3]). this_vis_values[\"resname\"]: 266\n",
      "parts: ['ligand']\n",
      "part: ligand. len: torch.Size([99, 3]). this_vis_values[\"resname\"]: 99\n",
      "parts: ['ligand']\n",
      "part: ligand. len: torch.Size([201, 3]). this_vis_values[\"resname\"]: 201\n",
      "parts: ['ligand']\n",
      "part: ligand. len: torch.Size([99, 3]). this_vis_values[\"resname\"]: 99\n",
      "parts: ['ligand']\n",
      "part: ligand. len: torch.Size([199, 3]). this_vis_values[\"resname\"]: 199\n",
      "08:26:46 Completed 22 out of 40 steps\n",
      "parts: ['ligand']\n",
      "part: ligand. len: torch.Size([266, 3]). this_vis_values[\"resname\"]: 266\n",
      "parts: ['ligand']\n",
      "part: ligand. len: torch.Size([99, 3]). this_vis_values[\"resname\"]: 99\n",
      "parts: ['ligand']\n",
      "part: ligand. len: torch.Size([201, 3]). this_vis_values[\"resname\"]: 201\n",
      "parts: ['ligand']\n",
      "part: ligand. len: torch.Size([99, 3]). this_vis_values[\"resname\"]: 99\n",
      "parts: ['ligand']\n",
      "part: ligand. len: torch.Size([199, 3]). this_vis_values[\"resname\"]: 199\n",
      "08:26:46 Completed 23 out of 40 steps\n",
      "parts: ['ligand']\n",
      "part: ligand. len: torch.Size([266, 3]). this_vis_values[\"resname\"]: 266\n",
      "parts: ['ligand']\n",
      "part: ligand. len: torch.Size([99, 3]). this_vis_values[\"resname\"]: 99\n",
      "parts: ['ligand']\n",
      "part: ligand. len: torch.Size([201, 3]). this_vis_values[\"resname\"]: 201\n",
      "parts: ['ligand']\n",
      "part: ligand. len: torch.Size([99, 3]). this_vis_values[\"resname\"]: 99\n",
      "parts: ['ligand']\n",
      "part: ligand. len: torch.Size([199, 3]). this_vis_values[\"resname\"]: 199\n",
      "08:26:46 Completed 24 out of 40 steps\n",
      "parts: ['ligand']\n",
      "part: ligand. len: torch.Size([266, 3]). this_vis_values[\"resname\"]: 266\n",
      "parts: ['ligand']\n",
      "part: ligand. len: torch.Size([99, 3]). this_vis_values[\"resname\"]: 99\n",
      "parts: ['ligand']\n",
      "part: ligand. len: torch.Size([201, 3]). this_vis_values[\"resname\"]: 201\n",
      "parts: ['ligand']\n",
      "part: ligand. len: torch.Size([99, 3]). this_vis_values[\"resname\"]: 99\n",
      "parts: ['ligand']\n",
      "part: ligand. len: torch.Size([199, 3]). this_vis_values[\"resname\"]: 199\n",
      "08:26:46 Completed 25 out of 40 steps\n",
      "parts: ['ligand']\n",
      "part: ligand. len: torch.Size([266, 3]). this_vis_values[\"resname\"]: 266\n",
      "parts: ['ligand']\n",
      "part: ligand. len: torch.Size([99, 3]). this_vis_values[\"resname\"]: 99\n",
      "parts: ['ligand']\n",
      "part: ligand. len: torch.Size([201, 3]). this_vis_values[\"resname\"]: 201\n",
      "parts: ['ligand']\n",
      "part: ligand. len: torch.Size([99, 3]). this_vis_values[\"resname\"]: 99\n",
      "parts: ['ligand']\n",
      "part: ligand. len: torch.Size([199, 3]). this_vis_values[\"resname\"]: 199\n",
      "08:26:46 Completed 26 out of 40 steps\n",
      "parts: ['ligand']\n",
      "part: ligand. len: torch.Size([266, 3]). this_vis_values[\"resname\"]: 266\n",
      "parts: ['ligand']\n",
      "part: ligand. len: torch.Size([99, 3]). this_vis_values[\"resname\"]: 99\n",
      "parts: ['ligand']\n",
      "part: ligand. len: torch.Size([201, 3]). this_vis_values[\"resname\"]: 201\n",
      "parts: ['ligand']\n",
      "part: ligand. len: torch.Size([99, 3]). this_vis_values[\"resname\"]: 99\n",
      "parts: ['ligand']\n",
      "part: ligand. len: torch.Size([199, 3]). this_vis_values[\"resname\"]: 199\n",
      "08:26:47 Completed 27 out of 40 steps\n",
      "parts: ['ligand']\n",
      "part: ligand. len: torch.Size([266, 3]). this_vis_values[\"resname\"]: 266\n",
      "parts: ['ligand']\n",
      "part: ligand. len: torch.Size([99, 3]). this_vis_values[\"resname\"]: 99\n",
      "parts: ['ligand']\n",
      "part: ligand. len: torch.Size([201, 3]). this_vis_values[\"resname\"]: 201\n",
      "parts: ['ligand']\n",
      "part: ligand. len: torch.Size([99, 3]). this_vis_values[\"resname\"]: 99\n",
      "parts: ['ligand']\n",
      "part: ligand. len: torch.Size([199, 3]). this_vis_values[\"resname\"]: 199\n",
      "08:26:47 Completed 28 out of 40 steps\n",
      "parts: ['ligand']\n",
      "part: ligand. len: torch.Size([266, 3]). this_vis_values[\"resname\"]: 266\n",
      "parts: ['ligand']\n",
      "part: ligand. len: torch.Size([99, 3]). this_vis_values[\"resname\"]: 99\n",
      "parts: ['ligand']\n",
      "part: ligand. len: torch.Size([201, 3]). this_vis_values[\"resname\"]: 201\n",
      "parts: ['ligand']\n",
      "part: ligand. len: torch.Size([99, 3]). this_vis_values[\"resname\"]: 99\n",
      "parts: ['ligand']\n",
      "part: ligand. len: torch.Size([199, 3]). this_vis_values[\"resname\"]: 199\n",
      "08:26:47 Completed 29 out of 40 steps\n",
      "parts: ['ligand']\n",
      "part: ligand. len: torch.Size([266, 3]). this_vis_values[\"resname\"]: 266\n",
      "parts: ['ligand']\n",
      "part: ligand. len: torch.Size([99, 3]). this_vis_values[\"resname\"]: 99\n",
      "parts: ['ligand']\n",
      "part: ligand. len: torch.Size([201, 3]). this_vis_values[\"resname\"]: 201\n",
      "parts: ['ligand']\n",
      "part: ligand. len: torch.Size([99, 3]). this_vis_values[\"resname\"]: 99\n",
      "parts: ['ligand']\n",
      "part: ligand. len: torch.Size([199, 3]). this_vis_values[\"resname\"]: 199\n",
      "08:26:47 Completed 30 out of 40 steps\n"
     ]
    },
    {
     "name": "stdout",
     "output_type": "stream",
     "text": [
      "parts: ['ligand']\n",
      "part: ligand. len: torch.Size([266, 3]). this_vis_values[\"resname\"]: 266\n",
      "parts: ['ligand']\n",
      "part: ligand. len: torch.Size([99, 3]). this_vis_values[\"resname\"]: 99\n",
      "parts: ['ligand']\n",
      "part: ligand. len: torch.Size([201, 3]). this_vis_values[\"resname\"]: 201\n",
      "parts: ['ligand']\n",
      "part: ligand. len: torch.Size([99, 3]). this_vis_values[\"resname\"]: 99\n",
      "parts: ['ligand']\n",
      "part: ligand. len: torch.Size([199, 3]). this_vis_values[\"resname\"]: 199\n",
      "08:26:48 Completed 31 out of 40 steps\n",
      "parts: ['ligand']\n",
      "part: ligand. len: torch.Size([266, 3]). this_vis_values[\"resname\"]: 266\n",
      "parts: ['ligand']\n",
      "part: ligand. len: torch.Size([99, 3]). this_vis_values[\"resname\"]: 99\n",
      "parts: ['ligand']\n",
      "part: ligand. len: torch.Size([201, 3]). this_vis_values[\"resname\"]: 201\n",
      "parts: ['ligand']\n",
      "part: ligand. len: torch.Size([99, 3]). this_vis_values[\"resname\"]: 99\n",
      "parts: ['ligand']\n",
      "part: ligand. len: torch.Size([199, 3]). this_vis_values[\"resname\"]: 199\n",
      "08:26:48 Completed 32 out of 40 steps\n",
      "parts: ['ligand']\n",
      "part: ligand. len: torch.Size([266, 3]). this_vis_values[\"resname\"]: 266\n",
      "parts: ['ligand']\n",
      "part: ligand. len: torch.Size([99, 3]). this_vis_values[\"resname\"]: 99\n",
      "parts: ['ligand']\n",
      "part: ligand. len: torch.Size([201, 3]). this_vis_values[\"resname\"]: 201\n",
      "parts: ['ligand']\n",
      "part: ligand. len: torch.Size([99, 3]). this_vis_values[\"resname\"]: 99\n",
      "parts: ['ligand']\n",
      "part: ligand. len: torch.Size([199, 3]). this_vis_values[\"resname\"]: 199\n",
      "08:26:48 Completed 33 out of 40 steps\n",
      "parts: ['ligand']\n",
      "part: ligand. len: torch.Size([266, 3]). this_vis_values[\"resname\"]: 266\n",
      "parts: ['ligand']\n",
      "part: ligand. len: torch.Size([99, 3]). this_vis_values[\"resname\"]: 99\n",
      "parts: ['ligand']\n",
      "part: ligand. len: torch.Size([201, 3]). this_vis_values[\"resname\"]: 201\n",
      "parts: ['ligand']\n",
      "part: ligand. len: torch.Size([99, 3]). this_vis_values[\"resname\"]: 99\n",
      "parts: ['ligand']\n",
      "part: ligand. len: torch.Size([199, 3]). this_vis_values[\"resname\"]: 199\n",
      "08:26:48 Completed 34 out of 40 steps\n",
      "parts: ['ligand']\n",
      "part: ligand. len: torch.Size([266, 3]). this_vis_values[\"resname\"]: 266\n",
      "parts: ['ligand']\n",
      "part: ligand. len: torch.Size([99, 3]). this_vis_values[\"resname\"]: 99\n",
      "parts: ['ligand']\n",
      "part: ligand. len: torch.Size([201, 3]). this_vis_values[\"resname\"]: 201\n",
      "parts: ['ligand']\n",
      "part: ligand. len: torch.Size([99, 3]). this_vis_values[\"resname\"]: 99\n",
      "parts: ['ligand']\n",
      "part: ligand. len: torch.Size([199, 3]). this_vis_values[\"resname\"]: 199\n",
      "08:26:48 Completed 35 out of 40 steps\n",
      "parts: ['ligand']\n",
      "part: ligand. len: torch.Size([266, 3]). this_vis_values[\"resname\"]: 266\n",
      "parts: ['ligand']\n",
      "part: ligand. len: torch.Size([99, 3]). this_vis_values[\"resname\"]: 99\n",
      "parts: ['ligand']\n",
      "part: ligand. len: torch.Size([201, 3]). this_vis_values[\"resname\"]: 201\n",
      "parts: ['ligand']\n",
      "part: ligand. len: torch.Size([99, 3]). this_vis_values[\"resname\"]: 99\n",
      "parts: ['ligand']\n",
      "part: ligand. len: torch.Size([199, 3]). this_vis_values[\"resname\"]: 199\n",
      "08:26:49 Completed 36 out of 40 steps\n",
      "parts: ['ligand']\n",
      "part: ligand. len: torch.Size([266, 3]). this_vis_values[\"resname\"]: 266\n",
      "parts: ['ligand']\n",
      "part: ligand. len: torch.Size([99, 3]). this_vis_values[\"resname\"]: 99\n",
      "parts: ['ligand']\n",
      "part: ligand. len: torch.Size([201, 3]). this_vis_values[\"resname\"]: 201\n",
      "parts: ['ligand']\n",
      "part: ligand. len: torch.Size([99, 3]). this_vis_values[\"resname\"]: 99\n",
      "parts: ['ligand']\n",
      "part: ligand. len: torch.Size([199, 3]). this_vis_values[\"resname\"]: 199\n",
      "08:26:49 Completed 37 out of 40 steps\n",
      "parts: ['ligand']\n",
      "part: ligand. len: torch.Size([266, 3]). this_vis_values[\"resname\"]: 266\n",
      "parts: ['ligand']\n",
      "part: ligand. len: torch.Size([99, 3]). this_vis_values[\"resname\"]: 99\n",
      "parts: ['ligand']\n",
      "part: ligand. len: torch.Size([201, 3]). this_vis_values[\"resname\"]: 201\n",
      "parts: ['ligand']\n",
      "part: ligand. len: torch.Size([99, 3]). this_vis_values[\"resname\"]: 99\n",
      "parts: ['ligand']\n",
      "part: ligand. len: torch.Size([199, 3]). this_vis_values[\"resname\"]: 199\n",
      "08:26:49 Completed 38 out of 40 steps\n",
      "parts: ['ligand']\n",
      "part: ligand. len: torch.Size([266, 3]). this_vis_values[\"resname\"]: 266\n",
      "parts: ['ligand']\n",
      "part: ligand. len: torch.Size([99, 3]). this_vis_values[\"resname\"]: 99\n",
      "parts: ['ligand']\n",
      "part: ligand. len: torch.Size([201, 3]). this_vis_values[\"resname\"]: 201\n",
      "parts: ['ligand']\n",
      "part: ligand. len: torch.Size([99, 3]). this_vis_values[\"resname\"]: 99\n",
      "parts: ['ligand']\n",
      "part: ligand. len: torch.Size([199, 3]). this_vis_values[\"resname\"]: 199\n",
      "08:26:49 Completed 39 out of 40 steps\n"
     ]
    }
   ],
   "source": [
    "# visualize\n",
    "samples_val_min = sample(val_dataset_min, model, args, visualize_first_n_samples=5, visualization_dir='./visualization/best_samples')\n"
   ]
  },
  {
   "cell_type": "code",
   "execution_count": 84,
   "metadata": {},
   "outputs": [
    {
     "name": "stdout",
     "output_type": "stream",
     "text": [
      "{'rmsds_lt2': 80.0, 'rmsds_lt5': 80.0, 'rmsds_mean': 7.4717817, 'rmsds_median': 1.0037977}\n"
     ]
    }
   ],
   "source": [
    "val_score_min = evaluate_pose(val_dataset[min_indices], samples_val_min)\n",
    "rmsds_min = np.array(val_score_min[\"rmsd\"])\n",
    "reverse_diffusion_metrics_min = {'rmsds_lt2': (100 * (rmsds_min < 2).sum() / len(rmsds_min)),\n",
    "                             'rmsds_lt5': (100 * (rmsds_min < 5).sum() / len(rmsds_min)),\n",
    "                             'rmsds_mean': rmsds_min.mean(),\n",
    "                             'rmsds_median': np.median(rmsds_min)}\n",
    "print(reverse_diffusion_metrics_min)"
   ]
  },
  {
   "cell_type": "code",
   "execution_count": 42,
   "metadata": {},
   "outputs": [
    {
     "data": {
      "text/plain": [
       "array([1.2857661 , 0.5547091 , 1.5078617 , 0.46852425, 7.26835   ],\n",
       "      dtype=float32)"
      ]
     },
     "execution_count": 42,
     "metadata": {},
     "output_type": "execute_result"
    }
   ],
   "source": [
    "rmsds_min"
   ]
  },
  {
   "cell_type": "code",
   "execution_count": 86,
   "metadata": {},
   "outputs": [],
   "source": [
    "val_dataset_max = copy.deepcopy(val_dataset)"
   ]
  },
  {
   "cell_type": "code",
   "execution_count": 87,
   "metadata": {},
   "outputs": [],
   "source": [
    "val_dataset_max.data = [val_dataset_max.data[i] for i in max_indices]\n",
    "val_dataset_max.length = len(val_dataset_max.data)"
   ]
  },
  {
   "cell_type": "code",
   "execution_count": 89,
   "metadata": {
    "scrolled": true
   },
   "outputs": [
    {
     "name": "stdout",
     "output_type": "stream",
     "text": [
      "08:28:50 Completed 0 out of 40 steps\n",
      "08:28:54 Completed 1 out of 40 steps\n",
      "08:28:58 Completed 2 out of 40 steps\n",
      "08:29:01 Completed 3 out of 40 steps\n",
      "08:29:05 Completed 4 out of 40 steps\n",
      "08:29:07 Completed 5 out of 40 steps\n",
      "08:29:10 Completed 6 out of 40 steps\n",
      "08:29:12 Completed 7 out of 40 steps\n",
      "08:29:13 Completed 8 out of 40 steps\n",
      "08:29:15 Completed 9 out of 40 steps\n",
      "08:29:16 Completed 10 out of 40 steps\n",
      "08:29:18 Completed 11 out of 40 steps\n",
      "08:29:19 Completed 12 out of 40 steps\n",
      "08:29:20 Completed 13 out of 40 steps\n",
      "08:29:22 Completed 14 out of 40 steps\n",
      "08:29:23 Completed 15 out of 40 steps\n",
      "08:29:24 Completed 16 out of 40 steps\n",
      "08:29:25 Completed 17 out of 40 steps\n",
      "08:29:26 Completed 18 out of 40 steps\n",
      "08:29:26 Completed 19 out of 40 steps\n",
      "08:29:27 Completed 20 out of 40 steps\n",
      "08:29:28 Completed 21 out of 40 steps\n",
      "08:29:29 Completed 22 out of 40 steps\n",
      "08:29:29 Completed 23 out of 40 steps\n",
      "08:29:30 Completed 24 out of 40 steps\n",
      "08:29:31 Completed 25 out of 40 steps\n",
      "08:29:31 Completed 26 out of 40 steps\n",
      "08:29:32 Completed 27 out of 40 steps\n",
      "08:29:33 Completed 28 out of 40 steps\n",
      "08:29:33 Completed 29 out of 40 steps\n",
      "08:29:34 Completed 30 out of 40 steps\n",
      "08:29:35 Completed 31 out of 40 steps\n",
      "08:29:35 Completed 32 out of 40 steps\n",
      "08:29:36 Completed 33 out of 40 steps\n",
      "08:29:37 Completed 34 out of 40 steps\n",
      "08:29:37 Completed 35 out of 40 steps\n",
      "08:29:38 Completed 36 out of 40 steps\n",
      "08:29:39 Completed 37 out of 40 steps\n",
      "08:29:40 Completed 38 out of 40 steps\n",
      "08:29:40 Completed 39 out of 40 steps\n"
     ]
    }
   ],
   "source": [
    "samples_val_max = sample(val_dataset_max, model, args, visualize_first_n_samples=5, visualization_dir='./visualization/worst_samples')\n"
   ]
  },
  {
   "cell_type": "code",
   "execution_count": 44,
   "metadata": {},
   "outputs": [
    {
     "name": "stdout",
     "output_type": "stream",
     "text": [
      "{'rmsds_lt2': 0.0, 'rmsds_lt5': 40.0, 'rmsds_mean': 20.964426, 'rmsds_median': 13.240943}\n"
     ]
    }
   ],
   "source": [
    "val_score_max = evaluate_pose(val_dataset[max_indices], samples_val_max)\n",
    "rmsds_max = np.array(val_score_max[\"rmsd\"])\n",
    "reverse_diffusion_metrics_max = {'rmsds_lt2': (100 * (rmsds_max < 2).sum() / len(rmsds_max)),\n",
    "                             'rmsds_lt5': (100 * (rmsds_max < 5).sum() / len(rmsds_max)),\n",
    "                             'rmsds_mean': rmsds_max.mean(),\n",
    "                             'rmsds_median': np.median(rmsds_max)}\n",
    "print(reverse_diffusion_metrics_max)"
   ]
  },
  {
   "cell_type": "code",
   "execution_count": 45,
   "metadata": {},
   "outputs": [
    {
     "data": {
      "text/plain": [
       "{'rmsd': [tensor(13.2409),\n",
       "  tensor(4.1688),\n",
       "  tensor(3.5944),\n",
       "  tensor(43.6073),\n",
       "  tensor(40.2108)]}"
      ]
     },
     "execution_count": 45,
     "metadata": {},
     "output_type": "execute_result"
    }
   ],
   "source": [
    "val_score_max"
   ]
  },
  {
   "cell_type": "code",
   "execution_count": 207,
   "metadata": {},
   "outputs": [
    {
     "name": "stdout",
     "output_type": "stream",
     "text": [
      "tensor(1.0215)\n"
     ]
    },
    {
     "data": {
      "image/png": "[encoded data removed]",
      "text/plain": [
       "<Figure size 432x288 with 1 Axes>"
      ]
     },
     "metadata": {
      "needs_background": "light"
     },
     "output_type": "display_data"
    }
   ],
   "source": [
    "true_graph, pred_graph = val_dataset_without_noise[rmsds.argmin()], samples_val[rmsds.argmin()]\n",
    "true_xyz = true_graph[\"ligand\"].pos\n",
    "pred_xyz = pred_graph[\"ligand\"].pos\n",
    "\n",
    "print(compute_rmsd(true_xyz, pred_xyz))\n",
    "\n",
    "#dist_from_com = torch.norm(true_xyz-true_xyz.mean(0), p=2, dim=1)\n",
    "dist_from_com = torch.norm(pred_xyz-pred_xyz.mean(0), p=2, dim=1)\n",
    "\n",
    "\n",
    "square_deviation_per_residue = ((true_xyz-pred_xyz)**2).sum(-1)\n",
    "plt.scatter(dist_from_com, square_deviation_per_residue, s=5)\n",
    "plt.show()\n"
   ]
  },
  {
   "cell_type": "code",
   "execution_count": 15,
   "metadata": {},
   "outputs": [],
   "source": [
    "rmsds = np.array([18.55453873, 52.48733139,  0.95979214,  5.29088259, 19.08759308,\n",
    "       24.22147179,  0.6637181 ,  3.44789147,  0.99152851,  0.87315911,\n",
    "       13.27579403,  2.43114018,  3.73751402, 14.17319298,  5.36911011,\n",
    "        0.74436826,  4.82810926,  5.32153845,  1.28382909,  6.08122683,\n",
    "        3.77207398, 21.30369568, 25.4969902 , 63.19504547, 45.38077545,\n",
    "        7.71054459, 37.6367836 ,  2.24138761, 51.54737473, 19.49333   ,\n",
    "        1.11175966, 10.67053699, 12.45097733,  0.82715404,  2.21490097,\n",
    "       24.13285446, 40.37942123,  0.47576505,  9.71454334, 51.33063126,\n",
    "       22.13999176,  2.31724572, 24.93940353, 17.03530121, 52.64008331,\n",
    "        7.09895515,  2.03118896,  1.37214077,  1.55087042,  0.53179914,\n",
    "        9.84427357,  1.10775387, 46.2383194 ,  1.29177773,  3.62341595,\n",
    "       31.23996353,  1.40504074, 46.98308563,  9.9671545 , 19.81276894,\n",
    "       23.2368145 ,  5.21680784,  0.56136   ,  1.06705058, 15.67559147,\n",
    "       40.68418884,  9.17874718, 30.65575027,  1.34148216, 13.98250389,\n",
    "        1.35499239, 59.65415573, 42.22156906,  8.85554314,  1.74397933,\n",
    "       34.10089111,  2.00573063,  9.72453785,  0.87984627, 29.78113937,\n",
    "        2.86255312,  6.33035898, 32.24247742, 22.36004639, 11.41702271,\n",
    "        2.98866129, 20.34176826,  0.62147456, 10.13168716, 10.96499729,\n",
    "       44.09468842,  3.87953281,  0.69320494,  1.92998314, 19.41574669,\n",
    "        2.70588326,  1.24329674,  2.20317698,  5.34725952, 23.50101471])"
   ]
  },
  {
   "cell_type": "code",
   "execution_count": 27,
   "metadata": {},
   "outputs": [],
   "source": [
    "from scipy.spatial.distance import cdist"
   ]
  },
  {
   "cell_type": "code",
   "execution_count": 31,
   "metadata": {},
   "outputs": [
    {
     "name": "stderr",
     "output_type": "stream",
     "text": [
      "100%|██████████| 100/100 [00:00<00:00, 211.41it/s]"
     ]
    },
    {
     "name": "stdout",
     "output_type": "stream",
     "text": [
      "(100,)\n",
      "(100,)\n",
      "(100,)\n"
     ]
    },
    {
     "name": "stderr",
     "output_type": "stream",
     "text": [
      "\n"
     ]
    }
   ],
   "source": [
    "num_residues = []\n",
    "num_residues_receptor = []\n",
    "average_dist_from_com = []\n",
    "max_dist_from_com = []\n",
    "max_pairwise_dist = []\n",
    "for true_graph in tqdm(val_dataset):\n",
    "    \n",
    "    true_xyz = true_graph[\"ligand\"].pos\n",
    "        \n",
    "    true_xyz_receptor = true_graph[\"receptor\"].pos\n",
    "    \n",
    "    num_residues.append(true_xyz.shape[0])\n",
    "    num_residues_receptor.append(true_xyz_receptor.shape[0])\n",
    "    \n",
    "    dist_from_com = torch.norm(true_xyz-true_xyz.mean(0), p=2, dim=1)\n",
    "    average_dist_from_com.append(dist_from_com.mean())\n",
    "    max_dist_from_com.append(dist_from_com.max())\n",
    "    \n",
    "    Y = cdist(true_xyz, true_xyz, 'euclidean')\n",
    "    max_pairwise_dist.append(Y.max())\n",
    "\n",
    "    \n",
    "    #dist_from_com_pred = torch.norm(pred_xyz-pred_xyz.mean(0), p=2, dim=1)\n",
    "    #print(f'MEAN. true: {dist_from_com.mean()}. pred: {dist_from_com_pred.mean()}')\n",
    "    #print(f'MAX. true: {dist_from_com.max()}. pred: {dist_from_com_pred.max()}')\n",
    "    \n",
    "    #square_deviation_per_residue = ((true_xyz-pred_xyz)**2).sum(-1)\n",
    "    #plt.scatter(dist_from_com, square_deviation_per_residue, s=5)\n",
    "    #plt.show()\n",
    "    #print(true_xyz.shape)\n",
    "    #print(pred_xyz.shape)\n",
    "    #break\n",
    "num_residues = np.array(num_residues)\n",
    "num_residues_receptor = np.array(num_residues_receptor)\n",
    "average_dist_from_com = np.array(average_dist_from_com)\n",
    "max_dist_from_com = np.array(max_dist_from_com)\n",
    "max_pairwise_dist = np.array(max_pairwise_dist)\n",
    "print(num_residues.shape)\n",
    "print(average_dist_from_com.shape)\n",
    "print(max_dist_from_com.shape)"
   ]
  },
  {
   "cell_type": "code",
   "execution_count": 18,
   "metadata": {},
   "outputs": [
    {
     "data": {
      "image/png": "[encoded data removed]",
      "text/plain": [
       "<Figure size 640x480 with 1 Axes>"
      ]
     },
     "metadata": {},
     "output_type": "display_data"
    }
   ],
   "source": [
    "plt.scatter(num_residues, rmsds, s=5)\n",
    "plt.title(\"medium model trained on DIPS\")\n",
    "plt.xlabel(\"number of residues per ligand\")\n",
    "plt.ylabel(\"TOP 10 RMSD\")\n",
    "plt.show()"
   ]
  },
  {
   "cell_type": "code",
   "execution_count": 22,
   "metadata": {},
   "outputs": [
    {
     "data": {
      "image/png": "[encoded data removed]",
      "text/plain": [
       "<Figure size 640x480 with 1 Axes>"
      ]
     },
     "metadata": {},
     "output_type": "display_data"
    }
   ],
   "source": [
    "plt.scatter(num_residues_receptor, rmsds, s=5)\n",
    "plt.title(\"medium model trained on DIPS\")\n",
    "plt.xlabel(\"number of residues per receptor\")\n",
    "plt.ylabel(\"TOP 10 RMSD\")\n",
    "plt.show()"
   ]
  },
  {
   "cell_type": "code",
   "execution_count": 19,
   "metadata": {},
   "outputs": [
    {
     "data": {
      "image/png": "[encoded data removed]",
      "text/plain": [
       "<Figure size 640x480 with 1 Axes>"
      ]
     },
     "metadata": {},
     "output_type": "display_data"
    }
   ],
   "source": [
    "plt.scatter(average_dist_from_com, rmsds, s=5)\n",
    "plt.title(\"medium model trained for 100 epochs on DIPS\")\n",
    "plt.xlabel(\"Average L2 distance of residues from their COM\")\n",
    "plt.ylabel(\"RMSD\")\n",
    "plt.show()"
   ]
  },
  {
   "cell_type": "code",
   "execution_count": 20,
   "metadata": {},
   "outputs": [
    {
     "data": {
      "image/png": "[encoded data removed]",
      "text/plain": [
       "<Figure size 640x480 with 1 Axes>"
      ]
     },
     "metadata": {},
     "output_type": "display_data"
    }
   ],
   "source": [
    "plt.scatter(max_dist_from_com, rmsds, s=5)\n",
    "plt.title(\"medium model trained for 100 epochs on DIPS\")\n",
    "plt.xlabel(\"Max L2 distance of residues from their COM\")\n",
    "plt.ylabel(\"RMSD\")\n",
    "plt.show()"
   ]
  },
  {
   "cell_type": "code",
   "execution_count": 32,
   "metadata": {},
   "outputs": [
    {
     "data": {
      "image/png": "[encoded data removed]",
      "text/plain": [
       "<Figure size 640x480 with 1 Axes>"
      ]
     },
     "metadata": {},
     "output_type": "display_data"
    }
   ],
   "source": [
    "plt.scatter(max_pairwise_dist, rmsds, s=5)\n",
    "plt.title(\"medium model trained on DIPS\")\n",
    "plt.xlabel(\"Max pairwise distance\")\n",
    "plt.ylabel(\"TOP 10 RMSD\")\n",
    "plt.show()"
   ]
  },
  {
   "cell_type": "code",
   "execution_count": 42,
   "metadata": {},
   "outputs": [
    {
     "name": "stderr",
     "output_type": "stream",
     "text": [
      "[autoreload of sample failed: Traceback (most recent call last):\n",
      "  File \"/data/rsg/nlp/sdobers/miniconda3/envs/diffdock_protein/lib/python3.10/site-packages/IPython/extensions/autoreload.py\", line 257, in check\n",
      "    superreload(m, reload, self.old_objects)\n",
      "  File \"/data/rsg/nlp/sdobers/miniconda3/envs/diffdock_protein/lib/python3.10/site-packages/IPython/extensions/autoreload.py\", line 455, in superreload\n",
      "    module = reload(module)\n",
      "  File \"/data/rsg/nlp/sdobers/miniconda3/envs/diffdock_protein/lib/python3.10/importlib/__init__.py\", line 168, in reload\n",
      "    raise ModuleNotFoundError(f\"spec not found for the module {name!r}\", name=name)\n",
      "ModuleNotFoundError: spec not found for the module 'sample'\n",
      "]\n"
     ]
    }
   ],
   "source": [
    "from torch_geometric.loader import DataLoader"
   ]
  },
  {
   "cell_type": "code",
   "execution_count": 44,
   "metadata": {},
   "outputs": [],
   "source": [
    "test_loader = DataLoader(val_loader, batch_size=args.batch_size)"
   ]
  },
  {
   "cell_type": "code",
   "execution_count": 54,
   "metadata": {},
   "outputs": [
    {
     "name": "stdout",
     "output_type": "stream",
     "text": [
      "cuda:1\n"
     ]
    }
   ],
   "source": [
    "for complex_graphs in test_loader:\n",
    "    complex_graphs = complex_graphs.cuda()\n",
    "    print(complex_graphs[\"ligand\"]['node_t']['tr'].device)\n",
    "    break"
   ]
  },
  {
   "cell_type": "code",
   "execution_count": null,
   "metadata": {},
   "outputs": [],
   "source": []
  }
 ],
 "metadata": {
  "kernelspec": {
   "display_name": "Python 3 (ipykernel)",
   "language": "python",
   "name": "python3"
  },
  "language_info": {
   "codemirror_mode": {
    "name": "ipython",
    "version": 3
   },
   "file_extension": ".py",
   "mimetype": "text/x-python",
   "name": "python",
   "nbconvert_exporter": "python",
   "pygments_lexer": "ipython3",
   "version": "3.10.8"
  },
  "vscode": {
   "interpreter": {
    "hash": "e05d7295fa6cad4a21e4fe3e74879e5399752387a2e5cfb08277f6b68f139a78"
   }
  }
 },
 "nbformat": 4,
 "nbformat_minor": 2
}
