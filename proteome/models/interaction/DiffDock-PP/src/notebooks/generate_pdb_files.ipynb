{
 "cells": [
  {
   "cell_type": "code",
   "execution_count": 13,
   "id": "040397e1-3496-4d75-9c05-7e3792607748",
   "metadata": {},
   "outputs": [],
   "source": [
    "import yaml\n",
    "import os, sys\n",
    "import torch\n",
    "import numpy as np\n",
    "import matplotlib.pyplot as plt\n",
    "from tqdm import tqdm\n",
    "import copy\n",
    "import random\n",
    "import pickle"
   ]
  },
  {
   "cell_type": "code",
   "execution_count": 7,
   "id": "0e3fc475-ab27-4328-90e2-6ffece6d2c9d",
   "metadata": {},
   "outputs": [
    {
     "name": "stderr",
     "output_type": "stream",
     "text": [
      "100%|█████████████████████████████████████████████████████████████████████████████████████████████████████████████████████████████████████| 201/201 [01:05<00:00,  3.06it/s]\n",
      "100%|█████████████████████████████████████████████████████████████████████████████████████████████████████████████████████████████████████| 201/201 [01:13<00:00,  2.72it/s]\n",
      "/data/rsg/nlp/sdobers/ruslan/diffdock-protein/src/geom_utils/torus.py:46: RuntimeWarning: invalid value encountered in divide\n",
      "  score_ = grad(x, sigma[:, None], N=100) / p_\n"
     ]
    }
   ],
   "source": [
    "sys.path.append(\"/data/rsg/nlp/sdobers/ruslan/diffdock-protein/src\")\n",
    "\n",
    "from data import load_data, get_data\n",
    "from data.utils import DIPSLoader"
   ]
  },
  {
   "cell_type": "code",
   "execution_count": 8,
   "id": "620f11e8-7e55-4ca4-bc8c-f3a5cb40de52",
   "metadata": {},
   "outputs": [],
   "source": [
    "class Dict2Class:\n",
    "    def __init__(self, my_dict):\n",
    "        for key in my_dict:\n",
    "            setattr(self, key, my_dict[key])\n",
    "            \n",
    "with open(\"/data/rsg/nlp/sdobers/ruslan/diffdock-protein/config/dips_esm_batchwise_loading.yaml\", \"r\") as f:\n",
    "    args_loaded = yaml.safe_load(f)\n",
    "\n",
    "args_dict = {} \n",
    "for small_dict in args_loaded.values():\n",
    "    args_dict = {**args_dict, **small_dict}\n",
    "    \n",
    "args_dict = {\n",
    "    **args_dict, \n",
    "    \"samples_directory\": \"/data/rsg/nlp/sdobers/DIPS/confidence_full_20_poses\",\n",
    "    \"debug\": False,\n",
    "    \"recache\": False,\n",
    "    \"use_randomized_confidence_data\": False,\n",
    "    \"mode\": \"\"\n",
    "}\n",
    "\n",
    "args = Dict2Class(args_dict)\n",
    "\n",
    "fold = 0"
   ]
  },
  {
   "cell_type": "code",
   "execution_count": 18,
   "id": "619940b0-ad5f-47fe-bc7a-a947fd25b3f3",
   "metadata": {},
   "outputs": [],
   "source": [
    "n_batches = DIPSLoader.get_n_batches()[\"test\"]\n",
    "batch_indexes = list(range(n_batches))\n",
    "test_batches = [load_data(args, split=\"test\", batch=index, verbose=False)  for index in tqdm(batch_indexes)]\n",
    "test_batches_loaders = [get_data(batch, fold, args, for_reverse_diffusion=True)[\"test\"] for batch in test_batches]"
   ]
  },
  {
   "cell_type": "code",
   "execution_count": 11,
   "id": "75f9e3fa-952c-4621-a1bc-7ad63580d6b7",
   "metadata": {},
   "outputs": [],
   "source": [
    "def write_pdb(item, graph, part, path):\n",
    "    lines = to_pdb_lines(item, graph, part)\n",
    "    with open(path, \"w\") as file:\n",
    "        file.writelines(lines)\n",
    "\n",
    "\n",
    "def to_pdb_lines(visualization_values, graph, part):\n",
    "    assert part in (\"ligand\", \"receptor\", \"both\"), \"Part should be ligand or receptor\"\n",
    "    parts = [\"ligand\", \"receptor\"] if part == \"both\" else [part]\n",
    "\n",
    "    lines = []\n",
    "    for part in parts:\n",
    "        this_vis_values = visualization_values[part]\n",
    "        this_vis_values = {k: v.strip() if type(v) is str else v for k, v in this_vis_values.items()}\n",
    "        for i, resname in enumerate(this_vis_values[\"resname\"]):\n",
    "            xyz = graph[part].pos[i]\n",
    "\n",
    "            line = f'ATOM  {i + 1:>5} {this_vis_values[\"atom_name\"][i]:>4} '\n",
    "            line = line + f'{resname} {this_vis_values[\"chain\"][i]}{this_vis_values[\"residue\"][i]:>4}    '\n",
    "            line = line + f'{xyz[0]:>8.3f}{xyz[1]:>8.3f}{xyz[2]:>8.3f}'\n",
    "            line = line + '  1.00  0.00          '\n",
    "            line = line + f'{this_vis_values[\"element\"][i]:>2} 0\\n'\n",
    "            lines.append(line)\n",
    "\n",
    "    return lines"
   ]
  },
  {
   "cell_type": "code",
   "execution_count": 52,
   "id": "b77a834d-ebde-4997-bf7b-aeb4b526b9dd",
   "metadata": {},
   "outputs": [],
   "source": [
    "PATH_dips_40s_large = '/data/rsg/nlp/sdobers/amine/diffdock-protein/storage/largest_model_140_epochs/dips_test_40s_lowtemp.pkl'\n",
    "with open(PATH_dips_40s_large, \"rb\") as f:\n",
    "    results = pickle.load(f)"
   ]
  },
  {
   "cell_type": "code",
   "execution_count": 53,
   "id": "c2c7f824-be71-41cc-8e3a-30dda5caac26",
   "metadata": {},
   "outputs": [
    {
     "data": {
      "text/plain": [
       "100"
      ]
     },
     "execution_count": 53,
     "metadata": {},
     "output_type": "execute_result"
    }
   ],
   "source": [
    "len(results)"
   ]
  },
  {
   "cell_type": "code",
   "execution_count": 54,
   "id": "bc519925-5708-46ba-9c46-1eec7c5bfe28",
   "metadata": {},
   "outputs": [],
   "source": [
    "gt = [res[0][0] for res in results]\n",
    "\n",
    "all_pred = [[graph_confidence[0] for graph_confidence in res[1:41]] for res in results]"
   ]
  },
  {
   "cell_type": "code",
   "execution_count": 55,
   "id": "f6fb4819-b932-40d2-90a3-42e7ef8214a7",
   "metadata": {},
   "outputs": [
    {
     "data": {
      "text/plain": [
       "100"
      ]
     },
     "execution_count": 55,
     "metadata": {},
     "output_type": "execute_result"
    }
   ],
   "source": [
    "len(all_pred)"
   ]
  },
  {
   "cell_type": "code",
   "execution_count": 56,
   "id": "b92e5be8-c878-4850-a9f4-ad8e1c2b5ec3",
   "metadata": {},
   "outputs": [],
   "source": [
    "directory = \"/data/rsg/nlp/sdobers/ruslan/diffdock-protein/visualization_results\"\n",
    "\n",
    "visualization_items = []\n",
    "\n",
    "for gt_graph in gt:\n",
    "    for batch in test_batches_loaders:\n",
    "        if gt_graph.name in batch.pdb_ids:\n",
    "            visualization = batch.get_visualization_values(pdb_name=gt_graph.name)\n",
    "            visualization_items.append(visualization)"
   ]
  },
  {
   "cell_type": "code",
   "execution_count": 57,
   "id": "dc23c24c-4730-452c-a647-90331f61906b",
   "metadata": {},
   "outputs": [],
   "source": [
    "import os\n",
    "\n",
    "for gt_graph, item in zip(gt, visualization_items):\n",
    "    name = gt_graph.name.replace('/', '_').replace('.dill', '')\n",
    "    current_dir = f\"{directory}/{name}\"\n",
    "    os.makedirs(current_dir, exist_ok=True)\n",
    "    write_pdb(item, gt_graph, \"receptor\", f\"{current_dir}/receptor.pdb\")\n",
    "    write_pdb(item, gt_graph, \"ligand\", f\"{current_dir}/ligand_gt.pdb\")"
   ]
  },
  {
   "cell_type": "code",
   "execution_count": 58,
   "id": "8cb31efc-98e1-440a-a2ae-8d3015bd2b7b",
   "metadata": {},
   "outputs": [],
   "source": [
    "for iteration_i in range(40):\n",
    "    for graph_i in range(len(all_pred)):\n",
    "        graph = all_pred[graph_i][iteration_i]\n",
    "        item = visualization_items[graph_i]\n",
    "        \n",
    "        name = graph.name.replace('/', '_').replace('.dill', '')\n",
    "        \n",
    "        current_dir = f\"{directory}/{name}\"\n",
    "        write_pdb(item, graph, \"ligand\", f\"{current_dir}/ligand_{iteration_i}.pdb\")"
   ]
  },
  {
   "cell_type": "code",
   "execution_count": null,
   "id": "dce25883-d0dd-4e05-b44f-31cced3f62c7",
   "metadata": {},
   "outputs": [],
   "source": []
  }
 ],
 "metadata": {
  "kernelspec": {
   "display_name": "Python 3 (ipykernel)",
   "language": "python",
   "name": "python3"
  },
  "language_info": {
   "codemirror_mode": {
    "name": "ipython",
    "version": 3
   },
   "file_extension": ".py",
   "mimetype": "text/x-python",
   "name": "python",
   "nbconvert_exporter": "python",
   "pygments_lexer": "ipython3",
   "version": "3.10.8"
  }
 },
 "nbformat": 4,
 "nbformat_minor": 5
}
