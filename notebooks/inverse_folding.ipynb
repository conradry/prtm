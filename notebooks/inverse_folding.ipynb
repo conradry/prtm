{
 "cells": [
  {
   "cell_type": "markdown",
   "id": "fe82d39a-8c23-4dea-9230-d742bf547827",
   "metadata": {},
   "source": [
    "# Inverse Folding\n",
    "\n",
    "This notebooks shows a basic example of monomer inverse folding / sequence design with `prtm`."
   ]
  },
  {
   "cell_type": "code",
   "execution_count": null,
   "id": "487527f1-2260-4d90-8deb-491a9b5b7b13",
   "metadata": {},
   "outputs": [],
   "source": [
    "%load_ext autoreload\n",
    "%autoreload 2"
   ]
  },
  {
   "cell_type": "code",
   "execution_count": null,
   "id": "547dbd81-bf73-46af-b55f-aca9b9753b18",
   "metadata": {},
   "outputs": [],
   "source": [
    "from proteome import models\n",
    "from proteome import protein\n",
    "from proteome import visual\n",
    "from proteome.query import caching"
   ]
  },
  {
   "cell_type": "markdown",
   "id": "331a0da3-b065-411f-8435-97b966c1e9cf",
   "metadata": {},
   "source": [
    "Let's load the structure of a designed protein."
   ]
  },
  {
   "cell_type": "code",
   "execution_count": null,
   "id": "b1ac906c-44eb-4123-a08b-ea890a2c28dd",
   "metadata": {},
   "outputs": [],
   "source": [
    "pdb_str = protein.get_structure_from_pdb(\"5L33\")\n",
    "structure = protein.Protein37.from_pdb_string(pdb_str)"
   ]
  },
  {
   "cell_type": "markdown",
   "id": "3415152e-a7eb-488f-bdb9-2b39e141ec25",
   "metadata": {},
   "source": [
    "Now we'll define a dict with all of the inverse folding pipelines we want to try for this structure. In addition, we'll load a folding model to test the generated sequences. `OmegaFold` is a good choice for de novo designed structures because it doesn't rely on MSAs."
   ]
  },
  {
   "cell_type": "code",
   "execution_count": null,
   "id": "ac086eb5-f95f-4732-a499-6fb73dd728aa",
   "metadata": {},
   "outputs": [],
   "source": [
    "inverse_folders = {\n",
    "    \"ProteinMPNN\": models.ProteinMPNNForInverseFolding(),\n",
    "    \"ESMIF\": models.ESMForInverseFolding(),\n",
    "    \"ProteinSolver\": models.ProteinSolverForInverseFolding(),\n",
    "    # Note that this model requires pyrosetta installation\n",
    "    # Comment it out otherwise\n",
    "    \"ProteinSeqDes\": models.ProteinSeqDesForInverseFolding()\n",
    "}\n",
    "folder = models.OmegaFoldForFolding()"
   ]
  },
  {
   "cell_type": "markdown",
   "id": "60a9ba8f-c3f8-4952-b7d6-d28eb626e5e4",
   "metadata": {},
   "source": [
    "We choose to use the term `inverse folding` for these pipelines to clarify the expected inputs and outputs but the term `sequence design` is also commonly used. Aside from `ProteinSolver` which is nearly deterministic, all of the defined `inverse_folders` use some sampling procedure to create diverse sequences. Novel sequences are useful because they increase the odds of finding a sequence that actually folds into the designed structure in vitro."
   ]
  },
  {
   "cell_type": "code",
   "execution_count": null,
   "id": "ace7fdcc-c9ff-480c-a350-aa8a29ed737c",
   "metadata": {},
   "outputs": [],
   "source": [
    "designed_sequences = {}\n",
    "aux_outputs = {}\n",
    "for if_name, inverse_folder in inverse_folders.items():\n",
    "    print(f\"Running {if_name}...\")\n",
    "    designed_sequences[if_name] = []\n",
    "    aux_outputs[if_name] = []\n",
    "    # Generate 3 possible sequences with each inverse folder\n",
    "    for _ in range(3):\n",
    "        designed_sequence, aux_output = inverse_folder(structure)\n",
    "        designed_sequences[if_name].append(designed_sequence)\n",
    "        aux_outputs[if_name].append(aux_output)"
   ]
  },
  {
   "cell_type": "markdown",
   "id": "ea6fc624-91d8-466d-a411-b8327a507480",
   "metadata": {},
   "source": [
    "`ProteinSeqDes` is notably slower than the other algorithms because it uses a learned potential function to run a traditional energy minimization procedure.  \n",
    "\n",
    "Looking at the aux_outputs first, we get scores for each designed sequence (higher is better) or an estimated energy for the structure in the case of `ProteinSeqDes` (lower is better)."
   ]
  },
  {
   "cell_type": "code",
   "execution_count": null,
   "id": "6752b83e-f032-4377-8e41-14f3da75c488",
   "metadata": {},
   "outputs": [],
   "source": [
    "aux_outputs"
   ]
  },
  {
   "cell_type": "markdown",
   "id": "d3e678cc-d786-4e4e-bd5a-050995978093",
   "metadata": {},
   "source": [
    "Let's fold the first sequence designed by each model and then compare the results to our desired structure."
   ]
  },
  {
   "cell_type": "code",
   "execution_count": null,
   "id": "f70300c4-7336-4a01-b914-573c2464272a",
   "metadata": {},
   "outputs": [],
   "source": [
    "predicted_structures = {}\n",
    "folder_aux_outputs = {}\n",
    "for if_name, sequences in designed_sequences.items():\n",
    "    # First the first designed sequence from each\n",
    "    print(f\"Folding {if_name} sequence...\")\n",
    "    predicted_structure, folder_aux_output = folder(sequences[0])\n",
    "    predicted_structures[if_name] = predicted_structure\n",
    "    folder_aux_outputs[if_name] = folder_aux_output"
   ]
  },
  {
   "cell_type": "markdown",
   "id": "a9ef0711-7fd1-4757-9c8d-8184b38d3983",
   "metadata": {},
   "source": [
    "We'd expect that higher folding confidence should correlate with better sequences (or at least sequences that are similar to those found in the `PBD`). "
   ]
  },
  {
   "cell_type": "code",
   "execution_count": null,
   "id": "596e2d09-00a7-4017-9fc7-4ce329e87b8b",
   "metadata": {},
   "outputs": [],
   "source": [
    "folder_aux_outputs"
   ]
  },
  {
   "cell_type": "code",
   "execution_count": null,
   "id": "63f60081-b46c-4ebf-9fcc-9ce44e67709d",
   "metadata": {},
   "outputs": [],
   "source": [
    "visual.view_aligned_structures_grid(\n",
    "    [structure] + list(predicted_structures.values()), cmap=\"viridis\", bfactor_is_confidence=True\n",
    ")"
   ]
  },
  {
   "cell_type": "code",
   "execution_count": null,
   "id": "ba5ee217-eef8-4ceb-9eb5-47b9121735fb",
   "metadata": {},
   "outputs": [],
   "source": [
    "visual.view_superimposed_structures(structure, predicted_structures[\"ProteinMPNN\"])"
   ]
  },
  {
   "cell_type": "code",
   "execution_count": null,
   "id": "e74bd6c2-40a9-4da3-9721-30bfd87e01df",
   "metadata": {},
   "outputs": [],
   "source": []
  }
 ],
 "metadata": {
  "kernelspec": {
   "display_name": "Python 3 (ipykernel)",
   "language": "python",
   "name": "python3"
  },
  "language_info": {
   "codemirror_mode": {
    "name": "ipython",
    "version": 3
   },
   "file_extension": ".py",
   "mimetype": "text/x-python",
   "name": "python",
   "nbconvert_exporter": "python",
   "pygments_lexer": "ipython3",
   "version": "3.10.11"
  }
 },
 "nbformat": 4,
 "nbformat_minor": 5
}
