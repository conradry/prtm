{
 "cells": [
  {
   "cell_type": "markdown",
   "id": "38c438d4-7fa4-4a04-b753-25ad6dd2e585",
   "metadata": {},
   "source": [
    "# Protein Generator"
   ]
  },
  {
   "cell_type": "code",
   "execution_count": 1,
   "id": "d1d24f8f-c558-4b50-a908-67e4be544a1e",
   "metadata": {},
   "outputs": [],
   "source": [
    "%load_ext autoreload\n",
    "%autoreload 2"
   ]
  },
  {
   "cell_type": "code",
   "execution_count": 2,
   "id": "d728f8d5-6bee-40b4-83b1-a0871c2eb423",
   "metadata": {
    "tags": []
   },
   "outputs": [],
   "source": [
    "import os, sys, json\n",
    "\n",
    "from dataclasses import asdict\n",
    "\n",
    "import py3Dmol\n",
    "import torch\n",
    "import numpy as np\n",
    "from tqdm import tqdm\n",
    "\n",
    "from proteome import protein\n",
    "from proteome.models.protein_generator import config\n",
    "from proteome.models.omegafold.modeling import OmegaFoldForFolding\n",
    "from proteome.models.protein_generator.modeling import ProteinGeneratorForJointDesign\n",
    "from proteome.models.protein_generator.sampler import SeqDiffSampler"
   ]
  },
  {
   "cell_type": "code",
   "execution_count": 3,
   "id": "d9bee947-10f1-46e8-afd2-8f42e80dab39",
   "metadata": {},
   "outputs": [],
   "source": [
    "def show_structure(pdb_str):\n",
    "    PLDDT_BANDS = [\n",
    "      (0, 50, '#FF7D45'),\n",
    "      (50, 70, '#FFDB13'),\n",
    "      (70, 90, '#65CBF3'),\n",
    "      (90, 100, '#0053D6')\n",
    "    ]\n",
    "    view = py3Dmol.view(width=800, height=600)\n",
    "    view.addModelsAsFrames(pdb_str)\n",
    "    \n",
    "    color_map = {i: bands[2] for i, bands in enumerate(PLDDT_BANDS)}\n",
    "    style = {'cartoon': {'colorscheme': {'prop': 'b', 'map': color_map}}}\n",
    "    \n",
    "    style['stick'] = {}\n",
    "    \n",
    "    view.setStyle({'model': -1}, style)\n",
    "    view.zoomTo()\n",
    "    return view"
   ]
  },
  {
   "cell_type": "code",
   "execution_count": 57,
   "id": "f82b7e8a-0ab1-40af-8dc1-03ae245acf7f",
   "metadata": {},
   "outputs": [],
   "source": [
    "designer = ProteinGeneratorForJointDesign(model_name=\"auto\", random_seed=0)\n",
    "#folder = OmegaFoldForFolding()"
   ]
  },
  {
   "cell_type": "code",
   "execution_count": 62,
   "id": "aae44759-8512-490a-bca6-5f4765060858",
   "metadata": {},
   "outputs": [],
   "source": [
    "def get_pdb():\n",
    "    from glob import glob\n",
    "    pdbs = glob(\"reference*.pdb\")\n",
    "    for pdb in pdbs:\n",
    "        yield pdb"
   ]
  },
  {
   "cell_type": "markdown",
   "id": "1be86199-3eb0-4925-a1fa-a851a393f456",
   "metadata": {},
   "source": [
    "## Binder Design"
   ]
  },
  {
   "cell_type": "markdown",
   "id": "eeb80466-bb81-4cf1-9753-62a50060d535",
   "metadata": {},
   "source": [
    "```bash\n",
    "python ./inference.py \\\n",
    "    --num_designs 10 \\\n",
    "    --out examples/out/binder_design \\\n",
    "    --pdb examples/pdbs/cd86.pdb \\\n",
    "    --T 25 --save_best_plddt \\\n",
    "    --contigs B1-110,0 25-75 \\\n",
    "    --hotspots B40,B32,B87,B96,B30\n",
    "```"
   ]
  },
  {
   "cell_type": "code",
   "execution_count": 5,
   "id": "9daf8ef2-f0ce-40ef-a91f-5fae5edfbcb1",
   "metadata": {},
   "outputs": [],
   "source": [
    "with open(\"cd86.pdb\", mode=\"r\") as f:\n",
    "    reference_pdb_str = f.read()\n",
    "\n",
    "reference_structure = protein.Protein27.from_pdb_string(reference_pdb_str)"
   ]
  },
  {
   "cell_type": "code",
   "execution_count": 6,
   "id": "0a16c8c5-bda0-4f65-9fc4-35b928cb4752",
   "metadata": {},
   "outputs": [
    {
     "name": "stderr",
     "output_type": "stream",
     "text": [
      "  0%|                                                                                                                                              | 0/25 [00:00<?, ?it/s]/home/conradry71/micromamba/envs/proteome/lib/python3.10/site-packages/dgl/backend/pytorch/tensor.py:449: UserWarning: TypedStorage is deprecated. It will be removed in the future and UntypedStorage will be the only storage class. This should only matter to you if you are using storages directly.  To access UntypedStorage directly, use tensor.untyped_storage() instead of tensor.storage()\n",
      "  assert input.numel() == input.storage().size(), (\n",
      "100%|█████████████████████████████████████████████████████████████████████████████████████████████████████████████████████████████████████| 25/25 [01:59<00:00,  4.76s/it]\n"
     ]
    }
   ],
   "source": [
    "designed_structure, designed_sequence = designer.design_structure_and_sequence(\n",
    "    config.InferenceConfig(\n",
    "        reference_structure=reference_structure,\n",
    "        contigmap_params=config.ContigMap(contigs=[\"B1-110/0 25-75\"]),\n",
    "        hotspot_params=config.HotspotParams(hotspot_res=[\"B40\", \"B32\", \"B87\", \"B96\", \"B30\"]),\n",
    "    ),\n",
    ")\n",
    "designed_pdb = designed_structure.to_pdb()"
   ]
  },
  {
   "cell_type": "code",
   "execution_count": 7,
   "id": "37b0e271-09b3-485d-ba4f-6ecf52b17ed9",
   "metadata": {},
   "outputs": [],
   "source": [
    "#show_structure(designed_pdb)"
   ]
  },
  {
   "cell_type": "code",
   "execution_count": 8,
   "id": "fa9756db-cc69-4524-928c-365ea2b49784",
   "metadata": {},
   "outputs": [],
   "source": [
    "with open(\"reference_binder.pdb\", mode=\"w\") as f:\n",
    "    f.writelines(designed_pdb)"
   ]
  },
  {
   "cell_type": "code",
   "execution_count": 15,
   "id": "b9e43f20-17e1-472a-8bef-540751f07fcf",
   "metadata": {},
   "outputs": [
    {
     "data": {
      "text/plain": [
       "'SLLEQTLSVKGKTYKLRMQKSENGTYSWTRLSPRGEPLAQPVSVAPTFIMLKIQAYFNETADLPCQFANSQNQSLSELVVFWQDQENLVLNEVYLGKEKFDSVHSKYMGRTSFDSDSWTLRLHNLQIKDKGLYQCIIHHKKPTGMIRIHQMNSELSVLA'"
      ]
     },
     "execution_count": 15,
     "metadata": {},
     "output_type": "execute_result"
    }
   ],
   "source": [
    "designed_sequence"
   ]
  },
  {
   "cell_type": "markdown",
   "id": "563efde0-7bd7-4f24-a7e3-ec74a428c7b9",
   "metadata": {},
   "source": [
    "## Motif Scaffolding"
   ]
  },
  {
   "cell_type": "markdown",
   "id": "49029bf2-48bb-4a11-b50a-b7a91eff2df5",
   "metadata": {},
   "source": [
    "```bash\n",
    "python ./inference.py \\\n",
    "    --num_designs 10 \\\n",
    "    --out examples/out/design \\\n",
    "    --pdb examples/pdbs/rsv5_5tpn.pdb \\\n",
    "    --contigs 0-25,A163-181,25-30 --T 25 --save_best_plddt\n",
    "```"
   ]
  },
  {
   "cell_type": "code",
   "execution_count": 6,
   "id": "9cd61974-df87-4bf3-b312-8f7a4950cd22",
   "metadata": {},
   "outputs": [],
   "source": [
    "with open(\"rsv5_5tpn.pdb\", mode=\"r\") as f:\n",
    "    reference_pdb_str = f.read()\n",
    "\n",
    "reference_structure = protein.Protein27.from_pdb_string(reference_pdb_str)"
   ]
  },
  {
   "cell_type": "code",
   "execution_count": 7,
   "id": "db66611b-f54f-4ec4-bb6d-b07b83a953f8",
   "metadata": {},
   "outputs": [
    {
     "name": "stderr",
     "output_type": "stream",
     "text": [
      "  0%|                                                                                                                                              | 0/25 [00:00<?, ?it/s]/home/conradry71/micromamba/envs/proteome/lib/python3.10/site-packages/dgl/backend/pytorch/tensor.py:449: UserWarning: TypedStorage is deprecated. It will be removed in the future and UntypedStorage will be the only storage class. This should only matter to you if you are using storages directly.  To access UntypedStorage directly, use tensor.untyped_storage() instead of tensor.storage()\n",
      "  assert input.numel() == input.storage().size(), (\n",
      "100%|█████████████████████████████████████████████████████████████████████████████████████████████████████████████████████████████████████| 25/25 [01:04<00:00,  2.57s/it]\n"
     ]
    }
   ],
   "source": [
    "designed_structure, designed_sequence = designer.design_structure_and_sequence(\n",
    "    config.InferenceConfig(\n",
    "        reference_structure=reference_structure,\n",
    "        contigmap_params=config.ContigMap(contigs=[\"0-25/A163-181/25-30\"]),\n",
    "    ),\n",
    ")\n",
    "designed_pdb = designed_structure.to_pdb()"
   ]
  },
  {
   "cell_type": "code",
   "execution_count": 8,
   "id": "7880c71e-5cdf-4cb7-bd2c-589e2b5230c2",
   "metadata": {},
   "outputs": [],
   "source": [
    "#show_structure(designed_pdb)"
   ]
  },
  {
   "cell_type": "code",
   "execution_count": 9,
   "id": "9307c167-c3c0-4447-bea9-fa71b8a4bdbe",
   "metadata": {},
   "outputs": [],
   "source": [
    "with open(\"reference_motif_scaffolding.pdb\", mode=\"w\") as f:\n",
    "    f.writelines(designed_pdb)"
   ]
  },
  {
   "cell_type": "code",
   "execution_count": 10,
   "id": "7fdcb2f2-ee61-4e21-aaa7-158366b87c17",
   "metadata": {},
   "outputs": [
    {
     "data": {
      "text/plain": [
       "'SRPERVIRITPEEVNKIKSALLSTNKAVVSLNGKTIEIDRNDVIKDGEIIIDPNRKIKK'"
      ]
     },
     "execution_count": 10,
     "metadata": {},
     "output_type": "execute_result"
    }
   ],
   "source": [
    "designed_sequence"
   ]
  },
  {
   "cell_type": "markdown",
   "id": "b1ba3832-86db-40c4-ae29-bfe84f1ac900",
   "metadata": {},
   "source": [
    "## Partial Diffusion"
   ]
  },
  {
   "cell_type": "markdown",
   "id": "01162cf7-64ef-41a1-b692-b16c71bd160a",
   "metadata": {},
   "source": [
    "```bash\n",
    "python ./inference.py \\\n",
    "    --num_designs 10 \\\n",
    "    --pdb examples/out/design_000000.pdb \\\n",
    "    --out examples/out/partial_diffusion_design \\\n",
    "    --contigs 38 --sampling_temp 0.3 --T 50 --save_best_plddt\n",
    "```"
   ]
  },
  {
   "cell_type": "code",
   "execution_count": 12,
   "id": "97072fe7-092a-4ad2-8f07-4045777d2c92",
   "metadata": {},
   "outputs": [],
   "source": [
    "with open(\"design_000000.pdb\", mode=\"r\") as f:\n",
    "    reference_pdb_str = f.read()\n",
    "\n",
    "reference_structure = protein.Protein27.from_pdb_string(reference_pdb_str)"
   ]
  },
  {
   "cell_type": "code",
   "execution_count": 13,
   "id": "928c4e21-ef9d-453a-adf0-9a3f461f3f19",
   "metadata": {},
   "outputs": [
    {
     "name": "stderr",
     "output_type": "stream",
     "text": [
      "100%|█████████████████████████████████████████████████████████████████████████████████████████████████████████████████████████████████████| 15/15 [00:36<00:00,  2.43s/it]\n"
     ]
    }
   ],
   "source": [
    "designed_structure, designed_sequence = designer.design_structure_and_sequence(\n",
    "    config.InferenceConfig(\n",
    "        reference_structure=reference_structure,\n",
    "        diffuser_params=config.DiffuserParams(T=50),\n",
    "        contigmap_params=config.ContigMap(contigs=[\"38\"]),\n",
    "        sampling_temp=0.3,\n",
    "    ),\n",
    ")\n",
    "designed_pdb = designed_structure.to_pdb()"
   ]
  },
  {
   "cell_type": "code",
   "execution_count": 14,
   "id": "7f0533b1-a20f-49f8-bd35-5ac4118630de",
   "metadata": {},
   "outputs": [],
   "source": [
    "#show_structure(designed_pdb)"
   ]
  },
  {
   "cell_type": "code",
   "execution_count": 15,
   "id": "0a38e592-d77f-41a3-be78-97ba5be53552",
   "metadata": {},
   "outputs": [],
   "source": [
    "with open(\"reference_partial_diffusion.pdb\", mode=\"w\") as f:\n",
    "    f.writelines(designed_pdb)"
   ]
  },
  {
   "cell_type": "code",
   "execution_count": 16,
   "id": "233920a0-d790-4f3a-9a34-e47b3ee53040",
   "metadata": {},
   "outputs": [
    {
     "data": {
      "text/plain": [
       "'GLSPEELREFLRREGIELRSEEELRELLERLEELRELR'"
      ]
     },
     "execution_count": 16,
     "metadata": {},
     "output_type": "execute_result"
    }
   ],
   "source": [
    "designed_sequence"
   ]
  },
  {
   "cell_type": "markdown",
   "id": "0ec5c4ed-b893-4ba5-aab2-c79b26e36461",
   "metadata": {},
   "source": [
    "## Secondary Structure"
   ]
  },
  {
   "cell_type": "markdown",
   "id": "e0dbbd59-af10-4d71-a9e4-2bbea3f93347",
   "metadata": {},
   "source": [
    "```bash\n",
    "python ./inference.py \\\n",
    "    --num_designs 10 \\\n",
    "    --out examples/out/design \\\n",
    "    --contigs 100 \\\n",
    "    --T 25 --save_best_plddt \\\n",
    "    --secondary_structure XXXXXHHHHXXXLLLXXXXXXXXXXHHHHXXXLLLXXXXXXXXXXHHHHXXXLLLXXXXXXXXXXHHHHXXXLLLXXXXXXXXXXHHHHXXXLLLXXXXX\n",
    "```"
   ]
  },
  {
   "cell_type": "code",
   "execution_count": 18,
   "id": "267e8704-ce20-438a-a3b9-b163ceb16385",
   "metadata": {},
   "outputs": [],
   "source": [
    "secondary_structure_str = \"XXXXXHHHHXXXLLLXXXXXXXXXXHHHHXXXLLLXXXXXXXXXXHHHHXXXLLLXXXXXXXXXXHHHHXXXLLLXXXXXXXXXXHHHHXXXLLLXXXXX\""
   ]
  },
  {
   "cell_type": "code",
   "execution_count": 19,
   "id": "62c46179-ab8f-408a-9643-517a65320407",
   "metadata": {},
   "outputs": [
    {
     "name": "stderr",
     "output_type": "stream",
     "text": [
      "100%|█████████████████████████████████████████████████████████████████████████████████████████████████████████████████████████████████████| 25/25 [01:05<00:00,  2.61s/it]\n"
     ]
    }
   ],
   "source": [
    "designed_structure, designed_sequence = designer.design_structure_and_sequence(\n",
    "    config.InferenceConfig(\n",
    "        contigmap_params=config.ContigMap(contigs=[\"100\"]),\n",
    "        secondary_structure_params=config.SecondaryStructureParams(\n",
    "            secondary_structure=secondary_structure_str\n",
    "        ),\n",
    "    ),\n",
    ")\n",
    "designed_pdb = designed_structure.to_pdb()"
   ]
  },
  {
   "cell_type": "code",
   "execution_count": 20,
   "id": "d0a81134-de8f-4657-b3d6-9785a8bfe8a5",
   "metadata": {},
   "outputs": [],
   "source": [
    "#show_structure(designed_pdb)"
   ]
  },
  {
   "cell_type": "code",
   "execution_count": 21,
   "id": "ed1add06-4946-4e93-ae45-5061021fa962",
   "metadata": {},
   "outputs": [],
   "source": [
    "with open(\"reference_secondary_structure.pdb\", mode=\"w\") as f:\n",
    "    f.writelines(designed_pdb)"
   ]
  },
  {
   "cell_type": "code",
   "execution_count": 22,
   "id": "5a53513f-38e4-49b6-9c5c-60672ce92962",
   "metadata": {},
   "outputs": [
    {
     "data": {
      "text/plain": [
       "'SLEELVRIAKRYGIPLEELISAAREIIALIRAGRKLSAAEIEAIAARFAKKFGLSPEEAREFLLELIEEVAAGGVPSAAEMVALLKALRELVEDLVAIRK'"
      ]
     },
     "execution_count": 22,
     "metadata": {},
     "output_type": "execute_result"
    }
   ],
   "source": [
    "designed_sequence"
   ]
  },
  {
   "cell_type": "markdown",
   "id": "4379af1a-d33c-4556-a30d-b2d534559ec6",
   "metadata": {},
   "source": [
    "## Secondary Structure Bias"
   ]
  },
  {
   "cell_type": "markdown",
   "id": "a2900daa-16cd-425f-9c8d-82c7c7cd46fa",
   "metadata": {},
   "source": [
    "```bash\n",
    "python ./inference.py \\\n",
    "    --num_designs 10 \\\n",
    "    --out examples/out/design \\\n",
    "    --contigs 100 \\\n",
    "    --T 25 --save_best_plddt \\\n",
    "    --helix_bias 0.01 --strand_bias 0.01 --loop_bias 0.0 \n",
    "```"
   ]
  },
  {
   "cell_type": "code",
   "execution_count": 24,
   "id": "972cc4bc-1d73-40ce-bc27-18f7eb4172a9",
   "metadata": {},
   "outputs": [
    {
     "name": "stderr",
     "output_type": "stream",
     "text": [
      "100%|█████████████████████████████████████████████████████████████████████████████████████████████████████████████████████████████████████| 25/25 [01:03<00:00,  2.55s/it]\n"
     ]
    }
   ],
   "source": [
    "designed_structure, designed_sequence = designer.design_structure_and_sequence(\n",
    "    config.InferenceConfig(\n",
    "        contigmap_params=config.ContigMap(contigs=[\"100\"]),\n",
    "        structure_bias_params=config.StructureBiasParams(helix_bias=0.01, strand_bias=0.01)\n",
    "    ),\n",
    ")\n",
    "designed_pdb = designed_structure.to_pdb()"
   ]
  },
  {
   "cell_type": "code",
   "execution_count": 25,
   "id": "440453ce-51c1-435a-b4de-6f31e1b903b3",
   "metadata": {},
   "outputs": [],
   "source": [
    "#show_structure(designed_pdb)"
   ]
  },
  {
   "cell_type": "code",
   "execution_count": 26,
   "id": "fe1bc12e-fb0f-4bdf-a384-58cf5184b790",
   "metadata": {},
   "outputs": [],
   "source": [
    "with open(\"reference_secondary_structure_bias.pdb\", mode=\"w\") as f:\n",
    "    f.writelines(designed_pdb)"
   ]
  },
  {
   "cell_type": "code",
   "execution_count": 27,
   "id": "541f0473-9b60-4905-8795-0f77bcb3fca0",
   "metadata": {},
   "outputs": [
    {
     "data": {
      "text/plain": [
       "'SEEELERKKKALEQAKEELEKANRAINEARRALRELDAAQKELIALLEILKDENLSEKEREKRLEEVEEKIKEEQAKLQAEREKINAIREEVEQLLKKAK'"
      ]
     },
     "execution_count": 27,
     "metadata": {},
     "output_type": "execute_result"
    }
   ],
   "source": [
    "designed_sequence"
   ]
  },
  {
   "cell_type": "markdown",
   "id": "4b14e8f0-862b-47f6-bead-0793ad07847f",
   "metadata": {},
   "source": [
    "## Secondary Structure from PDB"
   ]
  },
  {
   "cell_type": "markdown",
   "id": "37f9f2af-b33d-4dc4-ab6d-c7ada5a3c9f4",
   "metadata": {},
   "source": [
    "```bash\n",
    "python ./inference.py \\\n",
    "    --num_designs 10 \\\n",
    "    --out examples/out/design \\\n",
    "    --contigs 110 \\\n",
    "    --T 25 --save_best_plddt \\\n",
    "    --dssp_pdb examples/pdbs/cd86.pdb\n",
    "```"
   ]
  },
  {
   "cell_type": "code",
   "execution_count": 29,
   "id": "94820260-e0c3-4c14-a95f-4ee0c21ee253",
   "metadata": {},
   "outputs": [],
   "source": [
    "with open(\"cd86.pdb\", mode=\"r\") as f:\n",
    "    dssp_pdb_str = f.read()\n",
    "\n",
    "dssp_structure = protein.Protein27.from_pdb_string(dssp_pdb_str)"
   ]
  },
  {
   "cell_type": "code",
   "execution_count": 30,
   "id": "e092a901-e78d-42f8-95b4-80a705d30a17",
   "metadata": {},
   "outputs": [
    {
     "name": "stderr",
     "output_type": "stream",
     "text": [
      "100%|█████████████████████████████████████████████████████████████████████████████████████████████████████████████████████████████████████| 25/25 [01:08<00:00,  2.73s/it]\n"
     ]
    }
   ],
   "source": [
    "designed_structure, designed_sequence = designer.design_structure_and_sequence(\n",
    "    config.InferenceConfig(\n",
    "        contigmap_params=config.ContigMap(contigs=[\"110\"]),\n",
    "        secondary_structure_params=config.SecondaryStructureParams(dssp_structure=dssp_structure),\n",
    "    ),\n",
    ")\n",
    "designed_pdb = designed_structure.to_pdb()"
   ]
  },
  {
   "cell_type": "code",
   "execution_count": 31,
   "id": "b650c12a-b49d-42f8-ae29-e1e86b0e284d",
   "metadata": {},
   "outputs": [],
   "source": [
    "#show_structure(designed_pdb)"
   ]
  },
  {
   "cell_type": "code",
   "execution_count": 32,
   "id": "59beb905-5562-4895-aeea-e7917a264523",
   "metadata": {},
   "outputs": [],
   "source": [
    "with open(\"reference_secondary_structure_from_pdb.pdb\", mode=\"w\") as f:\n",
    "    f.writelines(designed_pdb)"
   ]
  },
  {
   "cell_type": "code",
   "execution_count": 33,
   "id": "94daecde-c95e-43cc-ba5b-317d46d78b4a",
   "metadata": {},
   "outputs": [
    {
     "data": {
      "text/plain": [
       "'QPLELTLSGNTLTVKLPEGWSAPEVSGPTVLAYRTLPGAQPLAVAPTFVLSDGGGTVSVSPARLEPPAFVFKAELPQNAKEVEVTLTIYQQVNGKWTLLKQVVFTLTRAP'"
      ]
     },
     "execution_count": 33,
     "metadata": {},
     "output_type": "execute_result"
    }
   ],
   "source": [
    "designed_sequence"
   ]
  },
  {
   "cell_type": "markdown",
   "id": "4bbf7019-cf4a-4010-811a-1117225adf8c",
   "metadata": {},
   "source": [
    "## Sequence Conditioning"
   ]
  },
  {
   "cell_type": "markdown",
   "id": "e2296d10-a26e-4f00-a3a9-e70b06f81554",
   "metadata": {},
   "source": [
    "```bash\n",
    "python ./inference.py \\\n",
    "    --num_designs 10 \\\n",
    "    --out examples/out/design \\\n",
    "    --sequence XXXXXXXXXXXXXXXXPEPSEQXXXXXXXXXXXXXXXX \\\n",
    "    --T 25 --save_best_plddt\n",
    "```"
   ]
  },
  {
   "cell_type": "code",
   "execution_count": 35,
   "id": "dc3a2310-9787-46ac-9ace-7a27d0e67ccb",
   "metadata": {},
   "outputs": [
    {
     "name": "stderr",
     "output_type": "stream",
     "text": [
      "100%|█████████████████████████████████████████████████████████████████████████████████████████████████████████████████████████████████████| 25/25 [00:59<00:00,  2.38s/it]\n"
     ]
    }
   ],
   "source": [
    "designed_structure, designed_sequence = designer.design_structure_and_sequence(\n",
    "    config.InferenceConfig(\n",
    "        sequence=\"XXXXXXXXXXXXXXXXPEPSEQXXXXXXXXXXXXXXXX\",\n",
    "        contigmap_params=config.ContigMap(),\n",
    "    ),\n",
    ")\n",
    "designed_pdb = designed_structure.to_pdb()"
   ]
  },
  {
   "cell_type": "code",
   "execution_count": 36,
   "id": "74f5b7e3-6f6d-4dd2-8006-d47f8bef3dfe",
   "metadata": {},
   "outputs": [],
   "source": [
    "#show_structure(designed_pdb)"
   ]
  },
  {
   "cell_type": "code",
   "execution_count": 37,
   "id": "0c4a4872-de7c-4e19-a009-c199c5d02af7",
   "metadata": {},
   "outputs": [],
   "source": [
    "with open(\"reference_sequence_conditioning.pdb\", mode=\"w\") as f:\n",
    "    f.writelines(designed_pdb)"
   ]
  },
  {
   "cell_type": "code",
   "execution_count": 38,
   "id": "22dbca12-0d0f-49bb-b5cf-0c514fefed26",
   "metadata": {},
   "outputs": [
    {
     "data": {
      "text/plain": [
       "'SLEELLARIEELLEELPEPSEQAKAQLEELLARIKELK'"
      ]
     },
     "execution_count": 38,
     "metadata": {},
     "output_type": "execute_result"
    }
   ],
   "source": [
    "designed_sequence"
   ]
  },
  {
   "cell_type": "markdown",
   "id": "5188ef54-fb20-4538-ac44-d60c1d6ca19f",
   "metadata": {},
   "source": [
    "## Sequence Partial Diffusion"
   ]
  },
  {
   "cell_type": "markdown",
   "id": "046c284d-209e-4fc1-8d60-252e08a5fc2a",
   "metadata": {},
   "source": [
    "```bash\n",
    "python ./inference.py \\\n",
    "    --num_designs 10 \\\n",
    "    --sequence SAKVEELLETAKALGISEEEVREILELLEAGFIVIEVVSLGDAVILILENKKLGKYYILKNGEIERIKKPENARELKRKIAEILNISVEEIEAIIEKLRAK \\\n",
    "    --out examples/out/partial_diffusion_design \\\n",
    "    --sampling_temp 0.3 --T 50 --save_best_plddt\n",
    "```"
   ]
  },
  {
   "cell_type": "code",
   "execution_count": 40,
   "id": "12f72bb4-0828-4844-9ad3-23df39cb777b",
   "metadata": {},
   "outputs": [
    {
     "name": "stderr",
     "output_type": "stream",
     "text": [
      "100%|█████████████████████████████████████████████████████████████████████████████████████████████████████████████████████████████████████| 15/15 [00:39<00:00,  2.61s/it]\n"
     ]
    }
   ],
   "source": [
    "designed_structure, designed_sequence = designer.design_structure_and_sequence(\n",
    "    config.InferenceConfig(\n",
    "        sequence=\"SAKVEELLETAKALGISEEEVREILELLEAGFIVIEVVSLGDAVILILENKKLGKYYILKNGEIERIKKPENARELKRKIAEILNISVEEIEAIIEKLRAK\",\n",
    "        diffuser_params=config.DiffuserParams(T=50),\n",
    "        contigmap_params=config.ContigMap(),\n",
    "        sampling_temp=0.3,\n",
    "    ),\n",
    ")\n",
    "designed_pdb = designed_structure.to_pdb()"
   ]
  },
  {
   "cell_type": "code",
   "execution_count": 41,
   "id": "9fb5d36a-963d-4f1a-b9d3-ef88b87aa59e",
   "metadata": {},
   "outputs": [
    {
     "data": {
      "text/plain": [
       "'GIPPLIIIRIFRIPGITLDEIINFLKNLGFENIEIERLGENYFVIRFRINGREIIIVFDKNGKILDIIFSEEDLKEILEFLKKLGINPEELEKELEKIFPN'"
      ]
     },
     "execution_count": 41,
     "metadata": {},
     "output_type": "execute_result"
    }
   ],
   "source": [
    "designed_sequence"
   ]
  },
  {
   "cell_type": "code",
   "execution_count": 42,
   "id": "c3edbbe7-a538-4ff4-b919-7865b9b0ef2c",
   "metadata": {},
   "outputs": [],
   "source": [
    "#show_structure(designed_pdb)"
   ]
  },
  {
   "cell_type": "code",
   "execution_count": 43,
   "id": "7111d072-a3ac-4aef-80e7-cc009b5e2a77",
   "metadata": {},
   "outputs": [],
   "source": [
    "with open(\"reference_sequence_partial_diffusion.pdb\", mode=\"w\") as f:\n",
    "    f.writelines(designed_pdb)"
   ]
  },
  {
   "cell_type": "code",
   "execution_count": 44,
   "id": "423eb352-2fa0-4da4-affe-51d48300d3ff",
   "metadata": {},
   "outputs": [
    {
     "data": {
      "text/plain": [
       "'GIPPLIIIRIFRIPGITLDEIINFLKNLGFENIEIERLGENYFVIRFRINGREIIIVFDKNGKILDIIFSEEDLKEILEFLKKLGINPEELEKELEKIFPN'"
      ]
     },
     "execution_count": 44,
     "metadata": {},
     "output_type": "execute_result"
    }
   ],
   "source": [
    "designed_sequence"
   ]
  },
  {
   "cell_type": "markdown",
   "id": "1e0edb2a-5cb2-4409-a5aa-9b374bc3f6c0",
   "metadata": {},
   "source": [
    "## Symmetric Design"
   ]
  },
  {
   "cell_type": "markdown",
   "id": "af1c0cb3-054a-4139-bcb1-4d099103a285",
   "metadata": {},
   "source": [
    "```bash\n",
    "python ./inference.py \\\n",
    "    --num_designs 10 \\\n",
    "    --out examples/out/symmetric_design \\\n",
    "    --contigs 25,0 25,0 25,0 \\\n",
    "    --T 50 \\\n",
    "    --save_best_plddt \\\n",
    "    --symmetry 3\n",
    "```"
   ]
  },
  {
   "cell_type": "code",
   "execution_count": 46,
   "id": "bccd1639-c4ac-4c12-a085-1dd15ee69fe9",
   "metadata": {},
   "outputs": [
    {
     "name": "stderr",
     "output_type": "stream",
     "text": [
      "100%|█████████████████████████████████████████████████████████████████████████████████████████████████████████████████████████████████████| 50/50 [02:03<00:00,  2.48s/it]\n"
     ]
    }
   ],
   "source": [
    "designed_structure, designed_sequence = designer.design_structure_and_sequence(\n",
    "    config.InferenceConfig(\n",
    "        diffuser_params=config.DiffuserParams(T=50),\n",
    "        contigmap_params=config.ContigMap(contigs=[\"25/0 25/0 25/0\"]),\n",
    "        symmetry_params=config.SymmetryParams(symmetry=3),\n",
    "    ),\n",
    ")\n",
    "designed_pdb = designed_structure.to_pdb()"
   ]
  },
  {
   "cell_type": "code",
   "execution_count": 47,
   "id": "5c09ffba-ded2-400a-91d5-2aca27e55d14",
   "metadata": {},
   "outputs": [],
   "source": [
    "#show_structure(designed_pdb)"
   ]
  },
  {
   "cell_type": "code",
   "execution_count": 48,
   "id": "7dcb74c7-c07b-44f4-9e13-19298a6fd507",
   "metadata": {},
   "outputs": [],
   "source": [
    "with open(\"reference_symmetric.pdb\", mode=\"w\") as f:\n",
    "    f.writelines(designed_pdb)"
   ]
  },
  {
   "cell_type": "code",
   "execution_count": 49,
   "id": "f9a3008e-9c36-4817-be44-ac5d11252a3a",
   "metadata": {},
   "outputs": [
    {
     "data": {
      "text/plain": [
       "'NKIIIELTPEEIEEFLKFIKRIIEENKIIIILTPEEIEEFLKFIKRIIEENKIIIELTPEEIEEFLKFIKRIIEE'"
      ]
     },
     "execution_count": 49,
     "metadata": {},
     "output_type": "execute_result"
    }
   ],
   "source": [
    "designed_sequence"
   ]
  },
  {
   "cell_type": "markdown",
   "id": "00bbb2e3-2214-4bdb-bafa-2f12e6c6cd82",
   "metadata": {},
   "source": [
    "## Unconditional Design"
   ]
  },
  {
   "cell_type": "markdown",
   "id": "a1f97a0d-cad3-41ff-92a2-ee7f56a32aa6",
   "metadata": {},
   "source": [
    "```bash\n",
    "python ./inference.py \\\n",
    "    --num_designs 10 \\\n",
    "    --out examples/out/design \\\n",
    "    --contigs 100 \\\n",
    "    --T 25 --save_best_plddt\n",
    "```"
   ]
  },
  {
   "cell_type": "code",
   "execution_count": 51,
   "id": "0c0b1604-3e9a-4333-8290-ef295f983f0c",
   "metadata": {},
   "outputs": [
    {
     "name": "stderr",
     "output_type": "stream",
     "text": [
      "100%|█████████████████████████████████████████████████████████████████████████████████████████████████████████████████████████████████████| 25/25 [01:06<00:00,  2.65s/it]\n"
     ]
    }
   ],
   "source": [
    "designed_structure, designed_sequence = designer.design_structure_and_sequence(\n",
    "    config.InferenceConfig(\n",
    "        contigmap_params=config.ContigMap(contigs=[\"100\"]),\n",
    "    ),\n",
    ")\n",
    "designed_pdb = designed_structure.to_pdb()"
   ]
  },
  {
   "cell_type": "code",
   "execution_count": 52,
   "id": "90a2bfa2-e289-4e08-aa44-11597ad2d08e",
   "metadata": {},
   "outputs": [],
   "source": [
    "#designed_structure.atom_positions[0]"
   ]
  },
  {
   "cell_type": "code",
   "execution_count": 53,
   "id": "b588d826-fa7e-4c2f-ae8b-a0900bd1cc98",
   "metadata": {},
   "outputs": [],
   "source": [
    "#from proteome.constants import residue_constants"
   ]
  },
  {
   "cell_type": "code",
   "execution_count": 54,
   "id": "95f02f78-47b2-4c3b-ba22-d1ea7f7fe0fd",
   "metadata": {},
   "outputs": [],
   "source": [
    "#show_structure(designed_pdb)"
   ]
  },
  {
   "cell_type": "code",
   "execution_count": 55,
   "id": "9760a7e7-5099-4497-94ed-d1dfb89ff838",
   "metadata": {},
   "outputs": [],
   "source": [
    "with open(\"reference_unconditional.pdb\", mode=\"w\") as f:\n",
    "    f.writelines(designed_pdb)"
   ]
  },
  {
   "cell_type": "code",
   "execution_count": 56,
   "id": "17468c1e-0a86-4505-a49a-90fca2c11e36",
   "metadata": {},
   "outputs": [
    {
     "data": {
      "text/plain": [
       "'GPPPLSPEEIEELRELLEELAERFGISPEELARFFEPFIRIFLEKDPEELIEELRRFLESGFTREEFVEVSIPEIERYVEKGLLSDEEVEELLEFLERLG'"
      ]
     },
     "execution_count": 56,
     "metadata": {},
     "output_type": "execute_result"
    }
   ],
   "source": [
    "designed_sequence"
   ]
  },
  {
   "cell_type": "markdown",
   "id": "dbc4d32c-16fe-4c5c-8dbe-ab51aeb92073",
   "metadata": {},
   "source": [
    "## Weighted Sequence"
   ]
  },
  {
   "cell_type": "markdown",
   "id": "31c43aa8-64e9-4a80-a347-f00ab48f202c",
   "metadata": {},
   "source": [
    "```bash\n",
    "python ./inference.py \\\n",
    "    --num_designs 10 \\\n",
    "    --out examples/out/design \\\n",
    "    --contigs 100 \\\n",
    "    --T 25 --save_best_plddt \\\n",
    "    --potentials aa_bias \\\n",
    "    --aa_composition W0.2 --potential_scale 1.75 \n",
    "```"
   ]
  },
  {
   "cell_type": "code",
   "execution_count": 58,
   "id": "291417f6-87af-41e1-b28a-48d8517dccf4",
   "metadata": {},
   "outputs": [
    {
     "name": "stderr",
     "output_type": "stream",
     "text": [
      "100%|█████████████████████████████████████████████████████████████████████████████████████████████████████████████████████████████████████| 25/25 [01:04<00:00,  2.57s/it]\n"
     ]
    }
   ],
   "source": [
    "designed_structure, designed_sequence = designer.design_structure_and_sequence(\n",
    "    config.InferenceConfig(\n",
    "        contigmap_params=config.ContigMap(contigs=[\"100\"]),\n",
    "        potentials_params=config.PotentialsParams(\n",
    "            potentials=[config.AACompositionalBiasParams(aa_composition=\"W0.2\")],\n",
    "            potential_scales=[1.75],\n",
    "        ),\n",
    "    ),\n",
    ")\n",
    "designed_pdb = designed_structure.to_pdb()"
   ]
  },
  {
   "cell_type": "code",
   "execution_count": 59,
   "id": "c4bcd9a8-5bdb-43f4-8bf9-06e7918bbd2f",
   "metadata": {},
   "outputs": [],
   "source": [
    "#show_structure(designed_pdb)"
   ]
  },
  {
   "cell_type": "code",
   "execution_count": 60,
   "id": "1d281414-2adc-4678-90ef-6633061f4f90",
   "metadata": {},
   "outputs": [],
   "source": [
    "with open(\"reference_weighted_sequence.pdb\", mode=\"w\") as f:\n",
    "    f.writelines(designed_pdb)"
   ]
  },
  {
   "cell_type": "code",
   "execution_count": 61,
   "id": "fb1f8692-4b52-4b3a-9d9b-fd190aa6feaf",
   "metadata": {},
   "outputs": [
    {
     "data": {
      "text/plain": [
       "'GLPEITPEEIEELKKLWEEWKEALEPFLEWLERRGIPIGNPEFIKEFEEFIEELRKEIKNGATREEIIEFFIEEIEELVEKGLITEEEVEEFLKWIERWG'"
      ]
     },
     "execution_count": 61,
     "metadata": {},
     "output_type": "execute_result"
    }
   ],
   "source": [
    "designed_sequence"
   ]
  },
  {
   "cell_type": "markdown",
   "id": "8f436682-5d33-456c-be9c-bf3007909828",
   "metadata": {
    "jp-MarkdownHeadingCollapsed": true
   },
   "source": [
    "## Folding"
   ]
  },
  {
   "cell_type": "code",
   "execution_count": null,
   "id": "e1586e83-9584-4b63-b438-318f4d9f1942",
   "metadata": {},
   "outputs": [],
   "source": [
    "predicted_protein, confidence = folder.fold(designed_sequence)\n",
    "folded_pdb = protein.to_pdb(predicted_protein)"
   ]
  },
  {
   "cell_type": "code",
   "execution_count": null,
   "id": "56f9446d-70a9-48f7-9779-0c847cad4943",
   "metadata": {},
   "outputs": [],
   "source": [
    "PLDDT_BANDS = [\n",
    "  (0, 50, '#FF7D45'),\n",
    "  (50, 70, '#FFDB13'),\n",
    "  (70, 90, '#65CBF3'),\n",
    "  (90, 100, '#0053D6')\n",
    "]\n",
    "view = py3Dmol.view(width=800, height=600)\n",
    "view.addModelsAsFrames(folded_pdb)\n",
    "\n",
    "color_map = {i: bands[2] for i, bands in enumerate(PLDDT_BANDS)}\n",
    "style = {'cartoon': {'colorscheme': {'prop': 'b', 'map': color_map}}}\n",
    "\n",
    "style['stick'] = {}\n",
    "\n",
    "view.setStyle({'model': -1}, style)\n",
    "view.zoomTo()"
   ]
  },
  {
   "cell_type": "code",
   "execution_count": null,
   "id": "161a2e87-783d-42f3-95ed-5dd07a505c13",
   "metadata": {},
   "outputs": [],
   "source": []
  }
 ],
 "metadata": {
  "kernelspec": {
   "display_name": "Python 3 (ipykernel)",
   "language": "python",
   "name": "python3"
  },
  "language_info": {
   "codemirror_mode": {
    "name": "ipython",
    "version": 3
   },
   "file_extension": ".py",
   "mimetype": "text/x-python",
   "name": "python",
   "nbconvert_exporter": "python",
   "pygments_lexer": "ipython3",
   "version": "3.10.11"
  }
 },
 "nbformat": 4,
 "nbformat_minor": 5
}
