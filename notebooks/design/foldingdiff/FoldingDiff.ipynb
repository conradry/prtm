{
 "cells": [
  {
   "cell_type": "code",
   "execution_count": 1,
   "id": "2018f5c1-158e-4ab2-a3a8-6cd667b4c03e",
   "metadata": {},
   "outputs": [],
   "source": [
    "%load_ext autoreload\n",
    "%autoreload 2"
   ]
  },
  {
   "cell_type": "code",
   "execution_count": 2,
   "id": "1d71b335-c9b1-4763-b6f1-a1506c7d7be4",
   "metadata": {},
   "outputs": [
    {
     "data": {
      "application/vnd.jupyter.widget-view+json": {
       "model_id": "7d34508eaaa64d2ca1815f9a4d713c97",
       "version_major": 2,
       "version_minor": 0
      },
      "text/plain": []
     },
     "metadata": {},
     "output_type": "display_data"
    },
    {
     "name": "stderr",
     "output_type": "stream",
     "text": [
      "2023-08-29 03:17:27.263924: I tensorflow/core/platform/cpu_feature_guard.cc:182] This TensorFlow binary is optimized to use available CPU instructions in performance-critical operations.\n",
      "To enable the following instructions: AVX2 FMA, in other operations, rebuild TensorFlow with the appropriate compiler flags.\n",
      "2023-08-29 03:17:28.185621: W tensorflow/compiler/tf2tensorrt/utils/py_utils.cc:38] TF-TRT Warning: Could not find TensorRT\n"
     ]
    }
   ],
   "source": [
    "import nglview as nv\n",
    "\n",
    "from proteome import protein\n",
    "from proteome.models.design.foldingdiff.modeling import FoldingDiffForStructureDesign\n",
    "from proteome.models.design.proteinmpnn.modeling import ProteinMPNNForSequenceDesign\n",
    "from proteome.models.folding.omegafold.modeling import OmegaFoldForFolding"
   ]
  },
  {
   "cell_type": "code",
   "execution_count": 3,
   "id": "f15e4af9-1d56-4c2e-8443-7a6d0f53b8b8",
   "metadata": {},
   "outputs": [],
   "source": [
    "structure_designer = FoldingDiffForStructureDesign(random_seed=0)\n",
    "sequence_designer = ProteinMPNNForSequenceDesign(\"ca_only_model-20\", random_seed=37)\n",
    "folder = OmegaFoldForFolding()"
   ]
  },
  {
   "cell_type": "code",
   "execution_count": 4,
   "id": "de81a553-de40-456b-98d9-0ab2a85e428f",
   "metadata": {},
   "outputs": [
    {
     "data": {
      "application/vnd.jupyter.widget-view+json": {
       "model_id": "c5334793a1594b48aa6c45dea5cd00fb",
       "version_major": 2,
       "version_minor": 0
      },
      "text/plain": [
       "sampling loop time step:   0%|          | 0/1000 [00:00<?, ?it/s]"
      ]
     },
     "metadata": {},
     "output_type": "display_data"
    }
   ],
   "source": [
    "structure = structure_designer.design_structure()\n",
    "generated_pdb = protein.to_pdb(structure)"
   ]
  },
  {
   "cell_type": "code",
   "execution_count": 6,
   "id": "9c730759-92b6-4958-a7c5-6515720eee31",
   "metadata": {},
   "outputs": [
    {
     "data": {
      "application/vnd.jupyter.widget-view+json": {
       "model_id": "77a78b122e1243dbb05159acbb545749",
       "version_major": 2,
       "version_minor": 0
      },
      "text/plain": [
       "NGLWidget()"
      ]
     },
     "metadata": {},
     "output_type": "display_data"
    }
   ],
   "source": [
    "view = nv.show_text(generated_pdb)\n",
    "view"
   ]
  },
  {
   "cell_type": "code",
   "execution_count": 8,
   "id": "92decf5c-69fb-4504-8b41-2cf2654599ca",
   "metadata": {},
   "outputs": [
    {
     "name": "stdout",
     "output_type": "stream",
     "text": [
      "Sequence: SLLKKLYPKLFKNKVVKKLTPKELLYEKIHKPLLKGWKKKKEKVKIGKSPFSKSLKKLKKKLGLSKKKAKKLAKKLNLPLDKVKKPPLSFKDPETLHKALEKLHGIEGVIPGKGSKGKGCGFCRFHYK with global_score 1.4898734092712402\n"
     ]
    }
   ],
   "source": [
    "sequence, score = sequence_designer.design_sequence(protein.to_ca_only_protein(structure))\n",
    "print(f\"Sequence: {sequence} with global_score {score}\")"
   ]
  },
  {
   "cell_type": "code",
   "execution_count": 9,
   "id": "40bb3adf-d6f0-4914-b858-c59a179b23ba",
   "metadata": {},
   "outputs": [],
   "source": [
    "predicted_protein, confidence = folder.fold(sequence)\n",
    "result_pdb = protein.to_pdb(predicted_protein)"
   ]
  },
  {
   "cell_type": "code",
   "execution_count": 11,
   "id": "9831e8d4-ca6a-4619-8b79-5218f40486da",
   "metadata": {},
   "outputs": [
    {
     "data": {
      "application/vnd.jupyter.widget-view+json": {
       "model_id": "7acb4eace9fe4af782afa0d0a7aa4c83",
       "version_major": 2,
       "version_minor": 0
      },
      "text/plain": [
       "NGLWidget()"
      ]
     },
     "metadata": {},
     "output_type": "display_data"
    }
   ],
   "source": [
    "view = nv.show_text(result_pdb)\n",
    "view"
   ]
  },
  {
   "cell_type": "code",
   "execution_count": null,
   "id": "4a2142fc-8458-4b70-88f0-e09b987e4a77",
   "metadata": {},
   "outputs": [],
   "source": []
  }
 ],
 "metadata": {
  "kernelspec": {
   "display_name": "Python 3 (ipykernel)",
   "language": "python",
   "name": "python3"
  },
  "language_info": {
   "codemirror_mode": {
    "name": "ipython",
    "version": 3
   },
   "file_extension": ".py",
   "mimetype": "text/x-python",
   "name": "python",
   "nbconvert_exporter": "python",
   "pygments_lexer": "ipython3",
   "version": "3.10.11"
  }
 },
 "nbformat": 4,
 "nbformat_minor": 5
}
