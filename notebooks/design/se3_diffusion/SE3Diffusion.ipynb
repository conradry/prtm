{
 "cells": [
  {
   "cell_type": "markdown",
   "id": "a2f4931a-2293-44d5-b17a-998540f2b921",
   "metadata": {},
   "source": [
    "# SE3 Diffusion"
   ]
  },
  {
   "cell_type": "code",
   "execution_count": null,
   "id": "b9ba32f6-f8c0-4eb2-b4f5-ab877fcfd83d",
   "metadata": {},
   "outputs": [],
   "source": [
    "%load_ext autoreload\n",
    "%autoreload 2"
   ]
  },
  {
   "cell_type": "code",
   "execution_count": null,
   "id": "664ce2c2-0eac-4ce8-8471-b173d3a9fb57",
   "metadata": {},
   "outputs": [],
   "source": [
    "import nglview as nv\n",
    "\n",
    "import numpy as np\n",
    "import torch\n",
    "\n",
    "from proteome import protein\n",
    "from proteome.constants import residue_constants\n",
    "from proteome.models.design.se3_diffusion import config\n",
    "from proteome.models.design.se3_diffusion.modeling import SE3DiffusionForStructureDesign\n",
    "from proteome.models.design.proteinmpnn.modeling import ProteinMPNNForSequenceDesign\n",
    "from proteome.models.folding.omegafold.modeling import OmegaFoldForFolding"
   ]
  },
  {
   "cell_type": "code",
   "execution_count": null,
   "id": "a74866f3-7f7f-4558-8247-a960b2315fa3",
   "metadata": {},
   "outputs": [],
   "source": [
    "structure_designer = SE3DiffusionForStructureDesign(model_name=\"paper\", random_seed=0)"
   ]
  },
  {
   "cell_type": "code",
   "execution_count": null,
   "id": "d51f6587-eed3-45b5-a399-be8fc572b0c5",
   "metadata": {},
   "outputs": [],
   "source": [
    "designed_structure = structure_designer.design_structure(\n",
    "    config.InferenceConfig(length=40)\n",
    ")"
   ]
  },
  {
   "cell_type": "code",
   "execution_count": null,
   "id": "6fcdedc7-6da3-4eb8-8768-04460a135e18",
   "metadata": {},
   "outputs": [],
   "source": [
    "designed_pdb_str = protein.to_pdb(designed_structure)"
   ]
  },
  {
   "cell_type": "code",
   "execution_count": null,
   "id": "91ba85d8-d786-44b0-90ac-a669b9389ad8",
   "metadata": {},
   "outputs": [],
   "source": [
    "with open(f\"reference_{structure_designer.model_name}.pdb\", mode=\"w\") as f:\n",
    "    f.writelines(designed_pdb_str)"
   ]
  },
  {
   "cell_type": "code",
   "execution_count": null,
   "id": "c0190b56-e0e4-4ee4-82f6-dedac27aa406",
   "metadata": {},
   "outputs": [],
   "source": [
    "view = nv.show_text(designed_pdb_str)\n",
    "view"
   ]
  },
  {
   "cell_type": "code",
   "execution_count": null,
   "id": "70a1e8bd-2393-48e7-8ccd-3958226e1b8e",
   "metadata": {},
   "outputs": [],
   "source": [
    "sequence_designer = ProteinMPNNForSequenceDesign(\"ca_only_model-2\", random_seed=37)\n",
    "folder = OmegaFoldForFolding()"
   ]
  },
  {
   "cell_type": "code",
   "execution_count": null,
   "id": "b557f74b-a09e-4261-b418-ea5ec03417d6",
   "metadata": {},
   "outputs": [],
   "source": [
    "sequence, score = sequence_designer.design_sequence(\n",
    "    protein.to_ca_only_protein(designed_structure)\n",
    ")\n",
    "print(f\"Sequence: {sequence} with global_score {score}\")"
   ]
  },
  {
   "cell_type": "code",
   "execution_count": null,
   "id": "e21f2aac-cd60-4034-ad37-57f488d83e5f",
   "metadata": {},
   "outputs": [],
   "source": [
    "predicted_protein, confidence = folder.fold(sequence)\n",
    "result_pdb = protein.to_pdb(predicted_protein)"
   ]
  },
  {
   "cell_type": "code",
   "execution_count": null,
   "id": "f6e360a5-6b1c-4f2d-bf7a-931d3b8c1f6d",
   "metadata": {},
   "outputs": [],
   "source": [
    "PLDDT_BANDS = [\n",
    "  (0, 50, '#FF7D45'),\n",
    "  (50, 70, '#FFDB13'),\n",
    "  (70, 90, '#65CBF3'),\n",
    "  (90, 100, '#0053D6')\n",
    "]\n",
    "view = py3Dmol.view(width=800, height=600)\n",
    "view.addModelsAsFrames(result_pdb)\n",
    "\n",
    "color_map = {i: bands[2] for i, bands in enumerate(PLDDT_BANDS)}\n",
    "style = {'cartoon': {'colorscheme': {'prop': 'b', 'map': color_map}}}\n",
    "\n",
    "style['stick'] = {}\n",
    "\n",
    "view.setStyle({'model': -1}, style)\n",
    "view.zoomTo()"
   ]
  },
  {
   "cell_type": "code",
   "execution_count": null,
   "id": "77c31bb5-3b50-4509-8073-d855597a50c2",
   "metadata": {},
   "outputs": [],
   "source": []
  }
 ],
 "metadata": {
  "kernelspec": {
   "display_name": "Python 3 (ipykernel)",
   "language": "python",
   "name": "python3"
  },
  "language_info": {
   "codemirror_mode": {
    "name": "ipython",
    "version": 3
   },
   "file_extension": ".py",
   "mimetype": "text/x-python",
   "name": "python",
   "nbconvert_exporter": "python",
   "pygments_lexer": "ipython3",
   "version": "3.10.11"
  }
 },
 "nbformat": 4,
 "nbformat_minor": 5
}
