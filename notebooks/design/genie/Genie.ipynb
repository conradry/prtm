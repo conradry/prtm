{
 "cells": [
  {
   "cell_type": "code",
   "execution_count": null,
   "id": "7cfeb2c6-e4c7-4772-9aed-29d42414b499",
   "metadata": {},
   "outputs": [],
   "source": [
    "%load_ext autoreload\n",
    "%autoreload 2"
   ]
  },
  {
   "cell_type": "code",
   "execution_count": null,
   "id": "66b2f60d-a5c9-40ee-99c1-f1d0121f65c0",
   "metadata": {},
   "outputs": [],
   "source": [
    "import nglview as nv\n",
    "import py3Dmol\n",
    "\n",
    "from proteome import protein\n",
    "from proteome.models.genie import config\n",
    "from proteome.models.genie.modeling import GenieForStructureDesign, GENIE_MODEL_CONFIGS\n",
    "from proteome.models.proteinmpnn.modeling import ProteinMPNNForSequenceDesign\n",
    "from proteome.models.omegafold.modeling import OmegaFoldForFolding"
   ]
  },
  {
   "cell_type": "code",
   "execution_count": null,
   "id": "c689c597-192c-4178-986b-778e1359b7a6",
   "metadata": {},
   "outputs": [],
   "source": [
    "structure_designer = GenieForStructureDesign(model_name=\"genie_l_256\", random_seed=0)\n",
    "sequence_designer = ProteinMPNNForSequenceDesign(\"ca_only_model-20\", random_seed=37)\n",
    "folder = OmegaFoldForFolding()"
   ]
  },
  {
   "cell_type": "code",
   "execution_count": null,
   "id": "b9202763-4086-47ad-b815-b929c295e09b",
   "metadata": {},
   "outputs": [],
   "source": [
    "structure = structure_designer.design_structure(config.InferenceConfig(seq_len=100))"
   ]
  },
  {
   "cell_type": "code",
   "execution_count": null,
   "id": "bde5cb73-2ea8-4b00-a537-3fbae149f18e",
   "metadata": {},
   "outputs": [],
   "source": [
    "view = nv.show_text(protein.to_pdb(structure))\n",
    "view"
   ]
  },
  {
   "cell_type": "code",
   "execution_count": null,
   "id": "049847e1-0a09-4379-b635-0d2ba851db71",
   "metadata": {},
   "outputs": [],
   "source": [
    "sequence, score = sequence_designer.design_sequence(protein.to_ca_only_protein(structure))\n",
    "print(f\"Sequence: {sequence} with global_score {score}\")"
   ]
  },
  {
   "cell_type": "code",
   "execution_count": null,
   "id": "1d1ef8e6-820b-4d73-b8f2-418fd6313795",
   "metadata": {},
   "outputs": [],
   "source": [
    "predicted_protein, confidence = folder.fold(sequence)\n",
    "result_pdb = protein.to_pdb(predicted_protein)"
   ]
  },
  {
   "cell_type": "code",
   "execution_count": null,
   "id": "29175c22-d73e-44aa-af11-53eea735ebda",
   "metadata": {},
   "outputs": [],
   "source": [
    "PLDDT_BANDS = [\n",
    "  (0, 50, '#FF7D45'),\n",
    "  (50, 70, '#FFDB13'),\n",
    "  (70, 90, '#65CBF3'),\n",
    "  (90, 100, '#0053D6')\n",
    "]\n",
    "view = py3Dmol.view(width=800, height=600)\n",
    "view.addModelsAsFrames(result_pdb)\n",
    "\n",
    "color_map = {i: bands[2] for i, bands in enumerate(PLDDT_BANDS)}\n",
    "style = {'cartoon': {'colorscheme': {'prop': 'b', 'map': color_map}}}\n",
    "\n",
    "style['stick'] = {}\n",
    "\n",
    "view.setStyle({'model': -1}, style)\n",
    "view.zoomTo()"
   ]
  },
  {
   "cell_type": "code",
   "execution_count": null,
   "id": "2100d9db-33e4-48f0-9732-c6b2b8b9e624",
   "metadata": {},
   "outputs": [],
   "source": []
  }
 ],
 "metadata": {
  "kernelspec": {
   "display_name": "Python 3 (ipykernel)",
   "language": "python",
   "name": "python3"
  },
  "language_info": {
   "codemirror_mode": {
    "name": "ipython",
    "version": 3
   },
   "file_extension": ".py",
   "mimetype": "text/x-python",
   "name": "python",
   "nbconvert_exporter": "python",
   "pygments_lexer": "ipython3",
   "version": "3.10.11"
  }
 },
 "nbformat": 4,
 "nbformat_minor": 5
}
