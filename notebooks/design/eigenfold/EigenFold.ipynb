{
 "cells": [
  {
   "cell_type": "markdown",
   "id": "4cd578e4-c8a2-4284-af4e-141bae9feacd",
   "metadata": {},
   "source": [
    "# EigenFold"
   ]
  },
  {
   "cell_type": "code",
   "execution_count": 1,
   "id": "d9a86276-6eae-4cf8-b875-8992c9666c74",
   "metadata": {},
   "outputs": [],
   "source": [
    "%load_ext autoreload\n",
    "%autoreload 2"
   ]
  },
  {
   "cell_type": "code",
   "execution_count": 2,
   "id": "1f4b0e67-b962-4f92-8658-89368ff596b9",
   "metadata": {},
   "outputs": [
    {
     "data": {
      "application/vnd.jupyter.widget-view+json": {
       "model_id": "6093cadaa37c41a59c1115d946fa5df0",
       "version_major": 2,
       "version_minor": 0
      },
      "text/plain": []
     },
     "metadata": {},
     "output_type": "display_data"
    }
   ],
   "source": [
    "import nglview as nv\n",
    "\n",
    "from proteome import protein\n",
    "from proteome.models.design.eigenfold import config\n",
    "from proteome.models.design.eigenfold.modeling import EigenFoldForFoldSampling"
   ]
  },
  {
   "cell_type": "code",
   "execution_count": 3,
   "id": "b24cf465-e0f8-425e-8f79-6159c47f92e3",
   "metadata": {},
   "outputs": [],
   "source": [
    "sequence = 'MAAHKGAEHHHKAAEHHEQAAKHHHAAAEHHEKGEHEQAAHHADTAYAHHKHAEEHAAQAAKHDAEHHAPKPH'"
   ]
  },
  {
   "cell_type": "code",
   "execution_count": 9,
   "id": "460ccb91-46c4-4ac2-b8d3-d6f4d8df0ab6",
   "metadata": {},
   "outputs": [],
   "source": [
    "folder = EigenFoldForFoldSampling(random_seed=0)"
   ]
  },
  {
   "cell_type": "code",
   "execution_count": 10,
   "id": "a62ff33f-b89d-42c8-bfab-1965447f6c71",
   "metadata": {},
   "outputs": [
    {
     "name": "stderr",
     "output_type": "stream",
     "text": [
      "100%|████████████████████████████████████████████████████████████████████| 144/144 [00:03<00:00, 43.47it/s]\n",
      "100%|████████████████████████████████████████████████████████████████████| 144/144 [00:02<00:00, 49.40it/s]\n"
     ]
    }
   ],
   "source": [
    "structure, elbo = folder.sample_fold(sequence, config.InferenceConfig())"
   ]
  },
  {
   "cell_type": "code",
   "execution_count": 11,
   "id": "170fb3d6-ce21-43d5-ab06-dca1c6baabc1",
   "metadata": {},
   "outputs": [],
   "source": [
    "pdb_str = protein.to_pdb(structure)"
   ]
  },
  {
   "cell_type": "code",
   "execution_count": 12,
   "id": "79d92564-812f-4da1-9984-f2d8e8a135ca",
   "metadata": {},
   "outputs": [
    {
     "data": {
      "application/vnd.jupyter.widget-view+json": {
       "model_id": "134416a0756142eb99c3efc4d86a8afe",
       "version_major": 2,
       "version_minor": 0
      },
      "text/plain": [
       "NGLWidget()"
      ]
     },
     "metadata": {},
     "output_type": "display_data"
    }
   ],
   "source": [
    "view = nv.show_text(pdb_str)\n",
    "view"
   ]
  },
  {
   "cell_type": "code",
   "execution_count": null,
   "id": "5311e938-9053-4685-8257-5aa24eaaa349",
   "metadata": {},
   "outputs": [],
   "source": []
  }
 ],
 "metadata": {
  "kernelspec": {
   "display_name": "Python 3 (ipykernel)",
   "language": "python",
   "name": "python3"
  },
  "language_info": {
   "codemirror_mode": {
    "name": "ipython",
    "version": 3
   },
   "file_extension": ".py",
   "mimetype": "text/x-python",
   "name": "python",
   "nbconvert_exporter": "python",
   "pygments_lexer": "ipython3",
   "version": "3.10.11"
  }
 },
 "nbformat": 4,
 "nbformat_minor": 5
}
