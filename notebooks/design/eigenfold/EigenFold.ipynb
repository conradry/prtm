{
 "cells": [
  {
   "cell_type": "markdown",
   "id": "4cd578e4-c8a2-4284-af4e-141bae9feacd",
   "metadata": {},
   "source": [
    "# EigenFold"
   ]
  },
  {
   "cell_type": "code",
   "execution_count": 1,
   "id": "d9a86276-6eae-4cf8-b875-8992c9666c74",
   "metadata": {},
   "outputs": [],
   "source": [
    "%load_ext autoreload\n",
    "%autoreload 2"
   ]
  },
  {
   "cell_type": "code",
   "execution_count": 11,
   "id": "1f4b0e67-b962-4f92-8658-89368ff596b9",
   "metadata": {},
   "outputs": [],
   "source": [
    "import torch\n",
    "from proteome.models.folding.omegafold.modeling import OmegaFoldForSequenceEmbedding"
   ]
  },
  {
   "cell_type": "code",
   "execution_count": 4,
   "id": "b24cf465-e0f8-425e-8f79-6159c47f92e3",
   "metadata": {},
   "outputs": [],
   "source": [
    "sequence = 'MAAHKGAEHHHKAAEHHEQAAKHHHAAAEHHEKGEHEQAAHHADTAYAHHKHAEEHAAQAAKHDAEHHAPKPH'"
   ]
  },
  {
   "cell_type": "code",
   "execution_count": 5,
   "id": "064cb8ef-c3d1-4bf6-bf67-7a39e092ec0c",
   "metadata": {},
   "outputs": [],
   "source": [
    "embedder = OmegaFoldForSequenceEmbedding()"
   ]
  },
  {
   "cell_type": "code",
   "execution_count": 6,
   "id": "18245b05-8ced-472e-859c-5d84c499de88",
   "metadata": {},
   "outputs": [],
   "source": [
    "node_repr, edge_repr = embedder.embed(sequence)"
   ]
  },
  {
   "cell_type": "code",
   "execution_count": 10,
   "id": "444efa06-b91b-4a8e-a0fc-74553582e53c",
   "metadata": {},
   "outputs": [],
   "source": [
    "from dataclasses import dataclass\n",
    "\n",
    "@dataclass\n",
    "class Args:\n",
    "    model_dir: str\n",
    "    ckpt: str\n",
    "    splits: str\n",
    "    split_key: str = None\n",
    "    inf_mols: int = 1000\n",
    "    wandb: str = None\n",
    "    num_workers: int = None\n",
    "    ode: bool = False\n",
    "    elbo: bool = False\n",
    "    alpha: float = 0\n",
    "    beta: float = 1\n",
    "    num_samples: int = 1\n",
    "    inf_step: float = 0.5\n",
    "    elbo_step: float = 0.2\n",
    "    inf_type: str = 'rate'\n",
    "    max_len: int = 1024\n",
    "    inf_Hf: float = None\n",
    "    inf_kmin: int = None\n",
    "    inf_tmin: int = None\n",
    "    inf_cutoff: int = None\n",
    "    embeddings_dir: str = None\n",
    "    pdb_dir: str = None\n",
    "    embeddings_key: str = None"
   ]
  },
  {
   "cell_type": "code",
   "execution_count": 18,
   "id": "8f59c9c2-dce8-4e7d-a32c-946d9007cf68",
   "metadata": {},
   "outputs": [],
   "source": [
    "@dataclass\n",
    "class ModelConfig:\n",
    "    sde_a: float = 3/(3.8**2)\n",
    "    sde_b: float = 0\n",
    "    resi_conv_layers: int = 6\n",
    "    resi_ns: int = 32\n",
    "    resi_nv: int = 4\n",
    "    resi_ntps: int = 16\n",
    "    resi_ntpv: int = 4\n",
    "    resi_fc_dim: int = 128\n",
    "    resi_pos_emb_dim: int = 16\n",
    "    lin_nf: int = 1\n",
    "    lin_self: bool = False\n",
    "    attention: bool = False\n",
    "    sh_lmax: int = 2\n",
    "    order: int = 1\n",
    "    t_emb_dim: int = 32\n",
    "    t_emb_type: str = 'sinusoidal'\n",
    "    radius_emb_type: str = 'gaussian'\n",
    "    radius_emb_dim: int = 50\n",
    "    radius_emb_max: float = 50\n",
    "    tmin: float = 0.001\n",
    "    tmax: float = 1e6\n",
    "    no_radius_sqrt: bool = False\n",
    "    parity: bool = True\n",
    "    lm_edge_dim: int = 128\n",
    "    lm_node_dim: int = 256\n",
    "    no_edge_embs: bool = False"
   ]
  },
  {
   "cell_type": "code",
   "execution_count": 12,
   "id": "a44280da-5c23-4394-b3ca-1553f1b42e64",
   "metadata": {},
   "outputs": [
    {
     "name": "stderr",
     "output_type": "stream",
     "text": [
      "Downloading: \"https://github.com/bjing2016/EigenFold/raw/master/pretrained_model/epoch_7.pt\" to /home/conradry71/.cache/torch/hub/checkpoints/eigenfold_epoch_7.pt\n",
      "100%|███████████████████████████████████████████████| 6.63M/6.63M [00:00<00:00, 84.5MB/s]\n"
     ]
    }
   ],
   "source": [
    "ckpt = torch.hub.load_state_dict_from_url(\n",
    "    \"https://github.com/bjing2016/EigenFold/raw/master/pretrained_model/epoch_7.pt\", map_location=\"cpu\", file_name=\"eigenfold_epoch_7.pt\"\n",
    ")"
   ]
  },
  {
   "cell_type": "code",
   "execution_count": 15,
   "id": "f010b7ba-6151-494a-83af-e6d942dc114a",
   "metadata": {},
   "outputs": [],
   "source": [
    "from proteome.models.design.eigenfold.score_model import get_model"
   ]
  },
  {
   "cell_type": "code",
   "execution_count": 19,
   "id": "ab9ee775-7aaa-443b-8f8b-562bf9d82469",
   "metadata": {},
   "outputs": [
    {
     "name": "stderr",
     "output_type": "stream",
     "text": [
      "/home/conradry71/micromamba/envs/proteome/lib/python3.10/site-packages/torch/jit/_check.py:172: UserWarning: The TorchScript type system doesn't support instance-level annotations on empty non-base types in `__init__`. Instead, either 1) use a type annotation in the class body, or 2) wrap the type in `torch.jit.Attribute`.\n",
      "  warnings.warn(\"The TorchScript type system doesn't support \"\n"
     ]
    }
   ],
   "source": [
    "ef_model = get_model(ModelConfig())"
   ]
  },
  {
   "cell_type": "code",
   "execution_count": 20,
   "id": "9791681f-c9a8-4d1b-9547-5b6242af1153",
   "metadata": {},
   "outputs": [
    {
     "data": {
      "text/plain": [
       "<All keys matched successfully>"
      ]
     },
     "execution_count": 20,
     "metadata": {},
     "output_type": "execute_result"
    }
   ],
   "source": [
    "ef_model.load_state_dict(ckpt['model'], strict=True)"
   ]
  },
  {
   "cell_type": "code",
   "execution_count": null,
   "id": "b7decd9f-6f39-46bf-bce7-ff997ec88fd4",
   "metadata": {},
   "outputs": [],
   "source": [
    "import os, yaml, torch, wandb\n",
    "import numpy as np\n",
    "device = torch.device('cuda' if torch.cuda.is_available() else 'cpu')\n",
    "from utils.logging import get_logger\n",
    "logger = get_logger(__name__)\n",
    "from utils.dataset import get_loader\n",
    "import pandas as pd\n",
    "from model import get_model\n",
    "from utils.inference import inference_epoch"
   ]
  },
  {
   "cell_type": "code",
   "execution_count": null,
   "id": "13fb8ce9-12b1-494b-aa40-27c8c41ac458",
   "metadata": {},
   "outputs": [],
   "source": [
    "val_loader = get_loader(args, None, splits, mode=inf_args.split_key, shuffle=False)\n",
    "samples, log = inference_epoch(args, model, val_loader.dataset, device=device, pdbs=True, elbo=inf_args.elbo)\n",
    "\n",
    "means = {key: np.mean(log[key]) for key in log if key != 'path'}\n",
    "logger.info(f\"Inference epoch {ep}: len {len(log['rmsd'])} MEANS {means}\")\n",
    "\n",
    "for samp in samples:\n",
    "    samp.pdb.write(os.path.join(inf_args.model_dir, inf_name, samp.path.split('/')[-1] + f\".{samp.copy}.anim.pdb\"), reverse=True)\n",
    "    samp.pdb.clear().add(samp.Y).write(\n",
    "        os.path.join(inf_args.model_dir, inf_name, samp.path.split('/')[-1] + f\".{samp.copy}.pdb\"))"
   ]
  }
 ],
 "metadata": {
  "kernelspec": {
   "display_name": "Python 3 (ipykernel)",
   "language": "python",
   "name": "python3"
  },
  "language_info": {
   "codemirror_mode": {
    "name": "ipython",
    "version": 3
   },
   "file_extension": ".py",
   "mimetype": "text/x-python",
   "name": "python",
   "nbconvert_exporter": "python",
   "pygments_lexer": "ipython3",
   "version": "3.10.11"
  }
 },
 "nbformat": 4,
 "nbformat_minor": 5
}
