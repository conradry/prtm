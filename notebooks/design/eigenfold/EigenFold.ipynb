{
 "cells": [
  {
   "cell_type": "markdown",
   "id": "4cd578e4-c8a2-4284-af4e-141bae9feacd",
   "metadata": {},
   "source": [
    "# EigenFold"
   ]
  },
  {
   "cell_type": "code",
   "execution_count": 1,
   "id": "d9a86276-6eae-4cf8-b875-8992c9666c74",
   "metadata": {},
   "outputs": [],
   "source": [
    "%load_ext autoreload\n",
    "%autoreload 2"
   ]
  },
  {
   "cell_type": "code",
   "execution_count": 2,
   "id": "1f4b0e67-b962-4f92-8658-89368ff596b9",
   "metadata": {},
   "outputs": [
    {
     "data": {
      "application/vnd.jupyter.widget-view+json": {
       "model_id": "b0bbc20431ca40009bebc0f92090f3e4",
       "version_major": 2,
       "version_minor": 0
      },
      "text/plain": []
     },
     "metadata": {},
     "output_type": "display_data"
    }
   ],
   "source": [
    "import torch\n",
    "import numpy as np\n",
    "import nglview as nv\n",
    "from proteome.models.design.eigenfold.modeling import OmegaFoldForGraphEmbedding"
   ]
  },
  {
   "cell_type": "code",
   "execution_count": 3,
   "id": "b24cf465-e0f8-425e-8f79-6159c47f92e3",
   "metadata": {},
   "outputs": [],
   "source": [
    "sequence = 'MAAHKGAEHHHKAAEHHEQAAKHHHAAAEHHEKGEHEQAAHHADTAYAHHKHAEEHAAQAAKHDAEHHAPKPH'"
   ]
  },
  {
   "cell_type": "code",
   "execution_count": 4,
   "id": "064cb8ef-c3d1-4bf6-bf67-7a39e092ec0c",
   "metadata": {},
   "outputs": [],
   "source": [
    "embedder = OmegaFoldForGraphEmbedding()"
   ]
  },
  {
   "cell_type": "code",
   "execution_count": 5,
   "id": "18245b05-8ced-472e-859c-5d84c499de88",
   "metadata": {},
   "outputs": [],
   "source": [
    "node_repr, edge_repr = embedder.embed(sequence)"
   ]
  },
  {
   "cell_type": "code",
   "execution_count": 6,
   "id": "444efa06-b91b-4a8e-a0fc-74553582e53c",
   "metadata": {},
   "outputs": [],
   "source": [
    "from dataclasses import dataclass\n",
    "\n",
    "@dataclass\n",
    "class Args:\n",
    "    split_key: str = None\n",
    "    inf_mols: int = 1000\n",
    "    wandb: str = None\n",
    "    num_workers: int = None\n",
    "    ode: bool = False\n",
    "    elbo: bool = True\n",
    "    alpha: float = 1\n",
    "    beta: float = 3\n",
    "    num_samples: int = 1\n",
    "    inf_step: float = 0.5\n",
    "    elbo_step: float = 0.2\n",
    "    inf_type: str = 'rate'\n",
    "    max_len: int = 1024\n",
    "    inf_Hf: float = None\n",
    "    inf_kmin: int = None\n",
    "    inf_tmin: int = None\n",
    "    inf_cutoff: int = None\n",
    "    embeddings_dir: str = None\n",
    "    pdb_dir: str = None\n",
    "    embeddings_key: str = None\n",
    "    train_Hf: float = 2\n",
    "    train_tmin: float = 0.01\n",
    "    inf_step: float = 0.5\n",
    "    inf_type: str = \"rate\"  # choices=['entropy', 'rate']\n",
    "    train_cutoff: float = 5\n",
    "    train_kmin: int = 5"
   ]
  },
  {
   "cell_type": "code",
   "execution_count": 7,
   "id": "8f59c9c2-dce8-4e7d-a32c-946d9007cf68",
   "metadata": {},
   "outputs": [],
   "source": [
    "@dataclass\n",
    "class ModelConfig:\n",
    "    sde_a: float = 3/(3.8**2)\n",
    "    sde_b: float = 0\n",
    "    resi_conv_layers: int = 6\n",
    "    resi_ns: int = 32\n",
    "    resi_nv: int = 4\n",
    "    resi_ntps: int = 16\n",
    "    resi_ntpv: int = 4\n",
    "    resi_fc_dim: int = 128\n",
    "    resi_pos_emb_dim: int = 16\n",
    "    lin_nf: int = 1\n",
    "    lin_self: bool = False\n",
    "    attention: bool = False\n",
    "    sh_lmax: int = 2\n",
    "    order: int = 1\n",
    "    t_emb_dim: int = 32\n",
    "    t_emb_type: str = 'sinusoidal'\n",
    "    radius_emb_type: str = 'gaussian'\n",
    "    radius_emb_dim: int = 50\n",
    "    radius_emb_max: float = 50\n",
    "    tmin: float = 0.001\n",
    "    tmax: float = 1e6\n",
    "    no_radius_sqrt: bool = False\n",
    "    parity: bool = True\n",
    "    lm_edge_dim: int = 128\n",
    "    lm_node_dim: int = 256\n",
    "    no_edge_embs: bool = False"
   ]
  },
  {
   "cell_type": "code",
   "execution_count": 8,
   "id": "a44280da-5c23-4394-b3ca-1553f1b42e64",
   "metadata": {},
   "outputs": [],
   "source": [
    "ckpt = torch.hub.load_state_dict_from_url(\n",
    "    \"https://github.com/bjing2016/EigenFold/raw/master/pretrained_model/epoch_7.pt\", map_location=\"cpu\", file_name=\"eigenfold_epoch_7.pt\"\n",
    ")"
   ]
  },
  {
   "cell_type": "code",
   "execution_count": 9,
   "id": "f010b7ba-6151-494a-83af-e6d942dc114a",
   "metadata": {},
   "outputs": [],
   "source": [
    "from proteome.models.design.eigenfold.score_model import get_model"
   ]
  },
  {
   "cell_type": "code",
   "execution_count": 10,
   "id": "ab9ee775-7aaa-443b-8f8b-562bf9d82469",
   "metadata": {},
   "outputs": [
    {
     "name": "stderr",
     "output_type": "stream",
     "text": [
      "/home/conradry71/micromamba/envs/proteome/lib/python3.10/site-packages/torch/jit/_check.py:172: UserWarning: The TorchScript type system doesn't support instance-level annotations on empty non-base types in `__init__`. Instead, either 1) use a type annotation in the class body, or 2) wrap the type in `torch.jit.Attribute`.\n",
      "  warnings.warn(\"The TorchScript type system doesn't support \"\n"
     ]
    }
   ],
   "source": [
    "ef_model = get_model(ModelConfig())"
   ]
  },
  {
   "cell_type": "code",
   "execution_count": 11,
   "id": "9791681f-c9a8-4d1b-9547-5b6242af1153",
   "metadata": {},
   "outputs": [
    {
     "data": {
      "text/plain": [
       "<All keys matched successfully>"
      ]
     },
     "execution_count": 11,
     "metadata": {},
     "output_type": "execute_result"
    }
   ],
   "source": [
    "ef_model.load_state_dict(ckpt['model'], strict=True)"
   ]
  },
  {
   "cell_type": "code",
   "execution_count": 12,
   "id": "e4495d25-049b-4e6b-90bd-f9977df1aff9",
   "metadata": {},
   "outputs": [],
   "source": [
    "ef_model = ef_model.eval()\n",
    "ef_model = ef_model.cuda()"
   ]
  },
  {
   "cell_type": "code",
   "execution_count": 13,
   "id": "48793a78-4bc1-4913-9dde-7d2c3f448050",
   "metadata": {},
   "outputs": [
    {
     "name": "stderr",
     "output_type": "stream",
     "text": [
      "/home/conradry71/micromamba/envs/proteome/lib/python3.10/site-packages/Bio/pairwise2.py:278: BiopythonDeprecationWarning: Bio.pairwise2 has been deprecated, and we intend to remove it in a future release of Biopython. As an alternative, please consider using Bio.Align.PairwiseAligner as a replacement, and contact the Biopython developers if you still need the Bio.pairwise2 module.\n",
      "  warnings.warn(\n"
     ]
    }
   ],
   "source": [
    "from torch_geometric.data import HeteroData\n",
    "from proteome.models.design.eigenfold.dataset import get_dense_edges\n",
    "from proteome.models.design.eigenfold.polymer import PolymerSDE\n",
    "from proteome.models.design.eigenfold import schedule\n",
    "from proteome.models.design.eigenfold.inference import get_score_fn\n",
    "from proteome.models.design.eigenfold.sampling import logp, reverse_sample\n",
    "from proteome.models.design.eigenfold.pdb import PDBFile"
   ]
  },
  {
   "cell_type": "code",
   "execution_count": 14,
   "id": "fb78b4f8-accc-4af2-aa0d-a5217e7ee8d2",
   "metadata": {},
   "outputs": [],
   "source": [
    "args = Args()\n",
    "conf = ModelConfig()\n",
    "data = HeteroData()\n",
    "\n",
    "data.skip = False\n",
    "seqlen = node_repr.shape[0]\n",
    "data[\"resi\"].num_nodes = seqlen\n",
    "data[\"resi\"].edge_index = get_dense_edges(seqlen)\n",
    "\n",
    "sde = PolymerSDE(N=seqlen, a=conf.sde_a, b=conf.sde_b)\n",
    "sde.make_schedule(Hf=args.train_Hf, step=args.inf_step, tmin=args.train_tmin)\n",
    "\n",
    "data.resi_sde = data.sde = sde\n",
    "if conf.no_edge_embs:\n",
    "    edge_repr = np.zeros_like(edge_repr)\n",
    "\n",
    "data[\"resi\"].node_attr = node_repr\n",
    "src, dst = data[\"resi\"].edge_index[0], data[\"resi\"].edge_index[1]\n",
    "data[\"resi\"].edge_attr_ = torch.cat(\n",
    "    [edge_repr[src, dst], edge_repr[dst, src]], -1\n",
    ")"
   ]
  },
  {
   "cell_type": "code",
   "execution_count": 15,
   "id": "9ab9a967-aa48-40c0-a1bd-dcd2926e7f0e",
   "metadata": {},
   "outputs": [],
   "source": [
    "sde = data.sde\n",
    "sched = {\"entropy\": schedule.EntropySchedule, \"rate\": schedule.RateSchedule}[\n",
    "    args.inf_type\n",
    "](\n",
    "    sde,\n",
    "    Hf=args.train_Hf,\n",
    "    rmsd_max=0,\n",
    "    step=args.inf_step,\n",
    "    cutoff=args.train_cutoff,\n",
    "    kmin=args.train_kmin,\n",
    "    tmin=args.train_tmin,\n",
    "    alpha=args.alpha,\n",
    "    beta=args.beta,\n",
    ")\n",
    "sched_full = gsched = {\"entropy\": schedule.EntropySchedule, \"rate\": schedule.RateSchedule}[\n",
    "    args.inf_type\n",
    "](\n",
    "    sde,\n",
    "    Hf=args.train_Hf,\n",
    "    rmsd_max=0,\n",
    "    step=args.elbo_step,\n",
    "    cutoff=args.train_cutoff,\n",
    "    kmin=args.train_kmin,\n",
    "    tmin=args.train_tmin,\n",
    "    alpha=0,\n",
    "    beta=1,\n",
    ")"
   ]
  },
  {
   "cell_type": "code",
   "execution_count": 16,
   "id": "64d72738-bf51-41a7-b0b1-c5dda4555d2d",
   "metadata": {},
   "outputs": [],
   "source": [
    "score_fn = get_score_fn(args, ef_model, data, key=\"resi\", device=\"cuda:0\")"
   ]
  },
  {
   "cell_type": "code",
   "execution_count": 17,
   "id": "2647e6f4-7c2e-4b21-b579-956662d54e2a",
   "metadata": {},
   "outputs": [],
   "source": [
    "pdb = PDBFile(sequence)"
   ]
  },
  {
   "cell_type": "code",
   "execution_count": 18,
   "id": "52ce67f3-7c06-4d3b-b2a3-f4ef3fabd649",
   "metadata": {},
   "outputs": [
    {
     "name": "stderr",
     "output_type": "stream",
     "text": [
      "100%|███████████████████████████████████████████████████████████| 144/144 [00:08<00:00, 16.34it/s]\n"
     ]
    }
   ],
   "source": [
    "data.Y = reverse_sample(\n",
    "    args,\n",
    "    score_fn,\n",
    "    sde,\n",
    "    sched,\n",
    "    device=\"cuda:0\",\n",
    "    Y=None,\n",
    "    pdb=pdb,\n",
    "    tqdm_=True,\n",
    "    ode=args.ode,\n",
    ")"
   ]
  },
  {
   "cell_type": "code",
   "execution_count": 19,
   "id": "df9a78f1-d3d8-4614-8fa0-6f3fd9e97024",
   "metadata": {},
   "outputs": [
    {
     "name": "stderr",
     "output_type": "stream",
     "text": [
      "100%|███████████████████████████████████████████████████████████| 144/144 [00:02<00:00, 56.17it/s]\n"
     ]
    }
   ],
   "source": [
    "data.elbo_Y = (\n",
    "    logp(data.Y, score_fn, sde, sched_full, device=\"cuda:0\", tqdm_=True)\n",
    "    if args.elbo\n",
    "    else np.nan\n",
    ")"
   ]
  },
  {
   "cell_type": "code",
   "execution_count": 20,
   "id": "944b21d1-3da0-468b-afb9-4a7b0ea273b3",
   "metadata": {},
   "outputs": [],
   "source": [
    "data.pdb = pdb"
   ]
  },
  {
   "cell_type": "code",
   "execution_count": 25,
   "id": "0126111c-3bb8-45c4-a868-444a276f7543",
   "metadata": {},
   "outputs": [],
   "source": [
    "with open(\"added.pdb\", mode=\"r\") as f:\n",
    "    pdb_str = f.read()"
   ]
  },
  {
   "cell_type": "code",
   "execution_count": 21,
   "id": "17190350-7e9e-48a8-9341-3593d0295f9d",
   "metadata": {},
   "outputs": [],
   "source": [
    "data.pdb.write(\"./base.pdb\", reverse=True)\n",
    "data.pdb.clear().add(data.Y).write(\"./added.pdb\")"
   ]
  },
  {
   "cell_type": "code",
   "execution_count": 26,
   "id": "0257a859-16e7-4442-a7b9-5f32502895b4",
   "metadata": {},
   "outputs": [
    {
     "data": {
      "application/vnd.jupyter.widget-view+json": {
       "model_id": "97a509ec9f234046b9b9be9827d0ee23",
       "version_major": 2,
       "version_minor": 0
      },
      "text/plain": [
       "NGLWidget()"
      ]
     },
     "metadata": {},
     "output_type": "display_data"
    }
   ],
   "source": [
    "view = nv.show_text(pdb_str)\n",
    "view"
   ]
  },
  {
   "cell_type": "code",
   "execution_count": null,
   "id": "0f6e5ff8-8d76-4bd0-8b67-bd2e3861abe2",
   "metadata": {},
   "outputs": [],
   "source": []
  }
 ],
 "metadata": {
  "kernelspec": {
   "display_name": "Python 3 (ipykernel)",
   "language": "python",
   "name": "python3"
  },
  "language_info": {
   "codemirror_mode": {
    "name": "ipython",
    "version": 3
   },
   "file_extension": ".py",
   "mimetype": "text/x-python",
   "name": "python",
   "nbconvert_exporter": "python",
   "pygments_lexer": "ipython3",
   "version": "3.10.11"
  }
 },
 "nbformat": 4,
 "nbformat_minor": 5
}
