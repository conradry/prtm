{
  "nbformat": 4,
  "nbformat_minor": 0,
  "metadata": {
    "colab": {
      "name": "Onnx: ProtBert-BFD.ipynb",
      "provenance": [],
      "collapsed_sections": [],
      "machine_shape": "hm",
      "authorship_tag": "ABX9TyPN7q0EPcg8BgNpeyVojZUf",
      "include_colab_link": true
    },
    "kernelspec": {
      "name": "python3",
      "display_name": "Python 3"
    },
    "accelerator": "GPU",
    "widgets": {
      "application/vnd.jupyter.widget-state+json": {
        "a76e635a3b0041ca8a183705b7e30905": {
          "model_module": "@jupyter-widgets/controls",
          "model_name": "HBoxModel",
          "state": {
            "_view_name": "HBoxView",
            "_dom_classes": [],
            "_model_name": "HBoxModel",
            "_view_module": "@jupyter-widgets/controls",
            "_model_module_version": "1.5.0",
            "_view_count": null,
            "_view_module_version": "1.5.0",
            "box_style": "",
            "layout": "IPY_MODEL_c797edd1845247e6a67e850150dac22e",
            "_model_module": "@jupyter-widgets/controls",
            "children": [
              "IPY_MODEL_d7958341c7b64c73b153729451595623",
              "IPY_MODEL_ba170c48aa8147b3a2f94acf5d48bee2"
            ]
          }
        },
        "c797edd1845247e6a67e850150dac22e": {
          "model_module": "@jupyter-widgets/base",
          "model_name": "LayoutModel",
          "state": {
            "_view_name": "LayoutView",
            "grid_template_rows": null,
            "right": null,
            "justify_content": null,
            "_view_module": "@jupyter-widgets/base",
            "overflow": null,
            "_model_module_version": "1.2.0",
            "_view_count": null,
            "flex_flow": null,
            "width": null,
            "min_width": null,
            "border": null,
            "align_items": null,
            "bottom": null,
            "_model_module": "@jupyter-widgets/base",
            "top": null,
            "grid_column": null,
            "overflow_y": null,
            "overflow_x": null,
            "grid_auto_flow": null,
            "grid_area": null,
            "grid_template_columns": null,
            "flex": null,
            "_model_name": "LayoutModel",
            "justify_items": null,
            "grid_row": null,
            "max_height": null,
            "align_content": null,
            "visibility": null,
            "align_self": null,
            "height": null,
            "min_height": null,
            "padding": null,
            "grid_auto_rows": null,
            "grid_gap": null,
            "max_width": null,
            "order": null,
            "_view_module_version": "1.2.0",
            "grid_template_areas": null,
            "object_position": null,
            "object_fit": null,
            "grid_auto_columns": null,
            "margin": null,
            "display": null,
            "left": null
          }
        },
        "d7958341c7b64c73b153729451595623": {
          "model_module": "@jupyter-widgets/controls",
          "model_name": "FloatProgressModel",
          "state": {
            "_view_name": "ProgressView",
            "style": "IPY_MODEL_4315d50bda1549418de10f1ea82f7228",
            "_dom_classes": [],
            "description": "Downloading: 100%",
            "_model_name": "FloatProgressModel",
            "bar_style": "success",
            "max": 81,
            "_view_module": "@jupyter-widgets/controls",
            "_model_module_version": "1.5.0",
            "value": 81,
            "_view_count": null,
            "_view_module_version": "1.5.0",
            "orientation": "horizontal",
            "min": 0,
            "description_tooltip": null,
            "_model_module": "@jupyter-widgets/controls",
            "layout": "IPY_MODEL_5e498a1a7b4d481aad0115b0dfe80b24"
          }
        },
        "ba170c48aa8147b3a2f94acf5d48bee2": {
          "model_module": "@jupyter-widgets/controls",
          "model_name": "HTMLModel",
          "state": {
            "_view_name": "HTMLView",
            "style": "IPY_MODEL_efeb8e37a9294dcfb9c58e63a8141ae7",
            "_dom_classes": [],
            "description": "",
            "_model_name": "HTMLModel",
            "placeholder": "​",
            "_view_module": "@jupyter-widgets/controls",
            "_model_module_version": "1.5.0",
            "value": " 81.0/81.0 [00:37&lt;00:00, 2.16B/s]",
            "_view_count": null,
            "_view_module_version": "1.5.0",
            "description_tooltip": null,
            "_model_module": "@jupyter-widgets/controls",
            "layout": "IPY_MODEL_93d2c77c93014c5eb02bdf946be586bf"
          }
        },
        "4315d50bda1549418de10f1ea82f7228": {
          "model_module": "@jupyter-widgets/controls",
          "model_name": "ProgressStyleModel",
          "state": {
            "_view_name": "StyleView",
            "_model_name": "ProgressStyleModel",
            "description_width": "initial",
            "_view_module": "@jupyter-widgets/base",
            "_model_module_version": "1.5.0",
            "_view_count": null,
            "_view_module_version": "1.2.0",
            "bar_color": null,
            "_model_module": "@jupyter-widgets/controls"
          }
        },
        "5e498a1a7b4d481aad0115b0dfe80b24": {
          "model_module": "@jupyter-widgets/base",
          "model_name": "LayoutModel",
          "state": {
            "_view_name": "LayoutView",
            "grid_template_rows": null,
            "right": null,
            "justify_content": null,
            "_view_module": "@jupyter-widgets/base",
            "overflow": null,
            "_model_module_version": "1.2.0",
            "_view_count": null,
            "flex_flow": null,
            "width": null,
            "min_width": null,
            "border": null,
            "align_items": null,
            "bottom": null,
            "_model_module": "@jupyter-widgets/base",
            "top": null,
            "grid_column": null,
            "overflow_y": null,
            "overflow_x": null,
            "grid_auto_flow": null,
            "grid_area": null,
            "grid_template_columns": null,
            "flex": null,
            "_model_name": "LayoutModel",
            "justify_items": null,
            "grid_row": null,
            "max_height": null,
            "align_content": null,
            "visibility": null,
            "align_self": null,
            "height": null,
            "min_height": null,
            "padding": null,
            "grid_auto_rows": null,
            "grid_gap": null,
            "max_width": null,
            "order": null,
            "_view_module_version": "1.2.0",
            "grid_template_areas": null,
            "object_position": null,
            "object_fit": null,
            "grid_auto_columns": null,
            "margin": null,
            "display": null,
            "left": null
          }
        },
        "efeb8e37a9294dcfb9c58e63a8141ae7": {
          "model_module": "@jupyter-widgets/controls",
          "model_name": "DescriptionStyleModel",
          "state": {
            "_view_name": "StyleView",
            "_model_name": "DescriptionStyleModel",
            "description_width": "",
            "_view_module": "@jupyter-widgets/base",
            "_model_module_version": "1.5.0",
            "_view_count": null,
            "_view_module_version": "1.2.0",
            "_model_module": "@jupyter-widgets/controls"
          }
        },
        "93d2c77c93014c5eb02bdf946be586bf": {
          "model_module": "@jupyter-widgets/base",
          "model_name": "LayoutModel",
          "state": {
            "_view_name": "LayoutView",
            "grid_template_rows": null,
            "right": null,
            "justify_content": null,
            "_view_module": "@jupyter-widgets/base",
            "overflow": null,
            "_model_module_version": "1.2.0",
            "_view_count": null,
            "flex_flow": null,
            "width": null,
            "min_width": null,
            "border": null,
            "align_items": null,
            "bottom": null,
            "_model_module": "@jupyter-widgets/base",
            "top": null,
            "grid_column": null,
            "overflow_y": null,
            "overflow_x": null,
            "grid_auto_flow": null,
            "grid_area": null,
            "grid_template_columns": null,
            "flex": null,
            "_model_name": "LayoutModel",
            "justify_items": null,
            "grid_row": null,
            "max_height": null,
            "align_content": null,
            "visibility": null,
            "align_self": null,
            "height": null,
            "min_height": null,
            "padding": null,
            "grid_auto_rows": null,
            "grid_gap": null,
            "max_width": null,
            "order": null,
            "_view_module_version": "1.2.0",
            "grid_template_areas": null,
            "object_position": null,
            "object_fit": null,
            "grid_auto_columns": null,
            "margin": null,
            "display": null,
            "left": null
          }
        },
        "981bf7d6599a47d99b9b9e2e77bf265a": {
          "model_module": "@jupyter-widgets/controls",
          "model_name": "HBoxModel",
          "state": {
            "_view_name": "HBoxView",
            "_dom_classes": [],
            "_model_name": "HBoxModel",
            "_view_module": "@jupyter-widgets/controls",
            "_model_module_version": "1.5.0",
            "_view_count": null,
            "_view_module_version": "1.5.0",
            "box_style": "",
            "layout": "IPY_MODEL_c655bfab924a4dc08516cdf036d303f0",
            "_model_module": "@jupyter-widgets/controls",
            "children": [
              "IPY_MODEL_57d7a9a8e94046709ba6dacd4401c6fc",
              "IPY_MODEL_0741a1dbcb9644bca56bc51fd2c4be0a"
            ]
          }
        },
        "c655bfab924a4dc08516cdf036d303f0": {
          "model_module": "@jupyter-widgets/base",
          "model_name": "LayoutModel",
          "state": {
            "_view_name": "LayoutView",
            "grid_template_rows": null,
            "right": null,
            "justify_content": null,
            "_view_module": "@jupyter-widgets/base",
            "overflow": null,
            "_model_module_version": "1.2.0",
            "_view_count": null,
            "flex_flow": null,
            "width": null,
            "min_width": null,
            "border": null,
            "align_items": null,
            "bottom": null,
            "_model_module": "@jupyter-widgets/base",
            "top": null,
            "grid_column": null,
            "overflow_y": null,
            "overflow_x": null,
            "grid_auto_flow": null,
            "grid_area": null,
            "grid_template_columns": null,
            "flex": null,
            "_model_name": "LayoutModel",
            "justify_items": null,
            "grid_row": null,
            "max_height": null,
            "align_content": null,
            "visibility": null,
            "align_self": null,
            "height": null,
            "min_height": null,
            "padding": null,
            "grid_auto_rows": null,
            "grid_gap": null,
            "max_width": null,
            "order": null,
            "_view_module_version": "1.2.0",
            "grid_template_areas": null,
            "object_position": null,
            "object_fit": null,
            "grid_auto_columns": null,
            "margin": null,
            "display": null,
            "left": null
          }
        },
        "57d7a9a8e94046709ba6dacd4401c6fc": {
          "model_module": "@jupyter-widgets/controls",
          "model_name": "FloatProgressModel",
          "state": {
            "_view_name": "ProgressView",
            "style": "IPY_MODEL_2bf4e056cc404549ad89d5248ec598aa",
            "_dom_classes": [],
            "description": "Downloading: 100%",
            "_model_name": "FloatProgressModel",
            "bar_style": "success",
            "max": 112,
            "_view_module": "@jupyter-widgets/controls",
            "_model_module_version": "1.5.0",
            "value": 112,
            "_view_count": null,
            "_view_module_version": "1.5.0",
            "orientation": "horizontal",
            "min": 0,
            "description_tooltip": null,
            "_model_module": "@jupyter-widgets/controls",
            "layout": "IPY_MODEL_cac85d511a884bb59ff245ef06dd529b"
          }
        },
        "0741a1dbcb9644bca56bc51fd2c4be0a": {
          "model_module": "@jupyter-widgets/controls",
          "model_name": "HTMLModel",
          "state": {
            "_view_name": "HTMLView",
            "style": "IPY_MODEL_0ccbc69421824986a50751a2d45e8056",
            "_dom_classes": [],
            "description": "",
            "_model_name": "HTMLModel",
            "placeholder": "​",
            "_view_module": "@jupyter-widgets/controls",
            "_model_module_version": "1.5.0",
            "value": " 112/112 [00:00&lt;00:00, 142B/s]",
            "_view_count": null,
            "_view_module_version": "1.5.0",
            "description_tooltip": null,
            "_model_module": "@jupyter-widgets/controls",
            "layout": "IPY_MODEL_89855c033b9d4781b83fa8c9979a5631"
          }
        },
        "2bf4e056cc404549ad89d5248ec598aa": {
          "model_module": "@jupyter-widgets/controls",
          "model_name": "ProgressStyleModel",
          "state": {
            "_view_name": "StyleView",
            "_model_name": "ProgressStyleModel",
            "description_width": "initial",
            "_view_module": "@jupyter-widgets/base",
            "_model_module_version": "1.5.0",
            "_view_count": null,
            "_view_module_version": "1.2.0",
            "bar_color": null,
            "_model_module": "@jupyter-widgets/controls"
          }
        },
        "cac85d511a884bb59ff245ef06dd529b": {
          "model_module": "@jupyter-widgets/base",
          "model_name": "LayoutModel",
          "state": {
            "_view_name": "LayoutView",
            "grid_template_rows": null,
            "right": null,
            "justify_content": null,
            "_view_module": "@jupyter-widgets/base",
            "overflow": null,
            "_model_module_version": "1.2.0",
            "_view_count": null,
            "flex_flow": null,
            "width": null,
            "min_width": null,
            "border": null,
            "align_items": null,
            "bottom": null,
            "_model_module": "@jupyter-widgets/base",
            "top": null,
            "grid_column": null,
            "overflow_y": null,
            "overflow_x": null,
            "grid_auto_flow": null,
            "grid_area": null,
            "grid_template_columns": null,
            "flex": null,
            "_model_name": "LayoutModel",
            "justify_items": null,
            "grid_row": null,
            "max_height": null,
            "align_content": null,
            "visibility": null,
            "align_self": null,
            "height": null,
            "min_height": null,
            "padding": null,
            "grid_auto_rows": null,
            "grid_gap": null,
            "max_width": null,
            "order": null,
            "_view_module_version": "1.2.0",
            "grid_template_areas": null,
            "object_position": null,
            "object_fit": null,
            "grid_auto_columns": null,
            "margin": null,
            "display": null,
            "left": null
          }
        },
        "0ccbc69421824986a50751a2d45e8056": {
          "model_module": "@jupyter-widgets/controls",
          "model_name": "DescriptionStyleModel",
          "state": {
            "_view_name": "StyleView",
            "_model_name": "DescriptionStyleModel",
            "description_width": "",
            "_view_module": "@jupyter-widgets/base",
            "_model_module_version": "1.5.0",
            "_view_count": null,
            "_view_module_version": "1.2.0",
            "_model_module": "@jupyter-widgets/controls"
          }
        },
        "89855c033b9d4781b83fa8c9979a5631": {
          "model_module": "@jupyter-widgets/base",
          "model_name": "LayoutModel",
          "state": {
            "_view_name": "LayoutView",
            "grid_template_rows": null,
            "right": null,
            "justify_content": null,
            "_view_module": "@jupyter-widgets/base",
            "overflow": null,
            "_model_module_version": "1.2.0",
            "_view_count": null,
            "flex_flow": null,
            "width": null,
            "min_width": null,
            "border": null,
            "align_items": null,
            "bottom": null,
            "_model_module": "@jupyter-widgets/base",
            "top": null,
            "grid_column": null,
            "overflow_y": null,
            "overflow_x": null,
            "grid_auto_flow": null,
            "grid_area": null,
            "grid_template_columns": null,
            "flex": null,
            "_model_name": "LayoutModel",
            "justify_items": null,
            "grid_row": null,
            "max_height": null,
            "align_content": null,
            "visibility": null,
            "align_self": null,
            "height": null,
            "min_height": null,
            "padding": null,
            "grid_auto_rows": null,
            "grid_gap": null,
            "max_width": null,
            "order": null,
            "_view_module_version": "1.2.0",
            "grid_template_areas": null,
            "object_position": null,
            "object_fit": null,
            "grid_auto_columns": null,
            "margin": null,
            "display": null,
            "left": null
          }
        },
        "bb8e95d52192438fafbc3dc0dd1d876e": {
          "model_module": "@jupyter-widgets/controls",
          "model_name": "HBoxModel",
          "state": {
            "_view_name": "HBoxView",
            "_dom_classes": [],
            "_model_name": "HBoxModel",
            "_view_module": "@jupyter-widgets/controls",
            "_model_module_version": "1.5.0",
            "_view_count": null,
            "_view_module_version": "1.5.0",
            "box_style": "",
            "layout": "IPY_MODEL_c09d4f3fa3f04ca1b85e172f5ca548b7",
            "_model_module": "@jupyter-widgets/controls",
            "children": [
              "IPY_MODEL_f7dbfb5258a24fb4bf943451e4a7579e",
              "IPY_MODEL_cd57c88e10964a829b605dbf1e17c57c"
            ]
          }
        },
        "c09d4f3fa3f04ca1b85e172f5ca548b7": {
          "model_module": "@jupyter-widgets/base",
          "model_name": "LayoutModel",
          "state": {
            "_view_name": "LayoutView",
            "grid_template_rows": null,
            "right": null,
            "justify_content": null,
            "_view_module": "@jupyter-widgets/base",
            "overflow": null,
            "_model_module_version": "1.2.0",
            "_view_count": null,
            "flex_flow": null,
            "width": null,
            "min_width": null,
            "border": null,
            "align_items": null,
            "bottom": null,
            "_model_module": "@jupyter-widgets/base",
            "top": null,
            "grid_column": null,
            "overflow_y": null,
            "overflow_x": null,
            "grid_auto_flow": null,
            "grid_area": null,
            "grid_template_columns": null,
            "flex": null,
            "_model_name": "LayoutModel",
            "justify_items": null,
            "grid_row": null,
            "max_height": null,
            "align_content": null,
            "visibility": null,
            "align_self": null,
            "height": null,
            "min_height": null,
            "padding": null,
            "grid_auto_rows": null,
            "grid_gap": null,
            "max_width": null,
            "order": null,
            "_view_module_version": "1.2.0",
            "grid_template_areas": null,
            "object_position": null,
            "object_fit": null,
            "grid_auto_columns": null,
            "margin": null,
            "display": null,
            "left": null
          }
        },
        "f7dbfb5258a24fb4bf943451e4a7579e": {
          "model_module": "@jupyter-widgets/controls",
          "model_name": "FloatProgressModel",
          "state": {
            "_view_name": "ProgressView",
            "style": "IPY_MODEL_f22e50a0e8e54deca5a40011802e6601",
            "_dom_classes": [],
            "description": "Downloading: 100%",
            "_model_name": "FloatProgressModel",
            "bar_style": "success",
            "max": 86,
            "_view_module": "@jupyter-widgets/controls",
            "_model_module_version": "1.5.0",
            "value": 86,
            "_view_count": null,
            "_view_module_version": "1.5.0",
            "orientation": "horizontal",
            "min": 0,
            "description_tooltip": null,
            "_model_module": "@jupyter-widgets/controls",
            "layout": "IPY_MODEL_8a519c65758a45d296527e535fa4aee1"
          }
        },
        "cd57c88e10964a829b605dbf1e17c57c": {
          "model_module": "@jupyter-widgets/controls",
          "model_name": "HTMLModel",
          "state": {
            "_view_name": "HTMLView",
            "style": "IPY_MODEL_92552b6be63f419b87fc09586916b359",
            "_dom_classes": [],
            "description": "",
            "_model_name": "HTMLModel",
            "placeholder": "​",
            "_view_module": "@jupyter-widgets/controls",
            "_model_module_version": "1.5.0",
            "value": " 86.0/86.0 [00:35&lt;00:00, 2.41B/s]",
            "_view_count": null,
            "_view_module_version": "1.5.0",
            "description_tooltip": null,
            "_model_module": "@jupyter-widgets/controls",
            "layout": "IPY_MODEL_b71ea87f03c0465e9ecfd82b6a3130bf"
          }
        },
        "f22e50a0e8e54deca5a40011802e6601": {
          "model_module": "@jupyter-widgets/controls",
          "model_name": "ProgressStyleModel",
          "state": {
            "_view_name": "StyleView",
            "_model_name": "ProgressStyleModel",
            "description_width": "initial",
            "_view_module": "@jupyter-widgets/base",
            "_model_module_version": "1.5.0",
            "_view_count": null,
            "_view_module_version": "1.2.0",
            "bar_color": null,
            "_model_module": "@jupyter-widgets/controls"
          }
        },
        "8a519c65758a45d296527e535fa4aee1": {
          "model_module": "@jupyter-widgets/base",
          "model_name": "LayoutModel",
          "state": {
            "_view_name": "LayoutView",
            "grid_template_rows": null,
            "right": null,
            "justify_content": null,
            "_view_module": "@jupyter-widgets/base",
            "overflow": null,
            "_model_module_version": "1.2.0",
            "_view_count": null,
            "flex_flow": null,
            "width": null,
            "min_width": null,
            "border": null,
            "align_items": null,
            "bottom": null,
            "_model_module": "@jupyter-widgets/base",
            "top": null,
            "grid_column": null,
            "overflow_y": null,
            "overflow_x": null,
            "grid_auto_flow": null,
            "grid_area": null,
            "grid_template_columns": null,
            "flex": null,
            "_model_name": "LayoutModel",
            "justify_items": null,
            "grid_row": null,
            "max_height": null,
            "align_content": null,
            "visibility": null,
            "align_self": null,
            "height": null,
            "min_height": null,
            "padding": null,
            "grid_auto_rows": null,
            "grid_gap": null,
            "max_width": null,
            "order": null,
            "_view_module_version": "1.2.0",
            "grid_template_areas": null,
            "object_position": null,
            "object_fit": null,
            "grid_auto_columns": null,
            "margin": null,
            "display": null,
            "left": null
          }
        },
        "92552b6be63f419b87fc09586916b359": {
          "model_module": "@jupyter-widgets/controls",
          "model_name": "DescriptionStyleModel",
          "state": {
            "_view_name": "StyleView",
            "_model_name": "DescriptionStyleModel",
            "description_width": "",
            "_view_module": "@jupyter-widgets/base",
            "_model_module_version": "1.5.0",
            "_view_count": null,
            "_view_module_version": "1.2.0",
            "_model_module": "@jupyter-widgets/controls"
          }
        },
        "b71ea87f03c0465e9ecfd82b6a3130bf": {
          "model_module": "@jupyter-widgets/base",
          "model_name": "LayoutModel",
          "state": {
            "_view_name": "LayoutView",
            "grid_template_rows": null,
            "right": null,
            "justify_content": null,
            "_view_module": "@jupyter-widgets/base",
            "overflow": null,
            "_model_module_version": "1.2.0",
            "_view_count": null,
            "flex_flow": null,
            "width": null,
            "min_width": null,
            "border": null,
            "align_items": null,
            "bottom": null,
            "_model_module": "@jupyter-widgets/base",
            "top": null,
            "grid_column": null,
            "overflow_y": null,
            "overflow_x": null,
            "grid_auto_flow": null,
            "grid_area": null,
            "grid_template_columns": null,
            "flex": null,
            "_model_name": "LayoutModel",
            "justify_items": null,
            "grid_row": null,
            "max_height": null,
            "align_content": null,
            "visibility": null,
            "align_self": null,
            "height": null,
            "min_height": null,
            "padding": null,
            "grid_auto_rows": null,
            "grid_gap": null,
            "max_width": null,
            "order": null,
            "_view_module_version": "1.2.0",
            "grid_template_areas": null,
            "object_position": null,
            "object_fit": null,
            "grid_auto_columns": null,
            "margin": null,
            "display": null,
            "left": null
          }
        },
        "f7202449706e4b54a910b80d6b9ef452": {
          "model_module": "@jupyter-widgets/controls",
          "model_name": "HBoxModel",
          "state": {
            "_view_name": "HBoxView",
            "_dom_classes": [],
            "_model_name": "HBoxModel",
            "_view_module": "@jupyter-widgets/controls",
            "_model_module_version": "1.5.0",
            "_view_count": null,
            "_view_module_version": "1.5.0",
            "box_style": "",
            "layout": "IPY_MODEL_64cc661ef6ab423e9e1c8f4203f38495",
            "_model_module": "@jupyter-widgets/controls",
            "children": [
              "IPY_MODEL_25292309e9fc491a8589d3ddf992cee8",
              "IPY_MODEL_a71aa3316a7a4227a4a77691762d71b1"
            ]
          }
        },
        "64cc661ef6ab423e9e1c8f4203f38495": {
          "model_module": "@jupyter-widgets/base",
          "model_name": "LayoutModel",
          "state": {
            "_view_name": "LayoutView",
            "grid_template_rows": null,
            "right": null,
            "justify_content": null,
            "_view_module": "@jupyter-widgets/base",
            "overflow": null,
            "_model_module_version": "1.2.0",
            "_view_count": null,
            "flex_flow": null,
            "width": null,
            "min_width": null,
            "border": null,
            "align_items": null,
            "bottom": null,
            "_model_module": "@jupyter-widgets/base",
            "top": null,
            "grid_column": null,
            "overflow_y": null,
            "overflow_x": null,
            "grid_auto_flow": null,
            "grid_area": null,
            "grid_template_columns": null,
            "flex": null,
            "_model_name": "LayoutModel",
            "justify_items": null,
            "grid_row": null,
            "max_height": null,
            "align_content": null,
            "visibility": null,
            "align_self": null,
            "height": null,
            "min_height": null,
            "padding": null,
            "grid_auto_rows": null,
            "grid_gap": null,
            "max_width": null,
            "order": null,
            "_view_module_version": "1.2.0",
            "grid_template_areas": null,
            "object_position": null,
            "object_fit": null,
            "grid_auto_columns": null,
            "margin": null,
            "display": null,
            "left": null
          }
        },
        "25292309e9fc491a8589d3ddf992cee8": {
          "model_module": "@jupyter-widgets/controls",
          "model_name": "FloatProgressModel",
          "state": {
            "_view_name": "ProgressView",
            "style": "IPY_MODEL_63c47a5bef23432b8020b9ac37d496d6",
            "_dom_classes": [],
            "description": "Downloading: 100%",
            "_model_name": "FloatProgressModel",
            "bar_style": "success",
            "max": 361,
            "_view_module": "@jupyter-widgets/controls",
            "_model_module_version": "1.5.0",
            "value": 361,
            "_view_count": null,
            "_view_module_version": "1.5.0",
            "orientation": "horizontal",
            "min": 0,
            "description_tooltip": null,
            "_model_module": "@jupyter-widgets/controls",
            "layout": "IPY_MODEL_00f6b0baec924d0088a0d8bd2f16d346"
          }
        },
        "a71aa3316a7a4227a4a77691762d71b1": {
          "model_module": "@jupyter-widgets/controls",
          "model_name": "HTMLModel",
          "state": {
            "_view_name": "HTMLView",
            "style": "IPY_MODEL_dc3d3416d1bb4679a05b542ad1743955",
            "_dom_classes": [],
            "description": "",
            "_model_name": "HTMLModel",
            "placeholder": "​",
            "_view_module": "@jupyter-widgets/controls",
            "_model_module_version": "1.5.0",
            "value": " 361/361 [00:03&lt;00:00, 117B/s]",
            "_view_count": null,
            "_view_module_version": "1.5.0",
            "description_tooltip": null,
            "_model_module": "@jupyter-widgets/controls",
            "layout": "IPY_MODEL_a5b1dcce01a64ab0bd79ca4d439a47fb"
          }
        },
        "63c47a5bef23432b8020b9ac37d496d6": {
          "model_module": "@jupyter-widgets/controls",
          "model_name": "ProgressStyleModel",
          "state": {
            "_view_name": "StyleView",
            "_model_name": "ProgressStyleModel",
            "description_width": "initial",
            "_view_module": "@jupyter-widgets/base",
            "_model_module_version": "1.5.0",
            "_view_count": null,
            "_view_module_version": "1.2.0",
            "bar_color": null,
            "_model_module": "@jupyter-widgets/controls"
          }
        },
        "00f6b0baec924d0088a0d8bd2f16d346": {
          "model_module": "@jupyter-widgets/base",
          "model_name": "LayoutModel",
          "state": {
            "_view_name": "LayoutView",
            "grid_template_rows": null,
            "right": null,
            "justify_content": null,
            "_view_module": "@jupyter-widgets/base",
            "overflow": null,
            "_model_module_version": "1.2.0",
            "_view_count": null,
            "flex_flow": null,
            "width": null,
            "min_width": null,
            "border": null,
            "align_items": null,
            "bottom": null,
            "_model_module": "@jupyter-widgets/base",
            "top": null,
            "grid_column": null,
            "overflow_y": null,
            "overflow_x": null,
            "grid_auto_flow": null,
            "grid_area": null,
            "grid_template_columns": null,
            "flex": null,
            "_model_name": "LayoutModel",
            "justify_items": null,
            "grid_row": null,
            "max_height": null,
            "align_content": null,
            "visibility": null,
            "align_self": null,
            "height": null,
            "min_height": null,
            "padding": null,
            "grid_auto_rows": null,
            "grid_gap": null,
            "max_width": null,
            "order": null,
            "_view_module_version": "1.2.0",
            "grid_template_areas": null,
            "object_position": null,
            "object_fit": null,
            "grid_auto_columns": null,
            "margin": null,
            "display": null,
            "left": null
          }
        },
        "dc3d3416d1bb4679a05b542ad1743955": {
          "model_module": "@jupyter-widgets/controls",
          "model_name": "DescriptionStyleModel",
          "state": {
            "_view_name": "StyleView",
            "_model_name": "DescriptionStyleModel",
            "description_width": "",
            "_view_module": "@jupyter-widgets/base",
            "_model_module_version": "1.5.0",
            "_view_count": null,
            "_view_module_version": "1.2.0",
            "_model_module": "@jupyter-widgets/controls"
          }
        },
        "a5b1dcce01a64ab0bd79ca4d439a47fb": {
          "model_module": "@jupyter-widgets/base",
          "model_name": "LayoutModel",
          "state": {
            "_view_name": "LayoutView",
            "grid_template_rows": null,
            "right": null,
            "justify_content": null,
            "_view_module": "@jupyter-widgets/base",
            "overflow": null,
            "_model_module_version": "1.2.0",
            "_view_count": null,
            "flex_flow": null,
            "width": null,
            "min_width": null,
            "border": null,
            "align_items": null,
            "bottom": null,
            "_model_module": "@jupyter-widgets/base",
            "top": null,
            "grid_column": null,
            "overflow_y": null,
            "overflow_x": null,
            "grid_auto_flow": null,
            "grid_area": null,
            "grid_template_columns": null,
            "flex": null,
            "_model_name": "LayoutModel",
            "justify_items": null,
            "grid_row": null,
            "max_height": null,
            "align_content": null,
            "visibility": null,
            "align_self": null,
            "height": null,
            "min_height": null,
            "padding": null,
            "grid_auto_rows": null,
            "grid_gap": null,
            "max_width": null,
            "order": null,
            "_view_module_version": "1.2.0",
            "grid_template_areas": null,
            "object_position": null,
            "object_fit": null,
            "grid_auto_columns": null,
            "margin": null,
            "display": null,
            "left": null
          }
        },
        "da469591010c44dab4f1e4b0d97857cb": {
          "model_module": "@jupyter-widgets/controls",
          "model_name": "HBoxModel",
          "state": {
            "_view_name": "HBoxView",
            "_dom_classes": [],
            "_model_name": "HBoxModel",
            "_view_module": "@jupyter-widgets/controls",
            "_model_module_version": "1.5.0",
            "_view_count": null,
            "_view_module_version": "1.5.0",
            "box_style": "",
            "layout": "IPY_MODEL_487e312f9a7c4091a601386b619dd507",
            "_model_module": "@jupyter-widgets/controls",
            "children": [
              "IPY_MODEL_efe8e75bec854b108cb368ba9d928d27",
              "IPY_MODEL_a27b329dc8d3429995be00cfe11faabf"
            ]
          }
        },
        "487e312f9a7c4091a601386b619dd507": {
          "model_module": "@jupyter-widgets/base",
          "model_name": "LayoutModel",
          "state": {
            "_view_name": "LayoutView",
            "grid_template_rows": null,
            "right": null,
            "justify_content": null,
            "_view_module": "@jupyter-widgets/base",
            "overflow": null,
            "_model_module_version": "1.2.0",
            "_view_count": null,
            "flex_flow": null,
            "width": null,
            "min_width": null,
            "border": null,
            "align_items": null,
            "bottom": null,
            "_model_module": "@jupyter-widgets/base",
            "top": null,
            "grid_column": null,
            "overflow_y": null,
            "overflow_x": null,
            "grid_auto_flow": null,
            "grid_area": null,
            "grid_template_columns": null,
            "flex": null,
            "_model_name": "LayoutModel",
            "justify_items": null,
            "grid_row": null,
            "max_height": null,
            "align_content": null,
            "visibility": null,
            "align_self": null,
            "height": null,
            "min_height": null,
            "padding": null,
            "grid_auto_rows": null,
            "grid_gap": null,
            "max_width": null,
            "order": null,
            "_view_module_version": "1.2.0",
            "grid_template_areas": null,
            "object_position": null,
            "object_fit": null,
            "grid_auto_columns": null,
            "margin": null,
            "display": null,
            "left": null
          }
        },
        "efe8e75bec854b108cb368ba9d928d27": {
          "model_module": "@jupyter-widgets/controls",
          "model_name": "FloatProgressModel",
          "state": {
            "_view_name": "ProgressView",
            "style": "IPY_MODEL_0422643a77744889a424aa4aa118bc52",
            "_dom_classes": [],
            "description": "Downloading: 100%",
            "_model_name": "FloatProgressModel",
            "bar_style": "success",
            "max": 1684058277,
            "_view_module": "@jupyter-widgets/controls",
            "_model_module_version": "1.5.0",
            "value": 1684058277,
            "_view_count": null,
            "_view_module_version": "1.5.0",
            "orientation": "horizontal",
            "min": 0,
            "description_tooltip": null,
            "_model_module": "@jupyter-widgets/controls",
            "layout": "IPY_MODEL_375ecc5d66ea478ba75129234efb233d"
          }
        },
        "a27b329dc8d3429995be00cfe11faabf": {
          "model_module": "@jupyter-widgets/controls",
          "model_name": "HTMLModel",
          "state": {
            "_view_name": "HTMLView",
            "style": "IPY_MODEL_617195279d404a11a024d33529875cbc",
            "_dom_classes": [],
            "description": "",
            "_model_name": "HTMLModel",
            "placeholder": "​",
            "_view_module": "@jupyter-widgets/controls",
            "_model_module_version": "1.5.0",
            "value": " 1.68G/1.68G [00:31&lt;00:00, 53.8MB/s]",
            "_view_count": null,
            "_view_module_version": "1.5.0",
            "description_tooltip": null,
            "_model_module": "@jupyter-widgets/controls",
            "layout": "IPY_MODEL_aa584c3c63c74c12b9bf7cc56dd538e4"
          }
        },
        "0422643a77744889a424aa4aa118bc52": {
          "model_module": "@jupyter-widgets/controls",
          "model_name": "ProgressStyleModel",
          "state": {
            "_view_name": "StyleView",
            "_model_name": "ProgressStyleModel",
            "description_width": "initial",
            "_view_module": "@jupyter-widgets/base",
            "_model_module_version": "1.5.0",
            "_view_count": null,
            "_view_module_version": "1.2.0",
            "bar_color": null,
            "_model_module": "@jupyter-widgets/controls"
          }
        },
        "375ecc5d66ea478ba75129234efb233d": {
          "model_module": "@jupyter-widgets/base",
          "model_name": "LayoutModel",
          "state": {
            "_view_name": "LayoutView",
            "grid_template_rows": null,
            "right": null,
            "justify_content": null,
            "_view_module": "@jupyter-widgets/base",
            "overflow": null,
            "_model_module_version": "1.2.0",
            "_view_count": null,
            "flex_flow": null,
            "width": null,
            "min_width": null,
            "border": null,
            "align_items": null,
            "bottom": null,
            "_model_module": "@jupyter-widgets/base",
            "top": null,
            "grid_column": null,
            "overflow_y": null,
            "overflow_x": null,
            "grid_auto_flow": null,
            "grid_area": null,
            "grid_template_columns": null,
            "flex": null,
            "_model_name": "LayoutModel",
            "justify_items": null,
            "grid_row": null,
            "max_height": null,
            "align_content": null,
            "visibility": null,
            "align_self": null,
            "height": null,
            "min_height": null,
            "padding": null,
            "grid_auto_rows": null,
            "grid_gap": null,
            "max_width": null,
            "order": null,
            "_view_module_version": "1.2.0",
            "grid_template_areas": null,
            "object_position": null,
            "object_fit": null,
            "grid_auto_columns": null,
            "margin": null,
            "display": null,
            "left": null
          }
        },
        "617195279d404a11a024d33529875cbc": {
          "model_module": "@jupyter-widgets/controls",
          "model_name": "DescriptionStyleModel",
          "state": {
            "_view_name": "StyleView",
            "_model_name": "DescriptionStyleModel",
            "description_width": "",
            "_view_module": "@jupyter-widgets/base",
            "_model_module_version": "1.5.0",
            "_view_count": null,
            "_view_module_version": "1.2.0",
            "_model_module": "@jupyter-widgets/controls"
          }
        },
        "aa584c3c63c74c12b9bf7cc56dd538e4": {
          "model_module": "@jupyter-widgets/base",
          "model_name": "LayoutModel",
          "state": {
            "_view_name": "LayoutView",
            "grid_template_rows": null,
            "right": null,
            "justify_content": null,
            "_view_module": "@jupyter-widgets/base",
            "overflow": null,
            "_model_module_version": "1.2.0",
            "_view_count": null,
            "flex_flow": null,
            "width": null,
            "min_width": null,
            "border": null,
            "align_items": null,
            "bottom": null,
            "_model_module": "@jupyter-widgets/base",
            "top": null,
            "grid_column": null,
            "overflow_y": null,
            "overflow_x": null,
            "grid_auto_flow": null,
            "grid_area": null,
            "grid_template_columns": null,
            "flex": null,
            "_model_name": "LayoutModel",
            "justify_items": null,
            "grid_row": null,
            "max_height": null,
            "align_content": null,
            "visibility": null,
            "align_self": null,
            "height": null,
            "min_height": null,
            "padding": null,
            "grid_auto_rows": null,
            "grid_gap": null,
            "max_width": null,
            "order": null,
            "_view_module_version": "1.2.0",
            "grid_template_areas": null,
            "object_position": null,
            "object_fit": null,
            "grid_auto_columns": null,
            "margin": null,
            "display": null,
            "left": null
          }
        }
      }
    }
  },
  "cells": [
    {
      "cell_type": "markdown",
      "metadata": {
        "id": "view-in-github",
        "colab_type": "text"
      },
      "source": [
        "<a href=\"https://colab.research.google.com/github/agemagician/ProtTrans/blob/master/Embedding/Onnx/ProtBert-BFD.ipynb\" target=\"_parent\"><img src=\"https://colab.research.google.com/assets/colab-badge.svg\" alt=\"Open In Colab\"/></a>"
      ]
    },
    {
      "cell_type": "markdown",
      "metadata": {
        "id": "OR9Z36bHYzdA"
      },
      "source": [
        "**Important Notes:**\n",
        "\n",
        "1. The current onnx implementation only works correctly with a single sequence per batch.\n",
        "2. It will work with many sequences per batch, but the results will be different from the original pytorch implementation.\n",
        "3. We will update the notebook if we figured out the problem.\n",
        "4. Pytorch FP16 is much faster than Pytorch FP32 when more sequences per batch is used."
      ]
    },
    {
      "cell_type": "markdown",
      "metadata": {
        "id": "uBLNTSYelrEV"
      },
      "source": [
        "**Check GPU**"
      ]
    },
    {
      "cell_type": "code",
      "metadata": {
        "id": "9HAW2zl9etR7",
        "colab": {
          "base_uri": "https://localhost:8080/"
        },
        "outputId": "5e1511f0-9666-41e5-aa16-4eecd3b37666"
      },
      "source": [
        "!nvidia-smi"
      ],
      "execution_count": 1,
      "outputs": [
        {
          "output_type": "stream",
          "text": [
            "Wed Nov 18 21:52:50 2020       \n",
            "+-----------------------------------------------------------------------------+\n",
            "| NVIDIA-SMI 455.38       Driver Version: 418.67       CUDA Version: 10.1     |\n",
            "|-------------------------------+----------------------+----------------------+\n",
            "| GPU  Name        Persistence-M| Bus-Id        Disp.A | Volatile Uncorr. ECC |\n",
            "| Fan  Temp  Perf  Pwr:Usage/Cap|         Memory-Usage | GPU-Util  Compute M. |\n",
            "|                               |                      |               MIG M. |\n",
            "|===============================+======================+======================|\n",
            "|   0  Tesla V100-SXM2...  Off  | 00000000:00:04.0 Off |                    0 |\n",
            "| N/A   34C    P0    24W / 300W |      0MiB / 16130MiB |      0%      Default |\n",
            "|                               |                      |                 ERR! |\n",
            "+-------------------------------+----------------------+----------------------+\n",
            "                                                                               \n",
            "+-----------------------------------------------------------------------------+\n",
            "| Processes:                                                                  |\n",
            "|  GPU   GI   CI        PID   Type   Process name                  GPU Memory |\n",
            "|        ID   ID                                                   Usage      |\n",
            "|=============================================================================|\n",
            "|  No running processes found                                                 |\n",
            "+-----------------------------------------------------------------------------+\n"
          ],
          "name": "stdout"
        }
      ]
    },
    {
      "cell_type": "markdown",
      "metadata": {
        "id": "jyFzGFQ97b_z"
      },
      "source": [
        "**Install libraries**"
      ]
    },
    {
      "cell_type": "code",
      "metadata": {
        "id": "sF27J8pO4jQZ",
        "colab": {
          "base_uri": "https://localhost:8080/"
        },
        "outputId": "ceadbb77-4b23-4235-8f75-e5318a88b6be"
      },
      "source": [
        "!pip install -q transformers\n",
        "!pip install -q biopython\n",
        "!pip install -q onnxruntime-gpu==1.4.0\n",
        "!pip install -q onnxruntime-tools==1.4.2"
      ],
      "execution_count": 2,
      "outputs": [
        {
          "output_type": "stream",
          "text": [
            "\u001b[K     |████████████████████████████████| 1.3MB 12.4MB/s \n",
            "\u001b[K     |████████████████████████████████| 890kB 55.8MB/s \n",
            "\u001b[K     |████████████████████████████████| 1.1MB 28.6MB/s \n",
            "\u001b[K     |████████████████████████████████| 2.9MB 57.4MB/s \n",
            "\u001b[?25h  Building wheel for sacremoses (setup.py) ... \u001b[?25l\u001b[?25hdone\n",
            "\u001b[K     |████████████████████████████████| 2.3MB 13.9MB/s \n",
            "\u001b[?25hCollecting onnxruntime-gpu==1.4.0\n",
            "\u001b[?25l  Downloading https://files.pythonhosted.org/packages/18/7e/ee1069410b1c955670a1f9889a2d8ce3a2df91fadec0d671b4685ac52519/onnxruntime_gpu-1.4.0-cp36-cp36m-manylinux2010_x86_64.whl (25.4MB)\n",
            "\u001b[K     |████████████████████████████████| 25.4MB 1.5MB/s \n",
            "\u001b[?25hRequirement already satisfied: numpy>=1.16.6 in /usr/local/lib/python3.6/dist-packages (from onnxruntime-gpu==1.4.0) (1.18.5)\n",
            "Requirement already satisfied: protobuf in /usr/local/lib/python3.6/dist-packages (from onnxruntime-gpu==1.4.0) (3.12.4)\n",
            "Requirement already satisfied: setuptools in /usr/local/lib/python3.6/dist-packages (from protobuf->onnxruntime-gpu==1.4.0) (50.3.2)\n",
            "Requirement already satisfied: six>=1.9 in /usr/local/lib/python3.6/dist-packages (from protobuf->onnxruntime-gpu==1.4.0) (1.15.0)\n",
            "Installing collected packages: onnxruntime-gpu\n",
            "Successfully installed onnxruntime-gpu-1.4.0\n",
            "Collecting onnxruntime-tools==1.4.2\n",
            "\u001b[?25l  Downloading https://files.pythonhosted.org/packages/19/6a/a6159e38c3ad9320f0ecb504ac22b96e7549d1422214cbc73a30ea4e1a5f/onnxruntime_tools-1.4.2-py3-none-any.whl (136kB)\n",
            "\u001b[K     |████████████████████████████████| 143kB 13.0MB/s \n",
            "\u001b[?25hRequirement already satisfied: packaging in /usr/local/lib/python3.6/dist-packages (from onnxruntime-tools==1.4.2) (20.4)\n",
            "Collecting py-cpuinfo\n",
            "\u001b[?25l  Downloading https://files.pythonhosted.org/packages/f6/f5/8e6e85ce2e9f6e05040cf0d4e26f43a4718bcc4bce988b433276d4b1a5c1/py-cpuinfo-7.0.0.tar.gz (95kB)\n",
            "\u001b[K     |████████████████████████████████| 102kB 9.7MB/s \n",
            "\u001b[?25hCollecting onnx\n",
            "\u001b[?25l  Downloading https://files.pythonhosted.org/packages/2a/82/e8d0fb64df623a3b716145192ed50604f444889778b37e0e9262753d5046/onnx-1.8.0-cp36-cp36m-manylinux2010_x86_64.whl (7.7MB)\n",
            "\u001b[K     |████████████████████████████████| 7.7MB 21.9MB/s \n",
            "\u001b[?25hCollecting coloredlogs\n",
            "\u001b[?25l  Downloading https://files.pythonhosted.org/packages/5c/2f/12747be360d6dea432e7b5dfae3419132cb008535cfe614af73b9ce2643b/coloredlogs-14.0-py2.py3-none-any.whl (43kB)\n",
            "\u001b[K     |████████████████████████████████| 51kB 7.4MB/s \n",
            "\u001b[?25hRequirement already satisfied: psutil in /usr/local/lib/python3.6/dist-packages (from onnxruntime-tools==1.4.2) (5.4.8)\n",
            "Collecting py3nvml\n",
            "\u001b[?25l  Downloading https://files.pythonhosted.org/packages/53/b3/cb30dd8cc1198ae3fdb5a320ca7986d7ca76e23d16415067eafebff8685f/py3nvml-0.2.6-py3-none-any.whl (55kB)\n",
            "\u001b[K     |████████████████████████████████| 61kB 9.2MB/s \n",
            "\u001b[?25hRequirement already satisfied: numpy in /usr/local/lib/python3.6/dist-packages (from onnxruntime-tools==1.4.2) (1.18.5)\n",
            "Requirement already satisfied: pyparsing>=2.0.2 in /usr/local/lib/python3.6/dist-packages (from packaging->onnxruntime-tools==1.4.2) (2.4.7)\n",
            "Requirement already satisfied: six in /usr/local/lib/python3.6/dist-packages (from packaging->onnxruntime-tools==1.4.2) (1.15.0)\n",
            "Requirement already satisfied: protobuf in /usr/local/lib/python3.6/dist-packages (from onnx->onnxruntime-tools==1.4.2) (3.12.4)\n",
            "Requirement already satisfied: typing-extensions>=3.6.2.1 in /usr/local/lib/python3.6/dist-packages (from onnx->onnxruntime-tools==1.4.2) (3.7.4.3)\n",
            "Collecting humanfriendly>=7.1\n",
            "\u001b[?25l  Downloading https://files.pythonhosted.org/packages/8e/2d/2f1b0a780b8c948c06c74c8c80e68ac354da52397ba432a1c5ac1923c3af/humanfriendly-8.2-py2.py3-none-any.whl (86kB)\n",
            "\u001b[K     |████████████████████████████████| 92kB 12.5MB/s \n",
            "\u001b[?25hCollecting xmltodict\n",
            "  Downloading https://files.pythonhosted.org/packages/28/fd/30d5c1d3ac29ce229f6bdc40bbc20b28f716e8b363140c26eff19122d8a5/xmltodict-0.12.0-py2.py3-none-any.whl\n",
            "Requirement already satisfied: setuptools in /usr/local/lib/python3.6/dist-packages (from protobuf->onnx->onnxruntime-tools==1.4.2) (50.3.2)\n",
            "Building wheels for collected packages: py-cpuinfo\n",
            "  Building wheel for py-cpuinfo (setup.py) ... \u001b[?25l\u001b[?25hdone\n",
            "  Created wheel for py-cpuinfo: filename=py_cpuinfo-7.0.0-cp36-none-any.whl size=20071 sha256=7abab0f8ff8098a4b378fc611c783f3e8589a1916cf3f81ea929d10d0fd48461\n",
            "  Stored in directory: /root/.cache/pip/wheels/f1/93/7b/127daf0c3a5a49feb2fecd468d508067c733fba5192f726ad1\n",
            "Successfully built py-cpuinfo\n",
            "Installing collected packages: py-cpuinfo, onnx, humanfriendly, coloredlogs, xmltodict, py3nvml, onnxruntime-tools\n",
            "Successfully installed coloredlogs-14.0 humanfriendly-8.2 onnx-1.8.0 onnxruntime-tools-1.4.2 py-cpuinfo-7.0.0 py3nvml-0.2.6 xmltodict-0.12.0\n"
          ],
          "name": "stdout"
        }
      ]
    },
    {
      "cell_type": "markdown",
      "metadata": {
        "id": "gChn9igf7gS4"
      },
      "source": [
        "**Import libraries**"
      ]
    },
    {
      "cell_type": "code",
      "metadata": {
        "id": "iQHK1bQb6e1c"
      },
      "source": [
        "import torch\n",
        "from transformers import BertModel, BertTokenizer, pipeline\n",
        "from pathlib import Path\n",
        "from transformers.convert_graph_to_onnx import convert\n",
        "\n",
        "import numpy as np\n",
        "import os\n",
        "from tqdm.auto import tqdm\n",
        "import math\n",
        "import matplotlib\n",
        "import matplotlib.pyplot as plt\n",
        "import numpy as np\n",
        "import re\n",
        "\n",
        "from contextlib import contextmanager\n",
        "from dataclasses import dataclass\n",
        "from time import time\n",
        "from tqdm import trange\n",
        "\n",
        "from os import environ\n",
        "from psutil import cpu_count\n",
        "\n",
        "# optimize transformer-based models with onnxruntime-tools\n",
        "from onnxruntime_tools import optimizer\n",
        "# This is optional if you need more optimization for bert based models\n",
        "from onnxruntime_tools.transformers.onnx_model_bert import BertOptimizationOptions\n",
        "from onnxruntime import GraphOptimizationLevel, InferenceSession, SessionOptions, get_all_providers"
      ],
      "execution_count": 3,
      "outputs": []
    },
    {
      "cell_type": "code",
      "metadata": {
        "id": "nMJA0BvZd1RP"
      },
      "source": [
        "%matplotlib inline"
      ],
      "execution_count": 4,
      "outputs": []
    },
    {
      "cell_type": "markdown",
      "metadata": {
        "id": "4YobGkV0l6LK"
      },
      "source": [
        "**Create Some Data**"
      ]
    },
    {
      "cell_type": "code",
      "metadata": {
        "id": "3ajyc9G9K20x"
      },
      "source": [
        "proteins = [\"VKAPHEHEHEDNPSVSRVFNRLSQARQNARSIIWGGDGELLTGLIRMVLQVTSPDDKKLSQRDEDGPRLNNCIFTIGFLVPYISEKLKALVTLEVGKPAWTAGDRRKVMGHCADEQIRLILTCAFVGYHTAYKEKFTSEAGSELMGLAFDKYDESYTVEMKKITPFGSSRLVIVLLQFNMQADNAPANAPLAVQSIYGIT\",\n",
        "                 \"TYGASGLERPGYIIDSAQLSLRYGADADRAARFPNISAMRVGTLCTLGSLPKQTTNPINFQKIVDSGAPKDDGDGWERKWLTGCIANPYTILGTPTSGEGKDQRPQDGSRVNISEHLQTV PAAVQSQGESWEVGEEMKLKRESIIRVQPELTLSILGDKQARTLPAHSMKKSLEPAARVIMNLLPRRHEKVFCEPTDRRAQELIELAMERNNYDMLELSPHAPDTPRLAVEEAVAAINARLAFVGLGDRGNESGLFYVVDKGDKFDDEYSSYINIVGIQKLWKGSEVLKWVSGVGSMTHNEIRPGTCCNEPQDMFIQELVHLTTLFNGTVRGGVKDFKSLTFSALLEAEAVSAKSIFTRLRLHMKIYLYNISHDHFSADVLDQYKLGFAAEYKHRAALPENKKLTLDLYSAFFSTEPQSIGANIVMEASKGQVPITTMLIINKRISVLGAALALQVELKNFYNNRLRVFDQGEYPCAKLKVLWFTMEHHGCDIFVKVFVTAPDVQDEVAIVS\",\n",
        "                 \"PSKSLKCTGGNAFALRFIRQDDAEVAPLGVSEIWLNDIGMKHELYQTVRT\",\n",
        "                 \"IKNEIVHTVFSTLQPRDHLNGLRLQIEEATCDALRVPLGAGGLVAEEVSKKRPALYDANYFEDVLKTAGIFSPRVSGRADMEKQGFNPKMTSLQSYWSII\"]"
      ],
      "execution_count": 5,
      "outputs": []
    },
    {
      "cell_type": "code",
      "metadata": {
        "id": "6gjzYgQYf5Fi"
      },
      "source": [
        "proteins = [\" \".join(list(item)) for item in proteins]"
      ],
      "execution_count": 6,
      "outputs": []
    },
    {
      "cell_type": "code",
      "metadata": {
        "id": "bpFpdM3Af_aN"
      },
      "source": [
        "proteins = [re.sub(r\"[UZOB]\", \"X\", sequence) for sequence in proteins]"
      ],
      "execution_count": 7,
      "outputs": []
    },
    {
      "cell_type": "markdown",
      "metadata": {
        "id": "WtCkXVMSmPf4"
      },
      "source": [
        "**Import Tokenizer**"
      ]
    },
    {
      "cell_type": "code",
      "metadata": {
        "id": "3LsHfgaOmNGF",
        "colab": {
          "base_uri": "https://localhost:8080/",
          "height": 164,
          "referenced_widgets": [
            "a76e635a3b0041ca8a183705b7e30905",
            "c797edd1845247e6a67e850150dac22e",
            "d7958341c7b64c73b153729451595623",
            "ba170c48aa8147b3a2f94acf5d48bee2",
            "4315d50bda1549418de10f1ea82f7228",
            "5e498a1a7b4d481aad0115b0dfe80b24",
            "efeb8e37a9294dcfb9c58e63a8141ae7",
            "93d2c77c93014c5eb02bdf946be586bf",
            "981bf7d6599a47d99b9b9e2e77bf265a",
            "c655bfab924a4dc08516cdf036d303f0",
            "57d7a9a8e94046709ba6dacd4401c6fc",
            "0741a1dbcb9644bca56bc51fd2c4be0a",
            "2bf4e056cc404549ad89d5248ec598aa",
            "cac85d511a884bb59ff245ef06dd529b",
            "0ccbc69421824986a50751a2d45e8056",
            "89855c033b9d4781b83fa8c9979a5631",
            "bb8e95d52192438fafbc3dc0dd1d876e",
            "c09d4f3fa3f04ca1b85e172f5ca548b7",
            "f7dbfb5258a24fb4bf943451e4a7579e",
            "cd57c88e10964a829b605dbf1e17c57c",
            "f22e50a0e8e54deca5a40011802e6601",
            "8a519c65758a45d296527e535fa4aee1",
            "92552b6be63f419b87fc09586916b359",
            "b71ea87f03c0465e9ecfd82b6a3130bf"
          ]
        },
        "outputId": "bb1a4aab-1f77-41ab-f3c1-deaf16596dfe"
      },
      "source": [
        "tokenizer = BertTokenizer.from_pretrained(\"Rostlab/prot_bert_bfd\", do_lower_case=False)"
      ],
      "execution_count": 9,
      "outputs": [
        {
          "output_type": "display_data",
          "data": {
            "application/vnd.jupyter.widget-view+json": {
              "model_id": "a76e635a3b0041ca8a183705b7e30905",
              "version_minor": 0,
              "version_major": 2
            },
            "text/plain": [
              "HBox(children=(FloatProgress(value=0.0, description='Downloading', max=81.0, style=ProgressStyle(description_w…"
            ]
          },
          "metadata": {
            "tags": []
          }
        },
        {
          "output_type": "stream",
          "text": [
            "\n"
          ],
          "name": "stdout"
        },
        {
          "output_type": "display_data",
          "data": {
            "application/vnd.jupyter.widget-view+json": {
              "model_id": "981bf7d6599a47d99b9b9e2e77bf265a",
              "version_minor": 0,
              "version_major": 2
            },
            "text/plain": [
              "HBox(children=(FloatProgress(value=0.0, description='Downloading', max=112.0, style=ProgressStyle(description_…"
            ]
          },
          "metadata": {
            "tags": []
          }
        },
        {
          "output_type": "stream",
          "text": [
            "\n"
          ],
          "name": "stdout"
        },
        {
          "output_type": "display_data",
          "data": {
            "application/vnd.jupyter.widget-view+json": {
              "model_id": "bb8e95d52192438fafbc3dc0dd1d876e",
              "version_minor": 0,
              "version_major": 2
            },
            "text/plain": [
              "HBox(children=(FloatProgress(value=0.0, description='Downloading', max=86.0, style=ProgressStyle(description_w…"
            ]
          },
          "metadata": {
            "tags": []
          }
        },
        {
          "output_type": "stream",
          "text": [
            "\n"
          ],
          "name": "stdout"
        }
      ]
    },
    {
      "cell_type": "markdown",
      "metadata": {
        "id": "LjT2fDAH7jFD"
      },
      "source": [
        "**Convert pytorch to onnx**"
      ]
    },
    {
      "cell_type": "code",
      "metadata": {
        "id": "CQf6BBWn6eu9",
        "colab": {
          "base_uri": "https://localhost:8080/",
          "height": 407,
          "referenced_widgets": [
            "f7202449706e4b54a910b80d6b9ef452",
            "64cc661ef6ab423e9e1c8f4203f38495",
            "25292309e9fc491a8589d3ddf992cee8",
            "a71aa3316a7a4227a4a77691762d71b1",
            "63c47a5bef23432b8020b9ac37d496d6",
            "00f6b0baec924d0088a0d8bd2f16d346",
            "dc3d3416d1bb4679a05b542ad1743955",
            "a5b1dcce01a64ab0bd79ca4d439a47fb",
            "da469591010c44dab4f1e4b0d97857cb",
            "487e312f9a7c4091a601386b619dd507",
            "efe8e75bec854b108cb368ba9d928d27",
            "a27b329dc8d3429995be00cfe11faabf",
            "0422643a77744889a424aa4aa118bc52",
            "375ecc5d66ea478ba75129234efb233d",
            "617195279d404a11a024d33529875cbc",
            "aa584c3c63c74c12b9bf7cc56dd538e4"
          ]
        },
        "outputId": "75437b93-e1ab-4816-899b-87e84f62c0fb"
      },
      "source": [
        "!rm -rf onnx/\n",
        "# Handles all the above steps for you\n",
        "convert(framework=\"pt\",\n",
        "        model=\"Rostlab/prot_bert_bfd\",\n",
        "        output=Path(\"onnx/prot_bert_bfd.onnx\"),\n",
        "        opset=12,\n",
        "        tokenizer=\"Rostlab/prot_bert_bfd\")"
      ],
      "execution_count": 10,
      "outputs": [
        {
          "output_type": "stream",
          "text": [
            "ONNX opset version set to: 12\n",
            "Loading pipeline (model: Rostlab/prot_bert_bfd, tokenizer: Rostlab/prot_bert_bfd)\n"
          ],
          "name": "stdout"
        },
        {
          "output_type": "display_data",
          "data": {
            "application/vnd.jupyter.widget-view+json": {
              "model_id": "f7202449706e4b54a910b80d6b9ef452",
              "version_minor": 0,
              "version_major": 2
            },
            "text/plain": [
              "HBox(children=(FloatProgress(value=0.0, description='Downloading', max=361.0, style=ProgressStyle(description_…"
            ]
          },
          "metadata": {
            "tags": []
          }
        },
        {
          "output_type": "stream",
          "text": [
            "\n"
          ],
          "name": "stdout"
        },
        {
          "output_type": "display_data",
          "data": {
            "application/vnd.jupyter.widget-view+json": {
              "model_id": "da469591010c44dab4f1e4b0d97857cb",
              "version_minor": 0,
              "version_major": 2
            },
            "text/plain": [
              "HBox(children=(FloatProgress(value=0.0, description='Downloading', max=1684058277.0, style=ProgressStyle(descr…"
            ]
          },
          "metadata": {
            "tags": []
          }
        },
        {
          "output_type": "stream",
          "text": [
            "\n",
            "Creating folder onnx\n",
            "Using framework PyTorch: 1.7.0+cu101\n",
            "Found input input_ids with shape: {0: 'batch', 1: 'sequence'}\n",
            "Found input token_type_ids with shape: {0: 'batch', 1: 'sequence'}\n",
            "Found input attention_mask with shape: {0: 'batch', 1: 'sequence'}\n",
            "Found output output_0 with shape: {0: 'batch', 1: 'sequence'}\n",
            "Found output output_1 with shape: {0: 'batch'}\n",
            "Ensuring inputs are in correct order\n",
            "position_ids is not present in the generated input list.\n",
            "Generated inputs order: ['input_ids', 'attention_mask', 'token_type_ids']\n"
          ],
          "name": "stdout"
        },
        {
          "output_type": "stream",
          "text": [
            "/usr/local/lib/python3.6/dist-packages/transformers/modeling_bert.py:191: TracerWarning: Converting a tensor to a Python index might cause the trace to be incorrect. We can't record the data flow of Python values, so this value will be treated as a constant in the future. This means that the trace might not generalize to other inputs!\n",
            "  position_ids = self.position_ids[:, :seq_length]\n",
            "/usr/local/lib/python3.6/dist-packages/transformers/modeling_utils.py:1673: TracerWarning: Converting a tensor to a Python boolean might cause the trace to be incorrect. We can't record the data flow of Python values, so this value will be treated as a constant in the future. This means that the trace might not generalize to other inputs!\n",
            "  input_tensor.shape == tensor_shape for input_tensor in input_tensors\n"
          ],
          "name": "stderr"
        }
      ]
    },
    {
      "cell_type": "markdown",
      "metadata": {
        "id": "K089DVtOMoug"
      },
      "source": [
        "**Optimize onnx model**"
      ]
    },
    {
      "cell_type": "code",
      "metadata": {
        "id": "OdAaAhZoDJ6Y"
      },
      "source": [
        "# disable embedding layer norm optimization for better model size reduction\n",
        "opt_options = BertOptimizationOptions('bert')\n",
        "opt_options.enable_embed_layer_norm = False\n",
        "\n",
        "opt_model = optimizer.optimize_model(\n",
        "    'onnx/prot_bert_bfd.onnx',\n",
        "    'bert', \n",
        "    num_heads=16,\n",
        "    hidden_size=1024,\n",
        "    optimization_options=opt_options)\n",
        "# This is optional if you need to run the model using mixed precisionn\n",
        "opt_model.convert_model_float32_to_float16()\n",
        "\n",
        "opt_model.save_model_to_file('onnx/prot_bert_bfd.opt.onnx')"
      ],
      "execution_count": 11,
      "outputs": []
    },
    {
      "cell_type": "markdown",
      "metadata": {
        "id": "KBYYKuBs7rk5"
      },
      "source": [
        "**Embed with onnx**"
      ]
    },
    {
      "cell_type": "code",
      "metadata": {
        "id": "xbf-9xAvcmmq"
      },
      "source": [
        "inference_time = {\"Pytorch FP32\":0,\"Pytorch FP16\":0, \"Onnx FP16\":0}"
      ],
      "execution_count": 67,
      "outputs": []
    },
    {
      "cell_type": "code",
      "metadata": {
        "id": "2dWnJOjO6l9V"
      },
      "source": [
        "# Constants from the performance optimization available in onnxruntime\n",
        "# It needs to be done before importing onnxruntime\n",
        "environ[\"OMP_NUM_THREADS\"] = str(cpu_count(logical=True))\n",
        "environ[\"OMP_WAIT_POLICY\"] = 'ACTIVE'"
      ],
      "execution_count": 68,
      "outputs": []
    },
    {
      "cell_type": "code",
      "metadata": {
        "id": "Jn5_vunt7vfG"
      },
      "source": [
        "def create_model_for_provider(model_path: str, provider: str) -> InferenceSession: \n",
        "  \n",
        "  assert provider in get_all_providers(), f\"provider {provider} not found, {get_all_providers()}\"\n",
        "\n",
        "  # Few properties that might have an impact on performances (provided by MS)\n",
        "  options = SessionOptions()\n",
        "  options.intra_op_num_threads = 1\n",
        "  options.graph_optimization_level = GraphOptimizationLevel.ORT_ENABLE_ALL\n",
        "\n",
        "  # Load the model as a graph and prepare the CPU backend \n",
        "  session = InferenceSession(model_path, options, providers=[provider])\n",
        "  session.disable_fallback()\n",
        "    \n",
        "  return session\n",
        "\n",
        "\n",
        "@contextmanager\n",
        "def track_infer_time(buffer: [int]):\n",
        "    start = time()\n",
        "    yield\n",
        "    end = time()\n",
        "\n",
        "    buffer.append(end - start)\n",
        "\n",
        "\n",
        "@dataclass\n",
        "class OnnxInferenceResult:\n",
        "  model_inference_time: [int]  \n",
        "  optimized_model_path: str"
      ],
      "execution_count": 69,
      "outputs": []
    },
    {
      "cell_type": "code",
      "metadata": {
        "id": "2ndmmlVw7ysv"
      },
      "source": [
        "gpu_model = create_model_for_provider('/content/onnx/prot_bert_bfd.opt.onnx', \"CUDAExecutionProvider\")"
      ],
      "execution_count": 70,
      "outputs": []
    },
    {
      "cell_type": "code",
      "metadata": {
        "id": "3oIvSz-g9KUK",
        "colab": {
          "base_uri": "https://localhost:8080/"
        },
        "outputId": "0d199377-e7ac-455c-cd24-dc23355c8a2b"
      },
      "source": [
        "totalDuration = 0\n",
        "\n",
        "for itr in range(50):\n",
        "  for batch in proteins:\n",
        "    maxLen = len(max(batch, key=len))/2\n",
        "    minLen = len(min(batch, key=len))/2\n",
        "    batch_size = len(batch)\n",
        "\n",
        "    time1 = time()\n",
        "\n",
        "    # Inputs are provided through numpy array\n",
        "    model_inputs = tokenizer(batch, return_tensors=\"pt\", padding=True, add_special_tokens=True)\n",
        "    inputs_onnx = {k: v.cpu().detach().numpy() for k, v in model_inputs.items()}\n",
        "\n",
        "    # Run the model (None = get all the outputs)\n",
        "    onnx_embedding, onnx_pooled = gpu_model.run(None, inputs_onnx)\n",
        "\n",
        "    #embedding = model(batch)\n",
        "    time2 = time()\n",
        "\n",
        "    duration = time2-time1\n",
        "    totalDuration += duration\n",
        "    print('{:s} model took {:.3f} ms for sequence length between {:.3f} and {:3f} of total sequences {:d}'.format('ProtBert-BFD', duration*1000.0,minLen,maxLen,batch_size))\n",
        "\n",
        "inference_time[\"Onnx FP16\"] = totalDuration*1000.0\n",
        "print('Total duration is {:.3f}'.format(totalDuration*1000.0))"
      ],
      "execution_count": 71,
      "outputs": [
        {
          "output_type": "stream",
          "text": [
            "ProtBert-BFD model took 13.136 ms for sequence length between 0.500 and 0.500000 of total sequences 399\n",
            "ProtBert-BFD model took 25.217 ms for sequence length between 0.500 and 0.500000 of total sequences 1025\n",
            "ProtBert-BFD model took 6.183 ms for sequence length between 0.500 and 0.500000 of total sequences 99\n",
            "ProtBert-BFD model took 7.200 ms for sequence length between 0.500 and 0.500000 of total sequences 199\n",
            "ProtBert-BFD model took 9.950 ms for sequence length between 0.500 and 0.500000 of total sequences 399\n",
            "ProtBert-BFD model took 22.419 ms for sequence length between 0.500 and 0.500000 of total sequences 1025\n",
            "ProtBert-BFD model took 5.861 ms for sequence length between 0.500 and 0.500000 of total sequences 99\n",
            "ProtBert-BFD model took 6.861 ms for sequence length between 0.500 and 0.500000 of total sequences 199\n",
            "ProtBert-BFD model took 10.051 ms for sequence length between 0.500 and 0.500000 of total sequences 399\n",
            "ProtBert-BFD model took 22.913 ms for sequence length between 0.500 and 0.500000 of total sequences 1025\n",
            "ProtBert-BFD model took 5.715 ms for sequence length between 0.500 and 0.500000 of total sequences 99\n",
            "ProtBert-BFD model took 6.793 ms for sequence length between 0.500 and 0.500000 of total sequences 199\n",
            "ProtBert-BFD model took 10.017 ms for sequence length between 0.500 and 0.500000 of total sequences 399\n",
            "ProtBert-BFD model took 22.711 ms for sequence length between 0.500 and 0.500000 of total sequences 1025\n",
            "ProtBert-BFD model took 5.833 ms for sequence length between 0.500 and 0.500000 of total sequences 99\n",
            "ProtBert-BFD model took 7.113 ms for sequence length between 0.500 and 0.500000 of total sequences 199\n",
            "ProtBert-BFD model took 10.039 ms for sequence length between 0.500 and 0.500000 of total sequences 399\n",
            "ProtBert-BFD model took 22.182 ms for sequence length between 0.500 and 0.500000 of total sequences 1025\n",
            "ProtBert-BFD model took 5.637 ms for sequence length between 0.500 and 0.500000 of total sequences 99\n",
            "ProtBert-BFD model took 6.737 ms for sequence length between 0.500 and 0.500000 of total sequences 199\n",
            "ProtBert-BFD model took 9.511 ms for sequence length between 0.500 and 0.500000 of total sequences 399\n",
            "ProtBert-BFD model took 21.313 ms for sequence length between 0.500 and 0.500000 of total sequences 1025\n",
            "ProtBert-BFD model took 5.588 ms for sequence length between 0.500 and 0.500000 of total sequences 99\n",
            "ProtBert-BFD model took 6.813 ms for sequence length between 0.500 and 0.500000 of total sequences 199\n",
            "ProtBert-BFD model took 9.628 ms for sequence length between 0.500 and 0.500000 of total sequences 399\n",
            "ProtBert-BFD model took 21.595 ms for sequence length between 0.500 and 0.500000 of total sequences 1025\n",
            "ProtBert-BFD model took 5.395 ms for sequence length between 0.500 and 0.500000 of total sequences 99\n",
            "ProtBert-BFD model took 6.649 ms for sequence length between 0.500 and 0.500000 of total sequences 199\n",
            "ProtBert-BFD model took 9.443 ms for sequence length between 0.500 and 0.500000 of total sequences 399\n",
            "ProtBert-BFD model took 21.182 ms for sequence length between 0.500 and 0.500000 of total sequences 1025\n",
            "ProtBert-BFD model took 5.544 ms for sequence length between 0.500 and 0.500000 of total sequences 99\n",
            "ProtBert-BFD model took 6.656 ms for sequence length between 0.500 and 0.500000 of total sequences 199\n",
            "ProtBert-BFD model took 9.417 ms for sequence length between 0.500 and 0.500000 of total sequences 399\n",
            "ProtBert-BFD model took 21.235 ms for sequence length between 0.500 and 0.500000 of total sequences 1025\n",
            "ProtBert-BFD model took 5.493 ms for sequence length between 0.500 and 0.500000 of total sequences 99\n",
            "ProtBert-BFD model took 6.469 ms for sequence length between 0.500 and 0.500000 of total sequences 199\n",
            "ProtBert-BFD model took 9.598 ms for sequence length between 0.500 and 0.500000 of total sequences 399\n",
            "ProtBert-BFD model took 21.683 ms for sequence length between 0.500 and 0.500000 of total sequences 1025\n",
            "ProtBert-BFD model took 5.805 ms for sequence length between 0.500 and 0.500000 of total sequences 99\n",
            "ProtBert-BFD model took 6.751 ms for sequence length between 0.500 and 0.500000 of total sequences 199\n",
            "ProtBert-BFD model took 9.487 ms for sequence length between 0.500 and 0.500000 of total sequences 399\n",
            "ProtBert-BFD model took 21.969 ms for sequence length between 0.500 and 0.500000 of total sequences 1025\n",
            "ProtBert-BFD model took 5.369 ms for sequence length between 0.500 and 0.500000 of total sequences 99\n",
            "ProtBert-BFD model took 6.715 ms for sequence length between 0.500 and 0.500000 of total sequences 199\n",
            "ProtBert-BFD model took 9.501 ms for sequence length between 0.500 and 0.500000 of total sequences 399\n",
            "ProtBert-BFD model took 21.855 ms for sequence length between 0.500 and 0.500000 of total sequences 1025\n",
            "ProtBert-BFD model took 5.544 ms for sequence length between 0.500 and 0.500000 of total sequences 99\n",
            "ProtBert-BFD model took 6.699 ms for sequence length between 0.500 and 0.500000 of total sequences 199\n",
            "ProtBert-BFD model took 9.399 ms for sequence length between 0.500 and 0.500000 of total sequences 399\n",
            "ProtBert-BFD model took 21.520 ms for sequence length between 0.500 and 0.500000 of total sequences 1025\n",
            "ProtBert-BFD model took 5.749 ms for sequence length between 0.500 and 0.500000 of total sequences 99\n",
            "ProtBert-BFD model took 6.814 ms for sequence length between 0.500 and 0.500000 of total sequences 199\n",
            "ProtBert-BFD model took 9.554 ms for sequence length between 0.500 and 0.500000 of total sequences 399\n",
            "ProtBert-BFD model took 21.513 ms for sequence length between 0.500 and 0.500000 of total sequences 1025\n",
            "ProtBert-BFD model took 5.655 ms for sequence length between 0.500 and 0.500000 of total sequences 99\n",
            "ProtBert-BFD model took 6.648 ms for sequence length between 0.500 and 0.500000 of total sequences 199\n",
            "ProtBert-BFD model took 9.515 ms for sequence length between 0.500 and 0.500000 of total sequences 399\n",
            "ProtBert-BFD model took 21.929 ms for sequence length between 0.500 and 0.500000 of total sequences 1025\n",
            "ProtBert-BFD model took 5.702 ms for sequence length between 0.500 and 0.500000 of total sequences 99\n",
            "ProtBert-BFD model took 6.619 ms for sequence length between 0.500 and 0.500000 of total sequences 199\n",
            "ProtBert-BFD model took 9.557 ms for sequence length between 0.500 and 0.500000 of total sequences 399\n",
            "ProtBert-BFD model took 21.555 ms for sequence length between 0.500 and 0.500000 of total sequences 1025\n",
            "ProtBert-BFD model took 5.354 ms for sequence length between 0.500 and 0.500000 of total sequences 99\n",
            "ProtBert-BFD model took 6.706 ms for sequence length between 0.500 and 0.500000 of total sequences 199\n",
            "ProtBert-BFD model took 9.514 ms for sequence length between 0.500 and 0.500000 of total sequences 399\n",
            "ProtBert-BFD model took 21.775 ms for sequence length between 0.500 and 0.500000 of total sequences 1025\n",
            "ProtBert-BFD model took 5.613 ms for sequence length between 0.500 and 0.500000 of total sequences 99\n",
            "ProtBert-BFD model took 6.704 ms for sequence length between 0.500 and 0.500000 of total sequences 199\n",
            "ProtBert-BFD model took 9.563 ms for sequence length between 0.500 and 0.500000 of total sequences 399\n",
            "ProtBert-BFD model took 21.884 ms for sequence length between 0.500 and 0.500000 of total sequences 1025\n",
            "ProtBert-BFD model took 5.577 ms for sequence length between 0.500 and 0.500000 of total sequences 99\n",
            "ProtBert-BFD model took 6.842 ms for sequence length between 0.500 and 0.500000 of total sequences 199\n",
            "ProtBert-BFD model took 9.484 ms for sequence length between 0.500 and 0.500000 of total sequences 399\n",
            "ProtBert-BFD model took 21.718 ms for sequence length between 0.500 and 0.500000 of total sequences 1025\n",
            "ProtBert-BFD model took 5.602 ms for sequence length between 0.500 and 0.500000 of total sequences 99\n",
            "ProtBert-BFD model took 6.611 ms for sequence length between 0.500 and 0.500000 of total sequences 199\n",
            "ProtBert-BFD model took 9.551 ms for sequence length between 0.500 and 0.500000 of total sequences 399\n",
            "ProtBert-BFD model took 21.981 ms for sequence length between 0.500 and 0.500000 of total sequences 1025\n",
            "ProtBert-BFD model took 5.757 ms for sequence length between 0.500 and 0.500000 of total sequences 99\n",
            "ProtBert-BFD model took 6.769 ms for sequence length between 0.500 and 0.500000 of total sequences 199\n",
            "ProtBert-BFD model took 9.754 ms for sequence length between 0.500 and 0.500000 of total sequences 399\n",
            "ProtBert-BFD model took 21.454 ms for sequence length between 0.500 and 0.500000 of total sequences 1025\n",
            "ProtBert-BFD model took 5.633 ms for sequence length between 0.500 and 0.500000 of total sequences 99\n",
            "ProtBert-BFD model took 6.717 ms for sequence length between 0.500 and 0.500000 of total sequences 199\n",
            "ProtBert-BFD model took 9.591 ms for sequence length between 0.500 and 0.500000 of total sequences 399\n",
            "ProtBert-BFD model took 21.501 ms for sequence length between 0.500 and 0.500000 of total sequences 1025\n",
            "ProtBert-BFD model took 5.636 ms for sequence length between 0.500 and 0.500000 of total sequences 99\n",
            "ProtBert-BFD model took 6.796 ms for sequence length between 0.500 and 0.500000 of total sequences 199\n",
            "ProtBert-BFD model took 9.148 ms for sequence length between 0.500 and 0.500000 of total sequences 399\n",
            "ProtBert-BFD model took 21.086 ms for sequence length between 0.500 and 0.500000 of total sequences 1025\n",
            "ProtBert-BFD model took 5.519 ms for sequence length between 0.500 and 0.500000 of total sequences 99\n",
            "ProtBert-BFD model took 6.669 ms for sequence length between 0.500 and 0.500000 of total sequences 199\n",
            "ProtBert-BFD model took 9.422 ms for sequence length between 0.500 and 0.500000 of total sequences 399\n",
            "ProtBert-BFD model took 22.726 ms for sequence length between 0.500 and 0.500000 of total sequences 1025\n",
            "ProtBert-BFD model took 5.709 ms for sequence length between 0.500 and 0.500000 of total sequences 99\n",
            "ProtBert-BFD model took 6.562 ms for sequence length between 0.500 and 0.500000 of total sequences 199\n",
            "ProtBert-BFD model took 9.630 ms for sequence length between 0.500 and 0.500000 of total sequences 399\n",
            "ProtBert-BFD model took 21.638 ms for sequence length between 0.500 and 0.500000 of total sequences 1025\n",
            "ProtBert-BFD model took 5.629 ms for sequence length between 0.500 and 0.500000 of total sequences 99\n",
            "ProtBert-BFD model took 6.665 ms for sequence length between 0.500 and 0.500000 of total sequences 199\n",
            "ProtBert-BFD model took 9.286 ms for sequence length between 0.500 and 0.500000 of total sequences 399\n",
            "ProtBert-BFD model took 21.055 ms for sequence length between 0.500 and 0.500000 of total sequences 1025\n",
            "ProtBert-BFD model took 5.484 ms for sequence length between 0.500 and 0.500000 of total sequences 99\n",
            "ProtBert-BFD model took 6.581 ms for sequence length between 0.500 and 0.500000 of total sequences 199\n",
            "ProtBert-BFD model took 9.399 ms for sequence length between 0.500 and 0.500000 of total sequences 399\n",
            "ProtBert-BFD model took 21.834 ms for sequence length between 0.500 and 0.500000 of total sequences 1025\n",
            "ProtBert-BFD model took 5.653 ms for sequence length between 0.500 and 0.500000 of total sequences 99\n",
            "ProtBert-BFD model took 6.785 ms for sequence length between 0.500 and 0.500000 of total sequences 199\n",
            "ProtBert-BFD model took 9.213 ms for sequence length between 0.500 and 0.500000 of total sequences 399\n",
            "ProtBert-BFD model took 21.182 ms for sequence length between 0.500 and 0.500000 of total sequences 1025\n",
            "ProtBert-BFD model took 5.313 ms for sequence length between 0.500 and 0.500000 of total sequences 99\n",
            "ProtBert-BFD model took 6.423 ms for sequence length between 0.500 and 0.500000 of total sequences 199\n",
            "ProtBert-BFD model took 9.461 ms for sequence length between 0.500 and 0.500000 of total sequences 399\n",
            "ProtBert-BFD model took 21.513 ms for sequence length between 0.500 and 0.500000 of total sequences 1025\n",
            "ProtBert-BFD model took 5.559 ms for sequence length between 0.500 and 0.500000 of total sequences 99\n",
            "ProtBert-BFD model took 6.813 ms for sequence length between 0.500 and 0.500000 of total sequences 199\n",
            "ProtBert-BFD model took 9.487 ms for sequence length between 0.500 and 0.500000 of total sequences 399\n",
            "ProtBert-BFD model took 21.418 ms for sequence length between 0.500 and 0.500000 of total sequences 1025\n",
            "ProtBert-BFD model took 5.657 ms for sequence length between 0.500 and 0.500000 of total sequences 99\n",
            "ProtBert-BFD model took 6.739 ms for sequence length between 0.500 and 0.500000 of total sequences 199\n",
            "ProtBert-BFD model took 9.477 ms for sequence length between 0.500 and 0.500000 of total sequences 399\n",
            "ProtBert-BFD model took 21.966 ms for sequence length between 0.500 and 0.500000 of total sequences 1025\n",
            "ProtBert-BFD model took 5.489 ms for sequence length between 0.500 and 0.500000 of total sequences 99\n",
            "ProtBert-BFD model took 6.606 ms for sequence length between 0.500 and 0.500000 of total sequences 199\n",
            "ProtBert-BFD model took 9.527 ms for sequence length between 0.500 and 0.500000 of total sequences 399\n",
            "ProtBert-BFD model took 21.364 ms for sequence length between 0.500 and 0.500000 of total sequences 1025\n",
            "ProtBert-BFD model took 5.540 ms for sequence length between 0.500 and 0.500000 of total sequences 99\n",
            "ProtBert-BFD model took 6.713 ms for sequence length between 0.500 and 0.500000 of total sequences 199\n",
            "ProtBert-BFD model took 9.207 ms for sequence length between 0.500 and 0.500000 of total sequences 399\n",
            "ProtBert-BFD model took 21.362 ms for sequence length between 0.500 and 0.500000 of total sequences 1025\n",
            "ProtBert-BFD model took 5.417 ms for sequence length between 0.500 and 0.500000 of total sequences 99\n",
            "ProtBert-BFD model took 6.447 ms for sequence length between 0.500 and 0.500000 of total sequences 199\n",
            "ProtBert-BFD model took 9.240 ms for sequence length between 0.500 and 0.500000 of total sequences 399\n",
            "ProtBert-BFD model took 22.312 ms for sequence length between 0.500 and 0.500000 of total sequences 1025\n",
            "ProtBert-BFD model took 5.610 ms for sequence length between 0.500 and 0.500000 of total sequences 99\n",
            "ProtBert-BFD model took 6.774 ms for sequence length between 0.500 and 0.500000 of total sequences 199\n",
            "ProtBert-BFD model took 9.322 ms for sequence length between 0.500 and 0.500000 of total sequences 399\n",
            "ProtBert-BFD model took 21.981 ms for sequence length between 0.500 and 0.500000 of total sequences 1025\n",
            "ProtBert-BFD model took 5.669 ms for sequence length between 0.500 and 0.500000 of total sequences 99\n",
            "ProtBert-BFD model took 6.648 ms for sequence length between 0.500 and 0.500000 of total sequences 199\n",
            "ProtBert-BFD model took 9.510 ms for sequence length between 0.500 and 0.500000 of total sequences 399\n",
            "ProtBert-BFD model took 21.569 ms for sequence length between 0.500 and 0.500000 of total sequences 1025\n",
            "ProtBert-BFD model took 5.600 ms for sequence length between 0.500 and 0.500000 of total sequences 99\n",
            "ProtBert-BFD model took 6.757 ms for sequence length between 0.500 and 0.500000 of total sequences 199\n",
            "ProtBert-BFD model took 9.274 ms for sequence length between 0.500 and 0.500000 of total sequences 399\n",
            "ProtBert-BFD model took 21.572 ms for sequence length between 0.500 and 0.500000 of total sequences 1025\n",
            "ProtBert-BFD model took 5.621 ms for sequence length between 0.500 and 0.500000 of total sequences 99\n",
            "ProtBert-BFD model took 6.770 ms for sequence length between 0.500 and 0.500000 of total sequences 199\n",
            "ProtBert-BFD model took 9.578 ms for sequence length between 0.500 and 0.500000 of total sequences 399\n",
            "ProtBert-BFD model took 21.694 ms for sequence length between 0.500 and 0.500000 of total sequences 1025\n",
            "ProtBert-BFD model took 5.604 ms for sequence length between 0.500 and 0.500000 of total sequences 99\n",
            "ProtBert-BFD model took 6.667 ms for sequence length between 0.500 and 0.500000 of total sequences 199\n",
            "ProtBert-BFD model took 9.468 ms for sequence length between 0.500 and 0.500000 of total sequences 399\n",
            "ProtBert-BFD model took 21.439 ms for sequence length between 0.500 and 0.500000 of total sequences 1025\n",
            "ProtBert-BFD model took 5.594 ms for sequence length between 0.500 and 0.500000 of total sequences 99\n",
            "ProtBert-BFD model took 6.725 ms for sequence length between 0.500 and 0.500000 of total sequences 199\n",
            "ProtBert-BFD model took 9.321 ms for sequence length between 0.500 and 0.500000 of total sequences 399\n",
            "ProtBert-BFD model took 21.832 ms for sequence length between 0.500 and 0.500000 of total sequences 1025\n",
            "ProtBert-BFD model took 5.735 ms for sequence length between 0.500 and 0.500000 of total sequences 99\n",
            "ProtBert-BFD model took 6.724 ms for sequence length between 0.500 and 0.500000 of total sequences 199\n",
            "ProtBert-BFD model took 9.409 ms for sequence length between 0.500 and 0.500000 of total sequences 399\n",
            "ProtBert-BFD model took 21.482 ms for sequence length between 0.500 and 0.500000 of total sequences 1025\n",
            "ProtBert-BFD model took 5.384 ms for sequence length between 0.500 and 0.500000 of total sequences 99\n",
            "ProtBert-BFD model took 6.829 ms for sequence length between 0.500 and 0.500000 of total sequences 199\n",
            "ProtBert-BFD model took 9.429 ms for sequence length between 0.500 and 0.500000 of total sequences 399\n",
            "ProtBert-BFD model took 21.533 ms for sequence length between 0.500 and 0.500000 of total sequences 1025\n",
            "ProtBert-BFD model took 5.515 ms for sequence length between 0.500 and 0.500000 of total sequences 99\n",
            "ProtBert-BFD model took 6.780 ms for sequence length between 0.500 and 0.500000 of total sequences 199\n",
            "ProtBert-BFD model took 9.514 ms for sequence length between 0.500 and 0.500000 of total sequences 399\n",
            "ProtBert-BFD model took 21.719 ms for sequence length between 0.500 and 0.500000 of total sequences 1025\n",
            "ProtBert-BFD model took 5.690 ms for sequence length between 0.500 and 0.500000 of total sequences 99\n",
            "ProtBert-BFD model took 6.785 ms for sequence length between 0.500 and 0.500000 of total sequences 199\n",
            "ProtBert-BFD model took 9.562 ms for sequence length between 0.500 and 0.500000 of total sequences 399\n",
            "ProtBert-BFD model took 21.741 ms for sequence length between 0.500 and 0.500000 of total sequences 1025\n",
            "ProtBert-BFD model took 5.696 ms for sequence length between 0.500 and 0.500000 of total sequences 99\n",
            "ProtBert-BFD model took 6.791 ms for sequence length between 0.500 and 0.500000 of total sequences 199\n",
            "ProtBert-BFD model took 9.596 ms for sequence length between 0.500 and 0.500000 of total sequences 399\n",
            "ProtBert-BFD model took 21.854 ms for sequence length between 0.500 and 0.500000 of total sequences 1025\n",
            "ProtBert-BFD model took 5.606 ms for sequence length between 0.500 and 0.500000 of total sequences 99\n",
            "ProtBert-BFD model took 6.628 ms for sequence length between 0.500 and 0.500000 of total sequences 199\n",
            "ProtBert-BFD model took 9.251 ms for sequence length between 0.500 and 0.500000 of total sequences 399\n",
            "ProtBert-BFD model took 21.286 ms for sequence length between 0.500 and 0.500000 of total sequences 1025\n",
            "ProtBert-BFD model took 5.305 ms for sequence length between 0.500 and 0.500000 of total sequences 99\n",
            "ProtBert-BFD model took 6.765 ms for sequence length between 0.500 and 0.500000 of total sequences 199\n",
            "ProtBert-BFD model took 9.104 ms for sequence length between 0.500 and 0.500000 of total sequences 399\n",
            "ProtBert-BFD model took 21.352 ms for sequence length between 0.500 and 0.500000 of total sequences 1025\n",
            "ProtBert-BFD model took 5.550 ms for sequence length between 0.500 and 0.500000 of total sequences 99\n",
            "ProtBert-BFD model took 6.527 ms for sequence length between 0.500 and 0.500000 of total sequences 199\n",
            "ProtBert-BFD model took 9.380 ms for sequence length between 0.500 and 0.500000 of total sequences 399\n",
            "ProtBert-BFD model took 21.528 ms for sequence length between 0.500 and 0.500000 of total sequences 1025\n",
            "ProtBert-BFD model took 5.532 ms for sequence length between 0.500 and 0.500000 of total sequences 99\n",
            "ProtBert-BFD model took 6.674 ms for sequence length between 0.500 and 0.500000 of total sequences 199\n",
            "ProtBert-BFD model took 9.409 ms for sequence length between 0.500 and 0.500000 of total sequences 399\n",
            "ProtBert-BFD model took 21.523 ms for sequence length between 0.500 and 0.500000 of total sequences 1025\n",
            "ProtBert-BFD model took 5.574 ms for sequence length between 0.500 and 0.500000 of total sequences 99\n",
            "ProtBert-BFD model took 6.618 ms for sequence length between 0.500 and 0.500000 of total sequences 199\n",
            "ProtBert-BFD model took 9.328 ms for sequence length between 0.500 and 0.500000 of total sequences 399\n",
            "ProtBert-BFD model took 21.488 ms for sequence length between 0.500 and 0.500000 of total sequences 1025\n",
            "ProtBert-BFD model took 5.599 ms for sequence length between 0.500 and 0.500000 of total sequences 99\n",
            "ProtBert-BFD model took 6.625 ms for sequence length between 0.500 and 0.500000 of total sequences 199\n",
            "Total duration is 2182.240\n"
          ],
          "name": "stdout"
        }
      ]
    },
    {
      "cell_type": "markdown",
      "metadata": {
        "id": "c2tLZNiw9lbJ"
      },
      "source": [
        "**Embed with pytorch**"
      ]
    },
    {
      "cell_type": "code",
      "metadata": {
        "id": "0gXDHwew9Z4G"
      },
      "source": [
        "model = BertModel.from_pretrained(\"Rostlab/prot_bert_bfd\")"
      ],
      "execution_count": 72,
      "outputs": []
    },
    {
      "cell_type": "code",
      "metadata": {
        "id": "TFIVBbYk904w"
      },
      "source": [
        "device = torch.device('cuda:0' if torch.cuda.is_available() else 'cpu')"
      ],
      "execution_count": 73,
      "outputs": []
    },
    {
      "cell_type": "code",
      "metadata": {
        "id": "EeShhlYU936k"
      },
      "source": [
        "model = model.to(device)\n",
        "model = model.eval()"
      ],
      "execution_count": 74,
      "outputs": []
    },
    {
      "cell_type": "code",
      "metadata": {
        "id": "EG1A5ivC-NHG",
        "colab": {
          "base_uri": "https://localhost:8080/"
        },
        "outputId": "cb407193-9901-4564-a113-266fb323ccd8"
      },
      "source": [
        "totalDuration = 0\n",
        "\n",
        "for itr in range(50):\n",
        "  for batch in proteins:\n",
        "    #batch = list_part[0]\n",
        "    maxLen = len(max(batch, key=len))/2\n",
        "    minLen = len(min(batch, key=len))/2\n",
        "    batch_size = len(batch)\n",
        "\n",
        "    time1 = time()\n",
        "\n",
        "    #ids = tokenizer.encode_plus(batch, return_tensors=\"pt\", add_special_tokens=False, pad_to_max_length=True)\n",
        "    ids = tokenizer(batch, return_tensors=\"pt\", padding=True, add_special_tokens=True)\n",
        "    input_ids = torch.tensor(ids['input_ids']).to(device)\n",
        "    with torch.no_grad():\n",
        "      pytorch_embedding, pytorch_pool = model(input_ids=input_ids)\n",
        "\n",
        "    #embedding = model(batch)\n",
        "    time2 = time()\n",
        "\n",
        "    duration = time2-time1\n",
        "    totalDuration += duration\n",
        "    print('{:s} model took {:.3f} ms for sequence length between {:.3f} and {:3f} of total sequences {:d}'.format('ProtBert-BFD', duration*1000.0,minLen,maxLen,batch_size))\n",
        "\n",
        "inference_time[\"Pytorch FP32\"] = totalDuration*1000.0\n",
        "print('Total duration is {:.3f}'.format(totalDuration*1000.0))"
      ],
      "execution_count": 75,
      "outputs": [
        {
          "output_type": "stream",
          "text": [
            "/usr/local/lib/python3.6/dist-packages/ipykernel_launcher.py:14: UserWarning: To copy construct from a tensor, it is recommended to use sourceTensor.clone().detach() or sourceTensor.clone().detach().requires_grad_(True), rather than torch.tensor(sourceTensor).\n",
            "  \n"
          ],
          "name": "stderr"
        },
        {
          "output_type": "stream",
          "text": [
            "ProtBert-BFD model took 35.942 ms for sequence length between 0.500 and 0.500000 of total sequences 399\n",
            "ProtBert-BFD model took 39.580 ms for sequence length between 0.500 and 0.500000 of total sequences 1025\n",
            "ProtBert-BFD model took 50.407 ms for sequence length between 0.500 and 0.500000 of total sequences 99\n",
            "ProtBert-BFD model took 35.005 ms for sequence length between 0.500 and 0.500000 of total sequences 199\n",
            "ProtBert-BFD model took 36.307 ms for sequence length between 0.500 and 0.500000 of total sequences 399\n",
            "ProtBert-BFD model took 36.634 ms for sequence length between 0.500 and 0.500000 of total sequences 1025\n",
            "ProtBert-BFD model took 47.833 ms for sequence length between 0.500 and 0.500000 of total sequences 99\n",
            "ProtBert-BFD model took 29.729 ms for sequence length between 0.500 and 0.500000 of total sequences 199\n",
            "ProtBert-BFD model took 31.626 ms for sequence length between 0.500 and 0.500000 of total sequences 399\n",
            "ProtBert-BFD model took 33.522 ms for sequence length between 0.500 and 0.500000 of total sequences 1025\n",
            "ProtBert-BFD model took 48.473 ms for sequence length between 0.500 and 0.500000 of total sequences 99\n",
            "ProtBert-BFD model took 30.457 ms for sequence length between 0.500 and 0.500000 of total sequences 199\n",
            "ProtBert-BFD model took 33.494 ms for sequence length between 0.500 and 0.500000 of total sequences 399\n",
            "ProtBert-BFD model took 33.049 ms for sequence length between 0.500 and 0.500000 of total sequences 1025\n",
            "ProtBert-BFD model took 48.234 ms for sequence length between 0.500 and 0.500000 of total sequences 99\n",
            "ProtBert-BFD model took 30.168 ms for sequence length between 0.500 and 0.500000 of total sequences 199\n",
            "ProtBert-BFD model took 31.055 ms for sequence length between 0.500 and 0.500000 of total sequences 399\n",
            "ProtBert-BFD model took 35.576 ms for sequence length between 0.500 and 0.500000 of total sequences 1025\n",
            "ProtBert-BFD model took 48.720 ms for sequence length between 0.500 and 0.500000 of total sequences 99\n",
            "ProtBert-BFD model took 30.244 ms for sequence length between 0.500 and 0.500000 of total sequences 199\n",
            "ProtBert-BFD model took 31.461 ms for sequence length between 0.500 and 0.500000 of total sequences 399\n",
            "ProtBert-BFD model took 34.996 ms for sequence length between 0.500 and 0.500000 of total sequences 1025\n",
            "ProtBert-BFD model took 48.993 ms for sequence length between 0.500 and 0.500000 of total sequences 99\n",
            "ProtBert-BFD model took 29.359 ms for sequence length between 0.500 and 0.500000 of total sequences 199\n",
            "ProtBert-BFD model took 33.225 ms for sequence length between 0.500 and 0.500000 of total sequences 399\n",
            "ProtBert-BFD model took 35.627 ms for sequence length between 0.500 and 0.500000 of total sequences 1025\n",
            "ProtBert-BFD model took 46.981 ms for sequence length between 0.500 and 0.500000 of total sequences 99\n",
            "ProtBert-BFD model took 31.201 ms for sequence length between 0.500 and 0.500000 of total sequences 199\n",
            "ProtBert-BFD model took 31.853 ms for sequence length between 0.500 and 0.500000 of total sequences 399\n",
            "ProtBert-BFD model took 33.910 ms for sequence length between 0.500 and 0.500000 of total sequences 1025\n",
            "ProtBert-BFD model took 48.795 ms for sequence length between 0.500 and 0.500000 of total sequences 99\n",
            "ProtBert-BFD model took 29.341 ms for sequence length between 0.500 and 0.500000 of total sequences 199\n",
            "ProtBert-BFD model took 32.560 ms for sequence length between 0.500 and 0.500000 of total sequences 399\n",
            "ProtBert-BFD model took 33.320 ms for sequence length between 0.500 and 0.500000 of total sequences 1025\n",
            "ProtBert-BFD model took 48.465 ms for sequence length between 0.500 and 0.500000 of total sequences 99\n",
            "ProtBert-BFD model took 35.237 ms for sequence length between 0.500 and 0.500000 of total sequences 199\n",
            "ProtBert-BFD model took 37.552 ms for sequence length between 0.500 and 0.500000 of total sequences 399\n",
            "ProtBert-BFD model took 33.963 ms for sequence length between 0.500 and 0.500000 of total sequences 1025\n",
            "ProtBert-BFD model took 48.039 ms for sequence length between 0.500 and 0.500000 of total sequences 99\n",
            "ProtBert-BFD model took 29.394 ms for sequence length between 0.500 and 0.500000 of total sequences 199\n",
            "ProtBert-BFD model took 31.086 ms for sequence length between 0.500 and 0.500000 of total sequences 399\n",
            "ProtBert-BFD model took 32.926 ms for sequence length between 0.500 and 0.500000 of total sequences 1025\n",
            "ProtBert-BFD model took 50.653 ms for sequence length between 0.500 and 0.500000 of total sequences 99\n",
            "ProtBert-BFD model took 30.667 ms for sequence length between 0.500 and 0.500000 of total sequences 199\n",
            "ProtBert-BFD model took 31.587 ms for sequence length between 0.500 and 0.500000 of total sequences 399\n",
            "ProtBert-BFD model took 37.762 ms for sequence length between 0.500 and 0.500000 of total sequences 1025\n",
            "ProtBert-BFD model took 43.607 ms for sequence length between 0.500 and 0.500000 of total sequences 99\n",
            "ProtBert-BFD model took 29.792 ms for sequence length between 0.500 and 0.500000 of total sequences 199\n",
            "ProtBert-BFD model took 34.463 ms for sequence length between 0.500 and 0.500000 of total sequences 399\n",
            "ProtBert-BFD model took 33.667 ms for sequence length between 0.500 and 0.500000 of total sequences 1025\n",
            "ProtBert-BFD model took 48.203 ms for sequence length between 0.500 and 0.500000 of total sequences 99\n",
            "ProtBert-BFD model took 30.049 ms for sequence length between 0.500 and 0.500000 of total sequences 199\n",
            "ProtBert-BFD model took 32.138 ms for sequence length between 0.500 and 0.500000 of total sequences 399\n",
            "ProtBert-BFD model took 33.726 ms for sequence length between 0.500 and 0.500000 of total sequences 1025\n",
            "ProtBert-BFD model took 52.834 ms for sequence length between 0.500 and 0.500000 of total sequences 99\n",
            "ProtBert-BFD model took 30.268 ms for sequence length between 0.500 and 0.500000 of total sequences 199\n",
            "ProtBert-BFD model took 33.738 ms for sequence length between 0.500 and 0.500000 of total sequences 399\n",
            "ProtBert-BFD model took 33.874 ms for sequence length between 0.500 and 0.500000 of total sequences 1025\n",
            "ProtBert-BFD model took 47.735 ms for sequence length between 0.500 and 0.500000 of total sequences 99\n",
            "ProtBert-BFD model took 31.077 ms for sequence length between 0.500 and 0.500000 of total sequences 199\n",
            "ProtBert-BFD model took 34.381 ms for sequence length between 0.500 and 0.500000 of total sequences 399\n",
            "ProtBert-BFD model took 33.683 ms for sequence length between 0.500 and 0.500000 of total sequences 1025\n",
            "ProtBert-BFD model took 48.035 ms for sequence length between 0.500 and 0.500000 of total sequences 99\n",
            "ProtBert-BFD model took 29.890 ms for sequence length between 0.500 and 0.500000 of total sequences 199\n",
            "ProtBert-BFD model took 31.436 ms for sequence length between 0.500 and 0.500000 of total sequences 399\n",
            "ProtBert-BFD model took 33.684 ms for sequence length between 0.500 and 0.500000 of total sequences 1025\n",
            "ProtBert-BFD model took 55.855 ms for sequence length between 0.500 and 0.500000 of total sequences 99\n",
            "ProtBert-BFD model took 32.347 ms for sequence length between 0.500 and 0.500000 of total sequences 199\n",
            "ProtBert-BFD model took 31.914 ms for sequence length between 0.500 and 0.500000 of total sequences 399\n",
            "ProtBert-BFD model took 33.564 ms for sequence length between 0.500 and 0.500000 of total sequences 1025\n",
            "ProtBert-BFD model took 48.008 ms for sequence length between 0.500 and 0.500000 of total sequences 99\n",
            "ProtBert-BFD model took 31.481 ms for sequence length between 0.500 and 0.500000 of total sequences 199\n",
            "ProtBert-BFD model took 35.641 ms for sequence length between 0.500 and 0.500000 of total sequences 399\n",
            "ProtBert-BFD model took 34.151 ms for sequence length between 0.500 and 0.500000 of total sequences 1025\n",
            "ProtBert-BFD model took 48.709 ms for sequence length between 0.500 and 0.500000 of total sequences 99\n",
            "ProtBert-BFD model took 31.444 ms for sequence length between 0.500 and 0.500000 of total sequences 199\n",
            "ProtBert-BFD model took 31.901 ms for sequence length between 0.500 and 0.500000 of total sequences 399\n",
            "ProtBert-BFD model took 33.054 ms for sequence length between 0.500 and 0.500000 of total sequences 1025\n",
            "ProtBert-BFD model took 50.744 ms for sequence length between 0.500 and 0.500000 of total sequences 99\n",
            "ProtBert-BFD model took 31.373 ms for sequence length between 0.500 and 0.500000 of total sequences 199\n",
            "ProtBert-BFD model took 31.449 ms for sequence length between 0.500 and 0.500000 of total sequences 399\n",
            "ProtBert-BFD model took 34.685 ms for sequence length between 0.500 and 0.500000 of total sequences 1025\n",
            "ProtBert-BFD model took 46.843 ms for sequence length between 0.500 and 0.500000 of total sequences 99\n",
            "ProtBert-BFD model took 29.303 ms for sequence length between 0.500 and 0.500000 of total sequences 199\n",
            "ProtBert-BFD model took 33.531 ms for sequence length between 0.500 and 0.500000 of total sequences 399\n",
            "ProtBert-BFD model took 34.090 ms for sequence length between 0.500 and 0.500000 of total sequences 1025\n",
            "ProtBert-BFD model took 47.968 ms for sequence length between 0.500 and 0.500000 of total sequences 99\n",
            "ProtBert-BFD model took 31.561 ms for sequence length between 0.500 and 0.500000 of total sequences 199\n",
            "ProtBert-BFD model took 31.736 ms for sequence length between 0.500 and 0.500000 of total sequences 399\n",
            "ProtBert-BFD model took 33.002 ms for sequence length between 0.500 and 0.500000 of total sequences 1025\n",
            "ProtBert-BFD model took 50.269 ms for sequence length between 0.500 and 0.500000 of total sequences 99\n",
            "ProtBert-BFD model took 29.790 ms for sequence length between 0.500 and 0.500000 of total sequences 199\n",
            "ProtBert-BFD model took 32.250 ms for sequence length between 0.500 and 0.500000 of total sequences 399\n",
            "ProtBert-BFD model took 36.341 ms for sequence length between 0.500 and 0.500000 of total sequences 1025\n",
            "ProtBert-BFD model took 46.078 ms for sequence length between 0.500 and 0.500000 of total sequences 99\n",
            "ProtBert-BFD model took 30.517 ms for sequence length between 0.500 and 0.500000 of total sequences 199\n",
            "ProtBert-BFD model took 32.660 ms for sequence length between 0.500 and 0.500000 of total sequences 399\n",
            "ProtBert-BFD model took 33.716 ms for sequence length between 0.500 and 0.500000 of total sequences 1025\n",
            "ProtBert-BFD model took 48.140 ms for sequence length between 0.500 and 0.500000 of total sequences 99\n",
            "ProtBert-BFD model took 32.187 ms for sequence length between 0.500 and 0.500000 of total sequences 199\n",
            "ProtBert-BFD model took 32.389 ms for sequence length between 0.500 and 0.500000 of total sequences 399\n",
            "ProtBert-BFD model took 36.763 ms for sequence length between 0.500 and 0.500000 of total sequences 1025\n",
            "ProtBert-BFD model took 50.606 ms for sequence length between 0.500 and 0.500000 of total sequences 99\n",
            "ProtBert-BFD model took 30.259 ms for sequence length between 0.500 and 0.500000 of total sequences 199\n",
            "ProtBert-BFD model took 31.222 ms for sequence length between 0.500 and 0.500000 of total sequences 399\n",
            "ProtBert-BFD model took 33.643 ms for sequence length between 0.500 and 0.500000 of total sequences 1025\n",
            "ProtBert-BFD model took 49.334 ms for sequence length between 0.500 and 0.500000 of total sequences 99\n",
            "ProtBert-BFD model took 30.490 ms for sequence length between 0.500 and 0.500000 of total sequences 199\n",
            "ProtBert-BFD model took 33.912 ms for sequence length between 0.500 and 0.500000 of total sequences 399\n",
            "ProtBert-BFD model took 36.224 ms for sequence length between 0.500 and 0.500000 of total sequences 1025\n",
            "ProtBert-BFD model took 46.360 ms for sequence length between 0.500 and 0.500000 of total sequences 99\n",
            "ProtBert-BFD model took 29.868 ms for sequence length between 0.500 and 0.500000 of total sequences 199\n",
            "ProtBert-BFD model took 31.091 ms for sequence length between 0.500 and 0.500000 of total sequences 399\n",
            "ProtBert-BFD model took 33.786 ms for sequence length between 0.500 and 0.500000 of total sequences 1025\n",
            "ProtBert-BFD model took 51.809 ms for sequence length between 0.500 and 0.500000 of total sequences 99\n",
            "ProtBert-BFD model took 30.451 ms for sequence length between 0.500 and 0.500000 of total sequences 199\n",
            "ProtBert-BFD model took 31.357 ms for sequence length between 0.500 and 0.500000 of total sequences 399\n",
            "ProtBert-BFD model took 33.512 ms for sequence length between 0.500 and 0.500000 of total sequences 1025\n",
            "ProtBert-BFD model took 47.993 ms for sequence length between 0.500 and 0.500000 of total sequences 99\n",
            "ProtBert-BFD model took 29.561 ms for sequence length between 0.500 and 0.500000 of total sequences 199\n",
            "ProtBert-BFD model took 33.182 ms for sequence length between 0.500 and 0.500000 of total sequences 399\n",
            "ProtBert-BFD model took 34.550 ms for sequence length between 0.500 and 0.500000 of total sequences 1025\n",
            "ProtBert-BFD model took 48.551 ms for sequence length between 0.500 and 0.500000 of total sequences 99\n",
            "ProtBert-BFD model took 30.401 ms for sequence length between 0.500 and 0.500000 of total sequences 199\n",
            "ProtBert-BFD model took 36.287 ms for sequence length between 0.500 and 0.500000 of total sequences 399\n",
            "ProtBert-BFD model took 35.350 ms for sequence length between 0.500 and 0.500000 of total sequences 1025\n",
            "ProtBert-BFD model took 50.995 ms for sequence length between 0.500 and 0.500000 of total sequences 99\n",
            "ProtBert-BFD model took 34.366 ms for sequence length between 0.500 and 0.500000 of total sequences 199\n",
            "ProtBert-BFD model took 37.846 ms for sequence length between 0.500 and 0.500000 of total sequences 399\n",
            "ProtBert-BFD model took 35.423 ms for sequence length between 0.500 and 0.500000 of total sequences 1025\n",
            "ProtBert-BFD model took 47.916 ms for sequence length between 0.500 and 0.500000 of total sequences 99\n",
            "ProtBert-BFD model took 30.825 ms for sequence length between 0.500 and 0.500000 of total sequences 199\n",
            "ProtBert-BFD model took 33.327 ms for sequence length between 0.500 and 0.500000 of total sequences 399\n",
            "ProtBert-BFD model took 34.767 ms for sequence length between 0.500 and 0.500000 of total sequences 1025\n",
            "ProtBert-BFD model took 47.549 ms for sequence length between 0.500 and 0.500000 of total sequences 99\n",
            "ProtBert-BFD model took 32.085 ms for sequence length between 0.500 and 0.500000 of total sequences 199\n",
            "ProtBert-BFD model took 33.597 ms for sequence length between 0.500 and 0.500000 of total sequences 399\n",
            "ProtBert-BFD model took 33.964 ms for sequence length between 0.500 and 0.500000 of total sequences 1025\n",
            "ProtBert-BFD model took 49.800 ms for sequence length between 0.500 and 0.500000 of total sequences 99\n",
            "ProtBert-BFD model took 29.766 ms for sequence length between 0.500 and 0.500000 of total sequences 199\n",
            "ProtBert-BFD model took 30.647 ms for sequence length between 0.500 and 0.500000 of total sequences 399\n",
            "ProtBert-BFD model took 34.075 ms for sequence length between 0.500 and 0.500000 of total sequences 1025\n",
            "ProtBert-BFD model took 47.917 ms for sequence length between 0.500 and 0.500000 of total sequences 99\n",
            "ProtBert-BFD model took 29.750 ms for sequence length between 0.500 and 0.500000 of total sequences 199\n",
            "ProtBert-BFD model took 31.669 ms for sequence length between 0.500 and 0.500000 of total sequences 399\n",
            "ProtBert-BFD model took 33.827 ms for sequence length between 0.500 and 0.500000 of total sequences 1025\n",
            "ProtBert-BFD model took 51.304 ms for sequence length between 0.500 and 0.500000 of total sequences 99\n",
            "ProtBert-BFD model took 31.444 ms for sequence length between 0.500 and 0.500000 of total sequences 199\n",
            "ProtBert-BFD model took 32.216 ms for sequence length between 0.500 and 0.500000 of total sequences 399\n",
            "ProtBert-BFD model took 36.139 ms for sequence length between 0.500 and 0.500000 of total sequences 1025\n",
            "ProtBert-BFD model took 48.250 ms for sequence length between 0.500 and 0.500000 of total sequences 99\n",
            "ProtBert-BFD model took 30.862 ms for sequence length between 0.500 and 0.500000 of total sequences 199\n",
            "ProtBert-BFD model took 33.102 ms for sequence length between 0.500 and 0.500000 of total sequences 399\n",
            "ProtBert-BFD model took 36.110 ms for sequence length between 0.500 and 0.500000 of total sequences 1025\n",
            "ProtBert-BFD model took 52.060 ms for sequence length between 0.500 and 0.500000 of total sequences 99\n",
            "ProtBert-BFD model took 31.538 ms for sequence length between 0.500 and 0.500000 of total sequences 199\n",
            "ProtBert-BFD model took 40.014 ms for sequence length between 0.500 and 0.500000 of total sequences 399\n",
            "ProtBert-BFD model took 40.806 ms for sequence length between 0.500 and 0.500000 of total sequences 1025\n",
            "ProtBert-BFD model took 42.159 ms for sequence length between 0.500 and 0.500000 of total sequences 99\n",
            "ProtBert-BFD model took 34.527 ms for sequence length between 0.500 and 0.500000 of total sequences 199\n",
            "ProtBert-BFD model took 36.335 ms for sequence length between 0.500 and 0.500000 of total sequences 399\n",
            "ProtBert-BFD model took 36.470 ms for sequence length between 0.500 and 0.500000 of total sequences 1025\n",
            "ProtBert-BFD model took 47.101 ms for sequence length between 0.500 and 0.500000 of total sequences 99\n",
            "ProtBert-BFD model took 30.237 ms for sequence length between 0.500 and 0.500000 of total sequences 199\n",
            "ProtBert-BFD model took 31.737 ms for sequence length between 0.500 and 0.500000 of total sequences 399\n",
            "ProtBert-BFD model took 33.134 ms for sequence length between 0.500 and 0.500000 of total sequences 1025\n",
            "ProtBert-BFD model took 50.230 ms for sequence length between 0.500 and 0.500000 of total sequences 99\n",
            "ProtBert-BFD model took 30.730 ms for sequence length between 0.500 and 0.500000 of total sequences 199\n",
            "ProtBert-BFD model took 34.933 ms for sequence length between 0.500 and 0.500000 of total sequences 399\n",
            "ProtBert-BFD model took 32.945 ms for sequence length between 0.500 and 0.500000 of total sequences 1025\n",
            "ProtBert-BFD model took 50.659 ms for sequence length between 0.500 and 0.500000 of total sequences 99\n",
            "ProtBert-BFD model took 32.781 ms for sequence length between 0.500 and 0.500000 of total sequences 199\n",
            "ProtBert-BFD model took 33.168 ms for sequence length between 0.500 and 0.500000 of total sequences 399\n",
            "ProtBert-BFD model took 33.233 ms for sequence length between 0.500 and 0.500000 of total sequences 1025\n",
            "ProtBert-BFD model took 51.054 ms for sequence length between 0.500 and 0.500000 of total sequences 99\n",
            "ProtBert-BFD model took 31.895 ms for sequence length between 0.500 and 0.500000 of total sequences 199\n",
            "ProtBert-BFD model took 32.211 ms for sequence length between 0.500 and 0.500000 of total sequences 399\n",
            "ProtBert-BFD model took 33.146 ms for sequence length between 0.500 and 0.500000 of total sequences 1025\n",
            "ProtBert-BFD model took 51.286 ms for sequence length between 0.500 and 0.500000 of total sequences 99\n",
            "ProtBert-BFD model took 30.867 ms for sequence length between 0.500 and 0.500000 of total sequences 199\n",
            "ProtBert-BFD model took 33.356 ms for sequence length between 0.500 and 0.500000 of total sequences 399\n",
            "ProtBert-BFD model took 36.250 ms for sequence length between 0.500 and 0.500000 of total sequences 1025\n",
            "ProtBert-BFD model took 46.429 ms for sequence length between 0.500 and 0.500000 of total sequences 99\n",
            "ProtBert-BFD model took 31.478 ms for sequence length between 0.500 and 0.500000 of total sequences 199\n",
            "ProtBert-BFD model took 32.341 ms for sequence length between 0.500 and 0.500000 of total sequences 399\n",
            "ProtBert-BFD model took 34.490 ms for sequence length between 0.500 and 0.500000 of total sequences 1025\n",
            "ProtBert-BFD model took 49.356 ms for sequence length between 0.500 and 0.500000 of total sequences 99\n",
            "ProtBert-BFD model took 31.863 ms for sequence length between 0.500 and 0.500000 of total sequences 199\n",
            "ProtBert-BFD model took 32.687 ms for sequence length between 0.500 and 0.500000 of total sequences 399\n",
            "ProtBert-BFD model took 36.814 ms for sequence length between 0.500 and 0.500000 of total sequences 1025\n",
            "ProtBert-BFD model took 46.618 ms for sequence length between 0.500 and 0.500000 of total sequences 99\n",
            "ProtBert-BFD model took 32.501 ms for sequence length between 0.500 and 0.500000 of total sequences 199\n",
            "ProtBert-BFD model took 35.631 ms for sequence length between 0.500 and 0.500000 of total sequences 399\n",
            "ProtBert-BFD model took 36.314 ms for sequence length between 0.500 and 0.500000 of total sequences 1025\n",
            "ProtBert-BFD model took 48.704 ms for sequence length between 0.500 and 0.500000 of total sequences 99\n",
            "ProtBert-BFD model took 30.335 ms for sequence length between 0.500 and 0.500000 of total sequences 199\n",
            "ProtBert-BFD model took 31.770 ms for sequence length between 0.500 and 0.500000 of total sequences 399\n",
            "ProtBert-BFD model took 40.149 ms for sequence length between 0.500 and 0.500000 of total sequences 1025\n",
            "ProtBert-BFD model took 47.313 ms for sequence length between 0.500 and 0.500000 of total sequences 99\n",
            "ProtBert-BFD model took 29.752 ms for sequence length between 0.500 and 0.500000 of total sequences 199\n",
            "Total duration is 7395.486\n"
          ],
          "name": "stdout"
        }
      ]
    },
    {
      "cell_type": "code",
      "metadata": {
        "id": "f0jhwvpFUp6v"
      },
      "source": [
        "model_half = model.half()"
      ],
      "execution_count": 76,
      "outputs": []
    },
    {
      "cell_type": "code",
      "metadata": {
        "colab": {
          "base_uri": "https://localhost:8080/"
        },
        "id": "tnGFufpyVTVK",
        "outputId": "67101f8e-55ab-448d-eb3b-f90872fa8360"
      },
      "source": [
        "totalDuration = 0\n",
        "\n",
        "for itr in range(50):\n",
        "  for batch in proteins:\n",
        "    #batch = list_part[0]\n",
        "    maxLen = len(max(batch, key=len))/2\n",
        "    minLen = len(min(batch, key=len))/2\n",
        "    batch_size = len(batch)\n",
        "\n",
        "    time1 = time()\n",
        "\n",
        "    #ids = tokenizer.encode_plus(batch, return_tensors=\"pt\", add_special_tokens=False, pad_to_max_length=True)\n",
        "    ids = tokenizer(batch, return_tensors=\"pt\", padding=True, add_special_tokens=True)\n",
        "    input_ids = torch.tensor(ids['input_ids']).to(device)\n",
        "    with torch.no_grad():\n",
        "      pytorch_embedding_half, pytorch_pool_half = model_half(input_ids=input_ids)\n",
        "\n",
        "    #embedding = model(batch)\n",
        "    time2 = time()\n",
        "\n",
        "    duration = time2-time1\n",
        "    totalDuration += duration\n",
        "    print('{:s} model took {:.3f} ms for sequence length between {:.3f} and {:3f} of total sequences {:d}'.format('ProtBert-BFD', duration*1000.0,minLen,maxLen,batch_size))\n",
        "\n",
        "inference_time[\"Pytorch FP16\"] = totalDuration*1000.0\n",
        "print('Total duration is {:.3f}'.format(totalDuration*1000.0))"
      ],
      "execution_count": 77,
      "outputs": [
        {
          "output_type": "stream",
          "text": [
            "ProtBert-BFD model took 36.103 ms for sequence length between 0.500 and 0.500000 of total sequences 399\n",
            "ProtBert-BFD model took 34.940 ms for sequence length between 0.500 and 0.500000 of total sequences 1025\n",
            "ProtBert-BFD model took 31.531 ms for sequence length between 0.500 and 0.500000 of total sequences 99\n"
          ],
          "name": "stdout"
        },
        {
          "output_type": "stream",
          "text": [
            "/usr/local/lib/python3.6/dist-packages/ipykernel_launcher.py:14: UserWarning: To copy construct from a tensor, it is recommended to use sourceTensor.clone().detach() or sourceTensor.clone().detach().requires_grad_(True), rather than torch.tensor(sourceTensor).\n",
            "  \n"
          ],
          "name": "stderr"
        },
        {
          "output_type": "stream",
          "text": [
            "ProtBert-BFD model took 33.623 ms for sequence length between 0.500 and 0.500000 of total sequences 199\n",
            "ProtBert-BFD model took 32.002 ms for sequence length between 0.500 and 0.500000 of total sequences 399\n",
            "ProtBert-BFD model took 35.502 ms for sequence length between 0.500 and 0.500000 of total sequences 1025\n",
            "ProtBert-BFD model took 32.243 ms for sequence length between 0.500 and 0.500000 of total sequences 99\n",
            "ProtBert-BFD model took 35.491 ms for sequence length between 0.500 and 0.500000 of total sequences 199\n",
            "ProtBert-BFD model took 32.760 ms for sequence length between 0.500 and 0.500000 of total sequences 399\n",
            "ProtBert-BFD model took 35.886 ms for sequence length between 0.500 and 0.500000 of total sequences 1025\n",
            "ProtBert-BFD model took 32.575 ms for sequence length between 0.500 and 0.500000 of total sequences 99\n",
            "ProtBert-BFD model took 31.060 ms for sequence length between 0.500 and 0.500000 of total sequences 199\n",
            "ProtBert-BFD model took 31.951 ms for sequence length between 0.500 and 0.500000 of total sequences 399\n",
            "ProtBert-BFD model took 34.726 ms for sequence length between 0.500 and 0.500000 of total sequences 1025\n",
            "ProtBert-BFD model took 35.975 ms for sequence length between 0.500 and 0.500000 of total sequences 99\n",
            "ProtBert-BFD model took 33.471 ms for sequence length between 0.500 and 0.500000 of total sequences 199\n",
            "ProtBert-BFD model took 36.586 ms for sequence length between 0.500 and 0.500000 of total sequences 399\n",
            "ProtBert-BFD model took 35.862 ms for sequence length between 0.500 and 0.500000 of total sequences 1025\n",
            "ProtBert-BFD model took 31.850 ms for sequence length between 0.500 and 0.500000 of total sequences 99\n",
            "ProtBert-BFD model took 32.098 ms for sequence length between 0.500 and 0.500000 of total sequences 199\n",
            "ProtBert-BFD model took 35.177 ms for sequence length between 0.500 and 0.500000 of total sequences 399\n",
            "ProtBert-BFD model took 34.519 ms for sequence length between 0.500 and 0.500000 of total sequences 1025\n",
            "ProtBert-BFD model took 33.119 ms for sequence length between 0.500 and 0.500000 of total sequences 99\n",
            "ProtBert-BFD model took 36.454 ms for sequence length between 0.500 and 0.500000 of total sequences 199\n",
            "ProtBert-BFD model took 32.867 ms for sequence length between 0.500 and 0.500000 of total sequences 399\n",
            "ProtBert-BFD model took 36.516 ms for sequence length between 0.500 and 0.500000 of total sequences 1025\n",
            "ProtBert-BFD model took 36.528 ms for sequence length between 0.500 and 0.500000 of total sequences 99\n",
            "ProtBert-BFD model took 33.507 ms for sequence length between 0.500 and 0.500000 of total sequences 199\n",
            "ProtBert-BFD model took 32.323 ms for sequence length between 0.500 and 0.500000 of total sequences 399\n",
            "ProtBert-BFD model took 36.549 ms for sequence length between 0.500 and 0.500000 of total sequences 1025\n",
            "ProtBert-BFD model took 32.659 ms for sequence length between 0.500 and 0.500000 of total sequences 99\n",
            "ProtBert-BFD model took 33.049 ms for sequence length between 0.500 and 0.500000 of total sequences 199\n",
            "ProtBert-BFD model took 32.324 ms for sequence length between 0.500 and 0.500000 of total sequences 399\n",
            "ProtBert-BFD model took 38.379 ms for sequence length between 0.500 and 0.500000 of total sequences 1025\n",
            "ProtBert-BFD model took 35.182 ms for sequence length between 0.500 and 0.500000 of total sequences 99\n",
            "ProtBert-BFD model took 34.157 ms for sequence length between 0.500 and 0.500000 of total sequences 199\n",
            "ProtBert-BFD model took 32.310 ms for sequence length between 0.500 and 0.500000 of total sequences 399\n",
            "ProtBert-BFD model took 37.001 ms for sequence length between 0.500 and 0.500000 of total sequences 1025\n",
            "ProtBert-BFD model took 31.869 ms for sequence length between 0.500 and 0.500000 of total sequences 99\n",
            "ProtBert-BFD model took 32.424 ms for sequence length between 0.500 and 0.500000 of total sequences 199\n",
            "ProtBert-BFD model took 32.524 ms for sequence length between 0.500 and 0.500000 of total sequences 399\n",
            "ProtBert-BFD model took 35.470 ms for sequence length between 0.500 and 0.500000 of total sequences 1025\n",
            "ProtBert-BFD model took 32.060 ms for sequence length between 0.500 and 0.500000 of total sequences 99\n",
            "ProtBert-BFD model took 32.401 ms for sequence length between 0.500 and 0.500000 of total sequences 199\n",
            "ProtBert-BFD model took 34.453 ms for sequence length between 0.500 and 0.500000 of total sequences 399\n",
            "ProtBert-BFD model took 37.726 ms for sequence length between 0.500 and 0.500000 of total sequences 1025\n",
            "ProtBert-BFD model took 36.006 ms for sequence length between 0.500 and 0.500000 of total sequences 99\n",
            "ProtBert-BFD model took 37.669 ms for sequence length between 0.500 and 0.500000 of total sequences 199\n",
            "ProtBert-BFD model took 32.982 ms for sequence length between 0.500 and 0.500000 of total sequences 399\n",
            "ProtBert-BFD model took 34.182 ms for sequence length between 0.500 and 0.500000 of total sequences 1025\n",
            "ProtBert-BFD model took 30.783 ms for sequence length between 0.500 and 0.500000 of total sequences 99\n",
            "ProtBert-BFD model took 31.913 ms for sequence length between 0.500 and 0.500000 of total sequences 199\n",
            "ProtBert-BFD model took 32.702 ms for sequence length between 0.500 and 0.500000 of total sequences 399\n",
            "ProtBert-BFD model took 33.745 ms for sequence length between 0.500 and 0.500000 of total sequences 1025\n",
            "ProtBert-BFD model took 33.897 ms for sequence length between 0.500 and 0.500000 of total sequences 99\n",
            "ProtBert-BFD model took 32.584 ms for sequence length between 0.500 and 0.500000 of total sequences 199\n",
            "ProtBert-BFD model took 31.517 ms for sequence length between 0.500 and 0.500000 of total sequences 399\n",
            "ProtBert-BFD model took 35.111 ms for sequence length between 0.500 and 0.500000 of total sequences 1025\n",
            "ProtBert-BFD model took 32.327 ms for sequence length between 0.500 and 0.500000 of total sequences 99\n",
            "ProtBert-BFD model took 31.681 ms for sequence length between 0.500 and 0.500000 of total sequences 199\n",
            "ProtBert-BFD model took 33.854 ms for sequence length between 0.500 and 0.500000 of total sequences 399\n",
            "ProtBert-BFD model took 36.059 ms for sequence length between 0.500 and 0.500000 of total sequences 1025\n",
            "ProtBert-BFD model took 32.011 ms for sequence length between 0.500 and 0.500000 of total sequences 99\n",
            "ProtBert-BFD model took 32.046 ms for sequence length between 0.500 and 0.500000 of total sequences 199\n",
            "ProtBert-BFD model took 33.309 ms for sequence length between 0.500 and 0.500000 of total sequences 399\n",
            "ProtBert-BFD model took 38.068 ms for sequence length between 0.500 and 0.500000 of total sequences 1025\n",
            "ProtBert-BFD model took 34.371 ms for sequence length between 0.500 and 0.500000 of total sequences 99\n",
            "ProtBert-BFD model took 33.203 ms for sequence length between 0.500 and 0.500000 of total sequences 199\n",
            "ProtBert-BFD model took 32.984 ms for sequence length between 0.500 and 0.500000 of total sequences 399\n",
            "ProtBert-BFD model took 33.620 ms for sequence length between 0.500 and 0.500000 of total sequences 1025\n",
            "ProtBert-BFD model took 30.543 ms for sequence length between 0.500 and 0.500000 of total sequences 99\n",
            "ProtBert-BFD model took 33.314 ms for sequence length between 0.500 and 0.500000 of total sequences 199\n",
            "ProtBert-BFD model took 35.154 ms for sequence length between 0.500 and 0.500000 of total sequences 399\n",
            "ProtBert-BFD model took 35.671 ms for sequence length between 0.500 and 0.500000 of total sequences 1025\n",
            "ProtBert-BFD model took 33.013 ms for sequence length between 0.500 and 0.500000 of total sequences 99\n",
            "ProtBert-BFD model took 32.218 ms for sequence length between 0.500 and 0.500000 of total sequences 199\n",
            "ProtBert-BFD model took 32.149 ms for sequence length between 0.500 and 0.500000 of total sequences 399\n",
            "ProtBert-BFD model took 36.228 ms for sequence length between 0.500 and 0.500000 of total sequences 1025\n",
            "ProtBert-BFD model took 32.105 ms for sequence length between 0.500 and 0.500000 of total sequences 99\n",
            "ProtBert-BFD model took 34.622 ms for sequence length between 0.500 and 0.500000 of total sequences 199\n",
            "ProtBert-BFD model took 33.227 ms for sequence length between 0.500 and 0.500000 of total sequences 399\n",
            "ProtBert-BFD model took 34.963 ms for sequence length between 0.500 and 0.500000 of total sequences 1025\n",
            "ProtBert-BFD model took 33.291 ms for sequence length between 0.500 and 0.500000 of total sequences 99\n",
            "ProtBert-BFD model took 32.312 ms for sequence length between 0.500 and 0.500000 of total sequences 199\n",
            "ProtBert-BFD model took 32.257 ms for sequence length between 0.500 and 0.500000 of total sequences 399\n",
            "ProtBert-BFD model took 33.114 ms for sequence length between 0.500 and 0.500000 of total sequences 1025\n",
            "ProtBert-BFD model took 35.922 ms for sequence length between 0.500 and 0.500000 of total sequences 99\n",
            "ProtBert-BFD model took 39.515 ms for sequence length between 0.500 and 0.500000 of total sequences 199\n",
            "ProtBert-BFD model took 35.597 ms for sequence length between 0.500 and 0.500000 of total sequences 399\n",
            "ProtBert-BFD model took 34.842 ms for sequence length between 0.500 and 0.500000 of total sequences 1025\n",
            "ProtBert-BFD model took 31.142 ms for sequence length between 0.500 and 0.500000 of total sequences 99\n",
            "ProtBert-BFD model took 31.631 ms for sequence length between 0.500 and 0.500000 of total sequences 199\n",
            "ProtBert-BFD model took 33.374 ms for sequence length between 0.500 and 0.500000 of total sequences 399\n",
            "ProtBert-BFD model took 33.998 ms for sequence length between 0.500 and 0.500000 of total sequences 1025\n",
            "ProtBert-BFD model took 34.755 ms for sequence length between 0.500 and 0.500000 of total sequences 99\n",
            "ProtBert-BFD model took 33.213 ms for sequence length between 0.500 and 0.500000 of total sequences 199\n",
            "ProtBert-BFD model took 39.404 ms for sequence length between 0.500 and 0.500000 of total sequences 399\n",
            "ProtBert-BFD model took 36.310 ms for sequence length between 0.500 and 0.500000 of total sequences 1025\n",
            "ProtBert-BFD model took 33.593 ms for sequence length between 0.500 and 0.500000 of total sequences 99\n",
            "ProtBert-BFD model took 32.430 ms for sequence length between 0.500 and 0.500000 of total sequences 199\n",
            "ProtBert-BFD model took 34.378 ms for sequence length between 0.500 and 0.500000 of total sequences 399\n",
            "ProtBert-BFD model took 35.633 ms for sequence length between 0.500 and 0.500000 of total sequences 1025\n",
            "ProtBert-BFD model took 32.691 ms for sequence length between 0.500 and 0.500000 of total sequences 99\n",
            "ProtBert-BFD model took 32.269 ms for sequence length between 0.500 and 0.500000 of total sequences 199\n",
            "ProtBert-BFD model took 33.829 ms for sequence length between 0.500 and 0.500000 of total sequences 399\n",
            "ProtBert-BFD model took 37.849 ms for sequence length between 0.500 and 0.500000 of total sequences 1025\n",
            "ProtBert-BFD model took 34.629 ms for sequence length between 0.500 and 0.500000 of total sequences 99\n",
            "ProtBert-BFD model took 31.940 ms for sequence length between 0.500 and 0.500000 of total sequences 199\n",
            "ProtBert-BFD model took 32.223 ms for sequence length between 0.500 and 0.500000 of total sequences 399\n",
            "ProtBert-BFD model took 34.350 ms for sequence length between 0.500 and 0.500000 of total sequences 1025\n",
            "ProtBert-BFD model took 31.792 ms for sequence length between 0.500 and 0.500000 of total sequences 99\n",
            "ProtBert-BFD model took 30.807 ms for sequence length between 0.500 and 0.500000 of total sequences 199\n",
            "ProtBert-BFD model took 33.164 ms for sequence length between 0.500 and 0.500000 of total sequences 399\n",
            "ProtBert-BFD model took 37.683 ms for sequence length between 0.500 and 0.500000 of total sequences 1025\n",
            "ProtBert-BFD model took 30.142 ms for sequence length between 0.500 and 0.500000 of total sequences 99\n",
            "ProtBert-BFD model took 30.083 ms for sequence length between 0.500 and 0.500000 of total sequences 199\n",
            "ProtBert-BFD model took 31.478 ms for sequence length between 0.500 and 0.500000 of total sequences 399\n",
            "ProtBert-BFD model took 34.116 ms for sequence length between 0.500 and 0.500000 of total sequences 1025\n",
            "ProtBert-BFD model took 30.546 ms for sequence length between 0.500 and 0.500000 of total sequences 99\n",
            "ProtBert-BFD model took 34.031 ms for sequence length between 0.500 and 0.500000 of total sequences 199\n",
            "ProtBert-BFD model took 33.515 ms for sequence length between 0.500 and 0.500000 of total sequences 399\n",
            "ProtBert-BFD model took 33.013 ms for sequence length between 0.500 and 0.500000 of total sequences 1025\n",
            "ProtBert-BFD model took 30.988 ms for sequence length between 0.500 and 0.500000 of total sequences 99\n",
            "ProtBert-BFD model took 34.502 ms for sequence length between 0.500 and 0.500000 of total sequences 199\n",
            "ProtBert-BFD model took 35.138 ms for sequence length between 0.500 and 0.500000 of total sequences 399\n",
            "ProtBert-BFD model took 34.342 ms for sequence length between 0.500 and 0.500000 of total sequences 1025\n",
            "ProtBert-BFD model took 32.260 ms for sequence length between 0.500 and 0.500000 of total sequences 99\n",
            "ProtBert-BFD model took 33.789 ms for sequence length between 0.500 and 0.500000 of total sequences 199\n",
            "ProtBert-BFD model took 32.103 ms for sequence length between 0.500 and 0.500000 of total sequences 399\n",
            "ProtBert-BFD model took 32.859 ms for sequence length between 0.500 and 0.500000 of total sequences 1025\n",
            "ProtBert-BFD model took 31.458 ms for sequence length between 0.500 and 0.500000 of total sequences 99\n",
            "ProtBert-BFD model took 32.212 ms for sequence length between 0.500 and 0.500000 of total sequences 199\n",
            "ProtBert-BFD model took 35.822 ms for sequence length between 0.500 and 0.500000 of total sequences 399\n",
            "ProtBert-BFD model took 33.823 ms for sequence length between 0.500 and 0.500000 of total sequences 1025\n",
            "ProtBert-BFD model took 32.372 ms for sequence length between 0.500 and 0.500000 of total sequences 99\n",
            "ProtBert-BFD model took 32.506 ms for sequence length between 0.500 and 0.500000 of total sequences 199\n",
            "ProtBert-BFD model took 34.108 ms for sequence length between 0.500 and 0.500000 of total sequences 399\n",
            "ProtBert-BFD model took 35.740 ms for sequence length between 0.500 and 0.500000 of total sequences 1025\n",
            "ProtBert-BFD model took 31.291 ms for sequence length between 0.500 and 0.500000 of total sequences 99\n",
            "ProtBert-BFD model took 32.605 ms for sequence length between 0.500 and 0.500000 of total sequences 199\n",
            "ProtBert-BFD model took 32.987 ms for sequence length between 0.500 and 0.500000 of total sequences 399\n",
            "ProtBert-BFD model took 37.372 ms for sequence length between 0.500 and 0.500000 of total sequences 1025\n",
            "ProtBert-BFD model took 32.355 ms for sequence length between 0.500 and 0.500000 of total sequences 99\n",
            "ProtBert-BFD model took 32.293 ms for sequence length between 0.500 and 0.500000 of total sequences 199\n",
            "ProtBert-BFD model took 33.705 ms for sequence length between 0.500 and 0.500000 of total sequences 399\n",
            "ProtBert-BFD model took 36.303 ms for sequence length between 0.500 and 0.500000 of total sequences 1025\n",
            "ProtBert-BFD model took 33.960 ms for sequence length between 0.500 and 0.500000 of total sequences 99\n",
            "ProtBert-BFD model took 33.481 ms for sequence length between 0.500 and 0.500000 of total sequences 199\n",
            "ProtBert-BFD model took 34.476 ms for sequence length between 0.500 and 0.500000 of total sequences 399\n",
            "ProtBert-BFD model took 35.578 ms for sequence length between 0.500 and 0.500000 of total sequences 1025\n",
            "ProtBert-BFD model took 32.485 ms for sequence length between 0.500 and 0.500000 of total sequences 99\n",
            "ProtBert-BFD model took 33.623 ms for sequence length between 0.500 and 0.500000 of total sequences 199\n",
            "ProtBert-BFD model took 33.355 ms for sequence length between 0.500 and 0.500000 of total sequences 399\n",
            "ProtBert-BFD model took 37.265 ms for sequence length between 0.500 and 0.500000 of total sequences 1025\n",
            "ProtBert-BFD model took 33.106 ms for sequence length between 0.500 and 0.500000 of total sequences 99\n",
            "ProtBert-BFD model took 35.181 ms for sequence length between 0.500 and 0.500000 of total sequences 199\n",
            "ProtBert-BFD model took 37.613 ms for sequence length between 0.500 and 0.500000 of total sequences 399\n",
            "ProtBert-BFD model took 36.763 ms for sequence length between 0.500 and 0.500000 of total sequences 1025\n",
            "ProtBert-BFD model took 32.497 ms for sequence length between 0.500 and 0.500000 of total sequences 99\n",
            "ProtBert-BFD model took 33.633 ms for sequence length between 0.500 and 0.500000 of total sequences 199\n",
            "ProtBert-BFD model took 33.854 ms for sequence length between 0.500 and 0.500000 of total sequences 399\n",
            "ProtBert-BFD model took 36.352 ms for sequence length between 0.500 and 0.500000 of total sequences 1025\n",
            "ProtBert-BFD model took 32.380 ms for sequence length between 0.500 and 0.500000 of total sequences 99\n",
            "ProtBert-BFD model took 33.439 ms for sequence length between 0.500 and 0.500000 of total sequences 199\n",
            "ProtBert-BFD model took 37.305 ms for sequence length between 0.500 and 0.500000 of total sequences 399\n",
            "ProtBert-BFD model took 40.353 ms for sequence length between 0.500 and 0.500000 of total sequences 1025\n",
            "ProtBert-BFD model took 32.064 ms for sequence length between 0.500 and 0.500000 of total sequences 99\n",
            "ProtBert-BFD model took 32.154 ms for sequence length between 0.500 and 0.500000 of total sequences 199\n",
            "ProtBert-BFD model took 32.442 ms for sequence length between 0.500 and 0.500000 of total sequences 399\n",
            "ProtBert-BFD model took 34.875 ms for sequence length between 0.500 and 0.500000 of total sequences 1025\n",
            "ProtBert-BFD model took 31.099 ms for sequence length between 0.500 and 0.500000 of total sequences 99\n",
            "ProtBert-BFD model took 32.180 ms for sequence length between 0.500 and 0.500000 of total sequences 199\n",
            "ProtBert-BFD model took 37.010 ms for sequence length between 0.500 and 0.500000 of total sequences 399\n",
            "ProtBert-BFD model took 33.560 ms for sequence length between 0.500 and 0.500000 of total sequences 1025\n",
            "ProtBert-BFD model took 30.011 ms for sequence length between 0.500 and 0.500000 of total sequences 99\n",
            "ProtBert-BFD model took 30.719 ms for sequence length between 0.500 and 0.500000 of total sequences 199\n",
            "ProtBert-BFD model took 33.833 ms for sequence length between 0.500 and 0.500000 of total sequences 399\n",
            "ProtBert-BFD model took 34.298 ms for sequence length between 0.500 and 0.500000 of total sequences 1025\n",
            "ProtBert-BFD model took 30.834 ms for sequence length between 0.500 and 0.500000 of total sequences 99\n",
            "ProtBert-BFD model took 33.158 ms for sequence length between 0.500 and 0.500000 of total sequences 199\n",
            "ProtBert-BFD model took 31.446 ms for sequence length between 0.500 and 0.500000 of total sequences 399\n",
            "ProtBert-BFD model took 33.086 ms for sequence length between 0.500 and 0.500000 of total sequences 1025\n",
            "ProtBert-BFD model took 31.758 ms for sequence length between 0.500 and 0.500000 of total sequences 99\n",
            "ProtBert-BFD model took 33.870 ms for sequence length between 0.500 and 0.500000 of total sequences 199\n",
            "ProtBert-BFD model took 32.066 ms for sequence length between 0.500 and 0.500000 of total sequences 399\n",
            "ProtBert-BFD model took 35.054 ms for sequence length between 0.500 and 0.500000 of total sequences 1025\n",
            "ProtBert-BFD model took 35.363 ms for sequence length between 0.500 and 0.500000 of total sequences 99\n",
            "ProtBert-BFD model took 32.351 ms for sequence length between 0.500 and 0.500000 of total sequences 199\n",
            "ProtBert-BFD model took 31.697 ms for sequence length between 0.500 and 0.500000 of total sequences 399\n",
            "ProtBert-BFD model took 34.277 ms for sequence length between 0.500 and 0.500000 of total sequences 1025\n",
            "ProtBert-BFD model took 35.598 ms for sequence length between 0.500 and 0.500000 of total sequences 99\n",
            "ProtBert-BFD model took 34.105 ms for sequence length between 0.500 and 0.500000 of total sequences 199\n",
            "ProtBert-BFD model took 34.938 ms for sequence length between 0.500 and 0.500000 of total sequences 399\n",
            "ProtBert-BFD model took 39.792 ms for sequence length between 0.500 and 0.500000 of total sequences 1025\n",
            "ProtBert-BFD model took 36.062 ms for sequence length between 0.500 and 0.500000 of total sequences 99\n",
            "ProtBert-BFD model took 35.719 ms for sequence length between 0.500 and 0.500000 of total sequences 199\n",
            "ProtBert-BFD model took 34.979 ms for sequence length between 0.500 and 0.500000 of total sequences 399\n",
            "ProtBert-BFD model took 39.084 ms for sequence length between 0.500 and 0.500000 of total sequences 1025\n",
            "ProtBert-BFD model took 35.279 ms for sequence length between 0.500 and 0.500000 of total sequences 99\n",
            "ProtBert-BFD model took 32.861 ms for sequence length between 0.500 and 0.500000 of total sequences 199\n",
            "Total duration is 6771.729\n"
          ],
          "name": "stdout"
        }
      ]
    },
    {
      "cell_type": "markdown",
      "metadata": {
        "id": "1_FEz3t4gxxF"
      },
      "source": [
        "**Compare Inference Performance**"
      ]
    },
    {
      "cell_type": "code",
      "metadata": {
        "id": "epWQDcAKdTZf",
        "colab": {
          "base_uri": "https://localhost:8080/",
          "height": 777
        },
        "outputId": "2269a25e-4454-4aa8-ef34-8c22713e5fa5"
      },
      "source": [
        "plt.rcdefaults()\n",
        "fig, ax = plt.subplots(figsize=(16, 12))\n",
        "ax.set_ylabel(\"Total Inference time (ms)\")\n",
        "ax.set_title(\"Total inference time (ms) for each library\")\n",
        "ax.bar(inference_time.keys(), inference_time.values())#, yerr=time_results_std)\n",
        "plt.show()"
      ],
      "execution_count": 95,
      "outputs": [
        {
          "output_type": "display_data",
          "data": {
            "image/png": "[encoded data removed]",
            "text/plain": [
              "<Figure size 1600x1200 with 1 Axes>"
            ]
          },
          "metadata": {
            "tags": []
          }
        }
      ]
    },
    {
      "cell_type": "markdown",
      "metadata": {
        "id": "Idlu0heP_uH8"
      },
      "source": [
        "**Compare output**"
      ]
    },
    {
      "cell_type": "code",
      "metadata": {
        "id": "FNF8M5kQR4Mr"
      },
      "source": [
        "diff_fp32 = 0\n",
        "diff_fp16 = 0\n",
        "total = 0\n",
        "\n",
        "for seq in range(pytorch_embedding.shape[0]):\n",
        "  for token in range(pytorch_embedding.shape[1]):\n",
        "    for feature in range(pytorch_embedding.shape[2]):\n",
        "      diff_fp32 += abs(abs(pytorch_embedding[seq][token][feature]) - abs(onnx_embedding[seq][token][feature]))\n",
        "      diff_fp16 += abs(abs(pytorch_embedding_half[seq][token][feature]) - abs(onnx_embedding[seq][token][feature]))\n",
        "      total += 1\n",
        "\n",
        "avg_fp32 = diff_fp32 / total\n",
        "avg_fp16 = diff_fp16 / total"
      ],
      "execution_count": 92,
      "outputs": []
    },
    {
      "cell_type": "code",
      "metadata": {
        "colab": {
          "base_uri": "https://localhost:8080/"
        },
        "id": "w72FxsIebK5L",
        "outputId": "f23563ac-86da-48af-92fb-2320300cd11a"
      },
      "source": [
        "print(\"Average difference between pytorch fp32 embedding and onnx embedding = {0}\".format(avg_fp32))\n",
        "print(\"Average difference between pytorch fp16 embedding and onnx embedding = {0}\".format(avg_fp16))"
      ],
      "execution_count": 94,
      "outputs": [
        {
          "output_type": "stream",
          "text": [
            "Average difference between pytorch fp32 embedding and onnx embedding = 0.0004189802275504917\n",
            "Average difference between pytorch fp16 embedding and onnx embedding = 6.300210952758789e-05\n"
          ],
          "name": "stdout"
        }
      ]
    }
  ]
}