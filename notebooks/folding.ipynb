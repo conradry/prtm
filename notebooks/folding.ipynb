{
 "cells": [
  {
   "cell_type": "markdown",
   "id": "264f4cce-89b6-4795-8217-4aef826b396f",
   "metadata": {},
   "source": [
    "# Folding\n",
    "\n",
    "This notebooks shows a basic example of monomer folding with `prtm`."
   ]
  },
  {
   "cell_type": "code",
   "execution_count": null,
   "id": "72d2f33d-256a-4c01-b294-c878edba3ffe",
   "metadata": {},
   "outputs": [],
   "source": [
    "%load_ext autoreload\n",
    "%autoreload 2"
   ]
  },
  {
   "cell_type": "code",
   "execution_count": null,
   "id": "bb2435b0-b34f-4d01-b660-79f57c03167e",
   "metadata": {},
   "outputs": [],
   "source": [
    "from prtm import models\n",
    "from prtm import visual\n",
    "from prtm.query import caching"
   ]
  },
  {
   "cell_type": "markdown",
   "id": "60303579-7e27-4e01-88cd-285c31e41723",
   "metadata": {},
   "source": [
    "To get started let's define a simple protein sequence that we'd like to fold. It should be all uppercase; missing residues can be specified with `X`."
   ]
  },
  {
   "cell_type": "code",
   "execution_count": null,
   "id": "b389d280-0692-43d1-9127-0bfb15fe3fcf",
   "metadata": {},
   "outputs": [],
   "source": [
    "sequence = \"MAAHKGAEHHHKAAEHHEQAAKHHHAAAEHHEKGEHEQAAHHADTAYAHHKHAEEHAAQAAKHDAEHHAPKPH\""
   ]
  },
  {
   "cell_type": "markdown",
   "id": "ab7e83ec-ac75-4c78-b6ec-02af011e31ec",
   "metadata": {},
   "source": [
    "## Folding model comparison"
   ]
  },
  {
   "cell_type": "markdown",
   "id": "5e9f66c9-f2ce-455b-863c-a4f0e897dd28",
   "metadata": {},
   "source": [
    "Now we'll define a dict with all of the folding pipelines we want to try for this sequence. We'll avoid instantiating the pipelines for now to save memory. Upon instantiation model weights are downloaded to the default `torch.hub` directory (usually `~/.cache/torch/hub/checkpoints`) and the model is moved to the currently available `GPU`."
   ]
  },
  {
   "cell_type": "code",
   "execution_count": null,
   "id": "4edd76e4-6865-496c-9184-3d5ca08a3c88",
   "metadata": {},
   "outputs": [],
   "source": [
    "folders = {\n",
    "    \"OpenFold\": models.OpenFoldForFolding,\n",
    "    \"OmegaFold\": models.OmegaFoldForFolding,\n",
    "    \"RoseTTAFold\": models.RoseTTAFoldForFolding,\n",
    "    \"ESMFold\": models.ESMForFolding,\n",
    "    \"DMPFold\": models.DMPFoldForFolding,\n",
    "}"
   ]
  },
  {
   "cell_type": "markdown",
   "id": "40c848af-ec70-49da-9fb2-5c5221e84f7f",
   "metadata": {},
   "source": [
    "Three of the models we're using require MSAs for inference (`OpenFold`, `RoseTTAFold`, `DMPFold`). `prtm` will perform MSA queries automatically using `jackhmmer` and the databases released with `AlphaFold`. Once queries are completed the results are cached locally in a simple `sqlite` database. Any folding pipelines that require MSAs will first check the cache before recomputing. By default the caching is stored in `~/.prtm/queries.db`. Caching is responsive to both the input sequence and the parameters used in the querying pipeline. To save time for this example, we'll use pre-computed MSAs by changing the default cache path."
   ]
  },
  {
   "cell_type": "code",
   "execution_count": null,
   "id": "8a493062-897d-4704-8595-e37c5c2f0811",
   "metadata": {},
   "outputs": [],
   "source": [
    "caching.set_db_path(\"./cached_queries_for_testing.db\")"
   ]
  },
  {
   "cell_type": "markdown",
   "id": "edc44218-2f60-482b-b428-6c1036f72f3e",
   "metadata": {},
   "source": [
    "For simplicity we'll be using the default model weights for each folding pipeline; however, some have multiple options that can be tested. We can get a list to choose from with the `available_models` property."
   ]
  },
  {
   "cell_type": "code",
   "execution_count": null,
   "id": "bab0f9c2-d93c-4e2c-b8d1-20957e7b1f45",
   "metadata": {},
   "outputs": [],
   "source": [
    "# List models to choose from for models.OpenFoldForFolding\n",
    "folders[\"OpenFold\"].available_models"
   ]
  },
  {
   "cell_type": "markdown",
   "id": "b13cffb4-3bb0-4371-bd72-04c0e23e4360",
   "metadata": {},
   "source": [
    "Let's do some folding! Every pipeline in `prtm` has at least two outputs. The last output is always a dictionary of `aux_outputs` that include things like confidence scores, loss metrics, etc. The first output of folding models is a protein structure class that we'll discuss in detail in another notebook."
   ]
  },
  {
   "cell_type": "code",
   "execution_count": null,
   "id": "a8547b70-9ef1-49a6-9aaf-527dd7ca519a",
   "metadata": {},
   "outputs": [],
   "source": [
    "predicted_structures = {}\n",
    "aux_outputs = {}\n",
    "for folder_name, fold_pipeline in folders.items():\n",
    "    print(f\"Running {folder_name}...\")\n",
    "    # Initialize the folder model with defaults\n",
    "    folder = fold_pipeline()\n",
    "    # Run pipelines with the __call__ method\n",
    "    pred_structure, aux = folder(sequence)\n",
    "    predicted_structures[folder_name] = pred_structure\n",
    "    aux_outputs[folder_name] = aux"
   ]
  },
  {
   "cell_type": "markdown",
   "id": "63b622ca-fc18-4c15-b466-0d14de6296b5",
   "metadata": {},
   "source": [
    "Let's check the outputs."
   ]
  },
  {
   "cell_type": "code",
   "execution_count": null,
   "id": "cc137ef9-6cb2-4373-8ddf-d1175e8e78a5",
   "metadata": {},
   "outputs": [],
   "source": [
    "aux_outputs"
   ]
  },
  {
   "cell_type": "code",
   "execution_count": null,
   "id": "d5a941b1-3005-425e-9f0a-5fb190652bf3",
   "metadata": {
    "scrolled": true
   },
   "outputs": [],
   "source": [
    "predicted_structures"
   ]
  },
  {
   "cell_type": "markdown",
   "id": "6a4f0d6d-d698-4a0e-9ee3-4c6f3bb7ae4e",
   "metadata": {},
   "source": [
    "As described the `aux_outputs` just contain global measures of structure confidence. The predicted strctures are a few different kinds of `protein` classes. The number after `Protein` defines the number of atoms in the structure. In this case, `Protein37` and `Protein14` are two different ways of representing a protein structure with sidechains included while `Protein5` and `Protein4` are structures that only include atoms in the backbone (`N`, `CA`, `C`, `O`, `CB`). To view any structure with per-residue confidence predictions we simply call `show` on the structure."
   ]
  },
  {
   "cell_type": "code",
   "execution_count": null,
   "id": "49dbcd04-d75e-440e-af79-64ad7da3391d",
   "metadata": {},
   "outputs": [],
   "source": [
    "# A structure with sidechains\n",
    "# We can color the structure with any matplotlib colormap\n",
    "predicted_structures[\"OmegaFold\"].show(cmap=\"jet\")"
   ]
  },
  {
   "cell_type": "code",
   "execution_count": null,
   "id": "7971a6c2-ee54-48a6-af6f-60d959b788fe",
   "metadata": {},
   "outputs": [],
   "source": [
    "# A structure without sidechains\n",
    "predicted_structures[\"RoseTTAFold\"].show(cmap=\"jet\")"
   ]
  },
  {
   "cell_type": "markdown",
   "id": "6d2d382d-7801-42b5-a190-05001ebe8ed4",
   "metadata": {},
   "source": [
    "Really for this kind of comparison we'd like to see the structures together in a single figure. There are two options. First, we can superimpose any two structures:"
   ]
  },
  {
   "cell_type": "code",
   "execution_count": null,
   "id": "96d2ffe8-312e-4307-b1c1-d129a1de4146",
   "metadata": {},
   "outputs": [],
   "source": [
    "# The first structure is shown with some opacity for ease of visualization\n",
    "visual.view_superimposed_structures(\n",
    "    predicted_structures[\"OpenFold\"], predicted_structures[\"ESMFold\"], color1=\"green\"\n",
    ")"
   ]
  },
  {
   "cell_type": "markdown",
   "id": "8e9eddb7-e6e1-4a31-8575-c110756c681f",
   "metadata": {},
   "source": [
    "Second we can view all of the structures in a grid with locked views:"
   ]
  },
  {
   "cell_type": "code",
   "execution_count": null,
   "id": "c8e9c50f-b40a-4382-ab15-6293100656e9",
   "metadata": {},
   "outputs": [],
   "source": [
    "# When working with a mixture of structures that don't all have\n",
    "# sidechains it's usually better to turn them off\n",
    "visual.view_aligned_structures_grid(\n",
    "    list(predicted_structures.values()), cmap=\"jet\", show_sidechains=False\n",
    ")"
   ]
  },
  {
   "cell_type": "markdown",
   "id": "f5865946-08c2-4068-9dd8-541fd8e1f7fc",
   "metadata": {},
   "source": [
    "Finally we can export any `protein` structure to `PDB`. Behind-the-scenes `prtm` will ensure that structures with and without sidechains are written correctly so there's no need to do any manual conversions."
   ]
  },
  {
   "cell_type": "code",
   "execution_count": null,
   "id": "ec4e3b92-3124-41c7-949e-3af5ac522d2c",
   "metadata": {},
   "outputs": [],
   "source": [
    "for folder_name, pred_structure in predicted_structures.items():\n",
    "    with open(f\"{folder_name}_prediction.pdb\", mode=\"w\") as f:\n",
    "        f.writelines(pred_structure.to_pdb())"
   ]
  },
  {
   "cell_type": "markdown",
   "id": "8e670e9b-cc91-42cb-a600-fa147ef04cbe",
   "metadata": {},
   "source": [
    "## Conformation Sampling"
   ]
  },
  {
   "cell_type": "markdown",
   "id": "fc4a2123-9daa-4b17-87f7-5d1ba05e6928",
   "metadata": {},
   "source": [
    "All the folding models we've looked at so far are (nearly) deterministic. We can sample possible conformations by using `EigenFold` instead. `EigenFold` is built on top of `OmegaFold` but adds a sampling procedure during structure decoding."
   ]
  },
  {
   "cell_type": "code",
   "execution_count": null,
   "id": "32ef8544-3bf4-49ac-9ec7-09e3e21cc3f4",
   "metadata": {},
   "outputs": [],
   "source": [
    "fold_sampler = models.EigenFoldForFoldSampling(random_seed=0)"
   ]
  },
  {
   "cell_type": "code",
   "execution_count": null,
   "id": "7885dcb5-1d3c-46e5-9727-0af0b3ff5538",
   "metadata": {},
   "outputs": [],
   "source": [
    "sampled_structures = []\n",
    "sampled_aux_outputs = []\n",
    "for _ in range(5):\n",
    "    sampled_structure, sampled_aux = fold_sampler(sequence)\n",
    "    sampled_structures.append(sampled_structure)\n",
    "    sampled_aux_outputs.append(sampled_aux)"
   ]
  },
  {
   "cell_type": "code",
   "execution_count": null,
   "id": "a2a8f2db-58ce-4a39-84e2-f1e08463dc0a",
   "metadata": {},
   "outputs": [],
   "source": [
    "sampled_aux_outputs"
   ]
  },
  {
   "cell_type": "code",
   "execution_count": null,
   "id": "a0766b4c-a950-4ee2-8fcf-89dcdd88504c",
   "metadata": {},
   "outputs": [],
   "source": [
    "sampled_structures"
   ]
  },
  {
   "cell_type": "markdown",
   "id": "52991849-3fea-4e16-ae55-941b698489c9",
   "metadata": {},
   "source": [
    "This time we get `elbo` values which in this case is a measure of the likelihood for a structure. The structure returned by `EigenFold` are `CA` traces which means that only a single backbone atom per residue is predicted. The visualization tools for these structures are a bit different, but we can still call the `show` method to view them."
   ]
  },
  {
   "cell_type": "code",
   "execution_count": null,
   "id": "139cc003-54bc-4bfd-a5b9-beb7eca5bb29",
   "metadata": {},
   "outputs": [],
   "source": [
    "# We can't specify pyplot colormaps any more, we just get basic color names of can pass HEX colors\n",
    "sampled_structures[0].show(cmap=\"green\")"
   ]
  },
  {
   "cell_type": "markdown",
   "id": "1c4b1d01-53db-4f35-88e2-a74190a0cd29",
   "metadata": {},
   "source": [
    "Like before we can superimpose structures to see more easily where they differ."
   ]
  },
  {
   "cell_type": "code",
   "execution_count": null,
   "id": "311578a6-0c80-4bc1-8f71-00f17b621f92",
   "metadata": {},
   "outputs": [],
   "source": [
    "visual.view_superimposed_ca_traces(sampled_structures)"
   ]
  },
  {
   "cell_type": "markdown",
   "id": "1b5dcd5c-43ce-4f1c-a82a-a2b9a68d0eca",
   "metadata": {},
   "source": [
    "Although this is a very simple structure, this comparison shows us where parts of the structure that are likely less stable (the results overlap nicely with the confidence predictions of the other folding models)."
   ]
  },
  {
   "cell_type": "code",
   "execution_count": null,
   "id": "8f2cfad7-3fe5-4cc5-9130-6cd8d49baa93",
   "metadata": {},
   "outputs": [],
   "source": []
  }
 ],
 "metadata": {
  "kernelspec": {
   "display_name": "Python 3 (ipykernel)",
   "language": "python",
   "name": "python3"
  },
  "language_info": {
   "codemirror_mode": {
    "name": "ipython",
    "version": 3
   },
   "file_extension": ".py",
   "mimetype": "text/x-python",
   "name": "python",
   "nbconvert_exporter": "python",
   "pygments_lexer": "ipython3",
   "version": "3.10.11"
  }
 },
 "nbformat": 4,
 "nbformat_minor": 5
}
