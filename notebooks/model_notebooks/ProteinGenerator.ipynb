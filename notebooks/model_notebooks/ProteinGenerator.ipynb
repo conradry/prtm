{
 "cells": [
  {
   "cell_type": "markdown",
   "id": "38c438d4-7fa4-4a04-b753-25ad6dd2e585",
   "metadata": {},
   "source": [
    "# Protein Generator\n",
    "\n",
    "ProteinGenerator is a method for jointly designing a protein sequence and structure."
   ]
  },
  {
   "cell_type": "code",
   "execution_count": null,
   "id": "d1d24f8f-c558-4b50-a908-67e4be544a1e",
   "metadata": {},
   "outputs": [],
   "source": [
    "%load_ext autoreload\n",
    "%autoreload 2"
   ]
  },
  {
   "cell_type": "code",
   "execution_count": null,
   "id": "d728f8d5-6bee-40b4-83b1-a0871c2eb423",
   "metadata": {
    "tags": []
   },
   "outputs": [],
   "source": [
    "from proteome import protein\n",
    "from proteome.models.protein_generator import config\n",
    "from proteome.models.protein_generator.modeling import ProteinGeneratorForJointDesign"
   ]
  },
  {
   "cell_type": "markdown",
   "id": "b48c3c55-b249-4d27-a428-39ac9d46ae96",
   "metadata": {},
   "source": [
    "Like RFDiffusion there are a few ProteinGenerator models for different tasks. The right weights depend on the use case. When `model_name` is set to `auto` the model weights to load are determined by the input inference parameters."
   ]
  },
  {
   "cell_type": "code",
   "execution_count": null,
   "id": "f82b7e8a-0ab1-40af-8dc1-03ae245acf7f",
   "metadata": {},
   "outputs": [],
   "source": [
    "designer = ProteinGeneratorForJointDesign(model_name=\"auto\", random_seed=0)"
   ]
  },
  {
   "cell_type": "markdown",
   "id": "c3589149-1534-4cf3-87e5-c1838066bb01",
   "metadata": {},
   "source": [
    "ProteinGenerator uses a `ContigMap` and `contig` string to specify the lengths of generated chains, the number of chains, and any scaffolds from a reference structure.\n",
    "\n",
    "- [\"50\"] will create a single chain of exactly 50 residues.\n",
    "- [\"50-100\"] will create a single chain with anywhere from 50-100 residues."
   ]
  },
  {
   "cell_type": "markdown",
   "id": "aa325512-fad8-42cb-bd8d-43c06b23f54a",
   "metadata": {},
   "source": [
    "## Unconditional Design\n",
    "\n",
    "Simplest example of generating a sequence and structure with a fixed number of residues."
   ]
  },
  {
   "cell_type": "code",
   "execution_count": null,
   "id": "0c0b1604-3e9a-4333-8290-ef295f983f0c",
   "metadata": {},
   "outputs": [],
   "source": [
    "designed_structure, designed_sequence, _ = designer(\n",
    "    config.InferenceConfig(\n",
    "        contigmap_params=config.ContigMap(contigs=[\"100\"]),\n",
    "    ),\n",
    ")"
   ]
  },
  {
   "cell_type": "code",
   "execution_count": null,
   "id": "b38b1287-5ba6-4c54-9c07-1df0dc37629d",
   "metadata": {},
   "outputs": [],
   "source": [
    "# Unlike other design algorithms, the sidechains we get with ProteinGenerator aren't trivial\n",
    "# because the sequence is learned instead of being defaulted to glycine\n",
    "designed_structure.show()"
   ]
  },
  {
   "cell_type": "code",
   "execution_count": null,
   "id": "282b16eb-bc5e-48eb-9695-c236c2d55476",
   "metadata": {},
   "outputs": [],
   "source": [
    "designed_sequence"
   ]
  },
  {
   "cell_type": "markdown",
   "id": "05249546-967f-4e77-82db-66a80fdce22e",
   "metadata": {},
   "source": [
    "## Symmetric Design\n",
    "\n",
    "Design a structure and sequence with symmetry."
   ]
  },
  {
   "cell_type": "markdown",
   "id": "86e08d96-2ac4-466b-87c6-31f917a525fb",
   "metadata": {},
   "source": [
    "The symmetry design parameters are less sophisticated than RFDiffusion, we can only specify an n-fold symmetry and the chains to generate via the `contigs`."
   ]
  },
  {
   "cell_type": "code",
   "execution_count": null,
   "id": "bccd1639-c4ac-4c12-a085-1dd15ee69fe9",
   "metadata": {},
   "outputs": [],
   "source": [
    "designed_structure, designed_sequence, _ = designer(\n",
    "    config.InferenceConfig(\n",
    "        diffuser_params=config.DiffuserParams(T=50),\n",
    "        contigmap_params=config.ContigMap(contigs=[\"25/0 25/0 25/0\"]),\n",
    "        symmetry_params=config.SymmetryParams(symmetry=3),\n",
    "    ),\n",
    ")"
   ]
  },
  {
   "cell_type": "code",
   "execution_count": null,
   "id": "7dcb74c7-c07b-44f4-9e13-19298a6fd507",
   "metadata": {},
   "outputs": [],
   "source": [
    "designed_structure.show()"
   ]
  },
  {
   "cell_type": "code",
   "execution_count": null,
   "id": "f9a3008e-9c36-4817-be44-ac5d11252a3a",
   "metadata": {},
   "outputs": [],
   "source": [
    "designed_sequence"
   ]
  },
  {
   "cell_type": "markdown",
   "id": "1fd89311-9ff5-433f-afb5-9e9172eed1fd",
   "metadata": {},
   "source": [
    "## Weighted Sequence\n",
    "\n",
    "Weight sequence design to have a particular composition."
   ]
  },
  {
   "cell_type": "code",
   "execution_count": null,
   "id": "291417f6-87af-41e1-b28a-48d8517dccf4",
   "metadata": {},
   "outputs": [],
   "source": [
    "designed_structure, designed_sequence, _ = designer(\n",
    "    config.InferenceConfig(\n",
    "        contigmap_params=config.ContigMap(contigs=[\"100\"]),\n",
    "        potentials_params=config.PotentialsParams(\n",
    "            # Design a sequence with 20% Ws (i.e., trytophans)\n",
    "            potentials=[config.AACompositionalBiasParams(aa_composition=\"W0.2\")],\n",
    "            potential_scales=[1.75],\n",
    "        ),\n",
    "    ),\n",
    ")"
   ]
  },
  {
   "cell_type": "code",
   "execution_count": null,
   "id": "8eb9f111-2d90-4a4e-85e3-55f5f6694ff8",
   "metadata": {},
   "outputs": [],
   "source": [
    "designed_structure.show()"
   ]
  },
  {
   "cell_type": "code",
   "execution_count": null,
   "id": "fb1f8692-4b52-4b3a-9d9b-fd190aa6feaf",
   "metadata": {},
   "outputs": [],
   "source": [
    "designed_sequence"
   ]
  },
  {
   "cell_type": "markdown",
   "id": "62c37c7f-198c-4685-9ffa-fef82a434356",
   "metadata": {},
   "source": [
    "## Motif Scaffolding\n",
    "\n",
    "Design around a given motif from a reference structure."
   ]
  },
  {
   "cell_type": "code",
   "execution_count": null,
   "id": "9cd61974-df87-4bf3-b312-8f7a4950cd22",
   "metadata": {},
   "outputs": [],
   "source": [
    "with open(\"./data/rsv5_5tpn.pdb\", mode=\"r\") as f:\n",
    "    reference_pdb_str = f.read()\n",
    "\n",
    "reference_structure = protein.Protein27.from_pdb_string(reference_pdb_str)"
   ]
  },
  {
   "cell_type": "code",
   "execution_count": null,
   "id": "db66611b-f54f-4ec4-bb6d-b07b83a953f8",
   "metadata": {},
   "outputs": [],
   "source": [
    "designed_structure, designed_sequence, _ = designer(\n",
    "    config.InferenceConfig(\n",
    "        reference_structure=reference_structure,\n",
    "        # Only the structure is considered for the scaffold, not the sequence\n",
    "        contigmap_params=config.ContigMap(contigs=[\"0-25/A163-181/25-30\"]),\n",
    "    ),\n",
    ")"
   ]
  },
  {
   "cell_type": "code",
   "execution_count": null,
   "id": "e6503fd0-016f-4416-8c15-3cb6374e5fda",
   "metadata": {},
   "outputs": [],
   "source": [
    "designed_structure.show()"
   ]
  },
  {
   "cell_type": "code",
   "execution_count": null,
   "id": "7fdcb2f2-ee61-4e21-aaa7-158366b87c17",
   "metadata": {},
   "outputs": [],
   "source": [
    "designed_sequence"
   ]
  },
  {
   "cell_type": "markdown",
   "id": "9a4bc53a-7504-4b06-b444-00e40343a144",
   "metadata": {},
   "source": [
    "## Sequence Conditioning\n",
    "\n",
    "Design around a particular reference sequence."
   ]
  },
  {
   "cell_type": "code",
   "execution_count": null,
   "id": "dc3a2310-9787-46ac-9ace-7a27d0e67ccb",
   "metadata": {},
   "outputs": [],
   "source": [
    "designed_structure, designed_sequence, _ = designer(\n",
    "    config.InferenceConfig(\n",
    "        # X means designable residue\n",
    "        sequence=\"XXXXXXXXXXXXXXXXPEPSEQXXXXXXXXXXXXXXXX\",\n",
    "        # Sequence length is already given, no need to provide a contig\n",
    "        contigmap_params=config.ContigMap(),\n",
    "    ),\n",
    ")"
   ]
  },
  {
   "cell_type": "code",
   "execution_count": null,
   "id": "74f5b7e3-6f6d-4dd2-8006-d47f8bef3dfe",
   "metadata": {},
   "outputs": [],
   "source": [
    "designed_structure.show()"
   ]
  },
  {
   "cell_type": "code",
   "execution_count": null,
   "id": "22dbca12-0d0f-49bb-b5cf-0c514fefed26",
   "metadata": {},
   "outputs": [],
   "source": [
    "designed_sequence"
   ]
  },
  {
   "cell_type": "markdown",
   "id": "1be86199-3eb0-4925-a1fa-a851a393f456",
   "metadata": {},
   "source": [
    "## Binder Design\n",
    "\n",
    "Design a binder to hotspot residues in a reference structure."
   ]
  },
  {
   "cell_type": "code",
   "execution_count": null,
   "id": "9daf8ef2-f0ce-40ef-a91f-5fae5edfbcb1",
   "metadata": {},
   "outputs": [],
   "source": [
    "with open(\"./data/cd86.pdb\", mode=\"r\") as f:\n",
    "    reference_pdb_str = f.read()\n",
    "\n",
    "reference_structure = protein.Protein27.from_pdb_string(reference_pdb_str)"
   ]
  },
  {
   "cell_type": "code",
   "execution_count": null,
   "id": "0a16c8c5-bda0-4f65-9fc4-35b928cb4752",
   "metadata": {},
   "outputs": [],
   "source": [
    "designed_structure, designed_sequence, _ = designer(\n",
    "    config.InferenceConfig(\n",
    "        reference_structure=reference_structure,\n",
    "        contigmap_params=config.ContigMap(contigs=[\"B1-110/0 25-75\"]),\n",
    "        hotspot_params=config.HotspotParams(hotspot_res=[\"B40\", \"B32\", \"B87\", \"B96\", \"B30\"]),\n",
    "    ),\n",
    ")"
   ]
  },
  {
   "cell_type": "code",
   "execution_count": null,
   "id": "37b0e271-09b3-485d-ba4f-6ecf52b17ed9",
   "metadata": {},
   "outputs": [],
   "source": [
    "designed_structure.show()"
   ]
  },
  {
   "cell_type": "code",
   "execution_count": null,
   "id": "b9e43f20-17e1-472a-8bef-540751f07fcf",
   "metadata": {},
   "outputs": [],
   "source": [
    "designed_sequence"
   ]
  },
  {
   "cell_type": "markdown",
   "id": "0ec5c4ed-b893-4ba5-aab2-c79b26e36461",
   "metadata": {},
   "source": [
    "## Design with Secondary Structure\n",
    "\n",
    "ProteinGenerator allows specifying a desired secondary structure in a few different formats."
   ]
  },
  {
   "cell_type": "markdown",
   "id": "889403ce-ae32-4829-9267-5cb5590dfd11",
   "metadata": {},
   "source": [
    "### Secondary structure DSSP string\n",
    "\n",
    "Design from a secondary structure string."
   ]
  },
  {
   "cell_type": "markdown",
   "id": "da3219f6-c22f-40fd-8b14-6eb5a45914f3",
   "metadata": {},
   "source": [
    "The code for DSSP secondary structures follows:\n",
    "\n",
    "- H: a-helix\n",
    "- G: 310 helix\n",
    "- I: p-helix\n",
    "- E: extended beta sheet\n",
    "- B: beta bridge\n",
    "- S: bend\n",
    "- T: helix turn\n",
    "- L: other/loop\n",
    "- X: anything"
   ]
  },
  {
   "cell_type": "code",
   "execution_count": null,
   "id": "267e8704-ce20-438a-a3b9-b163ceb16385",
   "metadata": {},
   "outputs": [],
   "source": [
    "secondary_structure_str = \"XXXXXHHHHXXXLLLXXXXXXXXXXHHHHXXXLLLXXXXXXXXXXHHHHXXXLLLXXXXXXXXXXHHHHXXXLLLXXXXXXXXXXHHHHXXXLLLXXXXX\""
   ]
  },
  {
   "cell_type": "code",
   "execution_count": null,
   "id": "62c46179-ab8f-408a-9643-517a65320407",
   "metadata": {},
   "outputs": [],
   "source": [
    "designed_structure, designed_sequence, _ = designer(\n",
    "    config.InferenceConfig(\n",
    "        contigmap_params=config.ContigMap(contigs=[\"100\"]),\n",
    "        secondary_structure_params=config.SecondaryStructureParams(\n",
    "            secondary_structure=secondary_structure_str\n",
    "        ),\n",
    "    ),\n",
    ")"
   ]
  },
  {
   "cell_type": "code",
   "execution_count": null,
   "id": "d0a81134-de8f-4657-b3d6-9785a8bfe8a5",
   "metadata": {},
   "outputs": [],
   "source": [
    "designed_structure.show()"
   ]
  },
  {
   "cell_type": "code",
   "execution_count": null,
   "id": "5a53513f-38e4-49b6-9c5c-60672ce92962",
   "metadata": {},
   "outputs": [],
   "source": [
    "designed_sequence"
   ]
  },
  {
   "cell_type": "markdown",
   "id": "4379af1a-d33c-4556-a30d-b2d534559ec6",
   "metadata": {},
   "source": [
    "### Secondary structure bias\n",
    "\n",
    "Adjust a bias parameter to encourage designed structures toward a certain secondary structure."
   ]
  },
  {
   "cell_type": "code",
   "execution_count": null,
   "id": "972cc4bc-1d73-40ce-bc27-18f7eb4172a9",
   "metadata": {},
   "outputs": [],
   "source": [
    "designed_structure, designed_sequence, _ = designer(\n",
    "    config.InferenceConfig(\n",
    "        contigmap_params=config.ContigMap(contigs=[\"100\"]),\n",
    "        structure_bias_params=config.StructureBiasParams(helix_bias=0.01, strand_bias=0.01)\n",
    "    ),\n",
    ")"
   ]
  },
  {
   "cell_type": "code",
   "execution_count": null,
   "id": "440453ce-51c1-435a-b4de-6f31e1b903b3",
   "metadata": {},
   "outputs": [],
   "source": [
    "designed_structure.show()"
   ]
  },
  {
   "cell_type": "code",
   "execution_count": null,
   "id": "541f0473-9b60-4905-8795-0f77bcb3fca0",
   "metadata": {},
   "outputs": [],
   "source": [
    "designed_sequence"
   ]
  },
  {
   "cell_type": "markdown",
   "id": "4b14e8f0-862b-47f6-bead-0793ad07847f",
   "metadata": {},
   "source": [
    "### Reference protein secondary structure\n",
    "\n",
    "Compute the secondary structure of a reference protein and use it to guide design."
   ]
  },
  {
   "cell_type": "code",
   "execution_count": null,
   "id": "94820260-e0c3-4c14-a95f-4ee0c21ee253",
   "metadata": {},
   "outputs": [],
   "source": [
    "with open(\"./data/cd86.pdb\", mode=\"r\") as f:\n",
    "    dssp_pdb_str = f.read()\n",
    "\n",
    "dssp_structure = protein.Protein27.from_pdb_string(dssp_pdb_str)"
   ]
  },
  {
   "cell_type": "code",
   "execution_count": null,
   "id": "e092a901-e78d-42f8-95b4-80a705d30a17",
   "metadata": {},
   "outputs": [],
   "source": [
    "designed_structure, designed_sequence, _ = designer(\n",
    "    config.InferenceConfig(\n",
    "        contigmap_params=config.ContigMap(contigs=[\"110\"]),\n",
    "        secondary_structure_params=config.SecondaryStructureParams(dssp_structure=dssp_structure),\n",
    "    ),\n",
    ")"
   ]
  },
  {
   "cell_type": "code",
   "execution_count": null,
   "id": "c3430fef-5263-401b-a3f6-8cc605642688",
   "metadata": {},
   "outputs": [],
   "source": [
    "designed_structure.show()"
   ]
  },
  {
   "cell_type": "code",
   "execution_count": null,
   "id": "94daecde-c95e-43cc-ba5b-317d46d78b4a",
   "metadata": {},
   "outputs": [],
   "source": [
    "designed_sequence"
   ]
  },
  {
   "cell_type": "markdown",
   "id": "840fa0a7-6446-4e87-93f8-bef9c51d37a4",
   "metadata": {},
   "source": [
    "## Partial Diffusion\n",
    "\n",
    "Start with a noisy structure or sequence and denoise into something more realistic."
   ]
  },
  {
   "cell_type": "markdown",
   "id": "97340ab3-5ece-4d3f-bf6e-2dce02047663",
   "metadata": {},
   "source": [
    "### Structure denoising\n",
    "\n",
    "Denoise a reference structure"
   ]
  },
  {
   "cell_type": "code",
   "execution_count": null,
   "id": "97072fe7-092a-4ad2-8f07-4045777d2c92",
   "metadata": {},
   "outputs": [],
   "source": [
    "with open(\"./data/design_000000.pdb\", mode=\"r\") as f:\n",
    "    reference_pdb_str = f.read()\n",
    "\n",
    "reference_structure = protein.Protein27.from_pdb_string(reference_pdb_str)"
   ]
  },
  {
   "cell_type": "code",
   "execution_count": null,
   "id": "928c4e21-ef9d-453a-adf0-9a3f461f3f19",
   "metadata": {},
   "outputs": [],
   "source": [
    "designed_structure, designed_sequence, _ = designer(\n",
    "    config.InferenceConfig(\n",
    "        reference_structure=reference_structure,\n",
    "        diffuser_params=config.DiffuserParams(T=50),\n",
    "        contigmap_params=config.ContigMap(contigs=[\"38\"]),\n",
    "        sampling_temp=0.3,\n",
    "    ),\n",
    ")"
   ]
  },
  {
   "cell_type": "code",
   "execution_count": null,
   "id": "7f0533b1-a20f-49f8-bd35-5ac4118630de",
   "metadata": {},
   "outputs": [],
   "source": [
    "designed_structure.show()"
   ]
  },
  {
   "cell_type": "code",
   "execution_count": null,
   "id": "233920a0-d790-4f3a-9a34-e47b3ee53040",
   "metadata": {},
   "outputs": [],
   "source": [
    "designed_sequence"
   ]
  },
  {
   "cell_type": "markdown",
   "id": "5188ef54-fb20-4538-ac44-d60c1d6ca19f",
   "metadata": {},
   "source": [
    "### Sequence denoising\n",
    "\n",
    "Denoise a reference sequence."
   ]
  },
  {
   "cell_type": "code",
   "execution_count": null,
   "id": "12f72bb4-0828-4844-9ad3-23df39cb777b",
   "metadata": {},
   "outputs": [],
   "source": [
    "designed_structure, designed_sequence, _ = designer(\n",
    "    config.InferenceConfig(\n",
    "        sequence=\"SAKVEELLETAKALGISEEEVREILELLEAGFIVIEVVSLGDAVILILENKKLGKYYILKNGEIERIKKPENARELKRKIAEILNISVEEIEAIIEKLRAK\",\n",
    "        diffuser_params=config.DiffuserParams(T=50),\n",
    "        contigmap_params=config.ContigMap(),\n",
    "        sampling_temp=0.3,\n",
    "    ),\n",
    ")"
   ]
  },
  {
   "cell_type": "code",
   "execution_count": null,
   "id": "9bcc1ad4-69e4-478d-b937-cd164fdaab1c",
   "metadata": {},
   "outputs": [],
   "source": [
    "designed_structure.show()"
   ]
  },
  {
   "cell_type": "code",
   "execution_count": null,
   "id": "9fb5d36a-963d-4f1a-b9d3-ef88b87aa59e",
   "metadata": {},
   "outputs": [],
   "source": [
    "designed_sequence"
   ]
  },
  {
   "cell_type": "code",
   "execution_count": null,
   "id": "105f1efd-0d05-44a6-ac53-d5edd879dc07",
   "metadata": {},
   "outputs": [],
   "source": []
  }
 ],
 "metadata": {
  "kernelspec": {
   "display_name": "Python 3 (ipykernel)",
   "language": "python",
   "name": "python3"
  },
  "language_info": {
   "codemirror_mode": {
    "name": "ipython",
    "version": 3
   },
   "file_extension": ".py",
   "mimetype": "text/x-python",
   "name": "python",
   "nbconvert_exporter": "python",
   "pygments_lexer": "ipython3",
   "version": "3.10.11"
  }
 },
 "nbformat": 4,
 "nbformat_minor": 5
}
