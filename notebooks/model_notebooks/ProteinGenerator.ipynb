{
 "cells": [
  {
   "cell_type": "markdown",
   "id": "38c438d4-7fa4-4a04-b753-25ad6dd2e585",
   "metadata": {},
   "source": [
    "# Protein Generator"
   ]
  },
  {
   "cell_type": "code",
   "execution_count": 1,
   "id": "d1d24f8f-c558-4b50-a908-67e4be544a1e",
   "metadata": {},
   "outputs": [],
   "source": [
    "%load_ext autoreload\n",
    "%autoreload 2"
   ]
  },
  {
   "cell_type": "code",
   "execution_count": 2,
   "id": "d728f8d5-6bee-40b4-83b1-a0871c2eb423",
   "metadata": {
    "tags": []
   },
   "outputs": [],
   "source": [
    "import os, sys, json\n",
    "\n",
    "from dataclasses import asdict\n",
    "\n",
    "import py3Dmol\n",
    "import torch\n",
    "import numpy as np\n",
    "from tqdm import tqdm\n",
    "\n",
    "from proteome import protein\n",
    "from proteome.models.protein_generator import config\n",
    "from proteome.models.omegafold.modeling import OmegaFoldForFolding\n",
    "from proteome.models.protein_generator.modeling import ProteinGeneratorForJointDesign\n",
    "from proteome.models.protein_generator.sampler import SeqDiffSampler"
   ]
  },
  {
   "cell_type": "code",
   "execution_count": 3,
   "id": "f82b7e8a-0ab1-40af-8dc1-03ae245acf7f",
   "metadata": {},
   "outputs": [],
   "source": [
    "designer = ProteinGeneratorForJointDesign(model_name=\"auto\", random_seed=0)"
   ]
  },
  {
   "cell_type": "markdown",
   "id": "1be86199-3eb0-4925-a1fa-a851a393f456",
   "metadata": {
    "jp-MarkdownHeadingCollapsed": true
   },
   "source": [
    "## Binder Design"
   ]
  },
  {
   "cell_type": "markdown",
   "id": "eeb80466-bb81-4cf1-9753-62a50060d535",
   "metadata": {},
   "source": [
    "```bash\n",
    "python ./inference.py \\\n",
    "    --num_designs 10 \\\n",
    "    --out examples/out/binder_design \\\n",
    "    --pdb examples/pdbs/cd86.pdb \\\n",
    "    --T 25 --save_best_plddt \\\n",
    "    --contigs B1-110,0 25-75 \\\n",
    "    --hotspots B40,B32,B87,B96,B30\n",
    "```"
   ]
  },
  {
   "cell_type": "code",
   "execution_count": 4,
   "id": "9daf8ef2-f0ce-40ef-a91f-5fae5edfbcb1",
   "metadata": {},
   "outputs": [],
   "source": [
    "with open(\"cd86.pdb\", mode=\"r\") as f:\n",
    "    reference_pdb_str = f.read()\n",
    "\n",
    "reference_structure = protein.Protein27.from_pdb_string(reference_pdb_str)"
   ]
  },
  {
   "cell_type": "code",
   "execution_count": 5,
   "id": "0a16c8c5-bda0-4f65-9fc4-35b928cb4752",
   "metadata": {},
   "outputs": [
    {
     "name": "stderr",
     "output_type": "stream",
     "text": [
      "  0%|                                                                        | 0/25 [00:00<?, ?it/s]/home/conradry71/micromamba/envs/proteome/lib/python3.10/site-packages/dgl/backend/pytorch/tensor.py:449: UserWarning: TypedStorage is deprecated. It will be removed in the future and UntypedStorage will be the only storage class. This should only matter to you if you are using storages directly.  To access UntypedStorage directly, use tensor.untyped_storage() instead of tensor.storage()\n",
      "  assert input.numel() == input.storage().size(), (\n",
      "100%|███████████████████████████████████████████████████████████████| 25/25 [02:00<00:00,  4.81s/it]"
     ]
    },
    {
     "name": "stdout",
     "output_type": "stream",
     "text": [
      "AAtype [15 10 10  6  5 16 10 15 19 11  7 11 16 18 11 10  1 12  5 11 15  6  2  7\n",
      " 16 18 15 17 16  1 10 15 14  1  7  6 14 10  0  5 14 19 15 19  0 14 16 13\n",
      "  9 12 10 11  9  5  0 18 13  2  6 16  0  3 10 14  4  5 13  0  2 15  5  2\n",
      "  5 15 10 15  6 10 19 19 13 17  5  3  5  6  2 10 19 10  2  6 19 18 10  7\n",
      " 11  6 11 13  3 15 19  8 15 11 18 12  7  1 16 15 13  3 15  3 15 17 16 10\n",
      "  1 10  8  2 10  5  9 11  3 11  7 10 18  5  4  9  9  8  8 11 11 14 16  7\n",
      " 12  9  1  9  8  5 12  2 15  6 10 15 19 10  0]\n",
      "Sequence before:  SLLEQTLSVKGKTYKLRMQKSENGTYSWTRLSPRGEPLAQPVSVAPTFIMLKIQAYFNETADLPCQFANSQNQSLSELVVFWQDQENLVLNEVYLGKEKFDSVHSKYMGRTSFDSDSWTLRLHNLQIKDKGLYQCIIHHKKPTGMIRIHQMNSELSVLA\n",
      "Sequence after:  SLLEQTLSVKGKTYKLRMQKSENGTYSWTRLSPRGEPLAQPVSVAPTFIMLKIQAYFNETADLPCQFANSQNQSLSELVVFWQDQENLVLNEVYLGKEKFDSVHSKYMGRTSFDSDSWTLRLHNLQIKDKGLYQCIIHHKKPTGMIRIHQMNSELSVLA\n"
     ]
    },
    {
     "name": "stderr",
     "output_type": "stream",
     "text": [
      "\n"
     ]
    }
   ],
   "source": [
    "designed_structure, designed_sequence = designer(\n",
    "    config.InferenceConfig(\n",
    "        reference_structure=reference_structure,\n",
    "        contigmap_params=config.ContigMap(contigs=[\"B1-110/0 25-75\"]),\n",
    "        hotspot_params=config.HotspotParams(hotspot_res=[\"B40\", \"B32\", \"B87\", \"B96\", \"B30\"]),\n",
    "    ),\n",
    ")[:2]\n",
    "designed_pdb = designed_structure.to_pdb()"
   ]
  },
  {
   "cell_type": "code",
   "execution_count": 9,
   "id": "37b0e271-09b3-485d-ba4f-6ecf52b17ed9",
   "metadata": {},
   "outputs": [
    {
     "data": {
      "application/3dmoljs_load.v0": "<div id=\"3dmolviewer_1694835881461706\"  style=\"position: relative; width: 800px; height: 600px;\">\n        <p id=\"3dmolwarning_1694835881461706\" style=\"background-color:#ffcccc;color:black\">You appear to be running in JupyterLab (or JavaScript failed to load for some other reason).  You need to install the 3dmol extension: <br>\n        <tt>jupyter labextension install jupyterlab_3dmol</tt></p>\n        </div>\n<script>\n\nvar loadScriptAsync = function(uri){\n  return new Promise((resolve, reject) => {\n    //this is to ignore the existence of requirejs amd\n    var savedexports, savedmodule;\n    if (typeof exports !== 'undefined') savedexports = exports;\n    else exports = {}\n    if (typeof module !== 'undefined') savedmodule = module;\n    else module = {}\n\n    var tag = document.createElement('script');\n    tag.src = uri;\n    tag.async = true;\n    tag.onload = () => {\n        exports = savedexports;\n        module = savedmodule;\n        resolve();\n    };\n  var firstScriptTag = document.getElementsByTagName('script')[0];\n  firstScriptTag.parentNode.insertBefore(tag, firstScriptTag);\n});\n};\n\nif(typeof $3Dmolpromise === 'undefined') {\n$3Dmolpromise = null;\n  $3Dmolpromise = loadScriptAsync('https://cdnjs.cloudflare.com/ajax/libs/3Dmol/2.0.3/3Dmol-min.js');\n}\n\nvar viewer_1694835881461706 = null;\nvar warn = document.getElementById(\"3dmolwarning_1694835881461706\");\nif(warn) {\n    warn.parentNode.removeChild(warn);\n}\n$3Dmolpromise.then(function() {\nviewer_1694835881461706 = $3Dmol.createViewer(document.getElementById(\"3dmolviewer_1694835881461706\"),{backgroundColor:\"white\"});\nviewer_1694835881461706.zoomTo();\n\tviewer_1694835881461706.addModelsAsFrames(\"ATOM      1  N   SER A   1      -0.413  29.965   4.458  1.00  0.00           N  \\nATOM      2  CA  SER A   1      -1.141  29.695   5.692  1.00  0.00           C  \\nATOM      3  C   SER A   1      -0.683  28.389   6.328  1.00  0.00           C  \\nATOM      4  O   SER A   1      -0.608  27.356   5.662  1.00  0.00           O  \\nATOM      5  CB  SER A   1      -2.639  29.693   5.457  1.00  0.00           C  \\nATOM      6  OG  SER A   1      -3.063  28.635   4.642  1.00  0.00           O  \\nATOM      7  N   LEU A   2      -0.292  28.435   7.677  1.00  0.00           N  \\nATOM      8  CA  LEU A   2       0.126  27.272   8.452  1.00  0.00           C  \\nATOM      9  C   LEU A   2      -0.999  26.779   9.356  1.00  0.00           C  \\nATOM     10  O   LEU A   2      -1.704  27.575   9.976  1.00  0.00           O  \\nATOM     11  CB  LEU A   2       1.352  27.659   9.289  1.00  0.00           C  \\nATOM     12  CG  LEU A   2       2.062  26.630  10.179  1.00  0.00           C  \\nATOM     13  CD1 LEU A   2       2.723  25.573   9.305  1.00  0.00           C  \\nATOM     14  CD2 LEU A   2       3.087  27.337  11.052  1.00  0.00           C  \\nATOM     15  N   LEU A   3      -1.503  25.563   9.121  1.00  0.00           N  \\nATOM     16  CA  LEU A   3      -2.365  24.822  10.034  1.00  0.00           C  \\nATOM     17  C   LEU A   3      -1.561  23.829  10.867  1.00  0.00           C  \\nATOM     18  O   LEU A   3      -0.686  23.136  10.350  1.00  0.00           O  \\nATOM     19  CB  LEU A   3      -3.466  24.101   9.246  1.00  0.00           C  \\nATOM     20  CG  LEU A   3      -4.698  23.427   9.862  1.00  0.00           C  \\nATOM     21  CD1 LEU A   3      -5.654  24.492  10.381  1.00  0.00           C  \\nATOM     22  CD2 LEU A   3      -5.371  22.548   8.818  1.00  0.00           C  \\nATOM     23  N   GLU A   4      -1.751  23.843  12.221  1.00  0.00           N  \\nATOM     24  CA  GLU A   4      -1.179  22.859  13.133  1.00  0.00           C  \\nATOM     25  C   GLU A   4      -2.255  21.939  13.695  1.00  0.00           C  \\nATOM     26  O   GLU A   4      -3.329  22.393  14.092  1.00  0.00           O  \\nATOM     27  CB  GLU A   4      -0.451  23.566  14.278  1.00  0.00           C  \\nATOM     28  CG  GLU A   4       0.797  24.356  13.909  1.00  0.00           C  \\nATOM     29  CD  GLU A   4       1.388  25.095  15.077  1.00  0.00           C  \\nATOM     30  OE1 GLU A   4       2.412  25.712  14.909  1.00  0.00           O  \\nATOM     31  OE2 GLU A   4       0.815  25.041  16.140  1.00  0.00           O  \\nATOM     32  N   GLN A   5      -2.056  20.624  13.502  1.00  0.00           N  \\nATOM     33  CA  GLN A   5      -2.884  19.585  14.103  1.00  0.00           C  \\nATOM     34  C   GLN A   5      -2.104  18.791  15.142  1.00  0.00           C  \\nATOM     35  O   GLN A   5      -0.905  18.556  14.987  1.00  0.00           O  \\nATOM     36  CB  GLN A   5      -3.405  18.613  13.041  1.00  0.00           C  \\nATOM     37  CG  GLN A   5      -4.544  19.102  12.162  1.00  0.00           C  \\nATOM     38  CD  GLN A   5      -4.943  18.083  11.112  1.00  0.00           C  \\nATOM     39  NE2 GLN A   5      -5.025  18.524   9.862  1.00  0.00           N  \\nATOM     40  OE1 GLN A   5      -5.176  16.911  11.421  1.00  0.00           O  \\nATOM     41  N   THR A   6      -2.758  18.475  16.286  1.00  0.00           N  \\nATOM     42  CA  THR A   6      -2.176  17.592  17.289  1.00  0.00           C  \\nATOM     43  C   THR A   6      -2.818  16.211  17.246  1.00  0.00           C  \\nATOM     44  O   THR A   6      -4.042  16.086  17.209  1.00  0.00           O  \\nATOM     45  CB  THR A   6      -2.344  18.208  18.690  1.00  0.00           C  \\nATOM     46  CG2 THR A   6      -1.588  17.399  19.733  1.00  0.00           C  \\nATOM     47  OG1 THR A   6      -1.835  19.548  18.670  1.00  0.00           O  \\nATOM     48  N   LEU A   7      -1.963  15.203  17.088  1.00  0.00           N  \\nATOM     49  CA  LEU A   7      -2.348  13.797  17.118  1.00  0.00           C  \\nATOM     50  C   LEU A   7      -1.815  13.105  18.368  1.00  0.00           C  \\nATOM     51  O   LEU A   7      -0.682  13.346  18.787  1.00  0.00           O  \\nATOM     52  CB  LEU A   7      -1.803  13.113  15.858  1.00  0.00           C  \\nATOM     53  CG  LEU A   7      -2.113  11.639  15.564  1.00  0.00           C  \\nATOM     54  CD1 LEU A   7      -3.600  11.481  15.274  1.00  0.00           C  \\nATOM     55  CD2 LEU A   7      -1.273  11.169  14.385  1.00  0.00           C  \\nATOM     56  N   SER A   8      -2.714  12.367  19.086  1.00  0.00           N  \\nATOM     57  CA  SER A   8      -2.279  11.554  20.216  1.00  0.00           C  \\nATOM     58  C   SER A   8      -2.107  10.096  19.811  1.00  0.00           C  \\nATOM     59  O   SER A   8      -3.041   9.465  19.317  1.00  0.00           O  \\nATOM     60  CB  SER A   8      -3.285  11.673  21.344  1.00  0.00           C  \\nATOM     61  OG  SER A   8      -3.487  13.011  21.707  1.00  0.00           O  \\nATOM     62  N   VAL A   9      -0.808   9.613  19.753  1.00  0.00           N  \\nATOM     63  CA  VAL A   9      -0.464   8.220  19.495  1.00  0.00           C  \\nATOM     64  C   VAL A   9       0.184   7.578  20.715  1.00  0.00           C  \\nATOM     65  O   VAL A   9       1.048   8.174  21.357  1.00  0.00           O  \\nATOM     66  CB  VAL A   9       0.466   8.121  18.271  1.00  0.00           C  \\nATOM     67  CG1 VAL A   9       0.771   6.677  17.903  1.00  0.00           C  \\nATOM     68  CG2 VAL A   9      -0.173   8.853  17.100  1.00  0.00           C  \\nATOM     69  N   LYS A  10      -0.213   6.376  21.292  1.00  0.00           N  \\nATOM     70  CA  LYS A  10       0.357   5.636  22.412  1.00  0.00           C  \\nATOM     71  C   LYS A  10       0.368   6.479  23.681  1.00  0.00           C  \\nATOM     72  O   LYS A  10       1.253   6.335  24.525  1.00  0.00           O  \\nATOM     73  CB  LYS A  10       1.760   5.124  22.085  1.00  0.00           C  \\nATOM     74  CG  LYS A  10       1.810   4.109  20.950  1.00  0.00           C  \\nATOM     75  CD  LYS A  10       3.235   3.649  20.682  1.00  0.00           C  \\nATOM     76  CE  LYS A  10       3.286   2.632  19.552  1.00  0.00           C  \\nATOM     77  NZ  LYS A  10       4.673   2.166  19.284  1.00  0.00           N  \\nATOM     78  N   GLY A  11      -0.200   7.602  23.959  1.00  0.00           N  \\nATOM     79  CA  GLY A  11      -0.096   8.416  25.165  1.00  0.00           C  \\nATOM     80  C   GLY A  11       0.750   9.659  24.919  1.00  0.00           C  \\nATOM     81  O   GLY A  11       0.860  10.527  25.784  1.00  0.00           O  \\nATOM     82  N   LYS A  12       1.437   9.779  23.691  1.00  0.00           N  \\nATOM     83  CA  LYS A  12       2.315  10.879  23.311  1.00  0.00           C  \\nATOM     84  C   LYS A  12       1.661  11.769  22.261  1.00  0.00           C  \\nATOM     85  O   LYS A  12       0.945  11.286  21.384  1.00  0.00           O  \\nATOM     86  CB  LYS A  12       3.648  10.334  22.795  1.00  0.00           C  \\nATOM     87  CG  LYS A  12       4.453   9.575  23.841  1.00  0.00           C  \\nATOM     88  CD  LYS A  12       5.816   9.169  23.302  1.00  0.00           C  \\nATOM     89  CE  LYS A  12       6.634   8.437  24.356  1.00  0.00           C  \\nATOM     90  NZ  LYS A  12       8.029   8.185  23.902  1.00  0.00           N  \\nATOM     91  N   THR A  13       1.833  13.155  22.454  1.00  0.00           N  \\nATOM     92  CA  THR A  13       1.301  14.163  21.544  1.00  0.00           C  \\nATOM     93  C   THR A  13       2.295  14.482  20.435  1.00  0.00           C  \\nATOM     94  O   THR A  13       3.457  14.791  20.699  1.00  0.00           O  \\nATOM     95  CB  THR A  13       0.949  15.447  22.318  1.00  0.00           C  \\nATOM     96  CG2 THR A  13       0.274  16.461  21.407  1.00  0.00           C  \\nATOM     97  OG1 THR A  13       0.061  15.111  23.393  1.00  0.00           O  \\nATOM     98  N   TYR A  14       1.884  14.208  19.145  1.00  0.00           N  \\nATOM     99  CA  TYR A  14       2.624  14.681  17.981  1.00  0.00           C  \\nATOM    100  C   TYR A  14       1.895  15.829  17.294  1.00  0.00           C  \\nATOM    101  O   TYR A  14       0.666  15.892  17.306  1.00  0.00           O  \\nATOM    102  CB  TYR A  14       2.825  13.557  16.962  1.00  0.00           C  \\nATOM    103  CG  TYR A  14       3.769  12.465  17.416  1.00  0.00           C  \\nATOM    104  CD1 TYR A  14       3.271  11.339  18.054  1.00  0.00           C  \\nATOM    105  CD2 TYR A  14       5.132  12.591  17.195  1.00  0.00           C  \\nATOM    106  CE1 TYR A  14       4.133  10.342  18.469  1.00  0.00           C  \\nATOM    107  CE2 TYR A  14       5.994  11.595  17.610  1.00  0.00           C  \\nATOM    108  OH  TYR A  14       6.353   9.478  18.660  1.00  0.00           O  \\nATOM    109  CZ  TYR A  14       5.494  10.471  18.247  1.00  0.00           C  \\nATOM    110  N   LYS A  15       2.661  16.906  16.992  1.00  0.00           N  \\nATOM    111  CA  LYS A  15       2.164  18.036  16.217  1.00  0.00           C  \\nATOM    112  C   LYS A  15       2.503  17.882  14.740  1.00  0.00           C  \\nATOM    113  O   LYS A  15       3.634  17.552  14.384  1.00  0.00           O  \\nATOM    114  CB  LYS A  15       2.743  19.350  16.746  1.00  0.00           C  \\nATOM    115  CG  LYS A  15       2.259  19.781  18.124  1.00  0.00           C  \\nATOM    116  CD  LYS A  15       2.865  21.115  18.531  1.00  0.00           C  \\nATOM    117  CE  LYS A  15       2.401  21.536  19.917  1.00  0.00           C  \\nATOM    118  NZ  LYS A  15       2.865  22.906  20.268  1.00  0.00           N  \\nATOM    119  N   LEU A  16       1.481  17.838  13.875  1.00  0.00           N  \\nATOM    120  CA  LEU A  16       1.673  17.964  12.435  1.00  0.00           C  \\nATOM    121  C   LEU A  16       1.420  19.394  11.968  1.00  0.00           C  \\nATOM    122  O   LEU A  16       0.405  20.000  12.313  1.00  0.00           O  \\nATOM    123  CB  LEU A  16       0.739  17.003  11.689  1.00  0.00           C  \\nATOM    124  CG  LEU A  16       0.906  15.497  11.932  1.00  0.00           C  \\nATOM    125  CD1 LEU A  16      -0.279  14.752  11.333  1.00  0.00           C  \\nATOM    126  CD2 LEU A  16       2.216  15.026  11.318  1.00  0.00           C  \\nATOM    127  N   ARG A  17       2.462  20.000  11.352  1.00  0.00           N  \\nATOM    128  CA  ARG A  17       2.333  21.293  10.691  1.00  0.00           C  \\nATOM    129  C   ARG A  17       2.154  21.128   9.188  1.00  0.00           C  \\nATOM    130  O   ARG A  17       2.906  20.400   8.539  1.00  0.00           O  \\nATOM    131  CB  ARG A  17       3.554  22.162  10.957  1.00  0.00           C  \\nATOM    132  CG  ARG A  17       3.681  22.775  12.343  1.00  0.00           C  \\nATOM    133  CD  ARG A  17       4.927  23.572  12.479  1.00  0.00           C  \\nATOM    134  NE  ARG A  17       5.052  24.161  13.802  1.00  0.00           N  \\nATOM    135  NH1 ARG A  17       6.941  25.383  13.301  1.00  0.00           N  \\nATOM    136  NH2 ARG A  17       6.048  25.504  15.398  1.00  0.00           N  \\nATOM    137  CZ  ARG A  17       6.022  25.022  14.168  1.00  0.00           C  \\nATOM    138  N   MET A  18       1.007  21.586   8.632  1.00  0.00           N  \\nATOM    139  CA  MET A  18       0.768  21.651   7.196  1.00  0.00           C  \\nATOM    140  C   MET A  18       0.809  23.090   6.695  1.00  0.00           C  \\nATOM    141  O   MET A  18       0.194  23.979   7.282  1.00  0.00           O  \\nATOM    142  CB  MET A  18      -0.592  21.040   6.862  1.00  0.00           C  \\nATOM    143  CG  MET A  18      -0.684  19.526   6.983  1.00  0.00           C  \\nATOM    144  SD  MET A  18      -2.363  18.910   6.752  1.00  0.00           S  \\nATOM    145  CE  MET A  18      -2.619  19.268   5.017  1.00  0.00           C  \\nATOM    146  N   GLN A  19       1.723  23.358   5.691  1.00  0.00           N  \\nATOM    147  CA  GLN A  19       1.881  24.692   5.123  1.00  0.00           C  \\nATOM    148  C   GLN A  19       1.662  24.678   3.616  1.00  0.00           C  \\nATOM    149  O   GLN A  19       2.186  23.817   2.910  1.00  0.00           O  \\nATOM    150  CB  GLN A  19       3.276  25.231   5.449  1.00  0.00           C  \\nATOM    151  CG  GLN A  19       3.541  26.680   5.079  1.00  0.00           C  \\nATOM    152  CD  GLN A  19       4.914  27.149   5.523  1.00  0.00           C  \\nATOM    153  NE2 GLN A  19       4.987  28.380   6.018  1.00  0.00           N  \\nATOM    154  OE1 GLN A  19       5.900  26.413   5.421  1.00  0.00           O  \\nATOM    155  N   LYS A  20       0.712  25.583   3.136  1.00  0.00           N  \\nATOM    156  CA  LYS A  20       0.531  25.812   1.707  1.00  0.00           C  \\nATOM    157  C   LYS A  20       1.397  26.967   1.221  1.00  0.00           C  \\nATOM    158  O   LYS A  20       1.408  28.043   1.819  1.00  0.00           O  \\nATOM    159  CB  LYS A  20      -0.950  26.088   1.441  1.00  0.00           C  \\nATOM    160  CG  LYS A  20      -1.363  26.189  -0.021  1.00  0.00           C  \\nATOM    161  CD  LYS A  20      -2.853  26.466  -0.156  1.00  0.00           C  \\nATOM    162  CE  LYS A  20      -3.231  26.775  -1.597  1.00  0.00           C  \\nATOM    163  NZ  LYS A  20      -4.663  27.159  -1.726  1.00  0.00           N  \\nATOM    164  N   SER A  21       2.203  26.709   0.173  1.00  0.00           N  \\nATOM    165  CA  SER A  21       3.062  27.731  -0.414  1.00  0.00           C  \\nATOM    166  C   SER A  21       2.372  28.427  -1.580  1.00  0.00           C  \\nATOM    167  O   SER A  21       1.263  28.059  -1.966  1.00  0.00           O  \\nATOM    168  CB  SER A  21       4.376  27.120  -0.859  1.00  0.00           C  \\nATOM    169  OG  SER A  21       4.221  26.288  -1.976  1.00  0.00           O  \\nATOM    170  N   GLU A  22       2.997  29.489  -2.111  1.00  0.00           N  \\nATOM    171  CA  GLU A  22       2.510  30.323  -3.204  1.00  0.00           C  \\nATOM    172  C   GLU A  22       2.338  29.511  -4.481  1.00  0.00           C  \\nATOM    173  O   GLU A  22       1.584  29.896  -5.376  1.00  0.00           O  \\nATOM    174  CB  GLU A  22       3.448  31.510  -3.437  1.00  0.00           C  \\nATOM    175  CG  GLU A  22       3.473  32.563  -2.339  1.00  0.00           C  \\nATOM    176  CD  GLU A  22       4.445  33.676  -2.618  1.00  0.00           C  \\nATOM    177  OE1 GLU A  22       4.617  34.516  -1.768  1.00  0.00           O  \\nATOM    178  OE2 GLU A  22       5.017  33.685  -3.683  1.00  0.00           O  \\nATOM    179  N   ASN A  23       3.009  28.256  -4.653  1.00  0.00           N  \\nATOM    180  CA  ASN A  23       2.956  27.458  -5.872  1.00  0.00           C  \\nATOM    181  C   ASN A  23       1.890  26.374  -5.775  1.00  0.00           C  \\nATOM    182  O   ASN A  23       1.688  25.602  -6.712  1.00  0.00           O  \\nATOM    183  CB  ASN A  23       4.308  26.844  -6.185  1.00  0.00           C  \\nATOM    184  CG  ASN A  23       5.400  27.833  -6.487  1.00  0.00           C  \\nATOM    185  ND2 ASN A  23       6.623  27.449  -6.226  1.00  0.00           N  \\nATOM    186  OD1 ASN A  23       5.134  28.946  -6.956  1.00  0.00           O  \\nATOM    187  N   GLY A  24       1.243  26.158  -4.630  1.00  0.00           N  \\nATOM    188  CA  GLY A  24       0.142  25.215  -4.471  1.00  0.00           C  \\nATOM    189  C   GLY A  24       0.629  23.895  -3.885  1.00  0.00           C  \\nATOM    190  O   GLY A  24      -0.120  22.920  -3.823  1.00  0.00           O  \\nATOM    191  N   THR A  25       1.979  23.838  -3.388  1.00  0.00           N  \\nATOM    192  CA  THR A  25       2.512  22.647  -2.737  1.00  0.00           C  \\nATOM    193  C   THR A  25       2.224  22.661  -1.241  1.00  0.00           C  \\nATOM    194  O   THR A  25       2.231  23.717  -0.608  1.00  0.00           O  \\nATOM    195  CB  THR A  25       4.031  22.547  -2.969  1.00  0.00           C  \\nATOM    196  CG2 THR A  25       4.566  21.196  -2.519  1.00  0.00           C  \\nATOM    197  OG1 THR A  25       4.286  22.716  -4.369  1.00  0.00           O  \\nATOM    198  N   TYR A  26       1.629  21.521  -0.725  1.00  0.00           N  \\nATOM    199  CA  TYR A  26       1.413  21.331   0.704  1.00  0.00           C  \\nATOM    200  C   TYR A  26       2.550  20.537   1.333  1.00  0.00           C  \\nATOM    201  O   TYR A  26       3.001  19.535   0.779  1.00  0.00           O  \\nATOM    202  CB  TYR A  26       0.096  20.598   0.967  1.00  0.00           C  \\nATOM    203  CG  TYR A  26      -1.141  21.409   0.649  1.00  0.00           C  \\nATOM    204  CD1 TYR A  26      -1.708  21.342  -0.614  1.00  0.00           C  \\nATOM    205  CD2 TYR A  26      -1.706  22.221   1.622  1.00  0.00           C  \\nATOM    206  CE1 TYR A  26      -2.837  22.084  -0.905  1.00  0.00           C  \\nATOM    207  CE2 TYR A  26      -2.835  22.962   1.331  1.00  0.00           C  \\nATOM    208  OH  TYR A  26      -4.524  23.632  -0.221  1.00  0.00           O  \\nATOM    209  CZ  TYR A  26      -3.400  22.893   0.068  1.00  0.00           C  \\nATOM    210  N   SER A  27       3.225  21.151   2.353  1.00  0.00           N  \\nATOM    211  CA  SER A  27       4.223  20.458   3.158  1.00  0.00           C  \\nATOM    212  C   SER A  27       3.651  20.044   4.508  1.00  0.00           C  \\nATOM    213  O   SER A  27       2.903  20.795   5.133  1.00  0.00           O  \\nATOM    214  CB  SER A  27       5.432  21.350   3.363  1.00  0.00           C  \\nATOM    215  OG  SER A  27       5.980  21.791   2.151  1.00  0.00           O  \\nATOM    216  N   TRP A  28       3.674  18.716   4.788  1.00  0.00           N  \\nATOM    217  CA  TRP A  28       3.292  18.126   6.065  1.00  0.00           C  \\nATOM    218  C   TRP A  28       4.515  17.651   6.839  1.00  0.00           C  \\nATOM    219  O   TRP A  28       5.403  17.007   6.281  1.00  0.00           O  \\nATOM    220  CB  TRP A  28       2.372  16.924   5.843  1.00  0.00           C  \\nATOM    221  CG  TRP A  28       0.968  17.212   5.405  1.00  0.00           C  \\nATOM    222  CD1 TRP A  28       0.197  16.445   4.584  1.00  0.00           C  \\nATOM    223  CD2 TRP A  28       0.156  18.355   5.766  1.00  0.00           C  \\nATOM    224  CE2 TRP A  28      -1.076  18.198   5.126  1.00  0.00           C  \\nATOM    225  CE3 TRP A  28       0.372  19.481   6.570  1.00  0.00           C  \\nATOM    226  NE1 TRP A  28      -1.033  17.029   4.409  1.00  0.00           N  \\nATOM    227  CH2 TRP A  28      -1.853  20.239   6.066  1.00  0.00           C  \\nATOM    228  CZ2 TRP A  28      -2.096  19.127   5.260  1.00  0.00           C  \\nATOM    229  CZ3 TRP A  28      -0.651  20.412   6.705  1.00  0.00           C  \\nATOM    230  N   THR A  29       4.674  18.155   8.108  1.00  0.00           N  \\nATOM    231  CA  THR A  29       5.765  17.739   8.981  1.00  0.00           C  \\nATOM    232  C   THR A  29       5.237  17.197  10.303  1.00  0.00           C  \\nATOM    233  O   THR A  29       4.362  17.798  10.926  1.00  0.00           O  \\nATOM    234  CB  THR A  29       6.708  18.928   9.247  1.00  0.00           C  \\nATOM    235  CG2 THR A  29       7.927  18.480  10.038  1.00  0.00           C  \\nATOM    236  OG1 THR A  29       7.132  19.483   7.995  1.00  0.00           O  \\nATOM    237  N   ARG A  30       5.621  15.925  10.635  1.00  0.00           N  \\nATOM    238  CA  ARG A  30       5.375  15.317  11.937  1.00  0.00           C  \\nATOM    239  C   ARG A  30       6.478  15.667  12.927  1.00  0.00           C  \\nATOM    240  O   ARG A  30       7.660  15.453  12.655  1.00  0.00           O  \\nATOM    241  CB  ARG A  30       5.262  13.810  11.760  1.00  0.00           C  \\nATOM    242  CG  ARG A  30       4.796  13.015  12.970  1.00  0.00           C  \\nATOM    243  CD  ARG A  30       4.759  11.557  12.687  1.00  0.00           C  \\nATOM    244  NE  ARG A  30       4.620  10.772  13.904  1.00  0.00           N  \\nATOM    245  NH1 ARG A  30       4.954   8.739  12.871  1.00  0.00           N  \\nATOM    246  NH2 ARG A  30       4.575   8.808  15.121  1.00  0.00           N  \\nATOM    247  CZ  ARG A  30       4.717   9.430  13.964  1.00  0.00           C  \\nATOM    248  N   LEU A  31       6.077  16.368  14.026  1.00  0.00           N  \\nATOM    249  CA  LEU A  31       7.012  16.833  15.044  1.00  0.00           C  \\nATOM    250  C   LEU A  31       6.911  15.989  16.311  1.00  0.00           C  \\nATOM    251  O   LEU A  31       5.816  15.625  16.740  1.00  0.00           O  \\nATOM    252  CB  LEU A  31       6.738  18.302  15.387  1.00  0.00           C  \\nATOM    253  CG  LEU A  31       6.876  19.354  14.279  1.00  0.00           C  \\nATOM    254  CD1 LEU A  31       6.304  20.680  14.763  1.00  0.00           C  \\nATOM    255  CD2 LEU A  31       8.341  19.498  13.895  1.00  0.00           C  \\nATOM    256  N   SER A  32       8.116  15.602  16.895  1.00  0.00           N  \\nATOM    257  CA  SER A  32       8.168  14.862  18.150  1.00  0.00           C  \\nATOM    258  C   SER A  32       7.725  15.731  19.321  1.00  0.00           C  \\nATOM    259  O   SER A  32       7.487  16.928  19.162  1.00  0.00           O  \\nATOM    260  CB  SER A  32       9.567  14.322  18.372  1.00  0.00           C  \\nATOM    261  OG  SER A  32      10.459  15.326  18.773  1.00  0.00           O  \\nATOM    262  N   PRO A  33       7.694  15.160  20.610  1.00  0.00           N  \\nATOM    263  CA  PRO A  33       7.102  15.827  21.763  1.00  0.00           C  \\nATOM    264  C   PRO A  33       7.864  17.098  22.115  1.00  0.00           C  \\nATOM    265  O   PRO A  33       7.299  18.038  22.673  1.00  0.00           O  \\nATOM    266  CB  PRO A  33       7.181  14.807  22.903  1.00  0.00           C  \\nATOM    267  CG  PRO A  33       7.192  13.465  22.254  1.00  0.00           C  \\nATOM    268  CD  PRO A  33       7.905  13.689  20.946  1.00  0.00           C  \\nATOM    269  N   ARG A  34       9.213  17.213  21.914  1.00  0.00           N  \\nATOM    270  CA  ARG A  34      10.066  18.350  22.240  1.00  0.00           C  \\nATOM    271  C   ARG A  34      10.065  19.379  21.116  1.00  0.00           C  \\nATOM    272  O   ARG A  34      10.578  20.486  21.276  1.00  0.00           O  \\nATOM    273  CB  ARG A  34      11.487  17.892  22.531  1.00  0.00           C  \\nATOM    274  CG  ARG A  34      11.617  16.998  23.754  1.00  0.00           C  \\nATOM    275  CD  ARG A  34      13.024  16.581  23.983  1.00  0.00           C  \\nATOM    276  NE  ARG A  34      13.140  15.652  25.095  1.00  0.00           N  \\nATOM    277  NH1 ARG A  34      15.434  15.466  24.964  1.00  0.00           N  \\nATOM    278  NH2 ARG A  34      14.302  14.297  26.564  1.00  0.00           N  \\nATOM    279  CZ  ARG A  34      14.302  15.136  25.543  1.00  0.00           C  \\nATOM    280  N   GLY A  35       9.526  19.073  19.877  1.00  0.00           N  \\nATOM    281  CA  GLY A  35       9.338  20.043  18.805  1.00  0.00           C  \\nATOM    282  C   GLY A  35      10.338  19.818  17.678  1.00  0.00           C  \\nATOM    283  O   GLY A  35      10.444  20.630  16.758  1.00  0.00           O  \\nATOM    284  N   GLU A  36      11.100  18.637  17.636  1.00  0.00           N  \\nATOM    285  CA  GLU A  36      12.018  18.307  16.552  1.00  0.00           C  \\nATOM    286  C   GLU A  36      11.323  17.489  15.471  1.00  0.00           C  \\nATOM    287  O   GLU A  36      10.461  16.660  15.765  1.00  0.00           O  \\nATOM    288  CB  GLU A  36      13.222  17.542  17.106  1.00  0.00           C  \\nATOM    289  CG  GLU A  36      14.086  18.332  18.079  1.00  0.00           C  \\nATOM    290  CD  GLU A  36      15.161  17.498  18.717  1.00  0.00           C  \\nATOM    291  OE1 GLU A  36      16.067  18.061  19.283  1.00  0.00           O  \\nATOM    292  OE2 GLU A  36      15.076  16.295  18.640  1.00  0.00           O  \\nATOM    293  N   PRO A  37      11.733  17.703  14.136  1.00  0.00           N  \\nATOM    294  CA  PRO A  37      11.143  16.943  13.041  1.00  0.00           C  \\nATOM    295  C   PRO A  37      11.443  15.456  13.179  1.00  0.00           C  \\nATOM    296  O   PRO A  37      12.589  15.061  13.392  1.00  0.00           O  \\nATOM    297  CB  PRO A  37      11.787  17.519  11.776  1.00  0.00           C  \\nATOM    298  CG  PRO A  37      12.333  18.864  12.114  1.00  0.00           C  \\nATOM    299  CD  PRO A  37      12.762  18.743  13.552  1.00  0.00           C  \\nATOM    300  N   LEU A  38      10.410  14.573  13.557  1.00  0.00           N  \\nATOM    301  CA  LEU A  38      10.504  13.120  13.625  1.00  0.00           C  \\nATOM    302  C   LEU A  38      10.678  12.513  12.237  1.00  0.00           C  \\nATOM    303  O   LEU A  38      11.483  11.602  12.043  1.00  0.00           O  \\nATOM    304  CB  LEU A  38       9.261  12.536  14.310  1.00  0.00           C  \\nATOM    305  CG  LEU A  38       9.059  12.827  15.802  1.00  0.00           C  \\nATOM    306  CD1 LEU A  38       7.665  12.378  16.223  1.00  0.00           C  \\nATOM    307  CD2 LEU A  38      10.131  12.110  16.610  1.00  0.00           C  \\nATOM    308  N   ALA A  39       9.609  12.539  11.526  1.00  0.00           N  \\nATOM    309  CA  ALA A  39       9.726  12.306  10.091  1.00  0.00           C  \\nATOM    310  C   ALA A  39       9.982  13.606   9.341  1.00  0.00           C  \\nATOM    311  O   ALA A  39       9.654  14.689   9.826  1.00  0.00           O  \\nATOM    312  CB  ALA A  39       8.457  11.642   9.576  1.00  0.00           C  \\nATOM    313  N   GLN A  40      10.653  13.538   8.246  1.00  0.00           N  \\nATOM    314  CA  GLN A  40      10.967  14.660   7.370  1.00  0.00           C  \\nATOM    315  C   GLN A  40       9.707  15.226   6.728  1.00  0.00           C  \\nATOM    316  O   GLN A  40       8.710  14.523   6.568  1.00  0.00           O  \\nATOM    317  CB  GLN A  40      11.985  14.188   6.329  1.00  0.00           C  \\nATOM    318  CG  GLN A  40      13.353  13.742   6.816  1.00  0.00           C  \\nATOM    319  CD  GLN A  40      14.038  14.798   7.663  1.00  0.00           C  \\nATOM    320  NE2 GLN A  40      15.152  14.427   8.283  1.00  0.00           N  \\nATOM    321  OE1 GLN A  40      13.570  15.936   7.760  1.00  0.00           O  \\nATOM    322  N   PRO A  41       9.658  16.589   6.342  1.00  0.00           N  \\nATOM    323  CA  PRO A  41       8.510  17.227   5.709  1.00  0.00           C  \\nATOM    324  C   PRO A  41       8.231  16.624   4.338  1.00  0.00           C  \\nATOM    325  O   PRO A  41       9.153  16.346   3.572  1.00  0.00           O  \\nATOM    326  CB  PRO A  41       8.757  18.735   5.601  1.00  0.00           C  \\nATOM    327  CG  PRO A  41       9.898  19.063   6.503  1.00  0.00           C  \\nATOM    328  CD  PRO A  41      10.695  17.789   6.576  1.00  0.00           C  \\nATOM    329  N   VAL A  42       6.857  16.158   4.127  1.00  0.00           N  \\nATOM    330  CA  VAL A  42       6.414  15.748   2.799  1.00  0.00           C  \\nATOM    331  C   VAL A  42       5.846  16.927   2.020  1.00  0.00           C  \\nATOM    332  O   VAL A  42       5.122  17.757   2.570  1.00  0.00           O  \\nATOM    333  CB  VAL A  42       5.426  14.570   2.893  1.00  0.00           C  \\nATOM    334  CG1 VAL A  42       4.932  14.056   1.549  1.00  0.00           C  \\nATOM    335  CG2 VAL A  42       6.103  13.458   3.680  1.00  0.00           C  \\nATOM    336  N   SER A  43       6.450  17.337   0.895  1.00  0.00           N  \\nATOM    337  CA  SER A  43       5.851  18.286  -0.036  1.00  0.00           C  \\nATOM    338  C   SER A  43       5.024  17.570  -1.096  1.00  0.00           C  \\nATOM    339  O   SER A  43       5.513  16.663  -1.770  1.00  0.00           O  \\nATOM    340  CB  SER A  43       6.939  19.118  -0.684  1.00  0.00           C  \\nATOM    341  OG  SER A  43       7.713  19.790   0.272  1.00  0.00           O  \\nATOM    342  N   VAL A  44       3.647  17.680  -0.996  1.00  0.00           N  \\nATOM    343  CA  VAL A  44       2.723  17.066  -1.942  1.00  0.00           C  \\nATOM    344  C   VAL A  44       2.194  18.089  -2.939  1.00  0.00           C  \\nATOM    345  O   VAL A  44       1.736  19.166  -2.555  1.00  0.00           O  \\nATOM    346  CB  VAL A  44       1.588  16.334  -1.201  1.00  0.00           C  \\nATOM    347  CG1 VAL A  44       0.614  15.628  -2.133  1.00  0.00           C  \\nATOM    348  CG2 VAL A  44       2.212  15.348  -0.226  1.00  0.00           C  \\nATOM    349  N   ALA A  45       2.481  17.911  -4.240  1.00  0.00           N  \\nATOM    350  CA  ALA A  45       1.874  18.726  -5.285  1.00  0.00           C  \\nATOM    351  C   ALA A  45       0.601  18.082  -5.817  1.00  0.00           C  \\nATOM    352  O   ALA A  45       0.543  16.868  -6.013  1.00  0.00           O  \\nATOM    353  CB  ALA A  45       2.882  18.939  -6.406  1.00  0.00           C  \\nATOM    354  N   PRO A  46      -0.508  18.855  -5.871  1.00  0.00           N  \\nATOM    355  CA  PRO A  46      -1.818  18.424  -6.343  1.00  0.00           C  \\nATOM    356  C   PRO A  46      -1.743  17.894  -7.769  1.00  0.00           C  \\nATOM    357  O   PRO A  46      -1.142  18.520  -8.643  1.00  0.00           O  \\nATOM    358  CB  PRO A  46      -2.855  19.536  -6.160  1.00  0.00           C  \\nATOM    359  CG  PRO A  46      -2.146  20.838  -6.005  1.00  0.00           C  \\nATOM    360  CD  PRO A  46      -0.717  20.456  -5.727  1.00  0.00           C  \\nATOM    361  N   THR A  47      -2.155  16.605  -8.074  1.00  0.00           N  \\nATOM    362  CA  THR A  47      -2.320  16.103  -9.433  1.00  0.00           C  \\nATOM    363  C   THR A  47      -3.701  16.439  -9.981  1.00  0.00           C  \\nATOM    364  O   THR A  47      -4.718  16.101  -9.376  1.00  0.00           O  \\nATOM    365  CB  THR A  47      -2.105  14.578  -9.443  1.00  0.00           C  \\nATOM    366  CG2 THR A  47      -2.038  14.028 -10.860  1.00  0.00           C  \\nATOM    367  OG1 THR A  47      -0.862  14.322  -8.776  1.00  0.00           O  \\nATOM    368  N   PHE A  48      -3.836  17.455 -10.905  1.00  0.00           N  \\nATOM    369  CA  PHE A  48      -5.094  17.831 -11.537  1.00  0.00           C  \\nATOM    370  C   PHE A  48      -5.427  16.902 -12.698  1.00  0.00           C  \\nATOM    371  O   PHE A  48      -4.578  16.622 -13.544  1.00  0.00           O  \\nATOM    372  CB  PHE A  48      -5.076  19.277 -12.035  1.00  0.00           C  \\nATOM    373  CG  PHE A  48      -5.115  20.345 -10.980  1.00  0.00           C  \\nATOM    374  CD1 PHE A  48      -3.974  21.066 -10.659  1.00  0.00           C  \\nATOM    375  CD2 PHE A  48      -6.292  20.632 -10.306  1.00  0.00           C  \\nATOM    376  CE1 PHE A  48      -4.009  22.049  -9.688  1.00  0.00           C  \\nATOM    377  CE2 PHE A  48      -6.330  21.614  -9.335  1.00  0.00           C  \\nATOM    378  CZ  PHE A  48      -5.188  22.323  -9.026  1.00  0.00           C  \\nATOM    379  N   ILE A  49      -6.471  16.042 -12.657  1.00  0.00           N  \\nATOM    380  CA  ILE A  49      -6.930  15.276 -13.809  1.00  0.00           C  \\nATOM    381  C   ILE A  49      -7.740  16.146 -14.762  1.00  0.00           C  \\nATOM    382  O   ILE A  49      -8.335  17.142 -14.354  1.00  0.00           O  \\nATOM    383  CB  ILE A  49      -7.705  14.022 -13.364  1.00  0.00           C  \\nATOM    384  CG1 ILE A  49      -6.818  13.109 -12.514  1.00  0.00           C  \\nATOM    385  CG2 ILE A  49      -8.239  13.274 -14.576  1.00  0.00           C  \\nATOM    386  CD1 ILE A  49      -7.577  12.017 -11.795  1.00  0.00           C  \\nTER     387      ILE A  49                                                       \\nATOM    387  N   MET B  50      -6.872   1.518  -8.688  1.00  0.00           N  \\nATOM    388  CA  MET B  50      -7.027   0.912  -7.371  1.00  0.00           C  \\nATOM    389  C   MET B  50      -7.008  -0.608  -7.457  1.00  0.00           C  \\nATOM    390  O   MET B  50      -7.864  -1.214  -8.102  1.00  0.00           O  \\nATOM    391  CB  MET B  50      -8.324   1.403  -6.729  1.00  0.00           C  \\nATOM    392  CG  MET B  50      -8.580   0.863  -5.330  1.00  0.00           C  \\nATOM    393  SD  MET B  50     -10.074   1.544  -4.583  1.00  0.00           S  \\nATOM    394  CE  MET B  50     -11.338   0.736  -5.560  1.00  0.00           C  \\nATOM    395  N   LEU B  51      -6.022  -1.309  -6.855  1.00  0.00           N  \\nATOM    396  CA  LEU B  51      -6.001  -2.766  -6.819  1.00  0.00           C  \\nATOM    397  C   LEU B  51      -7.024  -3.309  -5.827  1.00  0.00           C  \\nATOM    398  O   LEU B  51      -7.098  -2.853  -4.686  1.00  0.00           O  \\nATOM    399  CB  LEU B  51      -4.596  -3.261  -6.451  1.00  0.00           C  \\nATOM    400  CG  LEU B  51      -4.395  -4.778  -6.345  1.00  0.00           C  \\nATOM    401  CD1 LEU B  51      -4.597  -5.414  -7.714  1.00  0.00           C  \\nATOM    402  CD2 LEU B  51      -3.003  -5.069  -5.806  1.00  0.00           C  \\nATOM    403  N   LYS B  52      -7.917  -4.231  -6.277  1.00  0.00           N  \\nATOM    404  CA  LYS B  52      -8.845  -4.927  -5.394  1.00  0.00           C  \\nATOM    405  C   LYS B  52      -8.263  -6.252  -4.918  1.00  0.00           C  \\nATOM    406  O   LYS B  52      -7.997  -7.148  -5.719  1.00  0.00           O  \\nATOM    407  CB  LYS B  52     -10.177  -5.149  -6.114  1.00  0.00           C  \\nATOM    408  CG  LYS B  52     -10.900  -3.865  -6.499  1.00  0.00           C  \\nATOM    409  CD  LYS B  52     -12.147  -4.158  -7.319  1.00  0.00           C  \\nATOM    410  CE  LYS B  52     -13.218  -4.836  -6.477  1.00  0.00           C  \\nATOM    411  NZ  LYS B  52     -13.923  -3.871  -5.591  1.00  0.00           N  \\nATOM    412  N   ILE B  53      -7.925  -6.341  -3.627  1.00  0.00           N  \\nATOM    413  CA  ILE B  53      -7.369  -7.532  -2.996  1.00  0.00           C  \\nATOM    414  C   ILE B  53      -8.450  -8.336  -2.288  1.00  0.00           C  \\nATOM    415  O   ILE B  53      -9.212  -7.798  -1.484  1.00  0.00           O  \\nATOM    416  CB  ILE B  53      -6.255  -7.149  -2.005  1.00  0.00           C  \\nATOM    417  CG1 ILE B  53      -5.189  -6.300  -2.703  1.00  0.00           C  \\nATOM    418  CG2 ILE B  53      -5.631  -8.396  -1.396  1.00  0.00           C  \\nATOM    419  CD1 ILE B  53      -4.105  -5.797  -1.777  1.00  0.00           C  \\nATOM    420  N   GLN B  54      -8.586  -9.614  -2.653  1.00  0.00           N  \\nATOM    421  CA  GLN B  54      -9.527 -10.553  -2.054  1.00  0.00           C  \\nATOM    422  C   GLN B  54      -8.800 -11.621  -1.247  1.00  0.00           C  \\nATOM    423  O   GLN B  54      -8.237 -12.561  -1.809  1.00  0.00           O  \\nATOM    424  CB  GLN B  54     -10.387 -11.189  -3.149  1.00  0.00           C  \\nATOM    425  CG  GLN B  54     -11.215 -10.198  -3.949  1.00  0.00           C  \\nATOM    426  CD  GLN B  54     -12.087 -10.877  -4.988  1.00  0.00           C  \\nATOM    427  NE2 GLN B  54     -12.866 -10.085  -5.715  1.00  0.00           N  \\nATOM    428  OE1 GLN B  54     -12.061 -12.102  -5.135  1.00  0.00           O  \\nATOM    429  N   ALA B  55      -8.676 -11.409   0.063  1.00  0.00           N  \\nATOM    430  CA  ALA B  55      -7.993 -12.297   0.996  1.00  0.00           C  \\nATOM    431  C   ALA B  55      -8.975 -12.927   1.975  1.00  0.00           C  \\nATOM    432  O   ALA B  55     -10.113 -12.477   2.104  1.00  0.00           O  \\nATOM    433  CB  ALA B  55      -6.902 -11.532   1.730  1.00  0.00           C  \\nATOM    434  N   TYR B  56      -8.498 -14.001   2.744  1.00  0.00           N  \\nATOM    435  CA  TYR B  56      -9.426 -14.718   3.610  1.00  0.00           C  \\nATOM    436  C   TYR B  56      -9.069 -14.526   5.078  1.00  0.00           C  \\nATOM    437  O   TYR B  56      -7.894 -14.427   5.434  1.00  0.00           O  \\nATOM    438  CB  TYR B  56      -9.446 -16.210   3.270  1.00  0.00           C  \\nATOM    439  CG  TYR B  56     -10.105 -16.535   1.948  1.00  0.00           C  \\nATOM    440  CD1 TYR B  56     -11.421 -16.973   1.918  1.00  0.00           C  \\nATOM    441  CD2 TYR B  56      -9.394 -16.395   0.766  1.00  0.00           C  \\nATOM    442  CE1 TYR B  56     -12.023 -17.269   0.710  1.00  0.00           C  \\nATOM    443  CE2 TYR B  56      -9.996 -16.692  -0.442  1.00  0.00           C  \\nATOM    444  OH  TYR B  56     -11.910 -17.424  -1.672  1.00  0.00           O  \\nATOM    445  CZ  TYR B  56     -11.310 -17.128  -0.469  1.00  0.00           C  \\nATOM    446  N   PHE B  57     -10.107 -14.507   5.959  1.00  0.00           N  \\nATOM    447  CA  PHE B  57      -9.991 -14.447   7.411  1.00  0.00           C  \\nATOM    448  C   PHE B  57      -8.949 -15.434   7.922  1.00  0.00           C  \\nATOM    449  O   PHE B  57      -8.898 -16.582   7.480  1.00  0.00           O  \\nATOM    450  CB  PHE B  57     -11.345 -14.744   8.057  1.00  0.00           C  \\nATOM    451  CG  PHE B  57     -11.373 -14.526   9.543  1.00  0.00           C  \\nATOM    452  CD1 PHE B  57     -11.201 -15.589  10.418  1.00  0.00           C  \\nATOM    453  CD2 PHE B  57     -11.570 -13.259  10.070  1.00  0.00           C  \\nATOM    454  CE1 PHE B  57     -11.226 -15.390  11.785  1.00  0.00           C  \\nATOM    455  CE2 PHE B  57     -11.595 -13.057  11.436  1.00  0.00           C  \\nATOM    456  CZ  PHE B  57     -11.423 -14.123  12.294  1.00  0.00           C  \\nATOM    457  N   ASN B  58      -7.921 -14.952   8.721  1.00  0.00           N  \\nATOM    458  CA  ASN B  58      -6.832 -15.646   9.397  1.00  0.00           C  \\nATOM    459  C   ASN B  58      -5.701 -15.971   8.430  1.00  0.00           C  \\nATOM    460  O   ASN B  58      -4.764 -16.692   8.775  1.00  0.00           O  \\nATOM    461  CB  ASN B  58      -7.282 -16.894  10.136  1.00  0.00           C  \\nATOM    462  CG  ASN B  58      -8.220 -16.594  11.272  1.00  0.00           C  \\nATOM    463  ND2 ASN B  58      -8.781 -17.624  11.852  1.00  0.00           N  \\nATOM    464  OD1 ASN B  58      -8.436 -15.429  11.624  1.00  0.00           O  \\nATOM    465  N   GLU B  59      -5.818 -15.571   7.117  1.00  0.00           N  \\nATOM    466  CA  GLU B  59      -4.731 -15.648   6.148  1.00  0.00           C  \\nATOM    467  C   GLU B  59      -3.919 -14.360   6.129  1.00  0.00           C  \\nATOM    468  O   GLU B  59      -4.035 -13.527   7.028  1.00  0.00           O  \\nATOM    469  CB  GLU B  59      -5.292 -15.967   4.760  1.00  0.00           C  \\nATOM    470  CG  GLU B  59      -6.137 -17.230   4.680  1.00  0.00           C  \\nATOM    471  CD  GLU B  59      -5.319 -18.488   4.765  1.00  0.00           C  \\nATOM    472  OE1 GLU B  59      -5.895 -19.543   4.882  1.00  0.00           O  \\nATOM    473  OE2 GLU B  59      -4.115 -18.394   4.712  1.00  0.00           O  \\nATOM    474  N   THR B  60      -2.950 -14.250   5.189  1.00  0.00           N  \\nATOM    475  CA  THR B  60      -2.134 -13.047   5.072  1.00  0.00           C  \\nATOM    476  C   THR B  60      -2.462 -12.280   3.798  1.00  0.00           C  \\nATOM    477  O   THR B  60      -2.687 -12.876   2.744  1.00  0.00           O  \\nATOM    478  CB  THR B  60      -0.634 -13.395   5.093  1.00  0.00           C  \\nATOM    479  CG2 THR B  60       0.214 -12.138   4.973  1.00  0.00           C  \\nATOM    480  OG1 THR B  60      -0.327 -14.058   6.326  1.00  0.00           O  \\nATOM    481  N   ALA B  61      -2.619 -10.918   3.889  1.00  0.00           N  \\nATOM    482  CA  ALA B  61      -2.701 -10.067   2.708  1.00  0.00           C  \\nATOM    483  C   ALA B  61      -1.323  -9.568   2.292  1.00  0.00           C  \\nATOM    484  O   ALA B  61      -0.453  -9.344   3.133  1.00  0.00           O  \\nATOM    485  CB  ALA B  61      -3.614  -8.880   2.976  1.00  0.00           C  \\nATOM    486  N   ASP B  62      -1.017  -9.539   1.013  1.00  0.00           N  \\nATOM    487  CA  ASP B  62       0.145  -8.874   0.438  1.00  0.00           C  \\nATOM    488  C   ASP B  62      -0.226  -7.511  -0.132  1.00  0.00           C  \\nATOM    489  O   ASP B  62      -1.018  -7.414  -1.069  1.00  0.00           O  \\nATOM    490  CB  ASP B  62       0.770  -9.750  -0.651  1.00  0.00           C  \\nATOM    491  CG  ASP B  62       1.202 -11.120  -0.145  1.00  0.00           C  \\nATOM    492  OD1 ASP B  62       2.171 -11.638  -0.647  1.00  0.00           O  \\nATOM    493  OD2 ASP B  62       0.558 -11.635   0.737  1.00  0.00           O  \\nATOM    494  N   LEU B  63       0.242  -6.433   0.530  1.00  0.00           N  \\nATOM    495  CA  LEU B  63      -0.004  -5.051   0.136  1.00  0.00           C  \\nATOM    496  C   LEU B  63       1.168  -4.487  -0.661  1.00  0.00           C  \\nATOM    497  O   LEU B  63       2.163  -4.041  -0.089  1.00  0.00           O  \\nATOM    498  CB  LEU B  63      -0.279  -4.212   1.390  1.00  0.00           C  \\nATOM    499  CG  LEU B  63      -1.322  -4.774   2.365  1.00  0.00           C  \\nATOM    500  CD1 LEU B  63      -1.506  -3.807   3.527  1.00  0.00           C  \\nATOM    501  CD2 LEU B  63      -2.635  -5.000   1.629  1.00  0.00           C  \\nATOM    502  N   PRO B  64       1.101  -4.503  -2.044  1.00  0.00           N  \\nATOM    503  CA  PRO B  64       2.239  -4.250  -2.921  1.00  0.00           C  \\nATOM    504  C   PRO B  64       2.444  -2.757  -3.141  1.00  0.00           C  \\nATOM    505  O   PRO B  64       1.518  -1.963  -2.981  1.00  0.00           O  \\nATOM    506  CB  PRO B  64       1.840  -4.935  -4.232  1.00  0.00           C  \\nATOM    507  CG  PRO B  64       0.357  -4.793  -4.271  1.00  0.00           C  \\nATOM    508  CD  PRO B  64      -0.067  -4.894  -2.831  1.00  0.00           C  \\nATOM    509  N   CYS B  65       3.707  -2.361  -3.531  1.00  0.00           N  \\nATOM    510  CA  CYS B  65       4.005  -1.019  -4.015  1.00  0.00           C  \\nATOM    511  C   CYS B  65       3.969  -0.962  -5.537  1.00  0.00           C  \\nATOM    512  O   CYS B  65       3.699   0.087  -6.122  1.00  0.00           O  \\nATOM    513  CB  CYS B  65       5.370  -0.544  -3.516  1.00  0.00           C  \\nATOM    514  SG  CYS B  65       5.449  -0.300  -1.726  1.00  0.00           S  \\nATOM    515  N   GLN B  66       4.208  -2.148  -6.275  1.00  0.00           N  \\nATOM    516  CA  GLN B  66       4.252  -2.274  -7.727  1.00  0.00           C  \\nATOM    517  C   GLN B  66       5.098  -1.171  -8.350  1.00  0.00           C  \\nATOM    518  O   GLN B  66       4.643  -0.456  -9.243  1.00  0.00           O  \\nATOM    519  CB  GLN B  66       2.840  -2.295  -8.318  1.00  0.00           C  \\nATOM    520  CG  GLN B  66       1.983  -3.459  -7.851  1.00  0.00           C  \\nATOM    521  CD  GLN B  66       0.619  -3.477  -8.514  1.00  0.00           C  \\nATOM    522  NE2 GLN B  66      -0.137  -4.544  -8.282  1.00  0.00           N  \\nATOM    523  OE1 GLN B  66       0.248  -2.541  -9.228  1.00  0.00           O  \\nATOM    524  N   PHE B  67       6.316  -0.888  -7.727  1.00  0.00           N  \\nATOM    525  CA  PHE B  67       7.241   0.136  -8.197  1.00  0.00           C  \\nATOM    526  C   PHE B  67       8.327  -0.467  -9.079  1.00  0.00           C  \\nATOM    527  O   PHE B  67       9.089  -1.328  -8.640  1.00  0.00           O  \\nATOM    528  CB  PHE B  67       7.859   0.869  -7.005  1.00  0.00           C  \\nATOM    529  CG  PHE B  67       8.754   2.008  -7.399  1.00  0.00           C  \\nATOM    530  CD1 PHE B  67      10.130   1.912  -7.249  1.00  0.00           C  \\nATOM    531  CD2 PHE B  67       8.224   3.179  -7.921  1.00  0.00           C  \\nATOM    532  CE1 PHE B  67      10.955   2.960  -7.612  1.00  0.00           C  \\nATOM    533  CE2 PHE B  67       9.046   4.228  -8.284  1.00  0.00           C  \\nATOM    534  CZ  PHE B  67      10.413   4.118  -8.129  1.00  0.00           C  \\nATOM    535  N   ALA B  68       8.387  -0.031 -10.361  1.00  0.00           N  \\nATOM    536  CA  ALA B  68       9.335  -0.524 -11.354  1.00  0.00           C  \\nATOM    537  C   ALA B  68      10.769  -0.198 -10.956  1.00  0.00           C  \\nATOM    538  O   ALA B  68      11.685  -0.982 -11.203  1.00  0.00           O  \\nATOM    539  CB  ALA B  68       9.020   0.051 -12.727  1.00  0.00           C  \\nATOM    540  N   ASN B  69      10.993   0.910 -10.083  1.00  0.00           N  \\nATOM    541  CA  ASN B  69      12.325   1.406  -9.761  1.00  0.00           C  \\nATOM    542  C   ASN B  69      13.185   1.529 -11.012  1.00  0.00           C  \\nATOM    543  O   ASN B  69      14.294   0.999 -11.069  1.00  0.00           O  \\nATOM    544  CB  ASN B  69      12.994   0.537  -8.711  1.00  0.00           C  \\nATOM    545  CG  ASN B  69      14.195   1.183  -8.079  1.00  0.00           C  \\nATOM    546  ND2 ASN B  69      15.080   0.379  -7.548  1.00  0.00           N  \\nATOM    547  OD1 ASN B  69      14.322   2.413  -8.072  1.00  0.00           O  \\nATOM    548  N   SER B  70      12.653   2.224 -12.082  1.00  0.00           N  \\nATOM    549  CA  SER B  70      13.296   2.349 -13.385  1.00  0.00           C  \\nATOM    550  C   SER B  70      14.596   3.135 -13.284  1.00  0.00           C  \\nATOM    551  O   SER B  70      15.480   3.004 -14.131  1.00  0.00           O  \\nATOM    552  CB  SER B  70      12.367   3.008 -14.386  1.00  0.00           C  \\nATOM    553  OG  SER B  70      12.055   4.315 -13.987  1.00  0.00           O  \\nATOM    554  N   GLN B  71      14.743   4.012 -12.224  1.00  0.00           N  \\nATOM    555  CA  GLN B  71      15.933   4.813 -11.967  1.00  0.00           C  \\nATOM    556  C   GLN B  71      16.956   4.033 -11.151  1.00  0.00           C  \\nATOM    557  O   GLN B  71      17.962   4.586 -10.706  1.00  0.00           O  \\nATOM    558  CB  GLN B  71      15.566   6.118 -11.256  1.00  0.00           C  \\nATOM    559  CG  GLN B  71      14.573   6.981 -12.015  1.00  0.00           C  \\nATOM    560  CD  GLN B  71      15.123   7.465 -13.343  1.00  0.00           C  \\nATOM    561  NE2 GLN B  71      14.328   7.326 -14.398  1.00  0.00           N  \\nATOM    562  OE1 GLN B  71      16.251   7.960 -13.420  1.00  0.00           O  \\nATOM    563  N   ASN B  72      16.686   2.719 -10.774  1.00  0.00           N  \\nATOM    564  CA  ASN B  72      17.588   1.829 -10.053  1.00  0.00           C  \\nATOM    565  C   ASN B  72      18.000   2.428  -8.714  1.00  0.00           C  \\nATOM    566  O   ASN B  72      19.179   2.430  -8.362  1.00  0.00           O  \\nATOM    567  CB  ASN B  72      18.801   1.468 -10.890  1.00  0.00           C  \\nATOM    568  CG  ASN B  72      19.561   0.287 -10.352  1.00  0.00           C  \\nATOM    569  ND2 ASN B  72      20.811   0.178 -10.724  1.00  0.00           N  \\nATOM    570  OD1 ASN B  72      19.015  -0.528  -9.600  1.00  0.00           O  \\nATOM    571  N   GLN B  73      16.969   2.983  -7.916  1.00  0.00           N  \\nATOM    572  CA  GLN B  73      17.212   3.581  -6.608  1.00  0.00           C  \\nATOM    573  C   GLN B  73      17.311   2.514  -5.525  1.00  0.00           C  \\nATOM    574  O   GLN B  73      16.722   1.439  -5.643  1.00  0.00           O  \\nATOM    575  CB  GLN B  73      16.103   4.579  -6.265  1.00  0.00           C  \\nATOM    576  CG  GLN B  73      16.019   5.762  -7.213  1.00  0.00           C  \\nATOM    577  CD  GLN B  73      14.958   6.763  -6.797  1.00  0.00           C  \\nATOM    578  NE2 GLN B  73      15.295   8.046  -6.870  1.00  0.00           N  \\nATOM    579  OE1 GLN B  73      13.847   6.388  -6.415  1.00  0.00           O  \\nATOM    580  N   SER B  74      18.072   2.848  -4.402  1.00  0.00           N  \\nATOM    581  CA  SER B  74      18.210   1.947  -3.264  1.00  0.00           C  \\nATOM    582  C   SER B  74      17.169   2.247  -2.194  1.00  0.00           C  \\nATOM    583  O   SER B  74      16.728   3.386  -2.045  1.00  0.00           O  \\nATOM    584  CB  SER B  74      19.602   2.063  -2.673  1.00  0.00           C  \\nATOM    585  OG  SER B  74      19.733   1.258  -1.533  1.00  0.00           O  \\nATOM    586  N   LEU B  75      16.757   1.205  -1.359  1.00  0.00           N  \\nATOM    587  CA  LEU B  75      15.899   1.438  -0.204  1.00  0.00           C  \\nATOM    588  C   LEU B  75      16.565   2.375   0.798  1.00  0.00           C  \\nATOM    589  O   LEU B  75      15.890   3.085   1.543  1.00  0.00           O  \\nATOM    590  CB  LEU B  75      15.527   0.115   0.476  1.00  0.00           C  \\nATOM    591  CG  LEU B  75      14.565  -0.801  -0.291  1.00  0.00           C  \\nATOM    592  CD1 LEU B  75      14.425  -2.125   0.448  1.00  0.00           C  \\nATOM    593  CD2 LEU B  75      13.217  -0.112  -0.438  1.00  0.00           C  \\nATOM    594  N   SER B  76      17.960   2.438   0.804  1.00  0.00           N  \\nATOM    595  CA  SER B  76      18.751   3.241   1.728  1.00  0.00           C  \\nATOM    596  C   SER B  76      18.619   4.726   1.420  1.00  0.00           C  \\nATOM    597  O   SER B  76      19.005   5.574   2.225  1.00  0.00           O  \\nATOM    598  CB  SER B  76      20.210   2.829   1.696  1.00  0.00           C  \\nATOM    599  OG  SER B  76      20.789   3.116   0.453  1.00  0.00           O  \\nATOM    600  N   GLU B  77      18.138   5.099   0.169  1.00  0.00           N  \\nATOM    601  CA  GLU B  77      17.904   6.478  -0.245  1.00  0.00           C  \\nATOM    602  C   GLU B  77      16.431   6.847  -0.125  1.00  0.00           C  \\nATOM    603  O   GLU B  77      16.044   7.988  -0.378  1.00  0.00           O  \\nATOM    604  CB  GLU B  77      18.372   6.706  -1.684  1.00  0.00           C  \\nATOM    605  CG  GLU B  77      19.879   6.607  -1.877  1.00  0.00           C  \\nATOM    606  CD  GLU B  77      20.309   6.914  -3.284  1.00  0.00           C  \\nATOM    607  OE1 GLU B  77      21.488   7.050  -3.509  1.00  0.00           O  \\nATOM    608  OE2 GLU B  77      19.458   7.012  -4.137  1.00  0.00           O  \\nATOM    609  N   LEU B  78      15.520   5.811   0.234  1.00  0.00           N  \\nATOM    610  CA  LEU B  78      14.073   5.985   0.213  1.00  0.00           C  \\nATOM    611  C   LEU B  78      13.476   5.810   1.606  1.00  0.00           C  \\nATOM    612  O   LEU B  78      14.055   5.137   2.459  1.00  0.00           O  \\nATOM    613  CB  LEU B  78      13.416   4.979  -0.740  1.00  0.00           C  \\nATOM    614  CG  LEU B  78      13.871   4.999  -2.204  1.00  0.00           C  \\nATOM    615  CD1 LEU B  78      13.175   3.881  -2.969  1.00  0.00           C  \\nATOM    616  CD2 LEU B  78      13.557   6.357  -2.815  1.00  0.00           C  \\nATOM    617  N   VAL B  79      12.410   6.505   1.976  1.00  0.00           N  \\nATOM    618  CA  VAL B  79      11.476   6.217   3.058  1.00  0.00           C  \\nATOM    619  C   VAL B  79      10.158   5.677   2.519  1.00  0.00           C  \\nATOM    620  O   VAL B  79       9.512   6.311   1.684  1.00  0.00           O  \\nATOM    621  CB  VAL B  79      11.225   7.472   3.915  1.00  0.00           C  \\nATOM    622  CG1 VAL B  79      10.346   7.139   5.111  1.00  0.00           C  \\nATOM    623  CG2 VAL B  79      12.552   8.061   4.369  1.00  0.00           C  \\nATOM    624  N   VAL B  80       9.786   4.428   2.931  1.00  0.00           N  \\nATOM    625  CA  VAL B  80       8.557   3.788   2.477  1.00  0.00           C  \\nATOM    626  C   VAL B  80       7.586   3.578   3.632  1.00  0.00           C  \\nATOM    627  O   VAL B  80       7.950   3.020   4.668  1.00  0.00           O  \\nATOM    628  CB  VAL B  80       8.848   2.437   1.797  1.00  0.00           C  \\nATOM    629  CG1 VAL B  80       7.571   1.841   1.223  1.00  0.00           C  \\nATOM    630  CG2 VAL B  80       9.894   2.621   0.708  1.00  0.00           C  \\nATOM    631  N   PHE B  81       6.323   4.091   3.509  1.00  0.00           N  \\nATOM    632  CA  PHE B  81       5.282   3.896   4.511  1.00  0.00           C  \\nATOM    633  C   PHE B  81       4.112   3.102   3.943  1.00  0.00           C  \\nATOM    634  O   PHE B  81       3.777   3.229   2.765  1.00  0.00           O  \\nATOM    635  CB  PHE B  81       4.782   5.228   5.074  1.00  0.00           C  \\nATOM    636  CG  PHE B  81       4.190   6.177   4.070  1.00  0.00           C  \\nATOM    637  CD1 PHE B  81       4.974   7.146   3.464  1.00  0.00           C  \\nATOM    638  CD2 PHE B  81       2.847   6.101   3.731  1.00  0.00           C  \\nATOM    639  CE1 PHE B  81       4.431   8.020   2.541  1.00  0.00           C  \\nATOM    640  CE2 PHE B  81       2.301   6.973   2.809  1.00  0.00           C  \\nATOM    641  CZ  PHE B  81       3.094   7.932   2.213  1.00  0.00           C  \\nATOM    642  N   TRP B  82       3.551   2.143   4.655  1.00  0.00           N  \\nATOM    643  CA  TRP B  82       2.208   1.623   4.422  1.00  0.00           C  \\nATOM    644  C   TRP B  82       1.216   2.190   5.429  1.00  0.00           C  \\nATOM    645  O   TRP B  82       1.468   2.183   6.634  1.00  0.00           O  \\nATOM    646  CB  TRP B  82       2.208   0.096   4.503  1.00  0.00           C  \\nATOM    647  CG  TRP B  82       2.887  -0.594   3.358  1.00  0.00           C  \\nATOM    648  CD1 TRP B  82       2.310  -0.995   2.190  1.00  0.00           C  \\nATOM    649  CD2 TRP B  82       4.282  -0.969   3.266  1.00  0.00           C  \\nATOM    650  CE2 TRP B  82       4.458  -1.584   2.023  1.00  0.00           C  \\nATOM    651  CE3 TRP B  82       5.380  -0.835   4.125  1.00  0.00           C  \\nATOM    652  NE1 TRP B  82       3.245  -1.591   1.381  1.00  0.00           N  \\nATOM    653  CH2 TRP B  82       6.765  -1.921   2.488  1.00  0.00           C  \\nATOM    654  CZ2 TRP B  82       5.690  -2.068   1.612  1.00  0.00           C  \\nATOM    655  CZ3 TRP B  82       6.615  -1.320   3.712  1.00  0.00           C  \\nATOM    656  N   GLN B  83       0.083   2.793   4.909  1.00  0.00           N  \\nATOM    657  CA  GLN B  83      -0.899   3.398   5.802  1.00  0.00           C  \\nATOM    658  C   GLN B  83      -2.311   2.945   5.455  1.00  0.00           C  \\nATOM    659  O   GLN B  83      -2.594   2.580   4.314  1.00  0.00           O  \\nATOM    660  CB  GLN B  83      -0.803   4.925   5.744  1.00  0.00           C  \\nATOM    661  CG  GLN B  83      -1.108   5.532   4.385  1.00  0.00           C  \\nATOM    662  CD  GLN B  83      -0.993   7.045   4.389  1.00  0.00           C  \\nATOM    663  NE2 GLN B  83      -1.799   7.700   3.561  1.00  0.00           N  \\nATOM    664  OE1 GLN B  83      -0.189   7.619   5.129  1.00  0.00           O  \\nATOM    665  N   ASP B  84      -3.222   2.929   6.455  1.00  0.00           N  \\nATOM    666  CA  ASP B  84      -4.617   2.558   6.249  1.00  0.00           C  \\nATOM    667  C   ASP B  84      -5.453   3.764   5.842  1.00  0.00           C  \\nATOM    668  O   ASP B  84      -4.924   4.854   5.627  1.00  0.00           O  \\nATOM    669  CB  ASP B  84      -5.178   1.864   7.493  1.00  0.00           C  \\nATOM    670  CG  ASP B  84      -5.347   2.752   8.718  1.00  0.00           C  \\nATOM    671  OD1 ASP B  84      -5.551   2.225   9.786  1.00  0.00           O  \\nATOM    672  OD2 ASP B  84      -5.271   3.949   8.574  1.00  0.00           O  \\nATOM    673  N   GLN B  85      -6.783   3.683   5.753  1.00  0.00           N  \\nATOM    674  CA  GLN B  85      -7.689   4.719   5.271  1.00  0.00           C  \\nATOM    675  C   GLN B  85      -7.804   5.860   6.273  1.00  0.00           C  \\nATOM    676  O   GLN B  85      -8.219   6.965   5.925  1.00  0.00           O  \\nATOM    677  CB  GLN B  85      -9.071   4.147   4.947  1.00  0.00           C  \\nATOM    678  CG  GLN B  85      -9.889   3.692   6.144  1.00  0.00           C  \\nATOM    679  CD  GLN B  85     -11.260   3.179   5.747  1.00  0.00           C  \\nATOM    680  NE2 GLN B  85     -12.222   3.302   6.655  1.00  0.00           N  \\nATOM    681  OE1 GLN B  85     -11.453   2.678   4.636  1.00  0.00           O  \\nATOM    682  N   GLU B  86      -7.583   5.606   7.658  1.00  0.00           N  \\nATOM    683  CA  GLU B  86      -7.535   6.656   8.668  1.00  0.00           C  \\nATOM    684  C   GLU B  86      -6.164   7.319   8.709  1.00  0.00           C  \\nATOM    685  O   GLU B  86      -5.874   8.114   9.603  1.00  0.00           O  \\nATOM    686  CB  GLU B  86      -7.889   6.092  10.045  1.00  0.00           C  \\nATOM    687  CG  GLU B  86      -9.297   5.522  10.138  1.00  0.00           C  \\nATOM    688  CD  GLU B  86      -9.660   5.083  11.529  1.00  0.00           C  \\nATOM    689  OE1 GLU B  86     -10.457   4.185  11.660  1.00  0.00           O  \\nATOM    690  OE2 GLU B  86      -9.140   5.647  12.463  1.00  0.00           O  \\nATOM    691  N   ASN B  87      -5.201   6.938   7.751  1.00  0.00           N  \\nATOM    692  CA  ASN B  87      -3.828   7.391   7.567  1.00  0.00           C  \\nATOM    693  C   ASN B  87      -2.936   6.924   8.711  1.00  0.00           C  \\nATOM    694  O   ASN B  87      -1.913   7.542   9.005  1.00  0.00           O  \\nATOM    695  CB  ASN B  87      -3.735   8.893   7.372  1.00  0.00           C  \\nATOM    696  CG  ASN B  87      -4.413   9.361   6.114  1.00  0.00           C  \\nATOM    697  ND2 ASN B  87      -5.230  10.376   6.234  1.00  0.00           N  \\nATOM    698  OD1 ASN B  87      -4.197   8.801   5.033  1.00  0.00           O  \\nATOM    699  N   LEU B  88      -3.407   5.849   9.535  1.00  0.00           N  \\nATOM    700  CA  LEU B  88      -2.554   5.221  10.536  1.00  0.00           C  \\nATOM    701  C   LEU B  88      -1.499   4.333   9.882  1.00  0.00           C  \\nATOM    702  O   LEU B  88      -1.771   3.658   8.890  1.00  0.00           O  \\nATOM    703  CB  LEU B  88      -3.410   4.405  11.512  1.00  0.00           C  \\nATOM    704  CG  LEU B  88      -4.517   5.169  12.251  1.00  0.00           C  \\nATOM    705  CD1 LEU B  88      -5.295   4.206  13.137  1.00  0.00           C  \\nATOM    706  CD2 LEU B  88      -3.899   6.290  13.072  1.00  0.00           C  \\nATOM    707  N   VAL B  89      -0.258   4.257  10.413  1.00  0.00           N  \\nATOM    708  CA  VAL B  89       0.846   3.549   9.777  1.00  0.00           C  \\nATOM    709  C   VAL B  89       0.899   2.094  10.227  1.00  0.00           C  \\nATOM    710  O   VAL B  89       0.777   1.797  11.415  1.00  0.00           O  \\nATOM    711  CB  VAL B  89       2.187   4.247  10.071  1.00  0.00           C  \\nATOM    712  CG1 VAL B  89       3.347   3.520   9.407  1.00  0.00           C  \\nATOM    713  CG2 VAL B  89       2.119   5.693   9.604  1.00  0.00           C  \\nATOM    714  N   LEU B  90       1.017   1.154   9.256  1.00  0.00           N  \\nATOM    715  CA  LEU B  90       1.220  -0.271   9.488  1.00  0.00           C  \\nATOM    716  C   LEU B  90       2.697  -0.592   9.690  1.00  0.00           C  \\nATOM    717  O   LEU B  90       3.067  -1.289  10.635  1.00  0.00           O  \\nATOM    718  CB  LEU B  90       0.644  -1.104   8.336  1.00  0.00           C  \\nATOM    719  CG  LEU B  90      -0.870  -1.350   8.282  1.00  0.00           C  \\nATOM    720  CD1 LEU B  90      -1.579  -0.067   7.869  1.00  0.00           C  \\nATOM    721  CD2 LEU B  90      -1.167  -2.478   7.306  1.00  0.00           C  \\nATOM    722  N   ASN B  91       3.575  -0.147   8.766  1.00  0.00           N  \\nATOM    723  CA  ASN B  91       5.022  -0.320   8.800  1.00  0.00           C  \\nATOM    724  C   ASN B  91       5.730   0.833   8.100  1.00  0.00           C  \\nATOM    725  O   ASN B  91       5.152   1.501   7.242  1.00  0.00           O  \\nATOM    726  CB  ASN B  91       5.415  -1.636   8.154  1.00  0.00           C  \\nATOM    727  CG  ASN B  91       6.809  -2.084   8.493  1.00  0.00           C  \\nATOM    728  ND2 ASN B  91       7.182  -3.244   8.015  1.00  0.00           N  \\nATOM    729  OD1 ASN B  91       7.550  -1.379   9.188  1.00  0.00           O  \\nATOM    730  N   GLU B  92       6.932   1.193   8.552  1.00  0.00           N  \\nATOM    731  CA  GLU B  92       7.843   2.129   7.905  1.00  0.00           C  \\nATOM    732  C   GLU B  92       9.207   1.494   7.666  1.00  0.00           C  \\nATOM    733  O   GLU B  92       9.775   0.866   8.559  1.00  0.00           O  \\nATOM    734  CB  GLU B  92       8.011   3.380   8.770  1.00  0.00           C  \\nATOM    735  CG  GLU B  92       8.856   4.495   8.171  1.00  0.00           C  \\nATOM    736  CD  GLU B  92       9.053   5.650   9.112  1.00  0.00           C  \\nATOM    737  OE1 GLU B  92       9.734   6.579   8.749  1.00  0.00           O  \\nATOM    738  OE2 GLU B  92       8.521   5.605  10.197  1.00  0.00           O  \\nATOM    739  N   VAL B  93       9.710   1.482   6.419  1.00  0.00           N  \\nATOM    740  CA  VAL B  93      11.114   1.251   6.104  1.00  0.00           C  \\nATOM    741  C   VAL B  93      11.846   2.564   5.856  1.00  0.00           C  \\nATOM    742  O   VAL B  93      11.655   3.207   4.824  1.00  0.00           O  \\nATOM    743  CB  VAL B  93      11.246   0.324   4.881  1.00  0.00           C  \\nATOM    744  CG1 VAL B  93      12.704  -0.035   4.638  1.00  0.00           C  \\nATOM    745  CG2 VAL B  93      10.410  -0.930   5.090  1.00  0.00           C  \\nATOM    746  N   TYR B  94      12.614   3.068   6.886  1.00  0.00           N  \\nATOM    747  CA  TYR B  94      13.300   4.354   6.874  1.00  0.00           C  \\nATOM    748  C   TYR B  94      14.766   4.194   6.491  1.00  0.00           C  \\nATOM    749  O   TYR B  94      15.567   3.677   7.270  1.00  0.00           O  \\nATOM    750  CB  TYR B  94      13.152   5.030   8.239  1.00  0.00           C  \\nATOM    751  CG  TYR B  94      13.823   6.383   8.324  1.00  0.00           C  \\nATOM    752  CD1 TYR B  94      14.981   6.537   9.072  1.00  0.00           C  \\nATOM    753  CD2 TYR B  94      13.280   7.470   7.655  1.00  0.00           C  \\nATOM    754  CE1 TYR B  94      15.594   7.773   9.150  1.00  0.00           C  \\nATOM    755  CE2 TYR B  94      13.893   8.706   7.733  1.00  0.00           C  \\nATOM    756  OH  TYR B  94      15.660  10.087   8.558  1.00  0.00           O  \\nATOM    757  CZ  TYR B  94      15.050   8.856   8.480  1.00  0.00           C  \\nATOM    758  N   LEU B  95      15.195   4.654   5.244  1.00  0.00           N  \\nATOM    759  CA  LEU B  95      16.550   4.481   4.735  1.00  0.00           C  \\nATOM    760  C   LEU B  95      16.989   3.023   4.818  1.00  0.00           C  \\nATOM    761  O   LEU B  95      18.123   2.727   5.195  1.00  0.00           O  \\nATOM    762  CB  LEU B  95      17.540   5.397   5.466  1.00  0.00           C  \\nATOM    763  CG  LEU B  95      17.238   6.899   5.391  1.00  0.00           C  \\nATOM    764  CD1 LEU B  95      18.275   7.667   6.199  1.00  0.00           C  \\nATOM    765  CD2 LEU B  95      17.239   7.345   3.936  1.00  0.00           C  \\nATOM    766  N   GLY B  96      16.051   2.010   4.520  1.00  0.00           N  \\nATOM    767  CA  GLY B  96      16.329   0.586   4.377  1.00  0.00           C  \\nATOM    768  C   GLY B  96      16.029  -0.166   5.668  1.00  0.00           C  \\nATOM    769  O   GLY B  96      16.001  -1.396   5.689  1.00  0.00           O  \\nATOM    770  N   LYS B  97      15.910   0.521   6.888  1.00  0.00           N  \\nATOM    771  CA  LYS B  97      15.673  -0.192   8.137  1.00  0.00           C  \\nATOM    772  C   LYS B  97      14.217  -0.080   8.568  1.00  0.00           C  \\nATOM    773  O   LYS B  97      13.602   0.979   8.441  1.00  0.00           O  \\nATOM    774  CB  LYS B  97      16.587   0.340   9.242  1.00  0.00           C  \\nATOM    775  CG  LYS B  97      18.079   0.273   8.947  1.00  0.00           C  \\nATOM    776  CD  LYS B  97      18.545  -1.165   8.779  1.00  0.00           C  \\nATOM    777  CE  LYS B  97      20.038  -1.235   8.492  1.00  0.00           C  \\nATOM    778  NZ  LYS B  97      20.515  -2.638   8.360  1.00  0.00           N  \\nATOM    779  N   GLU B  98      13.587  -1.211   9.040  1.00  0.00           N  \\nATOM    780  CA  GLU B  98      12.249  -1.154   9.617  1.00  0.00           C  \\nATOM    781  C   GLU B  98      12.221  -0.267  10.855  1.00  0.00           C  \\nATOM    782  O   GLU B  98      13.099  -0.354  11.713  1.00  0.00           O  \\nATOM    783  CB  GLU B  98      11.763  -2.562   9.970  1.00  0.00           C  \\nATOM    784  CG  GLU B  98      11.513  -3.461   8.768  1.00  0.00           C  \\nATOM    785  CD  GLU B  98      10.933  -4.795   9.146  1.00  0.00           C  \\nATOM    786  OE1 GLU B  98      10.977  -5.691   8.338  1.00  0.00           O  \\nATOM    787  OE2 GLU B  98      10.444  -4.918  10.244  1.00  0.00           O  \\nATOM    788  N   LYS B  99      11.286   0.697  10.893  1.00  0.00           N  \\nATOM    789  CA  LYS B  99      11.042   1.609  12.004  1.00  0.00           C  \\nATOM    790  C   LYS B  99       9.599   1.516  12.486  1.00  0.00           C  \\nATOM    791  O   LYS B  99       8.663   1.614  11.693  1.00  0.00           O  \\nATOM    792  CB  LYS B  99      11.388   3.037  11.579  1.00  0.00           C  \\nATOM    793  CG  LYS B  99      11.354   4.049  12.716  1.00  0.00           C  \\nATOM    794  CD  LYS B  99      11.830   5.417  12.253  1.00  0.00           C  \\nATOM    795  CE  LYS B  99      11.692   6.455  13.357  1.00  0.00           C  \\nATOM    796  NZ  LYS B  99      12.773   6.335  14.372  1.00  0.00           N  \\nATOM    797  N   PHE B 100       9.383   1.320  13.834  1.00  0.00           N  \\nATOM    798  CA  PHE B 100       8.046   1.102  14.373  1.00  0.00           C  \\nATOM    799  C   PHE B 100       7.601   2.277  15.234  1.00  0.00           C  \\nATOM    800  O   PHE B 100       6.513   2.261  15.809  1.00  0.00           O  \\nATOM    801  CB  PHE B 100       7.977  -0.195  15.180  1.00  0.00           C  \\nATOM    802  CG  PHE B 100       8.230  -1.426  14.357  1.00  0.00           C  \\nATOM    803  CD1 PHE B 100       7.182  -2.094  13.740  1.00  0.00           C  \\nATOM    804  CD2 PHE B 100       9.517  -1.919  14.196  1.00  0.00           C  \\nATOM    805  CE1 PHE B 100       7.414  -3.226  12.983  1.00  0.00           C  \\nATOM    806  CE2 PHE B 100       9.751  -3.051  13.440  1.00  0.00           C  \\nATOM    807  CZ  PHE B 100       8.699  -3.705  12.833  1.00  0.00           C  \\nATOM    808  N   ASP B 101       8.449   3.408  15.287  1.00  0.00           N  \\nATOM    809  CA  ASP B 101       8.170   4.578  16.112  1.00  0.00           C  \\nATOM    810  C   ASP B 101       6.808   5.174  15.779  1.00  0.00           C  \\nATOM    811  O   ASP B 101       6.071   5.597  16.669  1.00  0.00           O  \\nATOM    812  CB  ASP B 101       9.259   5.639  15.940  1.00  0.00           C  \\nATOM    813  CG  ASP B 101      10.586   5.262  16.586  1.00  0.00           C  \\nATOM    814  OD1 ASP B 101      11.568   5.904  16.298  1.00  0.00           O  \\nATOM    815  OD2 ASP B 101      10.604   4.336  17.360  1.00  0.00           O  \\nATOM    816  N   SER B 102       6.384   5.152  14.429  1.00  0.00           N  \\nATOM    817  CA  SER B 102       5.139   5.727  13.935  1.00  0.00           C  \\nATOM    818  C   SER B 102       4.051   4.667  13.818  1.00  0.00           C  \\nATOM    819  O   SER B 102       2.924   4.962  13.420  1.00  0.00           O  \\nATOM    820  CB  SER B 102       5.346   6.388  12.586  1.00  0.00           C  \\nATOM    821  OG  SER B 102       6.175   7.511  12.700  1.00  0.00           O  \\nATOM    822  N   VAL B 103       4.364   3.311  14.168  1.00  0.00           N  \\nATOM    823  CA  VAL B 103       3.401   2.242  13.930  1.00  0.00           C  \\nATOM    824  C   VAL B 103       2.320   2.225  15.004  1.00  0.00           C  \\nATOM    825  O   VAL B 103       2.618   2.192  16.197  1.00  0.00           O  \\nATOM    826  CB  VAL B 103       4.101   0.872  13.862  1.00  0.00           C  \\nATOM    827  CG1 VAL B 103       3.099  -0.235  13.573  1.00  0.00           C  \\nATOM    828  CG2 VAL B 103       5.189   0.905  12.800  1.00  0.00           C  \\nATOM    829  N   HIS B 104       0.991   2.254  14.574  1.00  0.00           N  \\nATOM    830  CA  HIS B 104      -0.120   2.170  15.513  1.00  0.00           C  \\nATOM    831  C   HIS B 104      -0.107   0.845  16.265  1.00  0.00           C  \\nATOM    832  O   HIS B 104       0.228  -0.196  15.701  1.00  0.00           O  \\nATOM    833  CB  HIS B 104      -1.445   2.337  14.762  1.00  0.00           C  \\nATOM    834  CG  HIS B 104      -2.595   2.724  15.640  1.00  0.00           C  \\nATOM    835  CD2 HIS B 104      -3.214   3.914  15.824  1.00  0.00           C  \\nATOM    836  ND1 HIS B 104      -4.020   3.741  16.945  1.00  0.00           N  \\nATOM    837  CE1 HIS B 104      -4.208   2.444  17.113  1.00  0.00           C  \\nATOM    838  NE2 HIS B 104      -3.434   1.797  16.261  1.00  0.00           N  \\nATOM    839  N   SER B 105      -0.541   0.883  17.592  1.00  0.00           N  \\nATOM    840  CA  SER B 105      -0.614  -0.279  18.471  1.00  0.00           C  \\nATOM    841  C   SER B 105      -1.365  -1.425  17.806  1.00  0.00           C  \\nATOM    842  O   SER B 105      -1.012  -2.592  17.976  1.00  0.00           O  \\nATOM    843  CB  SER B 105      -1.287   0.083  19.781  1.00  0.00           C  \\nATOM    844  OG  SER B 105      -0.491   0.953  20.538  1.00  0.00           O  \\nATOM    845  N   LYS B 106      -2.345  -1.120  16.924  1.00  0.00           N  \\nATOM    846  CA  LYS B 106      -3.246  -2.061  16.269  1.00  0.00           C  \\nATOM    847  C   LYS B 106      -2.488  -2.979  15.319  1.00  0.00           C  \\nATOM    848  O   LYS B 106      -2.914  -4.104  15.056  1.00  0.00           O  \\nATOM    849  CB  LYS B 106      -4.353  -1.311  15.526  1.00  0.00           C  \\nATOM    850  CG  LYS B 106      -5.366  -2.194  14.810  1.00  0.00           C  \\nATOM    851  CD  LYS B 106      -6.474  -1.365  14.179  1.00  0.00           C  \\nATOM    852  CE  LYS B 106      -5.962  -0.570  12.987  1.00  0.00           C  \\nATOM    853  NZ  LYS B 106      -7.053   0.181  12.309  1.00  0.00           N  \\nATOM    854  N   TYR B 107      -1.255  -2.497  14.748  1.00  0.00           N  \\nATOM    855  CA  TYR B 107      -0.557  -3.261  13.721  1.00  0.00           C  \\nATOM    856  C   TYR B 107       0.740  -3.851  14.260  1.00  0.00           C  \\nATOM    857  O   TYR B 107       1.399  -4.644  13.587  1.00  0.00           O  \\nATOM    858  CB  TYR B 107      -0.277  -2.396  12.490  1.00  0.00           C  \\nATOM    859  CG  TYR B 107      -1.525  -1.817  11.861  1.00  0.00           C  \\nATOM    860  CD1 TYR B 107      -1.837  -0.477  12.046  1.00  0.00           C  \\nATOM    861  CD2 TYR B 107      -2.358  -2.624  11.101  1.00  0.00           C  \\nATOM    862  CE1 TYR B 107      -2.976   0.052  11.472  1.00  0.00           C  \\nATOM    863  CE2 TYR B 107      -3.498  -2.094  10.527  1.00  0.00           C  \\nATOM    864  OH  TYR B 107      -4.941  -0.230  10.142  1.00  0.00           O  \\nATOM    865  CZ  TYR B 107      -3.806  -0.757  10.713  1.00  0.00           C  \\nATOM    866  N   MET B 108       1.188  -3.482  15.567  1.00  0.00           N  \\nATOM    867  CA  MET B 108       2.457  -3.949  16.113  1.00  0.00           C  \\nATOM    868  C   MET B 108       2.518  -5.471  16.142  1.00  0.00           C  \\nATOM    869  O   MET B 108       1.617  -6.128  16.664  1.00  0.00           O  \\nATOM    870  CB  MET B 108       2.668  -3.392  17.519  1.00  0.00           C  \\nATOM    871  CG  MET B 108       2.647  -1.873  17.626  1.00  0.00           C  \\nATOM    872  SD  MET B 108       4.008  -1.095  16.733  1.00  0.00           S  \\nATOM    873  CE  MET B 108       5.407  -1.632  17.713  1.00  0.00           C  \\nATOM    874  N   GLY B 109       3.526  -6.097  15.521  1.00  0.00           N  \\nATOM    875  CA  GLY B 109       3.813  -7.527  15.527  1.00  0.00           C  \\nATOM    876  C   GLY B 109       3.024  -8.251  14.444  1.00  0.00           C  \\nATOM    877  O   GLY B 109       3.109  -9.472  14.312  1.00  0.00           O  \\nATOM    878  N   ARG B 110       2.173  -7.545  13.602  1.00  0.00           N  \\nATOM    879  CA  ARG B 110       1.267  -8.199  12.665  1.00  0.00           C  \\nATOM    880  C   ARG B 110       1.749  -8.037  11.229  1.00  0.00           C  \\nATOM    881  O   ARG B 110       1.096  -8.493  10.291  1.00  0.00           O  \\nATOM    882  CB  ARG B 110      -0.141  -7.638  12.797  1.00  0.00           C  \\nATOM    883  CG  ARG B 110      -0.758  -7.810  14.176  1.00  0.00           C  \\nATOM    884  CD  ARG B 110      -2.049  -7.086  14.294  1.00  0.00           C  \\nATOM    885  NE  ARG B 110      -3.062  -7.634  13.406  1.00  0.00           N  \\nATOM    886  NH1 ARG B 110      -4.563  -5.914  13.728  1.00  0.00           N  \\nATOM    887  NH2 ARG B 110      -5.106  -7.635  12.329  1.00  0.00           N  \\nATOM    888  CZ  ARG B 110      -4.252  -7.055  13.154  1.00  0.00           C  \\nATOM    889  N   THR B 111       2.928  -7.307  10.947  1.00  0.00           N  \\nATOM    890  CA  THR B 111       3.338  -7.059   9.570  1.00  0.00           C  \\nATOM    891  C   THR B 111       4.766  -7.532   9.327  1.00  0.00           C  \\nATOM    892  O   THR B 111       5.537  -7.717  10.268  1.00  0.00           O  \\nATOM    893  CB  THR B 111       3.231  -5.567   9.206  1.00  0.00           C  \\nATOM    894  CG2 THR B 111       1.793  -5.085   9.324  1.00  0.00           C  \\nATOM    895  OG1 THR B 111       4.061  -4.807  10.094  1.00  0.00           O  \\nATOM    896  N   SER B 112       5.142  -7.835   8.103  1.00  0.00           N  \\nATOM    897  CA  SER B 112       6.511  -8.061   7.657  1.00  0.00           C  \\nATOM    898  C   SER B 112       6.747  -7.458   6.278  1.00  0.00           C  \\nATOM    899  O   SER B 112       5.848  -7.435   5.438  1.00  0.00           O  \\nATOM    900  CB  SER B 112       6.823  -9.545   7.640  1.00  0.00           C  \\nATOM    901  OG  SER B 112       6.057 -10.210   6.673  1.00  0.00           O  \\nATOM    902  N   PHE B 113       7.993  -6.945   6.038  1.00  0.00           N  \\nATOM    903  CA  PHE B 113       8.343  -6.304   4.776  1.00  0.00           C  \\nATOM    904  C   PHE B 113       9.160  -7.238   3.892  1.00  0.00           C  \\nATOM    905  O   PHE B 113      10.132  -7.844   4.344  1.00  0.00           O  \\nATOM    906  CB  PHE B 113       9.125  -5.014   5.029  1.00  0.00           C  \\nATOM    907  CG  PHE B 113       9.480  -4.271   3.772  1.00  0.00           C  \\nATOM    908  CD1 PHE B 113      10.763  -4.337   3.249  1.00  0.00           C  \\nATOM    909  CD2 PHE B 113       8.532  -3.505   3.111  1.00  0.00           C  \\nATOM    910  CE1 PHE B 113      11.090  -3.653   2.093  1.00  0.00           C  \\nATOM    911  CE2 PHE B 113       8.857  -2.821   1.955  1.00  0.00           C  \\nATOM    912  CZ  PHE B 113      10.137  -2.896   1.446  1.00  0.00           C  \\nATOM    913  N   ASP B 114       8.751  -7.452   2.645  1.00  0.00           N  \\nATOM    914  CA  ASP B 114       9.496  -8.177   1.623  1.00  0.00           C  \\nATOM    915  C   ASP B 114      10.420  -7.244   0.849  1.00  0.00           C  \\nATOM    916  O   ASP B 114       9.990  -6.554  -0.075  1.00  0.00           O  \\nATOM    917  CB  ASP B 114       8.514  -8.876   0.680  1.00  0.00           C  \\nATOM    918  CG  ASP B 114       9.188  -9.748  -0.371  1.00  0.00           C  \\nATOM    919  OD1 ASP B 114       8.564 -10.672  -0.838  1.00  0.00           O  \\nATOM    920  OD2 ASP B 114      10.319  -9.481  -0.698  1.00  0.00           O  \\nATOM    921  N   SER B 115      11.751  -7.170   1.215  1.00  0.00           N  \\nATOM    922  CA  SER B 115      12.676  -6.188   0.663  1.00  0.00           C  \\nATOM    923  C   SER B 115      13.074  -6.546  -0.763  1.00  0.00           C  \\nATOM    924  O   SER B 115      13.736  -5.766  -1.447  1.00  0.00           O  \\nATOM    925  CB  SER B 115      13.911  -6.050   1.532  1.00  0.00           C  \\nATOM    926  OG  SER B 115      14.619  -7.258   1.575  1.00  0.00           O  \\nATOM    927  N   ASP B 116      12.718  -7.834  -1.270  1.00  0.00           N  \\nATOM    928  CA  ASP B 116      13.017  -8.226  -2.642  1.00  0.00           C  \\nATOM    929  C   ASP B 116      11.970  -7.688  -3.608  1.00  0.00           C  \\nATOM    930  O   ASP B 116      12.290  -7.295  -4.730  1.00  0.00           O  \\nATOM    931  CB  ASP B 116      13.118  -9.748  -2.767  1.00  0.00           C  \\nATOM    932  CG  ASP B 116      14.238 -10.334  -1.918  1.00  0.00           C  \\nATOM    933  OD1 ASP B 116      14.067 -11.417  -1.410  1.00  0.00           O  \\nATOM    934  OD2 ASP B 116      15.253  -9.694  -1.785  1.00  0.00           O  \\nATOM    935  N   SER B 117      10.625  -7.618  -3.157  1.00  0.00           N  \\nATOM    936  CA  SER B 117       9.523  -7.145  -3.986  1.00  0.00           C  \\nATOM    937  C   SER B 117       9.000  -5.801  -3.494  1.00  0.00           C  \\nATOM    938  O   SER B 117       8.123  -5.200  -4.115  1.00  0.00           O  \\nATOM    939  CB  SER B 117       8.389  -8.151  -4.024  1.00  0.00           C  \\nATOM    940  OG  SER B 117       7.743  -8.221  -2.782  1.00  0.00           O  \\nATOM    941  N   TRP B 118       9.350  -5.314  -2.259  1.00  0.00           N  \\nATOM    942  CA  TRP B 118       8.860  -4.084  -1.649  1.00  0.00           C  \\nATOM    943  C   TRP B 118       7.378  -4.187  -1.314  1.00  0.00           C  \\nATOM    944  O   TRP B 118       6.599  -3.282  -1.615  1.00  0.00           O  \\nATOM    945  CB  TRP B 118       9.125  -2.863  -2.532  1.00  0.00           C  \\nATOM    946  CG  TRP B 118      10.579  -2.574  -2.749  1.00  0.00           C  \\nATOM    947  CD1 TRP B 118      11.617  -2.984  -1.968  1.00  0.00           C  \\nATOM    948  CD2 TRP B 118      11.167  -1.805  -3.827  1.00  0.00           C  \\nATOM    949  CE2 TRP B 118      12.549  -1.803  -3.619  1.00  0.00           C  \\nATOM    950  CE3 TRP B 118      10.639  -1.129  -4.934  1.00  0.00           C  \\nATOM    951  NE1 TRP B 118      12.805  -2.526  -2.482  1.00  0.00           N  \\nATOM    952  CH2 TRP B 118      12.865  -0.485  -5.572  1.00  0.00           C  \\nATOM    953  CZ2 TRP B 118      13.418  -1.150  -4.478  1.00  0.00           C  \\nATOM    954  CZ3 TRP B 118      11.511  -0.474  -5.795  1.00  0.00           C  \\nATOM    955  N   THR B 119       6.947  -5.386  -0.785  1.00  0.00           N  \\nATOM    956  CA  THR B 119       5.582  -5.681  -0.364  1.00  0.00           C  \\nATOM    957  C   THR B 119       5.484  -5.788   1.152  1.00  0.00           C  \\nATOM    958  O   THR B 119       6.368  -6.344   1.803  1.00  0.00           O  \\nATOM    959  CB  THR B 119       5.085  -6.992  -0.999  1.00  0.00           C  \\nATOM    960  CG2 THR B 119       3.634  -7.256  -0.626  1.00  0.00           C  \\nATOM    961  OG1 THR B 119       5.198  -6.895  -2.424  1.00  0.00           O  \\nATOM    962  N   LEU B 120       4.461  -5.102   1.785  1.00  0.00           N  \\nATOM    963  CA  LEU B 120       4.115  -5.350   3.180  1.00  0.00           C  \\nATOM    964  C   LEU B 120       3.060  -6.444   3.300  1.00  0.00           C  \\nATOM    965  O   LEU B 120       2.056  -6.433   2.587  1.00  0.00           O  \\nATOM    966  CB  LEU B 120       3.606  -4.055   3.826  1.00  0.00           C  \\nATOM    967  CG  LEU B 120       3.310  -4.086   5.331  1.00  0.00           C  \\nATOM    968  CD1 LEU B 120       4.615  -4.212   6.104  1.00  0.00           C  \\nATOM    969  CD2 LEU B 120       2.560  -2.822   5.727  1.00  0.00           C  \\nATOM    970  N   ARG B 121       3.336  -7.519   4.099  1.00  0.00           N  \\nATOM    971  CA  ARG B 121       2.346  -8.543   4.411  1.00  0.00           C  \\nATOM    972  C   ARG B 121       1.633  -8.238   5.722  1.00  0.00           C  \\nATOM    973  O   ARG B 121       2.271  -7.963   6.738  1.00  0.00           O  \\nATOM    974  CB  ARG B 121       3.006  -9.910   4.504  1.00  0.00           C  \\nATOM    975  CG  ARG B 121       3.869 -10.270   3.305  1.00  0.00           C  \\nATOM    976  CD  ARG B 121       4.431 -11.639   3.424  1.00  0.00           C  \\nATOM    977  NE  ARG B 121       3.405 -12.660   3.290  1.00  0.00           N  \\nATOM    978  NH1 ARG B 121       4.810 -14.422   3.777  1.00  0.00           N  \\nATOM    979  NH2 ARG B 121       2.611 -14.831   3.319  1.00  0.00           N  \\nATOM    980  CZ  ARG B 121       3.612 -13.980   3.464  1.00  0.00           C  \\nATOM    981  N   LEU B 122       0.298  -8.137   5.697  1.00  0.00           N  \\nATOM    982  CA  LEU B 122      -0.535  -8.012   6.887  1.00  0.00           C  \\nATOM    983  C   LEU B 122      -1.030  -9.376   7.359  1.00  0.00           C  \\nATOM    984  O   LEU B 122      -1.827 -10.025   6.683  1.00  0.00           O  \\nATOM    985  CB  LEU B 122      -1.712  -7.073   6.596  1.00  0.00           C  \\nATOM    986  CG  LEU B 122      -2.673  -6.787   7.757  1.00  0.00           C  \\nATOM    987  CD1 LEU B 122      -1.924  -6.071   8.872  1.00  0.00           C  \\nATOM    988  CD2 LEU B 122      -3.840  -5.949   7.256  1.00  0.00           C  \\nATOM    989  N   HIS B 123      -0.579  -9.831   8.555  1.00  0.00           N  \\nATOM    990  CA  HIS B 123      -0.697 -11.216   8.996  1.00  0.00           C  \\nATOM    991  C   HIS B 123      -1.950 -11.420   9.840  1.00  0.00           C  \\nATOM    992  O   HIS B 123      -2.462 -10.479  10.446  1.00  0.00           O  \\nATOM    993  CB  HIS B 123       0.533 -11.653   9.798  1.00  0.00           C  \\nATOM    994  CG  HIS B 123       1.791 -11.666   8.987  1.00  0.00           C  \\nATOM    995  CD2 HIS B 123       2.752 -10.728   8.817  1.00  0.00           C  \\nATOM    996  ND1 HIS B 123       3.683 -11.251   7.954  1.00  0.00           N  \\nATOM    997  CE1 HIS B 123       3.321 -12.480   7.626  1.00  0.00           C  \\nATOM    998  NE2 HIS B 123       2.186 -12.757   8.241  1.00  0.00           N  \\nATOM    999  N   ASN B 124      -2.443 -12.632   9.880  1.00  0.00           N  \\nATOM   1000  CA  ASN B 124      -3.573 -13.084  10.682  1.00  0.00           C  \\nATOM   1001  C   ASN B 124      -4.762 -12.142  10.538  1.00  0.00           C  \\nATOM   1002  O   ASN B 124      -5.227 -11.559  11.517  1.00  0.00           O  \\nATOM   1003  CB  ASN B 124      -3.166 -13.254  12.134  1.00  0.00           C  \\nATOM   1004  CG  ASN B 124      -4.143 -14.060  12.944  1.00  0.00           C  \\nATOM   1005  ND2 ASN B 124      -4.096 -13.900  14.242  1.00  0.00           N  \\nATOM   1006  OD1 ASN B 124      -4.941 -14.828  12.394  1.00  0.00           O  \\nATOM   1007  N   LEU B 125      -5.377 -12.085   9.306  1.00  0.00           N  \\nATOM   1008  CA  LEU B 125      -6.362 -11.082   8.916  1.00  0.00           C  \\nATOM   1009  C   LEU B 125      -7.662 -11.255   9.693  1.00  0.00           C  \\nATOM   1010  O   LEU B 125      -8.132 -12.375   9.895  1.00  0.00           O  \\nATOM   1011  CB  LEU B 125      -6.644 -11.162   7.410  1.00  0.00           C  \\nATOM   1012  CG  LEU B 125      -5.531 -10.675   6.473  1.00  0.00           C  \\nATOM   1013  CD1 LEU B 125      -5.930 -10.942   5.028  1.00  0.00           C  \\nATOM   1014  CD2 LEU B 125      -5.282  -9.193   6.707  1.00  0.00           C  \\nATOM   1015  N   GLN B 126      -8.200 -10.118  10.171  1.00  0.00           N  \\nATOM   1016  CA  GLN B 126      -9.502 -10.014  10.817  1.00  0.00           C  \\nATOM   1017  C   GLN B 126     -10.518  -9.338   9.904  1.00  0.00           C  \\nATOM   1018  O   GLN B 126     -10.149  -8.641   8.959  1.00  0.00           O  \\nATOM   1019  CB  GLN B 126      -9.373  -9.237  12.130  1.00  0.00           C  \\nATOM   1020  CG  GLN B 126      -8.298  -9.751  13.073  1.00  0.00           C  \\nATOM   1021  CD  GLN B 126      -8.633 -11.116  13.644  1.00  0.00           C  \\nATOM   1022  NE2 GLN B 126      -7.665 -12.025  13.608  1.00  0.00           N  \\nATOM   1023  OE1 GLN B 126      -9.751 -11.352  14.111  1.00  0.00           O  \\nATOM   1024  N   ILE B 127     -11.886  -9.506  10.169  1.00  0.00           N  \\nATOM   1025  CA  ILE B 127     -12.882  -8.820   9.356  1.00  0.00           C  \\nATOM   1026  C   ILE B 127     -12.672  -7.312   9.383  1.00  0.00           C  \\nATOM   1027  O   ILE B 127     -12.824  -6.636   8.366  1.00  0.00           O  \\nATOM   1028  CB  ILE B 127     -14.309  -9.171   9.817  1.00  0.00           C  \\nATOM   1029  CG1 ILE B 127     -14.575 -10.671   9.665  1.00  0.00           C  \\nATOM   1030  CG2 ILE B 127     -15.330  -8.364   9.030  1.00  0.00           C  \\nATOM   1031  CD1 ILE B 127     -14.535 -11.157   8.234  1.00  0.00           C  \\nATOM   1032  N   LYS B 128     -12.136  -6.772  10.507  1.00  0.00           N  \\nATOM   1033  CA  LYS B 128     -11.930  -5.352  10.766  1.00  0.00           C  \\nATOM   1034  C   LYS B 128     -10.776  -4.804   9.936  1.00  0.00           C  \\nATOM   1035  O   LYS B 128     -10.672  -3.596   9.722  1.00  0.00           O  \\nATOM   1036  CB  LYS B 128     -11.686  -5.095  12.253  1.00  0.00           C  \\nATOM   1037  CG  LYS B 128     -12.915  -5.288  13.131  1.00  0.00           C  \\nATOM   1038  CD  LYS B 128     -12.596  -5.025  14.595  1.00  0.00           C  \\nATOM   1039  CE  LYS B 128     -13.825  -5.210  15.473  1.00  0.00           C  \\nATOM   1040  NZ  LYS B 128     -13.534  -4.927  16.905  1.00  0.00           N  \\nATOM   1041  N   ASP B 129      -9.836  -5.716   9.378  1.00  0.00           N  \\nATOM   1042  CA  ASP B 129      -8.695  -5.302   8.570  1.00  0.00           C  \\nATOM   1043  C   ASP B 129      -9.130  -4.898   7.167  1.00  0.00           C  \\nATOM   1044  O   ASP B 129      -8.324  -4.420   6.370  1.00  0.00           O  \\nATOM   1045  CB  ASP B 129      -7.639  -6.408   8.496  1.00  0.00           C  \\nATOM   1046  CG  ASP B 129      -6.918  -6.610   9.822  1.00  0.00           C  \\nATOM   1047  OD1 ASP B 129      -6.636  -7.736  10.157  1.00  0.00           O  \\nATOM   1048  OD2 ASP B 129      -6.657  -5.637  10.487  1.00  0.00           O  \\nATOM   1049  N   LYS B 130     -10.460  -5.159   6.754  1.00  0.00           N  \\nATOM   1050  CA  LYS B 130     -10.908  -4.718   5.438  1.00  0.00           C  \\nATOM   1051  C   LYS B 130     -10.838  -3.202   5.312  1.00  0.00           C  \\nATOM   1052  O   LYS B 130     -11.031  -2.479   6.289  1.00  0.00           O  \\nATOM   1053  CB  LYS B 130     -12.330  -5.210   5.161  1.00  0.00           C  \\nATOM   1054  CG  LYS B 130     -13.399  -4.651   6.090  1.00  0.00           C  \\nATOM   1055  CD  LYS B 130     -14.760  -5.263   5.797  1.00  0.00           C  \\nATOM   1056  CE  LYS B 130     -15.829  -4.709   6.728  1.00  0.00           C  \\nATOM   1057  NZ  LYS B 130     -17.161  -5.321   6.473  1.00  0.00           N  \\nATOM   1058  N   GLY B 131     -10.490  -2.712   4.096  1.00  0.00           N  \\nATOM   1059  CA  GLY B 131     -10.425  -1.276   3.855  1.00  0.00           C  \\nATOM   1060  C   GLY B 131      -9.313  -0.932   2.873  1.00  0.00           C  \\nATOM   1061  O   GLY B 131      -8.736  -1.815   2.239  1.00  0.00           O  \\nATOM   1062  N   LEU B 132      -9.067   0.402   2.718  1.00  0.00           N  \\nATOM   1063  CA  LEU B 132      -8.049   0.903   1.801  1.00  0.00           C  \\nATOM   1064  C   LEU B 132      -6.677   0.936   2.465  1.00  0.00           C  \\nATOM   1065  O   LEU B 132      -6.553   1.289   3.638  1.00  0.00           O  \\nATOM   1066  CB  LEU B 132      -8.413   2.307   1.304  1.00  0.00           C  \\nATOM   1067  CG  LEU B 132      -9.638   2.423   0.387  1.00  0.00           C  \\nATOM   1068  CD1 LEU B 132      -9.891   3.888   0.059  1.00  0.00           C  \\nATOM   1069  CD2 LEU B 132      -9.404   1.611  -0.879  1.00  0.00           C  \\nATOM   1070  N   TYR B 133      -5.654   0.479   1.790  1.00  0.00           N  \\nATOM   1071  CA  TYR B 133      -4.249   0.594   2.161  1.00  0.00           C  \\nATOM   1072  C   TYR B 133      -3.451   1.310   1.078  1.00  0.00           C  \\nATOM   1073  O   TYR B 133      -3.770   1.215  -0.107  1.00  0.00           O  \\nATOM   1074  CB  TYR B 133      -3.657  -0.791   2.429  1.00  0.00           C  \\nATOM   1075  CG  TYR B 133      -4.382  -1.578   3.498  1.00  0.00           C  \\nATOM   1076  CD1 TYR B 133      -5.371  -2.483   3.143  1.00  0.00           C  \\nATOM   1077  CD2 TYR B 133      -4.058  -1.393   4.834  1.00  0.00           C  \\nATOM   1078  CE1 TYR B 133      -6.033  -3.201   4.120  1.00  0.00           C  \\nATOM   1079  CE2 TYR B 133      -4.720  -2.111   5.811  1.00  0.00           C  \\nATOM   1080  OH  TYR B 133      -6.367  -3.730   6.426  1.00  0.00           O  \\nATOM   1081  CZ  TYR B 133      -5.707  -3.015   5.453  1.00  0.00           C  \\nATOM   1082  N   GLN B 134      -2.448   2.139   1.485  1.00  0.00           N  \\nATOM   1083  CA  GLN B 134      -1.612   2.865   0.537  1.00  0.00           C  \\nATOM   1084  C   GLN B 134      -0.133   2.603   0.794  1.00  0.00           C  \\nATOM   1085  O   GLN B 134       0.349   2.757   1.916  1.00  0.00           O  \\nATOM   1086  CB  GLN B 134      -1.881   4.370   0.619  1.00  0.00           C  \\nATOM   1087  CG  GLN B 134      -3.309   4.790   0.314  1.00  0.00           C  \\nATOM   1088  CD  GLN B 134      -3.523   6.281   0.488  1.00  0.00           C  \\nATOM   1089  NE2 GLN B 134      -4.476   6.832  -0.255  1.00  0.00           N  \\nATOM   1090  OE1 GLN B 134      -2.840   6.932   1.284  1.00  0.00           O  \\nATOM   1091  N   CYS B 135       0.620   2.062  -0.230  1.00  0.00           N  \\nATOM   1092  CA  CYS B 135       2.078   2.096  -0.249  1.00  0.00           C  \\nATOM   1093  C   CYS B 135       2.591   3.432  -0.769  1.00  0.00           C  \\nATOM   1094  O   CYS B 135       2.256   3.847  -1.879  1.00  0.00           O  \\nATOM   1095  CB  CYS B 135       2.614   0.953  -1.112  1.00  0.00           C  \\nATOM   1096  SG  CYS B 135       4.410   0.935  -1.326  1.00  0.00           S  \\nATOM   1097  N   ILE B 136       3.337   4.198   0.123  1.00  0.00           N  \\nATOM   1098  CA  ILE B 136       3.884   5.497  -0.249  1.00  0.00           C  \\nATOM   1099  C   ILE B 136       5.405   5.500  -0.164  1.00  0.00           C  \\nATOM   1100  O   ILE B 136       5.979   5.139   0.863  1.00  0.00           O  \\nATOM   1101  CB  ILE B 136       3.297   6.606   0.643  1.00  0.00           C  \\nATOM   1102  CG1 ILE B 136       1.767   6.577   0.595  1.00  0.00           C  \\nATOM   1103  CG2 ILE B 136       3.821   7.967   0.213  1.00  0.00           C  \\nATOM   1104  CD1 ILE B 136       1.108   7.500   1.594  1.00  0.00           C  \\nATOM   1105  N   ILE B 137       6.089   5.844  -1.279  1.00  0.00           N  \\nATOM   1106  CA  ILE B 137       7.543   5.905  -1.358  1.00  0.00           C  \\nATOM   1107  C   ILE B 137       8.029   7.342  -1.492  1.00  0.00           C  \\nATOM   1108  O   ILE B 137       7.495   8.116  -2.287  1.00  0.00           O  \\nATOM   1109  CB  ILE B 137       8.059   5.061  -2.538  1.00  0.00           C  \\nATOM   1110  CG1 ILE B 137       7.536   3.626  -2.435  1.00  0.00           C  \\nATOM   1111  CG2 ILE B 137       9.579   5.076  -2.579  1.00  0.00           C  \\nATOM   1112  CD1 ILE B 137       7.869   2.767  -3.634  1.00  0.00           C  \\nATOM   1113  N   HIS B 138       9.028   7.737  -0.660  1.00  0.00           N  \\nATOM   1114  CA  HIS B 138       9.637   9.060  -0.721  1.00  0.00           C  \\nATOM   1115  C   HIS B 138      11.142   8.964  -0.936  1.00  0.00           C  \\nATOM   1116  O   HIS B 138      11.800   8.071  -0.400  1.00  0.00           O  \\nATOM   1117  CB  HIS B 138       9.369   9.846   0.566  1.00  0.00           C  \\nATOM   1118  CG  HIS B 138       7.918  10.086   0.847  1.00  0.00           C  \\nATOM   1119  CD2 HIS B 138       7.131  11.162   0.616  1.00  0.00           C  \\nATOM   1120  ND1 HIS B 138       5.882  10.865   1.105  1.00  0.00           N  \\nATOM   1121  CE1 HIS B 138       5.886   9.625   1.563  1.00  0.00           C  \\nATOM   1122  NE2 HIS B 138       7.098   9.126   1.405  1.00  0.00           N  \\nATOM   1123  N   HIS B 139      11.720   9.771  -1.862  1.00  0.00           N  \\nATOM   1124  CA  HIS B 139      13.161   9.955  -1.983  1.00  0.00           C  \\nATOM   1125  C   HIS B 139      13.686  10.912  -0.920  1.00  0.00           C  \\nATOM   1126  O   HIS B 139      13.249  12.060  -0.834  1.00  0.00           O  \\nATOM   1127  CB  HIS B 139      13.496  10.474  -3.386  1.00  0.00           C  \\nATOM   1128  CG  HIS B 139      14.944  10.782  -3.611  1.00  0.00           C  \\nATOM   1129  CD2 HIS B 139      16.050  10.011  -3.488  1.00  0.00           C  \\nATOM   1130  ND1 HIS B 139      17.092  10.745  -4.026  1.00  0.00           N  \\nATOM   1131  CE1 HIS B 139      16.702  12.004  -4.132  1.00  0.00           C  \\nATOM   1132  NE2 HIS B 139      15.424  12.072  -3.808  1.00  0.00           N  \\nATOM   1133  N   LYS B 140      14.592  10.393   0.022  1.00  0.00           N  \\nATOM   1134  CA  LYS B 140      15.149  11.240   1.070  1.00  0.00           C  \\nATOM   1135  C   LYS B 140      15.978  12.373   0.479  1.00  0.00           C  \\nATOM   1136  O   LYS B 140      16.808  12.154  -0.403  1.00  0.00           O  \\nATOM   1137  CB  LYS B 140      16.003  10.403   2.024  1.00  0.00           C  \\nATOM   1138  CG  LYS B 140      16.513  11.134   3.259  1.00  0.00           C  \\nATOM   1139  CD  LYS B 140      15.424  11.263   4.313  1.00  0.00           C  \\nATOM   1140  CE  LYS B 140      15.941  11.961   5.562  1.00  0.00           C  \\nATOM   1141  NZ  LYS B 140      14.844  12.284   6.515  1.00  0.00           N  \\nATOM   1142  N   LYS B 141      15.690  13.634   0.854  1.00  0.00           N  \\nATOM   1143  CA  LYS B 141      16.453  14.812   0.460  1.00  0.00           C  \\nATOM   1144  C   LYS B 141      17.342  15.299   1.597  1.00  0.00           C  \\nATOM   1145  O   LYS B 141      17.220  14.840   2.733  1.00  0.00           O  \\nATOM   1146  CB  LYS B 141      15.495  15.922   0.025  1.00  0.00           C  \\nATOM   1147  CG  LYS B 141      14.546  15.560  -1.109  1.00  0.00           C  \\nATOM   1148  CD  LYS B 141      15.309  15.210  -2.378  1.00  0.00           C  \\nATOM   1149  CE  LYS B 141      15.950  16.443  -2.997  1.00  0.00           C  \\nATOM   1150  NZ  LYS B 141      16.541  16.152  -4.331  1.00  0.00           N  \\nATOM   1151  N   PRO B 142      18.377  16.273   1.342  1.00  0.00           N  \\nATOM   1152  CA  PRO B 142      19.165  16.894   2.400  1.00  0.00           C  \\nATOM   1153  C   PRO B 142      18.279  17.351   3.551  1.00  0.00           C  \\nATOM   1154  O   PRO B 142      18.528  17.017   4.709  1.00  0.00           O  \\nATOM   1155  CB  PRO B 142      19.834  18.082   1.701  1.00  0.00           C  \\nATOM   1156  CG  PRO B 142      20.004  17.635   0.289  1.00  0.00           C  \\nATOM   1157  CD  PRO B 142      18.780  16.804   0.010  1.00  0.00           C  \\nATOM   1158  N   THR B 143      17.266  18.300   3.281  1.00  0.00           N  \\nATOM   1159  CA  THR B 143      16.178  18.640   4.190  1.00  0.00           C  \\nATOM   1160  C   THR B 143      14.836  18.176   3.640  1.00  0.00           C  \\nATOM   1161  O   THR B 143      14.504  18.438   2.484  1.00  0.00           O  \\nATOM   1162  CB  THR B 143      16.149  20.158   4.443  1.00  0.00           C  \\nATOM   1163  CG2 THR B 143      15.193  20.506   5.573  1.00  0.00           C  \\nATOM   1164  OG1 THR B 143      17.472  20.588   4.792  1.00  0.00           O  \\nATOM   1165  N   GLY B 144      14.157  17.241   4.380  1.00  0.00           N  \\nATOM   1166  CA  GLY B 144      12.857  16.696   4.008  1.00  0.00           C  \\nATOM   1167  C   GLY B 144      13.004  15.537   3.031  1.00  0.00           C  \\nATOM   1168  O   GLY B 144      14.072  14.933   2.927  1.00  0.00           O  \\nATOM   1169  N   MET B 145      11.884  14.982   2.511  1.00  0.00           N  \\nATOM   1170  CA  MET B 145      11.808  13.924   1.511  1.00  0.00           C  \\nATOM   1171  C   MET B 145      10.776  14.252   0.439  1.00  0.00           C  \\nATOM   1172  O   MET B 145       9.822  14.989   0.688  1.00  0.00           O  \\nATOM   1173  CB  MET B 145      11.495  12.588   2.181  1.00  0.00           C  \\nATOM   1174  CG  MET B 145      10.144  12.528   2.881  1.00  0.00           C  \\nATOM   1175  SD  MET B 145       9.811  10.913   3.613  1.00  0.00           S  \\nATOM   1176  CE  MET B 145      11.004  10.895   4.948  1.00  0.00           C  \\nATOM   1177  N   ILE B 146      10.992  13.805  -0.829  1.00  0.00           N  \\nATOM   1178  CA  ILE B 146      10.039  14.003  -1.914  1.00  0.00           C  \\nATOM   1179  C   ILE B 146       9.342  12.699  -2.280  1.00  0.00           C  \\nATOM   1180  O   ILE B 146       9.991  11.677  -2.500  1.00  0.00           O  \\nATOM   1181  CB  ILE B 146      10.733  14.594  -3.156  1.00  0.00           C  \\nATOM   1182  CG1 ILE B 146      11.349  15.955  -2.823  1.00  0.00           C  \\nATOM   1183  CG2 ILE B 146       9.748  14.719  -4.308  1.00  0.00           C  \\nATOM   1184  CD1 ILE B 146      12.171  16.544  -3.946  1.00  0.00           C  \\nATOM   1185  N   ARG B 147       7.914  12.688  -2.321  1.00  0.00           N  \\nATOM   1186  CA  ARG B 147       7.185  11.518  -2.796  1.00  0.00           C  \\nATOM   1187  C   ARG B 147       7.473  11.249  -4.268  1.00  0.00           C  \\nATOM   1188  O   ARG B 147       7.464  12.166  -5.089  1.00  0.00           O  \\nATOM   1189  CB  ARG B 147       5.689  11.708  -2.590  1.00  0.00           C  \\nATOM   1190  CG  ARG B 147       4.835  10.498  -2.934  1.00  0.00           C  \\nATOM   1191  CD  ARG B 147       3.403  10.727  -2.612  1.00  0.00           C  \\nATOM   1192  NE  ARG B 147       2.841  11.821  -3.387  1.00  0.00           N  \\nATOM   1193  NH1 ARG B 147       2.343  10.527  -5.229  1.00  0.00           N  \\nATOM   1194  NH2 ARG B 147       1.853  12.757  -5.255  1.00  0.00           N  \\nATOM   1195  CZ  ARG B 147       2.342  11.699  -4.633  1.00  0.00           C  \\nATOM   1196  N   ILE B 148       7.783   9.962  -4.601  1.00  0.00           N  \\nATOM   1197  CA  ILE B 148       8.115   9.613  -5.978  1.00  0.00           C  \\nATOM   1198  C   ILE B 148       7.168   8.550  -6.520  1.00  0.00           C  \\nATOM   1199  O   ILE B 148       7.109   8.316  -7.727  1.00  0.00           O  \\nATOM   1200  CB  ILE B 148       9.575   9.145  -6.120  1.00  0.00           C  \\nATOM   1201  CG1 ILE B 148       9.853   7.890  -5.289  1.00  0.00           C  \\nATOM   1202  CG2 ILE B 148      10.516  10.271  -5.721  1.00  0.00           C  \\nATOM   1203  CD1 ILE B 148      11.240   7.322  -5.487  1.00  0.00           C  \\nATOM   1204  N   HIS B 149       6.476   7.743  -5.573  1.00  0.00           N  \\nATOM   1205  CA  HIS B 149       5.575   6.688  -6.020  1.00  0.00           C  \\nATOM   1206  C   HIS B 149       4.504   6.398  -4.976  1.00  0.00           C  \\nATOM   1207  O   HIS B 149       4.746   6.518  -3.775  1.00  0.00           O  \\nATOM   1208  CB  HIS B 149       6.358   5.406  -6.325  1.00  0.00           C  \\nATOM   1209  CG  HIS B 149       5.520   4.288  -6.864  1.00  0.00           C  \\nATOM   1210  CD2 HIS B 149       5.137   3.114  -6.310  1.00  0.00           C  \\nATOM   1211  ND1 HIS B 149       4.350   2.467  -7.231  1.00  0.00           N  \\nATOM   1212  CE1 HIS B 149       4.285   3.201  -8.329  1.00  0.00           C  \\nATOM   1213  NE2 HIS B 149       4.990   4.301  -8.137  1.00  0.00           N  \\nATOM   1214  N   GLN B 150       3.250   6.196  -5.382  1.00  0.00           N  \\nATOM   1215  CA  GLN B 150       2.171   5.766  -4.501  1.00  0.00           C  \\nATOM   1216  C   GLN B 150       1.327   4.679  -5.155  1.00  0.00           C  \\nATOM   1217  O   GLN B 150       0.996   4.763  -6.337  1.00  0.00           O  \\nATOM   1218  CB  GLN B 150       1.289   6.961  -4.128  1.00  0.00           C  \\nATOM   1219  CG  GLN B 150       0.173   6.660  -3.142  1.00  0.00           C  \\nATOM   1220  CD  GLN B 150      -0.701   7.870  -2.871  1.00  0.00           C  \\nATOM   1221  NE2 GLN B 150      -1.889   7.631  -2.328  1.00  0.00           N  \\nATOM   1222  OE1 GLN B 150      -0.313   9.008  -3.148  1.00  0.00           O  \\nATOM   1223  N   MET B 151       1.036   3.587  -4.405  1.00  0.00           N  \\nATOM   1224  CA  MET B 151       0.139   2.518  -4.828  1.00  0.00           C  \\nATOM   1225  C   MET B 151      -0.975   2.300  -3.812  1.00  0.00           C  \\nATOM   1226  O   MET B 151      -0.715   2.053  -2.635  1.00  0.00           O  \\nATOM   1227  CB  MET B 151       0.928   1.230  -5.057  1.00  0.00           C  \\nATOM   1228  CG  MET B 151       0.098   0.025  -5.475  1.00  0.00           C  \\nATOM   1229  SD  MET B 151      -0.727   0.266  -7.061  1.00  0.00           S  \\nATOM   1230  CE  MET B 151      -1.593  -1.292  -7.232  1.00  0.00           C  \\nATOM   1231  N   ASN B 152      -2.245   2.475  -4.246  1.00  0.00           N  \\nATOM   1232  CA  ASN B 152      -3.425   2.258  -3.417  1.00  0.00           C  \\nATOM   1233  C   ASN B 152      -4.044   0.892  -3.686  1.00  0.00           C  \\nATOM   1234  O   ASN B 152      -4.102   0.441  -4.830  1.00  0.00           O  \\nATOM   1235  CB  ASN B 152      -4.455   3.347  -3.651  1.00  0.00           C  \\nATOM   1236  CG  ASN B 152      -3.949   4.729  -3.340  1.00  0.00           C  \\nATOM   1237  ND2 ASN B 152      -4.472   5.710  -4.029  1.00  0.00           N  \\nATOM   1238  OD1 ASN B 152      -3.084   4.906  -2.476  1.00  0.00           O  \\nATOM   1239  N   SER B 153      -4.456   0.143  -2.655  1.00  0.00           N  \\nATOM   1240  CA  SER B 153      -5.170  -1.116  -2.831  1.00  0.00           C  \\nATOM   1241  C   SER B 153      -6.314  -1.245  -1.834  1.00  0.00           C  \\nATOM   1242  O   SER B 153      -6.227  -0.754  -0.708  1.00  0.00           O  \\nATOM   1243  CB  SER B 153      -4.218  -2.286  -2.674  1.00  0.00           C  \\nATOM   1244  OG  SER B 153      -3.686  -2.333  -1.378  1.00  0.00           O  \\nATOM   1245  N   GLU B 154      -7.443  -1.811  -2.294  1.00  0.00           N  \\nATOM   1246  CA  GLU B 154      -8.585  -2.157  -1.457  1.00  0.00           C  \\nATOM   1247  C   GLU B 154      -8.506  -3.604  -0.988  1.00  0.00           C  \\nATOM   1248  O   GLU B 154      -8.352  -4.521  -1.795  1.00  0.00           O  \\nATOM   1249  CB  GLU B 154      -9.888  -1.925  -2.225  1.00  0.00           C  \\nATOM   1250  CG  GLU B 154     -11.155  -2.085  -1.397  1.00  0.00           C  \\nATOM   1251  CD  GLU B 154     -12.410  -1.906  -2.206  1.00  0.00           C  \\nATOM   1252  OE1 GLU B 154     -13.473  -1.941  -1.634  1.00  0.00           O  \\nATOM   1253  OE2 GLU B 154     -12.305  -1.736  -3.398  1.00  0.00           O  \\nATOM   1254  N   LEU B 155      -8.541  -3.853   0.329  1.00  0.00           N  \\nATOM   1255  CA  LEU B 155      -8.529  -5.196   0.896  1.00  0.00           C  \\nATOM   1256  C   LEU B 155      -9.932  -5.637   1.300  1.00  0.00           C  \\nATOM   1257  O   LEU B 155     -10.614  -4.949   2.060  1.00  0.00           O  \\nATOM   1258  CB  LEU B 155      -7.603  -5.246   2.118  1.00  0.00           C  \\nATOM   1259  CG  LEU B 155      -7.619  -6.526   2.964  1.00  0.00           C  \\nATOM   1260  CD1 LEU B 155      -7.094  -7.690   2.135  1.00  0.00           C  \\nATOM   1261  CD2 LEU B 155      -6.774  -6.319   4.213  1.00  0.00           C  \\nATOM   1262  N   SER B 156     -10.485  -6.704   0.671  1.00  0.00           N  \\nATOM   1263  CA  SER B 156     -11.602  -7.490   1.181  1.00  0.00           C  \\nATOM   1264  C   SER B 156     -11.112  -8.716   1.941  1.00  0.00           C  \\nATOM   1265  O   SER B 156     -10.184  -9.398   1.507  1.00  0.00           O  \\nATOM   1266  CB  SER B 156     -12.497  -7.920   0.034  1.00  0.00           C  \\nATOM   1267  OG  SER B 156     -13.005  -6.807  -0.648  1.00  0.00           O  \\nATOM   1268  N   VAL B 157     -11.580  -8.913   3.173  1.00  0.00           N  \\nATOM   1269  CA  VAL B 157     -11.309 -10.119   3.946  1.00  0.00           C  \\nATOM   1270  C   VAL B 157     -12.510 -11.056   3.943  1.00  0.00           C  \\nATOM   1271  O   VAL B 157     -13.571 -10.723   4.470  1.00  0.00           O  \\nATOM   1272  CB  VAL B 157     -10.908  -9.753   5.388  1.00  0.00           C  \\nATOM   1273  CG1 VAL B 157     -10.537 -11.002   6.173  1.00  0.00           C  \\nATOM   1274  CG2 VAL B 157      -9.751  -8.766   5.367  1.00  0.00           C  \\nATOM   1275  N   LEU B 158     -12.340 -12.259   3.298  1.00  0.00           N  \\nATOM   1276  CA  LEU B 158     -13.409 -13.211   3.021  1.00  0.00           C  \\nATOM   1277  C   LEU B 158     -13.340 -14.407   3.964  1.00  0.00           C  \\nATOM   1278  O   LEU B 158     -12.299 -14.680   4.561  1.00  0.00           O  \\nATOM   1279  CB  LEU B 158     -13.332 -13.683   1.563  1.00  0.00           C  \\nATOM   1280  CG  LEU B 158     -13.326 -12.590   0.487  1.00  0.00           C  \\nATOM   1281  CD1 LEU B 158     -13.143 -13.227  -0.884  1.00  0.00           C  \\nATOM   1282  CD2 LEU B 158     -14.627 -11.804   0.555  1.00  0.00           C  \\nATOM   1283  N   ALA B 159     -14.489 -15.168   4.179  1.00  0.00           N  \\nATOM   1284  CA  ALA B 159     -14.468 -16.364   5.013  1.00  0.00           C  \\nATOM   1285  C   ALA B 159     -15.000 -17.573   4.254  1.00  0.00           C  \\nATOM   1286  O   ALA B 159     -15.875 -17.446   3.398  1.00  0.00           O  \\nATOM   1287  CB  ALA B 159     -15.268 -16.140   6.288  1.00  0.00           C  \\nTER    1288      ALA B 159                                                       \\nEND   \\n\");\n\tviewer_1694835881461706.setStyle({\"model\": -1},{\"cartoon\": {\"colorscheme\": {\"prop\": \"b\", \"map\": {\"0\": \"#00ffff\", \"1\": \"#33ccff\", \"2\": \"#6699ff\", \"3\": \"#9966ff\", \"4\": \"#cc33ff\", \"5\": \"#ff00ff\"}}}, \"stick\": {}});\n\tviewer_1694835881461706.zoomTo();\nviewer_1694835881461706.render();\n});\n</script>",
      "text/html": [
       "<div id=\"3dmolviewer_1694835881461706\"  style=\"position: relative; width: 800px; height: 600px;\">\n",
       "        <p id=\"3dmolwarning_1694835881461706\" style=\"background-color:#ffcccc;color:black\">You appear to be running in JupyterLab (or JavaScript failed to load for some other reason).  You need to install the 3dmol extension: <br>\n",
       "        <tt>jupyter labextension install jupyterlab_3dmol</tt></p>\n",
       "        </div>\n",
       "<script>\n",
       "\n",
       "var loadScriptAsync = function(uri){\n",
       "  return new Promise((resolve, reject) => {\n",
       "    //this is to ignore the existence of requirejs amd\n",
       "    var savedexports, savedmodule;\n",
       "    if (typeof exports !== 'undefined') savedexports = exports;\n",
       "    else exports = {}\n",
       "    if (typeof module !== 'undefined') savedmodule = module;\n",
       "    else module = {}\n",
       "\n",
       "    var tag = document.createElement('script');\n",
       "    tag.src = uri;\n",
       "    tag.async = true;\n",
       "    tag.onload = () => {\n",
       "        exports = savedexports;\n",
       "        module = savedmodule;\n",
       "        resolve();\n",
       "    };\n",
       "  var firstScriptTag = document.getElementsByTagName('script')[0];\n",
       "  firstScriptTag.parentNode.insertBefore(tag, firstScriptTag);\n",
       "});\n",
       "};\n",
       "\n",
       "if(typeof $3Dmolpromise === 'undefined') {\n",
       "$3Dmolpromise = null;\n",
       "  $3Dmolpromise = loadScriptAsync('https://cdnjs.cloudflare.com/ajax/libs/3Dmol/2.0.3/3Dmol-min.js');\n",
       "}\n",
       "\n",
       "var viewer_1694835881461706 = null;\n",
       "var warn = document.getElementById(\"3dmolwarning_1694835881461706\");\n",
       "if(warn) {\n",
       "    warn.parentNode.removeChild(warn);\n",
       "}\n",
       "$3Dmolpromise.then(function() {\n",
       "viewer_1694835881461706 = $3Dmol.createViewer(document.getElementById(\"3dmolviewer_1694835881461706\"),{backgroundColor:\"white\"});\n",
       "viewer_1694835881461706.zoomTo();\n",
       "\tviewer_1694835881461706.addModelsAsFrames(\"ATOM      1  N   SER A   1      -0.413  29.965   4.458  1.00  0.00           N  \\nATOM      2  CA  SER A   1      -1.141  29.695   5.692  1.00  0.00           C  \\nATOM      3  C   SER A   1      -0.683  28.389   6.328  1.00  0.00           C  \\nATOM      4  O   SER A   1      -0.608  27.356   5.662  1.00  0.00           O  \\nATOM      5  CB  SER A   1      -2.639  29.693   5.457  1.00  0.00           C  \\nATOM      6  OG  SER A   1      -3.063  28.635   4.642  1.00  0.00           O  \\nATOM      7  N   LEU A   2      -0.292  28.435   7.677  1.00  0.00           N  \\nATOM      8  CA  LEU A   2       0.126  27.272   8.452  1.00  0.00           C  \\nATOM      9  C   LEU A   2      -0.999  26.779   9.356  1.00  0.00           C  \\nATOM     10  O   LEU A   2      -1.704  27.575   9.976  1.00  0.00           O  \\nATOM     11  CB  LEU A   2       1.352  27.659   9.289  1.00  0.00           C  \\nATOM     12  CG  LEU A   2       2.062  26.630  10.179  1.00  0.00           C  \\nATOM     13  CD1 LEU A   2       2.723  25.573   9.305  1.00  0.00           C  \\nATOM     14  CD2 LEU A   2       3.087  27.337  11.052  1.00  0.00           C  \\nATOM     15  N   LEU A   3      -1.503  25.563   9.121  1.00  0.00           N  \\nATOM     16  CA  LEU A   3      -2.365  24.822  10.034  1.00  0.00           C  \\nATOM     17  C   LEU A   3      -1.561  23.829  10.867  1.00  0.00           C  \\nATOM     18  O   LEU A   3      -0.686  23.136  10.350  1.00  0.00           O  \\nATOM     19  CB  LEU A   3      -3.466  24.101   9.246  1.00  0.00           C  \\nATOM     20  CG  LEU A   3      -4.698  23.427   9.862  1.00  0.00           C  \\nATOM     21  CD1 LEU A   3      -5.654  24.492  10.381  1.00  0.00           C  \\nATOM     22  CD2 LEU A   3      -5.371  22.548   8.818  1.00  0.00           C  \\nATOM     23  N   GLU A   4      -1.751  23.843  12.221  1.00  0.00           N  \\nATOM     24  CA  GLU A   4      -1.179  22.859  13.133  1.00  0.00           C  \\nATOM     25  C   GLU A   4      -2.255  21.939  13.695  1.00  0.00           C  \\nATOM     26  O   GLU A   4      -3.329  22.393  14.092  1.00  0.00           O  \\nATOM     27  CB  GLU A   4      -0.451  23.566  14.278  1.00  0.00           C  \\nATOM     28  CG  GLU A   4       0.797  24.356  13.909  1.00  0.00           C  \\nATOM     29  CD  GLU A   4       1.388  25.095  15.077  1.00  0.00           C  \\nATOM     30  OE1 GLU A   4       2.412  25.712  14.909  1.00  0.00           O  \\nATOM     31  OE2 GLU A   4       0.815  25.041  16.140  1.00  0.00           O  \\nATOM     32  N   GLN A   5      -2.056  20.624  13.502  1.00  0.00           N  \\nATOM     33  CA  GLN A   5      -2.884  19.585  14.103  1.00  0.00           C  \\nATOM     34  C   GLN A   5      -2.104  18.791  15.142  1.00  0.00           C  \\nATOM     35  O   GLN A   5      -0.905  18.556  14.987  1.00  0.00           O  \\nATOM     36  CB  GLN A   5      -3.405  18.613  13.041  1.00  0.00           C  \\nATOM     37  CG  GLN A   5      -4.544  19.102  12.162  1.00  0.00           C  \\nATOM     38  CD  GLN A   5      -4.943  18.083  11.112  1.00  0.00           C  \\nATOM     39  NE2 GLN A   5      -5.025  18.524   9.862  1.00  0.00           N  \\nATOM     40  OE1 GLN A   5      -5.176  16.911  11.421  1.00  0.00           O  \\nATOM     41  N   THR A   6      -2.758  18.475  16.286  1.00  0.00           N  \\nATOM     42  CA  THR A   6      -2.176  17.592  17.289  1.00  0.00           C  \\nATOM     43  C   THR A   6      -2.818  16.211  17.246  1.00  0.00           C  \\nATOM     44  O   THR A   6      -4.042  16.086  17.209  1.00  0.00           O  \\nATOM     45  CB  THR A   6      -2.344  18.208  18.690  1.00  0.00           C  \\nATOM     46  CG2 THR A   6      -1.588  17.399  19.733  1.00  0.00           C  \\nATOM     47  OG1 THR A   6      -1.835  19.548  18.670  1.00  0.00           O  \\nATOM     48  N   LEU A   7      -1.963  15.203  17.088  1.00  0.00           N  \\nATOM     49  CA  LEU A   7      -2.348  13.797  17.118  1.00  0.00           C  \\nATOM     50  C   LEU A   7      -1.815  13.105  18.368  1.00  0.00           C  \\nATOM     51  O   LEU A   7      -0.682  13.346  18.787  1.00  0.00           O  \\nATOM     52  CB  LEU A   7      -1.803  13.113  15.858  1.00  0.00           C  \\nATOM     53  CG  LEU A   7      -2.113  11.639  15.564  1.00  0.00           C  \\nATOM     54  CD1 LEU A   7      -3.600  11.481  15.274  1.00  0.00           C  \\nATOM     55  CD2 LEU A   7      -1.273  11.169  14.385  1.00  0.00           C  \\nATOM     56  N   SER A   8      -2.714  12.367  19.086  1.00  0.00           N  \\nATOM     57  CA  SER A   8      -2.279  11.554  20.216  1.00  0.00           C  \\nATOM     58  C   SER A   8      -2.107  10.096  19.811  1.00  0.00           C  \\nATOM     59  O   SER A   8      -3.041   9.465  19.317  1.00  0.00           O  \\nATOM     60  CB  SER A   8      -3.285  11.673  21.344  1.00  0.00           C  \\nATOM     61  OG  SER A   8      -3.487  13.011  21.707  1.00  0.00           O  \\nATOM     62  N   VAL A   9      -0.808   9.613  19.753  1.00  0.00           N  \\nATOM     63  CA  VAL A   9      -0.464   8.220  19.495  1.00  0.00           C  \\nATOM     64  C   VAL A   9       0.184   7.578  20.715  1.00  0.00           C  \\nATOM     65  O   VAL A   9       1.048   8.174  21.357  1.00  0.00           O  \\nATOM     66  CB  VAL A   9       0.466   8.121  18.271  1.00  0.00           C  \\nATOM     67  CG1 VAL A   9       0.771   6.677  17.903  1.00  0.00           C  \\nATOM     68  CG2 VAL A   9      -0.173   8.853  17.100  1.00  0.00           C  \\nATOM     69  N   LYS A  10      -0.213   6.376  21.292  1.00  0.00           N  \\nATOM     70  CA  LYS A  10       0.357   5.636  22.412  1.00  0.00           C  \\nATOM     71  C   LYS A  10       0.368   6.479  23.681  1.00  0.00           C  \\nATOM     72  O   LYS A  10       1.253   6.335  24.525  1.00  0.00           O  \\nATOM     73  CB  LYS A  10       1.760   5.124  22.085  1.00  0.00           C  \\nATOM     74  CG  LYS A  10       1.810   4.109  20.950  1.00  0.00           C  \\nATOM     75  CD  LYS A  10       3.235   3.649  20.682  1.00  0.00           C  \\nATOM     76  CE  LYS A  10       3.286   2.632  19.552  1.00  0.00           C  \\nATOM     77  NZ  LYS A  10       4.673   2.166  19.284  1.00  0.00           N  \\nATOM     78  N   GLY A  11      -0.200   7.602  23.959  1.00  0.00           N  \\nATOM     79  CA  GLY A  11      -0.096   8.416  25.165  1.00  0.00           C  \\nATOM     80  C   GLY A  11       0.750   9.659  24.919  1.00  0.00           C  \\nATOM     81  O   GLY A  11       0.860  10.527  25.784  1.00  0.00           O  \\nATOM     82  N   LYS A  12       1.437   9.779  23.691  1.00  0.00           N  \\nATOM     83  CA  LYS A  12       2.315  10.879  23.311  1.00  0.00           C  \\nATOM     84  C   LYS A  12       1.661  11.769  22.261  1.00  0.00           C  \\nATOM     85  O   LYS A  12       0.945  11.286  21.384  1.00  0.00           O  \\nATOM     86  CB  LYS A  12       3.648  10.334  22.795  1.00  0.00           C  \\nATOM     87  CG  LYS A  12       4.453   9.575  23.841  1.00  0.00           C  \\nATOM     88  CD  LYS A  12       5.816   9.169  23.302  1.00  0.00           C  \\nATOM     89  CE  LYS A  12       6.634   8.437  24.356  1.00  0.00           C  \\nATOM     90  NZ  LYS A  12       8.029   8.185  23.902  1.00  0.00           N  \\nATOM     91  N   THR A  13       1.833  13.155  22.454  1.00  0.00           N  \\nATOM     92  CA  THR A  13       1.301  14.163  21.544  1.00  0.00           C  \\nATOM     93  C   THR A  13       2.295  14.482  20.435  1.00  0.00           C  \\nATOM     94  O   THR A  13       3.457  14.791  20.699  1.00  0.00           O  \\nATOM     95  CB  THR A  13       0.949  15.447  22.318  1.00  0.00           C  \\nATOM     96  CG2 THR A  13       0.274  16.461  21.407  1.00  0.00           C  \\nATOM     97  OG1 THR A  13       0.061  15.111  23.393  1.00  0.00           O  \\nATOM     98  N   TYR A  14       1.884  14.208  19.145  1.00  0.00           N  \\nATOM     99  CA  TYR A  14       2.624  14.681  17.981  1.00  0.00           C  \\nATOM    100  C   TYR A  14       1.895  15.829  17.294  1.00  0.00           C  \\nATOM    101  O   TYR A  14       0.666  15.892  17.306  1.00  0.00           O  \\nATOM    102  CB  TYR A  14       2.825  13.557  16.962  1.00  0.00           C  \\nATOM    103  CG  TYR A  14       3.769  12.465  17.416  1.00  0.00           C  \\nATOM    104  CD1 TYR A  14       3.271  11.339  18.054  1.00  0.00           C  \\nATOM    105  CD2 TYR A  14       5.132  12.591  17.195  1.00  0.00           C  \\nATOM    106  CE1 TYR A  14       4.133  10.342  18.469  1.00  0.00           C  \\nATOM    107  CE2 TYR A  14       5.994  11.595  17.610  1.00  0.00           C  \\nATOM    108  OH  TYR A  14       6.353   9.478  18.660  1.00  0.00           O  \\nATOM    109  CZ  TYR A  14       5.494  10.471  18.247  1.00  0.00           C  \\nATOM    110  N   LYS A  15       2.661  16.906  16.992  1.00  0.00           N  \\nATOM    111  CA  LYS A  15       2.164  18.036  16.217  1.00  0.00           C  \\nATOM    112  C   LYS A  15       2.503  17.882  14.740  1.00  0.00           C  \\nATOM    113  O   LYS A  15       3.634  17.552  14.384  1.00  0.00           O  \\nATOM    114  CB  LYS A  15       2.743  19.350  16.746  1.00  0.00           C  \\nATOM    115  CG  LYS A  15       2.259  19.781  18.124  1.00  0.00           C  \\nATOM    116  CD  LYS A  15       2.865  21.115  18.531  1.00  0.00           C  \\nATOM    117  CE  LYS A  15       2.401  21.536  19.917  1.00  0.00           C  \\nATOM    118  NZ  LYS A  15       2.865  22.906  20.268  1.00  0.00           N  \\nATOM    119  N   LEU A  16       1.481  17.838  13.875  1.00  0.00           N  \\nATOM    120  CA  LEU A  16       1.673  17.964  12.435  1.00  0.00           C  \\nATOM    121  C   LEU A  16       1.420  19.394  11.968  1.00  0.00           C  \\nATOM    122  O   LEU A  16       0.405  20.000  12.313  1.00  0.00           O  \\nATOM    123  CB  LEU A  16       0.739  17.003  11.689  1.00  0.00           C  \\nATOM    124  CG  LEU A  16       0.906  15.497  11.932  1.00  0.00           C  \\nATOM    125  CD1 LEU A  16      -0.279  14.752  11.333  1.00  0.00           C  \\nATOM    126  CD2 LEU A  16       2.216  15.026  11.318  1.00  0.00           C  \\nATOM    127  N   ARG A  17       2.462  20.000  11.352  1.00  0.00           N  \\nATOM    128  CA  ARG A  17       2.333  21.293  10.691  1.00  0.00           C  \\nATOM    129  C   ARG A  17       2.154  21.128   9.188  1.00  0.00           C  \\nATOM    130  O   ARG A  17       2.906  20.400   8.539  1.00  0.00           O  \\nATOM    131  CB  ARG A  17       3.554  22.162  10.957  1.00  0.00           C  \\nATOM    132  CG  ARG A  17       3.681  22.775  12.343  1.00  0.00           C  \\nATOM    133  CD  ARG A  17       4.927  23.572  12.479  1.00  0.00           C  \\nATOM    134  NE  ARG A  17       5.052  24.161  13.802  1.00  0.00           N  \\nATOM    135  NH1 ARG A  17       6.941  25.383  13.301  1.00  0.00           N  \\nATOM    136  NH2 ARG A  17       6.048  25.504  15.398  1.00  0.00           N  \\nATOM    137  CZ  ARG A  17       6.022  25.022  14.168  1.00  0.00           C  \\nATOM    138  N   MET A  18       1.007  21.586   8.632  1.00  0.00           N  \\nATOM    139  CA  MET A  18       0.768  21.651   7.196  1.00  0.00           C  \\nATOM    140  C   MET A  18       0.809  23.090   6.695  1.00  0.00           C  \\nATOM    141  O   MET A  18       0.194  23.979   7.282  1.00  0.00           O  \\nATOM    142  CB  MET A  18      -0.592  21.040   6.862  1.00  0.00           C  \\nATOM    143  CG  MET A  18      -0.684  19.526   6.983  1.00  0.00           C  \\nATOM    144  SD  MET A  18      -2.363  18.910   6.752  1.00  0.00           S  \\nATOM    145  CE  MET A  18      -2.619  19.268   5.017  1.00  0.00           C  \\nATOM    146  N   GLN A  19       1.723  23.358   5.691  1.00  0.00           N  \\nATOM    147  CA  GLN A  19       1.881  24.692   5.123  1.00  0.00           C  \\nATOM    148  C   GLN A  19       1.662  24.678   3.616  1.00  0.00           C  \\nATOM    149  O   GLN A  19       2.186  23.817   2.910  1.00  0.00           O  \\nATOM    150  CB  GLN A  19       3.276  25.231   5.449  1.00  0.00           C  \\nATOM    151  CG  GLN A  19       3.541  26.680   5.079  1.00  0.00           C  \\nATOM    152  CD  GLN A  19       4.914  27.149   5.523  1.00  0.00           C  \\nATOM    153  NE2 GLN A  19       4.987  28.380   6.018  1.00  0.00           N  \\nATOM    154  OE1 GLN A  19       5.900  26.413   5.421  1.00  0.00           O  \\nATOM    155  N   LYS A  20       0.712  25.583   3.136  1.00  0.00           N  \\nATOM    156  CA  LYS A  20       0.531  25.812   1.707  1.00  0.00           C  \\nATOM    157  C   LYS A  20       1.397  26.967   1.221  1.00  0.00           C  \\nATOM    158  O   LYS A  20       1.408  28.043   1.819  1.00  0.00           O  \\nATOM    159  CB  LYS A  20      -0.950  26.088   1.441  1.00  0.00           C  \\nATOM    160  CG  LYS A  20      -1.363  26.189  -0.021  1.00  0.00           C  \\nATOM    161  CD  LYS A  20      -2.853  26.466  -0.156  1.00  0.00           C  \\nATOM    162  CE  LYS A  20      -3.231  26.775  -1.597  1.00  0.00           C  \\nATOM    163  NZ  LYS A  20      -4.663  27.159  -1.726  1.00  0.00           N  \\nATOM    164  N   SER A  21       2.203  26.709   0.173  1.00  0.00           N  \\nATOM    165  CA  SER A  21       3.062  27.731  -0.414  1.00  0.00           C  \\nATOM    166  C   SER A  21       2.372  28.427  -1.580  1.00  0.00           C  \\nATOM    167  O   SER A  21       1.263  28.059  -1.966  1.00  0.00           O  \\nATOM    168  CB  SER A  21       4.376  27.120  -0.859  1.00  0.00           C  \\nATOM    169  OG  SER A  21       4.221  26.288  -1.976  1.00  0.00           O  \\nATOM    170  N   GLU A  22       2.997  29.489  -2.111  1.00  0.00           N  \\nATOM    171  CA  GLU A  22       2.510  30.323  -3.204  1.00  0.00           C  \\nATOM    172  C   GLU A  22       2.338  29.511  -4.481  1.00  0.00           C  \\nATOM    173  O   GLU A  22       1.584  29.896  -5.376  1.00  0.00           O  \\nATOM    174  CB  GLU A  22       3.448  31.510  -3.437  1.00  0.00           C  \\nATOM    175  CG  GLU A  22       3.473  32.563  -2.339  1.00  0.00           C  \\nATOM    176  CD  GLU A  22       4.445  33.676  -2.618  1.00  0.00           C  \\nATOM    177  OE1 GLU A  22       4.617  34.516  -1.768  1.00  0.00           O  \\nATOM    178  OE2 GLU A  22       5.017  33.685  -3.683  1.00  0.00           O  \\nATOM    179  N   ASN A  23       3.009  28.256  -4.653  1.00  0.00           N  \\nATOM    180  CA  ASN A  23       2.956  27.458  -5.872  1.00  0.00           C  \\nATOM    181  C   ASN A  23       1.890  26.374  -5.775  1.00  0.00           C  \\nATOM    182  O   ASN A  23       1.688  25.602  -6.712  1.00  0.00           O  \\nATOM    183  CB  ASN A  23       4.308  26.844  -6.185  1.00  0.00           C  \\nATOM    184  CG  ASN A  23       5.400  27.833  -6.487  1.00  0.00           C  \\nATOM    185  ND2 ASN A  23       6.623  27.449  -6.226  1.00  0.00           N  \\nATOM    186  OD1 ASN A  23       5.134  28.946  -6.956  1.00  0.00           O  \\nATOM    187  N   GLY A  24       1.243  26.158  -4.630  1.00  0.00           N  \\nATOM    188  CA  GLY A  24       0.142  25.215  -4.471  1.00  0.00           C  \\nATOM    189  C   GLY A  24       0.629  23.895  -3.885  1.00  0.00           C  \\nATOM    190  O   GLY A  24      -0.120  22.920  -3.823  1.00  0.00           O  \\nATOM    191  N   THR A  25       1.979  23.838  -3.388  1.00  0.00           N  \\nATOM    192  CA  THR A  25       2.512  22.647  -2.737  1.00  0.00           C  \\nATOM    193  C   THR A  25       2.224  22.661  -1.241  1.00  0.00           C  \\nATOM    194  O   THR A  25       2.231  23.717  -0.608  1.00  0.00           O  \\nATOM    195  CB  THR A  25       4.031  22.547  -2.969  1.00  0.00           C  \\nATOM    196  CG2 THR A  25       4.566  21.196  -2.519  1.00  0.00           C  \\nATOM    197  OG1 THR A  25       4.286  22.716  -4.369  1.00  0.00           O  \\nATOM    198  N   TYR A  26       1.629  21.521  -0.725  1.00  0.00           N  \\nATOM    199  CA  TYR A  26       1.413  21.331   0.704  1.00  0.00           C  \\nATOM    200  C   TYR A  26       2.550  20.537   1.333  1.00  0.00           C  \\nATOM    201  O   TYR A  26       3.001  19.535   0.779  1.00  0.00           O  \\nATOM    202  CB  TYR A  26       0.096  20.598   0.967  1.00  0.00           C  \\nATOM    203  CG  TYR A  26      -1.141  21.409   0.649  1.00  0.00           C  \\nATOM    204  CD1 TYR A  26      -1.708  21.342  -0.614  1.00  0.00           C  \\nATOM    205  CD2 TYR A  26      -1.706  22.221   1.622  1.00  0.00           C  \\nATOM    206  CE1 TYR A  26      -2.837  22.084  -0.905  1.00  0.00           C  \\nATOM    207  CE2 TYR A  26      -2.835  22.962   1.331  1.00  0.00           C  \\nATOM    208  OH  TYR A  26      -4.524  23.632  -0.221  1.00  0.00           O  \\nATOM    209  CZ  TYR A  26      -3.400  22.893   0.068  1.00  0.00           C  \\nATOM    210  N   SER A  27       3.225  21.151   2.353  1.00  0.00           N  \\nATOM    211  CA  SER A  27       4.223  20.458   3.158  1.00  0.00           C  \\nATOM    212  C   SER A  27       3.651  20.044   4.508  1.00  0.00           C  \\nATOM    213  O   SER A  27       2.903  20.795   5.133  1.00  0.00           O  \\nATOM    214  CB  SER A  27       5.432  21.350   3.363  1.00  0.00           C  \\nATOM    215  OG  SER A  27       5.980  21.791   2.151  1.00  0.00           O  \\nATOM    216  N   TRP A  28       3.674  18.716   4.788  1.00  0.00           N  \\nATOM    217  CA  TRP A  28       3.292  18.126   6.065  1.00  0.00           C  \\nATOM    218  C   TRP A  28       4.515  17.651   6.839  1.00  0.00           C  \\nATOM    219  O   TRP A  28       5.403  17.007   6.281  1.00  0.00           O  \\nATOM    220  CB  TRP A  28       2.372  16.924   5.843  1.00  0.00           C  \\nATOM    221  CG  TRP A  28       0.968  17.212   5.405  1.00  0.00           C  \\nATOM    222  CD1 TRP A  28       0.197  16.445   4.584  1.00  0.00           C  \\nATOM    223  CD2 TRP A  28       0.156  18.355   5.766  1.00  0.00           C  \\nATOM    224  CE2 TRP A  28      -1.076  18.198   5.126  1.00  0.00           C  \\nATOM    225  CE3 TRP A  28       0.372  19.481   6.570  1.00  0.00           C  \\nATOM    226  NE1 TRP A  28      -1.033  17.029   4.409  1.00  0.00           N  \\nATOM    227  CH2 TRP A  28      -1.853  20.239   6.066  1.00  0.00           C  \\nATOM    228  CZ2 TRP A  28      -2.096  19.127   5.260  1.00  0.00           C  \\nATOM    229  CZ3 TRP A  28      -0.651  20.412   6.705  1.00  0.00           C  \\nATOM    230  N   THR A  29       4.674  18.155   8.108  1.00  0.00           N  \\nATOM    231  CA  THR A  29       5.765  17.739   8.981  1.00  0.00           C  \\nATOM    232  C   THR A  29       5.237  17.197  10.303  1.00  0.00           C  \\nATOM    233  O   THR A  29       4.362  17.798  10.926  1.00  0.00           O  \\nATOM    234  CB  THR A  29       6.708  18.928   9.247  1.00  0.00           C  \\nATOM    235  CG2 THR A  29       7.927  18.480  10.038  1.00  0.00           C  \\nATOM    236  OG1 THR A  29       7.132  19.483   7.995  1.00  0.00           O  \\nATOM    237  N   ARG A  30       5.621  15.925  10.635  1.00  0.00           N  \\nATOM    238  CA  ARG A  30       5.375  15.317  11.937  1.00  0.00           C  \\nATOM    239  C   ARG A  30       6.478  15.667  12.927  1.00  0.00           C  \\nATOM    240  O   ARG A  30       7.660  15.453  12.655  1.00  0.00           O  \\nATOM    241  CB  ARG A  30       5.262  13.810  11.760  1.00  0.00           C  \\nATOM    242  CG  ARG A  30       4.796  13.015  12.970  1.00  0.00           C  \\nATOM    243  CD  ARG A  30       4.759  11.557  12.687  1.00  0.00           C  \\nATOM    244  NE  ARG A  30       4.620  10.772  13.904  1.00  0.00           N  \\nATOM    245  NH1 ARG A  30       4.954   8.739  12.871  1.00  0.00           N  \\nATOM    246  NH2 ARG A  30       4.575   8.808  15.121  1.00  0.00           N  \\nATOM    247  CZ  ARG A  30       4.717   9.430  13.964  1.00  0.00           C  \\nATOM    248  N   LEU A  31       6.077  16.368  14.026  1.00  0.00           N  \\nATOM    249  CA  LEU A  31       7.012  16.833  15.044  1.00  0.00           C  \\nATOM    250  C   LEU A  31       6.911  15.989  16.311  1.00  0.00           C  \\nATOM    251  O   LEU A  31       5.816  15.625  16.740  1.00  0.00           O  \\nATOM    252  CB  LEU A  31       6.738  18.302  15.387  1.00  0.00           C  \\nATOM    253  CG  LEU A  31       6.876  19.354  14.279  1.00  0.00           C  \\nATOM    254  CD1 LEU A  31       6.304  20.680  14.763  1.00  0.00           C  \\nATOM    255  CD2 LEU A  31       8.341  19.498  13.895  1.00  0.00           C  \\nATOM    256  N   SER A  32       8.116  15.602  16.895  1.00  0.00           N  \\nATOM    257  CA  SER A  32       8.168  14.862  18.150  1.00  0.00           C  \\nATOM    258  C   SER A  32       7.725  15.731  19.321  1.00  0.00           C  \\nATOM    259  O   SER A  32       7.487  16.928  19.162  1.00  0.00           O  \\nATOM    260  CB  SER A  32       9.567  14.322  18.372  1.00  0.00           C  \\nATOM    261  OG  SER A  32      10.459  15.326  18.773  1.00  0.00           O  \\nATOM    262  N   PRO A  33       7.694  15.160  20.610  1.00  0.00           N  \\nATOM    263  CA  PRO A  33       7.102  15.827  21.763  1.00  0.00           C  \\nATOM    264  C   PRO A  33       7.864  17.098  22.115  1.00  0.00           C  \\nATOM    265  O   PRO A  33       7.299  18.038  22.673  1.00  0.00           O  \\nATOM    266  CB  PRO A  33       7.181  14.807  22.903  1.00  0.00           C  \\nATOM    267  CG  PRO A  33       7.192  13.465  22.254  1.00  0.00           C  \\nATOM    268  CD  PRO A  33       7.905  13.689  20.946  1.00  0.00           C  \\nATOM    269  N   ARG A  34       9.213  17.213  21.914  1.00  0.00           N  \\nATOM    270  CA  ARG A  34      10.066  18.350  22.240  1.00  0.00           C  \\nATOM    271  C   ARG A  34      10.065  19.379  21.116  1.00  0.00           C  \\nATOM    272  O   ARG A  34      10.578  20.486  21.276  1.00  0.00           O  \\nATOM    273  CB  ARG A  34      11.487  17.892  22.531  1.00  0.00           C  \\nATOM    274  CG  ARG A  34      11.617  16.998  23.754  1.00  0.00           C  \\nATOM    275  CD  ARG A  34      13.024  16.581  23.983  1.00  0.00           C  \\nATOM    276  NE  ARG A  34      13.140  15.652  25.095  1.00  0.00           N  \\nATOM    277  NH1 ARG A  34      15.434  15.466  24.964  1.00  0.00           N  \\nATOM    278  NH2 ARG A  34      14.302  14.297  26.564  1.00  0.00           N  \\nATOM    279  CZ  ARG A  34      14.302  15.136  25.543  1.00  0.00           C  \\nATOM    280  N   GLY A  35       9.526  19.073  19.877  1.00  0.00           N  \\nATOM    281  CA  GLY A  35       9.338  20.043  18.805  1.00  0.00           C  \\nATOM    282  C   GLY A  35      10.338  19.818  17.678  1.00  0.00           C  \\nATOM    283  O   GLY A  35      10.444  20.630  16.758  1.00  0.00           O  \\nATOM    284  N   GLU A  36      11.100  18.637  17.636  1.00  0.00           N  \\nATOM    285  CA  GLU A  36      12.018  18.307  16.552  1.00  0.00           C  \\nATOM    286  C   GLU A  36      11.323  17.489  15.471  1.00  0.00           C  \\nATOM    287  O   GLU A  36      10.461  16.660  15.765  1.00  0.00           O  \\nATOM    288  CB  GLU A  36      13.222  17.542  17.106  1.00  0.00           C  \\nATOM    289  CG  GLU A  36      14.086  18.332  18.079  1.00  0.00           C  \\nATOM    290  CD  GLU A  36      15.161  17.498  18.717  1.00  0.00           C  \\nATOM    291  OE1 GLU A  36      16.067  18.061  19.283  1.00  0.00           O  \\nATOM    292  OE2 GLU A  36      15.076  16.295  18.640  1.00  0.00           O  \\nATOM    293  N   PRO A  37      11.733  17.703  14.136  1.00  0.00           N  \\nATOM    294  CA  PRO A  37      11.143  16.943  13.041  1.00  0.00           C  \\nATOM    295  C   PRO A  37      11.443  15.456  13.179  1.00  0.00           C  \\nATOM    296  O   PRO A  37      12.589  15.061  13.392  1.00  0.00           O  \\nATOM    297  CB  PRO A  37      11.787  17.519  11.776  1.00  0.00           C  \\nATOM    298  CG  PRO A  37      12.333  18.864  12.114  1.00  0.00           C  \\nATOM    299  CD  PRO A  37      12.762  18.743  13.552  1.00  0.00           C  \\nATOM    300  N   LEU A  38      10.410  14.573  13.557  1.00  0.00           N  \\nATOM    301  CA  LEU A  38      10.504  13.120  13.625  1.00  0.00           C  \\nATOM    302  C   LEU A  38      10.678  12.513  12.237  1.00  0.00           C  \\nATOM    303  O   LEU A  38      11.483  11.602  12.043  1.00  0.00           O  \\nATOM    304  CB  LEU A  38       9.261  12.536  14.310  1.00  0.00           C  \\nATOM    305  CG  LEU A  38       9.059  12.827  15.802  1.00  0.00           C  \\nATOM    306  CD1 LEU A  38       7.665  12.378  16.223  1.00  0.00           C  \\nATOM    307  CD2 LEU A  38      10.131  12.110  16.610  1.00  0.00           C  \\nATOM    308  N   ALA A  39       9.609  12.539  11.526  1.00  0.00           N  \\nATOM    309  CA  ALA A  39       9.726  12.306  10.091  1.00  0.00           C  \\nATOM    310  C   ALA A  39       9.982  13.606   9.341  1.00  0.00           C  \\nATOM    311  O   ALA A  39       9.654  14.689   9.826  1.00  0.00           O  \\nATOM    312  CB  ALA A  39       8.457  11.642   9.576  1.00  0.00           C  \\nATOM    313  N   GLN A  40      10.653  13.538   8.246  1.00  0.00           N  \\nATOM    314  CA  GLN A  40      10.967  14.660   7.370  1.00  0.00           C  \\nATOM    315  C   GLN A  40       9.707  15.226   6.728  1.00  0.00           C  \\nATOM    316  O   GLN A  40       8.710  14.523   6.568  1.00  0.00           O  \\nATOM    317  CB  GLN A  40      11.985  14.188   6.329  1.00  0.00           C  \\nATOM    318  CG  GLN A  40      13.353  13.742   6.816  1.00  0.00           C  \\nATOM    319  CD  GLN A  40      14.038  14.798   7.663  1.00  0.00           C  \\nATOM    320  NE2 GLN A  40      15.152  14.427   8.283  1.00  0.00           N  \\nATOM    321  OE1 GLN A  40      13.570  15.936   7.760  1.00  0.00           O  \\nATOM    322  N   PRO A  41       9.658  16.589   6.342  1.00  0.00           N  \\nATOM    323  CA  PRO A  41       8.510  17.227   5.709  1.00  0.00           C  \\nATOM    324  C   PRO A  41       8.231  16.624   4.338  1.00  0.00           C  \\nATOM    325  O   PRO A  41       9.153  16.346   3.572  1.00  0.00           O  \\nATOM    326  CB  PRO A  41       8.757  18.735   5.601  1.00  0.00           C  \\nATOM    327  CG  PRO A  41       9.898  19.063   6.503  1.00  0.00           C  \\nATOM    328  CD  PRO A  41      10.695  17.789   6.576  1.00  0.00           C  \\nATOM    329  N   VAL A  42       6.857  16.158   4.127  1.00  0.00           N  \\nATOM    330  CA  VAL A  42       6.414  15.748   2.799  1.00  0.00           C  \\nATOM    331  C   VAL A  42       5.846  16.927   2.020  1.00  0.00           C  \\nATOM    332  O   VAL A  42       5.122  17.757   2.570  1.00  0.00           O  \\nATOM    333  CB  VAL A  42       5.426  14.570   2.893  1.00  0.00           C  \\nATOM    334  CG1 VAL A  42       4.932  14.056   1.549  1.00  0.00           C  \\nATOM    335  CG2 VAL A  42       6.103  13.458   3.680  1.00  0.00           C  \\nATOM    336  N   SER A  43       6.450  17.337   0.895  1.00  0.00           N  \\nATOM    337  CA  SER A  43       5.851  18.286  -0.036  1.00  0.00           C  \\nATOM    338  C   SER A  43       5.024  17.570  -1.096  1.00  0.00           C  \\nATOM    339  O   SER A  43       5.513  16.663  -1.770  1.00  0.00           O  \\nATOM    340  CB  SER A  43       6.939  19.118  -0.684  1.00  0.00           C  \\nATOM    341  OG  SER A  43       7.713  19.790   0.272  1.00  0.00           O  \\nATOM    342  N   VAL A  44       3.647  17.680  -0.996  1.00  0.00           N  \\nATOM    343  CA  VAL A  44       2.723  17.066  -1.942  1.00  0.00           C  \\nATOM    344  C   VAL A  44       2.194  18.089  -2.939  1.00  0.00           C  \\nATOM    345  O   VAL A  44       1.736  19.166  -2.555  1.00  0.00           O  \\nATOM    346  CB  VAL A  44       1.588  16.334  -1.201  1.00  0.00           C  \\nATOM    347  CG1 VAL A  44       0.614  15.628  -2.133  1.00  0.00           C  \\nATOM    348  CG2 VAL A  44       2.212  15.348  -0.226  1.00  0.00           C  \\nATOM    349  N   ALA A  45       2.481  17.911  -4.240  1.00  0.00           N  \\nATOM    350  CA  ALA A  45       1.874  18.726  -5.285  1.00  0.00           C  \\nATOM    351  C   ALA A  45       0.601  18.082  -5.817  1.00  0.00           C  \\nATOM    352  O   ALA A  45       0.543  16.868  -6.013  1.00  0.00           O  \\nATOM    353  CB  ALA A  45       2.882  18.939  -6.406  1.00  0.00           C  \\nATOM    354  N   PRO A  46      -0.508  18.855  -5.871  1.00  0.00           N  \\nATOM    355  CA  PRO A  46      -1.818  18.424  -6.343  1.00  0.00           C  \\nATOM    356  C   PRO A  46      -1.743  17.894  -7.769  1.00  0.00           C  \\nATOM    357  O   PRO A  46      -1.142  18.520  -8.643  1.00  0.00           O  \\nATOM    358  CB  PRO A  46      -2.855  19.536  -6.160  1.00  0.00           C  \\nATOM    359  CG  PRO A  46      -2.146  20.838  -6.005  1.00  0.00           C  \\nATOM    360  CD  PRO A  46      -0.717  20.456  -5.727  1.00  0.00           C  \\nATOM    361  N   THR A  47      -2.155  16.605  -8.074  1.00  0.00           N  \\nATOM    362  CA  THR A  47      -2.320  16.103  -9.433  1.00  0.00           C  \\nATOM    363  C   THR A  47      -3.701  16.439  -9.981  1.00  0.00           C  \\nATOM    364  O   THR A  47      -4.718  16.101  -9.376  1.00  0.00           O  \\nATOM    365  CB  THR A  47      -2.105  14.578  -9.443  1.00  0.00           C  \\nATOM    366  CG2 THR A  47      -2.038  14.028 -10.860  1.00  0.00           C  \\nATOM    367  OG1 THR A  47      -0.862  14.322  -8.776  1.00  0.00           O  \\nATOM    368  N   PHE A  48      -3.836  17.455 -10.905  1.00  0.00           N  \\nATOM    369  CA  PHE A  48      -5.094  17.831 -11.537  1.00  0.00           C  \\nATOM    370  C   PHE A  48      -5.427  16.902 -12.698  1.00  0.00           C  \\nATOM    371  O   PHE A  48      -4.578  16.622 -13.544  1.00  0.00           O  \\nATOM    372  CB  PHE A  48      -5.076  19.277 -12.035  1.00  0.00           C  \\nATOM    373  CG  PHE A  48      -5.115  20.345 -10.980  1.00  0.00           C  \\nATOM    374  CD1 PHE A  48      -3.974  21.066 -10.659  1.00  0.00           C  \\nATOM    375  CD2 PHE A  48      -6.292  20.632 -10.306  1.00  0.00           C  \\nATOM    376  CE1 PHE A  48      -4.009  22.049  -9.688  1.00  0.00           C  \\nATOM    377  CE2 PHE A  48      -6.330  21.614  -9.335  1.00  0.00           C  \\nATOM    378  CZ  PHE A  48      -5.188  22.323  -9.026  1.00  0.00           C  \\nATOM    379  N   ILE A  49      -6.471  16.042 -12.657  1.00  0.00           N  \\nATOM    380  CA  ILE A  49      -6.930  15.276 -13.809  1.00  0.00           C  \\nATOM    381  C   ILE A  49      -7.740  16.146 -14.762  1.00  0.00           C  \\nATOM    382  O   ILE A  49      -8.335  17.142 -14.354  1.00  0.00           O  \\nATOM    383  CB  ILE A  49      -7.705  14.022 -13.364  1.00  0.00           C  \\nATOM    384  CG1 ILE A  49      -6.818  13.109 -12.514  1.00  0.00           C  \\nATOM    385  CG2 ILE A  49      -8.239  13.274 -14.576  1.00  0.00           C  \\nATOM    386  CD1 ILE A  49      -7.577  12.017 -11.795  1.00  0.00           C  \\nTER     387      ILE A  49                                                       \\nATOM    387  N   MET B  50      -6.872   1.518  -8.688  1.00  0.00           N  \\nATOM    388  CA  MET B  50      -7.027   0.912  -7.371  1.00  0.00           C  \\nATOM    389  C   MET B  50      -7.008  -0.608  -7.457  1.00  0.00           C  \\nATOM    390  O   MET B  50      -7.864  -1.214  -8.102  1.00  0.00           O  \\nATOM    391  CB  MET B  50      -8.324   1.403  -6.729  1.00  0.00           C  \\nATOM    392  CG  MET B  50      -8.580   0.863  -5.330  1.00  0.00           C  \\nATOM    393  SD  MET B  50     -10.074   1.544  -4.583  1.00  0.00           S  \\nATOM    394  CE  MET B  50     -11.338   0.736  -5.560  1.00  0.00           C  \\nATOM    395  N   LEU B  51      -6.022  -1.309  -6.855  1.00  0.00           N  \\nATOM    396  CA  LEU B  51      -6.001  -2.766  -6.819  1.00  0.00           C  \\nATOM    397  C   LEU B  51      -7.024  -3.309  -5.827  1.00  0.00           C  \\nATOM    398  O   LEU B  51      -7.098  -2.853  -4.686  1.00  0.00           O  \\nATOM    399  CB  LEU B  51      -4.596  -3.261  -6.451  1.00  0.00           C  \\nATOM    400  CG  LEU B  51      -4.395  -4.778  -6.345  1.00  0.00           C  \\nATOM    401  CD1 LEU B  51      -4.597  -5.414  -7.714  1.00  0.00           C  \\nATOM    402  CD2 LEU B  51      -3.003  -5.069  -5.806  1.00  0.00           C  \\nATOM    403  N   LYS B  52      -7.917  -4.231  -6.277  1.00  0.00           N  \\nATOM    404  CA  LYS B  52      -8.845  -4.927  -5.394  1.00  0.00           C  \\nATOM    405  C   LYS B  52      -8.263  -6.252  -4.918  1.00  0.00           C  \\nATOM    406  O   LYS B  52      -7.997  -7.148  -5.719  1.00  0.00           O  \\nATOM    407  CB  LYS B  52     -10.177  -5.149  -6.114  1.00  0.00           C  \\nATOM    408  CG  LYS B  52     -10.900  -3.865  -6.499  1.00  0.00           C  \\nATOM    409  CD  LYS B  52     -12.147  -4.158  -7.319  1.00  0.00           C  \\nATOM    410  CE  LYS B  52     -13.218  -4.836  -6.477  1.00  0.00           C  \\nATOM    411  NZ  LYS B  52     -13.923  -3.871  -5.591  1.00  0.00           N  \\nATOM    412  N   ILE B  53      -7.925  -6.341  -3.627  1.00  0.00           N  \\nATOM    413  CA  ILE B  53      -7.369  -7.532  -2.996  1.00  0.00           C  \\nATOM    414  C   ILE B  53      -8.450  -8.336  -2.288  1.00  0.00           C  \\nATOM    415  O   ILE B  53      -9.212  -7.798  -1.484  1.00  0.00           O  \\nATOM    416  CB  ILE B  53      -6.255  -7.149  -2.005  1.00  0.00           C  \\nATOM    417  CG1 ILE B  53      -5.189  -6.300  -2.703  1.00  0.00           C  \\nATOM    418  CG2 ILE B  53      -5.631  -8.396  -1.396  1.00  0.00           C  \\nATOM    419  CD1 ILE B  53      -4.105  -5.797  -1.777  1.00  0.00           C  \\nATOM    420  N   GLN B  54      -8.586  -9.614  -2.653  1.00  0.00           N  \\nATOM    421  CA  GLN B  54      -9.527 -10.553  -2.054  1.00  0.00           C  \\nATOM    422  C   GLN B  54      -8.800 -11.621  -1.247  1.00  0.00           C  \\nATOM    423  O   GLN B  54      -8.237 -12.561  -1.809  1.00  0.00           O  \\nATOM    424  CB  GLN B  54     -10.387 -11.189  -3.149  1.00  0.00           C  \\nATOM    425  CG  GLN B  54     -11.215 -10.198  -3.949  1.00  0.00           C  \\nATOM    426  CD  GLN B  54     -12.087 -10.877  -4.988  1.00  0.00           C  \\nATOM    427  NE2 GLN B  54     -12.866 -10.085  -5.715  1.00  0.00           N  \\nATOM    428  OE1 GLN B  54     -12.061 -12.102  -5.135  1.00  0.00           O  \\nATOM    429  N   ALA B  55      -8.676 -11.409   0.063  1.00  0.00           N  \\nATOM    430  CA  ALA B  55      -7.993 -12.297   0.996  1.00  0.00           C  \\nATOM    431  C   ALA B  55      -8.975 -12.927   1.975  1.00  0.00           C  \\nATOM    432  O   ALA B  55     -10.113 -12.477   2.104  1.00  0.00           O  \\nATOM    433  CB  ALA B  55      -6.902 -11.532   1.730  1.00  0.00           C  \\nATOM    434  N   TYR B  56      -8.498 -14.001   2.744  1.00  0.00           N  \\nATOM    435  CA  TYR B  56      -9.426 -14.718   3.610  1.00  0.00           C  \\nATOM    436  C   TYR B  56      -9.069 -14.526   5.078  1.00  0.00           C  \\nATOM    437  O   TYR B  56      -7.894 -14.427   5.434  1.00  0.00           O  \\nATOM    438  CB  TYR B  56      -9.446 -16.210   3.270  1.00  0.00           C  \\nATOM    439  CG  TYR B  56     -10.105 -16.535   1.948  1.00  0.00           C  \\nATOM    440  CD1 TYR B  56     -11.421 -16.973   1.918  1.00  0.00           C  \\nATOM    441  CD2 TYR B  56      -9.394 -16.395   0.766  1.00  0.00           C  \\nATOM    442  CE1 TYR B  56     -12.023 -17.269   0.710  1.00  0.00           C  \\nATOM    443  CE2 TYR B  56      -9.996 -16.692  -0.442  1.00  0.00           C  \\nATOM    444  OH  TYR B  56     -11.910 -17.424  -1.672  1.00  0.00           O  \\nATOM    445  CZ  TYR B  56     -11.310 -17.128  -0.469  1.00  0.00           C  \\nATOM    446  N   PHE B  57     -10.107 -14.507   5.959  1.00  0.00           N  \\nATOM    447  CA  PHE B  57      -9.991 -14.447   7.411  1.00  0.00           C  \\nATOM    448  C   PHE B  57      -8.949 -15.434   7.922  1.00  0.00           C  \\nATOM    449  O   PHE B  57      -8.898 -16.582   7.480  1.00  0.00           O  \\nATOM    450  CB  PHE B  57     -11.345 -14.744   8.057  1.00  0.00           C  \\nATOM    451  CG  PHE B  57     -11.373 -14.526   9.543  1.00  0.00           C  \\nATOM    452  CD1 PHE B  57     -11.201 -15.589  10.418  1.00  0.00           C  \\nATOM    453  CD2 PHE B  57     -11.570 -13.259  10.070  1.00  0.00           C  \\nATOM    454  CE1 PHE B  57     -11.226 -15.390  11.785  1.00  0.00           C  \\nATOM    455  CE2 PHE B  57     -11.595 -13.057  11.436  1.00  0.00           C  \\nATOM    456  CZ  PHE B  57     -11.423 -14.123  12.294  1.00  0.00           C  \\nATOM    457  N   ASN B  58      -7.921 -14.952   8.721  1.00  0.00           N  \\nATOM    458  CA  ASN B  58      -6.832 -15.646   9.397  1.00  0.00           C  \\nATOM    459  C   ASN B  58      -5.701 -15.971   8.430  1.00  0.00           C  \\nATOM    460  O   ASN B  58      -4.764 -16.692   8.775  1.00  0.00           O  \\nATOM    461  CB  ASN B  58      -7.282 -16.894  10.136  1.00  0.00           C  \\nATOM    462  CG  ASN B  58      -8.220 -16.594  11.272  1.00  0.00           C  \\nATOM    463  ND2 ASN B  58      -8.781 -17.624  11.852  1.00  0.00           N  \\nATOM    464  OD1 ASN B  58      -8.436 -15.429  11.624  1.00  0.00           O  \\nATOM    465  N   GLU B  59      -5.818 -15.571   7.117  1.00  0.00           N  \\nATOM    466  CA  GLU B  59      -4.731 -15.648   6.148  1.00  0.00           C  \\nATOM    467  C   GLU B  59      -3.919 -14.360   6.129  1.00  0.00           C  \\nATOM    468  O   GLU B  59      -4.035 -13.527   7.028  1.00  0.00           O  \\nATOM    469  CB  GLU B  59      -5.292 -15.967   4.760  1.00  0.00           C  \\nATOM    470  CG  GLU B  59      -6.137 -17.230   4.680  1.00  0.00           C  \\nATOM    471  CD  GLU B  59      -5.319 -18.488   4.765  1.00  0.00           C  \\nATOM    472  OE1 GLU B  59      -5.895 -19.543   4.882  1.00  0.00           O  \\nATOM    473  OE2 GLU B  59      -4.115 -18.394   4.712  1.00  0.00           O  \\nATOM    474  N   THR B  60      -2.950 -14.250   5.189  1.00  0.00           N  \\nATOM    475  CA  THR B  60      -2.134 -13.047   5.072  1.00  0.00           C  \\nATOM    476  C   THR B  60      -2.462 -12.280   3.798  1.00  0.00           C  \\nATOM    477  O   THR B  60      -2.687 -12.876   2.744  1.00  0.00           O  \\nATOM    478  CB  THR B  60      -0.634 -13.395   5.093  1.00  0.00           C  \\nATOM    479  CG2 THR B  60       0.214 -12.138   4.973  1.00  0.00           C  \\nATOM    480  OG1 THR B  60      -0.327 -14.058   6.326  1.00  0.00           O  \\nATOM    481  N   ALA B  61      -2.619 -10.918   3.889  1.00  0.00           N  \\nATOM    482  CA  ALA B  61      -2.701 -10.067   2.708  1.00  0.00           C  \\nATOM    483  C   ALA B  61      -1.323  -9.568   2.292  1.00  0.00           C  \\nATOM    484  O   ALA B  61      -0.453  -9.344   3.133  1.00  0.00           O  \\nATOM    485  CB  ALA B  61      -3.614  -8.880   2.976  1.00  0.00           C  \\nATOM    486  N   ASP B  62      -1.017  -9.539   1.013  1.00  0.00           N  \\nATOM    487  CA  ASP B  62       0.145  -8.874   0.438  1.00  0.00           C  \\nATOM    488  C   ASP B  62      -0.226  -7.511  -0.132  1.00  0.00           C  \\nATOM    489  O   ASP B  62      -1.018  -7.414  -1.069  1.00  0.00           O  \\nATOM    490  CB  ASP B  62       0.770  -9.750  -0.651  1.00  0.00           C  \\nATOM    491  CG  ASP B  62       1.202 -11.120  -0.145  1.00  0.00           C  \\nATOM    492  OD1 ASP B  62       2.171 -11.638  -0.647  1.00  0.00           O  \\nATOM    493  OD2 ASP B  62       0.558 -11.635   0.737  1.00  0.00           O  \\nATOM    494  N   LEU B  63       0.242  -6.433   0.530  1.00  0.00           N  \\nATOM    495  CA  LEU B  63      -0.004  -5.051   0.136  1.00  0.00           C  \\nATOM    496  C   LEU B  63       1.168  -4.487  -0.661  1.00  0.00           C  \\nATOM    497  O   LEU B  63       2.163  -4.041  -0.089  1.00  0.00           O  \\nATOM    498  CB  LEU B  63      -0.279  -4.212   1.390  1.00  0.00           C  \\nATOM    499  CG  LEU B  63      -1.322  -4.774   2.365  1.00  0.00           C  \\nATOM    500  CD1 LEU B  63      -1.506  -3.807   3.527  1.00  0.00           C  \\nATOM    501  CD2 LEU B  63      -2.635  -5.000   1.629  1.00  0.00           C  \\nATOM    502  N   PRO B  64       1.101  -4.503  -2.044  1.00  0.00           N  \\nATOM    503  CA  PRO B  64       2.239  -4.250  -2.921  1.00  0.00           C  \\nATOM    504  C   PRO B  64       2.444  -2.757  -3.141  1.00  0.00           C  \\nATOM    505  O   PRO B  64       1.518  -1.963  -2.981  1.00  0.00           O  \\nATOM    506  CB  PRO B  64       1.840  -4.935  -4.232  1.00  0.00           C  \\nATOM    507  CG  PRO B  64       0.357  -4.793  -4.271  1.00  0.00           C  \\nATOM    508  CD  PRO B  64      -0.067  -4.894  -2.831  1.00  0.00           C  \\nATOM    509  N   CYS B  65       3.707  -2.361  -3.531  1.00  0.00           N  \\nATOM    510  CA  CYS B  65       4.005  -1.019  -4.015  1.00  0.00           C  \\nATOM    511  C   CYS B  65       3.969  -0.962  -5.537  1.00  0.00           C  \\nATOM    512  O   CYS B  65       3.699   0.087  -6.122  1.00  0.00           O  \\nATOM    513  CB  CYS B  65       5.370  -0.544  -3.516  1.00  0.00           C  \\nATOM    514  SG  CYS B  65       5.449  -0.300  -1.726  1.00  0.00           S  \\nATOM    515  N   GLN B  66       4.208  -2.148  -6.275  1.00  0.00           N  \\nATOM    516  CA  GLN B  66       4.252  -2.274  -7.727  1.00  0.00           C  \\nATOM    517  C   GLN B  66       5.098  -1.171  -8.350  1.00  0.00           C  \\nATOM    518  O   GLN B  66       4.643  -0.456  -9.243  1.00  0.00           O  \\nATOM    519  CB  GLN B  66       2.840  -2.295  -8.318  1.00  0.00           C  \\nATOM    520  CG  GLN B  66       1.983  -3.459  -7.851  1.00  0.00           C  \\nATOM    521  CD  GLN B  66       0.619  -3.477  -8.514  1.00  0.00           C  \\nATOM    522  NE2 GLN B  66      -0.137  -4.544  -8.282  1.00  0.00           N  \\nATOM    523  OE1 GLN B  66       0.248  -2.541  -9.228  1.00  0.00           O  \\nATOM    524  N   PHE B  67       6.316  -0.888  -7.727  1.00  0.00           N  \\nATOM    525  CA  PHE B  67       7.241   0.136  -8.197  1.00  0.00           C  \\nATOM    526  C   PHE B  67       8.327  -0.467  -9.079  1.00  0.00           C  \\nATOM    527  O   PHE B  67       9.089  -1.328  -8.640  1.00  0.00           O  \\nATOM    528  CB  PHE B  67       7.859   0.869  -7.005  1.00  0.00           C  \\nATOM    529  CG  PHE B  67       8.754   2.008  -7.399  1.00  0.00           C  \\nATOM    530  CD1 PHE B  67      10.130   1.912  -7.249  1.00  0.00           C  \\nATOM    531  CD2 PHE B  67       8.224   3.179  -7.921  1.00  0.00           C  \\nATOM    532  CE1 PHE B  67      10.955   2.960  -7.612  1.00  0.00           C  \\nATOM    533  CE2 PHE B  67       9.046   4.228  -8.284  1.00  0.00           C  \\nATOM    534  CZ  PHE B  67      10.413   4.118  -8.129  1.00  0.00           C  \\nATOM    535  N   ALA B  68       8.387  -0.031 -10.361  1.00  0.00           N  \\nATOM    536  CA  ALA B  68       9.335  -0.524 -11.354  1.00  0.00           C  \\nATOM    537  C   ALA B  68      10.769  -0.198 -10.956  1.00  0.00           C  \\nATOM    538  O   ALA B  68      11.685  -0.982 -11.203  1.00  0.00           O  \\nATOM    539  CB  ALA B  68       9.020   0.051 -12.727  1.00  0.00           C  \\nATOM    540  N   ASN B  69      10.993   0.910 -10.083  1.00  0.00           N  \\nATOM    541  CA  ASN B  69      12.325   1.406  -9.761  1.00  0.00           C  \\nATOM    542  C   ASN B  69      13.185   1.529 -11.012  1.00  0.00           C  \\nATOM    543  O   ASN B  69      14.294   0.999 -11.069  1.00  0.00           O  \\nATOM    544  CB  ASN B  69      12.994   0.537  -8.711  1.00  0.00           C  \\nATOM    545  CG  ASN B  69      14.195   1.183  -8.079  1.00  0.00           C  \\nATOM    546  ND2 ASN B  69      15.080   0.379  -7.548  1.00  0.00           N  \\nATOM    547  OD1 ASN B  69      14.322   2.413  -8.072  1.00  0.00           O  \\nATOM    548  N   SER B  70      12.653   2.224 -12.082  1.00  0.00           N  \\nATOM    549  CA  SER B  70      13.296   2.349 -13.385  1.00  0.00           C  \\nATOM    550  C   SER B  70      14.596   3.135 -13.284  1.00  0.00           C  \\nATOM    551  O   SER B  70      15.480   3.004 -14.131  1.00  0.00           O  \\nATOM    552  CB  SER B  70      12.367   3.008 -14.386  1.00  0.00           C  \\nATOM    553  OG  SER B  70      12.055   4.315 -13.987  1.00  0.00           O  \\nATOM    554  N   GLN B  71      14.743   4.012 -12.224  1.00  0.00           N  \\nATOM    555  CA  GLN B  71      15.933   4.813 -11.967  1.00  0.00           C  \\nATOM    556  C   GLN B  71      16.956   4.033 -11.151  1.00  0.00           C  \\nATOM    557  O   GLN B  71      17.962   4.586 -10.706  1.00  0.00           O  \\nATOM    558  CB  GLN B  71      15.566   6.118 -11.256  1.00  0.00           C  \\nATOM    559  CG  GLN B  71      14.573   6.981 -12.015  1.00  0.00           C  \\nATOM    560  CD  GLN B  71      15.123   7.465 -13.343  1.00  0.00           C  \\nATOM    561  NE2 GLN B  71      14.328   7.326 -14.398  1.00  0.00           N  \\nATOM    562  OE1 GLN B  71      16.251   7.960 -13.420  1.00  0.00           O  \\nATOM    563  N   ASN B  72      16.686   2.719 -10.774  1.00  0.00           N  \\nATOM    564  CA  ASN B  72      17.588   1.829 -10.053  1.00  0.00           C  \\nATOM    565  C   ASN B  72      18.000   2.428  -8.714  1.00  0.00           C  \\nATOM    566  O   ASN B  72      19.179   2.430  -8.362  1.00  0.00           O  \\nATOM    567  CB  ASN B  72      18.801   1.468 -10.890  1.00  0.00           C  \\nATOM    568  CG  ASN B  72      19.561   0.287 -10.352  1.00  0.00           C  \\nATOM    569  ND2 ASN B  72      20.811   0.178 -10.724  1.00  0.00           N  \\nATOM    570  OD1 ASN B  72      19.015  -0.528  -9.600  1.00  0.00           O  \\nATOM    571  N   GLN B  73      16.969   2.983  -7.916  1.00  0.00           N  \\nATOM    572  CA  GLN B  73      17.212   3.581  -6.608  1.00  0.00           C  \\nATOM    573  C   GLN B  73      17.311   2.514  -5.525  1.00  0.00           C  \\nATOM    574  O   GLN B  73      16.722   1.439  -5.643  1.00  0.00           O  \\nATOM    575  CB  GLN B  73      16.103   4.579  -6.265  1.00  0.00           C  \\nATOM    576  CG  GLN B  73      16.019   5.762  -7.213  1.00  0.00           C  \\nATOM    577  CD  GLN B  73      14.958   6.763  -6.797  1.00  0.00           C  \\nATOM    578  NE2 GLN B  73      15.295   8.046  -6.870  1.00  0.00           N  \\nATOM    579  OE1 GLN B  73      13.847   6.388  -6.415  1.00  0.00           O  \\nATOM    580  N   SER B  74      18.072   2.848  -4.402  1.00  0.00           N  \\nATOM    581  CA  SER B  74      18.210   1.947  -3.264  1.00  0.00           C  \\nATOM    582  C   SER B  74      17.169   2.247  -2.194  1.00  0.00           C  \\nATOM    583  O   SER B  74      16.728   3.386  -2.045  1.00  0.00           O  \\nATOM    584  CB  SER B  74      19.602   2.063  -2.673  1.00  0.00           C  \\nATOM    585  OG  SER B  74      19.733   1.258  -1.533  1.00  0.00           O  \\nATOM    586  N   LEU B  75      16.757   1.205  -1.359  1.00  0.00           N  \\nATOM    587  CA  LEU B  75      15.899   1.438  -0.204  1.00  0.00           C  \\nATOM    588  C   LEU B  75      16.565   2.375   0.798  1.00  0.00           C  \\nATOM    589  O   LEU B  75      15.890   3.085   1.543  1.00  0.00           O  \\nATOM    590  CB  LEU B  75      15.527   0.115   0.476  1.00  0.00           C  \\nATOM    591  CG  LEU B  75      14.565  -0.801  -0.291  1.00  0.00           C  \\nATOM    592  CD1 LEU B  75      14.425  -2.125   0.448  1.00  0.00           C  \\nATOM    593  CD2 LEU B  75      13.217  -0.112  -0.438  1.00  0.00           C  \\nATOM    594  N   SER B  76      17.960   2.438   0.804  1.00  0.00           N  \\nATOM    595  CA  SER B  76      18.751   3.241   1.728  1.00  0.00           C  \\nATOM    596  C   SER B  76      18.619   4.726   1.420  1.00  0.00           C  \\nATOM    597  O   SER B  76      19.005   5.574   2.225  1.00  0.00           O  \\nATOM    598  CB  SER B  76      20.210   2.829   1.696  1.00  0.00           C  \\nATOM    599  OG  SER B  76      20.789   3.116   0.453  1.00  0.00           O  \\nATOM    600  N   GLU B  77      18.138   5.099   0.169  1.00  0.00           N  \\nATOM    601  CA  GLU B  77      17.904   6.478  -0.245  1.00  0.00           C  \\nATOM    602  C   GLU B  77      16.431   6.847  -0.125  1.00  0.00           C  \\nATOM    603  O   GLU B  77      16.044   7.988  -0.378  1.00  0.00           O  \\nATOM    604  CB  GLU B  77      18.372   6.706  -1.684  1.00  0.00           C  \\nATOM    605  CG  GLU B  77      19.879   6.607  -1.877  1.00  0.00           C  \\nATOM    606  CD  GLU B  77      20.309   6.914  -3.284  1.00  0.00           C  \\nATOM    607  OE1 GLU B  77      21.488   7.050  -3.509  1.00  0.00           O  \\nATOM    608  OE2 GLU B  77      19.458   7.012  -4.137  1.00  0.00           O  \\nATOM    609  N   LEU B  78      15.520   5.811   0.234  1.00  0.00           N  \\nATOM    610  CA  LEU B  78      14.073   5.985   0.213  1.00  0.00           C  \\nATOM    611  C   LEU B  78      13.476   5.810   1.606  1.00  0.00           C  \\nATOM    612  O   LEU B  78      14.055   5.137   2.459  1.00  0.00           O  \\nATOM    613  CB  LEU B  78      13.416   4.979  -0.740  1.00  0.00           C  \\nATOM    614  CG  LEU B  78      13.871   4.999  -2.204  1.00  0.00           C  \\nATOM    615  CD1 LEU B  78      13.175   3.881  -2.969  1.00  0.00           C  \\nATOM    616  CD2 LEU B  78      13.557   6.357  -2.815  1.00  0.00           C  \\nATOM    617  N   VAL B  79      12.410   6.505   1.976  1.00  0.00           N  \\nATOM    618  CA  VAL B  79      11.476   6.217   3.058  1.00  0.00           C  \\nATOM    619  C   VAL B  79      10.158   5.677   2.519  1.00  0.00           C  \\nATOM    620  O   VAL B  79       9.512   6.311   1.684  1.00  0.00           O  \\nATOM    621  CB  VAL B  79      11.225   7.472   3.915  1.00  0.00           C  \\nATOM    622  CG1 VAL B  79      10.346   7.139   5.111  1.00  0.00           C  \\nATOM    623  CG2 VAL B  79      12.552   8.061   4.369  1.00  0.00           C  \\nATOM    624  N   VAL B  80       9.786   4.428   2.931  1.00  0.00           N  \\nATOM    625  CA  VAL B  80       8.557   3.788   2.477  1.00  0.00           C  \\nATOM    626  C   VAL B  80       7.586   3.578   3.632  1.00  0.00           C  \\nATOM    627  O   VAL B  80       7.950   3.020   4.668  1.00  0.00           O  \\nATOM    628  CB  VAL B  80       8.848   2.437   1.797  1.00  0.00           C  \\nATOM    629  CG1 VAL B  80       7.571   1.841   1.223  1.00  0.00           C  \\nATOM    630  CG2 VAL B  80       9.894   2.621   0.708  1.00  0.00           C  \\nATOM    631  N   PHE B  81       6.323   4.091   3.509  1.00  0.00           N  \\nATOM    632  CA  PHE B  81       5.282   3.896   4.511  1.00  0.00           C  \\nATOM    633  C   PHE B  81       4.112   3.102   3.943  1.00  0.00           C  \\nATOM    634  O   PHE B  81       3.777   3.229   2.765  1.00  0.00           O  \\nATOM    635  CB  PHE B  81       4.782   5.228   5.074  1.00  0.00           C  \\nATOM    636  CG  PHE B  81       4.190   6.177   4.070  1.00  0.00           C  \\nATOM    637  CD1 PHE B  81       4.974   7.146   3.464  1.00  0.00           C  \\nATOM    638  CD2 PHE B  81       2.847   6.101   3.731  1.00  0.00           C  \\nATOM    639  CE1 PHE B  81       4.431   8.020   2.541  1.00  0.00           C  \\nATOM    640  CE2 PHE B  81       2.301   6.973   2.809  1.00  0.00           C  \\nATOM    641  CZ  PHE B  81       3.094   7.932   2.213  1.00  0.00           C  \\nATOM    642  N   TRP B  82       3.551   2.143   4.655  1.00  0.00           N  \\nATOM    643  CA  TRP B  82       2.208   1.623   4.422  1.00  0.00           C  \\nATOM    644  C   TRP B  82       1.216   2.190   5.429  1.00  0.00           C  \\nATOM    645  O   TRP B  82       1.468   2.183   6.634  1.00  0.00           O  \\nATOM    646  CB  TRP B  82       2.208   0.096   4.503  1.00  0.00           C  \\nATOM    647  CG  TRP B  82       2.887  -0.594   3.358  1.00  0.00           C  \\nATOM    648  CD1 TRP B  82       2.310  -0.995   2.190  1.00  0.00           C  \\nATOM    649  CD2 TRP B  82       4.282  -0.969   3.266  1.00  0.00           C  \\nATOM    650  CE2 TRP B  82       4.458  -1.584   2.023  1.00  0.00           C  \\nATOM    651  CE3 TRP B  82       5.380  -0.835   4.125  1.00  0.00           C  \\nATOM    652  NE1 TRP B  82       3.245  -1.591   1.381  1.00  0.00           N  \\nATOM    653  CH2 TRP B  82       6.765  -1.921   2.488  1.00  0.00           C  \\nATOM    654  CZ2 TRP B  82       5.690  -2.068   1.612  1.00  0.00           C  \\nATOM    655  CZ3 TRP B  82       6.615  -1.320   3.712  1.00  0.00           C  \\nATOM    656  N   GLN B  83       0.083   2.793   4.909  1.00  0.00           N  \\nATOM    657  CA  GLN B  83      -0.899   3.398   5.802  1.00  0.00           C  \\nATOM    658  C   GLN B  83      -2.311   2.945   5.455  1.00  0.00           C  \\nATOM    659  O   GLN B  83      -2.594   2.580   4.314  1.00  0.00           O  \\nATOM    660  CB  GLN B  83      -0.803   4.925   5.744  1.00  0.00           C  \\nATOM    661  CG  GLN B  83      -1.108   5.532   4.385  1.00  0.00           C  \\nATOM    662  CD  GLN B  83      -0.993   7.045   4.389  1.00  0.00           C  \\nATOM    663  NE2 GLN B  83      -1.799   7.700   3.561  1.00  0.00           N  \\nATOM    664  OE1 GLN B  83      -0.189   7.619   5.129  1.00  0.00           O  \\nATOM    665  N   ASP B  84      -3.222   2.929   6.455  1.00  0.00           N  \\nATOM    666  CA  ASP B  84      -4.617   2.558   6.249  1.00  0.00           C  \\nATOM    667  C   ASP B  84      -5.453   3.764   5.842  1.00  0.00           C  \\nATOM    668  O   ASP B  84      -4.924   4.854   5.627  1.00  0.00           O  \\nATOM    669  CB  ASP B  84      -5.178   1.864   7.493  1.00  0.00           C  \\nATOM    670  CG  ASP B  84      -5.347   2.752   8.718  1.00  0.00           C  \\nATOM    671  OD1 ASP B  84      -5.551   2.225   9.786  1.00  0.00           O  \\nATOM    672  OD2 ASP B  84      -5.271   3.949   8.574  1.00  0.00           O  \\nATOM    673  N   GLN B  85      -6.783   3.683   5.753  1.00  0.00           N  \\nATOM    674  CA  GLN B  85      -7.689   4.719   5.271  1.00  0.00           C  \\nATOM    675  C   GLN B  85      -7.804   5.860   6.273  1.00  0.00           C  \\nATOM    676  O   GLN B  85      -8.219   6.965   5.925  1.00  0.00           O  \\nATOM    677  CB  GLN B  85      -9.071   4.147   4.947  1.00  0.00           C  \\nATOM    678  CG  GLN B  85      -9.889   3.692   6.144  1.00  0.00           C  \\nATOM    679  CD  GLN B  85     -11.260   3.179   5.747  1.00  0.00           C  \\nATOM    680  NE2 GLN B  85     -12.222   3.302   6.655  1.00  0.00           N  \\nATOM    681  OE1 GLN B  85     -11.453   2.678   4.636  1.00  0.00           O  \\nATOM    682  N   GLU B  86      -7.583   5.606   7.658  1.00  0.00           N  \\nATOM    683  CA  GLU B  86      -7.535   6.656   8.668  1.00  0.00           C  \\nATOM    684  C   GLU B  86      -6.164   7.319   8.709  1.00  0.00           C  \\nATOM    685  O   GLU B  86      -5.874   8.114   9.603  1.00  0.00           O  \\nATOM    686  CB  GLU B  86      -7.889   6.092  10.045  1.00  0.00           C  \\nATOM    687  CG  GLU B  86      -9.297   5.522  10.138  1.00  0.00           C  \\nATOM    688  CD  GLU B  86      -9.660   5.083  11.529  1.00  0.00           C  \\nATOM    689  OE1 GLU B  86     -10.457   4.185  11.660  1.00  0.00           O  \\nATOM    690  OE2 GLU B  86      -9.140   5.647  12.463  1.00  0.00           O  \\nATOM    691  N   ASN B  87      -5.201   6.938   7.751  1.00  0.00           N  \\nATOM    692  CA  ASN B  87      -3.828   7.391   7.567  1.00  0.00           C  \\nATOM    693  C   ASN B  87      -2.936   6.924   8.711  1.00  0.00           C  \\nATOM    694  O   ASN B  87      -1.913   7.542   9.005  1.00  0.00           O  \\nATOM    695  CB  ASN B  87      -3.735   8.893   7.372  1.00  0.00           C  \\nATOM    696  CG  ASN B  87      -4.413   9.361   6.114  1.00  0.00           C  \\nATOM    697  ND2 ASN B  87      -5.230  10.376   6.234  1.00  0.00           N  \\nATOM    698  OD1 ASN B  87      -4.197   8.801   5.033  1.00  0.00           O  \\nATOM    699  N   LEU B  88      -3.407   5.849   9.535  1.00  0.00           N  \\nATOM    700  CA  LEU B  88      -2.554   5.221  10.536  1.00  0.00           C  \\nATOM    701  C   LEU B  88      -1.499   4.333   9.882  1.00  0.00           C  \\nATOM    702  O   LEU B  88      -1.771   3.658   8.890  1.00  0.00           O  \\nATOM    703  CB  LEU B  88      -3.410   4.405  11.512  1.00  0.00           C  \\nATOM    704  CG  LEU B  88      -4.517   5.169  12.251  1.00  0.00           C  \\nATOM    705  CD1 LEU B  88      -5.295   4.206  13.137  1.00  0.00           C  \\nATOM    706  CD2 LEU B  88      -3.899   6.290  13.072  1.00  0.00           C  \\nATOM    707  N   VAL B  89      -0.258   4.257  10.413  1.00  0.00           N  \\nATOM    708  CA  VAL B  89       0.846   3.549   9.777  1.00  0.00           C  \\nATOM    709  C   VAL B  89       0.899   2.094  10.227  1.00  0.00           C  \\nATOM    710  O   VAL B  89       0.777   1.797  11.415  1.00  0.00           O  \\nATOM    711  CB  VAL B  89       2.187   4.247  10.071  1.00  0.00           C  \\nATOM    712  CG1 VAL B  89       3.347   3.520   9.407  1.00  0.00           C  \\nATOM    713  CG2 VAL B  89       2.119   5.693   9.604  1.00  0.00           C  \\nATOM    714  N   LEU B  90       1.017   1.154   9.256  1.00  0.00           N  \\nATOM    715  CA  LEU B  90       1.220  -0.271   9.488  1.00  0.00           C  \\nATOM    716  C   LEU B  90       2.697  -0.592   9.690  1.00  0.00           C  \\nATOM    717  O   LEU B  90       3.067  -1.289  10.635  1.00  0.00           O  \\nATOM    718  CB  LEU B  90       0.644  -1.104   8.336  1.00  0.00           C  \\nATOM    719  CG  LEU B  90      -0.870  -1.350   8.282  1.00  0.00           C  \\nATOM    720  CD1 LEU B  90      -1.579  -0.067   7.869  1.00  0.00           C  \\nATOM    721  CD2 LEU B  90      -1.167  -2.478   7.306  1.00  0.00           C  \\nATOM    722  N   ASN B  91       3.575  -0.147   8.766  1.00  0.00           N  \\nATOM    723  CA  ASN B  91       5.022  -0.320   8.800  1.00  0.00           C  \\nATOM    724  C   ASN B  91       5.730   0.833   8.100  1.00  0.00           C  \\nATOM    725  O   ASN B  91       5.152   1.501   7.242  1.00  0.00           O  \\nATOM    726  CB  ASN B  91       5.415  -1.636   8.154  1.00  0.00           C  \\nATOM    727  CG  ASN B  91       6.809  -2.084   8.493  1.00  0.00           C  \\nATOM    728  ND2 ASN B  91       7.182  -3.244   8.015  1.00  0.00           N  \\nATOM    729  OD1 ASN B  91       7.550  -1.379   9.188  1.00  0.00           O  \\nATOM    730  N   GLU B  92       6.932   1.193   8.552  1.00  0.00           N  \\nATOM    731  CA  GLU B  92       7.843   2.129   7.905  1.00  0.00           C  \\nATOM    732  C   GLU B  92       9.207   1.494   7.666  1.00  0.00           C  \\nATOM    733  O   GLU B  92       9.775   0.866   8.559  1.00  0.00           O  \\nATOM    734  CB  GLU B  92       8.011   3.380   8.770  1.00  0.00           C  \\nATOM    735  CG  GLU B  92       8.856   4.495   8.171  1.00  0.00           C  \\nATOM    736  CD  GLU B  92       9.053   5.650   9.112  1.00  0.00           C  \\nATOM    737  OE1 GLU B  92       9.734   6.579   8.749  1.00  0.00           O  \\nATOM    738  OE2 GLU B  92       8.521   5.605  10.197  1.00  0.00           O  \\nATOM    739  N   VAL B  93       9.710   1.482   6.419  1.00  0.00           N  \\nATOM    740  CA  VAL B  93      11.114   1.251   6.104  1.00  0.00           C  \\nATOM    741  C   VAL B  93      11.846   2.564   5.856  1.00  0.00           C  \\nATOM    742  O   VAL B  93      11.655   3.207   4.824  1.00  0.00           O  \\nATOM    743  CB  VAL B  93      11.246   0.324   4.881  1.00  0.00           C  \\nATOM    744  CG1 VAL B  93      12.704  -0.035   4.638  1.00  0.00           C  \\nATOM    745  CG2 VAL B  93      10.410  -0.930   5.090  1.00  0.00           C  \\nATOM    746  N   TYR B  94      12.614   3.068   6.886  1.00  0.00           N  \\nATOM    747  CA  TYR B  94      13.300   4.354   6.874  1.00  0.00           C  \\nATOM    748  C   TYR B  94      14.766   4.194   6.491  1.00  0.00           C  \\nATOM    749  O   TYR B  94      15.567   3.677   7.270  1.00  0.00           O  \\nATOM    750  CB  TYR B  94      13.152   5.030   8.239  1.00  0.00           C  \\nATOM    751  CG  TYR B  94      13.823   6.383   8.324  1.00  0.00           C  \\nATOM    752  CD1 TYR B  94      14.981   6.537   9.072  1.00  0.00           C  \\nATOM    753  CD2 TYR B  94      13.280   7.470   7.655  1.00  0.00           C  \\nATOM    754  CE1 TYR B  94      15.594   7.773   9.150  1.00  0.00           C  \\nATOM    755  CE2 TYR B  94      13.893   8.706   7.733  1.00  0.00           C  \\nATOM    756  OH  TYR B  94      15.660  10.087   8.558  1.00  0.00           O  \\nATOM    757  CZ  TYR B  94      15.050   8.856   8.480  1.00  0.00           C  \\nATOM    758  N   LEU B  95      15.195   4.654   5.244  1.00  0.00           N  \\nATOM    759  CA  LEU B  95      16.550   4.481   4.735  1.00  0.00           C  \\nATOM    760  C   LEU B  95      16.989   3.023   4.818  1.00  0.00           C  \\nATOM    761  O   LEU B  95      18.123   2.727   5.195  1.00  0.00           O  \\nATOM    762  CB  LEU B  95      17.540   5.397   5.466  1.00  0.00           C  \\nATOM    763  CG  LEU B  95      17.238   6.899   5.391  1.00  0.00           C  \\nATOM    764  CD1 LEU B  95      18.275   7.667   6.199  1.00  0.00           C  \\nATOM    765  CD2 LEU B  95      17.239   7.345   3.936  1.00  0.00           C  \\nATOM    766  N   GLY B  96      16.051   2.010   4.520  1.00  0.00           N  \\nATOM    767  CA  GLY B  96      16.329   0.586   4.377  1.00  0.00           C  \\nATOM    768  C   GLY B  96      16.029  -0.166   5.668  1.00  0.00           C  \\nATOM    769  O   GLY B  96      16.001  -1.396   5.689  1.00  0.00           O  \\nATOM    770  N   LYS B  97      15.910   0.521   6.888  1.00  0.00           N  \\nATOM    771  CA  LYS B  97      15.673  -0.192   8.137  1.00  0.00           C  \\nATOM    772  C   LYS B  97      14.217  -0.080   8.568  1.00  0.00           C  \\nATOM    773  O   LYS B  97      13.602   0.979   8.441  1.00  0.00           O  \\nATOM    774  CB  LYS B  97      16.587   0.340   9.242  1.00  0.00           C  \\nATOM    775  CG  LYS B  97      18.079   0.273   8.947  1.00  0.00           C  \\nATOM    776  CD  LYS B  97      18.545  -1.165   8.779  1.00  0.00           C  \\nATOM    777  CE  LYS B  97      20.038  -1.235   8.492  1.00  0.00           C  \\nATOM    778  NZ  LYS B  97      20.515  -2.638   8.360  1.00  0.00           N  \\nATOM    779  N   GLU B  98      13.587  -1.211   9.040  1.00  0.00           N  \\nATOM    780  CA  GLU B  98      12.249  -1.154   9.617  1.00  0.00           C  \\nATOM    781  C   GLU B  98      12.221  -0.267  10.855  1.00  0.00           C  \\nATOM    782  O   GLU B  98      13.099  -0.354  11.713  1.00  0.00           O  \\nATOM    783  CB  GLU B  98      11.763  -2.562   9.970  1.00  0.00           C  \\nATOM    784  CG  GLU B  98      11.513  -3.461   8.768  1.00  0.00           C  \\nATOM    785  CD  GLU B  98      10.933  -4.795   9.146  1.00  0.00           C  \\nATOM    786  OE1 GLU B  98      10.977  -5.691   8.338  1.00  0.00           O  \\nATOM    787  OE2 GLU B  98      10.444  -4.918  10.244  1.00  0.00           O  \\nATOM    788  N   LYS B  99      11.286   0.697  10.893  1.00  0.00           N  \\nATOM    789  CA  LYS B  99      11.042   1.609  12.004  1.00  0.00           C  \\nATOM    790  C   LYS B  99       9.599   1.516  12.486  1.00  0.00           C  \\nATOM    791  O   LYS B  99       8.663   1.614  11.693  1.00  0.00           O  \\nATOM    792  CB  LYS B  99      11.388   3.037  11.579  1.00  0.00           C  \\nATOM    793  CG  LYS B  99      11.354   4.049  12.716  1.00  0.00           C  \\nATOM    794  CD  LYS B  99      11.830   5.417  12.253  1.00  0.00           C  \\nATOM    795  CE  LYS B  99      11.692   6.455  13.357  1.00  0.00           C  \\nATOM    796  NZ  LYS B  99      12.773   6.335  14.372  1.00  0.00           N  \\nATOM    797  N   PHE B 100       9.383   1.320  13.834  1.00  0.00           N  \\nATOM    798  CA  PHE B 100       8.046   1.102  14.373  1.00  0.00           C  \\nATOM    799  C   PHE B 100       7.601   2.277  15.234  1.00  0.00           C  \\nATOM    800  O   PHE B 100       6.513   2.261  15.809  1.00  0.00           O  \\nATOM    801  CB  PHE B 100       7.977  -0.195  15.180  1.00  0.00           C  \\nATOM    802  CG  PHE B 100       8.230  -1.426  14.357  1.00  0.00           C  \\nATOM    803  CD1 PHE B 100       7.182  -2.094  13.740  1.00  0.00           C  \\nATOM    804  CD2 PHE B 100       9.517  -1.919  14.196  1.00  0.00           C  \\nATOM    805  CE1 PHE B 100       7.414  -3.226  12.983  1.00  0.00           C  \\nATOM    806  CE2 PHE B 100       9.751  -3.051  13.440  1.00  0.00           C  \\nATOM    807  CZ  PHE B 100       8.699  -3.705  12.833  1.00  0.00           C  \\nATOM    808  N   ASP B 101       8.449   3.408  15.287  1.00  0.00           N  \\nATOM    809  CA  ASP B 101       8.170   4.578  16.112  1.00  0.00           C  \\nATOM    810  C   ASP B 101       6.808   5.174  15.779  1.00  0.00           C  \\nATOM    811  O   ASP B 101       6.071   5.597  16.669  1.00  0.00           O  \\nATOM    812  CB  ASP B 101       9.259   5.639  15.940  1.00  0.00           C  \\nATOM    813  CG  ASP B 101      10.586   5.262  16.586  1.00  0.00           C  \\nATOM    814  OD1 ASP B 101      11.568   5.904  16.298  1.00  0.00           O  \\nATOM    815  OD2 ASP B 101      10.604   4.336  17.360  1.00  0.00           O  \\nATOM    816  N   SER B 102       6.384   5.152  14.429  1.00  0.00           N  \\nATOM    817  CA  SER B 102       5.139   5.727  13.935  1.00  0.00           C  \\nATOM    818  C   SER B 102       4.051   4.667  13.818  1.00  0.00           C  \\nATOM    819  O   SER B 102       2.924   4.962  13.420  1.00  0.00           O  \\nATOM    820  CB  SER B 102       5.346   6.388  12.586  1.00  0.00           C  \\nATOM    821  OG  SER B 102       6.175   7.511  12.700  1.00  0.00           O  \\nATOM    822  N   VAL B 103       4.364   3.311  14.168  1.00  0.00           N  \\nATOM    823  CA  VAL B 103       3.401   2.242  13.930  1.00  0.00           C  \\nATOM    824  C   VAL B 103       2.320   2.225  15.004  1.00  0.00           C  \\nATOM    825  O   VAL B 103       2.618   2.192  16.197  1.00  0.00           O  \\nATOM    826  CB  VAL B 103       4.101   0.872  13.862  1.00  0.00           C  \\nATOM    827  CG1 VAL B 103       3.099  -0.235  13.573  1.00  0.00           C  \\nATOM    828  CG2 VAL B 103       5.189   0.905  12.800  1.00  0.00           C  \\nATOM    829  N   HIS B 104       0.991   2.254  14.574  1.00  0.00           N  \\nATOM    830  CA  HIS B 104      -0.120   2.170  15.513  1.00  0.00           C  \\nATOM    831  C   HIS B 104      -0.107   0.845  16.265  1.00  0.00           C  \\nATOM    832  O   HIS B 104       0.228  -0.196  15.701  1.00  0.00           O  \\nATOM    833  CB  HIS B 104      -1.445   2.337  14.762  1.00  0.00           C  \\nATOM    834  CG  HIS B 104      -2.595   2.724  15.640  1.00  0.00           C  \\nATOM    835  CD2 HIS B 104      -3.214   3.914  15.824  1.00  0.00           C  \\nATOM    836  ND1 HIS B 104      -4.020   3.741  16.945  1.00  0.00           N  \\nATOM    837  CE1 HIS B 104      -4.208   2.444  17.113  1.00  0.00           C  \\nATOM    838  NE2 HIS B 104      -3.434   1.797  16.261  1.00  0.00           N  \\nATOM    839  N   SER B 105      -0.541   0.883  17.592  1.00  0.00           N  \\nATOM    840  CA  SER B 105      -0.614  -0.279  18.471  1.00  0.00           C  \\nATOM    841  C   SER B 105      -1.365  -1.425  17.806  1.00  0.00           C  \\nATOM    842  O   SER B 105      -1.012  -2.592  17.976  1.00  0.00           O  \\nATOM    843  CB  SER B 105      -1.287   0.083  19.781  1.00  0.00           C  \\nATOM    844  OG  SER B 105      -0.491   0.953  20.538  1.00  0.00           O  \\nATOM    845  N   LYS B 106      -2.345  -1.120  16.924  1.00  0.00           N  \\nATOM    846  CA  LYS B 106      -3.246  -2.061  16.269  1.00  0.00           C  \\nATOM    847  C   LYS B 106      -2.488  -2.979  15.319  1.00  0.00           C  \\nATOM    848  O   LYS B 106      -2.914  -4.104  15.056  1.00  0.00           O  \\nATOM    849  CB  LYS B 106      -4.353  -1.311  15.526  1.00  0.00           C  \\nATOM    850  CG  LYS B 106      -5.366  -2.194  14.810  1.00  0.00           C  \\nATOM    851  CD  LYS B 106      -6.474  -1.365  14.179  1.00  0.00           C  \\nATOM    852  CE  LYS B 106      -5.962  -0.570  12.987  1.00  0.00           C  \\nATOM    853  NZ  LYS B 106      -7.053   0.181  12.309  1.00  0.00           N  \\nATOM    854  N   TYR B 107      -1.255  -2.497  14.748  1.00  0.00           N  \\nATOM    855  CA  TYR B 107      -0.557  -3.261  13.721  1.00  0.00           C  \\nATOM    856  C   TYR B 107       0.740  -3.851  14.260  1.00  0.00           C  \\nATOM    857  O   TYR B 107       1.399  -4.644  13.587  1.00  0.00           O  \\nATOM    858  CB  TYR B 107      -0.277  -2.396  12.490  1.00  0.00           C  \\nATOM    859  CG  TYR B 107      -1.525  -1.817  11.861  1.00  0.00           C  \\nATOM    860  CD1 TYR B 107      -1.837  -0.477  12.046  1.00  0.00           C  \\nATOM    861  CD2 TYR B 107      -2.358  -2.624  11.101  1.00  0.00           C  \\nATOM    862  CE1 TYR B 107      -2.976   0.052  11.472  1.00  0.00           C  \\nATOM    863  CE2 TYR B 107      -3.498  -2.094  10.527  1.00  0.00           C  \\nATOM    864  OH  TYR B 107      -4.941  -0.230  10.142  1.00  0.00           O  \\nATOM    865  CZ  TYR B 107      -3.806  -0.757  10.713  1.00  0.00           C  \\nATOM    866  N   MET B 108       1.188  -3.482  15.567  1.00  0.00           N  \\nATOM    867  CA  MET B 108       2.457  -3.949  16.113  1.00  0.00           C  \\nATOM    868  C   MET B 108       2.518  -5.471  16.142  1.00  0.00           C  \\nATOM    869  O   MET B 108       1.617  -6.128  16.664  1.00  0.00           O  \\nATOM    870  CB  MET B 108       2.668  -3.392  17.519  1.00  0.00           C  \\nATOM    871  CG  MET B 108       2.647  -1.873  17.626  1.00  0.00           C  \\nATOM    872  SD  MET B 108       4.008  -1.095  16.733  1.00  0.00           S  \\nATOM    873  CE  MET B 108       5.407  -1.632  17.713  1.00  0.00           C  \\nATOM    874  N   GLY B 109       3.526  -6.097  15.521  1.00  0.00           N  \\nATOM    875  CA  GLY B 109       3.813  -7.527  15.527  1.00  0.00           C  \\nATOM    876  C   GLY B 109       3.024  -8.251  14.444  1.00  0.00           C  \\nATOM    877  O   GLY B 109       3.109  -9.472  14.312  1.00  0.00           O  \\nATOM    878  N   ARG B 110       2.173  -7.545  13.602  1.00  0.00           N  \\nATOM    879  CA  ARG B 110       1.267  -8.199  12.665  1.00  0.00           C  \\nATOM    880  C   ARG B 110       1.749  -8.037  11.229  1.00  0.00           C  \\nATOM    881  O   ARG B 110       1.096  -8.493  10.291  1.00  0.00           O  \\nATOM    882  CB  ARG B 110      -0.141  -7.638  12.797  1.00  0.00           C  \\nATOM    883  CG  ARG B 110      -0.758  -7.810  14.176  1.00  0.00           C  \\nATOM    884  CD  ARG B 110      -2.049  -7.086  14.294  1.00  0.00           C  \\nATOM    885  NE  ARG B 110      -3.062  -7.634  13.406  1.00  0.00           N  \\nATOM    886  NH1 ARG B 110      -4.563  -5.914  13.728  1.00  0.00           N  \\nATOM    887  NH2 ARG B 110      -5.106  -7.635  12.329  1.00  0.00           N  \\nATOM    888  CZ  ARG B 110      -4.252  -7.055  13.154  1.00  0.00           C  \\nATOM    889  N   THR B 111       2.928  -7.307  10.947  1.00  0.00           N  \\nATOM    890  CA  THR B 111       3.338  -7.059   9.570  1.00  0.00           C  \\nATOM    891  C   THR B 111       4.766  -7.532   9.327  1.00  0.00           C  \\nATOM    892  O   THR B 111       5.537  -7.717  10.268  1.00  0.00           O  \\nATOM    893  CB  THR B 111       3.231  -5.567   9.206  1.00  0.00           C  \\nATOM    894  CG2 THR B 111       1.793  -5.085   9.324  1.00  0.00           C  \\nATOM    895  OG1 THR B 111       4.061  -4.807  10.094  1.00  0.00           O  \\nATOM    896  N   SER B 112       5.142  -7.835   8.103  1.00  0.00           N  \\nATOM    897  CA  SER B 112       6.511  -8.061   7.657  1.00  0.00           C  \\nATOM    898  C   SER B 112       6.747  -7.458   6.278  1.00  0.00           C  \\nATOM    899  O   SER B 112       5.848  -7.435   5.438  1.00  0.00           O  \\nATOM    900  CB  SER B 112       6.823  -9.545   7.640  1.00  0.00           C  \\nATOM    901  OG  SER B 112       6.057 -10.210   6.673  1.00  0.00           O  \\nATOM    902  N   PHE B 113       7.993  -6.945   6.038  1.00  0.00           N  \\nATOM    903  CA  PHE B 113       8.343  -6.304   4.776  1.00  0.00           C  \\nATOM    904  C   PHE B 113       9.160  -7.238   3.892  1.00  0.00           C  \\nATOM    905  O   PHE B 113      10.132  -7.844   4.344  1.00  0.00           O  \\nATOM    906  CB  PHE B 113       9.125  -5.014   5.029  1.00  0.00           C  \\nATOM    907  CG  PHE B 113       9.480  -4.271   3.772  1.00  0.00           C  \\nATOM    908  CD1 PHE B 113      10.763  -4.337   3.249  1.00  0.00           C  \\nATOM    909  CD2 PHE B 113       8.532  -3.505   3.111  1.00  0.00           C  \\nATOM    910  CE1 PHE B 113      11.090  -3.653   2.093  1.00  0.00           C  \\nATOM    911  CE2 PHE B 113       8.857  -2.821   1.955  1.00  0.00           C  \\nATOM    912  CZ  PHE B 113      10.137  -2.896   1.446  1.00  0.00           C  \\nATOM    913  N   ASP B 114       8.751  -7.452   2.645  1.00  0.00           N  \\nATOM    914  CA  ASP B 114       9.496  -8.177   1.623  1.00  0.00           C  \\nATOM    915  C   ASP B 114      10.420  -7.244   0.849  1.00  0.00           C  \\nATOM    916  O   ASP B 114       9.990  -6.554  -0.075  1.00  0.00           O  \\nATOM    917  CB  ASP B 114       8.514  -8.876   0.680  1.00  0.00           C  \\nATOM    918  CG  ASP B 114       9.188  -9.748  -0.371  1.00  0.00           C  \\nATOM    919  OD1 ASP B 114       8.564 -10.672  -0.838  1.00  0.00           O  \\nATOM    920  OD2 ASP B 114      10.319  -9.481  -0.698  1.00  0.00           O  \\nATOM    921  N   SER B 115      11.751  -7.170   1.215  1.00  0.00           N  \\nATOM    922  CA  SER B 115      12.676  -6.188   0.663  1.00  0.00           C  \\nATOM    923  C   SER B 115      13.074  -6.546  -0.763  1.00  0.00           C  \\nATOM    924  O   SER B 115      13.736  -5.766  -1.447  1.00  0.00           O  \\nATOM    925  CB  SER B 115      13.911  -6.050   1.532  1.00  0.00           C  \\nATOM    926  OG  SER B 115      14.619  -7.258   1.575  1.00  0.00           O  \\nATOM    927  N   ASP B 116      12.718  -7.834  -1.270  1.00  0.00           N  \\nATOM    928  CA  ASP B 116      13.017  -8.226  -2.642  1.00  0.00           C  \\nATOM    929  C   ASP B 116      11.970  -7.688  -3.608  1.00  0.00           C  \\nATOM    930  O   ASP B 116      12.290  -7.295  -4.730  1.00  0.00           O  \\nATOM    931  CB  ASP B 116      13.118  -9.748  -2.767  1.00  0.00           C  \\nATOM    932  CG  ASP B 116      14.238 -10.334  -1.918  1.00  0.00           C  \\nATOM    933  OD1 ASP B 116      14.067 -11.417  -1.410  1.00  0.00           O  \\nATOM    934  OD2 ASP B 116      15.253  -9.694  -1.785  1.00  0.00           O  \\nATOM    935  N   SER B 117      10.625  -7.618  -3.157  1.00  0.00           N  \\nATOM    936  CA  SER B 117       9.523  -7.145  -3.986  1.00  0.00           C  \\nATOM    937  C   SER B 117       9.000  -5.801  -3.494  1.00  0.00           C  \\nATOM    938  O   SER B 117       8.123  -5.200  -4.115  1.00  0.00           O  \\nATOM    939  CB  SER B 117       8.389  -8.151  -4.024  1.00  0.00           C  \\nATOM    940  OG  SER B 117       7.743  -8.221  -2.782  1.00  0.00           O  \\nATOM    941  N   TRP B 118       9.350  -5.314  -2.259  1.00  0.00           N  \\nATOM    942  CA  TRP B 118       8.860  -4.084  -1.649  1.00  0.00           C  \\nATOM    943  C   TRP B 118       7.378  -4.187  -1.314  1.00  0.00           C  \\nATOM    944  O   TRP B 118       6.599  -3.282  -1.615  1.00  0.00           O  \\nATOM    945  CB  TRP B 118       9.125  -2.863  -2.532  1.00  0.00           C  \\nATOM    946  CG  TRP B 118      10.579  -2.574  -2.749  1.00  0.00           C  \\nATOM    947  CD1 TRP B 118      11.617  -2.984  -1.968  1.00  0.00           C  \\nATOM    948  CD2 TRP B 118      11.167  -1.805  -3.827  1.00  0.00           C  \\nATOM    949  CE2 TRP B 118      12.549  -1.803  -3.619  1.00  0.00           C  \\nATOM    950  CE3 TRP B 118      10.639  -1.129  -4.934  1.00  0.00           C  \\nATOM    951  NE1 TRP B 118      12.805  -2.526  -2.482  1.00  0.00           N  \\nATOM    952  CH2 TRP B 118      12.865  -0.485  -5.572  1.00  0.00           C  \\nATOM    953  CZ2 TRP B 118      13.418  -1.150  -4.478  1.00  0.00           C  \\nATOM    954  CZ3 TRP B 118      11.511  -0.474  -5.795  1.00  0.00           C  \\nATOM    955  N   THR B 119       6.947  -5.386  -0.785  1.00  0.00           N  \\nATOM    956  CA  THR B 119       5.582  -5.681  -0.364  1.00  0.00           C  \\nATOM    957  C   THR B 119       5.484  -5.788   1.152  1.00  0.00           C  \\nATOM    958  O   THR B 119       6.368  -6.344   1.803  1.00  0.00           O  \\nATOM    959  CB  THR B 119       5.085  -6.992  -0.999  1.00  0.00           C  \\nATOM    960  CG2 THR B 119       3.634  -7.256  -0.626  1.00  0.00           C  \\nATOM    961  OG1 THR B 119       5.198  -6.895  -2.424  1.00  0.00           O  \\nATOM    962  N   LEU B 120       4.461  -5.102   1.785  1.00  0.00           N  \\nATOM    963  CA  LEU B 120       4.115  -5.350   3.180  1.00  0.00           C  \\nATOM    964  C   LEU B 120       3.060  -6.444   3.300  1.00  0.00           C  \\nATOM    965  O   LEU B 120       2.056  -6.433   2.587  1.00  0.00           O  \\nATOM    966  CB  LEU B 120       3.606  -4.055   3.826  1.00  0.00           C  \\nATOM    967  CG  LEU B 120       3.310  -4.086   5.331  1.00  0.00           C  \\nATOM    968  CD1 LEU B 120       4.615  -4.212   6.104  1.00  0.00           C  \\nATOM    969  CD2 LEU B 120       2.560  -2.822   5.727  1.00  0.00           C  \\nATOM    970  N   ARG B 121       3.336  -7.519   4.099  1.00  0.00           N  \\nATOM    971  CA  ARG B 121       2.346  -8.543   4.411  1.00  0.00           C  \\nATOM    972  C   ARG B 121       1.633  -8.238   5.722  1.00  0.00           C  \\nATOM    973  O   ARG B 121       2.271  -7.963   6.738  1.00  0.00           O  \\nATOM    974  CB  ARG B 121       3.006  -9.910   4.504  1.00  0.00           C  \\nATOM    975  CG  ARG B 121       3.869 -10.270   3.305  1.00  0.00           C  \\nATOM    976  CD  ARG B 121       4.431 -11.639   3.424  1.00  0.00           C  \\nATOM    977  NE  ARG B 121       3.405 -12.660   3.290  1.00  0.00           N  \\nATOM    978  NH1 ARG B 121       4.810 -14.422   3.777  1.00  0.00           N  \\nATOM    979  NH2 ARG B 121       2.611 -14.831   3.319  1.00  0.00           N  \\nATOM    980  CZ  ARG B 121       3.612 -13.980   3.464  1.00  0.00           C  \\nATOM    981  N   LEU B 122       0.298  -8.137   5.697  1.00  0.00           N  \\nATOM    982  CA  LEU B 122      -0.535  -8.012   6.887  1.00  0.00           C  \\nATOM    983  C   LEU B 122      -1.030  -9.376   7.359  1.00  0.00           C  \\nATOM    984  O   LEU B 122      -1.827 -10.025   6.683  1.00  0.00           O  \\nATOM    985  CB  LEU B 122      -1.712  -7.073   6.596  1.00  0.00           C  \\nATOM    986  CG  LEU B 122      -2.673  -6.787   7.757  1.00  0.00           C  \\nATOM    987  CD1 LEU B 122      -1.924  -6.071   8.872  1.00  0.00           C  \\nATOM    988  CD2 LEU B 122      -3.840  -5.949   7.256  1.00  0.00           C  \\nATOM    989  N   HIS B 123      -0.579  -9.831   8.555  1.00  0.00           N  \\nATOM    990  CA  HIS B 123      -0.697 -11.216   8.996  1.00  0.00           C  \\nATOM    991  C   HIS B 123      -1.950 -11.420   9.840  1.00  0.00           C  \\nATOM    992  O   HIS B 123      -2.462 -10.479  10.446  1.00  0.00           O  \\nATOM    993  CB  HIS B 123       0.533 -11.653   9.798  1.00  0.00           C  \\nATOM    994  CG  HIS B 123       1.791 -11.666   8.987  1.00  0.00           C  \\nATOM    995  CD2 HIS B 123       2.752 -10.728   8.817  1.00  0.00           C  \\nATOM    996  ND1 HIS B 123       3.683 -11.251   7.954  1.00  0.00           N  \\nATOM    997  CE1 HIS B 123       3.321 -12.480   7.626  1.00  0.00           C  \\nATOM    998  NE2 HIS B 123       2.186 -12.757   8.241  1.00  0.00           N  \\nATOM    999  N   ASN B 124      -2.443 -12.632   9.880  1.00  0.00           N  \\nATOM   1000  CA  ASN B 124      -3.573 -13.084  10.682  1.00  0.00           C  \\nATOM   1001  C   ASN B 124      -4.762 -12.142  10.538  1.00  0.00           C  \\nATOM   1002  O   ASN B 124      -5.227 -11.559  11.517  1.00  0.00           O  \\nATOM   1003  CB  ASN B 124      -3.166 -13.254  12.134  1.00  0.00           C  \\nATOM   1004  CG  ASN B 124      -4.143 -14.060  12.944  1.00  0.00           C  \\nATOM   1005  ND2 ASN B 124      -4.096 -13.900  14.242  1.00  0.00           N  \\nATOM   1006  OD1 ASN B 124      -4.941 -14.828  12.394  1.00  0.00           O  \\nATOM   1007  N   LEU B 125      -5.377 -12.085   9.306  1.00  0.00           N  \\nATOM   1008  CA  LEU B 125      -6.362 -11.082   8.916  1.00  0.00           C  \\nATOM   1009  C   LEU B 125      -7.662 -11.255   9.693  1.00  0.00           C  \\nATOM   1010  O   LEU B 125      -8.132 -12.375   9.895  1.00  0.00           O  \\nATOM   1011  CB  LEU B 125      -6.644 -11.162   7.410  1.00  0.00           C  \\nATOM   1012  CG  LEU B 125      -5.531 -10.675   6.473  1.00  0.00           C  \\nATOM   1013  CD1 LEU B 125      -5.930 -10.942   5.028  1.00  0.00           C  \\nATOM   1014  CD2 LEU B 125      -5.282  -9.193   6.707  1.00  0.00           C  \\nATOM   1015  N   GLN B 126      -8.200 -10.118  10.171  1.00  0.00           N  \\nATOM   1016  CA  GLN B 126      -9.502 -10.014  10.817  1.00  0.00           C  \\nATOM   1017  C   GLN B 126     -10.518  -9.338   9.904  1.00  0.00           C  \\nATOM   1018  O   GLN B 126     -10.149  -8.641   8.959  1.00  0.00           O  \\nATOM   1019  CB  GLN B 126      -9.373  -9.237  12.130  1.00  0.00           C  \\nATOM   1020  CG  GLN B 126      -8.298  -9.751  13.073  1.00  0.00           C  \\nATOM   1021  CD  GLN B 126      -8.633 -11.116  13.644  1.00  0.00           C  \\nATOM   1022  NE2 GLN B 126      -7.665 -12.025  13.608  1.00  0.00           N  \\nATOM   1023  OE1 GLN B 126      -9.751 -11.352  14.111  1.00  0.00           O  \\nATOM   1024  N   ILE B 127     -11.886  -9.506  10.169  1.00  0.00           N  \\nATOM   1025  CA  ILE B 127     -12.882  -8.820   9.356  1.00  0.00           C  \\nATOM   1026  C   ILE B 127     -12.672  -7.312   9.383  1.00  0.00           C  \\nATOM   1027  O   ILE B 127     -12.824  -6.636   8.366  1.00  0.00           O  \\nATOM   1028  CB  ILE B 127     -14.309  -9.171   9.817  1.00  0.00           C  \\nATOM   1029  CG1 ILE B 127     -14.575 -10.671   9.665  1.00  0.00           C  \\nATOM   1030  CG2 ILE B 127     -15.330  -8.364   9.030  1.00  0.00           C  \\nATOM   1031  CD1 ILE B 127     -14.535 -11.157   8.234  1.00  0.00           C  \\nATOM   1032  N   LYS B 128     -12.136  -6.772  10.507  1.00  0.00           N  \\nATOM   1033  CA  LYS B 128     -11.930  -5.352  10.766  1.00  0.00           C  \\nATOM   1034  C   LYS B 128     -10.776  -4.804   9.936  1.00  0.00           C  \\nATOM   1035  O   LYS B 128     -10.672  -3.596   9.722  1.00  0.00           O  \\nATOM   1036  CB  LYS B 128     -11.686  -5.095  12.253  1.00  0.00           C  \\nATOM   1037  CG  LYS B 128     -12.915  -5.288  13.131  1.00  0.00           C  \\nATOM   1038  CD  LYS B 128     -12.596  -5.025  14.595  1.00  0.00           C  \\nATOM   1039  CE  LYS B 128     -13.825  -5.210  15.473  1.00  0.00           C  \\nATOM   1040  NZ  LYS B 128     -13.534  -4.927  16.905  1.00  0.00           N  \\nATOM   1041  N   ASP B 129      -9.836  -5.716   9.378  1.00  0.00           N  \\nATOM   1042  CA  ASP B 129      -8.695  -5.302   8.570  1.00  0.00           C  \\nATOM   1043  C   ASP B 129      -9.130  -4.898   7.167  1.00  0.00           C  \\nATOM   1044  O   ASP B 129      -8.324  -4.420   6.370  1.00  0.00           O  \\nATOM   1045  CB  ASP B 129      -7.639  -6.408   8.496  1.00  0.00           C  \\nATOM   1046  CG  ASP B 129      -6.918  -6.610   9.822  1.00  0.00           C  \\nATOM   1047  OD1 ASP B 129      -6.636  -7.736  10.157  1.00  0.00           O  \\nATOM   1048  OD2 ASP B 129      -6.657  -5.637  10.487  1.00  0.00           O  \\nATOM   1049  N   LYS B 130     -10.460  -5.159   6.754  1.00  0.00           N  \\nATOM   1050  CA  LYS B 130     -10.908  -4.718   5.438  1.00  0.00           C  \\nATOM   1051  C   LYS B 130     -10.838  -3.202   5.312  1.00  0.00           C  \\nATOM   1052  O   LYS B 130     -11.031  -2.479   6.289  1.00  0.00           O  \\nATOM   1053  CB  LYS B 130     -12.330  -5.210   5.161  1.00  0.00           C  \\nATOM   1054  CG  LYS B 130     -13.399  -4.651   6.090  1.00  0.00           C  \\nATOM   1055  CD  LYS B 130     -14.760  -5.263   5.797  1.00  0.00           C  \\nATOM   1056  CE  LYS B 130     -15.829  -4.709   6.728  1.00  0.00           C  \\nATOM   1057  NZ  LYS B 130     -17.161  -5.321   6.473  1.00  0.00           N  \\nATOM   1058  N   GLY B 131     -10.490  -2.712   4.096  1.00  0.00           N  \\nATOM   1059  CA  GLY B 131     -10.425  -1.276   3.855  1.00  0.00           C  \\nATOM   1060  C   GLY B 131      -9.313  -0.932   2.873  1.00  0.00           C  \\nATOM   1061  O   GLY B 131      -8.736  -1.815   2.239  1.00  0.00           O  \\nATOM   1062  N   LEU B 132      -9.067   0.402   2.718  1.00  0.00           N  \\nATOM   1063  CA  LEU B 132      -8.049   0.903   1.801  1.00  0.00           C  \\nATOM   1064  C   LEU B 132      -6.677   0.936   2.465  1.00  0.00           C  \\nATOM   1065  O   LEU B 132      -6.553   1.289   3.638  1.00  0.00           O  \\nATOM   1066  CB  LEU B 132      -8.413   2.307   1.304  1.00  0.00           C  \\nATOM   1067  CG  LEU B 132      -9.638   2.423   0.387  1.00  0.00           C  \\nATOM   1068  CD1 LEU B 132      -9.891   3.888   0.059  1.00  0.00           C  \\nATOM   1069  CD2 LEU B 132      -9.404   1.611  -0.879  1.00  0.00           C  \\nATOM   1070  N   TYR B 133      -5.654   0.479   1.790  1.00  0.00           N  \\nATOM   1071  CA  TYR B 133      -4.249   0.594   2.161  1.00  0.00           C  \\nATOM   1072  C   TYR B 133      -3.451   1.310   1.078  1.00  0.00           C  \\nATOM   1073  O   TYR B 133      -3.770   1.215  -0.107  1.00  0.00           O  \\nATOM   1074  CB  TYR B 133      -3.657  -0.791   2.429  1.00  0.00           C  \\nATOM   1075  CG  TYR B 133      -4.382  -1.578   3.498  1.00  0.00           C  \\nATOM   1076  CD1 TYR B 133      -5.371  -2.483   3.143  1.00  0.00           C  \\nATOM   1077  CD2 TYR B 133      -4.058  -1.393   4.834  1.00  0.00           C  \\nATOM   1078  CE1 TYR B 133      -6.033  -3.201   4.120  1.00  0.00           C  \\nATOM   1079  CE2 TYR B 133      -4.720  -2.111   5.811  1.00  0.00           C  \\nATOM   1080  OH  TYR B 133      -6.367  -3.730   6.426  1.00  0.00           O  \\nATOM   1081  CZ  TYR B 133      -5.707  -3.015   5.453  1.00  0.00           C  \\nATOM   1082  N   GLN B 134      -2.448   2.139   1.485  1.00  0.00           N  \\nATOM   1083  CA  GLN B 134      -1.612   2.865   0.537  1.00  0.00           C  \\nATOM   1084  C   GLN B 134      -0.133   2.603   0.794  1.00  0.00           C  \\nATOM   1085  O   GLN B 134       0.349   2.757   1.916  1.00  0.00           O  \\nATOM   1086  CB  GLN B 134      -1.881   4.370   0.619  1.00  0.00           C  \\nATOM   1087  CG  GLN B 134      -3.309   4.790   0.314  1.00  0.00           C  \\nATOM   1088  CD  GLN B 134      -3.523   6.281   0.488  1.00  0.00           C  \\nATOM   1089  NE2 GLN B 134      -4.476   6.832  -0.255  1.00  0.00           N  \\nATOM   1090  OE1 GLN B 134      -2.840   6.932   1.284  1.00  0.00           O  \\nATOM   1091  N   CYS B 135       0.620   2.062  -0.230  1.00  0.00           N  \\nATOM   1092  CA  CYS B 135       2.078   2.096  -0.249  1.00  0.00           C  \\nATOM   1093  C   CYS B 135       2.591   3.432  -0.769  1.00  0.00           C  \\nATOM   1094  O   CYS B 135       2.256   3.847  -1.879  1.00  0.00           O  \\nATOM   1095  CB  CYS B 135       2.614   0.953  -1.112  1.00  0.00           C  \\nATOM   1096  SG  CYS B 135       4.410   0.935  -1.326  1.00  0.00           S  \\nATOM   1097  N   ILE B 136       3.337   4.198   0.123  1.00  0.00           N  \\nATOM   1098  CA  ILE B 136       3.884   5.497  -0.249  1.00  0.00           C  \\nATOM   1099  C   ILE B 136       5.405   5.500  -0.164  1.00  0.00           C  \\nATOM   1100  O   ILE B 136       5.979   5.139   0.863  1.00  0.00           O  \\nATOM   1101  CB  ILE B 136       3.297   6.606   0.643  1.00  0.00           C  \\nATOM   1102  CG1 ILE B 136       1.767   6.577   0.595  1.00  0.00           C  \\nATOM   1103  CG2 ILE B 136       3.821   7.967   0.213  1.00  0.00           C  \\nATOM   1104  CD1 ILE B 136       1.108   7.500   1.594  1.00  0.00           C  \\nATOM   1105  N   ILE B 137       6.089   5.844  -1.279  1.00  0.00           N  \\nATOM   1106  CA  ILE B 137       7.543   5.905  -1.358  1.00  0.00           C  \\nATOM   1107  C   ILE B 137       8.029   7.342  -1.492  1.00  0.00           C  \\nATOM   1108  O   ILE B 137       7.495   8.116  -2.287  1.00  0.00           O  \\nATOM   1109  CB  ILE B 137       8.059   5.061  -2.538  1.00  0.00           C  \\nATOM   1110  CG1 ILE B 137       7.536   3.626  -2.435  1.00  0.00           C  \\nATOM   1111  CG2 ILE B 137       9.579   5.076  -2.579  1.00  0.00           C  \\nATOM   1112  CD1 ILE B 137       7.869   2.767  -3.634  1.00  0.00           C  \\nATOM   1113  N   HIS B 138       9.028   7.737  -0.660  1.00  0.00           N  \\nATOM   1114  CA  HIS B 138       9.637   9.060  -0.721  1.00  0.00           C  \\nATOM   1115  C   HIS B 138      11.142   8.964  -0.936  1.00  0.00           C  \\nATOM   1116  O   HIS B 138      11.800   8.071  -0.400  1.00  0.00           O  \\nATOM   1117  CB  HIS B 138       9.369   9.846   0.566  1.00  0.00           C  \\nATOM   1118  CG  HIS B 138       7.918  10.086   0.847  1.00  0.00           C  \\nATOM   1119  CD2 HIS B 138       7.131  11.162   0.616  1.00  0.00           C  \\nATOM   1120  ND1 HIS B 138       5.882  10.865   1.105  1.00  0.00           N  \\nATOM   1121  CE1 HIS B 138       5.886   9.625   1.563  1.00  0.00           C  \\nATOM   1122  NE2 HIS B 138       7.098   9.126   1.405  1.00  0.00           N  \\nATOM   1123  N   HIS B 139      11.720   9.771  -1.862  1.00  0.00           N  \\nATOM   1124  CA  HIS B 139      13.161   9.955  -1.983  1.00  0.00           C  \\nATOM   1125  C   HIS B 139      13.686  10.912  -0.920  1.00  0.00           C  \\nATOM   1126  O   HIS B 139      13.249  12.060  -0.834  1.00  0.00           O  \\nATOM   1127  CB  HIS B 139      13.496  10.474  -3.386  1.00  0.00           C  \\nATOM   1128  CG  HIS B 139      14.944  10.782  -3.611  1.00  0.00           C  \\nATOM   1129  CD2 HIS B 139      16.050  10.011  -3.488  1.00  0.00           C  \\nATOM   1130  ND1 HIS B 139      17.092  10.745  -4.026  1.00  0.00           N  \\nATOM   1131  CE1 HIS B 139      16.702  12.004  -4.132  1.00  0.00           C  \\nATOM   1132  NE2 HIS B 139      15.424  12.072  -3.808  1.00  0.00           N  \\nATOM   1133  N   LYS B 140      14.592  10.393   0.022  1.00  0.00           N  \\nATOM   1134  CA  LYS B 140      15.149  11.240   1.070  1.00  0.00           C  \\nATOM   1135  C   LYS B 140      15.978  12.373   0.479  1.00  0.00           C  \\nATOM   1136  O   LYS B 140      16.808  12.154  -0.403  1.00  0.00           O  \\nATOM   1137  CB  LYS B 140      16.003  10.403   2.024  1.00  0.00           C  \\nATOM   1138  CG  LYS B 140      16.513  11.134   3.259  1.00  0.00           C  \\nATOM   1139  CD  LYS B 140      15.424  11.263   4.313  1.00  0.00           C  \\nATOM   1140  CE  LYS B 140      15.941  11.961   5.562  1.00  0.00           C  \\nATOM   1141  NZ  LYS B 140      14.844  12.284   6.515  1.00  0.00           N  \\nATOM   1142  N   LYS B 141      15.690  13.634   0.854  1.00  0.00           N  \\nATOM   1143  CA  LYS B 141      16.453  14.812   0.460  1.00  0.00           C  \\nATOM   1144  C   LYS B 141      17.342  15.299   1.597  1.00  0.00           C  \\nATOM   1145  O   LYS B 141      17.220  14.840   2.733  1.00  0.00           O  \\nATOM   1146  CB  LYS B 141      15.495  15.922   0.025  1.00  0.00           C  \\nATOM   1147  CG  LYS B 141      14.546  15.560  -1.109  1.00  0.00           C  \\nATOM   1148  CD  LYS B 141      15.309  15.210  -2.378  1.00  0.00           C  \\nATOM   1149  CE  LYS B 141      15.950  16.443  -2.997  1.00  0.00           C  \\nATOM   1150  NZ  LYS B 141      16.541  16.152  -4.331  1.00  0.00           N  \\nATOM   1151  N   PRO B 142      18.377  16.273   1.342  1.00  0.00           N  \\nATOM   1152  CA  PRO B 142      19.165  16.894   2.400  1.00  0.00           C  \\nATOM   1153  C   PRO B 142      18.279  17.351   3.551  1.00  0.00           C  \\nATOM   1154  O   PRO B 142      18.528  17.017   4.709  1.00  0.00           O  \\nATOM   1155  CB  PRO B 142      19.834  18.082   1.701  1.00  0.00           C  \\nATOM   1156  CG  PRO B 142      20.004  17.635   0.289  1.00  0.00           C  \\nATOM   1157  CD  PRO B 142      18.780  16.804   0.010  1.00  0.00           C  \\nATOM   1158  N   THR B 143      17.266  18.300   3.281  1.00  0.00           N  \\nATOM   1159  CA  THR B 143      16.178  18.640   4.190  1.00  0.00           C  \\nATOM   1160  C   THR B 143      14.836  18.176   3.640  1.00  0.00           C  \\nATOM   1161  O   THR B 143      14.504  18.438   2.484  1.00  0.00           O  \\nATOM   1162  CB  THR B 143      16.149  20.158   4.443  1.00  0.00           C  \\nATOM   1163  CG2 THR B 143      15.193  20.506   5.573  1.00  0.00           C  \\nATOM   1164  OG1 THR B 143      17.472  20.588   4.792  1.00  0.00           O  \\nATOM   1165  N   GLY B 144      14.157  17.241   4.380  1.00  0.00           N  \\nATOM   1166  CA  GLY B 144      12.857  16.696   4.008  1.00  0.00           C  \\nATOM   1167  C   GLY B 144      13.004  15.537   3.031  1.00  0.00           C  \\nATOM   1168  O   GLY B 144      14.072  14.933   2.927  1.00  0.00           O  \\nATOM   1169  N   MET B 145      11.884  14.982   2.511  1.00  0.00           N  \\nATOM   1170  CA  MET B 145      11.808  13.924   1.511  1.00  0.00           C  \\nATOM   1171  C   MET B 145      10.776  14.252   0.439  1.00  0.00           C  \\nATOM   1172  O   MET B 145       9.822  14.989   0.688  1.00  0.00           O  \\nATOM   1173  CB  MET B 145      11.495  12.588   2.181  1.00  0.00           C  \\nATOM   1174  CG  MET B 145      10.144  12.528   2.881  1.00  0.00           C  \\nATOM   1175  SD  MET B 145       9.811  10.913   3.613  1.00  0.00           S  \\nATOM   1176  CE  MET B 145      11.004  10.895   4.948  1.00  0.00           C  \\nATOM   1177  N   ILE B 146      10.992  13.805  -0.829  1.00  0.00           N  \\nATOM   1178  CA  ILE B 146      10.039  14.003  -1.914  1.00  0.00           C  \\nATOM   1179  C   ILE B 146       9.342  12.699  -2.280  1.00  0.00           C  \\nATOM   1180  O   ILE B 146       9.991  11.677  -2.500  1.00  0.00           O  \\nATOM   1181  CB  ILE B 146      10.733  14.594  -3.156  1.00  0.00           C  \\nATOM   1182  CG1 ILE B 146      11.349  15.955  -2.823  1.00  0.00           C  \\nATOM   1183  CG2 ILE B 146       9.748  14.719  -4.308  1.00  0.00           C  \\nATOM   1184  CD1 ILE B 146      12.171  16.544  -3.946  1.00  0.00           C  \\nATOM   1185  N   ARG B 147       7.914  12.688  -2.321  1.00  0.00           N  \\nATOM   1186  CA  ARG B 147       7.185  11.518  -2.796  1.00  0.00           C  \\nATOM   1187  C   ARG B 147       7.473  11.249  -4.268  1.00  0.00           C  \\nATOM   1188  O   ARG B 147       7.464  12.166  -5.089  1.00  0.00           O  \\nATOM   1189  CB  ARG B 147       5.689  11.708  -2.590  1.00  0.00           C  \\nATOM   1190  CG  ARG B 147       4.835  10.498  -2.934  1.00  0.00           C  \\nATOM   1191  CD  ARG B 147       3.403  10.727  -2.612  1.00  0.00           C  \\nATOM   1192  NE  ARG B 147       2.841  11.821  -3.387  1.00  0.00           N  \\nATOM   1193  NH1 ARG B 147       2.343  10.527  -5.229  1.00  0.00           N  \\nATOM   1194  NH2 ARG B 147       1.853  12.757  -5.255  1.00  0.00           N  \\nATOM   1195  CZ  ARG B 147       2.342  11.699  -4.633  1.00  0.00           C  \\nATOM   1196  N   ILE B 148       7.783   9.962  -4.601  1.00  0.00           N  \\nATOM   1197  CA  ILE B 148       8.115   9.613  -5.978  1.00  0.00           C  \\nATOM   1198  C   ILE B 148       7.168   8.550  -6.520  1.00  0.00           C  \\nATOM   1199  O   ILE B 148       7.109   8.316  -7.727  1.00  0.00           O  \\nATOM   1200  CB  ILE B 148       9.575   9.145  -6.120  1.00  0.00           C  \\nATOM   1201  CG1 ILE B 148       9.853   7.890  -5.289  1.00  0.00           C  \\nATOM   1202  CG2 ILE B 148      10.516  10.271  -5.721  1.00  0.00           C  \\nATOM   1203  CD1 ILE B 148      11.240   7.322  -5.487  1.00  0.00           C  \\nATOM   1204  N   HIS B 149       6.476   7.743  -5.573  1.00  0.00           N  \\nATOM   1205  CA  HIS B 149       5.575   6.688  -6.020  1.00  0.00           C  \\nATOM   1206  C   HIS B 149       4.504   6.398  -4.976  1.00  0.00           C  \\nATOM   1207  O   HIS B 149       4.746   6.518  -3.775  1.00  0.00           O  \\nATOM   1208  CB  HIS B 149       6.358   5.406  -6.325  1.00  0.00           C  \\nATOM   1209  CG  HIS B 149       5.520   4.288  -6.864  1.00  0.00           C  \\nATOM   1210  CD2 HIS B 149       5.137   3.114  -6.310  1.00  0.00           C  \\nATOM   1211  ND1 HIS B 149       4.350   2.467  -7.231  1.00  0.00           N  \\nATOM   1212  CE1 HIS B 149       4.285   3.201  -8.329  1.00  0.00           C  \\nATOM   1213  NE2 HIS B 149       4.990   4.301  -8.137  1.00  0.00           N  \\nATOM   1214  N   GLN B 150       3.250   6.196  -5.382  1.00  0.00           N  \\nATOM   1215  CA  GLN B 150       2.171   5.766  -4.501  1.00  0.00           C  \\nATOM   1216  C   GLN B 150       1.327   4.679  -5.155  1.00  0.00           C  \\nATOM   1217  O   GLN B 150       0.996   4.763  -6.337  1.00  0.00           O  \\nATOM   1218  CB  GLN B 150       1.289   6.961  -4.128  1.00  0.00           C  \\nATOM   1219  CG  GLN B 150       0.173   6.660  -3.142  1.00  0.00           C  \\nATOM   1220  CD  GLN B 150      -0.701   7.870  -2.871  1.00  0.00           C  \\nATOM   1221  NE2 GLN B 150      -1.889   7.631  -2.328  1.00  0.00           N  \\nATOM   1222  OE1 GLN B 150      -0.313   9.008  -3.148  1.00  0.00           O  \\nATOM   1223  N   MET B 151       1.036   3.587  -4.405  1.00  0.00           N  \\nATOM   1224  CA  MET B 151       0.139   2.518  -4.828  1.00  0.00           C  \\nATOM   1225  C   MET B 151      -0.975   2.300  -3.812  1.00  0.00           C  \\nATOM   1226  O   MET B 151      -0.715   2.053  -2.635  1.00  0.00           O  \\nATOM   1227  CB  MET B 151       0.928   1.230  -5.057  1.00  0.00           C  \\nATOM   1228  CG  MET B 151       0.098   0.025  -5.475  1.00  0.00           C  \\nATOM   1229  SD  MET B 151      -0.727   0.266  -7.061  1.00  0.00           S  \\nATOM   1230  CE  MET B 151      -1.593  -1.292  -7.232  1.00  0.00           C  \\nATOM   1231  N   ASN B 152      -2.245   2.475  -4.246  1.00  0.00           N  \\nATOM   1232  CA  ASN B 152      -3.425   2.258  -3.417  1.00  0.00           C  \\nATOM   1233  C   ASN B 152      -4.044   0.892  -3.686  1.00  0.00           C  \\nATOM   1234  O   ASN B 152      -4.102   0.441  -4.830  1.00  0.00           O  \\nATOM   1235  CB  ASN B 152      -4.455   3.347  -3.651  1.00  0.00           C  \\nATOM   1236  CG  ASN B 152      -3.949   4.729  -3.340  1.00  0.00           C  \\nATOM   1237  ND2 ASN B 152      -4.472   5.710  -4.029  1.00  0.00           N  \\nATOM   1238  OD1 ASN B 152      -3.084   4.906  -2.476  1.00  0.00           O  \\nATOM   1239  N   SER B 153      -4.456   0.143  -2.655  1.00  0.00           N  \\nATOM   1240  CA  SER B 153      -5.170  -1.116  -2.831  1.00  0.00           C  \\nATOM   1241  C   SER B 153      -6.314  -1.245  -1.834  1.00  0.00           C  \\nATOM   1242  O   SER B 153      -6.227  -0.754  -0.708  1.00  0.00           O  \\nATOM   1243  CB  SER B 153      -4.218  -2.286  -2.674  1.00  0.00           C  \\nATOM   1244  OG  SER B 153      -3.686  -2.333  -1.378  1.00  0.00           O  \\nATOM   1245  N   GLU B 154      -7.443  -1.811  -2.294  1.00  0.00           N  \\nATOM   1246  CA  GLU B 154      -8.585  -2.157  -1.457  1.00  0.00           C  \\nATOM   1247  C   GLU B 154      -8.506  -3.604  -0.988  1.00  0.00           C  \\nATOM   1248  O   GLU B 154      -8.352  -4.521  -1.795  1.00  0.00           O  \\nATOM   1249  CB  GLU B 154      -9.888  -1.925  -2.225  1.00  0.00           C  \\nATOM   1250  CG  GLU B 154     -11.155  -2.085  -1.397  1.00  0.00           C  \\nATOM   1251  CD  GLU B 154     -12.410  -1.906  -2.206  1.00  0.00           C  \\nATOM   1252  OE1 GLU B 154     -13.473  -1.941  -1.634  1.00  0.00           O  \\nATOM   1253  OE2 GLU B 154     -12.305  -1.736  -3.398  1.00  0.00           O  \\nATOM   1254  N   LEU B 155      -8.541  -3.853   0.329  1.00  0.00           N  \\nATOM   1255  CA  LEU B 155      -8.529  -5.196   0.896  1.00  0.00           C  \\nATOM   1256  C   LEU B 155      -9.932  -5.637   1.300  1.00  0.00           C  \\nATOM   1257  O   LEU B 155     -10.614  -4.949   2.060  1.00  0.00           O  \\nATOM   1258  CB  LEU B 155      -7.603  -5.246   2.118  1.00  0.00           C  \\nATOM   1259  CG  LEU B 155      -7.619  -6.526   2.964  1.00  0.00           C  \\nATOM   1260  CD1 LEU B 155      -7.094  -7.690   2.135  1.00  0.00           C  \\nATOM   1261  CD2 LEU B 155      -6.774  -6.319   4.213  1.00  0.00           C  \\nATOM   1262  N   SER B 156     -10.485  -6.704   0.671  1.00  0.00           N  \\nATOM   1263  CA  SER B 156     -11.602  -7.490   1.181  1.00  0.00           C  \\nATOM   1264  C   SER B 156     -11.112  -8.716   1.941  1.00  0.00           C  \\nATOM   1265  O   SER B 156     -10.184  -9.398   1.507  1.00  0.00           O  \\nATOM   1266  CB  SER B 156     -12.497  -7.920   0.034  1.00  0.00           C  \\nATOM   1267  OG  SER B 156     -13.005  -6.807  -0.648  1.00  0.00           O  \\nATOM   1268  N   VAL B 157     -11.580  -8.913   3.173  1.00  0.00           N  \\nATOM   1269  CA  VAL B 157     -11.309 -10.119   3.946  1.00  0.00           C  \\nATOM   1270  C   VAL B 157     -12.510 -11.056   3.943  1.00  0.00           C  \\nATOM   1271  O   VAL B 157     -13.571 -10.723   4.470  1.00  0.00           O  \\nATOM   1272  CB  VAL B 157     -10.908  -9.753   5.388  1.00  0.00           C  \\nATOM   1273  CG1 VAL B 157     -10.537 -11.002   6.173  1.00  0.00           C  \\nATOM   1274  CG2 VAL B 157      -9.751  -8.766   5.367  1.00  0.00           C  \\nATOM   1275  N   LEU B 158     -12.340 -12.259   3.298  1.00  0.00           N  \\nATOM   1276  CA  LEU B 158     -13.409 -13.211   3.021  1.00  0.00           C  \\nATOM   1277  C   LEU B 158     -13.340 -14.407   3.964  1.00  0.00           C  \\nATOM   1278  O   LEU B 158     -12.299 -14.680   4.561  1.00  0.00           O  \\nATOM   1279  CB  LEU B 158     -13.332 -13.683   1.563  1.00  0.00           C  \\nATOM   1280  CG  LEU B 158     -13.326 -12.590   0.487  1.00  0.00           C  \\nATOM   1281  CD1 LEU B 158     -13.143 -13.227  -0.884  1.00  0.00           C  \\nATOM   1282  CD2 LEU B 158     -14.627 -11.804   0.555  1.00  0.00           C  \\nATOM   1283  N   ALA B 159     -14.489 -15.168   4.179  1.00  0.00           N  \\nATOM   1284  CA  ALA B 159     -14.468 -16.364   5.013  1.00  0.00           C  \\nATOM   1285  C   ALA B 159     -15.000 -17.573   4.254  1.00  0.00           C  \\nATOM   1286  O   ALA B 159     -15.875 -17.446   3.398  1.00  0.00           O  \\nATOM   1287  CB  ALA B 159     -15.268 -16.140   6.288  1.00  0.00           C  \\nTER    1288      ALA B 159                                                       \\nEND   \\n\");\n",
       "\tviewer_1694835881461706.setStyle({\"model\": -1},{\"cartoon\": {\"colorscheme\": {\"prop\": \"b\", \"map\": {\"0\": \"#00ffff\", \"1\": \"#33ccff\", \"2\": \"#6699ff\", \"3\": \"#9966ff\", \"4\": \"#cc33ff\", \"5\": \"#ff00ff\"}}}, \"stick\": {}});\n",
       "\tviewer_1694835881461706.zoomTo();\n",
       "viewer_1694835881461706.render();\n",
       "});\n",
       "</script>"
      ]
     },
     "metadata": {},
     "output_type": "display_data"
    },
    {
     "data": {
      "text/plain": [
       "<py3Dmol.view at 0x7fd083bff6a0>"
      ]
     },
     "execution_count": 9,
     "metadata": {},
     "output_type": "execute_result"
    }
   ],
   "source": [
    "designed_structure.show()"
   ]
  },
  {
   "cell_type": "code",
   "execution_count": 7,
   "id": "fa9756db-cc69-4524-928c-365ea2b49784",
   "metadata": {},
   "outputs": [],
   "source": [
    "with open(\"reference_binder.pdb\", mode=\"w\") as f:\n",
    "    f.writelines(designed_pdb)"
   ]
  },
  {
   "cell_type": "code",
   "execution_count": 8,
   "id": "b9e43f20-17e1-472a-8bef-540751f07fcf",
   "metadata": {},
   "outputs": [
    {
     "data": {
      "text/plain": [
       "'SLLEQTLSVKGKTYKLRMQKSENGTYSWTRLSPRGEPLAQPVSVAPTFIMLKIQAYFNETADLPCQFANSQNQSLSELVVFWQDQENLVLNEVYLGKEKFDSVHSKYMGRTSFDSDSWTLRLHNLQIKDKGLYQCIIHHKKPTGMIRIHQMNSELSVLA'"
      ]
     },
     "execution_count": 8,
     "metadata": {},
     "output_type": "execute_result"
    }
   ],
   "source": [
    "designed_sequence"
   ]
  },
  {
   "cell_type": "markdown",
   "id": "563efde0-7bd7-4f24-a7e3-ec74a428c7b9",
   "metadata": {
    "jp-MarkdownHeadingCollapsed": true
   },
   "source": [
    "## Motif Scaffolding"
   ]
  },
  {
   "cell_type": "markdown",
   "id": "49029bf2-48bb-4a11-b50a-b7a91eff2df5",
   "metadata": {},
   "source": [
    "```bash\n",
    "python ./inference.py \\\n",
    "    --num_designs 10 \\\n",
    "    --out examples/out/design \\\n",
    "    --pdb examples/pdbs/rsv5_5tpn.pdb \\\n",
    "    --contigs 0-25,A163-181,25-30 --T 25 --save_best_plddt\n",
    "```"
   ]
  },
  {
   "cell_type": "code",
   "execution_count": 4,
   "id": "9cd61974-df87-4bf3-b312-8f7a4950cd22",
   "metadata": {},
   "outputs": [],
   "source": [
    "with open(\"rsv5_5tpn.pdb\", mode=\"r\") as f:\n",
    "    reference_pdb_str = f.read()\n",
    "\n",
    "reference_structure = protein.Protein27.from_pdb_string(reference_pdb_str)"
   ]
  },
  {
   "cell_type": "code",
   "execution_count": 5,
   "id": "db66611b-f54f-4ec4-bb6d-b07b83a953f8",
   "metadata": {},
   "outputs": [
    {
     "name": "stderr",
     "output_type": "stream",
     "text": [
      "  0%|                                                                        | 0/25 [00:00<?, ?it/s]/home/conradry71/micromamba/envs/proteome/lib/python3.10/site-packages/dgl/backend/pytorch/tensor.py:449: UserWarning: TypedStorage is deprecated. It will be removed in the future and UntypedStorage will be the only storage class. This should only matter to you if you are using storages directly.  To access UntypedStorage directly, use tensor.untyped_storage() instead of tensor.storage()\n",
      "  assert input.numel() == input.storage().size(), (\n",
      "100%|███████████████████████████████████████████████████████████████| 25/25 [01:04<00:00,  2.60s/it]\n"
     ]
    }
   ],
   "source": [
    "designed_structure, designed_sequence = designer(\n",
    "    config.InferenceConfig(\n",
    "        reference_structure=reference_structure,\n",
    "        contigmap_params=config.ContigMap(contigs=[\"0-25/A163-181/25-30\"]),\n",
    "    ),\n",
    ")[:2]\n",
    "designed_pdb = designed_structure.to_pdb()"
   ]
  },
  {
   "cell_type": "code",
   "execution_count": 6,
   "id": "7880c71e-5cdf-4cb7-bd2c-589e2b5230c2",
   "metadata": {},
   "outputs": [],
   "source": [
    "#show_structure(designed_pdb)"
   ]
  },
  {
   "cell_type": "code",
   "execution_count": 7,
   "id": "9307c167-c3c0-4447-bea9-fa71b8a4bdbe",
   "metadata": {},
   "outputs": [],
   "source": [
    "#with open(\"reference_motif_scaffolding.pdb\", mode=\"w\") as f:\n",
    "#    f.writelines(designed_pdb)"
   ]
  },
  {
   "cell_type": "code",
   "execution_count": 8,
   "id": "7fdcb2f2-ee61-4e21-aaa7-158366b87c17",
   "metadata": {},
   "outputs": [
    {
     "data": {
      "text/plain": [
       "'SRPERVIRITPEEVNKIKSALLSTNKAVVSLNGKTIEIDRNDVIKDGEIIIDPNRKIKK'"
      ]
     },
     "execution_count": 8,
     "metadata": {},
     "output_type": "execute_result"
    }
   ],
   "source": [
    "designed_sequence"
   ]
  },
  {
   "cell_type": "markdown",
   "id": "b1ba3832-86db-40c4-ae29-bfe84f1ac900",
   "metadata": {
    "jp-MarkdownHeadingCollapsed": true
   },
   "source": [
    "## Partial Diffusion"
   ]
  },
  {
   "cell_type": "markdown",
   "id": "01162cf7-64ef-41a1-b692-b16c71bd160a",
   "metadata": {},
   "source": [
    "```bash\n",
    "python ./inference.py \\\n",
    "    --num_designs 10 \\\n",
    "    --pdb examples/out/design_000000.pdb \\\n",
    "    --out examples/out/partial_diffusion_design \\\n",
    "    --contigs 38 --sampling_temp 0.3 --T 50 --save_best_plddt\n",
    "```"
   ]
  },
  {
   "cell_type": "code",
   "execution_count": 12,
   "id": "97072fe7-092a-4ad2-8f07-4045777d2c92",
   "metadata": {},
   "outputs": [],
   "source": [
    "with open(\"design_000000.pdb\", mode=\"r\") as f:\n",
    "    reference_pdb_str = f.read()\n",
    "\n",
    "reference_structure = protein.Protein27.from_pdb_string(reference_pdb_str)"
   ]
  },
  {
   "cell_type": "code",
   "execution_count": 13,
   "id": "928c4e21-ef9d-453a-adf0-9a3f461f3f19",
   "metadata": {},
   "outputs": [
    {
     "name": "stderr",
     "output_type": "stream",
     "text": [
      "100%|█████████████████████████████████████████████████████████████████████████████████████████████████████████████████████████████████████| 15/15 [00:36<00:00,  2.43s/it]\n"
     ]
    }
   ],
   "source": [
    "designed_structure, designed_sequence = designer.design_structure_and_sequence(\n",
    "    config.InferenceConfig(\n",
    "        reference_structure=reference_structure,\n",
    "        diffuser_params=config.DiffuserParams(T=50),\n",
    "        contigmap_params=config.ContigMap(contigs=[\"38\"]),\n",
    "        sampling_temp=0.3,\n",
    "    ),\n",
    ")\n",
    "designed_pdb = designed_structure.to_pdb()"
   ]
  },
  {
   "cell_type": "code",
   "execution_count": 14,
   "id": "7f0533b1-a20f-49f8-bd35-5ac4118630de",
   "metadata": {},
   "outputs": [],
   "source": [
    "#show_structure(designed_pdb)"
   ]
  },
  {
   "cell_type": "code",
   "execution_count": 15,
   "id": "0a38e592-d77f-41a3-be78-97ba5be53552",
   "metadata": {},
   "outputs": [],
   "source": [
    "with open(\"reference_partial_diffusion.pdb\", mode=\"w\") as f:\n",
    "    f.writelines(designed_pdb)"
   ]
  },
  {
   "cell_type": "code",
   "execution_count": 16,
   "id": "233920a0-d790-4f3a-9a34-e47b3ee53040",
   "metadata": {},
   "outputs": [
    {
     "data": {
      "text/plain": [
       "'GLSPEELREFLRREGIELRSEEELRELLERLEELRELR'"
      ]
     },
     "execution_count": 16,
     "metadata": {},
     "output_type": "execute_result"
    }
   ],
   "source": [
    "designed_sequence"
   ]
  },
  {
   "cell_type": "markdown",
   "id": "0ec5c4ed-b893-4ba5-aab2-c79b26e36461",
   "metadata": {
    "jp-MarkdownHeadingCollapsed": true
   },
   "source": [
    "## Secondary Structure"
   ]
  },
  {
   "cell_type": "markdown",
   "id": "e0dbbd59-af10-4d71-a9e4-2bbea3f93347",
   "metadata": {},
   "source": [
    "```bash\n",
    "python ./inference.py \\\n",
    "    --num_designs 10 \\\n",
    "    --out examples/out/design \\\n",
    "    --contigs 100 \\\n",
    "    --T 25 --save_best_plddt \\\n",
    "    --secondary_structure XXXXXHHHHXXXLLLXXXXXXXXXXHHHHXXXLLLXXXXXXXXXXHHHHXXXLLLXXXXXXXXXXHHHHXXXLLLXXXXXXXXXXHHHHXXXLLLXXXXX\n",
    "```"
   ]
  },
  {
   "cell_type": "code",
   "execution_count": 18,
   "id": "267e8704-ce20-438a-a3b9-b163ceb16385",
   "metadata": {},
   "outputs": [],
   "source": [
    "secondary_structure_str = \"XXXXXHHHHXXXLLLXXXXXXXXXXHHHHXXXLLLXXXXXXXXXXHHHHXXXLLLXXXXXXXXXXHHHHXXXLLLXXXXXXXXXXHHHHXXXLLLXXXXX\""
   ]
  },
  {
   "cell_type": "code",
   "execution_count": 19,
   "id": "62c46179-ab8f-408a-9643-517a65320407",
   "metadata": {},
   "outputs": [
    {
     "name": "stderr",
     "output_type": "stream",
     "text": [
      "100%|█████████████████████████████████████████████████████████████████████████████████████████████████████████████████████████████████████| 25/25 [01:05<00:00,  2.61s/it]\n"
     ]
    }
   ],
   "source": [
    "designed_structure, designed_sequence = designer.design_structure_and_sequence(\n",
    "    config.InferenceConfig(\n",
    "        contigmap_params=config.ContigMap(contigs=[\"100\"]),\n",
    "        secondary_structure_params=config.SecondaryStructureParams(\n",
    "            secondary_structure=secondary_structure_str\n",
    "        ),\n",
    "    ),\n",
    ")\n",
    "designed_pdb = designed_structure.to_pdb()"
   ]
  },
  {
   "cell_type": "code",
   "execution_count": 20,
   "id": "d0a81134-de8f-4657-b3d6-9785a8bfe8a5",
   "metadata": {},
   "outputs": [],
   "source": [
    "#show_structure(designed_pdb)"
   ]
  },
  {
   "cell_type": "code",
   "execution_count": 21,
   "id": "ed1add06-4946-4e93-ae45-5061021fa962",
   "metadata": {},
   "outputs": [],
   "source": [
    "with open(\"reference_secondary_structure.pdb\", mode=\"w\") as f:\n",
    "    f.writelines(designed_pdb)"
   ]
  },
  {
   "cell_type": "code",
   "execution_count": 22,
   "id": "5a53513f-38e4-49b6-9c5c-60672ce92962",
   "metadata": {},
   "outputs": [
    {
     "data": {
      "text/plain": [
       "'SLEELVRIAKRYGIPLEELISAAREIIALIRAGRKLSAAEIEAIAARFAKKFGLSPEEAREFLLELIEEVAAGGVPSAAEMVALLKALRELVEDLVAIRK'"
      ]
     },
     "execution_count": 22,
     "metadata": {},
     "output_type": "execute_result"
    }
   ],
   "source": [
    "designed_sequence"
   ]
  },
  {
   "cell_type": "markdown",
   "id": "4379af1a-d33c-4556-a30d-b2d534559ec6",
   "metadata": {
    "jp-MarkdownHeadingCollapsed": true
   },
   "source": [
    "## Secondary Structure Bias"
   ]
  },
  {
   "cell_type": "markdown",
   "id": "a2900daa-16cd-425f-9c8d-82c7c7cd46fa",
   "metadata": {},
   "source": [
    "```bash\n",
    "python ./inference.py \\\n",
    "    --num_designs 10 \\\n",
    "    --out examples/out/design \\\n",
    "    --contigs 100 \\\n",
    "    --T 25 --save_best_plddt \\\n",
    "    --helix_bias 0.01 --strand_bias 0.01 --loop_bias 0.0 \n",
    "```"
   ]
  },
  {
   "cell_type": "code",
   "execution_count": 24,
   "id": "972cc4bc-1d73-40ce-bc27-18f7eb4172a9",
   "metadata": {},
   "outputs": [
    {
     "name": "stderr",
     "output_type": "stream",
     "text": [
      "100%|█████████████████████████████████████████████████████████████████████████████████████████████████████████████████████████████████████| 25/25 [01:03<00:00,  2.55s/it]\n"
     ]
    }
   ],
   "source": [
    "designed_structure, designed_sequence = designer.design_structure_and_sequence(\n",
    "    config.InferenceConfig(\n",
    "        contigmap_params=config.ContigMap(contigs=[\"100\"]),\n",
    "        structure_bias_params=config.StructureBiasParams(helix_bias=0.01, strand_bias=0.01)\n",
    "    ),\n",
    ")\n",
    "designed_pdb = designed_structure.to_pdb()"
   ]
  },
  {
   "cell_type": "code",
   "execution_count": 25,
   "id": "440453ce-51c1-435a-b4de-6f31e1b903b3",
   "metadata": {},
   "outputs": [],
   "source": [
    "#show_structure(designed_pdb)"
   ]
  },
  {
   "cell_type": "code",
   "execution_count": 26,
   "id": "fe1bc12e-fb0f-4bdf-a384-58cf5184b790",
   "metadata": {},
   "outputs": [],
   "source": [
    "with open(\"reference_secondary_structure_bias.pdb\", mode=\"w\") as f:\n",
    "    f.writelines(designed_pdb)"
   ]
  },
  {
   "cell_type": "code",
   "execution_count": 27,
   "id": "541f0473-9b60-4905-8795-0f77bcb3fca0",
   "metadata": {},
   "outputs": [
    {
     "data": {
      "text/plain": [
       "'SEEELERKKKALEQAKEELEKANRAINEARRALRELDAAQKELIALLEILKDENLSEKEREKRLEEVEEKIKEEQAKLQAEREKINAIREEVEQLLKKAK'"
      ]
     },
     "execution_count": 27,
     "metadata": {},
     "output_type": "execute_result"
    }
   ],
   "source": [
    "designed_sequence"
   ]
  },
  {
   "cell_type": "markdown",
   "id": "4b14e8f0-862b-47f6-bead-0793ad07847f",
   "metadata": {
    "jp-MarkdownHeadingCollapsed": true
   },
   "source": [
    "## Secondary Structure from PDB"
   ]
  },
  {
   "cell_type": "markdown",
   "id": "37f9f2af-b33d-4dc4-ab6d-c7ada5a3c9f4",
   "metadata": {},
   "source": [
    "```bash\n",
    "python ./inference.py \\\n",
    "    --num_designs 10 \\\n",
    "    --out examples/out/design \\\n",
    "    --contigs 110 \\\n",
    "    --T 25 --save_best_plddt \\\n",
    "    --dssp_pdb examples/pdbs/cd86.pdb\n",
    "```"
   ]
  },
  {
   "cell_type": "code",
   "execution_count": 29,
   "id": "94820260-e0c3-4c14-a95f-4ee0c21ee253",
   "metadata": {},
   "outputs": [],
   "source": [
    "with open(\"cd86.pdb\", mode=\"r\") as f:\n",
    "    dssp_pdb_str = f.read()\n",
    "\n",
    "dssp_structure = protein.Protein27.from_pdb_string(dssp_pdb_str)"
   ]
  },
  {
   "cell_type": "code",
   "execution_count": 30,
   "id": "e092a901-e78d-42f8-95b4-80a705d30a17",
   "metadata": {},
   "outputs": [
    {
     "name": "stderr",
     "output_type": "stream",
     "text": [
      "100%|█████████████████████████████████████████████████████████████████████████████████████████████████████████████████████████████████████| 25/25 [01:08<00:00,  2.73s/it]\n"
     ]
    }
   ],
   "source": [
    "designed_structure, designed_sequence = designer.design_structure_and_sequence(\n",
    "    config.InferenceConfig(\n",
    "        contigmap_params=config.ContigMap(contigs=[\"110\"]),\n",
    "        secondary_structure_params=config.SecondaryStructureParams(dssp_structure=dssp_structure),\n",
    "    ),\n",
    ")\n",
    "designed_pdb = designed_structure.to_pdb()"
   ]
  },
  {
   "cell_type": "code",
   "execution_count": 31,
   "id": "b650c12a-b49d-42f8-ae29-e1e86b0e284d",
   "metadata": {},
   "outputs": [],
   "source": [
    "#show_structure(designed_pdb)"
   ]
  },
  {
   "cell_type": "code",
   "execution_count": 32,
   "id": "59beb905-5562-4895-aeea-e7917a264523",
   "metadata": {},
   "outputs": [],
   "source": [
    "with open(\"reference_secondary_structure_from_pdb.pdb\", mode=\"w\") as f:\n",
    "    f.writelines(designed_pdb)"
   ]
  },
  {
   "cell_type": "code",
   "execution_count": 33,
   "id": "94daecde-c95e-43cc-ba5b-317d46d78b4a",
   "metadata": {},
   "outputs": [
    {
     "data": {
      "text/plain": [
       "'QPLELTLSGNTLTVKLPEGWSAPEVSGPTVLAYRTLPGAQPLAVAPTFVLSDGGGTVSVSPARLEPPAFVFKAELPQNAKEVEVTLTIYQQVNGKWTLLKQVVFTLTRAP'"
      ]
     },
     "execution_count": 33,
     "metadata": {},
     "output_type": "execute_result"
    }
   ],
   "source": [
    "designed_sequence"
   ]
  },
  {
   "cell_type": "markdown",
   "id": "4bbf7019-cf4a-4010-811a-1117225adf8c",
   "metadata": {
    "jp-MarkdownHeadingCollapsed": true
   },
   "source": [
    "## Sequence Conditioning"
   ]
  },
  {
   "cell_type": "markdown",
   "id": "e2296d10-a26e-4f00-a3a9-e70b06f81554",
   "metadata": {},
   "source": [
    "```bash\n",
    "python ./inference.py \\\n",
    "    --num_designs 10 \\\n",
    "    --out examples/out/design \\\n",
    "    --sequence XXXXXXXXXXXXXXXXPEPSEQXXXXXXXXXXXXXXXX \\\n",
    "    --T 25 --save_best_plddt\n",
    "```"
   ]
  },
  {
   "cell_type": "code",
   "execution_count": 35,
   "id": "dc3a2310-9787-46ac-9ace-7a27d0e67ccb",
   "metadata": {},
   "outputs": [
    {
     "name": "stderr",
     "output_type": "stream",
     "text": [
      "100%|█████████████████████████████████████████████████████████████████████████████████████████████████████████████████████████████████████| 25/25 [00:59<00:00,  2.38s/it]\n"
     ]
    }
   ],
   "source": [
    "designed_structure, designed_sequence = designer.design_structure_and_sequence(\n",
    "    config.InferenceConfig(\n",
    "        sequence=\"XXXXXXXXXXXXXXXXPEPSEQXXXXXXXXXXXXXXXX\",\n",
    "        contigmap_params=config.ContigMap(),\n",
    "    ),\n",
    ")\n",
    "designed_pdb = designed_structure.to_pdb()"
   ]
  },
  {
   "cell_type": "code",
   "execution_count": 36,
   "id": "74f5b7e3-6f6d-4dd2-8006-d47f8bef3dfe",
   "metadata": {},
   "outputs": [],
   "source": [
    "#show_structure(designed_pdb)"
   ]
  },
  {
   "cell_type": "code",
   "execution_count": 37,
   "id": "0c4a4872-de7c-4e19-a009-c199c5d02af7",
   "metadata": {},
   "outputs": [],
   "source": [
    "with open(\"reference_sequence_conditioning.pdb\", mode=\"w\") as f:\n",
    "    f.writelines(designed_pdb)"
   ]
  },
  {
   "cell_type": "code",
   "execution_count": 38,
   "id": "22dbca12-0d0f-49bb-b5cf-0c514fefed26",
   "metadata": {},
   "outputs": [
    {
     "data": {
      "text/plain": [
       "'SLEELLARIEELLEELPEPSEQAKAQLEELLARIKELK'"
      ]
     },
     "execution_count": 38,
     "metadata": {},
     "output_type": "execute_result"
    }
   ],
   "source": [
    "designed_sequence"
   ]
  },
  {
   "cell_type": "markdown",
   "id": "5188ef54-fb20-4538-ac44-d60c1d6ca19f",
   "metadata": {
    "jp-MarkdownHeadingCollapsed": true
   },
   "source": [
    "## Sequence Partial Diffusion"
   ]
  },
  {
   "cell_type": "markdown",
   "id": "046c284d-209e-4fc1-8d60-252e08a5fc2a",
   "metadata": {},
   "source": [
    "```bash\n",
    "python ./inference.py \\\n",
    "    --num_designs 10 \\\n",
    "    --sequence SAKVEELLETAKALGISEEEVREILELLEAGFIVIEVVSLGDAVILILENKKLGKYYILKNGEIERIKKPENARELKRKIAEILNISVEEIEAIIEKLRAK \\\n",
    "    --out examples/out/partial_diffusion_design \\\n",
    "    --sampling_temp 0.3 --T 50 --save_best_plddt\n",
    "```"
   ]
  },
  {
   "cell_type": "code",
   "execution_count": 40,
   "id": "12f72bb4-0828-4844-9ad3-23df39cb777b",
   "metadata": {},
   "outputs": [
    {
     "name": "stderr",
     "output_type": "stream",
     "text": [
      "100%|█████████████████████████████████████████████████████████████████████████████████████████████████████████████████████████████████████| 15/15 [00:39<00:00,  2.61s/it]\n"
     ]
    }
   ],
   "source": [
    "designed_structure, designed_sequence = designer.design_structure_and_sequence(\n",
    "    config.InferenceConfig(\n",
    "        sequence=\"SAKVEELLETAKALGISEEEVREILELLEAGFIVIEVVSLGDAVILILENKKLGKYYILKNGEIERIKKPENARELKRKIAEILNISVEEIEAIIEKLRAK\",\n",
    "        diffuser_params=config.DiffuserParams(T=50),\n",
    "        contigmap_params=config.ContigMap(),\n",
    "        sampling_temp=0.3,\n",
    "    ),\n",
    ")\n",
    "designed_pdb = designed_structure.to_pdb()"
   ]
  },
  {
   "cell_type": "code",
   "execution_count": 41,
   "id": "9fb5d36a-963d-4f1a-b9d3-ef88b87aa59e",
   "metadata": {},
   "outputs": [
    {
     "data": {
      "text/plain": [
       "'GIPPLIIIRIFRIPGITLDEIINFLKNLGFENIEIERLGENYFVIRFRINGREIIIVFDKNGKILDIIFSEEDLKEILEFLKKLGINPEELEKELEKIFPN'"
      ]
     },
     "execution_count": 41,
     "metadata": {},
     "output_type": "execute_result"
    }
   ],
   "source": [
    "designed_sequence"
   ]
  },
  {
   "cell_type": "code",
   "execution_count": 42,
   "id": "c3edbbe7-a538-4ff4-b919-7865b9b0ef2c",
   "metadata": {},
   "outputs": [],
   "source": [
    "#show_structure(designed_pdb)"
   ]
  },
  {
   "cell_type": "code",
   "execution_count": 43,
   "id": "7111d072-a3ac-4aef-80e7-cc009b5e2a77",
   "metadata": {},
   "outputs": [],
   "source": [
    "with open(\"reference_sequence_partial_diffusion.pdb\", mode=\"w\") as f:\n",
    "    f.writelines(designed_pdb)"
   ]
  },
  {
   "cell_type": "code",
   "execution_count": 44,
   "id": "423eb352-2fa0-4da4-affe-51d48300d3ff",
   "metadata": {},
   "outputs": [
    {
     "data": {
      "text/plain": [
       "'GIPPLIIIRIFRIPGITLDEIINFLKNLGFENIEIERLGENYFVIRFRINGREIIIVFDKNGKILDIIFSEEDLKEILEFLKKLGINPEELEKELEKIFPN'"
      ]
     },
     "execution_count": 44,
     "metadata": {},
     "output_type": "execute_result"
    }
   ],
   "source": [
    "designed_sequence"
   ]
  },
  {
   "cell_type": "markdown",
   "id": "1e0edb2a-5cb2-4409-a5aa-9b374bc3f6c0",
   "metadata": {
    "jp-MarkdownHeadingCollapsed": true
   },
   "source": [
    "## Symmetric Design"
   ]
  },
  {
   "cell_type": "markdown",
   "id": "af1c0cb3-054a-4139-bcb1-4d099103a285",
   "metadata": {},
   "source": [
    "```bash\n",
    "python ./inference.py \\\n",
    "    --num_designs 10 \\\n",
    "    --out examples/out/symmetric_design \\\n",
    "    --contigs 25,0 25,0 25,0 \\\n",
    "    --T 50 \\\n",
    "    --save_best_plddt \\\n",
    "    --symmetry 3\n",
    "```"
   ]
  },
  {
   "cell_type": "code",
   "execution_count": 46,
   "id": "bccd1639-c4ac-4c12-a085-1dd15ee69fe9",
   "metadata": {},
   "outputs": [
    {
     "name": "stderr",
     "output_type": "stream",
     "text": [
      "100%|█████████████████████████████████████████████████████████████████████████████████████████████████████████████████████████████████████| 50/50 [02:03<00:00,  2.48s/it]\n"
     ]
    }
   ],
   "source": [
    "designed_structure, designed_sequence = designer.design_structure_and_sequence(\n",
    "    config.InferenceConfig(\n",
    "        diffuser_params=config.DiffuserParams(T=50),\n",
    "        contigmap_params=config.ContigMap(contigs=[\"25/0 25/0 25/0\"]),\n",
    "        symmetry_params=config.SymmetryParams(symmetry=3),\n",
    "    ),\n",
    ")\n",
    "designed_pdb = designed_structure.to_pdb()"
   ]
  },
  {
   "cell_type": "code",
   "execution_count": 47,
   "id": "5c09ffba-ded2-400a-91d5-2aca27e55d14",
   "metadata": {},
   "outputs": [],
   "source": [
    "#show_structure(designed_pdb)"
   ]
  },
  {
   "cell_type": "code",
   "execution_count": 48,
   "id": "7dcb74c7-c07b-44f4-9e13-19298a6fd507",
   "metadata": {},
   "outputs": [],
   "source": [
    "with open(\"reference_symmetric.pdb\", mode=\"w\") as f:\n",
    "    f.writelines(designed_pdb)"
   ]
  },
  {
   "cell_type": "code",
   "execution_count": 49,
   "id": "f9a3008e-9c36-4817-be44-ac5d11252a3a",
   "metadata": {},
   "outputs": [
    {
     "data": {
      "text/plain": [
       "'NKIIIELTPEEIEEFLKFIKRIIEENKIIIILTPEEIEEFLKFIKRIIEENKIIIELTPEEIEEFLKFIKRIIEE'"
      ]
     },
     "execution_count": 49,
     "metadata": {},
     "output_type": "execute_result"
    }
   ],
   "source": [
    "designed_sequence"
   ]
  },
  {
   "cell_type": "markdown",
   "id": "00bbb2e3-2214-4bdb-bafa-2f12e6c6cd82",
   "metadata": {
    "jp-MarkdownHeadingCollapsed": true
   },
   "source": [
    "## Unconditional Design"
   ]
  },
  {
   "cell_type": "markdown",
   "id": "a1f97a0d-cad3-41ff-92a2-ee7f56a32aa6",
   "metadata": {},
   "source": [
    "```bash\n",
    "python ./inference.py \\\n",
    "    --num_designs 10 \\\n",
    "    --out examples/out/design \\\n",
    "    --contigs 100 \\\n",
    "    --T 25 --save_best_plddt\n",
    "```"
   ]
  },
  {
   "cell_type": "code",
   "execution_count": 51,
   "id": "0c0b1604-3e9a-4333-8290-ef295f983f0c",
   "metadata": {},
   "outputs": [
    {
     "name": "stderr",
     "output_type": "stream",
     "text": [
      "100%|█████████████████████████████████████████████████████████████████████████████████████████████████████████████████████████████████████| 25/25 [01:06<00:00,  2.65s/it]\n"
     ]
    }
   ],
   "source": [
    "designed_structure, designed_sequence = designer.design_structure_and_sequence(\n",
    "    config.InferenceConfig(\n",
    "        contigmap_params=config.ContigMap(contigs=[\"100\"]),\n",
    "    ),\n",
    ")\n",
    "designed_pdb = designed_structure.to_pdb()"
   ]
  },
  {
   "cell_type": "code",
   "execution_count": 52,
   "id": "90a2bfa2-e289-4e08-aa44-11597ad2d08e",
   "metadata": {},
   "outputs": [],
   "source": [
    "#designed_structure.atom_positions[0]"
   ]
  },
  {
   "cell_type": "code",
   "execution_count": 53,
   "id": "b588d826-fa7e-4c2f-ae8b-a0900bd1cc98",
   "metadata": {},
   "outputs": [],
   "source": [
    "#from proteome.constants import residue_constants"
   ]
  },
  {
   "cell_type": "code",
   "execution_count": 54,
   "id": "95f02f78-47b2-4c3b-ba22-d1ea7f7fe0fd",
   "metadata": {},
   "outputs": [],
   "source": [
    "#show_structure(designed_pdb)"
   ]
  },
  {
   "cell_type": "code",
   "execution_count": 55,
   "id": "9760a7e7-5099-4497-94ed-d1dfb89ff838",
   "metadata": {},
   "outputs": [],
   "source": [
    "with open(\"reference_unconditional.pdb\", mode=\"w\") as f:\n",
    "    f.writelines(designed_pdb)"
   ]
  },
  {
   "cell_type": "code",
   "execution_count": 56,
   "id": "17468c1e-0a86-4505-a49a-90fca2c11e36",
   "metadata": {},
   "outputs": [
    {
     "data": {
      "text/plain": [
       "'GPPPLSPEEIEELRELLEELAERFGISPEELARFFEPFIRIFLEKDPEELIEELRRFLESGFTREEFVEVSIPEIERYVEKGLLSDEEVEELLEFLERLG'"
      ]
     },
     "execution_count": 56,
     "metadata": {},
     "output_type": "execute_result"
    }
   ],
   "source": [
    "designed_sequence"
   ]
  },
  {
   "cell_type": "markdown",
   "id": "dbc4d32c-16fe-4c5c-8dbe-ab51aeb92073",
   "metadata": {},
   "source": [
    "## Weighted Sequence"
   ]
  },
  {
   "cell_type": "markdown",
   "id": "31c43aa8-64e9-4a80-a347-f00ab48f202c",
   "metadata": {},
   "source": [
    "```bash\n",
    "python ./inference.py \\\n",
    "    --num_designs 10 \\\n",
    "    --out examples/out/design \\\n",
    "    --contigs 100 \\\n",
    "    --T 25 --save_best_plddt \\\n",
    "    --potentials aa_bias \\\n",
    "    --aa_composition W0.2 --potential_scale 1.75 \n",
    "```"
   ]
  },
  {
   "cell_type": "code",
   "execution_count": 58,
   "id": "291417f6-87af-41e1-b28a-48d8517dccf4",
   "metadata": {},
   "outputs": [
    {
     "name": "stderr",
     "output_type": "stream",
     "text": [
      "100%|█████████████████████████████████████████████████████████████████████████████████████████████████████████████████████████████████████| 25/25 [01:04<00:00,  2.57s/it]\n"
     ]
    }
   ],
   "source": [
    "designed_structure, designed_sequence = designer.design_structure_and_sequence(\n",
    "    config.InferenceConfig(\n",
    "        contigmap_params=config.ContigMap(contigs=[\"100\"]),\n",
    "        potentials_params=config.PotentialsParams(\n",
    "            potentials=[config.AACompositionalBiasParams(aa_composition=\"W0.2\")],\n",
    "            potential_scales=[1.75],\n",
    "        ),\n",
    "    ),\n",
    ")\n",
    "designed_pdb = designed_structure.to_pdb()"
   ]
  },
  {
   "cell_type": "code",
   "execution_count": 59,
   "id": "c4bcd9a8-5bdb-43f4-8bf9-06e7918bbd2f",
   "metadata": {},
   "outputs": [],
   "source": [
    "#show_structure(designed_pdb)"
   ]
  },
  {
   "cell_type": "code",
   "execution_count": 60,
   "id": "1d281414-2adc-4678-90ef-6633061f4f90",
   "metadata": {},
   "outputs": [],
   "source": [
    "with open(\"reference_weighted_sequence.pdb\", mode=\"w\") as f:\n",
    "    f.writelines(designed_pdb)"
   ]
  },
  {
   "cell_type": "code",
   "execution_count": 61,
   "id": "fb1f8692-4b52-4b3a-9d9b-fd190aa6feaf",
   "metadata": {},
   "outputs": [
    {
     "data": {
      "text/plain": [
       "'GLPEITPEEIEELKKLWEEWKEALEPFLEWLERRGIPIGNPEFIKEFEEFIEELRKEIKNGATREEIIEFFIEEIEELVEKGLITEEEVEEFLKWIERWG'"
      ]
     },
     "execution_count": 61,
     "metadata": {},
     "output_type": "execute_result"
    }
   ],
   "source": [
    "designed_sequence"
   ]
  }
 ],
 "metadata": {
  "kernelspec": {
   "display_name": "Python 3 (ipykernel)",
   "language": "python",
   "name": "python3"
  },
  "language_info": {
   "codemirror_mode": {
    "name": "ipython",
    "version": 3
   },
   "file_extension": ".py",
   "mimetype": "text/x-python",
   "name": "python",
   "nbconvert_exporter": "python",
   "pygments_lexer": "ipython3",
   "version": "3.10.11"
  }
 },
 "nbformat": 4,
 "nbformat_minor": 5
}
