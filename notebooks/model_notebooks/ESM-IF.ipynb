{
 "cells": [
  {
   "cell_type": "markdown",
   "id": "c1ca5f72-100d-48d0-8ed8-be5ba10facfc",
   "metadata": {},
   "source": [
    "# ESM Inverse Folding"
   ]
  },
  {
   "cell_type": "code",
   "execution_count": null,
   "id": "2805dffc-6162-4177-82d4-731ce7500f58",
   "metadata": {},
   "outputs": [],
   "source": [
    "%load_ext autoreload\n",
    "%autoreload 2"
   ]
  },
  {
   "cell_type": "code",
   "execution_count": null,
   "id": "81e17422-417c-406b-b68e-62f47e3eb598",
   "metadata": {},
   "outputs": [],
   "source": [
    "from proteome import protein\n",
    "from proteome.models.esm import config\n",
    "from proteome.models.esm.modeling import ESMForInverseFolding"
   ]
  },
  {
   "cell_type": "code",
   "execution_count": null,
   "id": "8f8f03d1-a6af-4d7e-b4cb-feea2d2f230f",
   "metadata": {},
   "outputs": [],
   "source": [
    "inverse_folder = ESMForInverseFolding()"
   ]
  },
  {
   "cell_type": "code",
   "execution_count": null,
   "id": "710b8196-31d0-4b90-a132-da355826c9cd",
   "metadata": {},
   "outputs": [],
   "source": [
    "with open(\"./data/5L33.pdb\") as f:\n",
    "    gt_pdb = f.read()\n",
    "\n",
    "structure = protein.Protein37.from_pdb_string(gt_pdb)"
   ]
  },
  {
   "cell_type": "code",
   "execution_count": null,
   "id": "99ca85ed-bd82-4592-97e4-7d44334ecaed",
   "metadata": {},
   "outputs": [],
   "source": [
    "sequence, aux_output = inverse_folder(structure)"
   ]
  },
  {
   "cell_type": "code",
   "execution_count": null,
   "id": "709cc2b1-20b2-4b61-bd34-df585ef5533c",
   "metadata": {},
   "outputs": [],
   "source": [
    "print(f\"Sequence: {sequence} with average residue probability of {aux_output['avg_prob']}\")"
   ]
  },
  {
   "cell_type": "code",
   "execution_count": null,
   "id": "36695394-962b-4f9e-81dd-9cc3aa5f44ff",
   "metadata": {},
   "outputs": [],
   "source": []
  }
 ],
 "metadata": {
  "kernelspec": {
   "display_name": "Python 3 (ipykernel)",
   "language": "python",
   "name": "python3"
  },
  "language_info": {
   "codemirror_mode": {
    "name": "ipython",
    "version": 3
   },
   "file_extension": ".py",
   "mimetype": "text/x-python",
   "name": "python",
   "nbconvert_exporter": "python",
   "pygments_lexer": "ipython3",
   "version": "3.10.11"
  }
 },
 "nbformat": 4,
 "nbformat_minor": 5
}
