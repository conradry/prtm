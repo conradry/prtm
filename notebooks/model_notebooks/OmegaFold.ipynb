{
 "cells": [
  {
   "cell_type": "markdown",
   "id": "08602352-253d-479f-89c9-334cf8386bb4",
   "metadata": {},
   "source": [
    "# OmegaFold"
   ]
  },
  {
   "cell_type": "code",
   "execution_count": null,
   "id": "f81a1b51-849b-4407-9bdd-0beb0c38292e",
   "metadata": {},
   "outputs": [],
   "source": [
    "%load_ext autoreload\n",
    "%autoreload 2"
   ]
  },
  {
   "cell_type": "code",
   "execution_count": null,
   "id": "63a98928-c446-482c-8afc-9f0d203f372b",
   "metadata": {},
   "outputs": [],
   "source": [
    "from proteome import protein\n",
    "from proteome.models.omegafold import config\n",
    "from proteome.models.omegafold.modeling import OmegaFoldForFolding"
   ]
  },
  {
   "cell_type": "code",
   "execution_count": null,
   "id": "9ac251e6-343b-4de2-9889-a7c2f0e4e561",
   "metadata": {},
   "outputs": [],
   "source": [
    "sequence = 'MAAHKGAEHHHKAAEHHEQAAKHHHAAAEHHEKGEHEQAAHHADTAYAHHKHAEEHAAQAAKHDAEHHAPKPH'"
   ]
  },
  {
   "cell_type": "code",
   "execution_count": null,
   "id": "88e245c8-68dd-4326-993f-106d22cda4cf",
   "metadata": {},
   "outputs": [],
   "source": [
    "folder = OmegaFoldForFolding()"
   ]
  },
  {
   "cell_type": "code",
   "execution_count": null,
   "id": "5d2c15fb-fb20-443f-8406-dd73146e32d0",
   "metadata": {},
   "outputs": [],
   "source": [
    "structure, aux_output = folder(sequence)"
   ]
  },
  {
   "cell_type": "code",
   "execution_count": null,
   "id": "13ceebf2-f9b9-4af6-b76b-244abd562c8f",
   "metadata": {},
   "outputs": [],
   "source": [
    "structure.show()"
   ]
  },
  {
   "cell_type": "code",
   "execution_count": null,
   "id": "14e66551-12bd-4abe-b133-a42effe8f4dc",
   "metadata": {},
   "outputs": [],
   "source": []
  }
 ],
 "metadata": {
  "kernelspec": {
   "display_name": "Python 3 (ipykernel)",
   "language": "python",
   "name": "python3"
  },
  "language_info": {
   "codemirror_mode": {
    "name": "ipython",
    "version": 3
   },
   "file_extension": ".py",
   "mimetype": "text/x-python",
   "name": "python",
   "nbconvert_exporter": "python",
   "pygments_lexer": "ipython3",
   "version": "3.10.11"
  }
 },
 "nbformat": 4,
 "nbformat_minor": 5
}
