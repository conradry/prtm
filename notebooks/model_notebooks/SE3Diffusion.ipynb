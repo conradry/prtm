{
 "cells": [
  {
   "cell_type": "markdown",
   "id": "a2f4931a-2293-44d5-b17a-998540f2b921",
   "metadata": {},
   "source": [
    "# SE3 Diffusion"
   ]
  },
  {
   "cell_type": "code",
   "execution_count": null,
   "id": "b9ba32f6-f8c0-4eb2-b4f5-ab877fcfd83d",
   "metadata": {},
   "outputs": [],
   "source": [
    "%load_ext autoreload\n",
    "%autoreload 2"
   ]
  },
  {
   "cell_type": "code",
   "execution_count": null,
   "id": "664ce2c2-0eac-4ce8-8471-b173d3a9fb57",
   "metadata": {},
   "outputs": [],
   "source": [
    "from proteome import protein\n",
    "from proteome.models.se3_diffusion import config\n",
    "from proteome.models.se3_diffusion.modeling import SE3DiffusionForStructureDesign"
   ]
  },
  {
   "cell_type": "code",
   "execution_count": null,
   "id": "a74866f3-7f7f-4558-8247-a960b2315fa3",
   "metadata": {},
   "outputs": [],
   "source": [
    "structure_designer = SE3DiffusionForStructureDesign(model_name=\"paper\", random_seed=0)"
   ]
  },
  {
   "cell_type": "code",
   "execution_count": null,
   "id": "d51f6587-eed3-45b5-a399-be8fc572b0c5",
   "metadata": {},
   "outputs": [],
   "source": [
    "designed_structure, aux_output = structure_designer(\n",
    "    config.InferenceConfig(length=40)\n",
    ")"
   ]
  },
  {
   "cell_type": "code",
   "execution_count": null,
   "id": "c0190b56-e0e4-4ee4-82f6-dedac27aa406",
   "metadata": {},
   "outputs": [],
   "source": [
    "designed_structure.show()"
   ]
  },
  {
   "cell_type": "code",
   "execution_count": null,
   "id": "77c31bb5-3b50-4509-8073-d855597a50c2",
   "metadata": {},
   "outputs": [],
   "source": []
  }
 ],
 "metadata": {
  "kernelspec": {
   "display_name": "Python 3 (ipykernel)",
   "language": "python",
   "name": "python3"
  },
  "language_info": {
   "codemirror_mode": {
    "name": "ipython",
    "version": 3
   },
   "file_extension": ".py",
   "mimetype": "text/x-python",
   "name": "python",
   "nbconvert_exporter": "python",
   "pygments_lexer": "ipython3",
   "version": "3.10.11"
  }
 },
 "nbformat": 4,
 "nbformat_minor": 5
}
