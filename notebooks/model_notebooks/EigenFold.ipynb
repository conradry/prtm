{
 "cells": [
  {
   "cell_type": "markdown",
   "id": "4cd578e4-c8a2-4284-af4e-141bae9feacd",
   "metadata": {},
   "source": [
    "# EigenFold"
   ]
  },
  {
   "cell_type": "code",
   "execution_count": null,
   "id": "d9a86276-6eae-4cf8-b875-8992c9666c74",
   "metadata": {},
   "outputs": [],
   "source": [
    "%load_ext autoreload\n",
    "%autoreload 2"
   ]
  },
  {
   "cell_type": "code",
   "execution_count": null,
   "id": "1f4b0e67-b962-4f92-8658-89368ff596b9",
   "metadata": {},
   "outputs": [],
   "source": [
    "from proteome import protein\n",
    "from proteome.models.eigenfold import config\n",
    "from proteome.models.eigenfold.modeling import EigenFoldForFoldSampling"
   ]
  },
  {
   "cell_type": "code",
   "execution_count": null,
   "id": "b24cf465-e0f8-425e-8f79-6159c47f92e3",
   "metadata": {},
   "outputs": [],
   "source": [
    "sequence = 'MAAHKGAEHHHKAAEHHEQAAKHHHAAAEHHEKGEHEQAAHHADTAYAHHKHAEEHAAQAAKHDAEHHAPKPH'"
   ]
  },
  {
   "cell_type": "code",
   "execution_count": null,
   "id": "460ccb91-46c4-4ac2-b8d3-d6f4d8df0ab6",
   "metadata": {},
   "outputs": [],
   "source": [
    "fold_sampler = EigenFoldForFoldSampling(random_seed=0)"
   ]
  },
  {
   "cell_type": "code",
   "execution_count": null,
   "id": "a62ff33f-b89d-42c8-bfab-1965447f6c71",
   "metadata": {},
   "outputs": [],
   "source": [
    "structure, _ = fold_sampler(sequence, config.InferenceConfig())"
   ]
  },
  {
   "cell_type": "code",
   "execution_count": null,
   "id": "79d92564-812f-4da1-9984-f2d8e8a135ca",
   "metadata": {},
   "outputs": [],
   "source": [
    "structure.show()"
   ]
  },
  {
   "cell_type": "code",
   "execution_count": null,
   "id": "5311e938-9053-4685-8257-5aa24eaaa349",
   "metadata": {},
   "outputs": [],
   "source": []
  }
 ],
 "metadata": {
  "kernelspec": {
   "display_name": "Python 3 (ipykernel)",
   "language": "python",
   "name": "python3"
  },
  "language_info": {
   "codemirror_mode": {
    "name": "ipython",
    "version": 3
   },
   "file_extension": ".py",
   "mimetype": "text/x-python",
   "name": "python",
   "nbconvert_exporter": "python",
   "pygments_lexer": "ipython3",
   "version": "3.10.11"
  }
 },
 "nbformat": 4,
 "nbformat_minor": 5
}
