{
 "cells": [
  {
   "cell_type": "markdown",
   "id": "5f8dfd5e-0f88-46cf-86ed-6c1d3d4ed08c",
   "metadata": {},
   "source": [
    "# ESM Folding"
   ]
  },
  {
   "cell_type": "code",
   "execution_count": null,
   "id": "4d440818-a7b5-473c-bf4f-2ed384db41a6",
   "metadata": {},
   "outputs": [],
   "source": [
    "%load_ext autoreload\n",
    "%autoreload 2"
   ]
  },
  {
   "cell_type": "code",
   "execution_count": null,
   "id": "b6a78b53-52e4-48a1-a527-dc48f8285c60",
   "metadata": {},
   "outputs": [],
   "source": [
    "from proteome import protein\n",
    "from proteome.models.esm import config\n",
    "from proteome.models.esm.modeling import ESMForFolding"
   ]
  },
  {
   "cell_type": "code",
   "execution_count": null,
   "id": "6a8e8581-2c85-4d71-834a-8609028507ea",
   "metadata": {},
   "outputs": [],
   "source": [
    "sequence = 'MAAHKGAEHHHKAAEHHEQAAKHHHAAAEHHEKGEHEQAAHHADTAYAHHKHAEEHAAQAAKHDAEHHAPKPH'"
   ]
  },
  {
   "cell_type": "code",
   "execution_count": null,
   "id": "f1a3415d-64bd-401a-a3e9-74177e036038",
   "metadata": {},
   "outputs": [],
   "source": [
    "folder = ESMForFolding(chunk_size=512)\n",
    "predicted_protein, aux_output = folder(sequence)"
   ]
  },
  {
   "cell_type": "code",
   "execution_count": null,
   "id": "34149d39-1b4d-4bf6-991f-417b14ff3c8f",
   "metadata": {},
   "outputs": [],
   "source": [
    "predicted_protein.show()"
   ]
  },
  {
   "cell_type": "code",
   "execution_count": null,
   "id": "f7b03f4d-4d5d-42b5-8456-c0da7074aedd",
   "metadata": {},
   "outputs": [],
   "source": []
  }
 ],
 "metadata": {
  "kernelspec": {
   "display_name": "Python 3 (ipykernel)",
   "language": "python",
   "name": "python3"
  },
  "language_info": {
   "codemirror_mode": {
    "name": "ipython",
    "version": 3
   },
   "file_extension": ".py",
   "mimetype": "text/x-python",
   "name": "python",
   "nbconvert_exporter": "python",
   "pygments_lexer": "ipython3",
   "version": "3.10.11"
  }
 },
 "nbformat": 4,
 "nbformat_minor": 5
}
