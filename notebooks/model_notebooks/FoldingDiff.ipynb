{
 "cells": [
  {
   "cell_type": "markdown",
   "id": "d1db5464-7c5f-460e-b515-00585c3045f0",
   "metadata": {},
   "source": [
    "# FoldingDiff"
   ]
  },
  {
   "cell_type": "code",
   "execution_count": null,
   "id": "2018f5c1-158e-4ab2-a3a8-6cd667b4c03e",
   "metadata": {},
   "outputs": [],
   "source": [
    "%load_ext autoreload\n",
    "%autoreload 2"
   ]
  },
  {
   "cell_type": "code",
   "execution_count": null,
   "id": "1d71b335-c9b1-4763-b6f1-a1506c7d7be4",
   "metadata": {},
   "outputs": [],
   "source": [
    "from proteome import protein\n",
    "from proteome.models.foldingdiff import config\n",
    "from proteome.models.foldingdiff.modeling import FoldingDiffForStructureDesign"
   ]
  },
  {
   "cell_type": "code",
   "execution_count": null,
   "id": "f15e4af9-1d56-4c2e-8443-7a6d0f53b8b8",
   "metadata": {},
   "outputs": [],
   "source": [
    "structure_designer = FoldingDiffForStructureDesign(random_seed=0)"
   ]
  },
  {
   "cell_type": "code",
   "execution_count": null,
   "id": "de81a553-de40-456b-98d9-0ab2a85e428f",
   "metadata": {},
   "outputs": [],
   "source": [
    "structure, aux_output = structure_designer()"
   ]
  },
  {
   "cell_type": "code",
   "execution_count": null,
   "id": "d5dd1cf1-08fd-4069-a2bd-078777e81942",
   "metadata": {},
   "outputs": [],
   "source": [
    "structure.show()"
   ]
  },
  {
   "cell_type": "code",
   "execution_count": null,
   "id": "37982bfd-86d9-4bdb-a8d6-3eb210cf4c7e",
   "metadata": {},
   "outputs": [],
   "source": []
  }
 ],
 "metadata": {
  "kernelspec": {
   "display_name": "Python 3 (ipykernel)",
   "language": "python",
   "name": "python3"
  },
  "language_info": {
   "codemirror_mode": {
    "name": "ipython",
    "version": 3
   },
   "file_extension": ".py",
   "mimetype": "text/x-python",
   "name": "python",
   "nbconvert_exporter": "python",
   "pygments_lexer": "ipython3",
   "version": "3.10.11"
  }
 },
 "nbformat": 4,
 "nbformat_minor": 5
}
