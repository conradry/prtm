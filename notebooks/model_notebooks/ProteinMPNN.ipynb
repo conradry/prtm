{
 "cells": [
  {
   "cell_type": "code",
   "execution_count": null,
   "id": "08b473c0-46a8-484d-afb0-3aaaa11248f4",
   "metadata": {},
   "outputs": [],
   "source": [
    "%load_ext autoreload\n",
    "%autoreload 2"
   ]
  },
  {
   "cell_type": "code",
   "execution_count": null,
   "id": "7bc951f0-f667-4572-8fcd-be83f7eeeff3",
   "metadata": {},
   "outputs": [],
   "source": [
    "import py3Dmol\n",
    "\n",
    "from proteome import protein\n",
    "from proteome.models.proteinmpnn import config\n",
    "from proteome.models.proteinmpnn.modeling import ProteinMPNNForSequenceDesign, PROTEINMPNN_MODEL_URLS\n",
    "from proteome.models.omegafold.modeling import OmegaFoldForFolding"
   ]
  },
  {
   "cell_type": "code",
   "execution_count": null,
   "id": "1aa66550-7719-4f72-ad1e-d346243dc683",
   "metadata": {},
   "outputs": [],
   "source": [
    "designer = ProteinMPNNForSequenceDesign(\"vanilla_model-20\", random_seed=0)\n",
    "folder = OmegaFoldForFolding()"
   ]
  },
  {
   "cell_type": "code",
   "execution_count": null,
   "id": "e3af813a-4621-4674-8768-4d45e0cbb9d5",
   "metadata": {},
   "outputs": [],
   "source": [
    "with open(\"5L33.pdb\", mode=\"r\") as f:\n",
    "    gt_pdb = f.read()"
   ]
  },
  {
   "cell_type": "code",
   "execution_count": null,
   "id": "17bfde0e-a8b4-412c-a794-a25cbd8547b3",
   "metadata": {},
   "outputs": [],
   "source": [
    "target_protein = protein.from_pdb_string(\n",
    "    gt_pdb, ca_only=designer.ca_only, backbone_only=(not designer.ca_only)\n",
    ")"
   ]
  },
  {
   "cell_type": "code",
   "execution_count": null,
   "id": "a5e66a4d-d726-4ae0-a79b-1d71d75b4f3e",
   "metadata": {},
   "outputs": [],
   "source": [
    "sequence, score = designer.design_sequence(target_protein)\n",
    "print(f\"Sequence: {sequence} with global_score {score}\")"
   ]
  },
  {
   "cell_type": "code",
   "execution_count": null,
   "id": "ed21ceb0-b9ff-4525-935c-9ff2792d80b3",
   "metadata": {},
   "outputs": [],
   "source": [
    "predicted_protein, confidence = folder.fold(sequence)\n",
    "result_pdb = protein.to_pdb(predicted_protein)"
   ]
  },
  {
   "cell_type": "code",
   "execution_count": null,
   "id": "cb1c5cf6-1451-461a-9008-d496a5d3a398",
   "metadata": {},
   "outputs": [],
   "source": [
    "PLDDT_BANDS = [\n",
    "  (0, 50, '#FF7D45'),\n",
    "  (50, 70, '#FFDB13'),\n",
    "  (70, 90, '#65CBF3'),\n",
    "  (90, 100, '#0053D6')\n",
    "]\n",
    "view = py3Dmol.view(width=800, height=600)\n",
    "view.addModelsAsFrames(result_pdb)\n",
    "\n",
    "color_map = {i: bands[2] for i, bands in enumerate(PLDDT_BANDS)}\n",
    "style = {'cartoon': {'colorscheme': {'prop': 'b', 'map': color_map}}}\n",
    "\n",
    "style['stick'] = {}\n",
    "\n",
    "view.setStyle({'model': -1}, style)\n",
    "view.zoomTo()"
   ]
  },
  {
   "cell_type": "code",
   "execution_count": null,
   "id": "571b4aab-59a8-419e-86d7-d0d0fc2df933",
   "metadata": {},
   "outputs": [],
   "source": []
  }
 ],
 "metadata": {
  "kernelspec": {
   "display_name": "Python 3 (ipykernel)",
   "language": "python",
   "name": "python3"
  },
  "language_info": {
   "codemirror_mode": {
    "name": "ipython",
    "version": 3
   },
   "file_extension": ".py",
   "mimetype": "text/x-python",
   "name": "python",
   "nbconvert_exporter": "python",
   "pygments_lexer": "ipython3",
   "version": "3.10.11"
  }
 },
 "nbformat": 4,
 "nbformat_minor": 5
}
