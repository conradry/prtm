{
 "cells": [
  {
   "cell_type": "markdown",
   "id": "49332161-3071-4449-af02-d113d88aa152",
   "metadata": {},
   "source": [
    "# ProteinMPNN"
   ]
  },
  {
   "cell_type": "code",
   "execution_count": null,
   "id": "08b473c0-46a8-484d-afb0-3aaaa11248f4",
   "metadata": {},
   "outputs": [],
   "source": [
    "%load_ext autoreload\n",
    "%autoreload 2"
   ]
  },
  {
   "cell_type": "code",
   "execution_count": null,
   "id": "7bc951f0-f667-4572-8fcd-be83f7eeeff3",
   "metadata": {},
   "outputs": [],
   "source": [
    "from proteome import protein\n",
    "from proteome.models.proteinmpnn import config\n",
    "from proteome.models.proteinmpnn.modeling import ProteinMPNNForInverseFolding"
   ]
  },
  {
   "cell_type": "code",
   "execution_count": null,
   "id": "1aa66550-7719-4f72-ad1e-d346243dc683",
   "metadata": {},
   "outputs": [],
   "source": [
    "inverse_folder = ProteinMPNNForInverseFolding(\"vanilla_model-20\", random_seed=0)"
   ]
  },
  {
   "cell_type": "code",
   "execution_count": null,
   "id": "e3af813a-4621-4674-8768-4d45e0cbb9d5",
   "metadata": {},
   "outputs": [],
   "source": [
    "with open(\"./data/5L33.pdb\", mode=\"r\") as f:\n",
    "    gt_pdb = f.read()"
   ]
  },
  {
   "cell_type": "code",
   "execution_count": null,
   "id": "17bfde0e-a8b4-412c-a794-a25cbd8547b3",
   "metadata": {},
   "outputs": [],
   "source": [
    "target_protein = protein.Protein37.from_pdb_string(gt_pdb)"
   ]
  },
  {
   "cell_type": "code",
   "execution_count": null,
   "id": "a5e66a4d-d726-4ae0-a79b-1d71d75b4f3e",
   "metadata": {},
   "outputs": [],
   "source": [
    "sequence, aux_output = inverse_folder(target_protein)"
   ]
  },
  {
   "cell_type": "code",
   "execution_count": null,
   "id": "23492173-3242-456e-874c-fd4f70c9dd79",
   "metadata": {},
   "outputs": [],
   "source": [
    "print(f\"Sequence: {sequence} with global_score {aux_output['global_score']}\")"
   ]
  },
  {
   "cell_type": "code",
   "execution_count": null,
   "id": "571b4aab-59a8-419e-86d7-d0d0fc2df933",
   "metadata": {},
   "outputs": [],
   "source": []
  }
 ],
 "metadata": {
  "kernelspec": {
   "display_name": "Python 3 (ipykernel)",
   "language": "python",
   "name": "python3"
  },
  "language_info": {
   "codemirror_mode": {
    "name": "ipython",
    "version": 3
   },
   "file_extension": ".py",
   "mimetype": "text/x-python",
   "name": "python",
   "nbconvert_exporter": "python",
   "pygments_lexer": "ipython3",
   "version": "3.10.11"
  }
 },
 "nbformat": 4,
 "nbformat_minor": 5
}
