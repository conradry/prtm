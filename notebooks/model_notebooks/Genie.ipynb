{
 "cells": [
  {
   "cell_type": "markdown",
   "id": "0f42c1c7-ccf8-43dd-b63d-709140598da3",
   "metadata": {},
   "source": [
    "# Genie"
   ]
  },
  {
   "cell_type": "code",
   "execution_count": null,
   "id": "7cfeb2c6-e4c7-4772-9aed-29d42414b499",
   "metadata": {},
   "outputs": [],
   "source": [
    "%load_ext autoreload\n",
    "%autoreload 2"
   ]
  },
  {
   "cell_type": "code",
   "execution_count": null,
   "id": "66b2f60d-a5c9-40ee-99c1-f1d0121f65c0",
   "metadata": {},
   "outputs": [],
   "source": [
    "from proteome import protein\n",
    "from proteome.models.genie import config\n",
    "from proteome.models.genie.modeling import GenieForStructureDesign"
   ]
  },
  {
   "cell_type": "code",
   "execution_count": null,
   "id": "c689c597-192c-4178-986b-778e1359b7a6",
   "metadata": {},
   "outputs": [],
   "source": [
    "structure_designer = GenieForStructureDesign(model_name=\"genie_l_256\", random_seed=0)"
   ]
  },
  {
   "cell_type": "code",
   "execution_count": null,
   "id": "b9202763-4086-47ad-b815-b929c295e09b",
   "metadata": {},
   "outputs": [],
   "source": [
    "structure, aux_output = structure_designer(config.InferenceConfig(seq_len=100))"
   ]
  },
  {
   "cell_type": "code",
   "execution_count": null,
   "id": "2100d9db-33e4-48f0-9732-c6b2b8b9e624",
   "metadata": {},
   "outputs": [],
   "source": [
    "structure.show()"
   ]
  },
  {
   "cell_type": "code",
   "execution_count": null,
   "id": "b14cede6-d80b-4416-a3d5-deea748c49c8",
   "metadata": {},
   "outputs": [],
   "source": []
  }
 ],
 "metadata": {
  "kernelspec": {
   "display_name": "Python 3 (ipykernel)",
   "language": "python",
   "name": "python3"
  },
  "language_info": {
   "codemirror_mode": {
    "name": "ipython",
    "version": 3
   },
   "file_extension": ".py",
   "mimetype": "text/x-python",
   "name": "python",
   "nbconvert_exporter": "python",
   "pygments_lexer": "ipython3",
   "version": "3.10.11"
  }
 },
 "nbformat": 4,
 "nbformat_minor": 5
}
