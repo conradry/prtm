{
 "cells": [
  {
   "cell_type": "code",
   "execution_count": null,
   "id": "063c2c73-f4a8-455b-a971-7a9862c5dab5",
   "metadata": {},
   "outputs": [],
   "source": [
    "%load_ext autoreload\n",
    "%autoreload 2"
   ]
  },
  {
   "cell_type": "code",
   "execution_count": null,
   "id": "055d73f5-4dd3-42aa-aa83-9391df005080",
   "metadata": {},
   "outputs": [],
   "source": [
    "import py3Dmol\n",
    "\n",
    "from proteome import protein\n",
    "from proteome.models.protein_seq_des import config\n",
    "from proteome.models.protein_seq_des.modeling import ProteinSeqDesForSequenceDesign, PSD_MODEL_CONFIGS\n",
    "from proteome.models.omegafold.modeling import OmegaFoldForFolding"
   ]
  },
  {
   "cell_type": "code",
   "execution_count": null,
   "id": "dfc766ba-fbc4-4811-8a80-3e14af1696dd",
   "metadata": {},
   "outputs": [],
   "source": [
    "designer = ProteinSeqDesForSequenceDesign(\"conditional_model_0\", random_seed=0)\n",
    "folder = OmegaFoldForFolding()"
   ]
  },
  {
   "cell_type": "code",
   "execution_count": null,
   "id": "db478c90-a1ad-4be0-86c0-f2e332074c26",
   "metadata": {},
   "outputs": [],
   "source": [
    "with open(\"5L33.pdb\", mode=\"r\") as f:\n",
    "    gt_pdb = f.read()"
   ]
  },
  {
   "cell_type": "code",
   "execution_count": null,
   "id": "37cc066e-eb28-4159-bb49-0b8204ae59dd",
   "metadata": {},
   "outputs": [],
   "source": [
    "target_protein = protein.from_pdb_string(gt_pdb)"
   ]
  },
  {
   "cell_type": "code",
   "execution_count": null,
   "id": "de6b5813-54ab-4e3c-b46e-a15a77b6ce48",
   "metadata": {},
   "outputs": [],
   "source": [
    "sequence, energy = designer.design_sequence(\n",
    "    target_protein, \n",
    "    inference_config=config.InferenceConfig(sampler_config=config.SamplerConfig(is_tim=False)),\n",
    ")\n",
    "print(f\"Sequence: {sequence} with energy {energy:.3f}\")"
   ]
  },
  {
   "cell_type": "code",
   "execution_count": null,
   "id": "baaea563-5a0f-4843-936a-a569aeb7456f",
   "metadata": {},
   "outputs": [],
   "source": [
    "predicted_protein, confidence = folder.fold(sequence)\n",
    "result_pdb = protein.to_pdb(predicted_protein)"
   ]
  },
  {
   "cell_type": "code",
   "execution_count": null,
   "id": "a3f1a37f-8204-44e0-99bf-79ecfb629b20",
   "metadata": {},
   "outputs": [],
   "source": [
    "PLDDT_BANDS = [\n",
    "  (0, 50, '#FF7D45'),\n",
    "  (50, 70, '#FFDB13'),\n",
    "  (70, 90, '#65CBF3'),\n",
    "  (90, 100, '#0053D6')\n",
    "]\n",
    "view = py3Dmol.view(width=800, height=600)\n",
    "view.addModelsAsFrames(result_pdb)\n",
    "\n",
    "color_map = {i: bands[2] for i, bands in enumerate(PLDDT_BANDS)}\n",
    "style = {'cartoon': {'colorscheme': {'prop': 'b', 'map': color_map}}}\n",
    "\n",
    "style['stick'] = {}\n",
    "\n",
    "view.setStyle({'model': -1}, style)\n",
    "view.zoomTo()"
   ]
  },
  {
   "cell_type": "code",
   "execution_count": null,
   "id": "6fd575b8-acad-4aa6-83e4-fb74774db753",
   "metadata": {},
   "outputs": [],
   "source": []
  }
 ],
 "metadata": {
  "kernelspec": {
   "display_name": "Python 3 (ipykernel)",
   "language": "python",
   "name": "python3"
  },
  "language_info": {
   "codemirror_mode": {
    "name": "ipython",
    "version": 3
   },
   "file_extension": ".py",
   "mimetype": "text/x-python",
   "name": "python",
   "nbconvert_exporter": "python",
   "pygments_lexer": "ipython3",
   "version": "3.10.11"
  }
 },
 "nbformat": 4,
 "nbformat_minor": 5
}
