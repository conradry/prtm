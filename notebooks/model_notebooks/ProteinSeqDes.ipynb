{
 "cells": [
  {
   "cell_type": "markdown",
   "id": "8d80a0ba-d4f6-4ee6-b8fc-a167d20478e7",
   "metadata": {},
   "source": [
    "# ProteinSeqDes"
   ]
  },
  {
   "cell_type": "code",
   "execution_count": null,
   "id": "063c2c73-f4a8-455b-a971-7a9862c5dab5",
   "metadata": {},
   "outputs": [],
   "source": [
    "%load_ext autoreload\n",
    "%autoreload 2"
   ]
  },
  {
   "cell_type": "code",
   "execution_count": null,
   "id": "055d73f5-4dd3-42aa-aa83-9391df005080",
   "metadata": {},
   "outputs": [],
   "source": [
    "from prtm import protein\n",
    "from prtm.models.protein_seq_des import config\n",
    "from prtm.models.protein_seq_des.modeling import ProteinSeqDesForInverseFolding"
   ]
  },
  {
   "cell_type": "code",
   "execution_count": null,
   "id": "dfc766ba-fbc4-4811-8a80-3e14af1696dd",
   "metadata": {},
   "outputs": [],
   "source": [
    "inverse_folder = ProteinSeqDesForInverseFolding(\"conditional_model_0\", random_seed=0)"
   ]
  },
  {
   "cell_type": "code",
   "execution_count": null,
   "id": "db478c90-a1ad-4be0-86c0-f2e332074c26",
   "metadata": {},
   "outputs": [],
   "source": [
    "with open(\"./data/5L33.pdb\", mode=\"r\") as f:\n",
    "    gt_pdb = f.read()"
   ]
  },
  {
   "cell_type": "code",
   "execution_count": null,
   "id": "37cc066e-eb28-4159-bb49-0b8204ae59dd",
   "metadata": {},
   "outputs": [],
   "source": [
    "target_protein = protein.Protein37.from_pdb_string(gt_pdb)"
   ]
  },
  {
   "cell_type": "code",
   "execution_count": null,
   "id": "de6b5813-54ab-4e3c-b46e-a15a77b6ce48",
   "metadata": {},
   "outputs": [],
   "source": [
    "sequence, aux_output = inverse_folder(\n",
    "    target_protein, \n",
    "    inference_config=config.InferenceConfig(sampler_config=config.SamplerConfig(is_tim=False)),\n",
    ")"
   ]
  },
  {
   "cell_type": "code",
   "execution_count": null,
   "id": "577b0a3c-66da-4dc8-b029-c3a18bbdea7d",
   "metadata": {},
   "outputs": [],
   "source": [
    "print(f\"Sequence: {sequence} with energy {aux_output['best_energy']:.3f}\")"
   ]
  },
  {
   "cell_type": "code",
   "execution_count": null,
   "id": "9b3b673c-8d3c-476b-bfc5-38303ceef02f",
   "metadata": {},
   "outputs": [],
   "source": []
  }
 ],
 "metadata": {
  "kernelspec": {
   "display_name": "Python 3 (ipykernel)",
   "language": "python",
   "name": "python3"
  },
  "language_info": {
   "codemirror_mode": {
    "name": "ipython",
    "version": 3
   },
   "file_extension": ".py",
   "mimetype": "text/x-python",
   "name": "python",
   "nbconvert_exporter": "python",
   "pygments_lexer": "ipython3",
   "version": "3.10.11"
  }
 },
 "nbformat": 4,
 "nbformat_minor": 5
}
