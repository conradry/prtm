{
 "cells": [
  {
   "cell_type": "markdown",
   "metadata": {
    "id": "jMGcXXPabEN4"
   },
   "source": [
    "# Uni-Fold Notebook\n",
    "\n",
    "This notebook provides protein structure prediction service of [Uni-Fold](https://github.com/dptech-corp/Uni-Fold/) as well as [UF-Symmetry](https://www.biorxiv.org/content/10.1101/2022.08.30.505833v1). Predictions of both protein monomers and multimers are supported. The homology search process in this notebook is enabled with the [MMSeqs2](https://github.com/soedinglab/MMseqs2.git) server provided by [ColabFold](https://github.com/sokrypton/ColabFold). For more consistent results with the original AlphaFold(-Multimer), please refer to the open-source repository of [Uni-Fold](https://github.com/dptech-corp/Uni-Fold/), or our convenient web server at [Hermite™](https://hermite.dp.tech/).\n",
    "\n",
    "Please note that this notebook is provided as an early-access prototype, and is NOT an official product of DP Technology. It is provided for theoretical modeling only and caution should be exercised in its use. \n",
    "\n",
    "**Licenses**\n",
    "\n",
    "This Colab uses the [Uni-Fold model parameters](https://github.com/dptech-corp/Uni-Fold/#model-parameters-license) and its outputs are under the terms of the Creative Commons Attribution 4.0 International (CC BY 4.0) license. You can find details at: https://creativecommons.org/licenses/by/4.0/legalcode. The Colab itself is provided under the [Apache 2.0 license](https://www.apache.org/licenses/LICENSE-2.0).\n",
    "\n",
    "\n",
    "**Citations**\n",
    "\n",
    "Please cite the following papers if you use this notebook:\n",
    "\n",
    "*   Ziyao Li, Xuyang Liu, Weijie Chen, Fan Shen, Hangrui Bi, Guolin Ke, Linfeng Zhang. \"[Uni-Fold: An Open-Source Platform for Developing Protein Folding Models beyond AlphaFold.](https://www.biorxiv.org/content/10.1101/2022.08.04.502811v1)\" biorxiv (2022)\n",
    "*   Ziyao Li, Shuwen Yang, Xuyang Liu, Weijie Chen, Han Wen, Fan Shen, Guolin Ke, Linfeng Zhang. \"[Uni-Fold Symmetry: Harnessing Symmetry in Folding Large Protein Complexes.](https://www.biorxiv.org/content/10.1101/2022.08.30.505833v1)\" bioRxiv (2022)\n",
    "*   Mirdita M, Schütze K, Moriwaki Y, Heo L, Ovchinnikov S and Steinegger M. \"[ColabFold: Making protein folding accessible to all.](https://www.nature.com/articles/s41592-022-01488-1)\" Nature Methods (2022)\n",
    "\n",
    "**Acknowledgements**\n",
    "\n",
    "The model architecture of Uni-Fold is largely based on [AlphaFold](https://doi.org/10.1038/s41586-021-03819-2) and [AlphaFold-Multimer](https://www.biorxiv.org/content/10.1101/2021.10.04.463034v1). The design of this notebook refers directly to [ColabFold](https://www.nature.com/articles/s41592-022-01488-1). We specially thank [@sokrypton](https://twitter.com/sokrypton) for his helpful suggestions to this notebook.\n",
    "\n",
    "Copyright © 2022 DP Technology. All rights reserved."
   ]
  },
  {
   "cell_type": "code",
   "execution_count": 1,
   "metadata": {},
   "outputs": [],
   "source": [
    "%load_ext autoreload\n",
    "%autoreload 2"
   ]
  },
  {
   "cell_type": "code",
   "execution_count": 2,
   "metadata": {},
   "outputs": [],
   "source": [
    "#!wget https://github.com/dptech-corp/Uni-Fold/releases/download/v2.0.0/unifold_params_2022-08-01.tar.gz\n",
    "#!tar -xzf unifold_params_2022-08-01.tar.gz"
   ]
  },
  {
   "cell_type": "code",
   "execution_count": 3,
   "metadata": {},
   "outputs": [],
   "source": [
    "#!wget https://github.com/dptech-corp/Uni-Fold/releases/download/v2.2.0/uf_symmetry_params_2022-09-06.tar.gz\n",
    "#!tar -xzf uf_symmetry_params_2022-09-06.tar.gz"
   ]
  },
  {
   "cell_type": "code",
   "execution_count": 4,
   "metadata": {},
   "outputs": [],
   "source": [
    "#@title Provide the arguments here and hit `Run` -> `Run All Cells`\n",
    "jobname = 'unifold_colab' #@param {type:\"string\"}\n",
    "\n",
    "sequence_1 = 'LILNLRGGAFVSNTQITMADKQKKFINEIQEGDLVRSYSITDETFQQNAVTSIVKHEADQLCQINFGKQHVVCTVNHRFYDPESKLWKSVCPHPGSGISFLKKYDYLLSEEGEKLQITEIKTFTTKQPVFIYHIQVENNHNFFANGVLAHAMQVSI'  #@param {type:\"string\"}\n",
    "sequence_2 = ''  #@param {type:\"string\"}\n",
    "sequence_3 = ''  #@param {type:\"string\"}\n",
    "sequence_4 = ''  #@param {type:\"string\"}\n",
    "\n",
    "#@markdown Use symmetry group `C1` for default Uni-Fold predictions.\n",
    "#@markdown Or, specify a **cyclic** symmetry group (e.g. `C4``) and\n",
    "#@markdown the sequences of the asymmetric unit (i.e. **do not copy\n",
    "#@markdown them multiple times**) to predict with UF-Symmetry.\n",
    "\n",
    "symmetry_group = 'C1' #@param {type:\"string\"}\n",
    "\n",
    "#@markdown Parameters for MSA searching with MMseqs2.\n",
    "\n",
    "use_templates = True #@param {type:\"boolean\"}\n",
    "msa_mode = \"MMseqs2\" #@param [\"MMseqs2\",\"single_sequence\"]\n",
    "\n",
    "#@markdown Parameters for model inference.\n",
    "\n",
    "max_recycling_iters = 3 #@param {type:\"integer\"}\n",
    "num_ensembles = 2 #@param {type:\"integer\"}\n",
    "manual_seed = 42 #@param {type:\"integer\"}\n",
    "times = 1 #@param {type:\"integer\"}\n",
    "\n",
    "#@markdown Plotting parameters.\n",
    "\n",
    "show_sidechains = False #@param {type:\"boolean\"}\n",
    "dpi = 100 #@param {type:\"integer\"}\n"
   ]
  },
  {
   "cell_type": "code",
   "execution_count": 5,
   "metadata": {},
   "outputs": [
    {
     "data": {
      "application/vnd.jupyter.widget-view+json": {
       "model_id": "9fffe36713cf4adc89f777b5d2404696",
       "version_major": 2,
       "version_minor": 0
      },
      "text/plain": []
     },
     "metadata": {},
     "output_type": "display_data"
    },
    {
     "name": "stderr",
     "output_type": "stream",
     "text": [
      "/home/ubuntu/micromamba/envs/prtm/lib/python3.10/site-packages/Bio/Data/SCOPData.py:18: BiopythonDeprecationWarning: The 'Bio.Data.SCOPData' module will be deprecated in a future release of Biopython in favor of 'Bio.Data.PDBData.\n",
      "  warnings.warn(\n"
     ]
    },
    {
     "name": "stdout",
     "output_type": "stream",
     "text": [
      "[2024-01-26 04:36:32,091] [INFO] [real_accelerator.py:158:get_accelerator] Setting ds_accelerator to cuda (auto detect)\n",
      "PyRosetta-4 2023 [Rosetta PyRosetta4.conda.linux.cxx11thread.serialization.CentOS.python310.Release 2023.47+release.5fe66cd241adb376f3a0af661ea0dcd77ea0dbbe 2023-11-21T10:47:25] retrieved from: http://www.pyrosetta.org\n",
      "(C) Copyright Rosetta Commons Member Institutions. Created in JHU by Sergey Lyskov and PyRosetta Team.\n"
     ]
    }
   ],
   "source": [
    "import os\n",
    "import re\n",
    "import random\n",
    "import hashlib\n",
    "import numpy as np\n",
    "from pathlib import Path\n",
    "from prtm.models.unifold.input_validation import validate_input\n",
    "from prtm.models.unifold.msa.utils import divide_multi_chains\n",
    "\n",
    "import pickle\n",
    "import gzip\n",
    "from prtm.models.unifold.msa import parsers\n",
    "from prtm.models.unifold.msa import pipeline\n",
    "from prtm.models.unifold.data.utils import compress_features\n",
    "from prtm.models.unifold.data.protein import PDB_CHAIN_IDS\n",
    "from prtm.models.unifold.mmseqs import get_msa_and_templates"
   ]
  },
  {
   "cell_type": "code",
   "execution_count": 6,
   "metadata": {},
   "outputs": [],
   "source": [
    "MIN_SINGLE_SEQUENCE_LENGTH = 6\n",
    "MAX_SINGLE_SEQUENCE_LENGTH = 3000\n",
    "MAX_MULTIMER_LENGTH = 3000\n",
    "\n",
    "input_sequences = [sequence_1, sequence_2, sequence_3, sequence_4]"
   ]
  },
  {
   "cell_type": "code",
   "execution_count": 8,
   "metadata": {},
   "outputs": [
    {
     "name": "stdout",
     "output_type": "stream",
     "text": [
      "Using the single-chain model.\n"
     ]
    }
   ],
   "source": [
    "sequences, is_multimer, symmetry_group = validate_input(\n",
    "    input_sequences=input_sequences,\n",
    "    symmetry_group=symmetry_group,\n",
    "    min_length=MIN_SINGLE_SEQUENCE_LENGTH,\n",
    "    max_length=MAX_SINGLE_SEQUENCE_LENGTH,\n",
    "    max_multimer_length=MAX_MULTIMER_LENGTH,\n",
    ")"
   ]
  },
  {
   "cell_type": "code",
   "execution_count": 12,
   "metadata": {},
   "outputs": [],
   "source": [
    "def add_hash(x,y):\n",
    "    return x+\"_\"+hashlib.sha1(y.encode()).hexdigest()[:5]\n",
    "\n",
    "basejobname = \"\".join(input_sequences)\n",
    "basejobname = re.sub(r'\\W+', '', basejobname)\n",
    "target_id = add_hash(jobname, basejobname)\n",
    "descriptions = ['> '+target_id+' seq'+str(ii) for ii in range(len(sequences))]"
   ]
  },
  {
   "cell_type": "code",
   "execution_count": 9,
   "metadata": {},
   "outputs": [],
   "source": [
    "if is_multimer:\n",
    "    divide_multi_chains(target_id, output_dir_base, sequences, descriptions)"
   ]
  },
  {
   "cell_type": "code",
   "execution_count": 17,
   "metadata": {},
   "outputs": [],
   "source": [
    "s = []\n",
    "for des, seq in zip(descriptions, sequences):\n",
    "    s += [des, seq]"
   ]
  },
  {
   "cell_type": "code",
   "execution_count": 27,
   "metadata": {},
   "outputs": [],
   "source": [
    "unique_sequences = list(set(sequences))"
   ]
  },
  {
   "cell_type": "code",
   "execution_count": 28,
   "metadata": {},
   "outputs": [],
   "source": [
    "if len(unique_sequences)==1:\n",
    "    homooligomers_num = len(sequences)\n",
    "else:\n",
    "    homooligomers_num = 1"
   ]
  },
  {
   "cell_type": "code",
   "execution_count": 29,
   "metadata": {},
   "outputs": [],
   "source": [
    "with open(f\"{jobname}.fasta\", \"w\") as f:\n",
    "    f.write(\"\\n\".join(s))"
   ]
  },
  {
   "cell_type": "code",
   "execution_count": 30,
   "metadata": {},
   "outputs": [
    {
     "name": "stderr",
     "output_type": "stream",
     "text": [
      "WARNING:absl:The exact sequence CLAEGTRIFDPVTGTTHRIEDVVDGRKPIHVVAAAKDGTLHARPVVSWFDQGTRDVIGLRIAGGAILWATPDHKVLTEYGWRAAGELRKGDRVAQPRRFDGFMLAEELRYSVIREVLPTRRARTFDLEVEELHTLVAEGVVVH was not found in 2imz_A. Realigning the template to the actual sequence.\n",
      "WARNING:absl:The exact sequence CLAEGTRIFDPVTGTTHRIEDVVDGRKPIHVVAAAKDGTLHARPVVSWFDQGTRDVIGLRIAGGAILWATPDHKVLTEYGWRAAGELRKGDRVAQPRRFDGFEELRYSVIREVLPTRRARTFDLEVEELHTLVAEGVVVH was not found in 2imz_B. Realigning the template to the actual sequence.\n"
     ]
    },
    {
     "name": "stdout",
     "output_type": "stream",
     "text": [
      "Sequence 0 found templates: ['2lwy_A', '2imz_A', '3ifj_B', '4o1r_A', '2l8l_A', '2imz_B', '2in9_A', '6rpq_A', '4e2u_A', '2in8_A', '3igd_A', '7cfv_A', '1mi8_A', '6rpp_A', '6frg_A', '6frh_A', '6frh_B', '6qaz_A', '6riz_A']\n"
     ]
    }
   ],
   "source": [
    "os.makedirs(\"./unifold_results\", exist_ok=True)\n",
    "result_dir = Path(\"./unifold_results\")\n",
    "output_dir = os.path.join(\"./unifold_results\", target_id)\n",
    "\n",
    "(\n",
    "  unpaired_msa,\n",
    "  paired_msa,\n",
    "  template_results,\n",
    ") = get_msa_and_templates(\n",
    "    target_id,\n",
    "    unique_sequences,\n",
    "    result_dir=result_dir,\n",
    "    msa_mode=msa_mode,\n",
    "    use_templates=use_templates,\n",
    "    homooligomers_num = homooligomers_num\n",
    ")"
   ]
  },
  {
   "cell_type": "code",
   "execution_count": 31,
   "metadata": {},
   "outputs": [],
   "source": [
    "idx, seq = 0, unique_sequences[0]"
   ]
  },
  {
   "cell_type": "code",
   "execution_count": 36,
   "metadata": {},
   "outputs": [],
   "source": [
    "chain_id = PDB_CHAIN_IDS[idx]\n",
    "sequence_features = pipeline.make_sequence_features(\n",
    "    sequence=seq, description=f'> {jobname} seq {chain_id}', num_res=len(seq)\n",
    ")\n",
    "monomer_msa = parsers.parse_a3m(unpaired_msa[idx])\n",
    "msa_features = pipeline.make_msa_features([monomer_msa])\n",
    "template_features = template_results[idx]\n",
    "feature_dict = {**sequence_features, **msa_features, **template_features}\n",
    "feature_dict = compress_features(feature_dict)"
   ]
  },
  {
   "cell_type": "code",
   "execution_count": 37,
   "metadata": {},
   "outputs": [],
   "source": [
    "if is_multimer:\n",
    "    multimer_msa = parsers.parse_a3m(paired_msa[idx])\n",
    "    pair_features = pipeline.make_msa_features([multimer_msa])\n",
    "    pair_feature_dict = compress_features(pair_features)"
   ]
  },
  {
   "cell_type": "code",
   "execution_count": 39,
   "metadata": {},
   "outputs": [],
   "source": [
    "#features_output_path = os.path.join(\n",
    "#    output_dir, \"{}.feature.pkl.gz\".format(chain_id)\n",
    "#)\n",
    "#pickle.dump(\n",
    "#    feature_dict, \n",
    "#    gzip.GzipFile(features_output_path, \"wb\"), \n",
    "#    protocol=4\n",
    "#)\n",
    "#if is_multimer:\n",
    "#    uniprot_output_path = os.path.join(\n",
    "#        output_dir, \"{}.uniprot.pkl.gz\".format(chain_id)\n",
    "#    )\n",
    "#    pickle.dump(\n",
    "#        pair_feature_dict,\n",
    "#        gzip.GzipFile(uniprot_output_path, \"wb\"),\n",
    "#        protocol=4,\n",
    "#    )"
   ]
  },
  {
   "cell_type": "code",
   "execution_count": null,
   "metadata": {
    "cellView": "form",
    "id": "RJUxaO7Ofw1L"
   },
   "outputs": [],
   "source": [
    "#@title Uni-Fold prediction on GPU.\n",
    "\n",
    "from unifold.colab.model import colab_inference\n",
    "\n",
    "best_result = colab_inference(\n",
    "    target_id=target_id,\n",
    "    data_dir=output_dir,\n",
    "    param_dir=\".\",\n",
    "    output_dir=output_dir,\n",
    "    symmetry_group=symmetry_group,\n",
    "    is_multimer=is_multimer,\n",
    "    max_recycling_iters=max_recycling_iters,\n",
    "    num_ensembles=num_ensembles,\n",
    "    times=times,\n",
    "    manual_seed=manual_seed,\n",
    "    device=\"cuda:0\",                # do not change this on colab.\n",
    ")\n"
   ]
  },
  {
   "cell_type": "code",
   "execution_count": null,
   "metadata": {
    "cellView": "form",
    "id": "kryWdmg0jZwT"
   },
   "outputs": [],
   "source": [
    "#@title Show the protein structure\n",
    "\n",
    "from unifold.colab.plot import colab_plot\n",
    "\n",
    "colab_plot(\n",
    "    best_result=best_result,\n",
    "    output_dir=output_dir,\n",
    "    show_sidechains=show_sidechains,\n",
    "    dpi=dpi,\n",
    ")\n"
   ]
  },
  {
   "cell_type": "code",
   "execution_count": null,
   "metadata": {
    "cellView": "form"
   },
   "outputs": [],
   "source": [
    "#@title Download the prediction\n",
    "#@markdown **The content of zip file**:\n",
    "#@markdown 1. PDB formatted structures\n",
    "#@markdown 2. Json file of the model quality (pLDDT and pTM for multimer)\n",
    "#@markdown 2. Plots of the best model quality (pLDDT and PAE for multimer)\n",
    "\n",
    "from google.colab import files\n",
    "import glob\n",
    "\n",
    "file_lists = glob.glob(os.path.join(output_dir, \"*.pdb\"))\n",
    "file_lists += glob.glob(os.path.join(output_dir, \"*.json\"))\n",
    "file_lists += glob.glob(os.path.join(output_dir, \"*.svg\"))\n",
    "\n",
    "!zip -q {target_id}.zip {\" \".join(file_lists)}\n",
    "files.download(f'{target_id}.zip')"
   ]
  }
 ],
 "metadata": {
  "accelerator": "GPU",
  "colab": {
   "collapsed_sections": [],
   "name": "unifold.ipynb",
   "provenance": []
  },
  "gpuClass": "standard",
  "kernelspec": {
   "display_name": "Python 3 (ipykernel)",
   "language": "python",
   "name": "python3"
  },
  "language_info": {
   "codemirror_mode": {
    "name": "ipython",
    "version": 3
   },
   "file_extension": ".py",
   "mimetype": "text/x-python",
   "name": "python",
   "nbconvert_exporter": "python",
   "pygments_lexer": "ipython3",
   "version": "3.10.13"
  },
  "vscode": {
   "interpreter": {
    "hash": "916dbcbb3f70747c44a77c7bcd40155683ae19c65e1c03b4aa3499c5328201f1"
   }
  }
 },
 "nbformat": 4,
 "nbformat_minor": 4
}
