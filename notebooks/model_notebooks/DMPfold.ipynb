{
 "cells": [
  {
   "cell_type": "markdown",
   "id": "7188c06e-b0c1-4f36-ba0b-7c00adef7787",
   "metadata": {},
   "source": [
    "# DMPfold"
   ]
  },
  {
   "cell_type": "code",
   "execution_count": null,
   "id": "d7686862-0fda-4b85-aece-80d3fbd22f28",
   "metadata": {},
   "outputs": [],
   "source": [
    "%load_ext autoreload\n",
    "%autoreload 2"
   ]
  },
  {
   "cell_type": "code",
   "execution_count": null,
   "id": "0cfc99fe-24cb-4d0e-b163-a0ac7e2aae2f",
   "metadata": {},
   "outputs": [],
   "source": [
    "from prtm import protein\n",
    "from prtm.query import caching\n",
    "from prtm.models.dmpfold2 import config\n",
    "from prtm.models.dmpfold2.modeling import DMPFoldForFolding"
   ]
  },
  {
   "cell_type": "code",
   "execution_count": null,
   "id": "b2151120-f498-4f9c-9c94-d06a4ccbf613",
   "metadata": {},
   "outputs": [],
   "source": [
    "caching.set_db_path(\"../cached_queries_for_testing.db\")"
   ]
  },
  {
   "cell_type": "code",
   "execution_count": null,
   "id": "34609afe-e6a3-4e75-b264-4752d0ed19aa",
   "metadata": {},
   "outputs": [],
   "source": [
    "sequence = 'MAAHKGAEHHHKAAEHHEQAAKHHHAAAEHHEKGEHEQAAHHADTAYAHHKHAEEHAAQAAKHDAEHHAPKPH'"
   ]
  },
  {
   "cell_type": "code",
   "execution_count": null,
   "id": "05cd5116-7836-4bb4-9e8e-80182c45152d",
   "metadata": {},
   "outputs": [],
   "source": [
    "folder = DMPFoldForFolding()"
   ]
  },
  {
   "cell_type": "code",
   "execution_count": null,
   "id": "3cc7c533-a129-47c0-ade6-1afc044bf16e",
   "metadata": {},
   "outputs": [],
   "source": [
    "predicted_protein, _ = folder(sequence)"
   ]
  },
  {
   "cell_type": "code",
   "execution_count": null,
   "id": "a0619bc4-1c0b-4ce3-abe5-9a5d614f1fd3",
   "metadata": {},
   "outputs": [],
   "source": [
    "predicted_protein.show()"
   ]
  },
  {
   "cell_type": "code",
   "execution_count": null,
   "id": "6aa6fbe4-bef0-4df1-ad0d-5fc769b8a2da",
   "metadata": {},
   "outputs": [],
   "source": []
  }
 ],
 "metadata": {
  "kernelspec": {
   "display_name": "Python 3 (ipykernel)",
   "language": "python",
   "name": "python3"
  },
  "language_info": {
   "codemirror_mode": {
    "name": "ipython",
    "version": 3
   },
   "file_extension": ".py",
   "mimetype": "text/x-python",
   "name": "python",
   "nbconvert_exporter": "python",
   "pygments_lexer": "ipython3",
   "version": "3.10.11"
  }
 },
 "nbformat": 4,
 "nbformat_minor": 5
}
