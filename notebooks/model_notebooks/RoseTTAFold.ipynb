{
 "cells": [
  {
   "cell_type": "markdown",
   "id": "c4ae5ee2-715d-4448-ae92-a150afb126bf",
   "metadata": {},
   "source": [
    "# RoseTTAFold"
   ]
  },
  {
   "cell_type": "code",
   "execution_count": null,
   "id": "37ae0fd8-4337-4120-9b0c-f64bee63c170",
   "metadata": {},
   "outputs": [],
   "source": [
    "%load_ext autoreload\n",
    "%autoreload 2"
   ]
  },
  {
   "cell_type": "code",
   "execution_count": null,
   "id": "2347289d-3394-49ef-ab3d-28701e237307",
   "metadata": {},
   "outputs": [],
   "source": [
    "from proteome import protein\n",
    "from proteome.query import caching\n",
    "from proteome.models.rosettafold import config\n",
    "from proteome.models.rosettafold.modeling import RoseTTAFoldForFolding"
   ]
  },
  {
   "cell_type": "code",
   "execution_count": null,
   "id": "7b9d7d1b-e207-44b1-ac7b-c6fb05149c34",
   "metadata": {},
   "outputs": [],
   "source": [
    "caching.set_db_path(\"../cached_queries_for_testing.db\")"
   ]
  },
  {
   "cell_type": "code",
   "execution_count": null,
   "id": "31202caf-8956-45ff-8564-4b5a76e0c400",
   "metadata": {},
   "outputs": [],
   "source": [
    "sequence = 'MAAHKGAEHHHKAAEHHEQAAKHHHAAAEHHEKGEHEQAAHHADTAYAHHKHAEEHAAQAAKHDAEHHAPKPH'"
   ]
  },
  {
   "cell_type": "code",
   "execution_count": null,
   "id": "47b50af5-ce60-4851-9a81-f5c095021144",
   "metadata": {},
   "outputs": [],
   "source": [
    "folder = RoseTTAFoldForFolding(refine=True, random_seed=0)"
   ]
  },
  {
   "cell_type": "code",
   "execution_count": null,
   "id": "9ff1d79c-58d5-4ee7-b59c-ffcef79a09c3",
   "metadata": {},
   "outputs": [],
   "source": [
    "predicted_protein, aux_output = folder(sequence)"
   ]
  },
  {
   "cell_type": "code",
   "execution_count": null,
   "id": "5e834076-421c-4ad0-9bfc-e4d633b987d1",
   "metadata": {},
   "outputs": [],
   "source": [
    "predicted_protein.show()"
   ]
  },
  {
   "cell_type": "code",
   "execution_count": null,
   "id": "8f393c71-3b0b-4e1a-acce-f09861e5bc46",
   "metadata": {},
   "outputs": [],
   "source": []
  }
 ],
 "metadata": {
  "kernelspec": {
   "display_name": "Python 3 (ipykernel)",
   "language": "python",
   "name": "python3"
  },
  "language_info": {
   "codemirror_mode": {
    "name": "ipython",
    "version": 3
   },
   "file_extension": ".py",
   "mimetype": "text/x-python",
   "name": "python",
   "nbconvert_exporter": "python",
   "pygments_lexer": "ipython3",
   "version": "3.10.11"
  }
 },
 "nbformat": 4,
 "nbformat_minor": 5
}
