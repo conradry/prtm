{
 "cells": [
  {
   "cell_type": "markdown",
   "metadata": {
    "id": "jMGcXXPabEN4"
   },
   "source": [
    "# Uni-Fold Folding"
   ]
  },
  {
   "cell_type": "code",
   "execution_count": null,
   "metadata": {},
   "outputs": [],
   "source": [
    "%load_ext autoreload\n",
    "%autoreload 2"
   ]
  },
  {
   "cell_type": "code",
   "execution_count": null,
   "metadata": {},
   "outputs": [],
   "source": [
    "from prtm.models.unifold.modeling import UniFoldForFolding\n",
    "from prtm.visual import view_superimposed_structures"
   ]
  },
  {
   "cell_type": "markdown",
   "metadata": {},
   "source": [
    "## Fold Monomer\n",
    "\n",
    "Folding of monomers with `Uni-Fold` and `AlphaFold` trained models."
   ]
  },
  {
   "cell_type": "code",
   "execution_count": null,
   "metadata": {},
   "outputs": [],
   "source": [
    "monomer_sequence = (\n",
    "    \"LILNLRGGAFVSNTQITMADKQKKFINEIQEGDLVRSYSITDETFQQNAVTSIV\"\n",
    "    \"KHEADQLCQINFGKQHVVCTVNHRFYDPESKLWKSVCPHPGSGISFLKKYDYLLS\"\n",
    "    \"EEGEKLQITEIKTFTTKQPVFIYHIQVENNHNFFANGVLAHAMQVSI\"\n",
    ")\n",
    "monomer_sequence_dict = {\"A\": monomer_sequence}"
   ]
  },
  {
   "cell_type": "code",
   "execution_count": null,
   "metadata": {},
   "outputs": [],
   "source": [
    "# Uni-Fold trained model\n",
    "uf_folder = UniFoldForFolding(model_name=\"model_2_ft\", use_templates=True, random_seed=0)\n",
    "# AlphaFold trained model converted to PyTorch for Uni-Fold\n",
    "af_folder = UniFoldForFolding(model_name=\"model_1_af2\", use_templates=True, random_seed=0)"
   ]
  },
  {
   "cell_type": "code",
   "execution_count": null,
   "metadata": {},
   "outputs": [],
   "source": [
    "uf_monomer_structure, uf_aux_output = uf_folder(monomer_sequence_dict, max_recycling_iters=3, num_ensembles=2)\n",
    "af_monomer_structure, af_aux_output = af_folder(monomer_sequence_dict, max_recycling_iters=3, num_ensembles=2)"
   ]
  },
  {
   "cell_type": "code",
   "execution_count": null,
   "metadata": {},
   "outputs": [],
   "source": [
    "view_superimposed_structures(uf_monomer_structure, af_monomer_structure, color1=\"green\")"
   ]
  },
  {
   "cell_type": "markdown",
   "metadata": {},
   "source": [
    "## Fold Multimer\n",
    "\n",
    "Folding of multimers with `Uni-Fold` and `AlphaFold` trained models."
   ]
  },
  {
   "cell_type": "code",
   "execution_count": null,
   "metadata": {},
   "outputs": [],
   "source": [
    "complex_sequence_a = (\n",
    "    \"TTPLVHVASVEKGRSYEDFQKVYNAIALKLREDDEYDNYIGYGPVLVRLAWHTSGTW\"\n",
    "    \"DKHDNTGGSYGGTYRFKKEFNDPSNAGLQNGFKFLEPIHKEFPWISSGDLFSLGGVTA\"\n",
    "    \"VQEMQGPKIPWRCGRVDTPEDTTPDNGRLPDADKDADYVRTFFQRLNMNDREVVALMGAH\"\n",
    "    \"ALGKTHLKNSGYEGPWGAANNVFTNEFYLNLLNEDWKLEKNDANNEQWDSKSGYMMLPTDY\"\n",
    "    \"SLIQDPKYLSIVKEYANDQDKFFKDFSKAFEKLLENGITFPKDAPSPFIFKTLEEQGL\"\n",
    ")\n",
    "complex_sequence_b = (\n",
    "    \"TEFKAGSAKKGATLFKTRCLQCHTVEKGGPHKVGPNLHGIFGRHSGQAEGYSYTDA\"\n",
    "    \"NIKKNVLWDENNMSEYLTNPKKYIPGTKMAIGGLKKEKDRNDLITYLKKACE\"\n",
    ")\n",
    "complex_sequence_dict = {\"A\": complex_sequence_a, \"B\": complex_sequence_b}"
   ]
  },
  {
   "cell_type": "code",
   "execution_count": null,
   "metadata": {},
   "outputs": [],
   "source": [
    "# Uni-Fold Multimer trained model\n",
    "uf_folder = UniFoldForFolding(model_name=\"multimer_ft\", use_templates=True, random_seed=0)\n",
    "# AlphaFold Multimer model converted to PyTorch for Uni-Fold\n",
    "af_folder = UniFoldForFolding(model_name=\"multimer_4_af2_v3\", use_templates=True, random_seed=0)"
   ]
  },
  {
   "cell_type": "code",
   "execution_count": null,
   "metadata": {},
   "outputs": [],
   "source": [
    "uf_complex_structure, uf_comp_aux_output = uf_folder(\n",
    "    complex_sequence_dict, max_recycling_iters=3, num_ensembles=2\n",
    ")\n",
    "af_complex_structure, af_compp_aux_output = af_folder(\n",
    "    complex_sequence_dict, max_recycling_iters=3, num_ensembles=2\n",
    ")"
   ]
  },
  {
   "cell_type": "code",
   "execution_count": null,
   "metadata": {},
   "outputs": [],
   "source": [
    "view_superimposed_structures(\n",
    "    uf_complex_structure.get_chain(\"A\"), af_complex_structure.get_chain(\"A\"), color1=\"green\"\n",
    ")"
   ]
  },
  {
   "cell_type": "code",
   "execution_count": null,
   "metadata": {},
   "outputs": [],
   "source": [
    "view_superimposed_structures(\n",
    "    uf_complex_structure.get_chain(\"B\"), af_complex_structure.get_chain(\"B\"), color1=\"green\"\n",
    ")"
   ]
  },
  {
   "cell_type": "markdown",
   "metadata": {},
   "source": [
    "## Fold Symmetric\n",
    "\n",
    "Symmetric folding with `UF-Symmetry`."
   ]
  },
  {
   "cell_type": "code",
   "execution_count": null,
   "metadata": {},
   "outputs": [],
   "source": [
    "symmetric_sequence = (\n",
    "    \"PPYTVVYFPVRGRCAALRMLLADQGQSWKEEVVTVETWQEGSLKASCLYGQLPKFQDGD\"\n",
    "    \"LTLYQSNTILRHLGRTLGLYGKDQQEAALVDMVNDGVEDLRCKYISLIYTNYEAGKDDYV\"\n",
    "    \"KALPGQLKPFETLLSQNQGGKTFIVGDQISFADYNLLDLLLIHEVLAPGCLDAFPLLSAY\"\n",
    "    \"VGRLSARPKLKAFLASPEYVNLPINGNGKQ\"\n",
    ")\n",
    "symmetric_sequence_dict = {\"A\": symmetric_sequence}"
   ]
  },
  {
   "cell_type": "code",
   "execution_count": null,
   "metadata": {},
   "outputs": [],
   "source": [
    "sym_folder = UniFoldForFolding(\n",
    "    model_name=\"uf_symmetry\", use_templates=True, random_seed=0, symmetry_group=\"C2\"\n",
    ")"
   ]
  },
  {
   "cell_type": "code",
   "execution_count": null,
   "metadata": {},
   "outputs": [],
   "source": [
    "sym_structure, sym_aux_output = sym_folder(\n",
    "    symmetric_sequence_dict, max_recycling_iters=3, num_ensembles=2\n",
    ")"
   ]
  },
  {
   "cell_type": "code",
   "execution_count": null,
   "metadata": {},
   "outputs": [],
   "source": [
    "sym_structure.show()"
   ]
  },
  {
   "cell_type": "code",
   "execution_count": null,
   "metadata": {},
   "outputs": [],
   "source": []
  }
 ],
 "metadata": {
  "accelerator": "GPU",
  "colab": {
   "collapsed_sections": [],
   "name": "unifold.ipynb",
   "provenance": []
  },
  "gpuClass": "standard",
  "kernelspec": {
   "display_name": "Python 3 (ipykernel)",
   "language": "python",
   "name": "python3"
  },
  "language_info": {
   "codemirror_mode": {
    "name": "ipython",
    "version": 3
   },
   "file_extension": ".py",
   "mimetype": "text/x-python",
   "name": "python",
   "nbconvert_exporter": "python",
   "pygments_lexer": "ipython3",
   "version": "3.10.13"
  },
  "vscode": {
   "interpreter": {
    "hash": "916dbcbb3f70747c44a77c7bcd40155683ae19c65e1c03b4aa3499c5328201f1"
   }
  }
 },
 "nbformat": 4,
 "nbformat_minor": 4
}
