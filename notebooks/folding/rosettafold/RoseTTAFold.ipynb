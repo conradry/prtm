{
 "cells": [
  {
   "cell_type": "code",
   "execution_count": 1,
   "id": "37ae0fd8-4337-4120-9b0c-f64bee63c170",
   "metadata": {},
   "outputs": [],
   "source": [
    "%load_ext autoreload\n",
    "%autoreload 2"
   ]
  },
  {
   "cell_type": "code",
   "execution_count": 2,
   "id": "2347289d-3394-49ef-ab3d-28701e237307",
   "metadata": {},
   "outputs": [],
   "source": [
    "import py3Dmol\n",
    "from proteome import protein\n",
    "from proteome.models.folding.rosettafold.modeling import RoseTTAFoldForFolding\n"
   ]
  },
  {
   "cell_type": "code",
   "execution_count": 3,
   "id": "31202caf-8956-45ff-8564-4b5a76e0c400",
   "metadata": {},
   "outputs": [],
   "source": [
    "sequence = 'MAAHKGAEHHHKAAEHHEQAAKHHHAAAEHHEKGEHEQAAHHADTAYAHHKHAEEHAAQAAKHDAEHHAPKPH'"
   ]
  },
  {
   "cell_type": "code",
   "execution_count": 4,
   "id": "47b50af5-ce60-4851-9a81-f5c095021144",
   "metadata": {},
   "outputs": [],
   "source": [
    "folder = RoseTTAFoldForFolding(refine=True, random_seed=0)"
   ]
  },
  {
   "cell_type": "code",
   "execution_count": 5,
   "id": "9ff1d79c-58d5-4ee7-b59c-ffcef79a09c3",
   "metadata": {},
   "outputs": [
    {
     "name": "stdout",
     "output_type": "stream",
     "text": [
      "Running jackhmmer on uniref90 database...\n",
      "Running jackhmmer on smallbfd database...\n",
      "Running jackhmmer on mgnify database...\n",
      "58 sequences found in uniref90\n",
      "110 sequences found in smallbfd\n",
      "9 sequences found in mgnify\n"
     ]
    },
    {
     "name": "stderr",
     "output_type": "stream",
     "text": [
      "/home/conradry71/micromamba/envs/proteome/lib/python3.10/site-packages/dgl/backend/pytorch/tensor.py:449: UserWarning: TypedStorage is deprecated. It will be removed in the future and UntypedStorage will be the only storage class. This should only matter to you if you are using storages directly.  To access UntypedStorage directly, use tensor.untyped_storage() instead of tensor.storage()\n",
      "  assert input.numel() == input.storage().size(), (\n"
     ]
    }
   ],
   "source": [
    "predicted_protein, plddt = folder.fold(sequence)"
   ]
  },
  {
   "cell_type": "code",
   "execution_count": 6,
   "id": "5e834076-421c-4ad0-9bfc-e4d633b987d1",
   "metadata": {},
   "outputs": [],
   "source": [
    "result_pdb = protein.to_pdb(predicted_protein)"
   ]
  },
  {
   "cell_type": "code",
   "execution_count": null,
   "id": "5febb457",
   "metadata": {},
   "outputs": [],
   "source": [
    "PLDDT_BANDS = [\n",
    "  (0, 50, '#FF7D45'),\n",
    "  (50, 70, '#FFDB13'),\n",
    "  (70, 90, '#65CBF3'),\n",
    "  (90, 100, '#0053D6')\n",
    "]\n",
    "view = py3Dmol.view(width=800, height=600)\n",
    "view.addModelsAsFrames(result_pdb)\n",
    "color_map = {i: bands[2] for i, bands in enumerate(PLDDT_BANDS)}\n",
    "style = {'cartoon': {'colorscheme': {'prop': 'b', 'map': color_map}}}\n",
    "\n",
    "view.setStyle({'model': -1}, style)\n",
    "view.zoomTo()"
   ]
  },
  {
   "cell_type": "code",
   "execution_count": null,
   "id": "8f393c71-3b0b-4e1a-acce-f09861e5bc46",
   "metadata": {},
   "outputs": [],
   "source": []
  }
 ],
 "metadata": {
  "kernelspec": {
   "display_name": "Python 3 (ipykernel)",
   "language": "python",
   "name": "python3"
  },
  "language_info": {
   "codemirror_mode": {
    "name": "ipython",
    "version": 3
   },
   "file_extension": ".py",
   "mimetype": "text/x-python",
   "name": "python",
   "nbconvert_exporter": "python",
   "pygments_lexer": "ipython3",
   "version": "3.10.11"
  }
 },
 "nbformat": 4,
 "nbformat_minor": 5
}
