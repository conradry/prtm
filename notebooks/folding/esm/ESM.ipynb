{
 "cells": [
  {
   "cell_type": "code",
   "execution_count": 5,
   "id": "2078228c-793d-4521-8fa2-38ad4700e887",
   "metadata": {},
   "outputs": [
    {
     "name": "stdout",
     "output_type": "stream",
     "text": [
      "The autoreload extension is already loaded. To reload it, use:\n",
      "  %reload_ext autoreload\n"
     ]
    }
   ],
   "source": [
    "%load_ext autoreload\n",
    "%autoreload 2"
   ]
  },
  {
   "cell_type": "code",
   "execution_count": 6,
   "id": "7011208b-79c9-4a7e-bdaa-de30ce09663b",
   "metadata": {},
   "outputs": [],
   "source": [
    "import torch"
   ]
  },
  {
   "cell_type": "code",
   "execution_count": 7,
   "id": "a2f9eb01-32f2-4c39-bbf5-f7225a25b48f",
   "metadata": {},
   "outputs": [],
   "source": [
    "from proteome.models.folding.esm import config"
   ]
  },
  {
   "cell_type": "code",
   "execution_count": 8,
   "id": "680f740e-3969-4c84-abde-1379fc32b9de",
   "metadata": {},
   "outputs": [],
   "source": [
    "names = [\"esmfold_3B_v0\", \"esmfold_3B_v1\"]"
   ]
  },
  {
   "cell_type": "code",
   "execution_count": 9,
   "id": "469e319f-c9af-4761-b7ff-0fe1b78eb21f",
   "metadata": {},
   "outputs": [],
   "source": [
    "cfgs = {}\n",
    "for name in names:\n",
    "    url = f\"https://dl.fbaipublicfiles.com/fair-esm/models/esm2_t36_3B_UR50D.pt\"\n",
    "    model_data = torch.hub.load_state_dict_from_url(\n",
    "        url, progress=False, map_location=\"cpu\"\n",
    "    )\n",
    "    cfgs[name] = model_data[\"cfg\"][\"model\"]"
   ]
  },
  {
   "cell_type": "code",
   "execution_count": 15,
   "id": "ad8cf3b5-dd9b-4092-bd80-eeb01c5d834a",
   "metadata": {},
   "outputs": [],
   "source": [
    "#cfgs[\"esmfold_3B_v0\"]"
   ]
  },
  {
   "cell_type": "code",
   "execution_count": 37,
   "id": "57f6a71d-366e-42d2-bf5f-98b6f641a03b",
   "metadata": {},
   "outputs": [],
   "source": [
    "def compare_dicts(dict1, dict2):\n",
    "    missing = []\n",
    "    different = []\n",
    "    for k,v in dict1.items():\n",
    "        if k not in dict2:\n",
    "            missing.append(k)\n",
    "        elif isinstance(v, dict):\n",
    "            compare_dicts(v, dict2[k])\n",
    "        else:\n",
    "            if dict2[k] != v:\n",
    "                different.append(k)\n",
    "\n",
    "    print(\"Missing\", missing)\n",
    "    print(\"Different\", different)"
   ]
  },
  {
   "cell_type": "code",
   "execution_count": 38,
   "id": "bb25eb80-1f16-4416-909a-4574787417a3",
   "metadata": {},
   "outputs": [
    {
     "name": "stdout",
     "output_type": "stream",
     "text": [
      "Missing []\n",
      "Different []\n"
     ]
    }
   ],
   "source": [
    "compare_dicts(cfgs[\"esmfold_3B_v0\"], cfgs[\"esmfold_3B_v1\"])"
   ]
  },
  {
   "cell_type": "code",
   "execution_count": 31,
   "id": "562b4f8a-f9e9-451a-b6eb-9e75213d97d1",
   "metadata": {},
   "outputs": [
    {
     "data": {
      "text/plain": [
       "dict_keys(['esmfold_3B_v0', 'esmfold_3B_v1'])"
      ]
     },
     "execution_count": 31,
     "metadata": {},
     "output_type": "execute_result"
    }
   ],
   "source": [
    "for k,v in cfgs[\"esmfold_3B_v0\"]:\n",
    "    if not isinstance()"
   ]
  },
  {
   "cell_type": "code",
   "execution_count": null,
   "id": "f62ca59e-fa61-40ce-8c1c-179ee8818c90",
   "metadata": {},
   "outputs": [],
   "source": []
  },
  {
   "cell_type": "code",
   "execution_count": 16,
   "id": "908ead20-e443-4550-ba02-83cb412f0df9",
   "metadata": {},
   "outputs": [
    {
     "data": {
      "text/plain": [
       "512"
      ]
     },
     "execution_count": 16,
     "metadata": {},
     "output_type": "execute_result"
    }
   ],
   "source": [
    "getattr(config.StructureModuleConfig(c_s=512), \"c_s\")"
   ]
  },
  {
   "cell_type": "code",
   "execution_count": 1,
   "id": "6b3ee0ab-06fd-48b4-b3cd-eac9fa7cfc2f",
   "metadata": {},
   "outputs": [],
   "source": [
    "%load_ext autoreload\n",
    "%autoreload 2"
   ]
  },
  {
   "cell_type": "code",
   "execution_count": 7,
   "id": "b6a78b53-52e4-48a1-a527-dc48f8285c60",
   "metadata": {},
   "outputs": [],
   "source": [
    "import os\n",
    "import py3Dmol\n",
    "import torch\n",
    "from proteome import protein\n",
    "from proteome.models.folding.esm.modeling import ESMForFolding\n",
    "from proteome.models.folding.openfold.utils.feats import atom14_to_atom37"
   ]
  },
  {
   "cell_type": "code",
   "execution_count": 3,
   "id": "6a8e8581-2c85-4d71-834a-8609028507ea",
   "metadata": {},
   "outputs": [],
   "source": [
    "sequence = 'MAAHKGAEHHHKAAEHHEQAAKHHHAAAEHHEKGEHEQAAHHADTAYAHHKHAEEHAAQAAKHDAEHHAPKPH'"
   ]
  },
  {
   "cell_type": "code",
   "execution_count": 13,
   "id": "f1a3415d-64bd-401a-a3e9-74177e036038",
   "metadata": {},
   "outputs": [],
   "source": [
    "folder = ESMForFolding(chunk_size=512)\n",
    "output = folder.fold(sequence)"
   ]
  },
  {
   "cell_type": "code",
   "execution_count": 5,
   "id": "b2caeb0d-ec85-4fa0-a104-b1a8e302a594",
   "metadata": {},
   "outputs": [],
   "source": []
  },
  {
   "cell_type": "code",
   "execution_count": null,
   "id": "9b2d5ded-4298-4af8-b8df-61b8ee2454fb",
   "metadata": {},
   "outputs": [],
   "source": []
  },
  {
   "cell_type": "code",
   "execution_count": 4,
   "id": "8ae5b357-66e0-4110-ab4e-22dd2ac37e38",
   "metadata": {},
   "outputs": [
    {
     "name": "stderr",
     "output_type": "stream",
     "text": [
      "/home/conradry71/micromamba/envs/proteome/lib/python3.10/site-packages/tqdm/auto.py:21: TqdmWarning: IProgress not found. Please update jupyter and ipywidgets. See https://ipywidgets.readthedocs.io/en/stable/user_install.html\n",
      "  from .autonotebook import tqdm as notebook_tqdm\n"
     ]
    }
   ],
   "source": [
    "model = pretrained.esmfold_v0()\n",
    "model = model.half()\n",
    "model = model.eval()\n",
    "model.set_chunk_size(512)"
   ]
  },
  {
   "cell_type": "code",
   "execution_count": 5,
   "id": "c9a70723-c6df-4930-96d8-3763d3343479",
   "metadata": {},
   "outputs": [],
   "source": [
    "model = model.cuda()"
   ]
  },
  {
   "cell_type": "code",
   "execution_count": 6,
   "id": "526e8ef7-a6af-406e-b45f-a0b843bd23ff",
   "metadata": {},
   "outputs": [],
   "source": [
    "output = model.infer([sequence])"
   ]
  },
  {
   "cell_type": "code",
   "execution_count": 8,
   "id": "057e8b46-f273-4558-a702-c8575633a551",
   "metadata": {},
   "outputs": [],
   "source": [
    "final_atom_positions = atom14_to_atom37(output[\"positions\"][-1], output)\n",
    "output = {k: v.to(\"cpu\").numpy() for k, v in output.items()}\n",
    "final_atom_positions = final_atom_positions.cpu().numpy()\n",
    "final_atom_mask = output[\"atom37_atom_exists\"]"
   ]
  },
  {
   "cell_type": "code",
   "execution_count": 9,
   "id": "901e2830-7ca2-4967-8709-8e64c0858e84",
   "metadata": {},
   "outputs": [],
   "source": [
    "for k,v in output.items():\n",
    "    output[k] = v.squeeze()"
   ]
  },
  {
   "cell_type": "code",
   "execution_count": 10,
   "id": "8e52484e-62fc-40aa-9e1c-eae9282038c9",
   "metadata": {},
   "outputs": [],
   "source": [
    "predicted_protein = protein.Protein(\n",
    "    aatype=output[\"aatype\"],\n",
    "    atom_positions=final_atom_positions.squeeze(),\n",
    "    atom_mask=final_atom_mask.squeeze(),\n",
    "    residue_index=output[\"residue_index\"] + 1,\n",
    "    b_factors=output[\"plddt\"],\n",
    "    chain_index=output[\"chain_index\"] if \"chain_index\" in output else None,\n",
    ")"
   ]
  },
  {
   "cell_type": "code",
   "execution_count": 11,
   "id": "510a9f74-fd38-4375-835a-e2732b78b87e",
   "metadata": {},
   "outputs": [],
   "source": [
    "result_pdb = protein.to_pdb(predicted_protein)"
   ]
  },
  {
   "cell_type": "code",
   "execution_count": 12,
   "id": "f0692d36-3e3a-4c03-8da9-0c5fa76378e3",
   "metadata": {},
   "outputs": [
    {
     "data": {
      "application/3dmoljs_load.v0": "<div id=\"3dmolviewer_16876372892133195\"  style=\"position: relative; width: 800px; height: 600px;\">\n        <p id=\"3dmolwarning_16876372892133195\" style=\"background-color:#ffcccc;color:black\">You appear to be running in JupyterLab (or JavaScript failed to load for some other reason).  You need to install the 3dmol extension: <br>\n        <tt>jupyter labextension install jupyterlab_3dmol</tt></p>\n        </div>\n<script>\n\nvar loadScriptAsync = function(uri){\n  return new Promise((resolve, reject) => {\n    //this is to ignore the existence of requirejs amd\n    var savedexports, savedmodule;\n    if (typeof exports !== 'undefined') savedexports = exports;\n    else exports = {}\n    if (typeof module !== 'undefined') savedmodule = module;\n    else module = {}\n\n    var tag = document.createElement('script');\n    tag.src = uri;\n    tag.async = true;\n    tag.onload = () => {\n        exports = savedexports;\n        module = savedmodule;\n        resolve();\n    };\n  var firstScriptTag = document.getElementsByTagName('script')[0];\n  firstScriptTag.parentNode.insertBefore(tag, firstScriptTag);\n});\n};\n\nif(typeof $3Dmolpromise === 'undefined') {\n$3Dmolpromise = null;\n  $3Dmolpromise = loadScriptAsync('https://cdnjs.cloudflare.com/ajax/libs/3Dmol/2.0.3/3Dmol-min.js');\n}\n\nvar viewer_16876372892133195 = null;\nvar warn = document.getElementById(\"3dmolwarning_16876372892133195\");\nif(warn) {\n    warn.parentNode.removeChild(warn);\n}\n$3Dmolpromise.then(function() {\nviewer_16876372892133195 = $3Dmol.createViewer(document.getElementById(\"3dmolviewer_16876372892133195\"),{backgroundColor:\"white\"});\nviewer_16876372892133195.zoomTo();\n\tviewer_16876372892133195.addModelsAsFrames(\"PARENT N/A\\nATOM      1  N   MET A   1     -13.360 -37.539 -11.923  1.00 48.00           N  \\nATOM      2  CA  MET A   1     -12.319 -37.371 -10.913  1.00 53.72           C  \\nATOM      3  C   MET A   1     -12.034 -35.893 -10.665  1.00 50.53           C  \\nATOM      4  O   MET A   1     -11.690 -35.159 -11.593  1.00 45.59           O  \\nATOM      5  CB  MET A   1     -11.036 -38.086 -11.338  1.00 48.97           C  \\nATOM      6  CG  MET A   1     -10.837 -39.437 -10.671  1.00 45.69           C  \\nATOM      7  N   ALA A   2     -12.852 -35.238  -9.747  1.00 61.12           N  \\nATOM      8  CA  ALA A   2     -12.852 -33.848  -9.298  1.00 62.69           C  \\nATOM      9  C   ALA A   2     -11.511 -33.474  -8.672  1.00 61.88           C  \\nATOM     10  O   ALA A   2     -10.972 -34.220  -7.853  1.00 54.78           O  \\nATOM     11  CB  ALA A   2     -13.985 -33.611  -8.302  1.00 58.34           C  \\nATOM     12  N   ALA A   3     -10.586 -32.668  -9.402  1.00 65.06           N  \\nATOM     13  CA  ALA A   3      -9.369 -32.003  -8.942  1.00 66.75           C  \\nATOM     14  C   ALA A   3      -9.551 -31.437  -7.536  1.00 65.75           C  \\nATOM     15  O   ALA A   3     -10.581 -30.833  -7.232  1.00 59.66           O  \\nATOM     16  CB  ALA A   3      -8.970 -30.893  -9.911  1.00 62.56           C  \\nATOM     17  N   HIS A   4      -9.000 -32.096  -6.516  1.00 63.19           N  \\nATOM     18  CA  HIS A   4      -8.710 -31.614  -5.170  1.00 64.00           C  \\nATOM     19  C   HIS A   4      -8.500 -30.104  -5.159  1.00 63.22           C  \\nATOM     20  O   HIS A   4      -7.831 -29.559  -6.041  1.00 58.53           O  \\nATOM     21  CB  HIS A   4      -7.477 -32.320  -4.603  1.00 60.34           C  \\nATOM     22  CG  HIS A   4      -7.463 -32.397  -3.109  1.00 55.47           C  \\nATOM     23  N   LYS A   5      -9.561 -29.236  -4.645  1.00 61.56           N  \\nATOM     24  CA  LYS A   5      -9.381 -27.850  -4.221  1.00 61.91           C  \\nATOM     25  C   LYS A   5      -7.925 -27.571  -3.859  1.00 61.78           C  \\nATOM     26  O   LYS A   5      -7.293 -28.358  -3.153  1.00 57.38           O  \\nATOM     27  CB  LYS A   5     -10.287 -27.530  -3.031  1.00 59.97           C  \\nATOM     28  CG  LYS A   5     -10.731 -26.076  -2.965  1.00 54.53           C  \\nATOM     29  N   GLY A   6      -7.182 -26.905  -4.736  1.00 61.81           N  \\nATOM     30  CA  GLY A   6      -5.941 -26.252  -4.351  1.00 62.25           C  \\nATOM     31  C   GLY A   6      -5.915 -25.833  -2.894  1.00 62.44           C  \\nATOM     32  O   GLY A   6      -6.911 -25.333  -2.368  1.00 57.62           O  \\nATOM     33  N   ALA A   7      -5.266 -26.558  -2.071  1.00 60.59           N  \\nATOM     34  CA  ALA A   7      -4.799 -26.184  -0.739  1.00 60.44           C  \\nATOM     35  C   ALA A   7      -4.702 -24.667  -0.597  1.00 60.75           C  \\nATOM     36  O   ALA A   7      -4.285 -23.976  -1.528  1.00 56.41           O  \\nATOM     37  CB  ALA A   7      -3.446 -26.829  -0.448  1.00 58.31           C  \\nATOM     38  N   GLU A   8      -5.586 -23.951   0.212  1.00 57.81           N  \\nATOM     39  CA  GLU A   8      -5.385 -22.615   0.767  1.00 57.31           C  \\nATOM     40  C   GLU A   8      -3.925 -22.186   0.658  1.00 58.06           C  \\nATOM     41  O   GLU A   8      -3.018 -22.980   0.912  1.00 53.97           O  \\nATOM     42  CB  GLU A   8      -5.839 -22.567   2.228  1.00 56.78           C  \\nATOM     43  CG  GLU A   8      -7.304 -22.194   2.406  1.00 51.81           C  \\nATOM     44  N   HIS A   9      -3.589 -21.394  -0.188  1.00 57.12           N  \\nATOM     45  CA  HIS A   9      -2.350 -20.624  -0.144  1.00 57.53           C  \\nATOM     46  C   HIS A   9      -1.759 -20.611   1.262  1.00 57.66           C  \\nATOM     47  O   HIS A   9      -2.490 -20.467   2.245  1.00 53.22           O  \\nATOM     48  CB  HIS A   9      -2.592 -19.192  -0.626  1.00 56.19           C  \\nATOM     49  CG  HIS A   9      -1.386 -18.555  -1.242  1.00 51.56           C  \\nATOM     50  N   HIS A  10      -0.757 -21.466   1.536  1.00 53.66           N  \\nATOM     51  CA  HIS A  10       0.187 -21.377   2.645  1.00 53.66           C  \\nATOM     52  C   HIS A  10       0.210 -19.972   3.237  1.00 53.66           C  \\nATOM     53  O   HIS A  10       0.131 -18.983   2.504  1.00 49.84           O  \\nATOM     54  CB  HIS A  10       1.590 -21.778   2.187  1.00 51.66           C  \\nATOM     55  CG  HIS A  10       2.410 -22.424   3.259  1.00 48.53           C  \\nATOM     56  N   HIS A  11      -0.413 -19.696   4.423  1.00 51.06           N  \\nATOM     57  CA  HIS A  11      -0.066 -18.568   5.281  1.00 51.31           C  \\nATOM     58  C   HIS A  11       1.146 -17.817   4.739  1.00 51.03           C  \\nATOM     59  O   HIS A  11       2.102 -18.433   4.263  1.00 48.28           O  \\nATOM     60  CB  HIS A  11       0.207 -19.045   6.708  1.00 49.62           C  \\nATOM     61  CG  HIS A  11      -0.174 -18.048   7.757  1.00 47.19           C  \\nATOM     62  N   LYS A  12       1.001 -16.796   4.087  1.00 51.75           N  \\nATOM     63  CA  LYS A  12       1.968 -15.725   3.863  1.00 52.00           C  \\nATOM     64  C   LYS A  12       3.192 -15.893   4.760  1.00 52.00           C  \\nATOM     65  O   LYS A  12       3.061 -16.192   5.948  1.00 48.22           O  \\nATOM     66  CB  LYS A  12       1.324 -14.360   4.106  1.00 50.69           C  \\nATOM     67  CG  LYS A  12       1.750 -13.288   3.114  1.00 46.78           C  \\nATOM     68  N   ALA A  13       4.188 -16.470   4.274  1.00 50.09           N  \\nATOM     69  CA  ALA A  13       5.503 -16.348   4.898  1.00 49.97           C  \\nATOM     70  C   ALA A  13       5.634 -15.024   5.647  1.00 50.16           C  \\nATOM     71  O   ALA A  13       5.137 -13.993   5.189  1.00 47.09           O  \\nATOM     72  CB  ALA A  13       6.604 -16.472   3.847  1.00 48.50           C  \\nATOM     73  N   ALA A  14       5.521 -14.946   6.896  1.00 49.38           N  \\nATOM     74  CA  ALA A  14       6.085 -13.930   7.781  1.00 49.41           C  \\nATOM     75  C   ALA A  14       6.957 -12.948   7.004  1.00 49.25           C  \\nATOM     76  O   ALA A  14       7.686 -13.342   6.092  1.00 46.72           O  \\nATOM     77  CB  ALA A  14       6.893 -14.587   8.897  1.00 47.84           C  \\nATOM     78  N   GLU A  15       6.599 -11.831   6.672  1.00 50.25           N  \\nATOM     79  CA  GLU A  15       7.397 -10.636   6.411  1.00 50.72           C  \\nATOM     80  C   GLU A  15       8.876 -10.889   6.688  1.00 50.16           C  \\nATOM     81  O   GLU A  15       9.228 -11.509   7.693  1.00 46.94           O  \\nATOM     82  CB  GLU A  15       6.897  -9.461   7.254  1.00 48.94           C  \\nATOM     83  CG  GLU A  15       5.814  -8.634   6.577  1.00 45.59           C  \\nATOM     84  N   HIS A  16       9.583 -11.364   5.860  1.00 48.06           N  \\nATOM     85  CA  HIS A  16      11.034 -11.266   5.976  1.00 49.09           C  \\nATOM     86  C   HIS A  16      11.435 -10.143   6.928  1.00 48.00           C  \\nATOM     87  O   HIS A  16      10.811  -9.080   6.938  1.00 45.91           O  \\nATOM     88  CB  HIS A  16      11.668 -11.042   4.603  1.00 46.84           C  \\nATOM     89  CG  HIS A  16      13.079 -11.529   4.506  1.00 45.47           C  \\nATOM     90  N   HIS A  17      11.689 -10.354   8.082  1.00 48.94           N  \\nATOM     91  CA  HIS A  17      12.543  -9.626   9.014  1.00 49.50           C  \\nATOM     92  C   HIS A  17      13.149  -8.391   8.356  1.00 48.94           C  \\nATOM     93  O   HIS A  17      13.548  -8.436   7.189  1.00 46.66           O  \\nATOM     94  CB  HIS A  17      13.652 -10.535   9.547  1.00 47.94           C  \\nATOM     95  CG  HIS A  17      14.151 -10.142  10.901  1.00 45.81           C  \\nATOM     96  N   GLU A  18      12.719  -7.313   8.491  1.00 52.28           N  \\nATOM     97  CA  GLU A  18      13.419  -6.036   8.393  1.00 52.69           C  \\nATOM     98  C   GLU A  18      14.900  -6.240   8.087  1.00 52.41           C  \\nATOM     99  O   GLU A  18      15.539  -7.130   8.652  1.00 49.31           O  \\nATOM    100  CB  GLU A  18      13.254  -5.232   9.686  1.00 51.31           C  \\nATOM    101  CG  GLU A  18      12.022  -4.341   9.703  1.00 48.31           C  \\nATOM    102  N   GLN A  19      15.331  -6.140   6.892  1.00 53.12           N  \\nATOM    103  CA  GLN A  19      16.734  -5.932   6.549  1.00 53.41           C  \\nATOM    104  C   GLN A  19      17.497  -5.306   7.714  1.00 53.06           C  \\nATOM    105  O   GLN A  19      16.982  -4.416   8.394  1.00 50.19           O  \\nATOM    106  CB  GLN A  19      16.859  -5.051   5.306  1.00 51.72           C  \\nATOM    107  CG  GLN A  19      17.249  -5.814   4.047  1.00 49.19           C  \\nATOM    108  N   ALA A  20      18.311  -6.086   8.478  1.00 54.84           N  \\nATOM    109  CA  ALA A  20      19.372  -5.645   9.381  1.00 54.75           C  \\nATOM    110  C   ALA A  20      19.743  -4.188   9.120  1.00 54.75           C  \\nATOM    111  O   ALA A  20      19.823  -3.757   7.968  1.00 52.16           O  \\nATOM    112  CB  ALA A  20      20.601  -6.538   9.234  1.00 53.50           C  \\nATOM    113  N   ALA A  21      19.279  -3.319   9.933  1.00 55.41           N  \\nATOM    114  CA  ALA A  21      19.849  -1.987  10.122  1.00 55.72           C  \\nATOM    115  C   ALA A  21      21.181  -1.852   9.389  1.00 55.56           C  \\nATOM    116  O   ALA A  21      22.007  -2.767   9.415  1.00 52.75           O  \\nATOM    117  CB  ALA A  21      20.031  -1.692  11.609  1.00 54.59           C  \\nATOM    118  N   LYS A  22      21.238  -1.276   8.232  1.00 55.88           N  \\nATOM    119  CA  LYS A  22      22.474  -0.708   7.699  1.00 56.06           C  \\nATOM    120  C   LYS A  22      23.440  -0.344   8.823  1.00 55.66           C  \\nATOM    121  O   LYS A  22      23.026   0.176   9.861  1.00 53.03           O  \\nATOM    122  CB  LYS A  22      22.174   0.524   6.846  1.00 54.41           C  \\nATOM    123  CG  LYS A  22      22.997   0.608   5.569  1.00 52.06           C  \\nATOM    124  N   HIS A  23      24.516  -1.219   9.068  1.00 57.22           N  \\nATOM    125  CA  HIS A  23      25.740  -0.928   9.807  1.00 57.44           C  \\nATOM    126  C   HIS A  23      25.874   0.566  10.086  1.00 56.97           C  \\nATOM    127  O   HIS A  23      25.575   1.392   9.221  1.00 54.50           O  \\nATOM    128  CB  HIS A  23      26.963  -1.430   9.036  1.00 55.81           C  \\nATOM    129  CG  HIS A  23      28.096  -1.851   9.917  1.00 53.50           C  \\nATOM    130  N   HIS A  24      25.550   1.031  11.255  1.00 57.19           N  \\nATOM    131  CA  HIS A  24      25.975   2.284  11.869  1.00 57.62           C  \\nATOM    132  C   HIS A  24      26.991   3.011  10.994  1.00 57.38           C  \\nATOM    133  O   HIS A  24      27.935   2.396  10.490  1.00 54.34           O  \\nATOM    134  CB  HIS A  24      26.567   2.026  13.256  1.00 56.25           C  \\nATOM    135  CG  HIS A  24      26.370   3.159  14.213  1.00 53.91           C  \\nATOM    136  N   HIS A  25      26.596   3.831  10.150  1.00 57.12           N  \\nATOM    137  CA  HIS A  25      27.484   4.883   9.669  1.00 57.44           C  \\nATOM    138  C   HIS A  25      28.512   5.264  10.729  1.00 57.09           C  \\nATOM    139  O   HIS A  25      28.198   5.296  11.922  1.00 53.81           O  \\nATOM    140  CB  HIS A  25      26.678   6.115   9.252  1.00 55.31           C  \\nATOM    141  CG  HIS A  25      27.314   6.906   8.153  1.00 52.59           C  \\nATOM    142  N   ALA A  26      29.840   4.877  10.546  1.00 59.81           N  \\nATOM    143  CA  ALA A  26      31.060   5.410  11.147  1.00 59.56           C  \\nATOM    144  C   ALA A  26      30.786   6.726  11.871  1.00 59.56           C  \\nATOM    145  O   ALA A  26      30.008   7.554  11.392  1.00 56.75           O  \\nATOM    146  CB  ALA A  26      32.136   5.606  10.083  1.00 58.34           C  \\nATOM    147  N   ALA A  27      30.770   6.798  13.192  1.00 58.94           N  \\nATOM    148  CA  ALA A  27      30.869   7.929  14.111  1.00 59.09           C  \\nATOM    149  C   ALA A  27      31.126   9.229  13.355  1.00 59.09           C  \\nATOM    150  O   ALA A  27      31.999   9.287  12.486  1.00 56.19           O  \\nATOM    151  CB  ALA A  27      31.973   7.686  15.137  1.00 58.16           C  \\nATOM    152  N   ALA A  28      30.206   9.907  13.104  1.00 57.12           N  \\nATOM    153  CA  ALA A  28      30.315  11.316  12.736  1.00 56.97           C  \\nATOM    154  C   ALA A  28      31.294  12.048  13.650  1.00 57.22           C  \\nATOM    155  O   ALA A  28      31.369  11.761  14.847  1.00 53.28           O  \\nATOM    156  CB  ALA A  28      28.944  11.987  12.784  1.00 55.12           C  \\nATOM    157  N   GLU A  29      32.400  12.612  13.280  1.00 59.00           N  \\nATOM    158  CA  GLU A  29      33.301  13.674  13.717  1.00 58.69           C  \\nATOM    159  C   GLU A  29      32.616  14.602  14.717  1.00 58.75           C  \\nATOM    160  O   GLU A  29      31.421  14.879  14.596  1.00 55.88           O  \\nATOM    161  CB  GLU A  29      33.808  14.477  12.517  1.00 57.28           C  \\nATOM    162  CG  GLU A  29      35.124  13.967  11.947  1.00 54.78           C  \\nATOM    163  N   HIS A  30      32.994  14.549  16.041  1.00 57.19           N  \\nATOM    164  CA  HIS A  30      32.873  15.427  17.200  1.00 57.38           C  \\nATOM    165  C   HIS A  30      32.186  16.737  16.829  1.00 56.75           C  \\nATOM    166  O   HIS A  30      32.487  17.328  15.789  1.00 54.84           O  \\nATOM    167  CB  HIS A  30      34.249  15.708  17.805  1.00 55.31           C  \\nATOM    168  CG  HIS A  30      34.204  16.076  19.254  1.00 54.44           C  \\nATOM    169  N   HIS A  31      31.043  16.806  17.119  1.00 54.53           N  \\nATOM    170  CA  HIS A  31      30.113  17.922  17.252  1.00 54.69           C  \\nATOM    171  C   HIS A  31      30.856  19.252  17.319  1.00 54.84           C  \\nATOM    172  O   HIS A  31      31.864  19.371  18.020  1.00 51.91           O  \\nATOM    173  CB  HIS A  31      29.240  17.745  18.496  1.00 54.19           C  \\nATOM    174  CG  HIS A  31      27.915  18.433  18.400  1.00 51.50           C  \\nATOM    175  N   GLU A  32      30.945  20.087  16.423  1.00 58.53           N  \\nATOM    176  CA  GLU A  32      31.197  21.525  16.422  1.00 58.31           C  \\nATOM    177  C   GLU A  32      30.321  22.240  17.446  1.00 58.16           C  \\nATOM    178  O   GLU A  32      29.176  21.845  17.676  1.00 55.22           O  \\nATOM    179  CB  GLU A  32      30.962  22.111  15.028  1.00 56.19           C  \\nATOM    180  CG  GLU A  32      32.189  22.074  14.129  1.00 54.53           C  \\nATOM    181  N   LYS A  33      30.974  22.798  18.644  1.00 57.62           N  \\nATOM    182  CA  LYS A  33      30.564  23.730  19.690  1.00 57.72           C  \\nATOM    183  C   LYS A  33      29.231  24.389  19.346  1.00 57.03           C  \\nATOM    184  O   LYS A  33      28.996  24.766  18.196  1.00 54.75           O  \\nATOM    185  CB  LYS A  33      31.636  24.799  19.907  1.00 54.94           C  \\nATOM    186  CG  LYS A  33      31.746  25.282  21.346  1.00 54.31           C  \\nATOM    187  N   GLY A  34      28.241  23.995  20.015  1.00 54.06           N  \\nATOM    188  CA  GLY A  34      26.903  24.565  20.039  1.00 54.09           C  \\nATOM    189  C   GLY A  34      26.867  26.020  19.613  1.00 54.59           C  \\nATOM    190  O   GLY A  34      27.705  26.818  20.039  1.00 51.75           O  \\nATOM    191  N   GLU A  35      26.480  26.386  18.601  1.00 55.75           N  \\nATOM    192  CA  GLU A  35      25.917  27.697  18.289  1.00 55.81           C  \\nATOM    193  C   GLU A  35      24.743  28.026  19.207  1.00 55.62           C  \\nATOM    194  O   GLU A  35      23.980  27.137  19.591  1.00 53.41           O  \\nATOM    195  CB  GLU A  35      25.475  27.759  16.825  1.00 54.41           C  \\nATOM    196  CG  GLU A  35      26.550  28.268  15.878  1.00 53.19           C  \\nATOM    197  N   HIS A  36      24.993  28.947  20.319  1.00 55.03           N  \\nATOM    198  CA  HIS A  36      24.033  29.688  21.130  1.00 55.38           C  \\nATOM    199  C   HIS A  36      22.600  29.352  20.731  1.00 54.69           C  \\nATOM    200  O   HIS A  36      22.300  29.206  19.543  1.00 52.16           O  \\nATOM    201  CB  HIS A  36      24.275  31.193  21.005  1.00 52.97           C  \\nATOM    202  CG  HIS A  36      23.809  31.976  22.190  1.00 51.66           C  \\nATOM    203  N   GLU A  37      21.996  28.536  21.448  1.00 52.59           N  \\nATOM    204  CA  GLU A  37      20.560  28.273  21.478  1.00 52.59           C  \\nATOM    205  C   GLU A  37      19.782  29.376  20.766  1.00 53.12           C  \\nATOM    206  O   GLU A  37      20.019  30.562  21.003  1.00 50.16           O  \\nATOM    207  CB  GLU A  37      20.069  28.131  22.921  1.00 52.25           C  \\nATOM    208  CG  GLU A  37      20.045  26.695  23.425  1.00 49.72           C  \\nATOM    209  N   GLN A  38      19.520  29.259  19.677  1.00 53.28           N  \\nATOM    210  CA  GLN A  38      18.388  29.990  19.115  1.00 53.56           C  \\nATOM    211  C   GLN A  38      17.103  29.688  19.880  1.00 53.38           C  \\nATOM    212  O   GLN A  38      16.890  28.559  20.325  1.00 50.69           O  \\nATOM    213  CB  GLN A  38      18.211  29.648  17.635  1.00 51.84           C  \\nATOM    214  CG  GLN A  38      18.608  30.776  16.691  1.00 50.00           C  \\nATOM    215  N   ALA A  39      16.653  30.697  20.732  1.00 56.19           N  \\nATOM    216  CA  ALA A  39      15.360  30.895  21.383  1.00 56.16           C  \\nATOM    217  C   ALA A  39      14.374  29.799  20.988  1.00 56.00           C  \\nATOM    218  O   ALA A  39      14.343  29.370  19.833  1.00 52.97           O  \\nATOM    219  CB  ALA A  39      14.793  32.268  21.032  1.00 54.19           C  \\nATOM    220  N   ALA A  40      14.175  28.857  21.914  1.00 54.88           N  \\nATOM    221  CA  ALA A  40      13.032  27.946  21.890  1.00 54.53           C  \\nATOM    222  C   ALA A  40      11.985  28.406  20.880  1.00 55.12           C  \\nATOM    223  O   ALA A  40      11.619  29.583  20.849  1.00 52.53           O  \\nATOM    224  CB  ALA A  40      12.412  27.834  23.281  1.00 54.34           C  \\nATOM    225  N   HIS A  41      11.977  27.979  19.866  1.00 55.41           N  \\nATOM    226  CA  HIS A  41      10.797  28.036  19.011  1.00 55.66           C  \\nATOM    227  C   HIS A  41       9.578  27.449  19.715  1.00 55.53           C  \\nATOM    228  O   HIS A  41       9.700  26.488  20.479  1.00 52.09           O  \\nATOM    229  CB  HIS A  41      11.051  27.296  17.696  1.00 53.66           C  \\nATOM    230  CG  HIS A  41      10.255  27.824  16.546  1.00 51.03           C  \\nATOM    231  N   HIS A  42       8.567  28.290  20.144  1.00 56.44           N  \\nATOM    232  CA  HIS A  42       7.152  28.136  20.462  1.00 56.75           C  \\nATOM    233  C   HIS A  42       6.707  26.686  20.305  1.00 56.41           C  \\nATOM    234  O   HIS A  42       7.094  26.013  19.346  1.00 53.19           O  \\nATOM    235  CB  HIS A  42       6.301  29.046  19.574  1.00 54.69           C  \\nATOM    236  CG  HIS A  42       5.010  29.461  20.204  1.00 52.16           C  \\nATOM    237  N   ALA A  43       6.682  25.971  21.553  1.00 57.53           N  \\nATOM    238  CA  ALA A  43       5.924  24.731  21.702  1.00 57.53           C  \\nATOM    239  C   ALA A  43       5.029  24.486  20.491  1.00 57.53           C  \\nATOM    240  O   ALA A  43       4.380  25.410  19.993  1.00 54.69           O  \\nATOM    241  CB  ALA A  43       5.087  24.769  22.979  1.00 55.75           C  \\nATOM    242  N   ASP A  44       5.499  23.755  19.801  1.00 57.31           N  \\nATOM    243  CA  ASP A  44       4.640  23.285  18.718  1.00 56.88           C  \\nATOM    244  C   ASP A  44       3.255  22.908  19.241  1.00 57.72           C  \\nATOM    245  O   ASP A  44       3.126  22.374  20.344  1.00 52.97           O  \\nATOM    246  CB  ASP A  44       5.278  22.089  18.008  1.00 55.38           C  \\nATOM    247  CG  ASP A  44       4.717  21.859  16.615  1.00 51.03           C  \\nATOM    248  N   THR A  45       2.230  23.655  19.039  1.00 57.28           N  \\nATOM    249  CA  THR A  45       0.796  23.388  18.996  1.00 57.19           C  \\nATOM    250  C   THR A  45       0.523  21.887  19.047  1.00 57.28           C  \\nATOM    251  O   THR A  45       1.264  21.096  18.461  1.00 54.16           O  \\nATOM    252  CB  THR A  45       0.155  23.986  17.730  1.00 55.38           C  \\nATOM    253  N   ALA A  46       0.186  21.376  20.294  1.00 56.31           N  \\nATOM    254  CA  ALA A  46      -0.449  20.064  20.394  1.00 56.25           C  \\nATOM    255  C   ALA A  46      -0.483  19.367  19.036  1.00 56.25           C  \\nATOM    256  O   ALA A  46      -0.729  20.004  18.010  1.00 53.91           O  \\nATOM    257  CB  ALA A  46      -1.862  20.198  20.955  1.00 55.53           C  \\nATOM    258  N   TYR A  47       0.423  18.494  18.738  1.00 54.94           N  \\nATOM    259  CA  TYR A  47       0.164  17.537  17.668  1.00 54.78           C  \\nATOM    260  C   TYR A  47      -1.267  17.664  17.157  1.00 55.19           C  \\nATOM    261  O   TYR A  47      -2.203  17.813  17.946  1.00 52.09           O  \\nATOM    262  CB  TYR A  47       0.419  16.107  18.153  1.00 54.06           C  \\nATOM    263  CG  TYR A  47       1.106  15.233  17.131  1.00 51.28           C  \\nATOM    264  N   ALA A  48      -1.511  18.572  16.222  1.00 54.84           N  \\nATOM    265  CA  ALA A  48      -2.748  18.279  15.501  1.00 54.25           C  \\nATOM    266  C   ALA A  48      -3.223  16.856  15.783  1.00 54.88           C  \\nATOM    267  O   ALA A  48      -2.410  15.939  15.918  1.00 51.84           O  \\nATOM    268  CB  ALA A  48      -2.550  18.482  14.001  1.00 53.19           C  \\nATOM    269  N   HIS A  49      -4.124  16.615  16.775  1.00 52.69           N  \\nATOM    270  CA  HIS A  49      -4.820  15.336  16.680  1.00 52.69           C  \\nATOM    271  C   HIS A  49      -4.239  14.475  15.563  1.00 52.78           C  \\nATOM    272  O   HIS A  49      -3.911  14.984  14.488  1.00 51.12           O  \\nATOM    273  CB  HIS A  49      -6.316  15.556  16.451  1.00 51.81           C  \\nATOM    274  CG  HIS A  49      -7.181  14.522  17.101  1.00 50.78           C  \\nATOM    275  N   HIS A  50      -3.235  13.592  15.826  1.00 51.91           N  \\nATOM    276  CA  HIS A  50      -3.042  12.539  14.835  1.00 51.66           C  \\nATOM    277  C   HIS A  50      -3.927  12.763  13.614  1.00 52.16           C  \\nATOM    278  O   HIS A  50      -5.099  13.126  13.749  1.00 49.88           O  \\nATOM    279  CB  HIS A  50      -3.331  11.167  15.448  1.00 51.22           C  \\nATOM    280  CG  HIS A  50      -2.427  10.085  14.949  1.00 49.16           C  \\nATOM    281  N   LYS A  51      -3.488  13.589  12.700  1.00 51.38           N  \\nATOM    282  CA  LYS A  51      -4.245  13.353  11.473  1.00 50.88           C  \\nATOM    283  C   LYS A  51      -5.033  12.049  11.556  1.00 51.56           C  \\nATOM    284  O   LYS A  51      -4.526  11.041  12.054  1.00 49.19           O  \\nATOM    285  CB  LYS A  51      -3.310  13.324  10.263  1.00 50.06           C  \\nATOM    286  CG  LYS A  51      -3.871  14.020   9.031  1.00 48.31           C  \\nATOM    287  N   HIS A  52      -6.343  12.068  12.128  1.00 51.06           N  \\nATOM    288  CA  HIS A  52      -7.180  10.917  11.811  1.00 50.69           C  \\nATOM    289  C   HIS A  52      -6.421   9.899  10.966  1.00 51.12           C  \\nATOM    290  O   HIS A  52      -5.668  10.274  10.064  1.00 49.47           O  \\nATOM    291  CB  HIS A  52      -8.449  11.362  11.081  1.00 49.88           C  \\nATOM    292  CG  HIS A  52      -9.631  10.482  11.340  1.00 48.88           C  \\nATOM    293  N   ALA A  53      -5.698   8.996  11.566  1.00 51.12           N  \\nATOM    294  CA  ALA A  53      -5.381   7.859  10.705  1.00 50.62           C  \\nATOM    295  C   ALA A  53      -5.880   8.093   9.282  1.00 51.31           C  \\nATOM    296  O   ALA A  53      -6.987   8.598   9.081  1.00 49.12           O  \\nATOM    297  CB  ALA A  53      -5.985   6.577  11.273  1.00 50.25           C  \\nATOM    298  N   GLU A  54      -5.156   8.666   8.367  1.00 49.88           N  \\nATOM    299  CA  GLU A  54      -5.627   8.432   7.005  1.00 49.75           C  \\nATOM    300  C   GLU A  54      -6.590   7.249   6.950  1.00 50.09           C  \\nATOM    301  O   GLU A  54      -6.386   6.244   7.633  1.00 47.81           O  \\nATOM    302  CB  GLU A  54      -4.445   8.193   6.062  1.00 48.72           C  \\nATOM    303  CG  GLU A  54      -3.919   9.459   5.401  1.00 47.03           C  \\nATOM    304  N   GLU A  55      -7.907   7.453   7.026  1.00 48.97           N  \\nATOM    305  CA  GLU A  55      -8.860   6.435   6.592  1.00 48.38           C  \\nATOM    306  C   GLU A  55      -8.144   5.235   5.978  1.00 49.03           C  \\nATOM    307  O   GLU A  55      -7.168   5.398   5.242  1.00 46.72           O  \\nATOM    308  CB  GLU A  55      -9.856   7.023   5.589  1.00 47.44           C  \\nATOM    309  CG  GLU A  55     -11.157   7.497   6.220  1.00 45.81           C  \\nATOM    310  N   HIS A  56      -7.771   4.249   6.711  1.00 48.47           N  \\nATOM    311  CA  HIS A  56      -7.550   2.945   6.096  1.00 48.38           C  \\nATOM    312  C   HIS A  56      -7.673   3.024   4.578  1.00 48.62           C  \\nATOM    313  O   HIS A  56      -8.596   3.655   4.058  1.00 46.72           O  \\nATOM    314  CB  HIS A  56      -8.537   1.917   6.651  1.00 47.53           C  \\nATOM    315  CG  HIS A  56      -8.006   0.519   6.661  1.00 46.03           C  \\nATOM    316  N   ALA A  57      -6.772   3.445   3.861  1.00 49.31           N  \\nATOM    317  CA  ALA A  57      -6.828   3.077   2.449  1.00 49.34           C  \\nATOM    318  C   ALA A  57      -7.757   1.886   2.229  1.00 49.31           C  \\nATOM    319  O   ALA A  57      -7.770   0.946   3.026  1.00 47.25           O  \\nATOM    320  CB  ALA A  57      -5.429   2.760   1.926  1.00 48.00           C  \\nATOM    321  N   ALA A  58      -8.983   1.981   2.130  1.00 48.31           N  \\nATOM    322  CA  ALA A  58      -9.943   1.090   1.483  1.00 48.09           C  \\nATOM    323  C   ALA A  58      -9.255  -0.164   0.951  1.00 48.12           C  \\nATOM    324  O   ALA A  58      -8.124  -0.100   0.464  1.00 45.97           O  \\nATOM    325  CB  ALA A  58     -10.665   1.818   0.352  1.00 46.53           C  \\nATOM    326  N   GLN A  59      -9.259  -1.220   1.581  1.00 48.66           N  \\nATOM    327  CA  GLN A  59      -9.159  -2.598   1.111  1.00 48.72           C  \\nATOM    328  C   GLN A  59      -8.859  -2.647  -0.385  1.00 48.91           C  \\nATOM    329  O   GLN A  59      -9.481  -1.932  -1.172  1.00 46.72           O  \\nATOM    330  CB  GLN A  59     -10.447  -3.365   1.414  1.00 47.97           C  \\nATOM    331  CG  GLN A  59     -10.317  -4.355   2.563  1.00 46.16           C  \\nATOM    332  N   ALA A  60      -7.770  -2.569  -0.843  1.00 50.59           N  \\nATOM    333  CA  ALA A  60      -7.485  -3.036  -2.198  1.00 50.62           C  \\nATOM    334  C   ALA A  60      -8.433  -4.162  -2.601  1.00 50.50           C  \\nATOM    335  O   ALA A  60      -8.770  -5.021  -1.783  1.00 48.28           O  \\nATOM    336  CB  ALA A  60      -6.035  -3.501  -2.305  1.00 49.22           C  \\nATOM    337  N   ALA A  61      -9.452  -3.923  -3.191  1.00 51.03           N  \\nATOM    338  CA  ALA A  61     -10.348  -4.729  -4.017  1.00 51.03           C  \\nATOM    339  C   ALA A  61      -9.856  -6.170  -4.114  1.00 50.84           C  \\nATOM    340  O   ALA A  61      -8.651  -6.416  -4.207  1.00 48.69           O  \\nATOM    341  CB  ALA A  61     -10.480  -4.120  -5.410  1.00 49.59           C  \\nATOM    342  N   LYS A  62     -10.290  -7.146  -3.371  1.00 52.00           N  \\nATOM    343  CA  LYS A  62     -10.385  -8.572  -3.670  1.00 52.28           C  \\nATOM    344  C   LYS A  62      -9.742  -8.896  -5.016  1.00 52.06           C  \\nATOM    345  O   LYS A  62      -9.935  -8.168  -5.993  1.00 50.16           O  \\nATOM    346  CB  LYS A  62     -11.845  -9.026  -3.664  1.00 51.28           C  \\nATOM    347  CG  LYS A  62     -12.064 -10.399  -3.044  1.00 50.06           C  \\nATOM    348  N   HIS A  63      -8.440  -9.394  -5.093  1.00 55.47           N  \\nATOM    349  CA  HIS A  63      -7.856 -10.131  -6.208  1.00 55.22           C  \\nATOM    350  C   HIS A  63      -8.939 -10.731  -7.099  1.00 55.38           C  \\nATOM    351  O   HIS A  63      -9.980 -11.175  -6.605  1.00 52.16           O  \\nATOM    352  CB  HIS A  63      -6.929 -11.233  -5.694  1.00 53.75           C  \\nATOM    353  CG  HIS A  63      -5.750 -11.488  -6.580  1.00 51.47           C  \\nATOM    354  N   ASP A  64      -9.151 -10.124  -8.222  1.00 56.16           N  \\nATOM    355  CA  ASP A  64      -9.914 -10.673  -9.339  1.00 55.75           C  \\nATOM    356  C   ASP A  64     -10.280 -12.135  -9.089  1.00 56.16           C  \\nATOM    357  O   ASP A  64      -9.477 -12.897  -8.547  1.00 52.88           O  \\nATOM    358  CB  ASP A  64      -9.125 -10.544 -10.643  1.00 54.59           C  \\nATOM    359  CG  ASP A  64      -9.993 -10.704 -11.879  1.00 51.75           C  \\nATOM    360  N   ALA A  65     -11.513 -12.396  -8.606  1.00 56.75           N  \\nATOM    361  CA  ALA A  65     -12.173 -13.693  -8.736  1.00 56.31           C  \\nATOM    362  C   ALA A  65     -11.335 -14.653  -9.577  1.00 56.78           C  \\nATOM    363  O   ALA A  65     -10.742 -14.253 -10.581  1.00 54.09           O  \\nATOM    364  CB  ALA A  65     -13.560 -13.525  -9.350  1.00 55.81           C  \\nATOM    365  N   GLU A  66     -10.636 -15.691  -8.990  1.00 58.94           N  \\nATOM    366  CA  GLU A  66     -10.232 -16.929  -9.650  1.00 58.50           C  \\nATOM    367  C   GLU A  66     -10.865 -17.048 -11.034  1.00 59.00           C  \\nATOM    368  O   GLU A  66     -12.044 -16.736 -11.213  1.00 55.31           O  \\nATOM    369  CB  GLU A  66     -10.607 -18.141  -8.794  1.00 57.81           C  \\nATOM    370  CG  GLU A  66      -9.514 -18.574  -7.828  1.00 54.09           C  \\nATOM    371  N   HIS A  67     -10.113 -16.709 -12.050  1.00 59.09           N  \\nATOM    372  CA  HIS A  67     -10.457 -17.199 -13.380  1.00 58.88           C  \\nATOM    373  C   HIS A  67     -11.475 -18.333 -13.303  1.00 58.94           C  \\nATOM    374  O   HIS A  67     -11.380 -19.199 -12.429  1.00 56.09           O  \\nATOM    375  CB  HIS A  67      -9.203 -17.669 -14.119  1.00 57.72           C  \\nATOM    376  CG  HIS A  67      -9.266 -17.465 -15.598  1.00 54.97           C  \\nATOM    377  N   HIS A  68     -12.777 -17.949 -13.428  1.00 58.50           N  \\nATOM    378  CA  HIS A  68     -13.794 -18.899 -13.864  1.00 58.06           C  \\nATOM    379  C   HIS A  68     -13.185 -20.269 -14.145  1.00 58.50           C  \\nATOM    380  O   HIS A  68     -12.141 -20.367 -14.795  1.00 55.47           O  \\nATOM    381  CB  HIS A  68     -14.514 -18.379 -15.110  1.00 57.75           C  \\nATOM    382  CG  HIS A  68     -15.930 -18.845 -15.224  1.00 54.41           C  \\nATOM    383  N   ALA A  69     -13.207 -21.170 -13.237  1.00 60.69           N  \\nATOM    384  CA  ALA A  69     -13.167 -22.566 -13.665  1.00 60.34           C  \\nATOM    385  C   ALA A  69     -13.417 -22.687 -15.166  1.00 60.84           C  \\nATOM    386  O   ALA A  69     -14.284 -22.004 -15.714  1.00 56.97           O  \\nATOM    387  CB  ALA A  69     -14.194 -23.389 -12.890  1.00 60.16           C  \\nATOM    388  N   PRO A  70     -12.336 -22.961 -15.965  1.00 60.25           N  \\nATOM    389  CA  PRO A  70     -12.625 -23.581 -17.260  1.00 59.56           C  \\nATOM    390  C   PRO A  70     -13.959 -24.324 -17.274  1.00 60.41           C  \\nATOM    391  O   PRO A  70     -14.311 -24.987 -16.294  1.00 56.78           O  \\nATOM    392  CB  PRO A  70     -11.457 -24.551 -17.454  1.00 59.47           C  \\nATOM    393  CG  PRO A  70     -10.585 -24.343 -16.258  1.00 55.12           C  \\nATOM    394  N   LYS A  71     -15.040 -23.715 -17.824  1.00 59.62           N  \\nATOM    395  CA  LYS A  71     -16.185 -24.382 -18.437  1.00 58.94           C  \\nATOM    396  C   LYS A  71     -15.980 -25.894 -18.485  1.00 59.47           C  \\nATOM    397  O   LYS A  71     -14.915 -26.369 -18.882  1.00 55.56           O  \\nATOM    398  CB  LYS A  71     -16.431 -23.842 -19.846  1.00 58.41           C  \\nATOM    399  CG  LYS A  71     -17.899 -23.629 -20.181  1.00 53.72           C  \\nATOM    400  N   PRO A  72     -16.539 -26.640 -17.619  1.00 58.44           N  \\nATOM    401  CA  PRO A  72     -16.877 -28.020 -17.975  1.00 58.44           C  \\nATOM    402  C   PRO A  72     -16.826 -28.271 -19.480  1.00 58.44           C  \\nATOM    403  O   PRO A  72     -17.401 -27.504 -20.257  1.00 54.19           O  \\nATOM    404  CB  PRO A  72     -18.302 -28.183 -17.442  1.00 59.28           C  \\nATOM    405  CG  PRO A  72     -18.620 -26.872 -16.795  1.00 52.44           C  \\nATOM    406  N   HIS A  73     -15.793 -29.064 -19.955  1.00 49.44           N  \\nATOM    407  CA  HIS A  73     -16.295 -29.932 -21.015  1.00 54.78           C  \\nATOM    408  C   HIS A  73     -17.154 -31.057 -20.446  1.00 48.34           C  \\nATOM    409  O   HIS A  73     -16.856 -31.590 -19.374  1.00 47.59           O  \\nATOM    410  CB  HIS A  73     -15.136 -30.514 -21.825  1.00 47.81           C  \\nATOM    411  CG  HIS A  73     -15.491 -30.826 -23.243  1.00 48.16           C  \\nTER     412      HIS A  73\\nEND\\n\");\n\tviewer_16876372892133195.setStyle({\"model\": -1},{\"cartoon\": {\"colorscheme\": {\"prop\": \"b\", \"map\": {\"0\": \"#FF7D45\", \"1\": \"#FFDB13\", \"2\": \"#65CBF3\", \"3\": \"#0053D6\"}}}, \"stick\": {}});\n\tviewer_16876372892133195.zoomTo();\nviewer_16876372892133195.render();\n});\n</script>",
      "text/html": [
       "<div id=\"3dmolviewer_16876372892133195\"  style=\"position: relative; width: 800px; height: 600px;\">\n",
       "        <p id=\"3dmolwarning_16876372892133195\" style=\"background-color:#ffcccc;color:black\">You appear to be running in JupyterLab (or JavaScript failed to load for some other reason).  You need to install the 3dmol extension: <br>\n",
       "        <tt>jupyter labextension install jupyterlab_3dmol</tt></p>\n",
       "        </div>\n",
       "<script>\n",
       "\n",
       "var loadScriptAsync = function(uri){\n",
       "  return new Promise((resolve, reject) => {\n",
       "    //this is to ignore the existence of requirejs amd\n",
       "    var savedexports, savedmodule;\n",
       "    if (typeof exports !== 'undefined') savedexports = exports;\n",
       "    else exports = {}\n",
       "    if (typeof module !== 'undefined') savedmodule = module;\n",
       "    else module = {}\n",
       "\n",
       "    var tag = document.createElement('script');\n",
       "    tag.src = uri;\n",
       "    tag.async = true;\n",
       "    tag.onload = () => {\n",
       "        exports = savedexports;\n",
       "        module = savedmodule;\n",
       "        resolve();\n",
       "    };\n",
       "  var firstScriptTag = document.getElementsByTagName('script')[0];\n",
       "  firstScriptTag.parentNode.insertBefore(tag, firstScriptTag);\n",
       "});\n",
       "};\n",
       "\n",
       "if(typeof $3Dmolpromise === 'undefined') {\n",
       "$3Dmolpromise = null;\n",
       "  $3Dmolpromise = loadScriptAsync('https://cdnjs.cloudflare.com/ajax/libs/3Dmol/2.0.3/3Dmol-min.js');\n",
       "}\n",
       "\n",
       "var viewer_16876372892133195 = null;\n",
       "var warn = document.getElementById(\"3dmolwarning_16876372892133195\");\n",
       "if(warn) {\n",
       "    warn.parentNode.removeChild(warn);\n",
       "}\n",
       "$3Dmolpromise.then(function() {\n",
       "viewer_16876372892133195 = $3Dmol.createViewer(document.getElementById(\"3dmolviewer_16876372892133195\"),{backgroundColor:\"white\"});\n",
       "viewer_16876372892133195.zoomTo();\n",
       "\tviewer_16876372892133195.addModelsAsFrames(\"PARENT N/A\\nATOM      1  N   MET A   1     -13.360 -37.539 -11.923  1.00 48.00           N  \\nATOM      2  CA  MET A   1     -12.319 -37.371 -10.913  1.00 53.72           C  \\nATOM      3  C   MET A   1     -12.034 -35.893 -10.665  1.00 50.53           C  \\nATOM      4  O   MET A   1     -11.690 -35.159 -11.593  1.00 45.59           O  \\nATOM      5  CB  MET A   1     -11.036 -38.086 -11.338  1.00 48.97           C  \\nATOM      6  CG  MET A   1     -10.837 -39.437 -10.671  1.00 45.69           C  \\nATOM      7  N   ALA A   2     -12.852 -35.238  -9.747  1.00 61.12           N  \\nATOM      8  CA  ALA A   2     -12.852 -33.848  -9.298  1.00 62.69           C  \\nATOM      9  C   ALA A   2     -11.511 -33.474  -8.672  1.00 61.88           C  \\nATOM     10  O   ALA A   2     -10.972 -34.220  -7.853  1.00 54.78           O  \\nATOM     11  CB  ALA A   2     -13.985 -33.611  -8.302  1.00 58.34           C  \\nATOM     12  N   ALA A   3     -10.586 -32.668  -9.402  1.00 65.06           N  \\nATOM     13  CA  ALA A   3      -9.369 -32.003  -8.942  1.00 66.75           C  \\nATOM     14  C   ALA A   3      -9.551 -31.437  -7.536  1.00 65.75           C  \\nATOM     15  O   ALA A   3     -10.581 -30.833  -7.232  1.00 59.66           O  \\nATOM     16  CB  ALA A   3      -8.970 -30.893  -9.911  1.00 62.56           C  \\nATOM     17  N   HIS A   4      -9.000 -32.096  -6.516  1.00 63.19           N  \\nATOM     18  CA  HIS A   4      -8.710 -31.614  -5.170  1.00 64.00           C  \\nATOM     19  C   HIS A   4      -8.500 -30.104  -5.159  1.00 63.22           C  \\nATOM     20  O   HIS A   4      -7.831 -29.559  -6.041  1.00 58.53           O  \\nATOM     21  CB  HIS A   4      -7.477 -32.320  -4.603  1.00 60.34           C  \\nATOM     22  CG  HIS A   4      -7.463 -32.397  -3.109  1.00 55.47           C  \\nATOM     23  N   LYS A   5      -9.561 -29.236  -4.645  1.00 61.56           N  \\nATOM     24  CA  LYS A   5      -9.381 -27.850  -4.221  1.00 61.91           C  \\nATOM     25  C   LYS A   5      -7.925 -27.571  -3.859  1.00 61.78           C  \\nATOM     26  O   LYS A   5      -7.293 -28.358  -3.153  1.00 57.38           O  \\nATOM     27  CB  LYS A   5     -10.287 -27.530  -3.031  1.00 59.97           C  \\nATOM     28  CG  LYS A   5     -10.731 -26.076  -2.965  1.00 54.53           C  \\nATOM     29  N   GLY A   6      -7.182 -26.905  -4.736  1.00 61.81           N  \\nATOM     30  CA  GLY A   6      -5.941 -26.252  -4.351  1.00 62.25           C  \\nATOM     31  C   GLY A   6      -5.915 -25.833  -2.894  1.00 62.44           C  \\nATOM     32  O   GLY A   6      -6.911 -25.333  -2.368  1.00 57.62           O  \\nATOM     33  N   ALA A   7      -5.266 -26.558  -2.071  1.00 60.59           N  \\nATOM     34  CA  ALA A   7      -4.799 -26.184  -0.739  1.00 60.44           C  \\nATOM     35  C   ALA A   7      -4.702 -24.667  -0.597  1.00 60.75           C  \\nATOM     36  O   ALA A   7      -4.285 -23.976  -1.528  1.00 56.41           O  \\nATOM     37  CB  ALA A   7      -3.446 -26.829  -0.448  1.00 58.31           C  \\nATOM     38  N   GLU A   8      -5.586 -23.951   0.212  1.00 57.81           N  \\nATOM     39  CA  GLU A   8      -5.385 -22.615   0.767  1.00 57.31           C  \\nATOM     40  C   GLU A   8      -3.925 -22.186   0.658  1.00 58.06           C  \\nATOM     41  O   GLU A   8      -3.018 -22.980   0.912  1.00 53.97           O  \\nATOM     42  CB  GLU A   8      -5.839 -22.567   2.228  1.00 56.78           C  \\nATOM     43  CG  GLU A   8      -7.304 -22.194   2.406  1.00 51.81           C  \\nATOM     44  N   HIS A   9      -3.589 -21.394  -0.188  1.00 57.12           N  \\nATOM     45  CA  HIS A   9      -2.350 -20.624  -0.144  1.00 57.53           C  \\nATOM     46  C   HIS A   9      -1.759 -20.611   1.262  1.00 57.66           C  \\nATOM     47  O   HIS A   9      -2.490 -20.467   2.245  1.00 53.22           O  \\nATOM     48  CB  HIS A   9      -2.592 -19.192  -0.626  1.00 56.19           C  \\nATOM     49  CG  HIS A   9      -1.386 -18.555  -1.242  1.00 51.56           C  \\nATOM     50  N   HIS A  10      -0.757 -21.466   1.536  1.00 53.66           N  \\nATOM     51  CA  HIS A  10       0.187 -21.377   2.645  1.00 53.66           C  \\nATOM     52  C   HIS A  10       0.210 -19.972   3.237  1.00 53.66           C  \\nATOM     53  O   HIS A  10       0.131 -18.983   2.504  1.00 49.84           O  \\nATOM     54  CB  HIS A  10       1.590 -21.778   2.187  1.00 51.66           C  \\nATOM     55  CG  HIS A  10       2.410 -22.424   3.259  1.00 48.53           C  \\nATOM     56  N   HIS A  11      -0.413 -19.696   4.423  1.00 51.06           N  \\nATOM     57  CA  HIS A  11      -0.066 -18.568   5.281  1.00 51.31           C  \\nATOM     58  C   HIS A  11       1.146 -17.817   4.739  1.00 51.03           C  \\nATOM     59  O   HIS A  11       2.102 -18.433   4.263  1.00 48.28           O  \\nATOM     60  CB  HIS A  11       0.207 -19.045   6.708  1.00 49.62           C  \\nATOM     61  CG  HIS A  11      -0.174 -18.048   7.757  1.00 47.19           C  \\nATOM     62  N   LYS A  12       1.001 -16.796   4.087  1.00 51.75           N  \\nATOM     63  CA  LYS A  12       1.968 -15.725   3.863  1.00 52.00           C  \\nATOM     64  C   LYS A  12       3.192 -15.893   4.760  1.00 52.00           C  \\nATOM     65  O   LYS A  12       3.061 -16.192   5.948  1.00 48.22           O  \\nATOM     66  CB  LYS A  12       1.324 -14.360   4.106  1.00 50.69           C  \\nATOM     67  CG  LYS A  12       1.750 -13.288   3.114  1.00 46.78           C  \\nATOM     68  N   ALA A  13       4.188 -16.470   4.274  1.00 50.09           N  \\nATOM     69  CA  ALA A  13       5.503 -16.348   4.898  1.00 49.97           C  \\nATOM     70  C   ALA A  13       5.634 -15.024   5.647  1.00 50.16           C  \\nATOM     71  O   ALA A  13       5.137 -13.993   5.189  1.00 47.09           O  \\nATOM     72  CB  ALA A  13       6.604 -16.472   3.847  1.00 48.50           C  \\nATOM     73  N   ALA A  14       5.521 -14.946   6.896  1.00 49.38           N  \\nATOM     74  CA  ALA A  14       6.085 -13.930   7.781  1.00 49.41           C  \\nATOM     75  C   ALA A  14       6.957 -12.948   7.004  1.00 49.25           C  \\nATOM     76  O   ALA A  14       7.686 -13.342   6.092  1.00 46.72           O  \\nATOM     77  CB  ALA A  14       6.893 -14.587   8.897  1.00 47.84           C  \\nATOM     78  N   GLU A  15       6.599 -11.831   6.672  1.00 50.25           N  \\nATOM     79  CA  GLU A  15       7.397 -10.636   6.411  1.00 50.72           C  \\nATOM     80  C   GLU A  15       8.876 -10.889   6.688  1.00 50.16           C  \\nATOM     81  O   GLU A  15       9.228 -11.509   7.693  1.00 46.94           O  \\nATOM     82  CB  GLU A  15       6.897  -9.461   7.254  1.00 48.94           C  \\nATOM     83  CG  GLU A  15       5.814  -8.634   6.577  1.00 45.59           C  \\nATOM     84  N   HIS A  16       9.583 -11.364   5.860  1.00 48.06           N  \\nATOM     85  CA  HIS A  16      11.034 -11.266   5.976  1.00 49.09           C  \\nATOM     86  C   HIS A  16      11.435 -10.143   6.928  1.00 48.00           C  \\nATOM     87  O   HIS A  16      10.811  -9.080   6.938  1.00 45.91           O  \\nATOM     88  CB  HIS A  16      11.668 -11.042   4.603  1.00 46.84           C  \\nATOM     89  CG  HIS A  16      13.079 -11.529   4.506  1.00 45.47           C  \\nATOM     90  N   HIS A  17      11.689 -10.354   8.082  1.00 48.94           N  \\nATOM     91  CA  HIS A  17      12.543  -9.626   9.014  1.00 49.50           C  \\nATOM     92  C   HIS A  17      13.149  -8.391   8.356  1.00 48.94           C  \\nATOM     93  O   HIS A  17      13.548  -8.436   7.189  1.00 46.66           O  \\nATOM     94  CB  HIS A  17      13.652 -10.535   9.547  1.00 47.94           C  \\nATOM     95  CG  HIS A  17      14.151 -10.142  10.901  1.00 45.81           C  \\nATOM     96  N   GLU A  18      12.719  -7.313   8.491  1.00 52.28           N  \\nATOM     97  CA  GLU A  18      13.419  -6.036   8.393  1.00 52.69           C  \\nATOM     98  C   GLU A  18      14.900  -6.240   8.087  1.00 52.41           C  \\nATOM     99  O   GLU A  18      15.539  -7.130   8.652  1.00 49.31           O  \\nATOM    100  CB  GLU A  18      13.254  -5.232   9.686  1.00 51.31           C  \\nATOM    101  CG  GLU A  18      12.022  -4.341   9.703  1.00 48.31           C  \\nATOM    102  N   GLN A  19      15.331  -6.140   6.892  1.00 53.12           N  \\nATOM    103  CA  GLN A  19      16.734  -5.932   6.549  1.00 53.41           C  \\nATOM    104  C   GLN A  19      17.497  -5.306   7.714  1.00 53.06           C  \\nATOM    105  O   GLN A  19      16.982  -4.416   8.394  1.00 50.19           O  \\nATOM    106  CB  GLN A  19      16.859  -5.051   5.306  1.00 51.72           C  \\nATOM    107  CG  GLN A  19      17.249  -5.814   4.047  1.00 49.19           C  \\nATOM    108  N   ALA A  20      18.311  -6.086   8.478  1.00 54.84           N  \\nATOM    109  CA  ALA A  20      19.372  -5.645   9.381  1.00 54.75           C  \\nATOM    110  C   ALA A  20      19.743  -4.188   9.120  1.00 54.75           C  \\nATOM    111  O   ALA A  20      19.823  -3.757   7.968  1.00 52.16           O  \\nATOM    112  CB  ALA A  20      20.601  -6.538   9.234  1.00 53.50           C  \\nATOM    113  N   ALA A  21      19.279  -3.319   9.933  1.00 55.41           N  \\nATOM    114  CA  ALA A  21      19.849  -1.987  10.122  1.00 55.72           C  \\nATOM    115  C   ALA A  21      21.181  -1.852   9.389  1.00 55.56           C  \\nATOM    116  O   ALA A  21      22.007  -2.767   9.415  1.00 52.75           O  \\nATOM    117  CB  ALA A  21      20.031  -1.692  11.609  1.00 54.59           C  \\nATOM    118  N   LYS A  22      21.238  -1.276   8.232  1.00 55.88           N  \\nATOM    119  CA  LYS A  22      22.474  -0.708   7.699  1.00 56.06           C  \\nATOM    120  C   LYS A  22      23.440  -0.344   8.823  1.00 55.66           C  \\nATOM    121  O   LYS A  22      23.026   0.176   9.861  1.00 53.03           O  \\nATOM    122  CB  LYS A  22      22.174   0.524   6.846  1.00 54.41           C  \\nATOM    123  CG  LYS A  22      22.997   0.608   5.569  1.00 52.06           C  \\nATOM    124  N   HIS A  23      24.516  -1.219   9.068  1.00 57.22           N  \\nATOM    125  CA  HIS A  23      25.740  -0.928   9.807  1.00 57.44           C  \\nATOM    126  C   HIS A  23      25.874   0.566  10.086  1.00 56.97           C  \\nATOM    127  O   HIS A  23      25.575   1.392   9.221  1.00 54.50           O  \\nATOM    128  CB  HIS A  23      26.963  -1.430   9.036  1.00 55.81           C  \\nATOM    129  CG  HIS A  23      28.096  -1.851   9.917  1.00 53.50           C  \\nATOM    130  N   HIS A  24      25.550   1.031  11.255  1.00 57.19           N  \\nATOM    131  CA  HIS A  24      25.975   2.284  11.869  1.00 57.62           C  \\nATOM    132  C   HIS A  24      26.991   3.011  10.994  1.00 57.38           C  \\nATOM    133  O   HIS A  24      27.935   2.396  10.490  1.00 54.34           O  \\nATOM    134  CB  HIS A  24      26.567   2.026  13.256  1.00 56.25           C  \\nATOM    135  CG  HIS A  24      26.370   3.159  14.213  1.00 53.91           C  \\nATOM    136  N   HIS A  25      26.596   3.831  10.150  1.00 57.12           N  \\nATOM    137  CA  HIS A  25      27.484   4.883   9.669  1.00 57.44           C  \\nATOM    138  C   HIS A  25      28.512   5.264  10.729  1.00 57.09           C  \\nATOM    139  O   HIS A  25      28.198   5.296  11.922  1.00 53.81           O  \\nATOM    140  CB  HIS A  25      26.678   6.115   9.252  1.00 55.31           C  \\nATOM    141  CG  HIS A  25      27.314   6.906   8.153  1.00 52.59           C  \\nATOM    142  N   ALA A  26      29.840   4.877  10.546  1.00 59.81           N  \\nATOM    143  CA  ALA A  26      31.060   5.410  11.147  1.00 59.56           C  \\nATOM    144  C   ALA A  26      30.786   6.726  11.871  1.00 59.56           C  \\nATOM    145  O   ALA A  26      30.008   7.554  11.392  1.00 56.75           O  \\nATOM    146  CB  ALA A  26      32.136   5.606  10.083  1.00 58.34           C  \\nATOM    147  N   ALA A  27      30.770   6.798  13.192  1.00 58.94           N  \\nATOM    148  CA  ALA A  27      30.869   7.929  14.111  1.00 59.09           C  \\nATOM    149  C   ALA A  27      31.126   9.229  13.355  1.00 59.09           C  \\nATOM    150  O   ALA A  27      31.999   9.287  12.486  1.00 56.19           O  \\nATOM    151  CB  ALA A  27      31.973   7.686  15.137  1.00 58.16           C  \\nATOM    152  N   ALA A  28      30.206   9.907  13.104  1.00 57.12           N  \\nATOM    153  CA  ALA A  28      30.315  11.316  12.736  1.00 56.97           C  \\nATOM    154  C   ALA A  28      31.294  12.048  13.650  1.00 57.22           C  \\nATOM    155  O   ALA A  28      31.369  11.761  14.847  1.00 53.28           O  \\nATOM    156  CB  ALA A  28      28.944  11.987  12.784  1.00 55.12           C  \\nATOM    157  N   GLU A  29      32.400  12.612  13.280  1.00 59.00           N  \\nATOM    158  CA  GLU A  29      33.301  13.674  13.717  1.00 58.69           C  \\nATOM    159  C   GLU A  29      32.616  14.602  14.717  1.00 58.75           C  \\nATOM    160  O   GLU A  29      31.421  14.879  14.596  1.00 55.88           O  \\nATOM    161  CB  GLU A  29      33.808  14.477  12.517  1.00 57.28           C  \\nATOM    162  CG  GLU A  29      35.124  13.967  11.947  1.00 54.78           C  \\nATOM    163  N   HIS A  30      32.994  14.549  16.041  1.00 57.19           N  \\nATOM    164  CA  HIS A  30      32.873  15.427  17.200  1.00 57.38           C  \\nATOM    165  C   HIS A  30      32.186  16.737  16.829  1.00 56.75           C  \\nATOM    166  O   HIS A  30      32.487  17.328  15.789  1.00 54.84           O  \\nATOM    167  CB  HIS A  30      34.249  15.708  17.805  1.00 55.31           C  \\nATOM    168  CG  HIS A  30      34.204  16.076  19.254  1.00 54.44           C  \\nATOM    169  N   HIS A  31      31.043  16.806  17.119  1.00 54.53           N  \\nATOM    170  CA  HIS A  31      30.113  17.922  17.252  1.00 54.69           C  \\nATOM    171  C   HIS A  31      30.856  19.252  17.319  1.00 54.84           C  \\nATOM    172  O   HIS A  31      31.864  19.371  18.020  1.00 51.91           O  \\nATOM    173  CB  HIS A  31      29.240  17.745  18.496  1.00 54.19           C  \\nATOM    174  CG  HIS A  31      27.915  18.433  18.400  1.00 51.50           C  \\nATOM    175  N   GLU A  32      30.945  20.087  16.423  1.00 58.53           N  \\nATOM    176  CA  GLU A  32      31.197  21.525  16.422  1.00 58.31           C  \\nATOM    177  C   GLU A  32      30.321  22.240  17.446  1.00 58.16           C  \\nATOM    178  O   GLU A  32      29.176  21.845  17.676  1.00 55.22           O  \\nATOM    179  CB  GLU A  32      30.962  22.111  15.028  1.00 56.19           C  \\nATOM    180  CG  GLU A  32      32.189  22.074  14.129  1.00 54.53           C  \\nATOM    181  N   LYS A  33      30.974  22.798  18.644  1.00 57.62           N  \\nATOM    182  CA  LYS A  33      30.564  23.730  19.690  1.00 57.72           C  \\nATOM    183  C   LYS A  33      29.231  24.389  19.346  1.00 57.03           C  \\nATOM    184  O   LYS A  33      28.996  24.766  18.196  1.00 54.75           O  \\nATOM    185  CB  LYS A  33      31.636  24.799  19.907  1.00 54.94           C  \\nATOM    186  CG  LYS A  33      31.746  25.282  21.346  1.00 54.31           C  \\nATOM    187  N   GLY A  34      28.241  23.995  20.015  1.00 54.06           N  \\nATOM    188  CA  GLY A  34      26.903  24.565  20.039  1.00 54.09           C  \\nATOM    189  C   GLY A  34      26.867  26.020  19.613  1.00 54.59           C  \\nATOM    190  O   GLY A  34      27.705  26.818  20.039  1.00 51.75           O  \\nATOM    191  N   GLU A  35      26.480  26.386  18.601  1.00 55.75           N  \\nATOM    192  CA  GLU A  35      25.917  27.697  18.289  1.00 55.81           C  \\nATOM    193  C   GLU A  35      24.743  28.026  19.207  1.00 55.62           C  \\nATOM    194  O   GLU A  35      23.980  27.137  19.591  1.00 53.41           O  \\nATOM    195  CB  GLU A  35      25.475  27.759  16.825  1.00 54.41           C  \\nATOM    196  CG  GLU A  35      26.550  28.268  15.878  1.00 53.19           C  \\nATOM    197  N   HIS A  36      24.993  28.947  20.319  1.00 55.03           N  \\nATOM    198  CA  HIS A  36      24.033  29.688  21.130  1.00 55.38           C  \\nATOM    199  C   HIS A  36      22.600  29.352  20.731  1.00 54.69           C  \\nATOM    200  O   HIS A  36      22.300  29.206  19.543  1.00 52.16           O  \\nATOM    201  CB  HIS A  36      24.275  31.193  21.005  1.00 52.97           C  \\nATOM    202  CG  HIS A  36      23.809  31.976  22.190  1.00 51.66           C  \\nATOM    203  N   GLU A  37      21.996  28.536  21.448  1.00 52.59           N  \\nATOM    204  CA  GLU A  37      20.560  28.273  21.478  1.00 52.59           C  \\nATOM    205  C   GLU A  37      19.782  29.376  20.766  1.00 53.12           C  \\nATOM    206  O   GLU A  37      20.019  30.562  21.003  1.00 50.16           O  \\nATOM    207  CB  GLU A  37      20.069  28.131  22.921  1.00 52.25           C  \\nATOM    208  CG  GLU A  37      20.045  26.695  23.425  1.00 49.72           C  \\nATOM    209  N   GLN A  38      19.520  29.259  19.677  1.00 53.28           N  \\nATOM    210  CA  GLN A  38      18.388  29.990  19.115  1.00 53.56           C  \\nATOM    211  C   GLN A  38      17.103  29.688  19.880  1.00 53.38           C  \\nATOM    212  O   GLN A  38      16.890  28.559  20.325  1.00 50.69           O  \\nATOM    213  CB  GLN A  38      18.211  29.648  17.635  1.00 51.84           C  \\nATOM    214  CG  GLN A  38      18.608  30.776  16.691  1.00 50.00           C  \\nATOM    215  N   ALA A  39      16.653  30.697  20.732  1.00 56.19           N  \\nATOM    216  CA  ALA A  39      15.360  30.895  21.383  1.00 56.16           C  \\nATOM    217  C   ALA A  39      14.374  29.799  20.988  1.00 56.00           C  \\nATOM    218  O   ALA A  39      14.343  29.370  19.833  1.00 52.97           O  \\nATOM    219  CB  ALA A  39      14.793  32.268  21.032  1.00 54.19           C  \\nATOM    220  N   ALA A  40      14.175  28.857  21.914  1.00 54.88           N  \\nATOM    221  CA  ALA A  40      13.032  27.946  21.890  1.00 54.53           C  \\nATOM    222  C   ALA A  40      11.985  28.406  20.880  1.00 55.12           C  \\nATOM    223  O   ALA A  40      11.619  29.583  20.849  1.00 52.53           O  \\nATOM    224  CB  ALA A  40      12.412  27.834  23.281  1.00 54.34           C  \\nATOM    225  N   HIS A  41      11.977  27.979  19.866  1.00 55.41           N  \\nATOM    226  CA  HIS A  41      10.797  28.036  19.011  1.00 55.66           C  \\nATOM    227  C   HIS A  41       9.578  27.449  19.715  1.00 55.53           C  \\nATOM    228  O   HIS A  41       9.700  26.488  20.479  1.00 52.09           O  \\nATOM    229  CB  HIS A  41      11.051  27.296  17.696  1.00 53.66           C  \\nATOM    230  CG  HIS A  41      10.255  27.824  16.546  1.00 51.03           C  \\nATOM    231  N   HIS A  42       8.567  28.290  20.144  1.00 56.44           N  \\nATOM    232  CA  HIS A  42       7.152  28.136  20.462  1.00 56.75           C  \\nATOM    233  C   HIS A  42       6.707  26.686  20.305  1.00 56.41           C  \\nATOM    234  O   HIS A  42       7.094  26.013  19.346  1.00 53.19           O  \\nATOM    235  CB  HIS A  42       6.301  29.046  19.574  1.00 54.69           C  \\nATOM    236  CG  HIS A  42       5.010  29.461  20.204  1.00 52.16           C  \\nATOM    237  N   ALA A  43       6.682  25.971  21.553  1.00 57.53           N  \\nATOM    238  CA  ALA A  43       5.924  24.731  21.702  1.00 57.53           C  \\nATOM    239  C   ALA A  43       5.029  24.486  20.491  1.00 57.53           C  \\nATOM    240  O   ALA A  43       4.380  25.410  19.993  1.00 54.69           O  \\nATOM    241  CB  ALA A  43       5.087  24.769  22.979  1.00 55.75           C  \\nATOM    242  N   ASP A  44       5.499  23.755  19.801  1.00 57.31           N  \\nATOM    243  CA  ASP A  44       4.640  23.285  18.718  1.00 56.88           C  \\nATOM    244  C   ASP A  44       3.255  22.908  19.241  1.00 57.72           C  \\nATOM    245  O   ASP A  44       3.126  22.374  20.344  1.00 52.97           O  \\nATOM    246  CB  ASP A  44       5.278  22.089  18.008  1.00 55.38           C  \\nATOM    247  CG  ASP A  44       4.717  21.859  16.615  1.00 51.03           C  \\nATOM    248  N   THR A  45       2.230  23.655  19.039  1.00 57.28           N  \\nATOM    249  CA  THR A  45       0.796  23.388  18.996  1.00 57.19           C  \\nATOM    250  C   THR A  45       0.523  21.887  19.047  1.00 57.28           C  \\nATOM    251  O   THR A  45       1.264  21.096  18.461  1.00 54.16           O  \\nATOM    252  CB  THR A  45       0.155  23.986  17.730  1.00 55.38           C  \\nATOM    253  N   ALA A  46       0.186  21.376  20.294  1.00 56.31           N  \\nATOM    254  CA  ALA A  46      -0.449  20.064  20.394  1.00 56.25           C  \\nATOM    255  C   ALA A  46      -0.483  19.367  19.036  1.00 56.25           C  \\nATOM    256  O   ALA A  46      -0.729  20.004  18.010  1.00 53.91           O  \\nATOM    257  CB  ALA A  46      -1.862  20.198  20.955  1.00 55.53           C  \\nATOM    258  N   TYR A  47       0.423  18.494  18.738  1.00 54.94           N  \\nATOM    259  CA  TYR A  47       0.164  17.537  17.668  1.00 54.78           C  \\nATOM    260  C   TYR A  47      -1.267  17.664  17.157  1.00 55.19           C  \\nATOM    261  O   TYR A  47      -2.203  17.813  17.946  1.00 52.09           O  \\nATOM    262  CB  TYR A  47       0.419  16.107  18.153  1.00 54.06           C  \\nATOM    263  CG  TYR A  47       1.106  15.233  17.131  1.00 51.28           C  \\nATOM    264  N   ALA A  48      -1.511  18.572  16.222  1.00 54.84           N  \\nATOM    265  CA  ALA A  48      -2.748  18.279  15.501  1.00 54.25           C  \\nATOM    266  C   ALA A  48      -3.223  16.856  15.783  1.00 54.88           C  \\nATOM    267  O   ALA A  48      -2.410  15.939  15.918  1.00 51.84           O  \\nATOM    268  CB  ALA A  48      -2.550  18.482  14.001  1.00 53.19           C  \\nATOM    269  N   HIS A  49      -4.124  16.615  16.775  1.00 52.69           N  \\nATOM    270  CA  HIS A  49      -4.820  15.336  16.680  1.00 52.69           C  \\nATOM    271  C   HIS A  49      -4.239  14.475  15.563  1.00 52.78           C  \\nATOM    272  O   HIS A  49      -3.911  14.984  14.488  1.00 51.12           O  \\nATOM    273  CB  HIS A  49      -6.316  15.556  16.451  1.00 51.81           C  \\nATOM    274  CG  HIS A  49      -7.181  14.522  17.101  1.00 50.78           C  \\nATOM    275  N   HIS A  50      -3.235  13.592  15.826  1.00 51.91           N  \\nATOM    276  CA  HIS A  50      -3.042  12.539  14.835  1.00 51.66           C  \\nATOM    277  C   HIS A  50      -3.927  12.763  13.614  1.00 52.16           C  \\nATOM    278  O   HIS A  50      -5.099  13.126  13.749  1.00 49.88           O  \\nATOM    279  CB  HIS A  50      -3.331  11.167  15.448  1.00 51.22           C  \\nATOM    280  CG  HIS A  50      -2.427  10.085  14.949  1.00 49.16           C  \\nATOM    281  N   LYS A  51      -3.488  13.589  12.700  1.00 51.38           N  \\nATOM    282  CA  LYS A  51      -4.245  13.353  11.473  1.00 50.88           C  \\nATOM    283  C   LYS A  51      -5.033  12.049  11.556  1.00 51.56           C  \\nATOM    284  O   LYS A  51      -4.526  11.041  12.054  1.00 49.19           O  \\nATOM    285  CB  LYS A  51      -3.310  13.324  10.263  1.00 50.06           C  \\nATOM    286  CG  LYS A  51      -3.871  14.020   9.031  1.00 48.31           C  \\nATOM    287  N   HIS A  52      -6.343  12.068  12.128  1.00 51.06           N  \\nATOM    288  CA  HIS A  52      -7.180  10.917  11.811  1.00 50.69           C  \\nATOM    289  C   HIS A  52      -6.421   9.899  10.966  1.00 51.12           C  \\nATOM    290  O   HIS A  52      -5.668  10.274  10.064  1.00 49.47           O  \\nATOM    291  CB  HIS A  52      -8.449  11.362  11.081  1.00 49.88           C  \\nATOM    292  CG  HIS A  52      -9.631  10.482  11.340  1.00 48.88           C  \\nATOM    293  N   ALA A  53      -5.698   8.996  11.566  1.00 51.12           N  \\nATOM    294  CA  ALA A  53      -5.381   7.859  10.705  1.00 50.62           C  \\nATOM    295  C   ALA A  53      -5.880   8.093   9.282  1.00 51.31           C  \\nATOM    296  O   ALA A  53      -6.987   8.598   9.081  1.00 49.12           O  \\nATOM    297  CB  ALA A  53      -5.985   6.577  11.273  1.00 50.25           C  \\nATOM    298  N   GLU A  54      -5.156   8.666   8.367  1.00 49.88           N  \\nATOM    299  CA  GLU A  54      -5.627   8.432   7.005  1.00 49.75           C  \\nATOM    300  C   GLU A  54      -6.590   7.249   6.950  1.00 50.09           C  \\nATOM    301  O   GLU A  54      -6.386   6.244   7.633  1.00 47.81           O  \\nATOM    302  CB  GLU A  54      -4.445   8.193   6.062  1.00 48.72           C  \\nATOM    303  CG  GLU A  54      -3.919   9.459   5.401  1.00 47.03           C  \\nATOM    304  N   GLU A  55      -7.907   7.453   7.026  1.00 48.97           N  \\nATOM    305  CA  GLU A  55      -8.860   6.435   6.592  1.00 48.38           C  \\nATOM    306  C   GLU A  55      -8.144   5.235   5.978  1.00 49.03           C  \\nATOM    307  O   GLU A  55      -7.168   5.398   5.242  1.00 46.72           O  \\nATOM    308  CB  GLU A  55      -9.856   7.023   5.589  1.00 47.44           C  \\nATOM    309  CG  GLU A  55     -11.157   7.497   6.220  1.00 45.81           C  \\nATOM    310  N   HIS A  56      -7.771   4.249   6.711  1.00 48.47           N  \\nATOM    311  CA  HIS A  56      -7.550   2.945   6.096  1.00 48.38           C  \\nATOM    312  C   HIS A  56      -7.673   3.024   4.578  1.00 48.62           C  \\nATOM    313  O   HIS A  56      -8.596   3.655   4.058  1.00 46.72           O  \\nATOM    314  CB  HIS A  56      -8.537   1.917   6.651  1.00 47.53           C  \\nATOM    315  CG  HIS A  56      -8.006   0.519   6.661  1.00 46.03           C  \\nATOM    316  N   ALA A  57      -6.772   3.445   3.861  1.00 49.31           N  \\nATOM    317  CA  ALA A  57      -6.828   3.077   2.449  1.00 49.34           C  \\nATOM    318  C   ALA A  57      -7.757   1.886   2.229  1.00 49.31           C  \\nATOM    319  O   ALA A  57      -7.770   0.946   3.026  1.00 47.25           O  \\nATOM    320  CB  ALA A  57      -5.429   2.760   1.926  1.00 48.00           C  \\nATOM    321  N   ALA A  58      -8.983   1.981   2.130  1.00 48.31           N  \\nATOM    322  CA  ALA A  58      -9.943   1.090   1.483  1.00 48.09           C  \\nATOM    323  C   ALA A  58      -9.255  -0.164   0.951  1.00 48.12           C  \\nATOM    324  O   ALA A  58      -8.124  -0.100   0.464  1.00 45.97           O  \\nATOM    325  CB  ALA A  58     -10.665   1.818   0.352  1.00 46.53           C  \\nATOM    326  N   GLN A  59      -9.259  -1.220   1.581  1.00 48.66           N  \\nATOM    327  CA  GLN A  59      -9.159  -2.598   1.111  1.00 48.72           C  \\nATOM    328  C   GLN A  59      -8.859  -2.647  -0.385  1.00 48.91           C  \\nATOM    329  O   GLN A  59      -9.481  -1.932  -1.172  1.00 46.72           O  \\nATOM    330  CB  GLN A  59     -10.447  -3.365   1.414  1.00 47.97           C  \\nATOM    331  CG  GLN A  59     -10.317  -4.355   2.563  1.00 46.16           C  \\nATOM    332  N   ALA A  60      -7.770  -2.569  -0.843  1.00 50.59           N  \\nATOM    333  CA  ALA A  60      -7.485  -3.036  -2.198  1.00 50.62           C  \\nATOM    334  C   ALA A  60      -8.433  -4.162  -2.601  1.00 50.50           C  \\nATOM    335  O   ALA A  60      -8.770  -5.021  -1.783  1.00 48.28           O  \\nATOM    336  CB  ALA A  60      -6.035  -3.501  -2.305  1.00 49.22           C  \\nATOM    337  N   ALA A  61      -9.452  -3.923  -3.191  1.00 51.03           N  \\nATOM    338  CA  ALA A  61     -10.348  -4.729  -4.017  1.00 51.03           C  \\nATOM    339  C   ALA A  61      -9.856  -6.170  -4.114  1.00 50.84           C  \\nATOM    340  O   ALA A  61      -8.651  -6.416  -4.207  1.00 48.69           O  \\nATOM    341  CB  ALA A  61     -10.480  -4.120  -5.410  1.00 49.59           C  \\nATOM    342  N   LYS A  62     -10.290  -7.146  -3.371  1.00 52.00           N  \\nATOM    343  CA  LYS A  62     -10.385  -8.572  -3.670  1.00 52.28           C  \\nATOM    344  C   LYS A  62      -9.742  -8.896  -5.016  1.00 52.06           C  \\nATOM    345  O   LYS A  62      -9.935  -8.168  -5.993  1.00 50.16           O  \\nATOM    346  CB  LYS A  62     -11.845  -9.026  -3.664  1.00 51.28           C  \\nATOM    347  CG  LYS A  62     -12.064 -10.399  -3.044  1.00 50.06           C  \\nATOM    348  N   HIS A  63      -8.440  -9.394  -5.093  1.00 55.47           N  \\nATOM    349  CA  HIS A  63      -7.856 -10.131  -6.208  1.00 55.22           C  \\nATOM    350  C   HIS A  63      -8.939 -10.731  -7.099  1.00 55.38           C  \\nATOM    351  O   HIS A  63      -9.980 -11.175  -6.605  1.00 52.16           O  \\nATOM    352  CB  HIS A  63      -6.929 -11.233  -5.694  1.00 53.75           C  \\nATOM    353  CG  HIS A  63      -5.750 -11.488  -6.580  1.00 51.47           C  \\nATOM    354  N   ASP A  64      -9.151 -10.124  -8.222  1.00 56.16           N  \\nATOM    355  CA  ASP A  64      -9.914 -10.673  -9.339  1.00 55.75           C  \\nATOM    356  C   ASP A  64     -10.280 -12.135  -9.089  1.00 56.16           C  \\nATOM    357  O   ASP A  64      -9.477 -12.897  -8.547  1.00 52.88           O  \\nATOM    358  CB  ASP A  64      -9.125 -10.544 -10.643  1.00 54.59           C  \\nATOM    359  CG  ASP A  64      -9.993 -10.704 -11.879  1.00 51.75           C  \\nATOM    360  N   ALA A  65     -11.513 -12.396  -8.606  1.00 56.75           N  \\nATOM    361  CA  ALA A  65     -12.173 -13.693  -8.736  1.00 56.31           C  \\nATOM    362  C   ALA A  65     -11.335 -14.653  -9.577  1.00 56.78           C  \\nATOM    363  O   ALA A  65     -10.742 -14.253 -10.581  1.00 54.09           O  \\nATOM    364  CB  ALA A  65     -13.560 -13.525  -9.350  1.00 55.81           C  \\nATOM    365  N   GLU A  66     -10.636 -15.691  -8.990  1.00 58.94           N  \\nATOM    366  CA  GLU A  66     -10.232 -16.929  -9.650  1.00 58.50           C  \\nATOM    367  C   GLU A  66     -10.865 -17.048 -11.034  1.00 59.00           C  \\nATOM    368  O   GLU A  66     -12.044 -16.736 -11.213  1.00 55.31           O  \\nATOM    369  CB  GLU A  66     -10.607 -18.141  -8.794  1.00 57.81           C  \\nATOM    370  CG  GLU A  66      -9.514 -18.574  -7.828  1.00 54.09           C  \\nATOM    371  N   HIS A  67     -10.113 -16.709 -12.050  1.00 59.09           N  \\nATOM    372  CA  HIS A  67     -10.457 -17.199 -13.380  1.00 58.88           C  \\nATOM    373  C   HIS A  67     -11.475 -18.333 -13.303  1.00 58.94           C  \\nATOM    374  O   HIS A  67     -11.380 -19.199 -12.429  1.00 56.09           O  \\nATOM    375  CB  HIS A  67      -9.203 -17.669 -14.119  1.00 57.72           C  \\nATOM    376  CG  HIS A  67      -9.266 -17.465 -15.598  1.00 54.97           C  \\nATOM    377  N   HIS A  68     -12.777 -17.949 -13.428  1.00 58.50           N  \\nATOM    378  CA  HIS A  68     -13.794 -18.899 -13.864  1.00 58.06           C  \\nATOM    379  C   HIS A  68     -13.185 -20.269 -14.145  1.00 58.50           C  \\nATOM    380  O   HIS A  68     -12.141 -20.367 -14.795  1.00 55.47           O  \\nATOM    381  CB  HIS A  68     -14.514 -18.379 -15.110  1.00 57.75           C  \\nATOM    382  CG  HIS A  68     -15.930 -18.845 -15.224  1.00 54.41           C  \\nATOM    383  N   ALA A  69     -13.207 -21.170 -13.237  1.00 60.69           N  \\nATOM    384  CA  ALA A  69     -13.167 -22.566 -13.665  1.00 60.34           C  \\nATOM    385  C   ALA A  69     -13.417 -22.687 -15.166  1.00 60.84           C  \\nATOM    386  O   ALA A  69     -14.284 -22.004 -15.714  1.00 56.97           O  \\nATOM    387  CB  ALA A  69     -14.194 -23.389 -12.890  1.00 60.16           C  \\nATOM    388  N   PRO A  70     -12.336 -22.961 -15.965  1.00 60.25           N  \\nATOM    389  CA  PRO A  70     -12.625 -23.581 -17.260  1.00 59.56           C  \\nATOM    390  C   PRO A  70     -13.959 -24.324 -17.274  1.00 60.41           C  \\nATOM    391  O   PRO A  70     -14.311 -24.987 -16.294  1.00 56.78           O  \\nATOM    392  CB  PRO A  70     -11.457 -24.551 -17.454  1.00 59.47           C  \\nATOM    393  CG  PRO A  70     -10.585 -24.343 -16.258  1.00 55.12           C  \\nATOM    394  N   LYS A  71     -15.040 -23.715 -17.824  1.00 59.62           N  \\nATOM    395  CA  LYS A  71     -16.185 -24.382 -18.437  1.00 58.94           C  \\nATOM    396  C   LYS A  71     -15.980 -25.894 -18.485  1.00 59.47           C  \\nATOM    397  O   LYS A  71     -14.915 -26.369 -18.882  1.00 55.56           O  \\nATOM    398  CB  LYS A  71     -16.431 -23.842 -19.846  1.00 58.41           C  \\nATOM    399  CG  LYS A  71     -17.899 -23.629 -20.181  1.00 53.72           C  \\nATOM    400  N   PRO A  72     -16.539 -26.640 -17.619  1.00 58.44           N  \\nATOM    401  CA  PRO A  72     -16.877 -28.020 -17.975  1.00 58.44           C  \\nATOM    402  C   PRO A  72     -16.826 -28.271 -19.480  1.00 58.44           C  \\nATOM    403  O   PRO A  72     -17.401 -27.504 -20.257  1.00 54.19           O  \\nATOM    404  CB  PRO A  72     -18.302 -28.183 -17.442  1.00 59.28           C  \\nATOM    405  CG  PRO A  72     -18.620 -26.872 -16.795  1.00 52.44           C  \\nATOM    406  N   HIS A  73     -15.793 -29.064 -19.955  1.00 49.44           N  \\nATOM    407  CA  HIS A  73     -16.295 -29.932 -21.015  1.00 54.78           C  \\nATOM    408  C   HIS A  73     -17.154 -31.057 -20.446  1.00 48.34           C  \\nATOM    409  O   HIS A  73     -16.856 -31.590 -19.374  1.00 47.59           O  \\nATOM    410  CB  HIS A  73     -15.136 -30.514 -21.825  1.00 47.81           C  \\nATOM    411  CG  HIS A  73     -15.491 -30.826 -23.243  1.00 48.16           C  \\nTER     412      HIS A  73\\nEND\\n\");\n",
       "\tviewer_16876372892133195.setStyle({\"model\": -1},{\"cartoon\": {\"colorscheme\": {\"prop\": \"b\", \"map\": {\"0\": \"#FF7D45\", \"1\": \"#FFDB13\", \"2\": \"#65CBF3\", \"3\": \"#0053D6\"}}}, \"stick\": {}});\n",
       "\tviewer_16876372892133195.zoomTo();\n",
       "viewer_16876372892133195.render();\n",
       "});\n",
       "</script>"
      ]
     },
     "metadata": {},
     "output_type": "display_data"
    },
    {
     "data": {
      "text/plain": [
       "<py3Dmol.view at 0x7fd7e962afe0>"
      ]
     },
     "execution_count": 12,
     "metadata": {},
     "output_type": "execute_result"
    }
   ],
   "source": [
    "PLDDT_BANDS = [\n",
    "  (0, 50, '#FF7D45'),\n",
    "  (50, 70, '#FFDB13'),\n",
    "  (70, 90, '#65CBF3'),\n",
    "  (90, 100, '#0053D6')\n",
    "]\n",
    "view = py3Dmol.view(width=800, height=600)\n",
    "view.addModelsAsFrames(result_pdb)\n",
    "color_map = {i: bands[2] for i, bands in enumerate(PLDDT_BANDS)}\n",
    "style = {'cartoon': {'colorscheme': {'prop': 'b', 'map': color_map}}}\n",
    "\n",
    "style['stick'] = {}\n",
    "\n",
    "view.setStyle({'model': -1}, style)\n",
    "view.zoomTo()"
   ]
  },
  {
   "cell_type": "code",
   "execution_count": null,
   "id": "f7b03f4d-4d5d-42b5-8456-c0da7074aedd",
   "metadata": {},
   "outputs": [],
   "source": []
  }
 ],
 "metadata": {
  "kernelspec": {
   "display_name": "Python 3 (ipykernel)",
   "language": "python",
   "name": "python3"
  },
  "language_info": {
   "codemirror_mode": {
    "name": "ipython",
    "version": 3
   },
   "file_extension": ".py",
   "mimetype": "text/x-python",
   "name": "python",
   "nbconvert_exporter": "python",
   "pygments_lexer": "ipython3",
   "version": "3.10.11"
  }
 },
 "nbformat": 4,
 "nbformat_minor": 5
}
