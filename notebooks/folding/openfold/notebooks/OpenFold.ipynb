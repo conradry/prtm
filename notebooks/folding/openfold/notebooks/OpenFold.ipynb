{
 "cells": [
  {
   "cell_type": "markdown",
   "metadata": {
    "id": "pc5-mbsX9PZC"
   },
   "source": [
    "# OpenFold Colab\n",
    "\n",
    "Runs a simplified version of [OpenFold](https://github.com/aqlaboratory/openfold) on a target sequence. Adapted from DeepMind's [official AlphaFold Colab](https://colab.research.google.com/github/deepmind/alphafold/blob/main/notebooks/AlphaFold.ipynb).\n",
    "\n",
    "**Differences to AlphaFold v2.0**\n",
    "\n",
    "OpenFold is a trainable PyTorch reimplementation of AlphaFold 2. For the purposes of inference, it is practically identical to the original (\"practically\" because ensembling is excluded from OpenFold (recycling is enabled, however)).\n",
    "\n",
    "In this notebook, OpenFold is run with your choice of our original OpenFold parameters or DeepMind's publicly released parameters for AlphaFold 2.\n",
    "\n",
    "**Note**\n",
    "\n",
    "Like DeepMind's official Colab, this notebook uses **no templates (homologous structures)** and a selected portion of the full [BFD database](https://bfd.mmseqs.com/).\n",
    "\n",
    "**Citing this work**\n",
    "\n",
    "Any publication that discloses findings arising from using this notebook should [cite](https://github.com/deepmind/alphafold/#citing-this-work) DeepMind's [AlphaFold paper](https://doi.org/10.1038/s41586-021-03819-2).\n",
    "\n",
    "**Licenses**\n",
    "\n",
    "This Colab supports inference with the [AlphaFold model parameters](https://github.com/deepmind/alphafold/#model-parameters-license), made available under the Creative Commons Attribution 4.0 International ([CC BY 4.0](https://creativecommons.org/licenses/by/4.0/legalcode)) license. The Colab itself is provided under the [Apache 2.0 license](https://www.apache.org/licenses/LICENSE-2.0). See the full license statement below.\n",
    "\n",
    "**More information**\n",
    "\n",
    "You can find more information about how AlphaFold/OpenFold works in DeepMind's two Nature papers:\n",
    "\n",
    "*   [AlphaFold methods paper](https://www.nature.com/articles/s41586-021-03819-2)\n",
    "*   [AlphaFold predictions of the human proteome paper](https://www.nature.com/articles/s41586-021-03828-1)\n",
    "\n",
    "FAQ on how to interpret AlphaFold/OpenFold predictions are [here](https://alphafold.ebi.ac.uk/faq)."
   ]
  },
  {
   "cell_type": "code",
   "execution_count": 1,
   "metadata": {},
   "outputs": [],
   "source": [
    "%load_ext autoreload\n",
    "%autoreload 2\n",
    "%matplotlib inline"
   ]
  },
  {
   "cell_type": "code",
   "execution_count": 20,
   "metadata": {},
   "outputs": [],
   "source": [
    "from proteome.models.folding.openfold.modeling import OpenFoldForFolding\n",
    "from proteome.models.folding.openfold.np import protein\n",
    "from proteome.models.folding.openfold.np.relax import relax"
   ]
  },
  {
   "cell_type": "code",
   "execution_count": 5,
   "metadata": {},
   "outputs": [],
   "source": [
    "sequence = 'MAAHKGAEHHHKAAEHHEQAAKHHHAAAEHHEKGEHEQAAHHADTAYAHHKHAEEHAAQAAKHDAEHHAPKPH'"
   ]
  },
  {
   "cell_type": "code",
   "execution_count": 6,
   "metadata": {},
   "outputs": [],
   "source": [
    "folder = OpenFoldForFolding(\"finetuning-3\")\n",
    "predicted_protein, plddt = folder.fold(sequence)"
   ]
  },
  {
   "cell_type": "code",
   "execution_count": null,
   "metadata": {},
   "outputs": [],
   "source": [
    "unrelaxed_protein_dict = {k: getattr(predicted_protein, k).cpu().numpy() for k in ['atom_positions', 'aatype', 'atom_mask', 'residue_index', 'b_factors']}\n",
    "unrelaxed_protein_dict['aatype'] = unrelaxed_protein_dict['aatype'][:, 0]\n",
    "unrelaxed_protein_dict['residue_index'] = unrelaxed_protein_dict['residue_index'][:, 0]\n",
    "unrelaxed_protein = protein.Protein(**unrelaxed_protein_dict)"
   ]
  },
  {
   "cell_type": "code",
   "execution_count": null,
   "metadata": {},
   "outputs": [],
   "source": [
    "unrelaxed_pdb = protein.to_pdb(unrelaxed_protein)"
   ]
  },
  {
   "cell_type": "code",
   "execution_count": 7,
   "metadata": {},
   "outputs": [
    {
     "name": "stdout",
     "output_type": "stream",
     "text": [
      "Running jackhmmer on uniref90 database...\n",
      "Running jackhmmer on smallbfd database...\n",
      "Running jackhmmer on mgnify database...\n",
      "1 Sequences Found in uniref90\n",
      "39 Sequences Found in smallbfd\n",
      "1 Sequences Found in mgnify\n"
     ]
    }
   ],
   "source": [
    "amber_relaxer = relax.AmberRelaxation(\n",
    "    max_iterations=0,\n",
    "    tolerance=2.39,\n",
    "    stiffness=10.0,\n",
    "    exclude_residues=[],\n",
    "    max_outer_iterations=20,\n",
    "    use_gpu=False,\n",
    ")\n",
    "relaxed_pdb, _, _ = amber_relaxer.process(\n",
    "    prot=unrelaxed_protein, cif_output=False\n",
    ")"
   ]
  },
  {
   "cell_type": "code",
   "execution_count": null,
   "metadata": {},
   "outputs": [],
   "source": [
    "PLDDT_BANDS = [\n",
    "  (0, 50, '#FF7D45'),\n",
    "  (50, 70, '#FFDB13'),\n",
    "  (70, 90, '#65CBF3'),\n",
    "  (90, 100, '#0053D6')\n",
    "]\n",
    "view = py3Dmol.view(width=800, height=600)\n",
    "view.addModelsAsFrames(best_pdb)\n",
    "color_map = {i: bands[2] for i, bands in enumerate(PLDDT_BANDS)}\n",
    "style = {'cartoon': {'colorscheme': {'prop': 'b', 'map': color_map}}}\n",
    "\n",
    "style['stick'] = {}\n",
    "\n",
    "view.setStyle({'model': -1}, style)\n",
    "view.zoomTo()"
   ]
  }
 ],
 "metadata": {
  "accelerator": "GPU",
  "colab": {
   "collapsed_sections": [],
   "name": "OpenFold.ipynb",
   "provenance": []
  },
  "kernelspec": {
   "display_name": "Python 3 (ipykernel)",
   "language": "python",
   "name": "python3"
  },
  "language_info": {
   "codemirror_mode": {
    "name": "ipython",
    "version": 3
   },
   "file_extension": ".py",
   "mimetype": "text/x-python",
   "name": "python",
   "nbconvert_exporter": "python",
   "pygments_lexer": "ipython3",
   "version": "3.10.11"
  }
 },
 "nbformat": 4,
 "nbformat_minor": 4
}
