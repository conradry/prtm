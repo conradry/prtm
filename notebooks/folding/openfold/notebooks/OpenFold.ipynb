{
 "cells": [
  {
   "cell_type": "markdown",
   "metadata": {
    "id": "pc5-mbsX9PZC"
   },
   "source": [
    "# OpenFold Colab\n",
    "\n",
    "Runs a simplified version of [OpenFold](https://github.com/aqlaboratory/openfold) on a target sequence. Adapted from DeepMind's [official AlphaFold Colab](https://colab.research.google.com/github/deepmind/alphafold/blob/main/notebooks/AlphaFold.ipynb).\n",
    "\n",
    "**Differences to AlphaFold v2.0**\n",
    "\n",
    "OpenFold is a trainable PyTorch reimplementation of AlphaFold 2. For the purposes of inference, it is practically identical to the original (\"practically\" because ensembling is excluded from OpenFold (recycling is enabled, however)).\n",
    "\n",
    "In this notebook, OpenFold is run with your choice of our original OpenFold parameters or DeepMind's publicly released parameters for AlphaFold 2.\n",
    "\n",
    "**Note**\n",
    "\n",
    "Like DeepMind's official Colab, this notebook uses **no templates (homologous structures)** and a selected portion of the full [BFD database](https://bfd.mmseqs.com/).\n",
    "\n",
    "**Citing this work**\n",
    "\n",
    "Any publication that discloses findings arising from using this notebook should [cite](https://github.com/deepmind/alphafold/#citing-this-work) DeepMind's [AlphaFold paper](https://doi.org/10.1038/s41586-021-03819-2).\n",
    "\n",
    "**Licenses**\n",
    "\n",
    "This Colab supports inference with the [AlphaFold model parameters](https://github.com/deepmind/alphafold/#model-parameters-license), made available under the Creative Commons Attribution 4.0 International ([CC BY 4.0](https://creativecommons.org/licenses/by/4.0/legalcode)) license. The Colab itself is provided under the [Apache 2.0 license](https://www.apache.org/licenses/LICENSE-2.0). See the full license statement below.\n",
    "\n",
    "**More information**\n",
    "\n",
    "You can find more information about how AlphaFold/OpenFold works in DeepMind's two Nature papers:\n",
    "\n",
    "*   [AlphaFold methods paper](https://www.nature.com/articles/s41586-021-03819-2)\n",
    "*   [AlphaFold predictions of the human proteome paper](https://www.nature.com/articles/s41586-021-03828-1)\n",
    "\n",
    "FAQ on how to interpret AlphaFold/OpenFold predictions are [here](https://alphafold.ebi.ac.uk/faq)."
   ]
  },
  {
   "cell_type": "code",
   "execution_count": 1,
   "metadata": {},
   "outputs": [],
   "source": [
    "%load_ext autoreload\n",
    "%autoreload 2\n",
    "%matplotlib inline"
   ]
  },
  {
   "cell_type": "code",
   "execution_count": 2,
   "metadata": {
    "cellView": "form",
    "id": "woIxeCPygt7K"
   },
   "outputs": [],
   "source": [
    "from IPython.utils import io\n",
    "import os\n",
    "import subprocess\n",
    "import tqdm.notebook"
   ]
  },
  {
   "cell_type": "code",
   "execution_count": 3,
   "metadata": {
    "cellView": "form",
    "id": "_FpxxMo-mvcP"
   },
   "outputs": [],
   "source": [
    "import os\n",
    "import s3fs\n",
    "import boto3\n",
    "from botocore import UNSIGNED\n",
    "from botocore.client import Config\n",
    "\n",
    "import torch\n",
    "import py3Dmol\n",
    "import numpy as np\n",
    "import matplotlib.pyplot as plt"
   ]
  },
  {
   "cell_type": "code",
   "execution_count": 4,
   "metadata": {},
   "outputs": [
    {
     "name": "stderr",
     "output_type": "stream",
     "text": [
      "/home/conradry71/micromamba/envs/proteome/lib/python3.10/site-packages/Bio/Data/SCOPData.py:18: BiopythonDeprecationWarning: The 'Bio.Data.SCOPData' module will be deprecated in a future release of Biopython in favor of 'Bio.Data.PDBData.\n",
      "  warnings.warn(\n",
      "/home/conradry71/micromamba/envs/proteome/lib/python3.10/site-packages/tqdm/auto.py:21: TqdmWarning: IProgress not found. Please update jupyter and ipywidgets. See https://ipywidgets.readthedocs.io/en/stable/user_install.html\n",
      "  from .autonotebook import tqdm as notebook_tqdm\n"
     ]
    }
   ],
   "source": [
    "from proteome.models.folding.openfold import data, config\n",
    "from proteome.models.folding.openfold.data import feature_pipeline\n",
    "from proteome.models.folding.openfold.data import parsers\n",
    "from proteome.models.folding.openfold.data import data_pipeline\n",
    "from proteome.models.folding.openfold.data.tools import jackhmmer\n",
    "from proteome.models.folding.openfold.model import model\n",
    "from proteome.models.folding.openfold.np import protein\n",
    "from proteome.models.folding.openfold.np.relax import relax\n",
    "from proteome.models.folding.openfold.np.relax.utils import overwrite_b_factors\n",
    "from proteome.models.folding.openfold.utils.import_weights import import_jax_weights_\n",
    "from proteome.models.folding.openfold.utils.tensor_utils import tensor_tree_map"
   ]
  },
  {
   "cell_type": "code",
   "execution_count": 5,
   "metadata": {},
   "outputs": [],
   "source": [
    "sequence = 'MAAHKGAEHHHKAAEHHEQAAKHHHAAAEHHEKGEHEQAAHHADTAYAHHKHAEEHAAQAAKHDAEHHAPKPH'\n",
    "\n",
    "weight_set = 'OpenFold'\n",
    "model_dir = './models'\n",
    "relax_prediction = True\n",
    "\n",
    "sequence = sequence.translate(str.maketrans('', '', ' \\n\\t')).upper()\n",
    "aatypes = set('ACDEFGHIKLMNPQRSTVWY')\n",
    "if not set(sequence).issubset(aatypes):\n",
    "    raise Exception(f'Input sequence contains non-amino acid letters: {set(sequence) - aatypes}. OpenFold only supports 20 standard amino acids as inputs.')"
   ]
  },
  {
   "cell_type": "code",
   "execution_count": 6,
   "metadata": {},
   "outputs": [],
   "source": [
    "s3 = s3fs.S3FileSystem(\"s3://openfold/\")\n",
    "client = boto3.client('s3', config=Config(signature_version=UNSIGNED))\n",
    "param_files = s3.glob('openfold/openfold_params/*.pt')\n",
    "os.makedirs(model_dir, exist_ok=True)\n",
    "\n",
    "for path in param_files:\n",
    "    save_path = os.path.join(model_dir, os.path.basename(path))\n",
    "    \n",
    "    if not os.path.isfile(save_path):\n",
    "        print(\"Downloading model\", path)\n",
    "        s3_bucket, s3_key = path.split('/')[0], '/'.join(path.split('/')[1:])\n",
    "        with open(save_path, mode='wb') as f:\n",
    "            client.download_fileobj(Bucket=s3_bucket, Key=s3_key, Fileobj=f)"
   ]
  },
  {
   "cell_type": "markdown",
   "metadata": {},
   "source": [
    "## Sequence MSA search"
   ]
  },
  {
   "cell_type": "code",
   "execution_count": 8,
   "metadata": {},
   "outputs": [],
   "source": [
    "jackhmmer_binary_path = os.environ[\"JACKHMMER_PATH\"]\n",
    "num_jackhmmer_chunks = {'uniref90': 59, 'smallbfd': 17, 'mgnify': 71}\n",
    "total_jackhmmer_chunks = sum(num_jackhmmer_chunks.values())"
   ]
  },
  {
   "cell_type": "markdown",
   "metadata": {},
   "source": [
    "Smartly pick the jackhammer path from the activate conda environment path. Create a temp directory called proteome that's definitely accessible"
   ]
  },
  {
   "cell_type": "code",
   "execution_count": null,
   "metadata": {},
   "outputs": [],
   "source": [
    "dbs = []\n",
    "jackhmmer_uniref90_runner = jackhmmer.Jackhmmer(\n",
    "    binary_path=jackhmmer_binary_path,\n",
    "    database_path=f'https://storage.googleapis.com/alphafold-colab-asia/latest/uniref90_2021_03.fasta',\n",
    "    get_tblout=True,\n",
    "    num_streamed_chunks=num_jackhmmer_chunks['uniref90'],\n",
    "    streaming_callback=None,\n",
    "    z_value=135301051\n",
    ")\n",
    "dbs.append(('uniref90', jackhmmer_uniref90_runner.query('target.fasta')))\n",
    "\n",
    "jackhmmer_smallbfd_runner = jackhmmer.Jackhmmer(\n",
    "    binary_path=jackhmmer_binary_path,\n",
    "    database_path='https://storage.googleapis.com/alphafold-colab-asia/latest/bfd-first_non_consensus_sequences.fasta',\n",
    "    get_tblout=True,\n",
    "    num_streamed_chunks=num_jackhmmer_chunks['smallbfd'],\n",
    "    streaming_callback=None,\n",
    "    z_value=65984053\n",
    ")\n",
    "dbs.append(('smallbfd', jackhmmer_smallbfd_runner.query('target.fasta')))\n",
    "\n",
    "jackhmmer_mgnify_runner = jackhmmer.Jackhmmer(\n",
    "    binary_path=jackhmmer_binary_path,\n",
    "    database_path=f'https://storage.googleapis.com/alphafold-colab-asia/latest/mgy_clusters_2019_05.fasta',\n",
    "    get_tblout=True,\n",
    "    num_streamed_chunks=num_jackhmmer_chunks['mgnify'],\n",
    "    streaming_callback=None,\n",
    "    z_value=304820129\n",
    ")\n",
    "dbs.append(('mgnify', jackhmmer_mgnify_runner.query('target.fasta')))"
   ]
  },
  {
   "cell_type": "code",
   "execution_count": 49,
   "metadata": {},
   "outputs": [],
   "source": [
    "#import pickle\n",
    "#with open(\"seq_db_results.pkl\", mode=\"wb\") as handle:\n",
    "#    pickle.dump(dbs, handle)"
   ]
  },
  {
   "cell_type": "code",
   "execution_count": 9,
   "metadata": {},
   "outputs": [],
   "source": [
    "import pickle\n",
    "with open(\"seq_db_results.pkl\", mode=\"rb\") as handle:\n",
    "    dbs = pickle.load(handle)"
   ]
  },
  {
   "cell_type": "code",
   "execution_count": 10,
   "metadata": {},
   "outputs": [
    {
     "name": "stdout",
     "output_type": "stream",
     "text": [
      "58 Sequences Found in uniref90\n",
      "110 Sequences Found in smallbfd\n",
      "9 Sequences Found in mgnify\n",
      "\n",
      "173 Sequences Found in Total\n",
      "\n"
     ]
    },
    {
     "data": {
      "image/png": "[encoded data removed]",
      "text/plain": [
       "<Figure size 1200x300 with 1 Axes>"
      ]
     },
     "metadata": {},
     "output_type": "display_data"
    }
   ],
   "source": [
    "mgnify_max_hits = 501\n",
    "\n",
    "msas = []\n",
    "deletion_matrices = []\n",
    "full_msa = []\n",
    "\n",
    "for db_name, db_results in dbs:\n",
    "    unsorted_results = []\n",
    "    for i, result in enumerate(db_results):\n",
    "        msa, deletion_matrix, target_names = parsers.parse_stockholm(result['sto'])\n",
    "        e_values_dict = parsers.parse_e_values_from_tblout(result['tbl'])\n",
    "        e_values = [e_values_dict[t.split('/')[0]] for t in target_names]\n",
    "        zipped_results = zip(msa, deletion_matrix, target_names, e_values)\n",
    "        if i != 0:\n",
    "            # Only take query from the first chunk\n",
    "            zipped_results = [x for x in zipped_results if x[2] != 'query']\n",
    "        unsorted_results.extend(zipped_results)\n",
    "        \n",
    "    sorted_by_evalue = sorted(unsorted_results, key=lambda x: x[3])\n",
    "    db_msas, db_deletion_matrices, _, _ = zip(*sorted_by_evalue)\n",
    "    if db_msas:\n",
    "        if db_name == 'mgnify':\n",
    "            db_msas = db_msas[:mgnify_max_hits]\n",
    "            db_deletion_matrices = db_deletion_matrices[:mgnify_max_hits]\n",
    "            \n",
    "        full_msa.extend(db_msas)\n",
    "        msas.append(db_msas)\n",
    "        deletion_matrices.append(db_deletion_matrices)\n",
    "        msa_size = len(set(db_msas))\n",
    "        print(f'{msa_size} Sequences Found in {db_name}')\n",
    "\n",
    "deduped_full_msa = list(dict.fromkeys(full_msa))\n",
    "total_msa_size = len(deduped_full_msa)\n",
    "print(f'\\n{total_msa_size} Sequences Found in Total\\n')\n",
    "\n",
    "aa_map = {restype: i for i, restype in enumerate('ABCDEFGHIJKLMNOPQRSTUVWXYZ-')}\n",
    "msa_arr = np.array([[aa_map[aa] for aa in seq] for seq in deduped_full_msa])\n",
    "num_alignments, num_res = msa_arr.shape\n",
    "\n",
    "fig = plt.figure(figsize=(12, 3))\n",
    "plt.title('Per-Residue Count of Non-Gap Amino Acids in the MSA')\n",
    "plt.plot(np.sum(msa_arr != aa_map['-'], axis=0), color='black')\n",
    "plt.ylabel('Non-Gap Count')\n",
    "plt.yticks(range(0, num_alignments + 1, max(1, int(num_alignments / 3))))\n",
    "plt.show()"
   ]
  },
  {
   "cell_type": "markdown",
   "metadata": {},
   "source": [
    "## Predict Structure"
   ]
  },
  {
   "cell_type": "code",
   "execution_count": 11,
   "metadata": {},
   "outputs": [],
   "source": [
    "def _placeholder_template_feats(num_templates_, num_res_):\n",
    "    return {\n",
    "        'template_aatype': np.zeros((num_templates_, num_res_, 22), dtype=np.int64),\n",
    "        'template_all_atom_positions': np.zeros((num_templates_, num_res_, 37, 3), dtype=np.float32),\n",
    "        'template_all_atom_mask': np.zeros((num_templates_, num_res_, 37), dtype=np.float32),\n",
    "        'template_domain_names': np.zeros((num_templates_,), dtype=np.float32),\n",
    "        'template_sum_probs': np.zeros((num_templates_, 1), dtype=np.float32),\n",
    "    }\n",
    "    \n",
    "output_dir = 'prediction'\n",
    "os.makedirs(output_dir, exist_ok=True)\n",
    "\n",
    "plddts = {}\n",
    "pae_outputs = {}\n",
    "unrelaxed_proteins = {}\n",
    "\n",
    "num_templates = 1 # dummy number --- is ignored\n",
    "num_res = len(sequence)\n",
    "\n",
    "feature_dict = {}\n",
    "feature_dict.update(data_pipeline.make_sequence_features(sequence, 'test', num_res))\n",
    "feature_dict.update(data_pipeline.make_msa_features(msas, deletion_matrices=deletion_matrices))\n",
    "feature_dict.update(_placeholder_template_feats(num_templates, num_res))\n",
    "\n",
    "cfg = config.model_config(name=\"model_1\")\n",
    "openfold_model = model.AlphaFold(cfg)\n",
    "\n",
    "pipeline = feature_pipeline.FeaturePipeline(cfg.data)\n",
    "processed_feature_dict = pipeline.process_features(\n",
    "  feature_dict, mode='predict'\n",
    ")\n",
    "processed_feature_dict = tensor_tree_map(\n",
    "    lambda t: t.cuda(), processed_feature_dict\n",
    ")"
   ]
  },
  {
   "cell_type": "code",
   "execution_count": 12,
   "metadata": {},
   "outputs": [
    {
     "data": {
      "text/plain": [
       "<All keys matched successfully>"
      ]
     },
     "execution_count": 12,
     "metadata": {},
     "output_type": "execute_result"
    }
   ],
   "source": [
    "weights = torch.load('./models/finetuning_3.pt', map_location=\"cpu\")\n",
    "openfold_model.load_state_dict(weights)"
   ]
  },
  {
   "cell_type": "code",
   "execution_count": 13,
   "metadata": {},
   "outputs": [],
   "source": [
    "openfold_model = openfold_model.cuda()\n",
    "openfold_model.eval()\n",
    "with torch.no_grad():\n",
    "    res = openfold_model(processed_feature_dict)"
   ]
  },
  {
   "cell_type": "code",
   "execution_count": 14,
   "metadata": {},
   "outputs": [],
   "source": [
    "mean_plddt = res['plddt'].mean()\n",
    "final_atom_mask = res['final_atom_mask']\n",
    "b_factors = res['plddt'][:, None] * final_atom_mask\n",
    "unrelaxed_protein = protein.from_prediction(\n",
    "  processed_feature_dict, res, b_factors=b_factors\n",
    ")\n",
    "unrelaxed_protein_dict = {k: getattr(unrelaxed_protein, k).cpu().numpy() for k in ['atom_positions', 'aatype', 'atom_mask', 'residue_index', 'b_factors']}\n",
    "unrelaxed_protein_dict['aatype'] = unrelaxed_protein_dict['aatype'][:, 0]\n",
    "unrelaxed_protein_dict['residue_index'] = unrelaxed_protein_dict['residue_index'][:, 0]\n",
    "unrelaxed_protein = protein.Protein(**unrelaxed_protein_dict)"
   ]
  },
  {
   "cell_type": "code",
   "execution_count": 15,
   "metadata": {},
   "outputs": [],
   "source": [
    "best_pdb = protein.to_pdb(unrelaxed_protein)"
   ]
  },
  {
   "cell_type": "code",
   "execution_count": null,
   "metadata": {
    "scrolled": true
   },
   "outputs": [],
   "source": [
    "amber_relaxer = relax.AmberRelaxation(\n",
    "    max_iterations=0,\n",
    "    tolerance=2.39,\n",
    "    stiffness=10.0,\n",
    "    exclude_residues=[],\n",
    "    max_outer_iterations=20,\n",
    "    use_gpu=False,\n",
    ")\n",
    "relaxed_pdb, _, _ = amber_relaxer.process(\n",
    "    prot=unrelaxed_protein, cif_output=False\n",
    ")\n",
    "best_pdb = relaxed_pdb"
   ]
  },
  {
   "cell_type": "code",
   "execution_count": null,
   "metadata": {},
   "outputs": [],
   "source": [
    "# Write out the prediction\n",
    "with open('prediction/selected_prediction.pdb', 'w') as f:\n",
    "    f.write(best_pdb)"
   ]
  },
  {
   "cell_type": "code",
   "execution_count": null,
   "metadata": {},
   "outputs": [],
   "source": [
    "PLDDT_BANDS = [\n",
    "  (0, 50, '#FF7D45'),\n",
    "  (50, 70, '#FFDB13'),\n",
    "  (70, 90, '#65CBF3'),\n",
    "  (90, 100, '#0053D6')\n",
    "]\n",
    "view = py3Dmol.view(width=800, height=600)\n",
    "view.addModelsAsFrames(best_pdb)\n",
    "color_map = {i: bands[2] for i, bands in enumerate(PLDDT_BANDS)}\n",
    "style = {'cartoon': {'colorscheme': {'prop': 'b', 'map': color_map}}}\n",
    "\n",
    "style['stick'] = {}\n",
    "\n",
    "view.setStyle({'model': -1}, style)\n",
    "view.zoomTo()"
   ]
  },
  {
   "cell_type": "code",
   "execution_count": null,
   "metadata": {},
   "outputs": [],
   "source": []
  }
 ],
 "metadata": {
  "accelerator": "GPU",
  "colab": {
   "collapsed_sections": [],
   "name": "OpenFold.ipynb",
   "provenance": []
  },
  "kernelspec": {
   "display_name": "Python 3 (ipykernel)",
   "language": "python",
   "name": "python3"
  },
  "language_info": {
   "codemirror_mode": {
    "name": "ipython",
    "version": 3
   },
   "file_extension": ".py",
   "mimetype": "text/x-python",
   "name": "python",
   "nbconvert_exporter": "python",
   "pygments_lexer": "ipython3",
   "version": "3.10.11"
  }
 },
 "nbformat": 4,
 "nbformat_minor": 4
}
