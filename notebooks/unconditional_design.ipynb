{
 "cells": [
  {
   "cell_type": "markdown",
   "id": "cb1fdf99-75fc-4195-a044-2b522eb7a80e",
   "metadata": {},
   "source": [
    "# Unconditional Design\n",
    "\n",
    "This notebook covers algorithms for creating unconditional protein structures."
   ]
  },
  {
   "cell_type": "code",
   "execution_count": null,
   "id": "8f8a6b70-6619-4f64-89fc-333c7b837339",
   "metadata": {},
   "outputs": [],
   "source": [
    "%load_ext autoreload\n",
    "%autoreload 2"
   ]
  },
  {
   "cell_type": "code",
   "execution_count": null,
   "id": "da945fc5-672c-4667-adbf-446580f7cdbb",
   "metadata": {},
   "outputs": [],
   "source": [
    "from proteome import models\n",
    "from proteome import protein\n",
    "from proteome import visual"
   ]
  },
  {
   "cell_type": "markdown",
   "id": "c43a582d-e1b2-46f5-aef5-3111a77717de",
   "metadata": {},
   "source": [
    "In unconditional design, we generate structures without any constraints other than the number of residues. Primarily this is useful for benchmarking different diffusion spaces and can also create unique and interesting structures that may be useful as training data for other prediction tasks. One other interesting distinction is that `RFDiffusion` is the only model finetuned from a pretrained folding model (e.g., `RoseTTAFold`), in general this seems to results in more designable structures."
   ]
  },
  {
   "cell_type": "code",
   "execution_count": null,
   "id": "7a82721d-97bc-4f85-be9e-419123b5fbc1",
   "metadata": {},
   "outputs": [],
   "source": [
    "structure_designers = {\n",
    "    \"FoldingDiff\": models.FoldingDiffForStructureDesign(),\n",
    "    \"Genie\": models.GenieForStructureDesign(),\n",
    "    \"SE3Diffusion\": models.SE3DiffusionForStructureDesign(),\n",
    "    # Because RFDiffusion has multiple models for slightly different\n",
    "    # sets of inputs we're going to set the model_name to auto\n",
    "    # this won't download or load any particular weights until inference\n",
    "    \"RFDiffusion\": models.RFDiffusionForStructureDesign(model_name=\"auto\"),\n",
    "}"
   ]
  },
  {
   "cell_type": "markdown",
   "id": "c724535f-2a95-4021-8c5f-9c9d344a71c4",
   "metadata": {},
   "source": [
    "The outputs for each of these pipelines is a protein structure without a corresponding amino acid sequence. To create a sequence and test the structures designability we'll add an inverse folding and folding pipeline as well."
   ]
  },
  {
   "cell_type": "code",
   "execution_count": null,
   "id": "a9cf774f-b8d9-47e8-81ac-f47466303c66",
   "metadata": {},
   "outputs": [],
   "source": [
    "# Outputs are CA traces for some algorithms so we'll need that model loaded\n",
    "inverse_folder = models.ProteinMPNNForInverseFolding(model_name=\"ca_only_model-20\")\n",
    "folder = models.OmegaFoldForFolding()"
   ]
  },
  {
   "cell_type": "markdown",
   "id": "f738bffa-7788-4b1a-a2d7-a63427e28999",
   "metadata": {},
   "source": [
    "## Structure Design"
   ]
  },
  {
   "cell_type": "markdown",
   "id": "8ab31bb1-2527-4ca1-bb78-aff34741183b",
   "metadata": {},
   "source": [
    "To fairly compare all of the methods we'll generate structures with 128 residues. This requires passing an `InferenceConfig` to the pipelines. Relevant configs can be imported from `models` with the naming convention of `{model_name}_config.InferenceConfig`. `RFDiffusion` is an exception to this pattern and described in more detail in a standalone notebook."
   ]
  },
  {
   "cell_type": "code",
   "execution_count": null,
   "id": "08642dcb-b4aa-43f6-9cfb-0852c660c72c",
   "metadata": {},
   "outputs": [],
   "source": [
    "inference_params = {\n",
    "    # Maximum sequence length is 128 for FoldingDiff so we keep it\n",
    "    # for all pipelines\n",
    "    \"FoldingDiff\": models.foldingdiff_config.InferenceConfig(seq_len=128),\n",
    "    # Depending on the model Genie can generate up to 256 residue structures\n",
    "    \"Genie\": models.genie_config.InferenceConfig(seq_len=128),\n",
    "    # SE3Diffusion was tested up to 500 residues\n",
    "    \"SE3Diffusion\": models.se3_diffusion_config.InferenceConfig(length=128),\n",
    "    # RFDiffusion has a very different inference config setup that we'll\n",
    "    # discuss in a dedicated notebook.\n",
    "    \"RFDiffusion\": models.rfdiffusion_config.UnconditionalSamplerConfig(\n",
    "        contigmap_params=models.rfdiffusion_config.ContigMap(contigs=[\"128-128\"]),\n",
    "    ),\n",
    "}"
   ]
  },
  {
   "cell_type": "markdown",
   "id": "8d45197a-914c-4468-9f76-6e454312fa57",
   "metadata": {},
   "source": [
    "Generate structures with the given inference parameters."
   ]
  },
  {
   "cell_type": "code",
   "execution_count": null,
   "id": "60e68952-8709-4fd2-b02e-8f1c759e24e2",
   "metadata": {},
   "outputs": [],
   "source": [
    "designed_structures = {}\n",
    "aux_outputs = {}\n",
    "for sd_name, structure_designer in structure_designers.items():\n",
    "    print(f\"Running {sd_name}...\")\n",
    "    designed_structure, aux_output = structure_designer(inference_params[sd_name])\n",
    "    \n",
    "    designed_structures[sd_name] = designed_structure\n",
    "    aux_outputs[sd_name] = aux_output"
   ]
  },
  {
   "cell_type": "markdown",
   "id": "20dfddf5-692c-4182-9d97-c02749d7d241",
   "metadata": {},
   "source": [
    "In this case there are no `aux_outputs` from these models."
   ]
  },
  {
   "cell_type": "code",
   "execution_count": null,
   "id": "d2de9f16-e289-4d3c-badc-d51d5840c81b",
   "metadata": {},
   "outputs": [],
   "source": [
    "aux_outputs"
   ]
  },
  {
   "cell_type": "code",
   "execution_count": null,
   "id": "14bd62ca-a383-44fa-bc73-0fc7bd90a418",
   "metadata": {},
   "outputs": [],
   "source": [
    "designed_structures"
   ]
  },
  {
   "cell_type": "markdown",
   "id": "0d77e8f2-4d56-4cce-882a-8a0e6a66f3e8",
   "metadata": {},
   "source": [
    "The designed structures are mostly `CA` traces except for `RFDiffusion`. Since these models don't design a corresponding sequence to pair with the structure the prediction of sidechains is useless because they're residue specific. If we print the sequence of any of the designed structures we'll get a string of `glycines` because it's the only residue without a non-hydrogen sidechain."
   ]
  },
  {
   "cell_type": "code",
   "execution_count": null,
   "id": "a46fb541-d8e1-41a4-a810-4efc7f7cfc50",
   "metadata": {},
   "outputs": [],
   "source": [
    "print(\"Structure sequence:\", designed_structures[\"Genie\"].sequence())"
   ]
  },
  {
   "cell_type": "code",
   "execution_count": null,
   "id": "366e7bde-8724-4e4a-8ad4-dbcba8457e38",
   "metadata": {},
   "outputs": [],
   "source": [
    "designed_structures[\"Genie\"].show()"
   ]
  },
  {
   "cell_type": "code",
   "execution_count": null,
   "id": "c9f33227-a00c-4e2d-933a-e547028852f2",
   "metadata": {},
   "outputs": [],
   "source": [
    "# For consistency convert and show this structure as a CA trace\n",
    "designed_structures[\"RFDiffusion\"].to_ca_trace().show()"
   ]
  },
  {
   "cell_type": "markdown",
   "id": "e2f1f15a-f873-4617-83d4-92218754a4a5",
   "metadata": {},
   "source": [
    "Now let's design sequences for each of the generated structures."
   ]
  },
  {
   "cell_type": "code",
   "execution_count": null,
   "id": "bd9e75e5-428e-4301-ae13-b7762baf701a",
   "metadata": {},
   "outputs": [],
   "source": [
    "designed_sequences = {}\n",
    "sequence_aux_outputs = {}\n",
    "for sd_name, designed_structure in designed_structures.items():\n",
    "    designed_sequence, sequence_aux_out = inverse_folder(designed_structure)\n",
    "    designed_sequences[sd_name] = designed_sequence\n",
    "    sequence_aux_outputs[sd_name] = sequence_aux_out"
   ]
  },
  {
   "cell_type": "code",
   "execution_count": null,
   "id": "47e29edf-4320-46d7-8ca6-531a7d334196",
   "metadata": {},
   "outputs": [],
   "source": [
    "sequence_aux_outputs"
   ]
  },
  {
   "cell_type": "markdown",
   "id": "9be2f56c-e4e7-4f5d-889b-2f756589a3ed",
   "metadata": {},
   "source": [
    "Finally we'll fold the designed sequences with `OmegaFold` and compare the result to the unconditionally designed structure."
   ]
  },
  {
   "cell_type": "code",
   "execution_count": null,
   "id": "26df890b-ed61-4df6-8480-ea7791dcca5d",
   "metadata": {},
   "outputs": [],
   "source": [
    "folded_structures = {}\n",
    "folder_aux_outputs = {}\n",
    "for sd_name, designed_sequence in designed_sequences.items():\n",
    "    predicted_structure, folder_aux_out = folder(designed_sequence)\n",
    "    folded_structures[sd_name] = predicted_structure\n",
    "    folder_aux_outputs[sd_name] = folder_aux_out"
   ]
  },
  {
   "cell_type": "code",
   "execution_count": null,
   "id": "9b12f393-b651-4a92-a2f7-2ce77f9e1e92",
   "metadata": {},
   "outputs": [],
   "source": [
    "sd_name = \"RFDiffusion\"\n",
    "visual.view_superimposed_ca_traces(\n",
    "    [designed_structures[sd_name].to_ca_trace(), folded_structures[sd_name].to_ca_trace()]\n",
    ")"
   ]
  },
  {
   "cell_type": "markdown",
   "id": "3c52b80f-01aa-4f6b-8d28-be3ab0048550",
   "metadata": {},
   "source": [
    "## Joint sequence-structure design"
   ]
  },
  {
   "cell_type": "markdown",
   "id": "df542c39-b4f4-4b95-b61d-f42aaee71a7d",
   "metadata": {},
   "source": [
    "`Protein Generator` is similar to `RFDiffusion` but designs an amino acid sequence jointly with the structure. This allows us to skip the inverse folding step and directly compare a structure folded given the designed sequence against the designed structure."
   ]
  },
  {
   "cell_type": "code",
   "execution_count": null,
   "id": "7db8d7fc-619a-4930-84e0-54416f957eda",
   "metadata": {},
   "outputs": [],
   "source": [
    "joint_designer = models.ProteinGeneratorForJointDesign(model_name=\"auto\")\n",
    "joint_designer_params = models.protein_generator_config.InferenceConfig(\n",
    "    contigmap_params=models.protein_generator_config.ContigMap(contigs=[\"128-128\"]),\n",
    ")"
   ]
  },
  {
   "cell_type": "code",
   "execution_count": null,
   "id": "f3c51fa0-a2ca-4296-8d59-f206045a1a48",
   "metadata": {},
   "outputs": [],
   "source": [
    "designed_structure, designed_sequence, aux_output = joint_designer(joint_designer_params)"
   ]
  },
  {
   "cell_type": "code",
   "execution_count": null,
   "id": "297d3a47-8cd0-46df-b260-1b2c18a04dab",
   "metadata": {},
   "outputs": [],
   "source": [
    "predicted_structure, _ = folder(designed_sequence)"
   ]
  },
  {
   "cell_type": "code",
   "execution_count": null,
   "id": "651f5652-a31e-403d-aa0e-a9a1f99b2673",
   "metadata": {},
   "outputs": [],
   "source": [
    "visual.view_superimposed_structures(designed_structure, predicted_structure)"
   ]
  },
  {
   "cell_type": "code",
   "execution_count": null,
   "id": "6b393854-b483-451b-b77a-ae0608c431a9",
   "metadata": {},
   "outputs": [],
   "source": []
  }
 ],
 "metadata": {
  "kernelspec": {
   "display_name": "Python 3 (ipykernel)",
   "language": "python",
   "name": "python3"
  },
  "language_info": {
   "codemirror_mode": {
    "name": "ipython",
    "version": 3
   },
   "file_extension": ".py",
   "mimetype": "text/x-python",
   "name": "python",
   "nbconvert_exporter": "python",
   "pygments_lexer": "ipython3",
   "version": "3.10.11"
  }
 },
 "nbformat": 4,
 "nbformat_minor": 5
}
