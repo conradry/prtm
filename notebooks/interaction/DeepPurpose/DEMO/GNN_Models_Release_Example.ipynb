{
 "cells": [
  {
   "cell_type": "code",
   "execution_count": 1,
   "metadata": {},
   "outputs": [
    {
     "name": "stderr",
     "output_type": "stream",
     "text": [
      "Found local copy...\n",
      "generating training, validation splits...\n",
      "100%|██████████| 728/728 [00:00<00:00, 1378.45it/s]\n",
      "Using backend: pytorch\n"
     ]
    },
    {
     "name": "stdout",
     "output_type": "stream",
     "text": [
      "Drug Property Prediction Mode...\n",
      "in total: 637 drugs\n",
      "encoding drug...\n",
      "unique drugs: 634\n",
      "do not do train/test split on the data for already splitted data\n",
      "Drug Property Prediction Mode...\n",
      "in total: 91 drugs\n",
      "encoding drug...\n",
      "unique drugs: 91\n",
      "do not do train/test split on the data for already splitted data\n",
      "Drug Property Prediction Mode...\n",
      "in total: 182 drugs\n",
      "encoding drug...\n",
      "unique drugs: 181\n",
      "do not do train/test split on the data for already splitted data\n",
      "Let's use CPU/s!\n",
      "--- Data Preparation ---\n",
      "--- Go for Training ---\n",
      "Training at Epoch 1 iteration 0 with loss 33.4654. Total time 0.0 hours\n",
      "Validation at Epoch 1 , MSE: 1.84570 , Pearson Correlation: 0.28794 with p-value: 5.65E-03 , Concordance Index: 0.60782\n",
      "Training at Epoch 2 iteration 0 with loss 4.77358. Total time 0.00055 hours\n",
      "Validation at Epoch 2 , MSE: 3.82274 , Pearson Correlation: 0.47650 with p-value: 1.80E-06 , Concordance Index: 0.65207\n",
      "Training at Epoch 3 iteration 0 with loss 2.30286. Total time 0.00138 hours\n",
      "Validation at Epoch 3 , MSE: 2.37858 , Pearson Correlation: 0.44194 with p-value: 1.16E-05 , Concordance Index: 0.63789\n",
      "Training at Epoch 4 iteration 0 with loss 1.85074. Total time 0.00194 hours\n",
      "Validation at Epoch 4 , MSE: 1.72014 , Pearson Correlation: 0.57234 with p-value: 3.08E-09 , Concordance Index: 0.68007\n",
      "Training at Epoch 5 iteration 0 with loss 0.97545. Total time 0.00277 hours\n",
      "Validation at Epoch 5 , MSE: 1.26116 , Pearson Correlation: 0.58364 with p-value: 1.26E-09 , Concordance Index: 0.69278\n",
      "Training at Epoch 6 iteration 0 with loss 0.74741. Total time 0.00333 hours\n",
      "Validation at Epoch 6 , MSE: 1.13191 , Pearson Correlation: 0.67505 with p-value: 2.17E-13 , Concordance Index: 0.73080\n",
      "Training at Epoch 7 iteration 0 with loss 0.67488. Total time 0.00416 hours\n",
      "Validation at Epoch 7 , MSE: 0.91687 , Pearson Correlation: 0.68444 with p-value: 7.44E-14 , Concordance Index: 0.72249\n",
      "Training at Epoch 8 iteration 0 with loss 0.54359. Total time 0.00472 hours\n",
      "Validation at Epoch 8 , MSE: 0.80481 , Pearson Correlation: 0.65949 with p-value: 1.17E-12 , Concordance Index: 0.69938\n",
      "Training at Epoch 9 iteration 0 with loss 0.35596. Total time 0.00527 hours\n",
      "Validation at Epoch 9 , MSE: 0.96110 , Pearson Correlation: 0.68223 with p-value: 9.60E-14 , Concordance Index: 0.71784\n",
      "Training at Epoch 10 iteration 0 with loss 0.55490. Total time 0.00611 hours\n",
      "Validation at Epoch 10 , MSE: 0.78065 , Pearson Correlation: 0.68377 with p-value: 8.04E-14 , Concordance Index: 0.71931\n",
      "--- Go for Testing ---\n",
      "Testing MSE: 1.3013522857612316 , Pearson Correlation: 0.4783977334968594 with p-value: 8.47E-12 , Concordance Index: 0.5889595411757371\n",
      "--- Training Finished ---\n",
      "predicting...\n"
     ]
    },
    {
     "data": {
      "image/png": "[encoded data removed]",
      "text/plain": [
       "<Figure size 432x288 with 1 Axes>"
      ]
     },
     "metadata": {
      "needs_background": "light"
     },
     "output_type": "display_data"
    }
   ],
   "source": [
    "## if you are using the pip version, please comment out the below two lines\n",
    "import os\n",
    "os.chdir('../')\n",
    "\n",
    "from DeepPurpose import CompoundPred as models\n",
    "from DeepPurpose.utils import *\n",
    "from tdc import BenchmarkGroup\n",
    "group = BenchmarkGroup(name = 'ADMET_Group', path = 'data/')\n",
    "\n",
    "import warnings\n",
    "warnings.filterwarnings(\"ignore\")\n",
    "\n",
    "## 0.1.2 new supported models: \n",
    "## DGL_GCN, DGL_NeuralFP, DGL_GIN_AttrMasking, DGL_GIN_ContextPred, DGL_AttentiveFP  \n",
    "drug_encoding = 'DGL_GCN'\n",
    "    \n",
    "benchmark = group.get('Caco2_Wang')\n",
    "\n",
    "train, valid = group.get_train_valid_split(benchmark = benchmark['name'], split_type = 'default', seed = 1)\n",
    "\n",
    "train = data_process(X_drug = train.Drug.values, y = train.Y.values, \n",
    "                drug_encoding = drug_encoding,\n",
    "                split_method='no_split')\n",
    "\n",
    "val = data_process(X_drug = valid.Drug.values, y = valid.Y.values, \n",
    "                drug_encoding = drug_encoding,\n",
    "                split_method='no_split')\n",
    "\n",
    "test = data_process(X_drug = benchmark['test'].Drug.values, y = benchmark['test'].Y.values, \n",
    "                drug_encoding = drug_encoding,\n",
    "                split_method='no_split')\n",
    "\n",
    "config = generate_config(drug_encoding = drug_encoding, \n",
    "                         cls_hidden_dims = [512], \n",
    "                         train_epoch = 10, \n",
    "                         LR = 0.001, \n",
    "                         batch_size = 128,\n",
    "                        )\n",
    "\n",
    "model = models.model_initialize(**config)\n",
    "model.train(train, val, test, verbose = True)\n",
    "y_pred = model.predict(test)"
   ]
  },
  {
   "cell_type": "code",
   "execution_count": null,
   "metadata": {},
   "outputs": [],
   "source": []
  }
 ],
 "metadata": {
  "kernelspec": {
   "display_name": "Python [conda env:DeepPurpose]",
   "language": "python",
   "name": "conda-env-DeepPurpose-py"
  },
  "language_info": {
   "codemirror_mode": {
    "name": "ipython",
    "version": 3
   },
   "file_extension": ".py",
   "mimetype": "text/x-python",
   "name": "python",
   "nbconvert_exporter": "python",
   "pygments_lexer": "ipython3",
   "version": "3.7.7"
  }
 },
 "nbformat": 4,
 "nbformat_minor": 2
}
