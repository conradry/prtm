{
 "cells": [
  {
   "cell_type": "code",
   "execution_count": 1,
   "metadata": {},
   "outputs": [
    {
     "name": "stderr",
     "output_type": "stream",
     "text": [
      "RDKit WARNING: [21:35:02] Enabling RDKit 2019.09.3 jupyter extensions\n"
     ]
    }
   ],
   "source": [
    "import os\n",
    "os.chdir('../')\n",
    "from DeepPurpose import dataset\n",
    "\n",
    "import numpy as np\n",
    "import pandas as pd"
   ]
  },
  {
   "cell_type": "code",
   "execution_count": 2,
   "metadata": {},
   "outputs": [
    {
     "name": "stdout",
     "output_type": "stream",
     "text": [
      "Beginning Processing...\n",
      "Beginning to extract zip file...\n",
      "Default set to logspace (nM -> p) for easier regression\n",
      "Done!\n"
     ]
    }
   ],
   "source": [
    "SMILES, Target_seq, y = dataset.load_process_DAVIS()"
   ]
  },
  {
   "cell_type": "code",
   "execution_count": 16,
   "metadata": {},
   "outputs": [
    {
     "name": "stdout",
     "output_type": "stream",
     "text": [
      "Loading Dataset from path...\n"
     ]
    },
    {
     "name": "stderr",
     "output_type": "stream",
     "text": [
      "b'Skipping line 772572: expected 193 fields, saw 205\\nSkipping line 772598: expected 193 fields, saw 205\\n'\n",
      "b'Skipping line 805291: expected 193 fields, saw 205\\n'\n",
      "b'Skipping line 827961: expected 193 fields, saw 265\\n'\n",
      "b'Skipping line 1231688: expected 193 fields, saw 241\\n'\n",
      "b'Skipping line 1345591: expected 193 fields, saw 241\\nSkipping line 1345592: expected 193 fields, saw 241\\nSkipping line 1345593: expected 193 fields, saw 241\\nSkipping line 1345594: expected 193 fields, saw 241\\nSkipping line 1345595: expected 193 fields, saw 241\\nSkipping line 1345596: expected 193 fields, saw 241\\nSkipping line 1345597: expected 193 fields, saw 241\\nSkipping line 1345598: expected 193 fields, saw 241\\nSkipping line 1345599: expected 193 fields, saw 241\\n'\n",
      "b'Skipping line 1358864: expected 193 fields, saw 205\\n'\n",
      "b'Skipping line 1378087: expected 193 fields, saw 241\\nSkipping line 1378088: expected 193 fields, saw 241\\nSkipping line 1378089: expected 193 fields, saw 241\\nSkipping line 1378090: expected 193 fields, saw 241\\nSkipping line 1378091: expected 193 fields, saw 241\\nSkipping line 1378092: expected 193 fields, saw 241\\nSkipping line 1378093: expected 193 fields, saw 241\\nSkipping line 1378094: expected 193 fields, saw 241\\nSkipping line 1378095: expected 193 fields, saw 241\\n'\n",
      "b'Skipping line 1417264: expected 193 fields, saw 205\\n'\n",
      "/home/kh278/.conda/envs/DeepPurpose/lib/python3.7/site-packages/IPython/core/interactiveshell.py:3254: DtypeWarning: Columns (8,9,10,11,12,13,15,17,19,20,26,27,31,32,34,35,46,49,50,51,52,53,54,61,62,63,64,65,66,73,74,75,76,77,78,85,86,87,88,89,90,97,98,99,100,101,102,109,110,111,112,113,114,121,122,123,124,125,126,133,134,135,136,137,138,145,147,148,149,150,157,158,159,160,161,162,169,171,172,173,174) have mixed types.Specify dtype option on import or set low_memory=False.\n",
      "  if (await self.run_code(code, result,  async_=asy)):\n"
     ]
    },
    {
     "name": "stdout",
     "output_type": "stream",
     "text": [
      "Beginning Processing...\n",
      "There are 66444 drug target pairs.\n",
      "Default set to logspace (nM -> p) for easier regression\n"
     ]
    }
   ],
   "source": [
    "X_drug, X_target, y  = dataset.process_BindingDB('../data/BindingDB_All.tsv',\n",
    "                                         y = 'Kd', \n",
    "                                         binary = False, \n",
    "                                         convert_to_log = True)"
   ]
  },
  {
   "cell_type": "code",
   "execution_count": 22,
   "metadata": {},
   "outputs": [],
   "source": [
    "x = [i for i in np.unique(SMILES) if i in np.unique(X_drug)]"
   ]
  },
  {
   "cell_type": "code",
   "execution_count": 24,
   "metadata": {},
   "outputs": [
    {
     "data": {
      "text/plain": [
       "0"
      ]
     },
     "execution_count": 24,
     "metadata": {},
     "output_type": "execute_result"
    }
   ],
   "source": [
    "len(x)"
   ]
  },
  {
   "cell_type": "markdown",
   "metadata": {},
   "source": [
    "## This means DAVIS and our pretrained dataset is not overlapped. "
   ]
  },
  {
   "cell_type": "code",
   "execution_count": 4,
   "metadata": {},
   "outputs": [],
   "source": [
    "df_data = pd.DataFrame(zip(SMILES, Target_seq, y))\n",
    "df_data.rename(columns={0:'SMILES',\n",
    "                        1: 'Target Sequence',\n",
    "                        2: 'Label'}, \n",
    "                        inplace=True)"
   ]
  },
  {
   "cell_type": "code",
   "execution_count": 5,
   "metadata": {},
   "outputs": [],
   "source": [
    "df_1000 = df_data.sample(n = 1000, replace = False).reset_index(drop = True)"
   ]
  },
  {
   "cell_type": "code",
   "execution_count": 6,
   "metadata": {
    "scrolled": false
   },
   "outputs": [
    {
     "name": "stdout",
     "output_type": "stream",
     "text": [
      "Loading customized repurposing dataset...\n",
      "Checking if pretrained directory is valid...\n",
      "Beginning to load the pretrained models...\n",
      "Using pretrained model and making predictions...\n",
      "virtual screening...\n",
      "in total: 1000 drug-target pairs\n",
      "encoding drug...\n",
      "unique drugs: 68\n",
      "drug encoding finished...\n",
      "encoding protein...\n",
      "unique target sequence: 342\n",
      "protein encoding finished...\n",
      "Done.\n",
      "predicting...\n",
      "---------------\n",
      "Predictions from model 1 with drug encoding MPNN and target encoding CNN are done...\n",
      "-------------\n",
      "virtual screening...\n",
      "in total: 1000 drug-target pairs\n",
      "encoding drug...\n",
      "unique drugs: 68\n",
      "drug encoding finished...\n",
      "encoding protein...\n",
      "unique target sequence: 342\n",
      "protein encoding finished...\n",
      "Done.\n",
      "predicting...\n",
      "---------------\n",
      "Predictions from model 2 with drug encoding CNN and target encoding CNN are done...\n",
      "-------------\n",
      "virtual screening...\n",
      "in total: 1000 drug-target pairs\n",
      "encoding drug...\n",
      "unique drugs: 68\n",
      "drug encoding finished...\n",
      "encoding protein...\n",
      "unique target sequence: 342\n",
      "protein encoding finished...\n",
      "Done.\n",
      "predicting...\n",
      "---------------\n",
      "Predictions from model 3 with drug encoding Morgan and target encoding CNN are done...\n",
      "-------------\n",
      "virtual screening...\n",
      "in total: 1000 drug-target pairs\n",
      "encoding drug...\n",
      "unique drugs: 68\n",
      "drug encoding finished...\n",
      "encoding protein...\n",
      "unique target sequence: 342\n",
      "-- Encoding AAC takes time. Time Reference: 24s for ~100 sequences in a CPU. Calculate your time by the unique target sequence #, instead of the entire dataset.\n",
      "protein encoding finished...\n",
      "Done.\n",
      "predicting...\n",
      "---------------\n",
      "Predictions from model 4 with drug encoding Morgan and target encoding AAC are done...\n",
      "-------------\n",
      "virtual screening...\n",
      "in total: 1000 drug-target pairs\n",
      "encoding drug...\n",
      "unique drugs: 68\n",
      "drug encoding finished...\n",
      "encoding protein...\n",
      "unique target sequence: 342\n",
      "-- Encoding AAC takes time. Time Reference: 24s for ~100 sequences in a CPU. Calculate your time by the unique target sequence #, instead of the entire dataset.\n",
      "protein encoding finished...\n",
      "Done.\n",
      "predicting...\n",
      "---------------\n",
      "Predictions from model 5 with drug encoding Daylight and target encoding AAC are done...\n",
      "-------------\n",
      "models prediction finished...\n",
      "aggregating results...\n",
      "virtual screening...\n",
      "in total: 1000 drug-target pairs\n",
      "encoding drug...\n",
      "unique drugs: 68\n",
      "drug encoding finished...\n",
      "encoding protein...\n",
      "unique target sequence: 342\n",
      "-- Encoding AAC takes time. Time Reference: 24s for ~100 sequences in a CPU. Calculate your time by the unique target sequence #, instead of the entire dataset.\n",
      "protein encoding finished...\n",
      "Done.\n",
      "predicting...\n",
      "---------------\n",
      "Virtual Screening Result\n",
      "+------+-----------+-------------+---------------+\n",
      "| Rank | Drug Name | Target Name | Binding Score |\n",
      "+------+-----------+-------------+---------------+\n",
      "|  1   |  Drug 673 |  Target 673 |      0.17     |\n",
      "|  2   |  Drug 223 |  Target 223 |      0.82     |\n",
      "|  3   |  Drug 909 |  Target 909 |      1.26     |\n",
      "|  4   |   Drug 5  |   Target 5  |      1.61     |\n",
      "|  5   |  Drug 147 |  Target 147 |      1.91     |\n",
      "|  6   |  Drug 690 |  Target 690 |      2.21     |\n",
      "|  7   |  Drug 304 |  Target 304 |      2.30     |\n",
      "|  8   |  Drug 212 |  Target 212 |      2.97     |\n",
      "|  9   |  Drug 872 |  Target 872 |      4.31     |\n",
      "|  10  |  Drug 623 |  Target 623 |      4.53     |\n",
      "|  11  |  Drug 796 |  Target 796 |      4.65     |\n",
      "|  12  |  Drug 125 |  Target 125 |      5.22     |\n",
      "|  13  |  Drug 456 |  Target 456 |      5.34     |\n",
      "|  14  |  Drug 221 |  Target 221 |      7.97     |\n",
      "|  15  |  Drug 831 |  Target 831 |      8.69     |\n",
      "|  16  |  Drug 520 |  Target 520 |      8.70     |\n",
      "|  17  |  Drug 149 |  Target 149 |      8.82     |\n",
      "|  18  |  Drug 50  |  Target 50  |      9.54     |\n",
      "|  19  |  Drug 859 |  Target 859 |     10.59     |\n",
      "|  20  |  Drug 345 |  Target 345 |     11.26     |\n",
      "|  21  |  Drug 752 |  Target 752 |     12.16     |\n",
      "|  22  |  Drug 387 |  Target 387 |     12.22     |\n",
      "|  23  |  Drug 983 |  Target 983 |     12.36     |\n",
      "|  24  |  Drug 424 |  Target 424 |     13.19     |\n",
      "|  25  |  Drug 463 |  Target 463 |     14.33     |\n",
      "|  26  |  Drug 870 |  Target 870 |     14.50     |\n",
      "|  27  |  Drug 470 |  Target 470 |     14.63     |\n",
      "|  28  |  Drug 973 |  Target 973 |     15.59     |\n",
      "|  29  |  Drug 784 |  Target 784 |     15.92     |\n",
      "|  30  |  Drug 337 |  Target 337 |     16.16     |\n",
      "checkout ./save_folder/results_aggregation/virtual_screening.txt for the whole list\n",
      "\n"
     ]
    }
   ],
   "source": [
    "from DeepPurpose import oneliner\n",
    "oneliner.virtual_screening(df_1000['Target Sequence'].values, target_name = None, \n",
    "                X_repurpose = df_1000['SMILES'].values, \n",
    "                drug_names = None,\n",
    "                save_dir = './save_folder',               \n",
    "                pretrained_dir = './save_folder/pretrained_models/DeepPurpose_BindingDB/',\n",
    "                convert_y = True,\n",
    "                subsample_frac = 1,\n",
    "                pretrained = True,\n",
    "                split = 'random',\n",
    "                frac = [0.7,0.1,0.2],\n",
    "                agg = 'agg_mean_max',\n",
    "                output_len = 30)\n"
   ]
  },
  {
   "cell_type": "code",
   "execution_count": 7,
   "metadata": {},
   "outputs": [
    {
     "data": {
      "text/plain": [
       "(0.7789033207464225, 1.918887820416166e-204)"
      ]
     },
     "execution_count": 7,
     "metadata": {},
     "output_type": "execute_result"
    }
   ],
   "source": [
    "import pickle\n",
    "from utils import convert_y_unit\n",
    "with open('./save_folder/results_aggregation/logits_VS_mean_max.pkl', 'rb') as f:\n",
    "    list_ = pickle.load(f)\n",
    "result = convert_y_unit(list_, 'nM', 'p')\n",
    "from scipy.stats import pearsonr\n",
    "\n",
    "pearsonr(result, df_1000.Label.values)"
   ]
  },
  {
   "cell_type": "code",
   "execution_count": 43,
   "metadata": {},
   "outputs": [
    {
     "data": {
      "image/png": "[encoded data removed]",
      "text/plain": [
       "<Figure size 432x288 with 1 Axes>"
      ]
     },
     "metadata": {
      "needs_background": "light"
     },
     "output_type": "display_data"
    }
   ],
   "source": [
    "import seaborn as sns\n",
    "import matplotlib.pyplot as plt\n",
    "fontsize = 17\n",
    "\n",
    "sns.regplot(x=result, y=df_1000.Label.values, line_kws={\"color\":\"r\",\"alpha\":0.7,\"lw\":5})\n",
    "plt.xlabel('Predicted Kd', fontsize = fontsize)\n",
    "plt.ylabel('True Kd', fontsize = fontsize)\n",
    "plt.text(4.6, 9.5, \"R-Squared = 0.7789\", horizontalalignment='left', size='medium', color='red', fontsize = 15)\n",
    "plt.savefig('./correlation.pdf')"
   ]
  },
  {
   "cell_type": "code",
   "execution_count": null,
   "metadata": {},
   "outputs": [],
   "source": []
  }
 ],
 "metadata": {
  "kernelspec": {
   "display_name": "Python 3",
   "language": "python",
   "name": "python3"
  },
  "language_info": {
   "codemirror_mode": {
    "name": "ipython",
    "version": 3
   },
   "file_extension": ".py",
   "mimetype": "text/x-python",
   "name": "python",
   "nbconvert_exporter": "python",
   "pygments_lexer": "ipython3",
   "version": "3.7.7"
  }
 },
 "nbformat": 4,
 "nbformat_minor": 4
}
