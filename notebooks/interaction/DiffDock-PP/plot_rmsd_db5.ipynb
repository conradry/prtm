{
 "cells": [
  {
   "cell_type": "code",
   "execution_count": 1,
   "metadata": {},
   "outputs": [],
   "source": [
    "%load_ext autoreload\n",
    "%autoreload 2"
   ]
  },
  {
   "cell_type": "code",
   "execution_count": 2,
   "metadata": {},
   "outputs": [
    {
     "name": "stderr",
     "output_type": "stream",
     "text": [
      "/data/rsg/nlp/sdobers/miniconda3/envs/diffdock_protein/lib/python3.10/site-packages/tqdm/auto.py:22: TqdmWarning: IProgress not found. Please update jupyter and ipywidgets. See https://ipywidgets.readthedocs.io/en/stable/user_install.html\n",
      "  from .autonotebook import tqdm as notebook_tqdm\n"
     ]
    }
   ],
   "source": [
    "import yaml\n",
    "import os\n",
    "import torch\n",
    "import numpy as np\n",
    "import matplotlib.pyplot as plt\n",
    "from tqdm import tqdm\n",
    "import copy"
   ]
  },
  {
   "cell_type": "code",
   "execution_count": 3,
   "metadata": {},
   "outputs": [],
   "source": [
    "os.chdir('/data/rsg/nlp/sdobers/amine/diffdock-protein/src')\n",
    "\n",
    "from args import parse_args\n",
    "from data import load_data, get_data\n",
    "from data.data import BindingDataset\n",
    "from model import load_model, to_cuda\n",
    "from utils import printt, print_res, log, get_unixtime, compute_rmsd\n",
    "from train import train, evaluate, evaluate_pose\n",
    "from helpers import WandbLogger, TensorboardLogger\n",
    "from sample import sample"
   ]
  },
  {
   "cell_type": "code",
   "execution_count": 4,
   "metadata": {},
   "outputs": [],
   "source": [
    "from notebooks.utils_notebooks import Dict2Class"
   ]
  },
  {
   "cell_type": "code",
   "execution_count": 5,
   "metadata": {},
   "outputs": [
    {
     "name": "stdout",
     "output_type": "stream",
     "text": [
      "True\n"
     ]
    }
   ],
   "source": [
    "CUDA_VISIBLE_DEVICE = 1\n",
    "torch.cuda.set_device(CUDA_VISIBLE_DEVICE)\n",
    "print(torch.cuda.is_available())"
   ]
  },
  {
   "cell_type": "code",
   "execution_count": 6,
   "metadata": {},
   "outputs": [],
   "source": [
    "#PATH = '/data/rsg/nlp/sdobers/amine/diffdock-protein/ckpts/dips_medium_model/'\n",
    "#PATH = '/data/rsg/nlp/sdobers/amine/diffdock-protein/ckpts/dips_large_model/'\n",
    "#PATH = '/data/rsg/nlp/sdobers/amine/diffdock-protein/ckpts/dips_medium_model_no_bn_no_dropout/'\n",
    "PATH = '/data/rsg/nlp/sdobers/amine/diffdock-protein/ckpts/dips_medium_model_whole_db5/'"
   ]
  },
  {
   "cell_type": "code",
   "execution_count": 7,
   "metadata": {},
   "outputs": [],
   "source": [
    "# load args\n",
    "with open(os.path.join(PATH, 'args.yaml')) as f:\n",
    "    args = yaml.safe_load(f)\n",
    "args = Dict2Class(args)\n",
    "\n",
    "args.num_gpu = 1\n",
    "args.gpu = CUDA_VISIBLE_DEVICE\n",
    "#args.data_file = args.data_file.replace('data_file', 'data_file_only_val')\n",
    "args.checkpoint_path = PATH\n",
    "args.use_orientation_features = False\n",
    "if 'large' in PATH:\n",
    "    args.batch_size = 4"
   ]
  },
  {
   "cell_type": "code",
   "execution_count": 8,
   "metadata": {},
   "outputs": [
    {
     "name": "stderr",
     "output_type": "stream",
     "text": [
      "data loading: 100%|█| 253/253 [00:00<00:00, 755811\n"
     ]
    },
    {
     "name": "stdout",
     "output_type": "stream",
     "text": [
      "05:54:55 Loaded processed data from cache\n",
      "05:55:02 Loaded cached ESM embeddings\n",
      "05:55:02 finished tokenizing residues with ESM\n",
      "05:55:02 finished tokenizing all inputs\n",
      "05:55:02 253 entries loaded\n"
     ]
    }
   ],
   "source": [
    "# load raw data\n",
    "data = load_data(args)\n",
    "data_params = data.data_params"
   ]
  },
  {
   "cell_type": "code",
   "execution_count": 9,
   "metadata": {},
   "outputs": [],
   "source": [
    "loaders_for_reverse_diffusion = get_data(data, 0, args, for_reverse_diffusion=True)\n"
   ]
  },
  {
   "cell_type": "code",
   "execution_count": 10,
   "metadata": {},
   "outputs": [
    {
     "name": "stdout",
     "output_type": "stream",
     "text": [
      "len train: 203, len val: 25\n"
     ]
    }
   ],
   "source": [
    "train_loader = loaders_for_reverse_diffusion[\"train\"]\n",
    "val_loader = loaders_for_reverse_diffusion[\"val\"]\n",
    "print(f'len train: {len(train_loader)}, len val: {len(val_loader)}')"
   ]
  },
  {
   "cell_type": "code",
   "execution_count": 11,
   "metadata": {},
   "outputs": [
    {
     "name": "stderr",
     "output_type": "stream",
     "text": [
      "/data/rsg/nlp/sdobers/miniconda3/envs/diffdock_protein/lib/python3.10/site-packages/torch/jit/_check.py:181: UserWarning: The TorchScript type system doesn't support instance-level annotations on empty non-base types in `__init__`. Instead, either 1) use a type annotation in the class body, or 2) wrap the type in `torch.jit.Attribute`.\n",
      "  warnings.warn(\"The TorchScript type system doesn't support \"\n"
     ]
    },
    {
     "name": "stdout",
     "output_type": "stream",
     "text": [
      "05:58:49 loaded model with kwargs: \n",
      "05:58:49 loaded checkpoint from /data/rsg/nlp/sdobers/amine/diffdock-protein/ckpts/dips_medium_model_whole_db5/fold_0/model_best_468_36_0.749_0.749.pth\n",
      "05:59:17 Model with 261970 parameters\n"
     ]
    }
   ],
   "source": [
    "# get model and load checkpoint, if relevant\n",
    "model = load_model(args, data_params, 0)\n",
    "model = to_cuda(model, args)\n",
    "\n",
    "numel = sum([p.numel() for p in model.parameters()])\n",
    "printt('Model with', numel, 'parameters')"
   ]
  },
  {
   "cell_type": "code",
   "execution_count": 16,
   "metadata": {
    "scrolled": true
   },
   "outputs": [
    {
     "name": "stdout",
     "output_type": "stream",
     "text": [
      "06:00:43 Completed 0 out of 40 steps\n",
      "06:00:47 Completed 1 out of 40 steps\n",
      "06:00:50 Completed 2 out of 40 steps\n",
      "06:00:52 Completed 3 out of 40 steps\n",
      "06:00:54 Completed 4 out of 40 steps\n",
      "06:00:56 Completed 5 out of 40 steps\n",
      "06:00:58 Completed 6 out of 40 steps\n",
      "06:01:00 Completed 7 out of 40 steps\n",
      "06:01:02 Completed 8 out of 40 steps\n",
      "06:01:03 Completed 9 out of 40 steps\n",
      "06:01:05 Completed 10 out of 40 steps\n",
      "06:01:06 Completed 11 out of 40 steps\n",
      "06:01:08 Completed 12 out of 40 steps\n",
      "06:01:09 Completed 13 out of 40 steps\n",
      "06:01:10 Completed 14 out of 40 steps\n",
      "06:01:12 Completed 15 out of 40 steps\n",
      "06:01:13 Completed 16 out of 40 steps\n",
      "06:01:14 Completed 17 out of 40 steps\n",
      "06:01:15 Completed 18 out of 40 steps\n",
      "06:01:16 Completed 19 out of 40 steps\n",
      "06:01:17 Completed 20 out of 40 steps\n",
      "06:01:18 Completed 21 out of 40 steps\n",
      "06:01:19 Completed 22 out of 40 steps\n",
      "06:01:21 Completed 23 out of 40 steps\n",
      "06:01:22 Completed 24 out of 40 steps\n",
      "06:01:23 Completed 25 out of 40 steps\n",
      "06:01:24 Completed 26 out of 40 steps\n",
      "06:01:25 Completed 27 out of 40 steps\n",
      "06:01:26 Completed 28 out of 40 steps\n",
      "06:01:27 Completed 29 out of 40 steps\n",
      "06:01:28 Completed 30 out of 40 steps\n",
      "06:01:29 Completed 31 out of 40 steps\n",
      "06:01:30 Completed 32 out of 40 steps\n",
      "06:01:31 Completed 33 out of 40 steps\n",
      "06:01:32 Completed 34 out of 40 steps\n",
      "06:01:33 Completed 35 out of 40 steps\n",
      "06:01:34 Completed 36 out of 40 steps\n",
      "06:01:35 Completed 37 out of 40 steps\n",
      "06:01:36 Completed 38 out of 40 steps\n",
      "06:01:37 Completed 39 out of 40 steps\n"
     ]
    }
   ],
   "source": [
    "# run reverse diffusion process\n",
    "samples_val = sample(val_loader, model, args)\n",
    "# samples_val now contains all the graphs, with graph[\"ligand\"] contains the positions predicted by the model"
   ]
  },
  {
   "cell_type": "code",
   "execution_count": 18,
   "metadata": {},
   "outputs": [],
   "source": [
    "val_score = evaluate_pose(val_loader, samples_val)"
   ]
  },
  {
   "cell_type": "code",
   "execution_count": 19,
   "metadata": {},
   "outputs": [
    {
     "name": "stdout",
     "output_type": "stream",
     "text": [
      "{'rmsds_lt2': 0.0, 'rmsds_lt5': 0.0, 'rmsds_mean': 59.82955, 'rmsds_median': 52.96353}\n"
     ]
    }
   ],
   "source": [
    "rmsds_val = np.array(val_score[\"rmsd\"])\n",
    "reverse_diffusion_metrics_val = {'rmsds_lt2': (100 * (rmsds_val < 2).sum() / len(rmsds_val)),\n",
    "                             'rmsds_lt5': (100 * (rmsds_val < 5).sum() / len(rmsds_val)),\n",
    "                             'rmsds_mean': rmsds_val.mean(),\n",
    "                             'rmsds_median': np.median(rmsds_val)}\n",
    "print(reverse_diffusion_metrics_val)"
   ]
  },
  {
   "cell_type": "markdown",
   "metadata": {},
   "source": [
    "## now train"
   ]
  },
  {
   "cell_type": "code",
   "execution_count": 20,
   "metadata": {},
   "outputs": [
    {
     "name": "stdout",
     "output_type": "stream",
     "text": [
      "06:03:12 Completed 0 out of 40 steps\n",
      "06:03:36 Completed 1 out of 40 steps\n",
      "06:03:58 Completed 2 out of 40 steps\n",
      "06:04:20 Completed 3 out of 40 steps\n",
      "06:04:40 Completed 4 out of 40 steps\n",
      "06:05:00 Completed 5 out of 40 steps\n",
      "06:05:17 Completed 6 out of 40 steps\n",
      "06:05:34 Completed 7 out of 40 steps\n",
      "06:05:49 Completed 8 out of 40 steps\n",
      "06:06:03 Completed 9 out of 40 steps\n",
      "06:06:16 Completed 10 out of 40 steps\n",
      "06:06:28 Completed 11 out of 40 steps\n",
      "06:06:40 Completed 12 out of 40 steps\n",
      "06:06:51 Completed 13 out of 40 steps\n",
      "06:07:02 Completed 14 out of 40 steps\n",
      "06:07:13 Completed 15 out of 40 steps\n",
      "06:07:23 Completed 16 out of 40 steps\n",
      "06:07:33 Completed 17 out of 40 steps\n",
      "06:07:43 Completed 18 out of 40 steps\n",
      "06:07:52 Completed 19 out of 40 steps\n",
      "06:08:02 Completed 20 out of 40 steps\n",
      "06:08:11 Completed 21 out of 40 steps\n",
      "06:08:20 Completed 22 out of 40 steps\n",
      "06:08:30 Completed 23 out of 40 steps\n",
      "06:08:39 Completed 24 out of 40 steps\n",
      "06:08:48 Completed 25 out of 40 steps\n",
      "06:08:57 Completed 26 out of 40 steps\n",
      "06:09:06 Completed 27 out of 40 steps\n",
      "06:09:15 Completed 28 out of 40 steps\n",
      "06:09:24 Completed 29 out of 40 steps\n",
      "06:09:33 Completed 30 out of 40 steps\n",
      "06:09:42 Completed 31 out of 40 steps\n",
      "06:09:51 Completed 32 out of 40 steps\n",
      "06:10:00 Completed 33 out of 40 steps\n",
      "06:10:09 Completed 34 out of 40 steps\n",
      "06:10:17 Completed 35 out of 40 steps\n",
      "06:10:26 Completed 36 out of 40 steps\n",
      "06:10:35 Completed 37 out of 40 steps\n",
      "06:10:44 Completed 38 out of 40 steps\n",
      "06:10:53 Completed 39 out of 40 steps\n"
     ]
    }
   ],
   "source": [
    "samples_train = sample(train_loader, model, args)\n"
   ]
  },
  {
   "cell_type": "code",
   "execution_count": 24,
   "metadata": {},
   "outputs": [],
   "source": [
    "train_score = evaluate_pose(train_loader, samples_train)"
   ]
  },
  {
   "cell_type": "code",
   "execution_count": 25,
   "metadata": {},
   "outputs": [
    {
     "name": "stdout",
     "output_type": "stream",
     "text": [
      "{'rmsds_lt2': 0.0, 'rmsds_lt5': 0.0, 'rmsds_mean': 65.00141, 'rmsds_median': 59.79863}\n"
     ]
    }
   ],
   "source": [
    "rmsds_train = np.array(train_score[\"rmsd\"])\n",
    "reverse_diffusion_metrics_train = {'rmsds_lt2': (100 * (rmsds_train < 2).sum() / len(rmsds_train)),\n",
    "                             'rmsds_lt5': (100 * (rmsds_train < 5).sum() / len(rmsds_train)),\n",
    "                             'rmsds_mean': rmsds_train.mean(),\n",
    "                             'rmsds_median': np.median(rmsds_train)}\n",
    "print(reverse_diffusion_metrics_train)"
   ]
  },
  {
   "cell_type": "code",
   "execution_count": null,
   "metadata": {},
   "outputs": [],
   "source": []
  },
  {
   "cell_type": "code",
   "execution_count": 19,
   "metadata": {},
   "outputs": [
    {
     "data": {
      "text/plain": [
       "0.6305682"
      ]
     },
     "execution_count": 19,
     "metadata": {},
     "output_type": "execute_result"
    }
   ],
   "source": [
    "rmsds.min()"
   ]
  },
  {
   "cell_type": "code",
   "execution_count": 207,
   "metadata": {},
   "outputs": [
    {
     "name": "stdout",
     "output_type": "stream",
     "text": [
      "tensor(1.0215)\n"
     ]
    },
    {
     "data": {
      "image/png": "[encoded data removed]",
      "text/plain": [
       "<Figure size 432x288 with 1 Axes>"
      ]
     },
     "metadata": {
      "needs_background": "light"
     },
     "output_type": "display_data"
    }
   ],
   "source": [
    "true_graph, pred_graph = val_dataset_without_noise[rmsds.argmin()], samples_val[rmsds.argmin()]\n",
    "true_xyz = true_graph[\"ligand\"].pos\n",
    "pred_xyz = pred_graph[\"ligand\"].pos\n",
    "\n",
    "print(compute_rmsd(true_xyz, pred_xyz))\n",
    "\n",
    "#dist_from_com = torch.norm(true_xyz-true_xyz.mean(0), p=2, dim=1)\n",
    "dist_from_com = torch.norm(pred_xyz-pred_xyz.mean(0), p=2, dim=1)\n",
    "\n",
    "\n",
    "square_deviation_per_residue = ((true_xyz-pred_xyz)**2).sum(-1)\n",
    "plt.scatter(dist_from_com, square_deviation_per_residue, s=5)\n",
    "plt.show()\n"
   ]
  },
  {
   "cell_type": "code",
   "execution_count": 18,
   "metadata": {},
   "outputs": [
    {
     "name": "stderr",
     "output_type": "stream",
     "text": [
      "985it [00:00, 1598.41it/s]"
     ]
    },
    {
     "name": "stdout",
     "output_type": "stream",
     "text": [
      "(985,)\n",
      "(985,)\n",
      "(985,)\n"
     ]
    },
    {
     "name": "stderr",
     "output_type": "stream",
     "text": [
      "\n"
     ]
    }
   ],
   "source": [
    "num_residues = []\n",
    "average_dist_from_com = []\n",
    "max_dist_from_com = []\n",
    "for true_graph, pred_graph in tqdm(zip(val_dataset_without_noise, samples_val)):\n",
    "    \n",
    "    true_xyz = true_graph[\"ligand\"].pos\n",
    "    pred_xyz = pred_graph[\"ligand\"].pos\n",
    "    \n",
    "    num_residues.append(true_xyz.shape[0])\n",
    "    \n",
    "    dist_from_com = torch.norm(true_xyz-true_xyz.mean(0), p=2, dim=1)\n",
    "    average_dist_from_com.append(dist_from_com.mean())\n",
    "    max_dist_from_com.append(dist_from_com.max())\n",
    "    \n",
    "    dist_from_com_pred = torch.norm(pred_xyz-pred_xyz.mean(0), p=2, dim=1)\n",
    "    #print(f'MEAN. true: {dist_from_com.mean()}. pred: {dist_from_com_pred.mean()}')\n",
    "    #print(f'MAX. true: {dist_from_com.max()}. pred: {dist_from_com_pred.max()}')\n",
    "    \n",
    "    #square_deviation_per_residue = ((true_xyz-pred_xyz)**2).sum(-1)\n",
    "    #plt.scatter(dist_from_com, square_deviation_per_residue, s=5)\n",
    "    #plt.show()\n",
    "    #print(true_xyz.shape)\n",
    "    #print(pred_xyz.shape)\n",
    "    #break\n",
    "num_residues = np.array(num_residues)\n",
    "average_dist_from_com = np.array(average_dist_from_com)\n",
    "max_dist_from_com = np.array(max_dist_from_com)\n",
    "print(num_residues.shape)\n",
    "print(average_dist_from_com.shape)\n",
    "print(max_dist_from_com.shape)"
   ]
  },
  {
   "cell_type": "code",
   "execution_count": 91,
   "metadata": {},
   "outputs": [
    {
     "name": "stdout",
     "output_type": "stream",
     "text": [
      "tensor([[ 2.,  2.],\n",
      "        [ 1.,  1.],\n",
      "        [-3., -3.]])\n"
     ]
    },
    {
     "data": {
      "text/plain": [
       "tensor(4.2426)"
      ]
     },
     "execution_count": 91,
     "metadata": {},
     "output_type": "execute_result"
    }
   ],
   "source": [
    "a = torch.Tensor([[1,1],[0,0], [-4,-4]])\n",
    "b = a-torch.mean(a, dim=0)\n",
    "print(b)\n",
    "c = torch.norm(b, p=2, dim=1)\n",
    "c.max()"
   ]
  },
  {
   "cell_type": "code",
   "execution_count": 19,
   "metadata": {},
   "outputs": [
    {
     "data": {
      "image/png": "[encoded data removed]",
      "text/plain": [
       "<Figure size 432x288 with 1 Axes>"
      ]
     },
     "metadata": {
      "needs_background": "light"
     },
     "output_type": "display_data"
    }
   ],
   "source": [
    "plt.scatter(num_residues, rmsds, s=5)\n",
    "plt.title(\"medium model trained for 100 epochs on DIPS\")\n",
    "plt.xlabel(\"number of residues per ligand\")\n",
    "plt.ylabel(\"RMSD\")\n",
    "plt.show()"
   ]
  },
  {
   "cell_type": "code",
   "execution_count": 21,
   "metadata": {},
   "outputs": [
    {
     "data": {
      "image/png": "[encoded data removed]",
      "text/plain": [
       "<Figure size 432x288 with 1 Axes>"
      ]
     },
     "metadata": {
      "needs_background": "light"
     },
     "output_type": "display_data"
    }
   ],
   "source": [
    "plt.scatter(average_dist_from_com, rmsds, s=5)\n",
    "plt.title(\"medium model trained for 100 epochs on DIPS\")\n",
    "plt.xlabel(\"Average L2 distance of residues from their COM\")\n",
    "plt.ylabel(\"RMSD\")\n",
    "plt.show()"
   ]
  },
  {
   "cell_type": "code",
   "execution_count": 22,
   "metadata": {},
   "outputs": [
    {
     "data": {
      "image/png": "[encoded data removed]",
      "text/plain": [
       "<Figure size 432x288 with 1 Axes>"
      ]
     },
     "metadata": {
      "needs_background": "light"
     },
     "output_type": "display_data"
    }
   ],
   "source": [
    "plt.scatter(max_dist_from_com, rmsds, s=5)\n",
    "plt.title(\"medium model trained for 100 epochs on DIPS\")\n",
    "plt.xlabel(\"Max L2 distance of residues from their COM\")\n",
    "plt.ylabel(\"RMSD\")\n",
    "plt.show()"
   ]
  },
  {
   "cell_type": "code",
   "execution_count": 42,
   "metadata": {},
   "outputs": [
    {
     "name": "stderr",
     "output_type": "stream",
     "text": [
      "[autoreload of sample failed: Traceback (most recent call last):\n",
      "  File \"/data/rsg/nlp/sdobers/miniconda3/envs/diffdock_protein/lib/python3.10/site-packages/IPython/extensions/autoreload.py\", line 257, in check\n",
      "    superreload(m, reload, self.old_objects)\n",
      "  File \"/data/rsg/nlp/sdobers/miniconda3/envs/diffdock_protein/lib/python3.10/site-packages/IPython/extensions/autoreload.py\", line 455, in superreload\n",
      "    module = reload(module)\n",
      "  File \"/data/rsg/nlp/sdobers/miniconda3/envs/diffdock_protein/lib/python3.10/importlib/__init__.py\", line 168, in reload\n",
      "    raise ModuleNotFoundError(f\"spec not found for the module {name!r}\", name=name)\n",
      "ModuleNotFoundError: spec not found for the module 'sample'\n",
      "]\n"
     ]
    }
   ],
   "source": [
    "from torch_geometric.loader import DataLoader"
   ]
  },
  {
   "cell_type": "code",
   "execution_count": 44,
   "metadata": {},
   "outputs": [],
   "source": [
    "test_loader = DataLoader(val_loader, batch_size=args.batch_size)"
   ]
  },
  {
   "cell_type": "code",
   "execution_count": 54,
   "metadata": {},
   "outputs": [
    {
     "name": "stdout",
     "output_type": "stream",
     "text": [
      "cuda:1\n"
     ]
    }
   ],
   "source": [
    "for complex_graphs in test_loader:\n",
    "    complex_graphs = complex_graphs.cuda()\n",
    "    print(complex_graphs[\"ligand\"]['node_t']['tr'].device)\n",
    "    break"
   ]
  },
  {
   "cell_type": "code",
   "execution_count": null,
   "metadata": {},
   "outputs": [],
   "source": []
  }
 ],
 "metadata": {
  "kernelspec": {
   "display_name": "Python 3 (ipykernel)",
   "language": "python",
   "name": "python3"
  },
  "language_info": {
   "codemirror_mode": {
    "name": "ipython",
    "version": 3
   },
   "file_extension": ".py",
   "mimetype": "text/x-python",
   "name": "python",
   "nbconvert_exporter": "python",
   "pygments_lexer": "ipython3",
   "version": "3.10.8"
  },
  "vscode": {
   "interpreter": {
    "hash": "e05d7295fa6cad4a21e4fe3e74879e5399752387a2e5cfb08277f6b68f139a78"
   }
  }
 },
 "nbformat": 4,
 "nbformat_minor": 2
}
