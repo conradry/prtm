{
 "cells": [
  {
   "cell_type": "code",
   "execution_count": 39,
   "id": "e7bdb856-f45d-44e1-b893-552bbf8b7122",
   "metadata": {},
   "outputs": [],
   "source": [
    "import math\n",
    "import pandas as pd\n",
    "import os\n",
    "\n",
    "from biopandas.pdb import PandasPdb\n",
    "import numpy as np\n",
    "\n",
    "import torch\n",
    "\n",
    "from matplotlib import pyplot as plt\n",
    "import scipy.spatial as spa\n",
    "from tqdm import tqdm"
   ]
  },
  {
   "cell_type": "code",
   "execution_count": 3,
   "id": "aad98b5d-b26a-4a70-9878-8013b583b4c4",
   "metadata": {},
   "outputs": [],
   "source": [
    "# Input: expects 3xN matrix of points\n",
    "# Returns such R, t so that rmsd(R @ A + t, B) is min\n",
    "# Uses Kabsch algorithm (https://en.wikipedia.org/wiki/Kabsch_algorithm)\n",
    "# R = 3x3 rotation matrix\n",
    "# t = 3x1 column vector\n",
    "# This already takes residue identity into account.\n",
    "def rigid_transform_Kabsch_3D(A, B):\n",
    "    assert A.shape[1] == B.shape[1]\n",
    "    num_rows, num_cols = A.shape\n",
    "    if num_rows != 3:\n",
    "        raise Exception(f\"matrix A is not 3xN, it is {num_rows}x{num_cols}\")\n",
    "    num_rows, num_cols = B.shape\n",
    "    if num_rows != 3:\n",
    "        raise Exception(f\"matrix B is not 3xN, it is {num_rows}x{num_cols}\")\n",
    "\n",
    "\n",
    "    # find mean column wise: 3 x 1\n",
    "    centroid_A = np.mean(A, axis=1, keepdims=True)\n",
    "    centroid_B = np.mean(B, axis=1, keepdims=True)\n",
    "\n",
    "    # subtract mean\n",
    "    Am = A - centroid_A\n",
    "    Bm = B - centroid_B\n",
    "\n",
    "    H = Am @ Bm.T\n",
    "\n",
    "    # find rotation\n",
    "    U, S, Vt = np.linalg.svd(H)\n",
    "\n",
    "    R = Vt.T @ U.T\n",
    "\n",
    "    # special reflection case\n",
    "    if np.linalg.det(R) < 0:\n",
    "        # print(\"det(R) < R, reflection detected!, correcting for it ...\")\n",
    "        SS = np.diag([1.,1.,-1.])\n",
    "        R = (Vt.T @ SS) @ U.T\n",
    "    assert math.fabs(np.linalg.det(R) - 1) < 1e-5\n",
    "\n",
    "    t = -R @ centroid_A + centroid_B\n",
    "    return R, t"
   ]
  },
  {
   "cell_type": "code",
   "execution_count": 4,
   "id": "c92b4236-e7fb-45bc-a10b-7c84ce20d213",
   "metadata": {},
   "outputs": [],
   "source": [
    "def compute_rmsd(pred, true):\n",
    "    return np.sqrt(np.mean(np.sum((pred - true) ** 2, axis=1)))"
   ]
  },
  {
   "cell_type": "code",
   "execution_count": 5,
   "id": "5efed9c2-e873-4d19-9890-71ff0b6c1f83",
   "metadata": {},
   "outputs": [],
   "source": [
    "def get_rmsd_summary(rmsds):\n",
    "    rmsds_np = np.array(rmsds)\n",
    "    return {\n",
    "        'mean': np.mean(rmsds_np),\n",
    "        'median': np.median(rmsds_np),\n",
    "        'std': np.std(rmsds_np),\n",
    "        'lt1': 100 * (rmsds_np < 1.0).sum() / len(rmsds_np),\n",
    "        'lt2': 100 * (rmsds_np < 2.0).sum() / len(rmsds_np),\n",
    "        'lt5': 100 * (rmsds_np < 5.0).sum() / len(rmsds_np),\n",
    "        'lt10': 100 * (rmsds_np < 10.0).sum() / len(rmsds_np)\n",
    "    }"
   ]
  },
  {
   "cell_type": "code",
   "execution_count": 6,
   "id": "4002cd71-f03e-463f-b27a-ac62352560ac",
   "metadata": {},
   "outputs": [],
   "source": [
    "class RMSDComputer():\n",
    "    def __init__(self):\n",
    "        self.complex_rmsd_list = []\n",
    "        self.ligand_rmsd_list = []\n",
    "    \n",
    "    def update_all_rmsd(self, ligand_coors_pred, ligand_coors_true, receptor_coors):\n",
    "        complex_rmsd = self.update_complex_rmsd(ligand_coors_pred, ligand_coors_true, receptor_coors)\n",
    "        ligand_rmsd = self.update_ligand_rmsd(ligand_coors_pred, ligand_coors_true)\n",
    "        return complex_rmsd, ligand_rmsd\n",
    "\n",
    "    def update_complex_rmsd(self, ligand_coors_pred, ligand_coors_true, receptor_coors):\n",
    "        complex_coors_pred = np.concatenate((ligand_coors_pred, receptor_coors), axis=0)\n",
    "        complex_coors_true = np.concatenate((ligand_coors_true, receptor_coors), axis=0)\n",
    "\n",
    "        R,t = rigid_transform_Kabsch_3D(complex_coors_pred.T, complex_coors_true.T)\n",
    "        complex_coors_pred_aligned = (R @ complex_coors_pred.T + t).T\n",
    "\n",
    "        complex_rmsd = compute_rmsd(complex_coors_pred_aligned, complex_coors_true)\n",
    "        self.complex_rmsd_list.append(complex_rmsd)\n",
    "\n",
    "        return complex_rmsd\n",
    "\n",
    "    def update_ligand_rmsd(self, ligand_coors_pred, ligand_coors_true):\n",
    "        ligand_rmsd = compute_rmsd(ligand_coors_pred, ligand_coors_true)\n",
    "        self.ligand_rmsd_list.append(ligand_rmsd)\n",
    "        \n",
    "        return ligand_rmsd\n",
    "    \n",
    "    def summarize(self):\n",
    "        ligand_rmsd_summarized = get_rmsd_summary(self.ligand_rmsd_list) if self.ligand_rmsd_list else None\n",
    "        complex_rmsd_summarized = get_rmsd_summary(self.complex_rmsd_list)\n",
    "        return ligand_rmsd_summarized, complex_rmsd_summarized"
   ]
  },
  {
   "cell_type": "code",
   "execution_count": 9,
   "id": "752600c9-dbfb-495a-a16c-6eeb1495c700",
   "metadata": {},
   "outputs": [],
   "source": [
    "input_dir = '/data/rsg/nlp/sdobers/data/DIPS/hdock' "
   ]
  },
  {
   "cell_type": "code",
   "execution_count": 10,
   "id": "57f4ac70-39d1-4606-abd1-d5fe3410d41a",
   "metadata": {},
   "outputs": [
    {
     "name": "stdout",
     "output_type": "stream",
     "text": [
      "971\n",
      "962\n"
     ]
    }
   ],
   "source": [
    "directories_df = pd.read_csv(\"/data/rsg/nlp/sdobers/data/DIPS/data_file.csv\")\n",
    "directories_df = directories_df[directories_df.split == \"test\"]\n",
    "directories = [f\"{input_dir}/{path}\".replace('.dill', '') for path in directories_df.path.values]\n",
    "print(len(directories))\n",
    "directories = [directory for directory in directories if os.path.exists(f\"{directory}/output.pdb\")]\n",
    "print(len(directories))"
   ]
  },
  {
   "cell_type": "code",
   "execution_count": 11,
   "id": "2ddf9c78-8d04-4039-9467-b473a5688803",
   "metadata": {},
   "outputs": [],
   "source": [
    "def get_coords(pdb_file, atoms_to_keep, model_number=1):\n",
    "    ppdb = PandasPdb().read_pdb(pdb_file)\n",
    "    model = ppdb.get_model(model_number)\n",
    "    df = model.df['ATOM']\n",
    "    if len(atoms_to_keep) > 1:\n",
    "        df = df[df.atom_name.apply(lambda atom_name: atom_name in atoms_to_keep)]\n",
    "    else:\n",
    "        df = df[df.atom_name == atoms_to_keep[0]]\n",
    "    return df[['x_coord', 'y_coord', 'z_coord']].to_numpy().squeeze().astype(np.float32)"
   ]
  },
  {
   "cell_type": "code",
   "execution_count": 12,
   "id": "5083977e-f2ca-43be-859f-dd5b798dce71",
   "metadata": {},
   "outputs": [],
   "source": [
    "atoms_to_keep = (\"CA\", )"
   ]
  },
  {
   "cell_type": "code",
   "execution_count": 30,
   "id": "36486ff6-2428-4d16-8b46-1d3e1791e0e1",
   "metadata": {},
   "outputs": [
    {
     "name": "stderr",
     "output_type": "stream",
     "text": [
      "100%|███████████████████████████████████████████████████████████████████████████████████████████████████████████████████████████████████████| 16/16 [03:47<00:00, 14.22s/it]\n"
     ]
    }
   ],
   "source": [
    "from multiprocessing import Process, Manager\n",
    "\n",
    "pd.set_option('mode.chained_assignment', None) # Remove annoying warnings\n",
    "\n",
    "def extract_coordinates(sync_list_coors, directory):  # the managed list `L` passed explicitly.\n",
    "    ligand_model_file = f\"{directory}/output.pdb\"\n",
    "    ligand_gt_file = f\"{directory}/ligand_gt.pdb\"\n",
    "    receptor = f\"{directory}/receptor.pdb\"\n",
    "\n",
    "    ligand_model_coords = get_coords(ligand_model_file, atoms_to_keep)\n",
    "    ligand_gt_coords = get_coords(ligand_gt_file, atoms_to_keep)\n",
    "    receptor_coords = get_coords(receptor, atoms_to_keep)\n",
    "\n",
    "    assert ligand_model_coords.shape[0] == ligand_gt_coords.shape[0]\n",
    "\n",
    "    ligand_receptor_distance = spa.distance.cdist(ligand_gt_coords, receptor_coords)\n",
    "    positive_tuple = np.where(ligand_receptor_distance < 8.)\n",
    "    \n",
    "    active_ligand = positive_tuple[0]\n",
    "    active_receptor = positive_tuple[1]\n",
    "    \n",
    "    ligand_model_pocket_coors = ligand_model_coords[active_ligand, :]\n",
    "    ligand_gt_pocket_coors = ligand_gt_coords[active_ligand, :]\n",
    "    receptor_pocket_coors = receptor_coords[active_receptor, :]\n",
    "    \n",
    "    sync_list_coors.append((ligand_model_coords, ligand_gt_coords, receptor_coords, \n",
    "                     ligand_model_pocket_coors, ligand_gt_pocket_coors, receptor_pocket_coors))\n",
    "\n",
    "num_test_files = len(directories)\n",
    "\n",
    "with Manager() as manager:\n",
    "    sync_list_coors = manager.list()  # <-- can be shared between processes.\n",
    "    \n",
    "    for batch in tqdm(range(16), total = 16):\n",
    "        processes = []\n",
    "        \n",
    "        for i in range(64):\n",
    "            dir_number = batch * 64 + i\n",
    "            if dir_number >= num_test_files:\n",
    "                continue\n",
    "                \n",
    "            p = Process(target=extract_coordinates, args=(sync_list_coors, directories[dir_number]))  # Passing the list\n",
    "            p.start()\n",
    "            processes.append(p)\n",
    "            \n",
    "        for p in processes:\n",
    "            p.join()\n",
    "    list_coors = list(sync_list_coors)"
   ]
  },
  {
   "cell_type": "code",
   "execution_count": 33,
   "id": "3cbe1146-40e8-4420-abef-0b5a2678cd3d",
   "metadata": {},
   "outputs": [
    {
     "data": {
      "text/plain": [
       "6"
      ]
     },
     "execution_count": 33,
     "metadata": {},
     "output_type": "execute_result"
    }
   ],
   "source": [
    "len(list_coors[0])"
   ]
  },
  {
   "cell_type": "code",
   "execution_count": 35,
   "id": "5a70f8a2-1f9e-403a-afaa-96b6eb45e3c1",
   "metadata": {},
   "outputs": [
    {
     "name": "stderr",
     "output_type": "stream",
     "text": [
      "100%|███████████████████████████████████████████████████████████████████████████████████████████████████████████████████████████████████| 962/962 [00:00<00:00, 1749.30it/s]\n"
     ]
    }
   ],
   "source": [
    "meter = RMSDComputer()\n",
    "\n",
    "Irmsd_meter = RMSDComputer()\n",
    "\n",
    "all_crmsd = []\n",
    "all_irmsd = []\n",
    "all_lrmsd = []\n",
    "\n",
    "for coors in tqdm(list_coors):\n",
    "    ligand_model_coords, ligand_gt_coords, receptor_coords, ligand_model_pocket_coors, ligand_gt_pocket_coors, receptor_pocket_coors = coors\n",
    "    \n",
    "    crmsd, lrmsd = meter.update_all_rmsd(np.array(ligand_model_coords), np.array(ligand_gt_coords), np.array(receptor_coords))\n",
    "\n",
    "    irmsd = Irmsd_meter.update_complex_rmsd(np.array(ligand_model_pocket_coors), np.array(ligand_gt_pocket_coors), np.array(receptor_pocket_coors))\n",
    "\n",
    "    all_crmsd.append(crmsd)\n",
    "    all_lrmsd.append(lrmsd)\n",
    "    all_irmsd.append(irmsd)"
   ]
  },
  {
   "cell_type": "code",
   "execution_count": 36,
   "id": "e86a97c5-6660-43e8-a7cc-d190a791b8f7",
   "metadata": {},
   "outputs": [],
   "source": [
    "meter.__class__ = RMSDComputer\n",
    "Irmsd_meter.__class__ = RMSDComputer"
   ]
  },
  {
   "cell_type": "code",
   "execution_count": 37,
   "id": "59fedeee-27a6-416d-a8e5-b82aaf92934c",
   "metadata": {},
   "outputs": [],
   "source": [
    "lrmsd, crmsd = meter.summarize()\n",
    "_, irmsd = Irmsd_meter.summarize()"
   ]
  },
  {
   "cell_type": "code",
   "execution_count": 74,
   "id": "b6d50633-6ee4-493f-a42c-d675e926bbe4",
   "metadata": {},
   "outputs": [
    {
     "name": "stdout",
     "output_type": "stream",
     "text": [
      "Number of samples:\t\t962\n",
      "\n",
      "Ligand RMSD median/mean:\t1.84/25.7 ± 29.0\n",
      "Complex RMSD median/mean:\t0.691/10.3 ± 11.6\n",
      "Interface RMSD median/mean:\t0.531/8.58 ± 10.5\n",
      "\n",
      "Ligand lt1/lt2/lt5/lt10:\t41.7%/50.4%/51.8%/51.9%\n",
      "Complex lt1/lt2/lt5/lt10:\t51.1%/51.8%/51.9%/54.4%\n",
      "Interface lt1/lt2/lt5/lt10:\t51.8%/51.8%/52.7%/59.0%\n"
     ]
    }
   ],
   "source": [
    "print(f'Number of samples:\\t\\t{num_test_files}')\n",
    "print()\n",
    "print(f\"Ligand RMSD median/mean:\\t{lrmsd['median']:.3}/{lrmsd['mean']:.3} ± {lrmsd['std']:.3}\")\n",
    "print(f\"Complex RMSD median/mean:\\t{crmsd['median']:.3}/{crmsd['mean']:.3} ± {crmsd['std']:.3}\")\n",
    "print(f\"Interface RMSD median/mean:\\t{irmsd['median']:.3}/{irmsd['mean']:.3} ± {irmsd['std']:.3}\")\n",
    "print()\n",
    "print(f\"Ligand lt1/lt2/lt5/lt10:\\t{lrmsd['lt1']:.3}%/{lrmsd['lt2']:.3}%/{lrmsd['lt5']:.3}%/{lrmsd['lt10']:.3}%\")\n",
    "print(f\"Complex lt1/lt2/lt5/lt10:\\t{crmsd['lt1']:.3}%/{crmsd['lt2']:.3}%/{crmsd['lt5']:.3}%/{crmsd['lt10']:.3}%\")\n",
    "print(f\"Interface lt1/lt2/lt5/lt10:\\t{irmsd['lt1']:.3}%/{irmsd['lt2']:.3}%/{irmsd['lt5']:.3}%/{irmsd['lt10']:.3}%\")"
   ]
  },
  {
   "cell_type": "code",
   "execution_count": 72,
   "id": "b272a302-1af4-47e2-b359-730381d2e1e2",
   "metadata": {},
   "outputs": [
    {
     "data": {
      "image/png": "[encoded data removed]",
      "text/plain": [
       "<Figure size 1080x216 with 3 Axes>"
      ]
     },
     "metadata": {
      "needs_background": "light"
     },
     "output_type": "display_data"
    }
   ],
   "source": [
    "fig, ax = plt.subplots(1, 3, figsize = (15, 3))\n",
    "_ = ax[0].hist(all_lrmsd, bins=100)\n",
    "_ = ax[0].set(xlabel=\"Ligand RMSD\")\n",
    "\n",
    "_ = ax[1].hist(all_crmsd, bins=100)\n",
    "_ = ax[1].set(xlabel=\"Complex RMSD\")\n",
    "\n",
    "_ = ax[2].hist(all_irmsd, bins=100)\n",
    "_ = ax[2].set(xlabel=\"Interface RMSD\")"
   ]
  },
  {
   "cell_type": "code",
   "execution_count": 68,
   "id": "f34563cf-a878-424a-adb5-b9be2fd5a87f",
   "metadata": {},
   "outputs": [
    {
     "data": {
      "image/png": "[encoded data removed]",
      "text/plain": [
       "<Figure size 432x288 with 1 Axes>"
      ]
     },
     "metadata": {
      "needs_background": "light"
     },
     "output_type": "display_data"
    }
   ],
   "source": [
    "_ = plt.hist(all_crmsd, bins=1000)\n",
    "_ = plt.xlabel(\"Complex RMSD\")\n",
    "_ = plt.xlim([0, 2])\n",
    "_ = plt.xticks(np.linspace(0, 2, 11))"
   ]
  },
  {
   "cell_type": "code",
   "execution_count": 69,
   "id": "c3bdcd2e-07d2-4f72-b26b-0624f95b51fa",
   "metadata": {},
   "outputs": [
    {
     "data": {
      "image/png": "[encoded data removed]",
      "text/plain": [
       "<Figure size 432x288 with 1 Axes>"
      ]
     },
     "metadata": {
      "needs_background": "light"
     },
     "output_type": "display_data"
    }
   ],
   "source": [
    "_ = plt.hist(all_irmsd, bins=1000)\n",
    "_ = plt.xlabel(\"Interface RMSD\")\n",
    "_ = plt.xlim([0, 2])\n",
    "_ = plt.xticks(np.linspace(0, 2, 11))"
   ]
  },
  {
   "cell_type": "code",
   "execution_count": 70,
   "id": "bd989053-8316-4cdd-a4be-5430f3330f1c",
   "metadata": {},
   "outputs": [
    {
     "data": {
      "image/png": "[encoded data removed]",
      "text/plain": [
       "<Figure size 432x288 with 1 Axes>"
      ]
     },
     "metadata": {
      "needs_background": "light"
     },
     "output_type": "display_data"
    }
   ],
   "source": [
    "_ = plt.hist(all_lrmsd, bins=1000)\n",
    "_ = plt.xlabel(\"Ligand RMSD\")\n",
    "_ = plt.xlim([0, 5])\n",
    "_ = plt.xticks(np.linspace(0, 5, 11))"
   ]
  },
  {
   "cell_type": "code",
   "execution_count": null,
   "id": "29aa7c22-3a25-481e-b045-c53bd5ba7b66",
   "metadata": {},
   "outputs": [],
   "source": []
  }
 ],
 "metadata": {
  "kernelspec": {
   "display_name": "Python 3 (ipykernel)",
   "language": "python",
   "name": "python3"
  },
  "language_info": {
   "codemirror_mode": {
    "name": "ipython",
    "version": 3
   },
   "file_extension": ".py",
   "mimetype": "text/x-python",
   "name": "python",
   "nbconvert_exporter": "python",
   "pygments_lexer": "ipython3",
   "version": "3.10.8"
  }
 },
 "nbformat": 4,
 "nbformat_minor": 5
}
