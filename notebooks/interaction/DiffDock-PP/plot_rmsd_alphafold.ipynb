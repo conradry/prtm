{
 "cells": [
  {
   "cell_type": "code",
   "execution_count": 79,
   "id": "e7bdb856-f45d-44e1-b893-552bbf8b7122",
   "metadata": {},
   "outputs": [],
   "source": [
    "import math\n",
    "import pandas as pd\n",
    "import os\n",
    "\n",
    "from biopandas.pdb import PandasPdb\n",
    "import numpy as np\n",
    "\n",
    "import torch\n",
    "\n",
    "from matplotlib import pyplot as plt\n",
    "import scipy.spatial as spa\n",
    "from tqdm import tqdm"
   ]
  },
  {
   "cell_type": "code",
   "execution_count": 80,
   "id": "aad98b5d-b26a-4a70-9878-8013b583b4c4",
   "metadata": {},
   "outputs": [],
   "source": [
    "# Input: expects 3xN matrix of points\n",
    "# Returns such R, t so that rmsd(R @ A + t, B) is min\n",
    "# Uses Kabsch algorithm (https://en.wikipedia.org/wiki/Kabsch_algorithm)\n",
    "# R = 3x3 rotation matrix\n",
    "# t = 3x1 column vector\n",
    "# This already takes residue identity into account.\n",
    "def rigid_transform_Kabsch_3D(A, B):\n",
    "    assert A.shape[1] == B.shape[1]\n",
    "    num_rows, num_cols = A.shape\n",
    "    if num_rows != 3:\n",
    "        raise Exception(f\"matrix A is not 3xN, it is {num_rows}x{num_cols}\")\n",
    "    num_rows, num_cols = B.shape\n",
    "    if num_rows != 3:\n",
    "        raise Exception(f\"matrix B is not 3xN, it is {num_rows}x{num_cols}\")\n",
    "\n",
    "\n",
    "    # find mean column wise: 3 x 1\n",
    "    centroid_A = np.mean(A, axis=1, keepdims=True)\n",
    "    centroid_B = np.mean(B, axis=1, keepdims=True)\n",
    "\n",
    "    # subtract mean\n",
    "    Am = A - centroid_A\n",
    "    Bm = B - centroid_B\n",
    "\n",
    "    H = Am @ Bm.T\n",
    "\n",
    "    # find rotation\n",
    "    U, S, Vt = np.linalg.svd(H)\n",
    "\n",
    "    R = Vt.T @ U.T\n",
    "\n",
    "    # special reflection case\n",
    "    if np.linalg.det(R) < 0:\n",
    "        # print(\"det(R) < R, reflection detected!, correcting for it ...\")\n",
    "        SS = np.diag([1.,1.,-1.])\n",
    "        R = (Vt.T @ SS) @ U.T\n",
    "    assert math.fabs(np.linalg.det(R) - 1) < 1e-5\n",
    "\n",
    "    t = -R @ centroid_A + centroid_B\n",
    "    return R, t"
   ]
  },
  {
   "cell_type": "code",
   "execution_count": 81,
   "id": "c92b4236-e7fb-45bc-a10b-7c84ce20d213",
   "metadata": {},
   "outputs": [],
   "source": [
    "def compute_rmsd(pred, true):\n",
    "    return np.sqrt(np.mean(np.sum((pred - true) ** 2, axis=1)))"
   ]
  },
  {
   "cell_type": "code",
   "execution_count": 82,
   "id": "5efed9c2-e873-4d19-9890-71ff0b6c1f83",
   "metadata": {},
   "outputs": [],
   "source": [
    "def get_rmsd_summary(rmsds):\n",
    "    rmsds_np = np.array(rmsds)\n",
    "    return {\n",
    "        'mean': np.mean(rmsds_np),\n",
    "        'median': np.median(rmsds_np),\n",
    "        'std': np.std(rmsds_np),\n",
    "        'lt1': 100 * (rmsds_np < 1.0).sum() / len(rmsds_np),\n",
    "        'lt2': 100 * (rmsds_np < 2.0).sum() / len(rmsds_np),\n",
    "        'lt5': 100 * (rmsds_np < 5.0).sum() / len(rmsds_np),\n",
    "        'lt10': 100 * (rmsds_np < 10.0).sum() / len(rmsds_np)\n",
    "    }"
   ]
  },
  {
   "cell_type": "code",
   "execution_count": 101,
   "id": "4002cd71-f03e-463f-b27a-ac62352560ac",
   "metadata": {},
   "outputs": [],
   "source": [
    "class RMSDComputer():\n",
    "    def __init__(self):\n",
    "        self.complex_rmsd_list = []\n",
    "        self.ligand_rmsd_list = []\n",
    "        self.receptor_rmsd_list = []\n",
    "    \n",
    "    def update_all_rmsd(self, ligand_coors_pred, receptor_coors_pred, ligand_coors_true, receptor_coors_true):\n",
    "        complex_rmsd = self.update_complex_rmsd(ligand_coors_pred, receptor_coors_pred, ligand_coors_true, receptor_coors_true)\n",
    "        ligand_rmsd = self.update_ligand_rmsd(ligand_coors_pred, receptor_coors_pred, ligand_coors_true, receptor_coors_true)\n",
    "        return complex_rmsd, ligand_rmsd\n",
    "\n",
    "    def update_complex_rmsd(self, ligand_coors_pred, receptor_coors_pred, ligand_coors_true, receptor_coors_true):\n",
    "        complex_coors_pred = np.concatenate((ligand_coors_pred, receptor_coors_pred), axis=0)\n",
    "        complex_coors_true = np.concatenate((ligand_coors_true, receptor_coors_true), axis=0)\n",
    "\n",
    "        R,t = rigid_transform_Kabsch_3D(complex_coors_pred.T, complex_coors_true.T)\n",
    "        complex_coors_pred_aligned = (R @ complex_coors_pred.T + t).T\n",
    "\n",
    "        complex_rmsd = compute_rmsd(complex_coors_pred_aligned, complex_coors_true)\n",
    "        self.complex_rmsd_list.append(complex_rmsd)\n",
    "\n",
    "        return complex_rmsd\n",
    "\n",
    "    def update_ligand_rmsd(self, ligand_coors_pred, receptor_coors_pred, ligand_coors_true, receptor_coors_true):\n",
    "        if np.allclose(receptor_coors_pred, receptor_coors_true, rtol=1e-6):\n",
    "            ligand_coors_pred_aligned = ligand_coors_pred\n",
    "        else:\n",
    "            R, t = rigid_transform_Kabsch_3D(receptor_coors_pred.T, receptor_coors_true.T)\n",
    "            ligand_coors_pred_aligned = (R @ ligand_coors_pred.T + t).T\n",
    "        \n",
    "        ligand_rmsd = compute_rmsd(ligand_coors_pred_aligned, ligand_coors_true)\n",
    "        self.ligand_rmsd_list.append(ligand_rmsd)\n",
    "        \n",
    "        return ligand_rmsd\n",
    "    \n",
    "    def summarize(self):\n",
    "        ligand_rmsd_summarized = get_rmsd_summary(self.ligand_rmsd_list) if self.ligand_rmsd_list else None\n",
    "        complex_rmsd_summarized = get_rmsd_summary(self.complex_rmsd_list)\n",
    "        return ligand_rmsd_summarized, complex_rmsd_summarized"
   ]
  },
  {
   "cell_type": "code",
   "execution_count": 102,
   "id": "752600c9-dbfb-495a-a16c-6eeb1495c700",
   "metadata": {},
   "outputs": [],
   "source": [
    "ground_truth_dir = f\"/data/rsg/nlp/sdobers/ruslan/equidock_public/test_sets_pdb/dips_test_random_transformed/complexes/\"\n",
    "\n",
    "pdb_files = [f for f in os.listdir(ground_truth_dir) if \n",
    "             os.path.isfile(os.path.join(ground_truth_dir, f)) \n",
    "             and f.endswith('.pdb')\n",
    "            and \"_l_\" in f]\n",
    "pdb_files = sorted(pdb_files)"
   ]
  },
  {
   "cell_type": "code",
   "execution_count": 103,
   "id": "89e9c40d-2bc9-4182-a59b-0575a8173fe2",
   "metadata": {},
   "outputs": [
    {
     "data": {
      "text/plain": [
       "'a9_1a95.pdb1_3.dill_l_b_COMPLEX.pdb'"
      ]
     },
     "execution_count": 103,
     "metadata": {},
     "output_type": "execute_result"
    }
   ],
   "source": [
    "# len(pdb_files)\n",
    "pdb_files[0]"
   ]
  },
  {
   "cell_type": "code",
   "execution_count": 104,
   "id": "a9e17a2e-5d5c-4200-a3eb-e7304ac4c07a",
   "metadata": {},
   "outputs": [],
   "source": [
    "def get_alphafold_result_pdb(pdb_file):\n",
    "    alphafold_result = \"/data/rsg/nlp/sdobers/ruslan/alphafold_results\"\n",
    "    return f\"{alphafold_result}/{pdb_file.replace('.dill_l_b_COMPLEX.pdb', '')}/ranked_0.pdb\""
   ]
  },
  {
   "cell_type": "code",
   "execution_count": 105,
   "id": "464393a8-62fd-4dd5-a875-7d05d61285fb",
   "metadata": {},
   "outputs": [
    {
     "data": {
      "text/plain": [
       "'/data/rsg/nlp/sdobers/ruslan/alphafold_results/a9_1a95.pdb1_3/ranked_0.pdb'"
      ]
     },
     "execution_count": 105,
     "metadata": {},
     "output_type": "execute_result"
    }
   ],
   "source": [
    "get_alphafold_result_pdb(pdb_files[0])"
   ]
  },
  {
   "cell_type": "code",
   "execution_count": 106,
   "id": "b8025db6-23f0-4116-8e55-ca0d02f0d6c3",
   "metadata": {},
   "outputs": [],
   "source": [
    "def get_coords_from_df(df, chain, atoms_to_keep):\n",
    "    df = df[df.chain_id == chain]\n",
    "    df = df[df[\"atom_name\"].apply(lambda atom_name: atom_name in atoms_to_keep)]\n",
    "    return df[['x_coord', 'y_coord', 'z_coord']].to_numpy().squeeze().astype(np.float32)\n",
    "    "
   ]
  },
  {
   "cell_type": "code",
   "execution_count": 107,
   "id": "8a92db79-f7a9-42d4-9721-7a0667f28a54",
   "metadata": {},
   "outputs": [],
   "source": [
    "def get_alphagfold_coords(pdb_file, atoms_to_keep):\n",
    "    pdb_file = get_alphafold_result_pdb(pdb_file)\n",
    "    ppdb_model = PandasPdb().read_pdb(pdb_file)\n",
    "    df = ppdb_model.df['ATOM']\n",
    "    return get_coords_from_df(df, 'A', atoms_to_keep), get_coords_from_df(df, 'B', atoms_to_keep)"
   ]
  },
  {
   "cell_type": "code",
   "execution_count": 108,
   "id": "cf31984b-9fcf-4fd0-8517-926a5c80e926",
   "metadata": {},
   "outputs": [],
   "source": [
    "def get_gt_coords(pdb_file, atoms_to_keep):\n",
    "    ppdb_model = PandasPdb().read_pdb(pdb_file)\n",
    "    df = ppdb_model.df['ATOM']\n",
    "    df = df[df[\"atom_name\"].apply(lambda atom_name: atom_name in atoms_to_keep)]\n",
    "    return df[['x_coord', 'y_coord', 'z_coord']].to_numpy().squeeze().astype(np.float32)"
   ]
  },
  {
   "cell_type": "code",
   "execution_count": 109,
   "id": "5083977e-f2ca-43be-859f-dd5b798dce71",
   "metadata": {},
   "outputs": [],
   "source": [
    "atoms_to_keep = (\"CA\", )"
   ]
  },
  {
   "cell_type": "code",
   "execution_count": 149,
   "id": "36486ff6-2428-4d16-8b46-1d3e1791e0e1",
   "metadata": {},
   "outputs": [
    {
     "name": "stderr",
     "output_type": "stream",
     "text": [
      " 65%|███████████████████████████████████████████████████████████████████████████████████████                                               | 65/100 [00:20<00:10,  3.24it/s]"
     ]
    },
    {
     "name": "stdout",
     "output_type": "stream",
     "text": [
      "p7_4p7s.pdb1_2.dill_l_b_COMPLEX.pdb\n",
      "receptor 92 93\n"
     ]
    },
    {
     "name": "stderr",
     "output_type": "stream",
     "text": [
      " 92%|███████████████████████████████████████████████████████████████████████████████████████████████████████████████████████████▎          | 92/100 [00:28<00:02,  3.31it/s]"
     ]
    },
    {
     "name": "stdout",
     "output_type": "stream",
     "text": [
      "tn_3tnp.pdb1_2.dill_l_b_COMPLEX.pdb\n",
      "ligand 269 270\n"
     ]
    },
    {
     "name": "stderr",
     "output_type": "stream",
     "text": [
      "100%|█████████████████████████████████████████████████████████████████████████████████████████████████████████████████████████████████████| 100/100 [00:31<00:00,  3.16it/s]\n"
     ]
    }
   ],
   "source": [
    "pd.set_option('mode.chained_assignment', None) # Remove annoying warnings\n",
    "\n",
    "meter = RMSDComputer()\n",
    "\n",
    "Irmsd_meter = RMSDComputer()\n",
    "\n",
    "all_crmsd = []\n",
    "all_irmsd = []\n",
    "all_lrmsd = []\n",
    "\n",
    "num_test_files = 0\n",
    "\n",
    "for pdb_file in tqdm(pdb_files):\n",
    "    # print(pdb_file)\n",
    "    ligand_gt_file = f\"{ground_truth_dir}/{pdb_file}\"\n",
    "    receptor_gt_file = f\"{ground_truth_dir}/{pdb_file.replace('_l_', '_r_')}\"\n",
    "\n",
    "    ligand_model_coords, receptor_model_coords = get_alphagfold_coords(pdb_file, atoms_to_keep)\n",
    "    # assert len(receptor_model_coords) >= len(ligand_model_coords)\n",
    "\n",
    "    ligand_gt_coords = get_gt_coords(ligand_gt_file, atoms_to_keep)\n",
    "    receptor_gt_coords = get_gt_coords(receptor_gt_file, atoms_to_keep)\n",
    "\n",
    "    if ligand_model_coords.shape[0] != ligand_gt_coords.shape[0]:\n",
    "        print(pdb_file)\n",
    "        print(\"ligand\", ligand_model_coords.shape[0], ligand_gt_coords.shape[0])\n",
    "        ligand_gt_coords = ligand_gt_coords[:-1]\n",
    "        # continue\n",
    "    if receptor_model_coords.shape[0] != receptor_gt_coords.shape[0]:\n",
    "        print(pdb_file)\n",
    "        print(\"receptor\", receptor_model_coords.shape[0], receptor_gt_coords.shape[0])\n",
    "        receptor_gt_coords = receptor_gt_coords[:-1]\n",
    "        # continue\n",
    "\n",
    "    ligand_receptor_distance = spa.distance.cdist(ligand_gt_coords, receptor_gt_coords)\n",
    "    positive_tuple = np.where(ligand_receptor_distance < 8.)\n",
    "\n",
    "    active_ligand = positive_tuple[0]\n",
    "    active_receptor = positive_tuple[1]\n",
    "\n",
    "    ligand_model_pocket_coors = ligand_model_coords[active_ligand, :]\n",
    "    receptor_model_pocket_coors = receptor_model_coords[active_receptor, :]\n",
    "\n",
    "    ligand_gt_pocket_coors = ligand_gt_coords[active_ligand, :]\n",
    "    receptor_gt_pocket_coors = receptor_gt_coords[active_receptor, :]\n",
    "\n",
    "\n",
    "    crmsd, lrmsd = meter.update_all_rmsd(np.array(ligand_model_coords), np.array(receptor_model_coords),\n",
    "                      np.array(ligand_gt_coords), np.array(receptor_gt_coords))\n",
    "\n",
    "    irmsd = Irmsd_meter.update_complex_rmsd(np.array(ligand_model_pocket_coors), np.array(receptor_model_pocket_coors),\n",
    "                            np.array(ligand_gt_pocket_coors), np.array(receptor_gt_pocket_coors))\n",
    "\n",
    "    all_crmsd.append(crmsd)\n",
    "    all_lrmsd.append(lrmsd)\n",
    "    all_irmsd.append(irmsd)\n",
    "    \n",
    "    num_test_files += 1"
   ]
  },
  {
   "cell_type": "code",
   "execution_count": 150,
   "id": "e86a97c5-6660-43e8-a7cc-d190a791b8f7",
   "metadata": {},
   "outputs": [],
   "source": [
    "meter.__class__ = RMSDComputer\n",
    "Irmsd_meter.__class__ = RMSDComputer"
   ]
  },
  {
   "cell_type": "code",
   "execution_count": 151,
   "id": "59fedeee-27a6-416d-a8e5-b82aaf92934c",
   "metadata": {},
   "outputs": [],
   "source": [
    "lrmsd, crmsd = meter.summarize()\n",
    "_, irmsd = Irmsd_meter.summarize()"
   ]
  },
  {
   "cell_type": "code",
   "execution_count": 152,
   "id": "b6d50633-6ee4-493f-a42c-d675e926bbe4",
   "metadata": {},
   "outputs": [
    {
     "name": "stdout",
     "output_type": "stream",
     "text": [
      "Number of samples:\t\t100\n",
      "\n",
      "Ligand RMSD median/mean:\t24.0/29.7 ± 30.0\n",
      "Complex RMSD median/mean:\t8.61/11.7 ± 11.1\n",
      "Interface RMSD median/mean:\t6.67/9.15 ± 10.9\n",
      "\n",
      "Ligand lt1/lt2/lt5/lt10:\t14.0%/31.0%/43.0%/45.0%\n",
      "Complex lt1/lt2/lt5/lt10:\t24.0%/39.0%/45.0%/52.0%\n",
      "Interface lt1/lt2/lt5/lt10:\t39.0%/45.0%/47.0%/58.0%\n"
     ]
    }
   ],
   "source": [
    "print(f'Number of samples:\\t\\t{num_test_files}')\n",
    "print()\n",
    "print(f\"Ligand RMSD median/mean:\\t{lrmsd['median']:.3}/{lrmsd['mean']:.3} ± {lrmsd['std']:.3}\")\n",
    "print(f\"Complex RMSD median/mean:\\t{crmsd['median']:.3}/{crmsd['mean']:.3} ± {crmsd['std']:.3}\")\n",
    "print(f\"Interface RMSD median/mean:\\t{irmsd['median']:.3}/{irmsd['mean']:.3} ± {irmsd['std']:.3}\")\n",
    "print()\n",
    "print(f\"Ligand lt1/lt2/lt5/lt10:\\t{lrmsd['lt1']:.3}%/{lrmsd['lt2']:.3}%/{lrmsd['lt5']:.3}%/{lrmsd['lt10']:.3}%\")\n",
    "print(f\"Complex lt1/lt2/lt5/lt10:\\t{crmsd['lt1']:.3}%/{crmsd['lt2']:.3}%/{crmsd['lt5']:.3}%/{crmsd['lt10']:.3}%\")\n",
    "print(f\"Interface lt1/lt2/lt5/lt10:\\t{irmsd['lt1']:.3}%/{irmsd['lt2']:.3}%/{irmsd['lt5']:.3}%/{irmsd['lt10']:.3}%\")"
   ]
  },
  {
   "cell_type": "code",
   "execution_count": 154,
   "id": "b272a302-1af4-47e2-b359-730381d2e1e2",
   "metadata": {},
   "outputs": [
    {
     "data": {
      "image/png": "[encoded data removed]",
      "text/plain": [
       "<Figure size 3000x600 with 3 Axes>"
      ]
     },
     "metadata": {},
     "output_type": "display_data"
    }
   ],
   "source": [
    "fig, ax = plt.subplots(1, 3, figsize = (30, 6))\n",
    "_ = ax[0].hist(all_lrmsd, bins=100)\n",
    "_ = ax[0].set(xlabel=\"Ligand RMSD\")\n",
    "\n",
    "_ = ax[1].hist(all_crmsd, bins=100)\n",
    "_ = ax[1].set(xlabel=\"Complex RMSD\")\n",
    "\n",
    "_ = ax[2].hist(all_irmsd, bins=100)\n",
    "_ = ax[2].set(xlabel=\"Interface RMSD\")\n",
    "\n",
    "plt.savefig(\"./alphafold.png\")"
   ]
  },
  {
   "cell_type": "code",
   "execution_count": 155,
   "id": "f34563cf-a878-424a-adb5-b9be2fd5a87f",
   "metadata": {},
   "outputs": [
    {
     "data": {
      "image/png": "[encoded data removed]",
      "text/plain": [
       "<Figure size 640x480 with 1 Axes>"
      ]
     },
     "metadata": {},
     "output_type": "display_data"
    }
   ],
   "source": [
    "_ = plt.hist(all_crmsd, bins=1000)\n",
    "_ = plt.xlabel(\"Complex RMSD\")\n",
    "_ = plt.xlim([0, 2])\n",
    "_ = plt.xticks(np.linspace(0, 2, 11))"
   ]
  },
  {
   "cell_type": "code",
   "execution_count": 156,
   "id": "c3bdcd2e-07d2-4f72-b26b-0624f95b51fa",
   "metadata": {},
   "outputs": [
    {
     "data": {
      "image/png": "[encoded data removed]",
      "text/plain": [
       "<Figure size 640x480 with 1 Axes>"
      ]
     },
     "metadata": {},
     "output_type": "display_data"
    }
   ],
   "source": [
    "_ = plt.hist(all_irmsd, bins=1000)\n",
    "_ = plt.xlabel(\"Interface RMSD\")\n",
    "_ = plt.xlim([0, 2])\n",
    "_ = plt.xticks(np.linspace(0, 2, 11))"
   ]
  },
  {
   "cell_type": "code",
   "execution_count": 157,
   "id": "bd989053-8316-4cdd-a4be-5430f3330f1c",
   "metadata": {},
   "outputs": [
    {
     "data": {
      "image/png": "[encoded data removed]",
      "text/plain": [
       "<Figure size 640x480 with 1 Axes>"
      ]
     },
     "metadata": {},
     "output_type": "display_data"
    }
   ],
   "source": [
    "_ = plt.hist(all_lrmsd, bins=1000)\n",
    "_ = plt.xlabel(\"Ligand RMSD\")\n",
    "_ = plt.xlim([0, 5])\n",
    "_ = plt.xticks(np.linspace(0, 5, 11))"
   ]
  },
  {
   "cell_type": "code",
   "execution_count": null,
   "id": "29aa7c22-3a25-481e-b045-c53bd5ba7b66",
   "metadata": {},
   "outputs": [],
   "source": []
  }
 ],
 "metadata": {
  "kernelspec": {
   "display_name": "Python 3 (ipykernel)",
   "language": "python",
   "name": "python3"
  },
  "language_info": {
   "codemirror_mode": {
    "name": "ipython",
    "version": 3
   },
   "file_extension": ".py",
   "mimetype": "text/x-python",
   "name": "python",
   "nbconvert_exporter": "python",
   "pygments_lexer": "ipython3",
   "version": "3.9.15"
  }
 },
 "nbformat": 4,
 "nbformat_minor": 5
}
