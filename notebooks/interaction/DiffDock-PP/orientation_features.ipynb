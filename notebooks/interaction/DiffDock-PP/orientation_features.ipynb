{
 "cells": [
  {
   "cell_type": "code",
   "execution_count": 1,
   "id": "4281f22a",
   "metadata": {},
   "outputs": [],
   "source": [
    "%load_ext autoreload\n",
    "%autoreload 2"
   ]
  },
  {
   "cell_type": "code",
   "execution_count": 2,
   "id": "5f0c50f6",
   "metadata": {},
   "outputs": [
    {
     "name": "stderr",
     "output_type": "stream",
     "text": [
      "/data/rsg/nlp/sdobers/miniconda3/envs/diffdock_protein/lib/python3.10/site-packages/tqdm/auto.py:22: TqdmWarning: IProgress not found. Please update jupyter and ipywidgets. See https://ipywidgets.readthedocs.io/en/stable/user_install.html\n",
      "  from .autonotebook import tqdm as notebook_tqdm\n"
     ]
    }
   ],
   "source": [
    "import os\n",
    "import yaml\n",
    "import torch\n",
    "import tqdm"
   ]
  },
  {
   "cell_type": "code",
   "execution_count": 3,
   "id": "f8570e16",
   "metadata": {},
   "outputs": [],
   "source": [
    "os.chdir('/data/rsg/nlp/sdobers/amine/diffdock-protein/src')\n",
    "\n",
    "from data import load_data, get_data\n"
   ]
  },
  {
   "cell_type": "code",
   "execution_count": 4,
   "id": "b8006286",
   "metadata": {},
   "outputs": [],
   "source": [
    "from notebooks.utils_notebooks import Dict2Class"
   ]
  },
  {
   "cell_type": "code",
   "execution_count": 5,
   "id": "efde48cf",
   "metadata": {},
   "outputs": [],
   "source": [
    "PATH = '/data/rsg/nlp/sdobers/amine/diffdock-protein/ckpts/dips_medium_model/'"
   ]
  },
  {
   "cell_type": "code",
   "execution_count": 6,
   "id": "95b16919",
   "metadata": {},
   "outputs": [],
   "source": [
    "CUDA_VISIBLE_DEVICE = 1"
   ]
  },
  {
   "cell_type": "code",
   "execution_count": 7,
   "id": "da379007",
   "metadata": {},
   "outputs": [],
   "source": [
    "# load args\n",
    "with open(os.path.join(PATH, 'args.yaml')) as f:\n",
    "    args = yaml.safe_load(f)\n",
    "args = Dict2Class(args)\n",
    "\n",
    "args.num_gpu = 1\n",
    "args.gpu = CUDA_VISIBLE_DEVICE\n",
    "args.data_file = args.data_file.replace('data_file', 'data_file_only_val')\n",
    "args.checkpoint_path = PATH\n",
    "args.use_orientation_features = True"
   ]
  },
  {
   "cell_type": "code",
   "execution_count": 24,
   "id": "2f360d9e",
   "metadata": {},
   "outputs": [
    {
     "name": "stderr",
     "output_type": "stream",
     "text": [
      "data loading: 100%|█| 985/985 [00:00<00:00, 921157\n"
     ]
    },
    {
     "name": "stdout",
     "output_type": "stream",
     "text": [
      "11:27:50 Loaded cached ESM embeddings\n",
      "11:27:50 finished tokenizing residues with ESM\n",
      "11:27:50 finished tokenizing all inputs\n",
      "11:27:50 985 entries loaded\n"
     ]
    }
   ],
   "source": [
    "# load raw data\n",
    "dips_loader_instance = load_data(args)\n"
   ]
  },
  {
   "cell_type": "code",
   "execution_count": 25,
   "id": "6d333cca",
   "metadata": {},
   "outputs": [],
   "source": [
    "data = dips_loader_instance.data"
   ]
  },
  {
   "cell_type": "code",
   "execution_count": null,
   "id": "142963e6",
   "metadata": {},
   "outputs": [],
   "source": [
    "def compute_edge_feat_ori_feat(complex_graph, key):\n",
    "    src, dst = complex_graph[key, key].edge_index\n",
    "    n_i_feat = complex_graph[key].n_i_feat\n",
    "    u_i_feat = complex_graph[key].u_i_feat\n",
    "    v_i_feat = complex_graph[key].v_i_feat\n",
    "    # Change should start from here!\n",
    "    # Loop over all edges of the graph and build the various p_ij, q_ij, k_ij, t_ij pairs\n",
    "    edge_feat_ori_list = []\n",
    "    for i in range(len(dist_list)):\n",
    "        src = src_list[i]\n",
    "        dst = dst_list[i]\n",
    "        # place n_i, u_i, v_i as lines in a 3x3 basis matrix\n",
    "        basis_matrix = np.stack((n_i_feat[dst, :], u_i_feat[dst, :], v_i_feat[dst, :]), axis=0)\n",
    "        p_ij = np.matmul(basis_matrix,\n",
    "                         residue_representatives_loc_feat[src, :] - residue_representatives_loc_feat[\n",
    "                                                                    dst, :])\n",
    "        q_ij = np.matmul(basis_matrix, n_i_feat[src, :])  # shape (3,)\n",
    "        k_ij = np.matmul(basis_matrix, u_i_feat[src, :])\n",
    "        t_ij = np.matmul(basis_matrix, v_i_feat[src, :])\n",
    "        s_ij = np.concatenate((p_ij, q_ij, k_ij, t_ij), axis=0)  # shape (12,)\n",
    "        edge_feat_ori_list.append(s_ij)\n",
    "    edge_feat_ori_feat = np.stack(edge_feat_ori_list, axis=0)  # shape (num_edges, 4, 3)\n",
    "    edge_feat_ori_feat = torch.from_numpy(edge_feat_ori_feat.astype(np.float32))\n"
   ]
  },
  {
   "cell_type": "code",
   "execution_count": 32,
   "id": "6fd7ae2f",
   "metadata": {},
   "outputs": [
    {
     "name": "stdout",
     "output_type": "stream",
     "text": [
      "HeteroData(\n",
      "  name='nu/2nuu.pdb1_9.dill',\n",
      "  center=[1, 3],\n",
      "  \u001b[1mreceptor\u001b[0m={\n",
      "    pos=[409, 3],\n",
      "    x=[409, 1281],\n",
      "    n_i_feat=[409, 3],\n",
      "    u_i_feat=[409, 3],\n",
      "    v_i_feat=[409, 3]\n",
      "  },\n",
      "  \u001b[1mligand\u001b[0m={\n",
      "    pos=[112, 3],\n",
      "    x=[112, 1281],\n",
      "    n_i_feat=[112, 3],\n",
      "    u_i_feat=[112, 3],\n",
      "    v_i_feat=[112, 3]\n",
      "  },\n",
      "  \u001b[1m(receptor, contact, receptor)\u001b[0m={ edge_index=[2, 8180] },\n",
      "  \u001b[1m(ligand, contact, ligand)\u001b[0m={ edge_index=[2, 2240] }\n",
      ")\n",
      "tensor([[-0.7323,  0.6726, -0.1068],\n",
      "        [ 0.7958, -0.5957,  0.1093],\n",
      "        [-0.9843, -0.0075, -0.1764],\n",
      "        [ 0.9216,  0.1597,  0.3538],\n",
      "        [-0.8532, -0.2970, -0.4288],\n",
      "        [ 0.7782,  0.4185,  0.4683],\n",
      "        [-0.5723, -0.6468, -0.5042],\n",
      "        [ 0.6834,  0.6877,  0.2449],\n",
      "        [ 0.8122, -0.5833,  0.0121],\n",
      "        [-0.2689, -0.3585,  0.8940],\n",
      "        [-0.0857, -0.9942, -0.0655],\n",
      "        [-0.7687, -0.1191, -0.6284],\n",
      "        [-0.0693,  0.3524,  0.9333],\n",
      "        [ 0.0722, -0.8384,  0.5402],\n",
      "        [-0.7932, -0.5983, -0.1136],\n",
      "        [-0.8139,  0.4159,  0.4057],\n",
      "        [ 0.2480, -0.1360,  0.9592],\n",
      "        [-0.0363, -0.9483,  0.3152],\n",
      "        [-0.9728, -0.2313, -0.0121],\n",
      "        [-0.4099,  0.4871,  0.7712],\n",
      "        [ 0.3466, -0.5059,  0.7899],\n",
      "        [-0.6757, -0.7015, -0.2265],\n",
      "        [-0.9878, -0.1550, -0.0136],\n",
      "        [-0.0181, -0.0213, -0.9996],\n",
      "        [-0.2872, -0.9507,  0.1166],\n",
      "        [ 0.3183,  0.9127, -0.2564],\n",
      "        [-0.0109,  0.1572, -0.9875],\n",
      "        [ 0.4433, -0.5673,  0.6940],\n",
      "        [-0.6216, -0.0731, -0.7799],\n",
      "        [ 0.4709,  0.2740,  0.8386],\n",
      "        [-0.3933, -0.3780, -0.8381],\n",
      "        [-0.4708,  0.6110,  0.6364],\n",
      "        [ 0.5564, -0.4981, -0.6650],\n",
      "        [-0.9326,  0.3458, -0.1030],\n",
      "        [ 0.8326, -0.4514,  0.3209],\n",
      "        [-0.7939,  0.4691, -0.3868],\n",
      "        [ 0.9849,  0.1665,  0.0479],\n",
      "        [ 0.9578,  0.1651, -0.2352],\n",
      "        [ 0.4240,  0.8900, -0.1679],\n",
      "        [-0.2259, -0.8716,  0.4351],\n",
      "        [-0.7776,  0.5415, -0.3195],\n",
      "        [ 0.4384,  0.4903,  0.7532],\n",
      "        [-0.0375, -0.8489,  0.5272],\n",
      "        [-0.5011,  0.7064, -0.4999],\n",
      "        [ 0.6996, -0.3290,  0.6343],\n",
      "        [-0.5554,  0.3619, -0.7487],\n",
      "        [-0.5784,  0.7243, -0.3753],\n",
      "        [-0.6850,  0.7231, -0.0894],\n",
      "        [ 0.6662,  0.7265,  0.1683],\n",
      "        [-0.7480, -0.5862, -0.3111],\n",
      "        [ 0.7433,  0.5576,  0.3695],\n",
      "        [-0.7688, -0.1406, -0.6238],\n",
      "        [-0.8291,  0.5231, -0.1972],\n",
      "        [ 0.6016, -0.6313,  0.4894],\n",
      "        [-0.0758,  0.9455,  0.3168],\n",
      "        [ 0.3004, -0.3206, -0.8983],\n",
      "        [ 0.6996, -0.2048,  0.6846],\n",
      "        [-0.7300,  0.2387, -0.6404],\n",
      "        [ 0.8676, -0.4822, -0.1217],\n",
      "        [-0.6365,  0.7363,  0.2296],\n",
      "        [ 0.4765, -0.7637, -0.4356],\n",
      "        [-0.2318,  0.8419,  0.4874],\n",
      "        [ 0.2930, -0.9366, -0.1921],\n",
      "        [ 0.2250,  0.9246,  0.3073],\n",
      "        [-0.2728, -0.9514, -0.1429],\n",
      "        [ 0.9498, -0.2703,  0.1573],\n",
      "        [ 0.5265,  0.4144, -0.7424],\n",
      "        [ 0.7504,  0.6228,  0.2212],\n",
      "        [-0.5251,  0.7516,  0.3992],\n",
      "        [-0.0618, -0.2198, -0.9736],\n",
      "        [ 0.7801,  0.1332, -0.6113],\n",
      "        [ 0.1383,  0.9886, -0.0587],\n",
      "        [-0.7791,  0.3120, -0.5438],\n",
      "        [ 0.2020, -0.3245, -0.9241],\n",
      "        [ 0.7617,  0.5364, -0.3633],\n",
      "        [-0.1222,  0.9742, -0.1897],\n",
      "        [-0.6661,  0.0845, -0.7411],\n",
      "        [ 0.5660, -0.3056, -0.7657],\n",
      "        [ 0.6221,  0.7428, -0.2475],\n",
      "        [-0.3542,  0.8673, -0.3497],\n",
      "        [-0.4552,  0.0175, -0.8902],\n",
      "        [ 0.9611, -0.1754, -0.2133],\n",
      "        [-0.9498,  0.2409,  0.1995],\n",
      "        [ 0.4267, -0.4342,  0.7933],\n",
      "        [ 0.1729,  0.7238,  0.6680],\n",
      "        [-0.6513, -0.3750,  0.6597],\n",
      "        [ 0.3809, -0.2771,  0.8821],\n",
      "        [ 0.0558, -0.4704, -0.8807],\n",
      "        [ 0.8936,  0.4381,  0.0980],\n",
      "        [-0.9310,  0.3644, -0.0224],\n",
      "        [ 0.5395, -0.5537, -0.6343],\n",
      "        [-0.3541,  0.6925,  0.6286],\n",
      "        [ 0.0905, -0.6771, -0.7303],\n",
      "        [-0.1212,  0.5759,  0.8085],\n",
      "        [-0.7794,  0.0783, -0.6216],\n",
      "        [ 0.9817,  0.0323,  0.1875],\n",
      "        [-0.6881,  0.5748,  0.4429],\n",
      "        [-0.7385,  0.6657,  0.1067],\n",
      "        [ 0.8943, -0.3935, -0.2132],\n",
      "        [-0.9153,  0.3527,  0.1948],\n",
      "        [ 0.8385,  0.3598, -0.4093],\n",
      "        [ 0.0016, -0.3291,  0.9443],\n",
      "        [ 0.6503, -0.7585, -0.0431],\n",
      "        [ 0.2769, -0.9176, -0.2850],\n",
      "        [ 0.5774,  0.7524, -0.3170],\n",
      "        [ 0.2889, -0.5684,  0.7704],\n",
      "        [ 0.2079,  0.2556, -0.9442],\n",
      "        [ 0.5140,  0.2492, -0.8208],\n",
      "        [ 0.4785,  0.4414, -0.7590],\n",
      "        [-0.5880,  0.7004, -0.4045],\n",
      "        [-0.7090, -0.5842, -0.3949],\n",
      "        [ 0.5638, -0.4859, -0.6679]])\n",
      "tensor([  1,  65,  66,  ...,   0, 101,  97])\n",
      "tensor([  0,   0,   0,  ..., 111, 111, 111])\n"
     ]
    }
   ],
   "source": [
    "for item in data.values():\n",
    "    print(item[\"graph\"])\n",
    "    print(item[\"graph\"][\"ligand\"].n_i_feat)\n",
    "    src, dst = item[\"graph\"][\"ligand\", \"ligand\"].edge_index\n",
    "    print(src)\n",
    "    print(dst)\n",
    "    break"
   ]
  },
  {
   "cell_type": "code",
   "execution_count": 14,
   "id": "17c36b90",
   "metadata": {},
   "outputs": [
    {
     "data": {
      "text/plain": [
       "8180"
      ]
     },
     "execution_count": 14,
     "metadata": {},
     "output_type": "execute_result"
    }
   ],
   "source": [
    "409*20"
   ]
  },
  {
   "cell_type": "code",
   "execution_count": null,
   "id": "06705634",
   "metadata": {},
   "outputs": [],
   "source": []
  },
  {
   "cell_type": "code",
   "execution_count": null,
   "id": "79a9c106",
   "metadata": {},
   "outputs": [],
   "source": []
  },
  {
   "cell_type": "code",
   "execution_count": 73,
   "id": "152a669f",
   "metadata": {},
   "outputs": [],
   "source": [
    "def compute_orientation_vectors(c_alpha_coords, n_coords, c_coords):\n",
    "    ################## Extract 3D coordinates and n_i,u_i,v_i vectors of representative residues ################\n",
    "    num_residues = c_alpha_coords.shape[0]\n",
    "    \n",
    "    n_i_list = []\n",
    "    u_i_list = []\n",
    "    v_i_list = []\n",
    "    for i in range(num_residues):\n",
    "        n_coord = n_coords[i]\n",
    "        c_alpha_coord = c_alpha_coords[i]\n",
    "        c_coord = c_coords[i]\n",
    "        u_i = (n_coord - c_alpha_coord) / torch.linalg.vector_norm(n_coord - c_alpha_coord)\n",
    "        t_i = (c_coord - c_alpha_coord) / torch.linalg.vector_norm(c_coord - c_alpha_coord)\n",
    "        n_i = torch.linalg.cross(u_i, t_i) / torch.linalg.vector_norm(torch.linalg.cross(u_i, t_i))\n",
    "        v_i = torch.linalg.cross(n_i, u_i)\n",
    "        assert (torch.abs(torch.linalg.vector_norm(v_i) - 1.) < 1e-5), \"protein utils protein_to_graph_dips, v_i norm larger than 1\"\n",
    "        n_i_list.append(n_i)\n",
    "        u_i_list.append(u_i)\n",
    "        v_i_list.append(v_i)\n",
    "\n",
    "    n_i_feat = torch.stack(n_i_list)\n",
    "    u_i_feat = torch.stack(u_i_list)\n",
    "    v_i_feat = torch.stack(v_i_list)\n",
    "    \n",
    "    assert n_i_feat.shape == u_i_feat.shape == v_i_feat.shape\n",
    "    \n",
    "    return n_i_feat, u_i_feat, v_i_feat\n",
    "\n"
   ]
  },
  {
   "cell_type": "code",
   "execution_count": 77,
   "id": "832570a0",
   "metadata": {
    "scrolled": false
   },
   "outputs": [
    {
     "name": "stderr",
     "output_type": "stream",
     "text": [
      "100%|██████████████████████████████████████████████████████████████| 985/985 [00:09<00:00, 104.71it/s]\n"
     ]
    }
   ],
   "source": [
    "for item in tqdm.tqdm(data.values()):\n",
    "    all_res, all_atom, all_pos = item['ligand']\n",
    "    \n",
    "    c_alpha_coords = []\n",
    "    n_coords = []\n",
    "    c_coords = []\n",
    "    for i, a in enumerate(all_atom):\n",
    "        if a[0] == \"CA\":\n",
    "            c_alpha_coords.append(all_pos[i])\n",
    "        if a[0] == \"N\":\n",
    "            n_coords.append(all_pos[i])\n",
    "        if a[0] == \"C\":\n",
    "            c_coords.append(all_pos[i])\n",
    "\n",
    "    c_alpha_coords = torch.stack(c_alpha_coords)\n",
    "    n_coords = torch.stack(n_coords)\n",
    "    c_coords = torch.stack(c_coords)\n",
    "    \n",
    "    assert c_alpha_coords.shape == n_coords.shape == c_coords.shape\n",
    "    \n",
    "    \n",
    "    # Create orientation vectors\n",
    "    \n",
    "    n_i_feat, u_i_feat, v_i_feat = compute_orientation_vectors(c_alpha_coords, n_coords, c_coords)\n",
    "    continue\n",
    "    print(n_i_feat)\n",
    "    print(u_i_feat)\n",
    "    print(v_i_feat)\n",
    "    \n",
    "    print('----------------')\n",
    "    \n",
    "    print(c_alpha_coords.shape)\n",
    "    print(c_alpha_coords)\n",
    "    print(n_coords.shape)\n",
    "    print(n_coords)\n",
    "    print(c_coords.shape)\n",
    "    print(c_coords)\n",
    "    \n",
    "    print(len(all_res))\n",
    "    print('----')\n",
    "    print((all_atom))\n",
    "    print('----')\n",
    "    print((all_pos))\n",
    "    print('----')\n",
    "\n",
    "    break"
   ]
  },
  {
   "cell_type": "code",
   "execution_count": 45,
   "id": "1914aa85",
   "metadata": {},
   "outputs": [],
   "source": [
    "l = [all_pos[4], all_pos[20]]"
   ]
  },
  {
   "cell_type": "code",
   "execution_count": 46,
   "id": "4225b5d8",
   "metadata": {},
   "outputs": [
    {
     "data": {
      "text/plain": [
       "[tensor([ 36.6910,  26.7940, -15.2200], dtype=torch.float64),\n",
       " tensor([ 33.1740,  19.8830, -10.5650], dtype=torch.float64)]"
      ]
     },
     "execution_count": 46,
     "metadata": {},
     "output_type": "execute_result"
    }
   ],
   "source": [
    "l"
   ]
  },
  {
   "cell_type": "code",
   "execution_count": 67,
   "id": "5ba339e9",
   "metadata": {},
   "outputs": [],
   "source": [
    "st = torch.stack(l)"
   ]
  },
  {
   "cell_type": "code",
   "execution_count": 70,
   "id": "d84d6c00",
   "metadata": {},
   "outputs": [
    {
     "data": {
      "text/plain": [
       "2"
      ]
     },
     "execution_count": 70,
     "metadata": {},
     "output_type": "execute_result"
    }
   ],
   "source": [
    "st.shape[0]"
   ]
  },
  {
   "cell_type": "code",
   "execution_count": 72,
   "id": "d295da81",
   "metadata": {},
   "outputs": [
    {
     "data": {
      "text/plain": [
       "torch.Size([3])"
      ]
     },
     "execution_count": 72,
     "metadata": {},
     "output_type": "execute_result"
    }
   ],
   "source": [
    "st[1].shape"
   ]
  },
  {
   "cell_type": "code",
   "execution_count": null,
   "id": "3b07e026",
   "metadata": {},
   "outputs": [],
   "source": []
  }
 ],
 "metadata": {
  "kernelspec": {
   "display_name": "Python 3 (ipykernel)",
   "language": "python",
   "name": "python3"
  },
  "language_info": {
   "codemirror_mode": {
    "name": "ipython",
    "version": 3
   },
   "file_extension": ".py",
   "mimetype": "text/x-python",
   "name": "python",
   "nbconvert_exporter": "python",
   "pygments_lexer": "ipython3",
   "version": "3.10.8"
  }
 },
 "nbformat": 4,
 "nbformat_minor": 5
}
