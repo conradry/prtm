{
 "cells": [
  {
   "cell_type": "code",
   "execution_count": 21,
   "metadata": {},
   "outputs": [
    {
     "name": "stdout",
     "output_type": "stream",
     "text": [
      "The autoreload extension is already loaded. To reload it, use:\n",
      "  %reload_ext autoreload\n"
     ]
    }
   ],
   "source": [
    "%load_ext autoreload\n",
    "%autoreload 2"
   ]
  },
  {
   "cell_type": "code",
   "execution_count": 22,
   "metadata": {},
   "outputs": [],
   "source": [
    "import yaml\n",
    "import os\n",
    "import torch\n",
    "import numpy as np\n",
    "import matplotlib.pyplot as plt\n",
    "from tqdm import tqdm\n",
    "import copy"
   ]
  },
  {
   "cell_type": "code",
   "execution_count": 23,
   "metadata": {},
   "outputs": [],
   "source": [
    "os.chdir('/data/rsg/nlp/sdobers/amine/diffdock-protein/src')\n",
    "\n",
    "from args import parse_args\n",
    "from data import load_data, get_data\n",
    "from data.data import BindingDataset\n",
    "from model import load_model, to_cuda\n",
    "from utils import printt, print_res, log, get_unixtime, compute_rmsd\n",
    "from train import train, evaluate, evaluate_pose\n",
    "from helpers import WandbLogger, TensorboardLogger\n",
    "from sample import sample"
   ]
  },
  {
   "cell_type": "code",
   "execution_count": 24,
   "metadata": {},
   "outputs": [
    {
     "name": "stdout",
     "output_type": "stream",
     "text": [
      "True\n"
     ]
    }
   ],
   "source": [
    "CUDA_VISIBLE_DEVICE = 1\n",
    "torch.cuda.set_device(CUDA_VISIBLE_DEVICE)\n",
    "print(torch.cuda.is_available())"
   ]
  },
  {
   "cell_type": "code",
   "execution_count": 25,
   "metadata": {},
   "outputs": [],
   "source": [
    "PATH = '/data/rsg/nlp/sdobers/amine/diffdock-protein/ckpts/dips_medium_model/'"
   ]
  },
  {
   "cell_type": "code",
   "execution_count": 26,
   "metadata": {},
   "outputs": [],
   "source": [
    "class Dict2Class:\n",
    "    def __init__(self, my_dict):\n",
    "        for key in my_dict:\n",
    "            setattr(self, key, my_dict[key])"
   ]
  },
  {
   "cell_type": "code",
   "execution_count": 27,
   "metadata": {},
   "outputs": [],
   "source": [
    "# load args\n",
    "with open(os.path.join(PATH, 'args.yaml')) as f:\n",
    "    args = yaml.safe_load(f)\n",
    "args['num_gpu'] = 1\n",
    "args['gpu'] = CUDA_VISIBLE_DEVICE\n",
    "args = Dict2Class(args)\n",
    "args.data_file = args.data_file.replace('data_file', 'data_file_only_val')"
   ]
  },
  {
   "cell_type": "code",
   "execution_count": 28,
   "metadata": {},
   "outputs": [
    {
     "data": {
      "text/plain": [
       "'/data/rsg/nlp/sdobers/data/DIPS/data_file_only_val.csv'"
      ]
     },
     "execution_count": 28,
     "metadata": {},
     "output_type": "execute_result"
    }
   ],
   "source": [
    "args.data_file"
   ]
  },
  {
   "cell_type": "code",
   "execution_count": 29,
   "metadata": {},
   "outputs": [
    {
     "name": "stderr",
     "output_type": "stream",
     "text": [
      "data loading: 100%|█| 985/985 [00:00<00:00, 785285\n"
     ]
    },
    {
     "name": "stdout",
     "output_type": "stream",
     "text": [
      "14:25:57 Loaded cached ESM embeddings\n",
      "14:25:57 finished tokenizing residues with ESM\n",
      "14:25:57 finished tokenizing all inputs\n",
      "14:25:57 985 entries loaded\n"
     ]
    }
   ],
   "source": [
    "# load raw data\n",
    "data = load_data(args)\n",
    "data_params = data.data_params"
   ]
  },
  {
   "cell_type": "code",
   "execution_count": 30,
   "metadata": {},
   "outputs": [],
   "source": [
    "val_dataset = BindingDataset(args, data.data)"
   ]
  },
  {
   "cell_type": "code",
   "execution_count": 31,
   "metadata": {},
   "outputs": [
    {
     "data": {
      "text/plain": [
       "985"
      ]
     },
     "execution_count": 31,
     "metadata": {},
     "output_type": "execute_result"
    }
   ],
   "source": [
    "len(val_dataset)"
   ]
  },
  {
   "cell_type": "code",
   "execution_count": 12,
   "metadata": {},
   "outputs": [],
   "source": [
    "args.checkpoint_path = PATH"
   ]
  },
  {
   "cell_type": "code",
   "execution_count": 13,
   "metadata": {},
   "outputs": [
    {
     "name": "stderr",
     "output_type": "stream",
     "text": [
      "/data/rsg/nlp/sdobers/miniconda3/envs/diffdock_protein/lib/python3.10/site-packages/torch/jit/_check.py:181: UserWarning: The TorchScript type system doesn't support instance-level annotations on empty non-base types in `__init__`. Instead, either 1) use a type annotation in the class body, or 2) wrap the type in `torch.jit.Attribute`.\n",
      "  warnings.warn(\"The TorchScript type system doesn't support \"\n"
     ]
    },
    {
     "name": "stdout",
     "output_type": "stream",
     "text": [
      "12:41:43 loaded model with kwargs: \n",
      "12:41:43 loaded checkpoint from /data/rsg/nlp/sdobers/amine/diffdock-protein/ckpts/dips_medium_model/fold_0/model_best_113385_90_0.498_0.498.pth\n"
     ]
    }
   ],
   "source": [
    "# get model and load checkpoint, if relevant\n",
    "model = load_model(args, data_params, 0)\n",
    "model = to_cuda(model, args)"
   ]
  },
  {
   "cell_type": "code",
   "execution_count": 14,
   "metadata": {},
   "outputs": [
    {
     "data": {
      "text/plain": [
       "985"
      ]
     },
     "execution_count": 14,
     "metadata": {},
     "output_type": "execute_result"
    }
   ],
   "source": [
    "val_dataset_without_noise = copy.deepcopy(val_dataset)\n",
    "val_dataset_without_noise.transform = None\n",
    "len(val_dataset_without_noise)"
   ]
  },
  {
   "cell_type": "code",
   "execution_count": 15,
   "metadata": {
    "scrolled": true
   },
   "outputs": [
    {
     "name": "stdout",
     "output_type": "stream",
     "text": [
      "----------------- in iteration 0 -----------------\n",
      "12:48:55 Completed 0 out of 20 steps\n",
      "12:51:07 Completed 1 out of 20 steps\n",
      "12:53:05 Completed 2 out of 20 steps\n",
      "12:54:45 Completed 3 out of 20 steps\n",
      "12:56:05 Completed 4 out of 20 steps\n",
      "12:57:07 Completed 5 out of 20 steps\n",
      "12:57:56 Completed 6 out of 20 steps\n",
      "12:58:35 Completed 7 out of 20 steps\n",
      "12:59:07 Completed 8 out of 20 steps\n",
      "12:59:34 Completed 9 out of 20 steps\n",
      "12:59:57 Completed 10 out of 20 steps\n",
      "13:00:19 Completed 11 out of 20 steps\n",
      "13:00:39 Completed 12 out of 20 steps\n",
      "13:00:58 Completed 13 out of 20 steps\n",
      "13:01:16 Completed 14 out of 20 steps\n",
      "13:01:35 Completed 15 out of 20 steps\n",
      "13:01:52 Completed 16 out of 20 steps\n",
      "13:02:09 Completed 17 out of 20 steps\n",
      "13:02:26 Completed 18 out of 20 steps\n",
      "13:02:43 Completed 19 out of 20 steps\n",
      "in iteration 0: mean is 31.420320510864258\n",
      "in iteration 0: mean with confidence model is 31.42032055013676\n",
      "----------------- in iteration 1 -----------------\n",
      "13:05:22 Completed 0 out of 20 steps\n",
      "13:07:36 Completed 1 out of 20 steps\n",
      "13:09:30 Completed 2 out of 20 steps\n",
      "13:11:08 Completed 3 out of 20 steps\n",
      "13:12:27 Completed 4 out of 20 steps\n",
      "13:13:29 Completed 5 out of 20 steps\n",
      "13:14:19 Completed 6 out of 20 steps\n",
      "13:14:58 Completed 7 out of 20 steps\n",
      "13:15:30 Completed 8 out of 20 steps\n",
      "13:15:57 Completed 9 out of 20 steps\n",
      "13:16:21 Completed 10 out of 20 steps\n",
      "13:16:43 Completed 11 out of 20 steps\n",
      "13:17:03 Completed 12 out of 20 steps\n",
      "13:17:22 Completed 13 out of 20 steps\n",
      "13:17:41 Completed 14 out of 20 steps\n",
      "13:17:58 Completed 15 out of 20 steps\n",
      "13:18:15 Completed 16 out of 20 steps\n",
      "13:18:33 Completed 17 out of 20 steps\n",
      "13:18:50 Completed 18 out of 20 steps\n",
      "13:19:06 Completed 19 out of 20 steps\n",
      "in iteration 1: mean is 30.367216110229492\n",
      "in iteration 1: mean with confidence model is 22.070690047982986\n",
      "----------------- in iteration 2 -----------------\n",
      "13:21:47 Completed 0 out of 20 steps\n",
      "13:24:00 Completed 1 out of 20 steps\n",
      "13:25:54 Completed 2 out of 20 steps\n",
      "13:27:30 Completed 3 out of 20 steps\n",
      "13:28:47 Completed 4 out of 20 steps\n",
      "13:29:48 Completed 5 out of 20 steps\n",
      "13:30:36 Completed 6 out of 20 steps\n",
      "13:31:15 Completed 7 out of 20 steps\n",
      "13:31:46 Completed 8 out of 20 steps\n",
      "13:32:13 Completed 9 out of 20 steps\n",
      "13:32:37 Completed 10 out of 20 steps\n",
      "13:32:59 Completed 11 out of 20 steps\n",
      "13:33:19 Completed 12 out of 20 steps\n",
      "13:33:38 Completed 13 out of 20 steps\n",
      "13:33:57 Completed 14 out of 20 steps\n",
      "13:34:15 Completed 15 out of 20 steps\n",
      "13:34:32 Completed 16 out of 20 steps\n",
      "13:34:49 Completed 17 out of 20 steps\n",
      "13:35:06 Completed 18 out of 20 steps\n",
      "13:35:23 Completed 19 out of 20 steps\n",
      "in iteration 2: mean is 31.293575286865234\n",
      "in iteration 2: mean with confidence model is 18.631612293429786\n",
      "----------------- in iteration 3 -----------------\n",
      "13:38:02 Completed 0 out of 20 steps\n",
      "13:40:11 Completed 1 out of 20 steps\n",
      "13:42:05 Completed 2 out of 20 steps\n",
      "13:43:41 Completed 3 out of 20 steps\n",
      "13:44:59 Completed 4 out of 20 steps\n",
      "13:46:00 Completed 5 out of 20 steps\n",
      "13:46:48 Completed 6 out of 20 steps\n",
      "13:47:26 Completed 7 out of 20 steps\n",
      "13:47:58 Completed 8 out of 20 steps\n",
      "13:48:25 Completed 9 out of 20 steps\n",
      "13:48:49 Completed 10 out of 20 steps\n",
      "13:49:11 Completed 11 out of 20 steps\n",
      "13:49:31 Completed 12 out of 20 steps\n",
      "13:49:50 Completed 13 out of 20 steps\n",
      "13:50:09 Completed 14 out of 20 steps\n",
      "13:50:26 Completed 15 out of 20 steps\n",
      "13:50:44 Completed 16 out of 20 steps\n",
      "13:51:01 Completed 17 out of 20 steps\n",
      "13:51:18 Completed 18 out of 20 steps\n",
      "13:51:34 Completed 19 out of 20 steps\n",
      "in iteration 3: mean is 30.585901260375977\n",
      "in iteration 3: mean with confidence model is 16.211948642149796\n",
      "----------------- in iteration 4 -----------------\n",
      "13:54:15 Completed 0 out of 20 steps\n",
      "13:56:27 Completed 1 out of 20 steps\n",
      "13:58:23 Completed 2 out of 20 steps\n",
      "14:00:02 Completed 3 out of 20 steps\n",
      "14:01:21 Completed 4 out of 20 steps\n",
      "14:02:23 Completed 5 out of 20 steps\n",
      "14:03:12 Completed 6 out of 20 steps\n",
      "14:03:50 Completed 7 out of 20 steps\n",
      "14:04:21 Completed 8 out of 20 steps\n",
      "14:04:48 Completed 9 out of 20 steps\n",
      "14:05:12 Completed 10 out of 20 steps\n",
      "14:05:33 Completed 11 out of 20 steps\n",
      "14:05:53 Completed 12 out of 20 steps\n",
      "14:06:12 Completed 13 out of 20 steps\n",
      "14:06:31 Completed 14 out of 20 steps\n",
      "14:06:49 Completed 15 out of 20 steps\n",
      "14:07:06 Completed 16 out of 20 steps\n",
      "14:07:24 Completed 17 out of 20 steps\n",
      "14:07:41 Completed 18 out of 20 steps\n",
      "14:07:58 Completed 19 out of 20 steps\n",
      "in iteration 4: mean is 31.608327865600586\n",
      "in iteration 4: mean with confidence model is 14.90726604619002\n",
      "----------------- in iteration 5 -----------------\n",
      "14:10:38 Completed 0 out of 20 steps\n",
      "14:12:48 Completed 1 out of 20 steps\n",
      "14:14:41 Completed 2 out of 20 steps\n",
      "14:16:18 Completed 3 out of 20 steps\n",
      "14:17:37 Completed 4 out of 20 steps\n",
      "14:18:38 Completed 5 out of 20 steps\n",
      "14:19:25 Completed 6 out of 20 steps\n",
      "14:20:02 Completed 7 out of 20 steps\n",
      "14:20:32 Completed 8 out of 20 steps\n",
      "14:20:58 Completed 9 out of 20 steps\n",
      "14:21:22 Completed 10 out of 20 steps\n",
      "14:21:43 Completed 11 out of 20 steps\n",
      "14:22:02 Completed 12 out of 20 steps\n",
      "14:22:21 Completed 13 out of 20 steps\n",
      "14:22:39 Completed 14 out of 20 steps\n",
      "14:22:57 Completed 15 out of 20 steps\n",
      "14:23:14 Completed 16 out of 20 steps\n",
      "14:23:31 Completed 17 out of 20 steps\n",
      "14:23:48 Completed 18 out of 20 steps\n",
      "14:24:04 Completed 19 out of 20 steps\n",
      "in iteration 5: mean is 30.77475929260254\n",
      "in iteration 5: mean with confidence model is 13.976474294081557\n",
      "----------------- in iteration 6 -----------------\n",
      "14:26:43 Completed 0 out of 20 steps\n",
      "14:28:54 Completed 1 out of 20 steps\n",
      "14:30:47 Completed 2 out of 20 steps\n",
      "14:32:21 Completed 3 out of 20 steps\n",
      "14:33:39 Completed 4 out of 20 steps\n",
      "14:34:40 Completed 5 out of 20 steps\n",
      "14:35:28 Completed 6 out of 20 steps\n",
      "14:36:06 Completed 7 out of 20 steps\n",
      "14:36:38 Completed 8 out of 20 steps\n",
      "14:37:05 Completed 9 out of 20 steps\n",
      "14:37:29 Completed 10 out of 20 steps\n",
      "14:37:51 Completed 11 out of 20 steps\n",
      "14:38:11 Completed 12 out of 20 steps\n",
      "14:38:30 Completed 13 out of 20 steps\n",
      "14:38:49 Completed 14 out of 20 steps\n",
      "14:39:07 Completed 15 out of 20 steps\n",
      "14:39:25 Completed 16 out of 20 steps\n",
      "14:39:42 Completed 17 out of 20 steps\n",
      "14:39:59 Completed 18 out of 20 steps\n",
      "14:40:16 Completed 19 out of 20 steps\n",
      "in iteration 6: mean is 30.12297821044922\n",
      "in iteration 6: mean with confidence model is 13.333474502466657\n",
      "----------------- in iteration 7 -----------------\n",
      "14:42:55 Completed 0 out of 20 steps\n",
      "14:45:08 Completed 1 out of 20 steps\n",
      "14:47:05 Completed 2 out of 20 steps\n",
      "14:48:41 Completed 3 out of 20 steps\n",
      "14:50:00 Completed 4 out of 20 steps\n",
      "14:51:02 Completed 5 out of 20 steps\n",
      "14:51:51 Completed 6 out of 20 steps\n",
      "14:52:28 Completed 7 out of 20 steps\n",
      "14:52:59 Completed 8 out of 20 steps\n",
      "14:53:25 Completed 9 out of 20 steps\n",
      "14:53:49 Completed 10 out of 20 steps\n",
      "14:54:10 Completed 11 out of 20 steps\n",
      "14:54:30 Completed 12 out of 20 steps\n",
      "14:54:49 Completed 13 out of 20 steps\n",
      "14:55:08 Completed 14 out of 20 steps\n",
      "14:55:25 Completed 15 out of 20 steps\n",
      "14:55:43 Completed 16 out of 20 steps\n",
      "14:56:00 Completed 17 out of 20 steps\n",
      "14:56:17 Completed 18 out of 20 steps\n",
      "14:56:34 Completed 19 out of 20 steps\n",
      "in iteration 7: mean is 31.117250442504883\n",
      "in iteration 7: mean with confidence model is 12.764994894792586\n",
      "----------------- in iteration 8 -----------------\n",
      "14:59:15 Completed 0 out of 20 steps\n",
      "15:01:25 Completed 1 out of 20 steps\n",
      "15:03:17 Completed 2 out of 20 steps\n",
      "15:04:53 Completed 3 out of 20 steps\n",
      "15:06:11 Completed 4 out of 20 steps\n",
      "15:07:12 Completed 5 out of 20 steps\n",
      "15:08:00 Completed 6 out of 20 steps\n",
      "15:08:38 Completed 7 out of 20 steps\n",
      "15:09:10 Completed 8 out of 20 steps\n",
      "15:09:36 Completed 9 out of 20 steps\n",
      "15:10:00 Completed 10 out of 20 steps\n",
      "15:10:21 Completed 11 out of 20 steps\n",
      "15:10:41 Completed 12 out of 20 steps\n",
      "15:11:00 Completed 13 out of 20 steps\n",
      "15:11:19 Completed 14 out of 20 steps\n",
      "15:11:36 Completed 15 out of 20 steps\n",
      "15:11:54 Completed 16 out of 20 steps\n",
      "15:12:11 Completed 17 out of 20 steps\n",
      "15:12:28 Completed 18 out of 20 steps\n",
      "15:12:45 Completed 19 out of 20 steps\n",
      "in iteration 8: mean is 30.227779388427734\n",
      "in iteration 8: mean with confidence model is 12.395377133885011\n",
      "----------------- in iteration 9 -----------------\n"
     ]
    },
    {
     "name": "stdout",
     "output_type": "stream",
     "text": [
      "15:15:25 Completed 0 out of 20 steps\n",
      "15:17:35 Completed 1 out of 20 steps\n",
      "15:19:30 Completed 2 out of 20 steps\n",
      "15:21:07 Completed 3 out of 20 steps\n",
      "15:22:24 Completed 4 out of 20 steps\n",
      "15:23:26 Completed 5 out of 20 steps\n",
      "15:24:15 Completed 6 out of 20 steps\n",
      "15:24:53 Completed 7 out of 20 steps\n",
      "15:25:24 Completed 8 out of 20 steps\n",
      "15:25:51 Completed 9 out of 20 steps\n",
      "15:26:15 Completed 10 out of 20 steps\n",
      "15:26:37 Completed 11 out of 20 steps\n",
      "15:26:57 Completed 12 out of 20 steps\n",
      "15:27:16 Completed 13 out of 20 steps\n",
      "15:27:35 Completed 14 out of 20 steps\n",
      "15:27:53 Completed 15 out of 20 steps\n",
      "15:28:10 Completed 16 out of 20 steps\n",
      "15:28:27 Completed 17 out of 20 steps\n",
      "15:28:44 Completed 18 out of 20 steps\n",
      "15:29:01 Completed 19 out of 20 steps\n",
      "in iteration 9: mean is 30.597549438476562\n",
      "in iteration 9: mean with confidence model is 11.945742657826031\n",
      "Final result: 11.945742657826031\n"
     ]
    }
   ],
   "source": [
    "n_runs = 10\n",
    "rmsds = np.full(len(val_dataset), np.inf)\n",
    "for i in range(n_runs):\n",
    "    print(f'----------------- in iteration {i} -----------------')\n",
    "    # run reverse diffusion process\n",
    "    samples_val = sample(val_dataset, model, args)\n",
    "    # samples_val now contains all the graphs, with graph[\"ligand\"] contains the positions predicted by the model\n",
    "    val_score = evaluate_pose(val_dataset_without_noise, samples_val)\n",
    "    rmsds_i = np.array(val_score[\"rmsd\"])\n",
    "    print(f'in iteration {i}: mean is {rmsds_i.mean()}')\n",
    "    rmsds = np.minimum(rmsds, rmsds_i)\n",
    "    print(f'in iteration {i}: mean with confidence model is {rmsds.mean()}')\n",
    "print(f'Final result: {rmsds.mean()}')"
   ]
  },
  {
   "cell_type": "code",
   "execution_count": 16,
   "metadata": {},
   "outputs": [
    {
     "name": "stdout",
     "output_type": "stream",
     "text": [
      "Final results with simulated confidence model:\n",
      "{'rmsds_lt2': 8.730964467005077, 'rmsds_lt5': 42.63959390862944, 'rmsds_mean': 11.945742657826031, 'rmsds_median': 6.3039631843566895}\n"
     ]
    }
   ],
   "source": [
    "reverse_diffusion_metrics = {'rmsds_lt2': (100 * (rmsds < 2).sum() / len(rmsds)),\n",
    "                             'rmsds_lt5': (100 * (rmsds < 5).sum() / len(rmsds)),\n",
    "                             'rmsds_mean': rmsds.mean(),\n",
    "                             'rmsds_median': np.median(rmsds)}\n",
    "print('Final results with simulated confidence model:')\n",
    "print(reverse_diffusion_metrics)"
   ]
  },
  {
   "cell_type": "code",
   "execution_count": 17,
   "metadata": {},
   "outputs": [
    {
     "name": "stdout",
     "output_type": "stream",
     "text": [
      "[48.21757507  3.37800407 44.21419907  2.90468454 32.55943298 34.90921783\n",
      " 48.18783951  7.97292233  8.19041824 28.32667542 33.35161591 10.24024773\n",
      "  3.74530268 35.27239609  3.15285134 44.42721176 44.25357819  2.51939726\n",
      "  7.3604598   2.47298288  7.65314913  4.37582397  7.99440956  2.24190974\n",
      "  4.55203962  5.31402159  4.34555578 70.42383575 13.38469315  3.88944912\n",
      "  6.07124615 13.41576195 17.39028549  4.32042265 25.04493904  2.47483325\n",
      " 14.2322979  43.91702271  5.35801935 35.80218506  1.59601581 15.69939137\n",
      "  6.98210955  3.25906062  7.81269693  2.96959829 18.87802696  0.80250078\n",
      " 43.69078064 25.22327042 45.88204956 37.32759476  3.22505212 33.27475739\n",
      "  5.92184496  2.13747573  7.48031902 44.35893631 28.19549942 11.99171734\n",
      " 24.92166901 28.75427055 36.66598892  5.0576601   2.44337749 40.51395798\n",
      " 15.97886944  2.19640684 13.50001144 42.77931595 46.09142303 12.78296661\n",
      " 25.41015434  2.81477499 31.20156288 41.00351715  9.02551079 17.02858925\n",
      "  1.54600358  3.12461472  4.1871953   2.89883423 30.07105255 37.67427444\n",
      " 23.55747604 13.85795116  6.76136303  3.96982884  8.60757065 33.71947098\n",
      "  7.59149218  2.70360446  2.48568344  2.23341322  5.2729249  33.54624939\n",
      "  1.95100117 38.41159821  4.40737057 27.99442673  4.04764366  2.03666425\n",
      "  6.96476793 57.14513779 15.66747856  5.43562841  7.2408371   3.99918962\n",
      "  2.67984986  1.35656869  2.78525972 20.05396461 33.09881592 10.76647186\n",
      "  7.48059702  3.51349235  2.8581109   8.21884823 43.86891556 10.5986433\n",
      "  3.43060756 22.78609848  4.40681791  7.16522169 36.74619293  4.35428858\n",
      "  2.52986503  8.62103081 34.66542816 11.90946293 13.33176422  0.8242327\n",
      " 47.46511841 12.23838425 12.11918449  5.20557976 25.81971741 32.45175171\n",
      " 12.66984272 12.70448494  6.24696207 28.15780067 16.21477509 40.13644791\n",
      "  7.57247162  6.69106102  1.80467474  9.13036442 21.22024345  4.51564074\n",
      " 35.55028534 12.56509876  6.89355469 19.41300774  6.17365646 23.41114998\n",
      " 28.24650383 43.71424866 11.09465981  3.95293546  3.62664032  4.34412384\n",
      "  9.2074604   8.00464439 21.07915878 30.33697128  3.55439043 11.06406879\n",
      "  7.43990564  4.99186707 14.46794701  8.14369774 42.1678009  23.48702049\n",
      " 22.68852615  1.58849323 19.67718315  8.88421631 42.65062332  1.12180769\n",
      " 38.52011871 25.49850464 17.33358574  1.32017982  6.08325529 18.98366356\n",
      "  7.13648939  7.23968744 16.6639576  14.18970871 15.40522194  3.60754824\n",
      " 38.94271469 23.05566978 11.04454994  9.90741158 33.23451996  2.96868443\n",
      "  8.58018589  0.82271564  5.0145545  13.69416904  5.67770624  8.15627384\n",
      " 16.04447746 32.65449905 15.3000927  36.32902145 21.39323425 11.28226757\n",
      "  6.88248634 10.46798706  5.44893456 44.78184891  3.5382328   0.94364625\n",
      " 32.03950119 18.20844269 18.78500557 20.1760273  32.55509949  5.22856903\n",
      " 18.02276421 12.21916199  2.6671977   7.26526451 17.82313728  3.23111391\n",
      "  6.90998554  2.95643711  9.85374546 12.8331356  15.64588642 14.73806953\n",
      " 18.20164299  2.16805458 16.78399658  6.37074947  4.87316799 12.40800571\n",
      "  2.82396722  1.76753366 13.07884407  4.20419359 13.22381401 36.61740112\n",
      " 14.90931129 13.09965706  6.70435047 27.95959282  3.80080295 24.76780891\n",
      "  1.80838513 36.15945053  7.05738115 43.33956909 18.12958908  3.49449706\n",
      "  4.01007462 23.39402008 14.42131615  3.13146091 15.70924854 16.76835442\n",
      "  5.98610449 22.09355927 67.67115784  2.43520236  2.31111193 14.56005478\n",
      "  2.92946196 14.85526562 32.82132721  3.45445299  8.81366444 10.17833614\n",
      " 21.86089706  2.64241552  4.82457638  3.2971437   7.02731657 34.21365738\n",
      "  7.99230242  2.14464641 14.78221226  5.16980124  3.81998515  2.90096879\n",
      "  7.41722107  1.72570086  3.67691255 23.8129158   2.61642838  1.52185905\n",
      "  4.60929489 17.52933121  1.34826267 20.53306389  3.51262927  2.19588661\n",
      "  4.29589748  3.98874402 17.44375992  2.76414919  4.19210434  6.49799109\n",
      "  2.68016529  4.41109037  2.40980697  3.79601908  5.22526169 25.2519455\n",
      "  2.50364351  2.77674627 13.41242409  4.45659018 22.32723808  2.04491639\n",
      "  5.80900049  5.16897917 21.07691383  2.44110918 29.13953018 24.75185776\n",
      "  3.45474815  4.26697016 20.65093803  2.70203662  5.82604361 27.25488663\n",
      "  1.62666976  3.72390866  4.56466961  8.20135784 22.94708633  2.37633729\n",
      "  3.13522148  5.60550165 22.64157104  4.03866434  6.08353472  4.30406523\n",
      " 16.4453392   4.47466993  2.77624416  1.47261953  2.76628757  5.67074394\n",
      " 23.92098045 30.58157539  8.97604942 22.46865654 40.53081131  5.067523\n",
      "  3.12256694  4.80078936  9.29074478  3.56275964  6.37697077  3.95763159\n",
      "  4.06962156  4.29427576  4.91000128  2.74093986  3.68741775  3.11453462\n",
      "  6.84728289  9.82218075  6.76747179 36.52323151  4.98641014  3.97607923\n",
      "  5.49779272  6.4535284   8.16704845  3.06266236  5.46525192  8.51391506\n",
      " 24.59051132  6.11313057  2.81172276  3.49704075 44.16334152  5.47789669\n",
      " 26.32544518  5.46386528  6.00379992  2.86840487  2.76059556 19.91649246\n",
      "  6.13861465 28.92730522  7.19889259  2.00909281  3.51807284  4.7223568\n",
      "  7.20387173  3.49873734  5.07870054 21.95487404 30.3998394  10.30643368\n",
      " 35.86920929 32.9538269   9.17455387 49.5804863  15.17805386 17.79164505\n",
      " 14.0413866  42.55907822 16.65860367  3.12970471  3.38714504  1.2926172\n",
      "  1.32727015  2.76136303  2.1691184   2.04991984  3.86917114  2.54367518\n",
      "  3.1523788   2.27438593 27.05142021  2.61992788 23.04652405  6.30396318\n",
      "  3.40567136 32.34587479  2.31587696  3.28793526  4.03586006  2.29501176\n",
      "  6.94323444  2.46652937  1.49486172 21.30854988 21.30134583  3.22499728\n",
      "  3.48483872  1.76892066  3.22837329 30.08439064  6.90970325  8.00858116\n",
      " 14.30536747  2.6790843   2.85771871  2.46915698  4.57749271 12.69673634\n",
      "  3.01347566  2.87083864  2.11926794  1.86534059  1.64703131  3.8494184\n",
      "  1.5086602   2.69601798  2.15087128  2.84357333  1.91584897 14.40702724\n",
      "  2.48125458  2.42011213  5.67878294  2.30808878  3.21010518 13.77934647\n",
      "  4.1013751   2.08288622  2.71995378  1.71142387  4.18616772  3.84350991\n",
      "  6.94498968  9.29640865  2.24161124  1.44030178  2.26958585  1.62034893\n",
      "  1.77249849  3.1194253   3.57626653  1.6157819   3.10109878  8.71129894\n",
      "  2.29421067  3.52742624  3.02391481  3.70495963  2.47015929  4.6800189\n",
      " 15.09005642  5.22367239  1.98462188  2.96761155  1.44778562  2.99041247\n",
      "  2.19933915  6.3183527  11.77759933 12.4946022   2.13405013  4.26547909\n",
      " 37.91205215  2.92196679 15.25241184  5.08253431  7.25567198 29.87316895\n",
      "  4.6511569  30.48986816  3.17254925 22.00519943 23.81745338 31.88044357\n",
      "  7.83054876 19.11672211  3.02729702 30.23701477  5.31181765 25.56053352\n",
      "  6.75228834 21.42205429  3.13119817  4.64935875 26.94835472 37.99064636\n",
      "  3.65996337  7.28097868 26.93784904  4.98144531 19.09337807  5.88418102\n",
      "  2.58130789  4.61525202  6.29577446  4.67693901  4.39498758 28.24636078\n",
      " 13.85827732 42.53861618 30.34078789  5.7522788   1.81773031  4.21553898\n",
      "  2.85195661 10.08422279  4.58172989 21.88386917 31.58834648 39.01367569\n",
      " 36.79552078  8.75156689  3.0518868  13.24748707  1.50667775  2.03895807\n",
      "  1.70378065  7.15636063  2.368577    2.73671865  2.16994452  7.68185091\n",
      "  1.17326605  7.14321041  1.32397044  1.70854568  2.03552032  1.39657485\n",
      "  1.27559566  4.8460207  29.68282509  1.79139745  5.65759277  2.44624519\n",
      "  2.12238407  1.86457479 10.9211483  62.72434998 29.23830795  1.87512696\n",
      "  1.85660088  1.86349797 18.21416283  2.27754855  1.49415386 62.80604553\n",
      "  1.79074085 27.4527607   1.42044413  2.40895724  2.87156558 33.46276474\n",
      "  3.16869617 17.16452217  2.77127337  1.77161229  2.61869216  3.58326101\n",
      "  2.82256675 41.76410675  2.78322935  2.51828361  2.05601311  4.77399921\n",
      "  2.69178748  2.29840064  2.68759584 22.65745926  0.93120915  0.88854533\n",
      "  1.85998499  3.07272267  6.85047054 19.55558968  2.54532433 56.28530502\n",
      "  2.21719408  1.43818605  5.63934612 28.35543442  2.35226417  2.04039955\n",
      "  2.72422194  1.43436956  1.09452677  1.84298837 21.0765667   3.0331459\n",
      "  4.29382753  2.08297133  2.26025724  4.23249769  2.27693534  1.27024972\n",
      "  2.20690393  2.44511032  1.4505285   1.6031698   2.13525653  2.68323612\n",
      "  2.44508815  1.8055532   2.58083105  7.49975204  1.63155949 32.31677628\n",
      "  1.79166448  1.56272471 14.06769466  5.22825956  2.04280114 50.69129562\n",
      " 35.63298416  6.62987232  1.43784976  2.48937058 15.81960297  3.36835027\n",
      "  4.0495019   1.64817953  8.53271675  7.10601282  4.38794708  5.83656168\n",
      "  8.48406506  8.58562851  2.33607054  2.89229584 19.48661804  5.50570297\n",
      " 34.99441147  5.42019892  7.30273914  2.61215901  3.61064672  2.75242543\n",
      " 18.88096809  2.36032748  5.74823618  3.35506964 15.0703125   1.66460204\n",
      "  2.59512663 10.15485001 10.47741222  2.98390579 49.86756134  6.30563641\n",
      " 26.99095345 23.88572121 29.05882263 22.92085648 14.09741116  8.00284004\n",
      " 14.48561668  2.1644938   8.70184517  8.83835602  4.98144579 38.01319122\n",
      " 48.31929779 34.82226944  3.31584382 10.10008049 25.14330101  2.61708641\n",
      " 14.1139164   3.27368617 34.09659576  6.80497217 22.13939285 41.28678513\n",
      "  1.63098288 19.66629791 48.39756393  8.70934296 17.98954773  2.76191044\n",
      "  8.00952435  2.23147678  4.24260759 17.32111359 19.77388382  7.71369839\n",
      "  3.92946362 24.60608482  6.87900972  2.3613081   1.9442997  50.20978546\n",
      "  7.30777884  4.30850792 12.67214489 33.08886719  3.89826012 28.29030037\n",
      " 22.22170639 26.72767258 29.28529739 22.40691185 30.80133629 22.38134003\n",
      "  8.31166744  1.01148605 21.05750465  5.61045122  9.24963856  4.50408649\n",
      " 42.78221893 17.00359344  4.06471205 18.21079254 21.01010704 43.01599121\n",
      " 30.54069519 18.85259056  6.5778985   1.15907919 28.81246376 11.55799294\n",
      "  3.58555532 21.88558197 32.80152893 21.32935143 21.03600883  4.07817984\n",
      " 17.8124733  18.9115715   6.97333479  6.03304052  3.5156467   2.4369061\n",
      "  7.20934248  7.22094488  9.79797077  6.77408361 20.37904739 13.49030304\n",
      " 30.4609375  11.10418701  4.50872898  4.26038885  6.13587046 36.95456696\n",
      "  6.89053917 20.3694973   5.05427027  2.54276896  3.12182331  6.34002686\n",
      "  3.73704815  3.41285682  4.46704674 17.6110878  12.54719353  4.5517807\n",
      "  5.78208971  1.97772646  1.25238979  5.39078712 25.14549637  2.88320947\n",
      " 21.19223785  3.27489805  7.26327229  3.18983698  1.96238136  1.38937473\n",
      "  4.59362221 14.7101593   2.54423285  9.1212368  15.94369411  6.66978598\n",
      "  3.81477189  6.75317287  2.45420361  1.1900121   4.2264719   2.61635947\n",
      " 11.75151634  4.4755826  38.69303894  8.60348988  6.27395964  4.32161951\n",
      "  4.75438929  8.2489481   2.62571454  5.46121979  2.80836821  5.90060759\n",
      "  3.22566462  9.15551376  1.6782887  10.10511303  1.7985996   5.75336552\n",
      " 38.15942001  5.56323528  2.00182652  5.47900152  1.72855246 25.54022789\n",
      "  3.04266691 22.62639236  4.17242479  1.19142187 11.74977875  2.95222163\n",
      " 35.93804932 16.87358856 11.34962559  4.78023529 30.30229378 26.36220551\n",
      " 38.71212769  8.78839874 12.26322556 21.50357056 19.43795395 13.75074673\n",
      "  2.55910206 11.0300827  25.73993492 11.93992043 21.97851181 21.43215561\n",
      " 12.66245174 15.39515877 29.95907021 10.76327419  5.78286076  1.22333562\n",
      "  2.59265423 17.16071892 13.58534622 27.46110916  1.97631216  9.75557613\n",
      "  3.52582884  5.25801849 34.49629974  3.52302957  2.82467508 16.75454903\n",
      "  4.78749895 17.81497765 17.7619648   2.74985909 21.10069656 20.98159409\n",
      "  3.09508848  4.08878136  3.77765203  4.55397987  6.62582874 17.94306183\n",
      "  6.48368835  5.16846228 11.0861721   6.24135542  3.33599043  4.79302406\n",
      " 52.03574753  6.21736002  3.25556755 32.30860138  2.40652013 13.14139175\n",
      " 21.54873276  2.33154964  6.31169271  1.88411212 39.42868042 24.45903206\n",
      "  2.96525574  2.68937182  7.03191376  1.82090056  2.48969555  2.28921819\n",
      " 18.67610168 21.3117466   2.84839129  6.34870338 23.75906563  2.60741878\n",
      " 26.20537186  2.04823804  8.1318531   2.15470481  2.51405716  7.8149395\n",
      "  2.61959124  7.6020689  13.71078777  3.51239538 41.04473114  3.74839497\n",
      " 17.44910622 17.07689857  2.79011798  2.3353312  25.2185154   1.99875093\n",
      "  5.21344709 20.72693062  7.44008255  5.34226084  2.8535161  19.65434647\n",
      " 13.26171303  6.08706188  3.13552952  5.37235117  2.14621806 24.14072227\n",
      " 22.08681107  5.94940186  2.6619792   2.44589734  9.29009151  5.1885438\n",
      "  8.48782635 10.33963108  7.62085819 26.45166779  2.72569346 14.05698299\n",
      "  2.85389137  5.61034393  3.07322216 11.73434448  4.16841841  5.9192605\n",
      "  7.27329779  3.00247025  7.23963547  9.47468281  3.97883534  3.20365596\n",
      " 20.42623138]\n"
     ]
    }
   ],
   "source": [
    "print(rmsds)"
   ]
  },
  {
   "cell_type": "code",
   "execution_count": 20,
   "metadata": {},
   "outputs": [
    {
     "data": {
      "text/plain": [
       "70.42383575439453"
      ]
     },
     "execution_count": 20,
     "metadata": {},
     "output_type": "execute_result"
    }
   ],
   "source": [
    "rmsds.max()"
   ]
  },
  {
   "cell_type": "code",
   "execution_count": null,
   "metadata": {},
   "outputs": [],
   "source": []
  },
  {
   "cell_type": "code",
   "execution_count": null,
   "metadata": {},
   "outputs": [],
   "source": [
    "true_graph, pred_graph = val_dataset_without_noise[rmsds.argmin()], samples_val[rmsds.argmin()]\n",
    "true_xyz = true_graph[\"ligand\"].pos\n",
    "pred_xyz = pred_graph[\"ligand\"].pos\n",
    "\n",
    "print(compute_rmsd(true_xyz, pred_xyz))\n",
    "\n",
    "#dist_from_com = torch.norm(true_xyz-true_xyz.mean(0), p=2, dim=1)\n",
    "dist_from_com = torch.norm(pred_xyz-pred_xyz.mean(0), p=2, dim=1)\n",
    "\n",
    "\n",
    "square_deviation_per_residue = ((true_xyz-pred_xyz)**2).sum(-1)\n",
    "plt.scatter(dist_from_com, square_deviation_per_residue, s=5)\n",
    "plt.show()\n"
   ]
  },
  {
   "cell_type": "code",
   "execution_count": 56,
   "metadata": {},
   "outputs": [
    {
     "name": "stderr",
     "output_type": "stream",
     "text": [
      "985it [00:00, 1442.29it/s]\n"
     ]
    },
    {
     "name": "stdout",
     "output_type": "stream",
     "text": [
      "(985,)\n",
      "(985,)\n",
      "(985,)\n",
      "(985,)\n",
      "(985,)\n"
     ]
    }
   ],
   "source": [
    "num_residues = []\n",
    "average_dist_from_com = []\n",
    "max_dist_from_com = []\n",
    "std_dist_from_com = []\n",
    "sum_dist_from_com = []\n",
    "for true_graph, pred_graph in tqdm(zip(val_dataset_without_noise, samples_val)):\n",
    "    \n",
    "    true_xyz = true_graph[\"ligand\"].pos\n",
    "    pred_xyz = pred_graph[\"ligand\"].pos\n",
    "    \n",
    "    num_residues.append(true_xyz.shape[0])\n",
    "    \n",
    "    dist_from_com = torch.norm(true_xyz-true_xyz.mean(0), p=2, dim=1)\n",
    "    average_dist_from_com.append(dist_from_com.mean())\n",
    "    max_dist_from_com.append(dist_from_com.max())\n",
    "    std_dist_from_com.append(dist_from_com.std())\n",
    "    sum_dist_from_com.append(dist_from_com.sum())\n",
    "    \n",
    "    #dist_from_com_pred = torch.norm(pred_xyz-pred_xyz.mean(0), p=2, dim=1)\n",
    "    #print(f'MEAN. true: {dist_from_com.mean()}. pred: {dist_from_com_pred.mean()}')\n",
    "    #print(f'MAX. true: {dist_from_com.max()}. pred: {dist_from_com_pred.max()}')\n",
    "    \n",
    "    #square_deviation_per_residue = ((true_xyz-pred_xyz)**2).sum(-1)\n",
    "    #plt.scatter(dist_from_com, square_deviation_per_residue, s=5)\n",
    "    #plt.show()\n",
    "    #print(true_xyz.shape)\n",
    "    #print(pred_xyz.shape)\n",
    "    #break\n",
    "num_residues = np.array(num_residues)\n",
    "average_dist_from_com = np.array(average_dist_from_com)\n",
    "max_dist_from_com = np.array(max_dist_from_com)\n",
    "std_dist_from_com = np.array(std_dist_from_com)\n",
    "sum_dist_from_com = np.array(sum_dist_from_com)\n",
    "print(num_residues.shape)\n",
    "print(average_dist_from_com.shape)\n",
    "print(max_dist_from_com.shape)\n",
    "print(std_dist_from_com.shape)\n",
    "print(sum_dist_from_com.shape)"
   ]
  },
  {
   "cell_type": "code",
   "execution_count": 36,
   "metadata": {},
   "outputs": [
    {
     "data": {
      "image/png": "[encoded data removed]",
      "text/plain": [
       "<Figure size 432x288 with 1 Axes>"
      ]
     },
     "metadata": {
      "needs_background": "light"
     },
     "output_type": "display_data"
    }
   ],
   "source": [
    "plt.scatter(num_residues, rmsds, s=5)\n",
    "plt.title(\"medium model trained for 100 epochs on DIPS\")\n",
    "plt.xlabel(\"number of residues per ligand\")\n",
    "plt.ylabel(\"RMSD\")\n",
    "plt.show()"
   ]
  },
  {
   "cell_type": "code",
   "execution_count": 38,
   "metadata": {},
   "outputs": [
    {
     "data": {
      "image/png": "[encoded data removed]",
      "text/plain": [
       "<Figure size 432x288 with 1 Axes>"
      ]
     },
     "metadata": {
      "needs_background": "light"
     },
     "output_type": "display_data"
    }
   ],
   "source": [
    "plt.scatter(average_dist_from_com, rmsds, s=5)\n",
    "plt.title(\"medium model trained for 100 epochs on DIPS\")\n",
    "plt.xlabel(\"Average L2 distance of residues from their COM\")\n",
    "plt.ylabel(\"RMSD\")\n",
    "plt.show()"
   ]
  },
  {
   "cell_type": "code",
   "execution_count": 39,
   "metadata": {},
   "outputs": [
    {
     "data": {
      "image/png": "[encoded data removed]",
      "text/plain": [
       "<Figure size 432x288 with 1 Axes>"
      ]
     },
     "metadata": {
      "needs_background": "light"
     },
     "output_type": "display_data"
    }
   ],
   "source": [
    "plt.scatter(max_dist_from_com, rmsds, s=5)\n",
    "plt.title(\"medium model trained for 100 epochs on DIPS\")\n",
    "plt.xlabel(\"Max L2 distance of residues from their COM\")\n",
    "plt.ylabel(\"RMSD\")\n",
    "plt.show()"
   ]
  },
  {
   "cell_type": "code",
   "execution_count": 55,
   "metadata": {
    "scrolled": true
   },
   "outputs": [
    {
     "data": {
      "image/png": "[encoded data removed]",
      "text/plain": [
       "<Figure size 432x288 with 1 Axes>"
      ]
     },
     "metadata": {
      "needs_background": "light"
     },
     "output_type": "display_data"
    }
   ],
   "source": [
    "plt.scatter(std_dist_from_com, rmsds, s=5)\n",
    "plt.title(\"medium model trained for 100 epochs on DIPS\")\n",
    "plt.xlabel(\"STD L2 distance of residues from their COM\")\n",
    "plt.ylabel(\"RMSD\")\n",
    "plt.show()"
   ]
  },
  {
   "cell_type": "code",
   "execution_count": 57,
   "metadata": {},
   "outputs": [
    {
     "data": {
      "image/png": "[encoded data removed]",
      "text/plain": [
       "<Figure size 432x288 with 1 Axes>"
      ]
     },
     "metadata": {
      "needs_background": "light"
     },
     "output_type": "display_data"
    }
   ],
   "source": [
    "plt.scatter(sum_dist_from_com, rmsds, s=5)\n",
    "plt.title(\"medium model trained for 100 epochs on DIPS\")\n",
    "plt.xlabel(\"SUM L2 distance of residues from their COM\")\n",
    "plt.ylabel(\"RMSD\")\n",
    "plt.show()"
   ]
  },
  {
   "cell_type": "code",
   "execution_count": null,
   "metadata": {},
   "outputs": [],
   "source": []
  },
  {
   "cell_type": "code",
   "execution_count": 42,
   "metadata": {},
   "outputs": [
    {
     "name": "stderr",
     "output_type": "stream",
     "text": [
      "[autoreload of sample failed: Traceback (most recent call last):\n",
      "  File \"/data/rsg/nlp/sdobers/miniconda3/envs/diffdock_protein/lib/python3.10/site-packages/IPython/extensions/autoreload.py\", line 257, in check\n",
      "    superreload(m, reload, self.old_objects)\n",
      "  File \"/data/rsg/nlp/sdobers/miniconda3/envs/diffdock_protein/lib/python3.10/site-packages/IPython/extensions/autoreload.py\", line 455, in superreload\n",
      "    module = reload(module)\n",
      "  File \"/data/rsg/nlp/sdobers/miniconda3/envs/diffdock_protein/lib/python3.10/importlib/__init__.py\", line 168, in reload\n",
      "    raise ModuleNotFoundError(f\"spec not found for the module {name!r}\", name=name)\n",
      "ModuleNotFoundError: spec not found for the module 'sample'\n",
      "]\n"
     ]
    }
   ],
   "source": [
    "from torch_geometric.loader import DataLoader^"
   ]
  },
  {
   "cell_type": "code",
   "execution_count": 44,
   "metadata": {},
   "outputs": [],
   "source": [
    "test_loader = DataLoader(val_loader, batch_size=args.batch_size)"
   ]
  },
  {
   "cell_type": "code",
   "execution_count": 54,
   "metadata": {},
   "outputs": [
    {
     "name": "stdout",
     "output_type": "stream",
     "text": [
      "cuda:1\n"
     ]
    }
   ],
   "source": [
    "for complex_graphs in test_loader:\n",
    "    complex_graphs = complex_graphs.cuda()\n",
    "    print(complex_graphs[\"ligand\"]['node_t']['tr'].device)\n",
    "    break"
   ]
  },
  {
   "cell_type": "code",
   "execution_count": null,
   "metadata": {},
   "outputs": [],
   "source": []
  }
 ],
 "metadata": {
  "kernelspec": {
   "display_name": "Python 3 (ipykernel)",
   "language": "python",
   "name": "python3"
  },
  "language_info": {
   "codemirror_mode": {
    "name": "ipython",
    "version": 3
   },
   "file_extension": ".py",
   "mimetype": "text/x-python",
   "name": "python",
   "nbconvert_exporter": "python",
   "pygments_lexer": "ipython3",
   "version": "3.10.8"
  },
  "vscode": {
   "interpreter": {
    "hash": "e05d7295fa6cad4a21e4fe3e74879e5399752387a2e5cfb08277f6b68f139a78"
   }
  }
 },
 "nbformat": 4,
 "nbformat_minor": 2
}
