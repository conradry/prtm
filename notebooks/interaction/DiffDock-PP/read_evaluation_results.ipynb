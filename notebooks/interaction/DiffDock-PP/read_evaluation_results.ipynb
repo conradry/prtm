{
 "cells": [
  {
   "cell_type": "code",
   "execution_count": 1,
   "id": "88d66720",
   "metadata": {},
   "outputs": [],
   "source": [
    "%load_ext autoreload\n",
    "%autoreload 2"
   ]
  },
  {
   "cell_type": "code",
   "execution_count": 2,
   "id": "dbb79589",
   "metadata": {},
   "outputs": [],
   "source": [
    "import os\n",
    "import pickle\n",
    "\n",
    "from seaborn import histplot\n",
    "import numpy as np"
   ]
  },
  {
   "cell_type": "code",
   "execution_count": 3,
   "id": "a80696ed",
   "metadata": {},
   "outputs": [],
   "source": [
    "os.chdir('/data/rsg/nlp/sdobers/amine/diffdock-protein/src')\n",
    "\n",
    "from evaluation.compute_rmsd import evaluate_all_rmsds, get_rmsd_summary"
   ]
  },
  {
   "cell_type": "markdown",
   "id": "a62c1448",
   "metadata": {},
   "source": [
    "### define function"
   ]
  },
  {
   "cell_type": "code",
   "execution_count": 4,
   "id": "3bdcddcf",
   "metadata": {},
   "outputs": [],
   "source": [
    "def read_eval_results(path_to_pkl):\n",
    "    with open(path_to_pkl, \"rb\") as f:\n",
    "        results = pickle.load(f)\n",
    "\n",
    "    gt = [res[0][0] for res in results] # first elemnt is gt: as tuple (graph, conf_score)\n",
    "    best_pred = [res[1][0] for res in results] # second elemnt is most confident prediction: as tuple (graph, conf_score)\n",
    "\n",
    "    meter = evaluate_all_rmsds(gt, best_pred)\n",
    "    \n",
    "    return meter\n"
   ]
  },
  {
   "cell_type": "code",
   "execution_count": 5,
   "id": "f7ad51d6",
   "metadata": {},
   "outputs": [],
   "source": [
    "def get_perfect_selection(path_to_pkl, topN=None):\n",
    "    \"\"\"\n",
    "        if topN is None then perfect selction. else look for best result in topN confidenct predictions\n",
    "    \"\"\"\n",
    "    with open(path_to_pkl, \"rb\") as f:\n",
    "        results = pickle.load(f)\n",
    "    \n",
    "    n_complexes = len(results)\n",
    "    \n",
    "    if topN is None:\n",
    "        topN = len(results[0]) - 1\n",
    "    \n",
    "    complex_rmsds_perfect_selection = np.full(n_complexes, np.inf)\n",
    "    interface_rmsds_perfect_selection = np.full(n_complexes, np.inf)\n",
    "    gt = [res[0][0] for res in results] # first elemnt is gt: as tuple (graph, conf_score)\n",
    "    \n",
    "    for i in range(1, topN+1):\n",
    "        pred_i = [res[i][0] for res in results] # second elemnt is most confident prediction: as tuple (graph, conf_score)\n",
    "        meter = evaluate_all_rmsds(gt, pred_i)\n",
    "\n",
    "        complex_rmsds_i = np.array(meter.complex_rmsd_list)\n",
    "        interface_rmsds_i = np.array(meter.interface_rmsd_list)\n",
    "                \n",
    "        complex_rmsds_perfect_selection = np.minimum(complex_rmsds_perfect_selection, complex_rmsds_i)\n",
    "        interface_rmsds_perfect_selection = np.minimum(interface_rmsds_perfect_selection, interface_rmsds_i)\n",
    "        \n",
    "    print(f'Complex RMSD perfect selection: {get_rmsd_summary(complex_rmsds_perfect_selection)}')\n",
    "    print(f'Interface RMSD perfect selection: {get_rmsd_summary(interface_rmsds_perfect_selection)}')\n",
    "    return complex_rmsds_perfect_selection, interface_rmsds_perfect_selection\n"
   ]
  },
  {
   "cell_type": "markdown",
   "id": "840d819a",
   "metadata": {},
   "source": [
    "### DIPS - 40 samples - Large"
   ]
  },
  {
   "cell_type": "code",
   "execution_count": 16,
   "id": "d994ceb3",
   "metadata": {},
   "outputs": [],
   "source": [
    "# old: January\n",
    "#PATH_dips_40s_large = '/data/rsg/nlp/sdobers/cedrik/diffdock-protein/storage/dips_esm_inference_40samples_large.pkl'\n",
    "\n",
    "# 06.02.2023\n",
    "PATH_dips_40s_large = '/data/rsg/nlp/sdobers/amine/diffdock-protein/storage/largest_model_140_epochs/dips_test_40s_lowtemp.pkl'\n"
   ]
  },
  {
   "cell_type": "code",
   "execution_count": 7,
   "id": "a088c976",
   "metadata": {},
   "outputs": [],
   "source": [
    "meter_dips_40s_large = read_eval_results(PATH_dips_40s_large)"
   ]
  },
  {
   "cell_type": "code",
   "execution_count": 8,
   "id": "088cbaeb",
   "metadata": {},
   "outputs": [
    {
     "name": "stdout",
     "output_type": "stream",
     "text": [
      "ligand_rmsd_summarized: {'mean': 26.74414, 'median': 13.107149, 'std': 28.801924, 'lt1': 10.0, 'lt2': 24.0, 'lt5': 42.0, 'lt10': 48.0}\n",
      "complex_rmsd_summarized: {'mean': 10.330984311226638, 'median': 4.8471291065216064, 'std': 10.697554321798147, 'lt1': 27.0, 'lt2': 42.0, 'lt5': 50.0, 'lt10': 55.0}\n",
      "interface_rmsd_summarized: {'mean': 8.690324251985599, 'median': 4.226316452026367, 'std': 10.477213459163817, 'lt1': 34.0, 'lt2': 45.0, 'lt5': 52.0, 'lt10': 63.0}\n"
     ]
    }
   ],
   "source": [
    "_ = meter_dips_40s_large.summarize()"
   ]
  },
  {
   "cell_type": "code",
   "execution_count": null,
   "id": "7d6b53da",
   "metadata": {},
   "outputs": [],
   "source": [
    "histplot(data=meter_dips_40s_large.complex_rmsd_list, binwidth=1).set(title='DIPS Large - 40 samples', xlabel='Complex RMSD')\n"
   ]
  },
  {
   "cell_type": "code",
   "execution_count": 9,
   "id": "4f9fa4d2",
   "metadata": {},
   "outputs": [
    {
     "name": "stdout",
     "output_type": "stream",
     "text": [
      "Complex RMSD perfect selection: {'mean': 3.7951642025967876, 'median': 0.6741219758987427, 'std': 6.599484358205282, 'lt1': 60.0, 'lt2': 71.0, 'lt5': 79.0, 'lt10': 86.0}\n",
      "Interface RMSD perfect selection: {'mean': 2.7353904272554512, 'median': 0.5395808517932892, 'std': 5.286926145160148, 'lt1': 65.0, 'lt2': 72.0, 'lt5': 82.0, 'lt10': 91.0}\n"
     ]
    }
   ],
   "source": [
    "# oracle\n",
    "_ = get_perfect_selection(PATH_dips_40s_large, topN=None)"
   ]
  },
  {
   "cell_type": "code",
   "execution_count": null,
   "id": "9e6b04ed",
   "metadata": {},
   "outputs": [],
   "source": [
    "_ = get_perfect_selection(PATH_dips_40s_large, topN=5)"
   ]
  },
  {
   "cell_type": "code",
   "execution_count": null,
   "id": "d9d23da8",
   "metadata": {},
   "outputs": [],
   "source": [
    "_ = get_perfect_selection(PATH_dips_40s_large, topN=10)"
   ]
  },
  {
   "cell_type": "markdown",
   "id": "b0ab52dd",
   "metadata": {},
   "source": [
    "### DIPS - 1 sample - Large"
   ]
  },
  {
   "cell_type": "code",
   "execution_count": 14,
   "id": "10449f91",
   "metadata": {},
   "outputs": [],
   "source": [
    "PATH_dips_1s_large = '/data/rsg/nlp/sdobers/amine/diffdock-protein/storage/largest_model_140_epochs/dips_test_1s_lowtemp.pkl'\n"
   ]
  },
  {
   "cell_type": "code",
   "execution_count": 17,
   "id": "e8811a1f",
   "metadata": {},
   "outputs": [],
   "source": [
    "# to get gt\n",
    "with open(PATH_dips_40s_large, \"rb\") as f:\n",
    "    results_40s = pickle.load(f)\n",
    "gt = [res[0][0] for res in results_40s]"
   ]
  },
  {
   "cell_type": "code",
   "execution_count": 6,
   "id": "05ba533c",
   "metadata": {},
   "outputs": [],
   "source": [
    "def get_averaged_1s_performance(path_to_pkl, gt):\n",
    "    with open(path_to_pkl, \"rb\") as f:\n",
    "        results_1s = pickle.load(f)\n",
    "        \n",
    "    lig_rmsd = []\n",
    "    complex_rmsd = []\n",
    "    interface_rmsd = []\n",
    "    for res in results_1s:\n",
    "        meter = evaluate_all_rmsds(gt, res)\n",
    "        ligand_rmsd_summarized, complex_rmsd_summarized, interface_rmsd_summarized = meter.summarize(verbose=False)\n",
    "        lig_rmsd.append(ligand_rmsd_summarized)\n",
    "        complex_rmsd.append(complex_rmsd_summarized)\n",
    "        interface_rmsd.append(interface_rmsd_summarized)\n",
    "\n",
    "    print('Complex RMSD:')\n",
    "    for k in complex_rmsd[0].keys():\n",
    "        print(f'{k}:')\n",
    "        print(np.mean([d[k] for d in complex_rmsd]))\n",
    "        print('----')\n",
    "\n",
    "    print('Interface RMSD:')\n",
    "    for k in interface_rmsd[0].keys():\n",
    "        print(f'{k}:')\n",
    "        print(np.mean([d[k] for d in interface_rmsd]))\n",
    "        print('----')"
   ]
  },
  {
   "cell_type": "code",
   "execution_count": 29,
   "id": "07e8a147",
   "metadata": {},
   "outputs": [
    {
     "name": "stdout",
     "output_type": "stream",
     "text": [
      "Complex RMSD:\n",
      "mean:\n",
      "12.425067660747656\n",
      "----\n",
      "median:\n",
      "11.950200536191284\n",
      "----\n",
      "std:\n",
      "12.565292784763955\n",
      "----\n",
      "lt1:\n",
      "26.4\n",
      "----\n",
      "lt2:\n",
      "34.2\n",
      "----\n",
      "lt5:\n",
      "41.0\n",
      "----\n",
      "lt10:\n",
      "45.6\n",
      "----\n",
      "Interface RMSD:\n",
      "mean:\n",
      "10.730562676544576\n",
      "----\n",
      "median:\n",
      "8.60205808311513\n",
      "----\n",
      "std:\n",
      "12.46997453576611\n",
      "----\n",
      "lt1:\n",
      "28.2\n",
      "----\n",
      "lt2:\n",
      "35.8\n",
      "----\n",
      "lt5:\n",
      "41.6\n",
      "----\n",
      "lt10:\n",
      "52.8\n",
      "----\n"
     ]
    }
   ],
   "source": [
    "get_averaged_1s_performance(PATH_dips_1s_large, gt)"
   ]
  },
  {
   "cell_type": "markdown",
   "id": "f1e7e927",
   "metadata": {},
   "source": [
    "### DIPS - 40 samples mirrored - large"
   ]
  },
  {
   "cell_type": "code",
   "execution_count": 6,
   "id": "2c1eb9b0",
   "metadata": {},
   "outputs": [],
   "source": [
    "PATH_dips_40s_mirrored_large = '/data/rsg/nlp/sdobers/amine/diffdock-protein/storage/dips_mirror_esm_inference_40samples_large.pkl'\n"
   ]
  },
  {
   "cell_type": "code",
   "execution_count": 8,
   "id": "5593359d",
   "metadata": {},
   "outputs": [],
   "source": [
    "meter_dips_40s_mirrored_large = read_eval_results(PATH_dips_40s_mirrored_large)"
   ]
  },
  {
   "cell_type": "code",
   "execution_count": 9,
   "id": "b50485b0",
   "metadata": {},
   "outputs": [
    {
     "name": "stdout",
     "output_type": "stream",
     "text": [
      "ligand_rmsd_summarized: {'mean': 36.09284, 'median': 35.878654, 'std': 25.483225, 'lt1': 2.0, 'lt2': 11.0, 'lt5': 18.0, 'lt10': 22.0}\n",
      "complex_rmsd_summarized: {'mean': 15.763235607879546, 'median': 16.642648696899414, 'std': 10.15655816895849, 'lt1': 13.0, 'lt2': 18.0, 'lt5': 22.0, 'lt10': 31.0}\n",
      "interface_rmsd_summarized: {'mean': 16.759245638095347, 'median': 16.365045070648193, 'std': 12.70789654376828, 'lt1': 16.0, 'lt2': 20.0, 'lt5': 22.0, 'lt10': 35.0}\n"
     ]
    }
   ],
   "source": [
    "_ = meter_dips_40s_mirrored_large.summarize()"
   ]
  },
  {
   "cell_type": "markdown",
   "id": "4ba5e76e",
   "metadata": {},
   "source": [
    "### DIPS - 10 samples - Large"
   ]
  },
  {
   "cell_type": "code",
   "execution_count": 15,
   "id": "147e290b",
   "metadata": {},
   "outputs": [],
   "source": [
    "PATH_dips_10s_large = '/data/rsg/nlp/sdobers/cedrik/diffdock-protein/storage/dips_esm_inference_10samples_large.pkl'"
   ]
  },
  {
   "cell_type": "code",
   "execution_count": 16,
   "id": "063ad250",
   "metadata": {},
   "outputs": [],
   "source": [
    "meter_dips_10s_large = read_eval_results(PATH_dips_10s_large)"
   ]
  },
  {
   "cell_type": "code",
   "execution_count": 17,
   "id": "b6144cd5",
   "metadata": {},
   "outputs": [
    {
     "name": "stdout",
     "output_type": "stream",
     "text": [
      "ligand_rmsd_summarized: {'mean': 32.97904, 'median': 33.13714, 'std': 29.957193, 'lt1': 7.0, 'lt2': 17.0, 'lt5': 31.0, 'lt10': 38.0}\n",
      "complex_rmsd_summarized: {'mean': 12.876473048634935, 'median': 12.593231201171875, 'std': 11.481786117629763, 'lt1': 23.0, 'lt2': 31.0, 'lt5': 40.0, 'lt10': 46.0}\n",
      "interface_rmsd_summarized: {'mean': 11.047447171517533, 'median': 10.044833183288574, 'std': 11.139125768275223, 'lt1': 23.0, 'lt2': 35.0, 'lt5': 42.0, 'lt10': 50.0}\n"
     ]
    }
   ],
   "source": [
    "_ = meter_dips_10s_large.summarize()"
   ]
  },
  {
   "cell_type": "code",
   "execution_count": 18,
   "id": "bcd91a61",
   "metadata": {},
   "outputs": [
    {
     "data": {
      "text/plain": [
       "[Text(0.5, 1.0, 'DIPS Large - 10 samples'), Text(0.5, 0, 'Complex RMSD')]"
      ]
     },
     "execution_count": 18,
     "metadata": {},
     "output_type": "execute_result"
    },
    {
     "data": {
      "image/png": "[encoded data removed]",
      "text/plain": [
       "<Figure size 640x480 with 1 Axes>"
      ]
     },
     "metadata": {},
     "output_type": "display_data"
    }
   ],
   "source": [
    "histplot(data=meter_dips_10s_large.complex_rmsd_list, binwidth=1).set(title='DIPS Large - 10 samples', xlabel='Complex RMSD')\n"
   ]
  },
  {
   "cell_type": "markdown",
   "id": "6ccc5309",
   "metadata": {},
   "source": [
    "### DIPS - 40 samples - Medium"
   ]
  },
  {
   "cell_type": "code",
   "execution_count": 10,
   "id": "e26c6dd6",
   "metadata": {},
   "outputs": [],
   "source": [
    "PATH_dips_40s_medium = '/data/rsg/nlp/sdobers/cedrik/diffdock-protein/storage/dips_esm_inference_40samples_medium.pkl'"
   ]
  },
  {
   "cell_type": "code",
   "execution_count": 11,
   "id": "1037e4ec",
   "metadata": {},
   "outputs": [],
   "source": [
    "meter_dips_40s_medium = read_eval_results(PATH_dips_40s_medium)"
   ]
  },
  {
   "cell_type": "code",
   "execution_count": 12,
   "id": "4b351190",
   "metadata": {},
   "outputs": [
    {
     "name": "stdout",
     "output_type": "stream",
     "text": [
      "ligand_rmsd_summarized: {'mean': 32.990433, 'median': 33.898064, 'std': 30.310276, 'lt1': 3.0, 'lt2': 17.0, 'lt5': 35.0, 'lt10': 40.0}\n",
      "complex_rmsd_summarized: {'mean': 12.747284137310643, 'median': 12.340553283691406, 'std': 11.268931665648982, 'lt1': 23.0, 'lt2': 35.0, 'lt5': 40.0, 'lt10': 45.0}\n",
      "interface_rmsd_summarized: {'mean': 11.375788321804016, 'median': 9.96599531173706, 'std': 11.749855493980782, 'lt1': 27.0, 'lt2': 37.0, 'lt5': 40.0, 'lt10': 50.0}\n"
     ]
    }
   ],
   "source": [
    "_ = meter_dips_40s_medium.summarize()"
   ]
  },
  {
   "cell_type": "code",
   "execution_count": 13,
   "id": "d276881e",
   "metadata": {},
   "outputs": [
    {
     "data": {
      "text/plain": [
       "[Text(0.5, 1.0, 'DIPS Medium - 40 samples'), Text(0.5, 0, 'Complex RMSD')]"
      ]
     },
     "execution_count": 13,
     "metadata": {},
     "output_type": "execute_result"
    },
    {
     "data": {
      "image/png": "[encoded data removed]",
      "text/plain": [
       "<Figure size 640x480 with 1 Axes>"
      ]
     },
     "metadata": {},
     "output_type": "display_data"
    }
   ],
   "source": [
    "histplot(data=meter_dips_40s_medium.complex_rmsd_list, binwidth=1).set(title='DIPS Medium - 40 samples', xlabel='Complex RMSD')\n"
   ]
  },
  {
   "cell_type": "markdown",
   "id": "86699451",
   "metadata": {},
   "source": [
    "### DB5 - bound - 40 samples - Large"
   ]
  },
  {
   "cell_type": "code",
   "execution_count": 25,
   "id": "aaf99542",
   "metadata": {},
   "outputs": [],
   "source": [
    "PATH_db5_bound_40s_large = '/data/rsg/nlp/sdobers/amine/diffdock-protein/storage/db5_bound_esm_inference_40samples_large.pkl'\n"
   ]
  },
  {
   "cell_type": "code",
   "execution_count": 26,
   "id": "a2f9341b",
   "metadata": {},
   "outputs": [],
   "source": [
    "meter_db5_bound_40s_large = read_eval_results(PATH_db5_bound_40s_large)"
   ]
  },
  {
   "cell_type": "code",
   "execution_count": 27,
   "id": "16adbdc0",
   "metadata": {},
   "outputs": [
    {
     "name": "stdout",
     "output_type": "stream",
     "text": [
      "ligand_rmsd_summarized: {'mean': 55.954212, 'median': 52.766087, 'std': 25.952457, 'lt1': 0.0, 'lt2': 0.0, 'lt5': 0.0, 'lt10': 4.0}\n",
      "complex_rmsd_summarized: {'mean': 20.046983742374067, 'median': 18.188993453979492, 'std': 8.881557478330702, 'lt1': 0.0, 'lt2': 0.0, 'lt5': 4.0, 'lt10': 8.0}\n",
      "interface_rmsd_summarized: {'mean': 21.781913623296663, 'median': 19.295351028442383, 'std': 10.452768944146692, 'lt1': 0.0, 'lt2': 0.0, 'lt5': 0.0, 'lt10': 8.0}\n"
     ]
    }
   ],
   "source": [
    "_ = meter_db5_bound_40s_large.summarize()"
   ]
  },
  {
   "cell_type": "markdown",
   "id": "aa92888a",
   "metadata": {},
   "source": [
    "##### perfect selection"
   ]
  },
  {
   "cell_type": "code",
   "execution_count": 40,
   "id": "569fbae1",
   "metadata": {},
   "outputs": [
    {
     "name": "stdout",
     "output_type": "stream",
     "text": [
      "Complex RMSD perfect selection: {'mean': 8.064637537002563, 'median': 7.4175310134887695, 'std': 3.442530585250299, 'lt1': 0.0, 'lt2': 0.0, 'lt5': 20.0, 'lt10': 72.0}\n",
      "Interface RMSD perfect selection: {'mean': 7.570098815925768, 'median': 7.525291442871094, 'std': 2.918526779127169, 'lt1': 0.0, 'lt2': 0.0, 'lt5': 20.0, 'lt10': 80.0}\n"
     ]
    }
   ],
   "source": [
    "_ = get_perfect_selection(PATH_db5_bound_40s_large, None)"
   ]
  },
  {
   "cell_type": "markdown",
   "id": "c634cad2",
   "metadata": {},
   "source": [
    "### DB5 - unbound - 40 samples - Large"
   ]
  },
  {
   "cell_type": "code",
   "execution_count": 13,
   "id": "623edfc0",
   "metadata": {},
   "outputs": [],
   "source": [
    "# old January\n",
    "#PATH_db5_unbound_40s_large = '/data/rsg/nlp/sdobers/amine/diffdock-protein/storage/db5_unbound_esm_inference_40samples_large.pkl'\n",
    "\n",
    "# 06.02.2023\n",
    "PATH_db5_unbound_40s_large = '/data/rsg/nlp/sdobers/amine/diffdock-protein/storage/largest_model_140_epochs/db5_unbound_test_40s_lowtemp.pkl'\n"
   ]
  },
  {
   "cell_type": "code",
   "execution_count": 14,
   "id": "61735d41",
   "metadata": {},
   "outputs": [],
   "source": [
    "meter_db5_unbound_40s_large = read_eval_results(PATH_db5_unbound_40s_large)"
   ]
  },
  {
   "cell_type": "code",
   "execution_count": 15,
   "id": "2308d91f",
   "metadata": {},
   "outputs": [
    {
     "name": "stdout",
     "output_type": "stream",
     "text": [
      "ligand_rmsd_summarized: {'mean': 46.30551, 'median': 43.038536, 'std': 17.300772, 'lt1': 0.0, 'lt2': 0.0, 'lt5': 0.0, 'lt10': 0.0}\n",
      "complex_rmsd_summarized: {'mean': 17.81402389629212, 'median': 18.95971548544824, 'std': 6.169919481772681, 'lt1': 0.0, 'lt2': 0.0, 'lt5': 0.0, 'lt10': 12.0}\n",
      "interface_rmsd_summarized: {'mean': 19.24510439849215, 'median': 18.23585114659313, 'std': 7.513456009040927, 'lt1': 0.0, 'lt2': 0.0, 'lt5': 0.0, 'lt10': 8.0}\n"
     ]
    }
   ],
   "source": [
    "_ = meter_db5_unbound_40s_large.summarize()"
   ]
  },
  {
   "cell_type": "markdown",
   "id": "dd0ee00e",
   "metadata": {},
   "source": [
    "##### perfect selection"
   ]
  },
  {
   "cell_type": "code",
   "execution_count": 16,
   "id": "da62572b",
   "metadata": {},
   "outputs": [
    {
     "name": "stdout",
     "output_type": "stream",
     "text": [
      "Complex RMSD perfect selection: {'mean': 10.140596456206913, 'median': 8.831104278564453, 'std': 5.308608007512469, 'lt1': 0.0, 'lt2': 0.0, 'lt5': 16.0, 'lt10': 56.0}\n",
      "Interface RMSD perfect selection: {'mean': 8.859352645349663, 'median': 9.287496566772461, 'std': 3.2350236950471163, 'lt1': 0.0, 'lt2': 0.0, 'lt5': 12.0, 'lt10': 56.0}\n"
     ]
    }
   ],
   "source": [
    "_ = get_perfect_selection(PATH_db5_unbound_40s_large)"
   ]
  },
  {
   "cell_type": "markdown",
   "id": "2ab1d55f",
   "metadata": {},
   "source": [
    "#### 1 sample"
   ]
  },
  {
   "cell_type": "code",
   "execution_count": 17,
   "id": "d1053085",
   "metadata": {},
   "outputs": [],
   "source": [
    "with open(PATH_db5_unbound_40s_large, \"rb\") as f:\n",
    "    results_for_gt = pickle.load(f)\n",
    "\n",
    "gt_db5_unbound = [res[0][0] for res in results_for_gt] # first elemnt is gt: as tuple (graph, conf_score)\n"
   ]
  },
  {
   "cell_type": "code",
   "execution_count": 19,
   "id": "5137c4ef",
   "metadata": {},
   "outputs": [],
   "source": [
    "PATH_db5_unbound_1s_large = '/data/rsg/nlp/sdobers/amine/diffdock-protein/storage/largest_model_140_epochs/db5_unbound_test_1s_lowtemp.pkl'\n"
   ]
  },
  {
   "cell_type": "code",
   "execution_count": 20,
   "id": "4c1cd23c",
   "metadata": {
    "scrolled": true
   },
   "outputs": [
    {
     "name": "stdout",
     "output_type": "stream",
     "text": [
      "Complex RMSD:\n",
      "mean:\n",
      "17.440108851902885\n",
      "----\n",
      "median:\n",
      "16.423452519519252\n",
      "----\n",
      "std:\n",
      "6.860359548345118\n",
      "----\n",
      "lt1:\n",
      "0.0\n",
      "----\n",
      "lt2:\n",
      "0.0\n",
      "----\n",
      "lt5:\n",
      "1.6\n",
      "----\n",
      "lt10:\n",
      "9.6\n",
      "----\n",
      "Interface RMSD:\n",
      "mean:\n",
      "18.765867448359785\n",
      "----\n",
      "median:\n",
      "16.70218733328962\n",
      "----\n",
      "std:\n",
      "8.429249714051489\n",
      "----\n",
      "lt1:\n",
      "0.0\n",
      "----\n",
      "lt2:\n",
      "0.0\n",
      "----\n",
      "lt5:\n",
      "0.0\n",
      "----\n",
      "lt10:\n",
      "12.8\n",
      "----\n"
     ]
    }
   ],
   "source": [
    "get_averaged_1s_performance(PATH_db5_unbound_1s_large, gt_db5_unbound)"
   ]
  },
  {
   "cell_type": "markdown",
   "id": "4d7f8b23",
   "metadata": {},
   "source": [
    "### DB5 - unbound - 40 samples - large - no confidence"
   ]
  },
  {
   "cell_type": "code",
   "execution_count": 4,
   "id": "0a6f53e1",
   "metadata": {},
   "outputs": [],
   "source": [
    "PATH_db5_unbound_40s_large_no_confidence = '/data/rsg/nlp/sdobers/amine/diffdock-protein/storage/db5_unbound_no_confidence_40samples_large.pkl'\n"
   ]
  },
  {
   "cell_type": "code",
   "execution_count": 5,
   "id": "ba6bdcba",
   "metadata": {},
   "outputs": [],
   "source": [
    "with open(PATH_db5_unbound_40s_large_no_confidence, \"rb\") as f:\n",
    "    results_no_confidence = pickle.load(f)\n"
   ]
  },
  {
   "cell_type": "code",
   "execution_count": 7,
   "id": "e47a5e05",
   "metadata": {},
   "outputs": [
    {
     "data": {
      "text/plain": [
       "25"
      ]
     },
     "execution_count": 7,
     "metadata": {},
     "output_type": "execute_result"
    }
   ],
   "source": [
    "len(results_no_confidence[0])"
   ]
  },
  {
   "cell_type": "code",
   "execution_count": 13,
   "id": "19643d5c",
   "metadata": {},
   "outputs": [
    {
     "name": "stdout",
     "output_type": "stream",
     "text": [
      "Run 0:\n",
      "ligand_rmsd_summarized: {'mean': 50.566597, 'median': 53.210545, 'std': 19.846611, 'lt1': 0.0, 'lt2': 0.0, 'lt5': 0.0, 'lt10': 0.0}\n",
      "complex_rmsd_summarized: {'mean': 18.862876583795327, 'median': 19.537390594454823, 'std': 7.1047574110867515, 'lt1': 0.0, 'lt2': 0.0, 'lt5': 0.0, 'lt10': 16.0}\n",
      "interface_rmsd_summarized: {'mean': 19.764899190246837, 'median': 16.68893372455951, 'std': 9.850536790933159, 'lt1': 0.0, 'lt2': 0.0, 'lt5': 0.0, 'lt10': 12.0}\n",
      "-------------------------------\n",
      "Run 1:\n",
      "ligand_rmsd_summarized: {'mean': 51.79168, 'median': 51.418472, 'std': 21.134943, 'lt1': 0.0, 'lt2': 0.0, 'lt5': 0.0, 'lt10': 0.0}\n",
      "complex_rmsd_summarized: {'mean': 18.24651627172168, 'median': 18.018024444580078, 'std': 6.714920844729005, 'lt1': 0.0, 'lt2': 0.0, 'lt5': 0.0, 'lt10': 12.0}\n",
      "interface_rmsd_summarized: {'mean': 20.613041777352226, 'median': 18.958949314260515, 'std': 8.813973609760138, 'lt1': 0.0, 'lt2': 0.0, 'lt5': 0.0, 'lt10': 12.0}\n",
      "-------------------------------\n",
      "Run 2:\n",
      "ligand_rmsd_summarized: {'mean': 48.116627, 'median': 45.849586, 'std': 22.675724, 'lt1': 0.0, 'lt2': 0.0, 'lt5': 0.0, 'lt10': 0.0}\n",
      "complex_rmsd_summarized: {'mean': 17.973338953378615, 'median': 16.756742477416992, 'std': 8.36239223572065, 'lt1': 0.0, 'lt2': 0.0, 'lt5': 4.0, 'lt10': 12.0}\n",
      "interface_rmsd_summarized: {'mean': 19.089601206487774, 'median': 17.1948401677638, 'std': 9.918033043389405, 'lt1': 0.0, 'lt2': 0.0, 'lt5': 0.0, 'lt10': 8.0}\n",
      "-------------------------------\n",
      "Run 3:\n",
      "ligand_rmsd_summarized: {'mean': 52.77806, 'median': 47.810978, 'std': 19.274958, 'lt1': 0.0, 'lt2': 0.0, 'lt5': 0.0, 'lt10': 0.0}\n",
      "complex_rmsd_summarized: {'mean': 19.176522465289754, 'median': 18.755615234375, 'std': 6.972748180839412, 'lt1': 0.0, 'lt2': 0.0, 'lt5': 0.0, 'lt10': 4.0}\n",
      "interface_rmsd_summarized: {'mean': 21.17904694542675, 'median': 19.2808705275627, 'std': 8.95089606908739, 'lt1': 0.0, 'lt2': 0.0, 'lt5': 0.0, 'lt10': 4.0}\n",
      "-------------------------------\n",
      "Run 4:\n",
      "ligand_rmsd_summarized: {'mean': 51.654858, 'median': 51.032913, 'std': 25.705566, 'lt1': 0.0, 'lt2': 0.0, 'lt5': 0.0, 'lt10': 0.0}\n",
      "complex_rmsd_summarized: {'mean': 18.70579092082587, 'median': 18.333887100219727, 'std': 9.283906757061354, 'lt1': 0.0, 'lt2': 0.0, 'lt5': 0.0, 'lt10': 12.0}\n",
      "interface_rmsd_summarized: {'mean': 19.09747684495586, 'median': 15.665909767150879, 'std': 11.755002121584232, 'lt1': 0.0, 'lt2': 0.0, 'lt5': 4.0, 'lt10': 8.0}\n",
      "-------------------------------\n",
      "Complex RMSD perfect selection: {'mean': 12.910798153837282, 'median': 14.306845664978027, 'std': 5.32104410350887, 'lt1': 0.0, 'lt2': 0.0, 'lt5': 4.0, 'lt10': 32.0}\n",
      "-------------------------------\n",
      "Ligand RMSD perfect selection: {'mean': 33.3109309387207, 'median': 32.56085205078125, 'std': 14.006827789491098, 'lt1': 0.0, 'lt2': 0.0, 'lt5': 0.0, 'lt10': 0.0}\n"
     ]
    }
   ],
   "source": [
    "complex_rmsds_perfect_selection = np.full(25, np.inf)\n",
    "ligand_rmsds_perfect_selection = np.full(25, np.inf)\n",
    "for i, results_run_i in enumerate(results_no_confidence):\n",
    "    meter = evaluate_all_rmsds(gt_db5_unbound, results_run_i)\n",
    "    complex_rmsds_perfect_selection = np.minimum(complex_rmsds_perfect_selection, np.array(meter.complex_rmsd_list))\n",
    "    ligand_rmsds_perfect_selection = np.minimum(ligand_rmsds_perfect_selection, np.array(meter.ligand_rmsd_list))\n",
    "\n",
    "    print(f'Run {i}:')\n",
    "    _ = meter.summarize()\n",
    "    print('-------------------------------')\n",
    "print(f'Complex RMSD perfect selection: {get_rmsd_summary(complex_rmsds_perfect_selection)}')\n",
    "print('-------------------------------')\n",
    "print(f'Ligand RMSD perfect selection: {get_rmsd_summary(ligand_rmsds_perfect_selection)}')"
   ]
  },
  {
   "cell_type": "code",
   "execution_count": null,
   "id": "87f269d2",
   "metadata": {},
   "outputs": [],
   "source": []
  }
 ],
 "metadata": {
  "kernelspec": {
   "display_name": "Python 3 (ipykernel)",
   "language": "python",
   "name": "python3"
  },
  "language_info": {
   "codemirror_mode": {
    "name": "ipython",
    "version": 3
   },
   "file_extension": ".py",
   "mimetype": "text/x-python",
   "name": "python",
   "nbconvert_exporter": "python",
   "pygments_lexer": "ipython3",
   "version": "3.10.8"
  }
 },
 "nbformat": 4,
 "nbformat_minor": 5
}
